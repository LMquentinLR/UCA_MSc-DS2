{
 "cells": [
  {
   "cell_type": "markdown",
   "id": "afbf0794",
   "metadata": {},
   "source": [
    "# Nearest Neighbors Algorithms in Euclidean and Metric Spaces: Algorithms and Data Structures\n",
    "\n",
    "**Topological Data Analysis** (TDA):\n",
    "- Study geometric data sets with techniques coming from *topology*/identify statistically relevant subpopulations through topological patterns\n",
    "- applications: Clustering, feature selection"
   ]
  },
  {
   "cell_type": "markdown",
   "id": "7c06da9a",
   "metadata": {},
   "source": [
    "## Topological space\n",
    "\n",
    "> **Definition -- TOPOLOGICAL SPACE**\n",
    ">\n",
    "> A *topological space* is a set $X$ equipped with a *topology*, i.e., a family $\\mathcal{O}$ of subsets of $X$, called the *open sets* of $X$, such that:\n",
    "> 1. the empty set $\\emptyset$ and $X$ are elements of $\\mathcal{O}$ \n",
    "> 2. any union of elements of $\\mathcal{O}$ is an element of $\\mathcal{O}$\n",
    "> 3. any finite intersection of elements of $\\mathcal{O}$ is an element of $\\mathcal{O}$\n",
    "\n",
    "**Note on open sets**: Open sets are the tools that allow to define continuity, which is the primary notion that allow to compare spaces in topology\n",
    "\n",
    "> **Definition -- MAP**\n",
    ">\n",
    "> A map $f: X \\rightarrow Y$ is *continuous* if and only if the pre-image $f^{-1}(O_Y)=\\{x\\in X:f(x)\\in O_Y\\}$ of any open set $O_Y\\subseteq Y$ is an open set of $X$.\n",
    "\n",
    "![open](images/open_set.png)\n",
    "\n",
    "A topology $(\\mathbb{R})=\\{]a, b[, a\\le b \\}$ with a pre-image $f^{-1}(O_Y)=\\{x\\in X: f(x)\\in O_Y\\}$"
   ]
  },
  {
   "cell_type": "markdown",
   "id": "e53b21bd",
   "metadata": {},
   "source": [
    "## Homotopy, Homeomorphy, Isotopy\n",
    "\n",
    "**domain**: $X$\n",
    "**codomain**: $Y$\n",
    "**Maps**: $f_0:X\\rightarrow Y$, $f_1:X\\rightarrow Y$\n",
    "\n",
    "### Homotopic Maps\n",
    "\n",
    "$$\\exists \\text{ continous maps } F:[0, 1] \\times X \\rightarrow Y$$\n",
    "$$\\text{s.t. } \\forall x\\in X, \\,\\, F(0, x) = f_0(x),\\,\\, F(1, x) = f_1(x)$$\n",
    "\n",
    "### Homotopic-equivalent spaces $X$ and $Y$\n",
    "\n",
    "$$\\exists \\text{ continous maps } f: X \\rightarrow Y, g: Y \\rightarrow X$$\n",
    "$$\\text{s.t. } g\\circ f \\text{ homotopic to } id_X,\\,\\, f\\circ g \\text{ homotopic to } id_Y$$\n",
    "\n",
    "### Homeomorphic spaces $X$ and $Y$\n",
    "\n",
    "$$\\exists \\text{ bijection } h: X \\rightarrow Y, h^{-1}: Y \\rightarrow X$$\n",
    "$$\\text{s.t. } h,\\,\\, h^{-1} \\text{ are continuous}$$\n",
    "\n",
    "### Isotopic spaces $X$ and $Y$\n",
    "\n",
    "$$\\exists \\text{ continous map } F: X \\times [0, 1] \\rightarrow Y$$\n",
    "$$\\text{s.t. } F(.,0) = id_X,\\,\\, F(., 1) = Y \\text{ and } \\forall t \\in [0, 1], F(., t) \\text{ is an homeomorphism}$$\n",
    "\n",
    "### Example\n",
    "\n",
    "**domain**: disc \n",
    "**codomain**: point\n",
    "**maps**:\n",
    "\\begin{align}\n",
    "    f &: disc \\rightarrow point \\\\\n",
    "    f &= x\\rightarrow 0 \\\\\n",
    "    g &: point \\rightarrow disc \\\\\n",
    "    g &= 0\\rightarrow 0 \\\\ \\\\\n",
    "    F&:[0, 1]\\times disc \\rightarrow disc \\\\\n",
    "    F(t,x)&=t*x\\text{, t=0: identity element, t=1: identity function}\n",
    "\\end{align}\n",
    "\n",
    "**Homotopy equivalence**\n",
    "\\begin{align}\n",
    "    g\\circ f\\,\\,&\\sim\\,\\,id_X\\\\\n",
    "    f\\circ g\\,\\,&\\sim\\,\\,id_Y \\\\\n",
    "\\end{align}"
   ]
  },
  {
   "cell_type": "markdown",
   "id": "cc845904",
   "metadata": {},
   "source": []
  },
  {
   "cell_type": "markdown",
   "id": "b1953dce",
   "metadata": {},
   "source": []
  },
  {
   "cell_type": "markdown",
   "id": "00a7099d",
   "metadata": {},
   "source": []
  },
  {
   "cell_type": "markdown",
   "id": "a3e05474",
   "metadata": {},
   "source": []
  },
  {
   "cell_type": "markdown",
   "id": "d6f47087",
   "metadata": {},
   "source": []
  },
  {
   "cell_type": "markdown",
   "id": "94824d60",
   "metadata": {},
   "source": []
  }
 ],
 "metadata": {
  "kernelspec": {
   "display_name": "Python 3 (ipykernel)",
   "language": "python",
   "name": "python3"
  },
  "language_info": {
   "codemirror_mode": {
    "name": "ipython",
    "version": 3
   },
   "file_extension": ".py",
   "mimetype": "text/x-python",
   "name": "python",
   "nbconvert_exporter": "python",
   "pygments_lexer": "ipython3",
   "version": "3.9.7"
  }
 },
 "nbformat": 4,
 "nbformat_minor": 5
}
