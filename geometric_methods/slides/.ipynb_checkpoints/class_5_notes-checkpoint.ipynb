{
 "cells": [
  {
   "cell_type": "markdown",
   "id": "6688e045",
   "metadata": {},
   "source": [
    "# Geometric Methods in Data Analysis\n",
    "\n",
    "<hr>"
   ]
  },
  {
   "cell_type": "markdown",
   "id": "ff8ad726",
   "metadata": {},
   "source": [
    "<u>Example page 4:</u>\n",
    "\n",
    "**Specifying the cyclo-octane molecule (C_8H_16):** The cyclo-octane has 24 atoms that have to be specified for analysis. Each atom is positioned in a 3d space such that there are in total 72 dimensions ($3*24$).\n",
    "The observation shows that the data is highly correlated (random selection in 72 dimensions will almost never yield a valid molecule). \n",
    "\n",
    "The actuality is that we're looking at a 2d surface encoded in the 72 dimensional space."
   ]
  },
  {
   "cell_type": "markdown",
   "id": "b3b8208d",
   "metadata": {},
   "source": [
    "**Ambient and intrinsic space:**\n",
    "\n",
    "The ambient space is the space where the data is acquired while the intrinsic space is the space where the geometrisation happens (structure of \"small\" intrinsic dimension). "
   ]
  },
  {
   "cell_type": "markdown",
   "id": "21e3b502",
   "metadata": {},
   "source": [
    "**takeaway**: It is not necessary to work in high dimension as we can cast data onto lower/medium dimensional spaces."
   ]
  },
  {
   "cell_type": "markdown",
   "id": "b2c2a741",
   "metadata": {},
   "source": [
    "There exists a sampling/reconstruction theorem (Object -> Sample -> Union of Balls -> Simplicial complex) where the simplicial complex has the same homotopy type as the original object.\n"
   ]
  },
  {
   "cell_type": "markdown",
   "id": "4d6aef89",
   "metadata": {},
   "source": []
  },
  {
   "cell_type": "markdown",
   "id": "83396112",
   "metadata": {},
   "source": []
  },
  {
   "cell_type": "markdown",
   "id": "0593c6fa",
   "metadata": {},
   "source": []
  },
  {
   "cell_type": "markdown",
   "id": "2e0eb0cb",
   "metadata": {},
   "source": []
  },
  {
   "cell_type": "markdown",
   "id": "ca0039d7",
   "metadata": {},
   "source": []
  }
 ],
 "metadata": {
  "kernelspec": {
   "display_name": "Python 3 (ipykernel)",
   "language": "python",
   "name": "python3"
  },
  "language_info": {
   "codemirror_mode": {
    "name": "ipython",
    "version": 3
   },
   "file_extension": ".py",
   "mimetype": "text/x-python",
   "name": "python",
   "nbconvert_exporter": "python",
   "pygments_lexer": "ipython3",
   "version": "3.9.7"
  }
 },
 "nbformat": 4,
 "nbformat_minor": 5
}
