{
 "cells": [
  {
   "cell_type": "markdown",
   "id": "afbf0794",
   "metadata": {},
   "source": [
    "# Nearest Neighbors Algorithms in Euclidean and Metric Spaces: Algorithms and Data Structures"
   ]
  },
  {
   "cell_type": "markdown",
   "id": "7c06da9a",
   "metadata": {},
   "source": [
    "## Efficient and Balanced Trees\n",
    "\n",
    "We are looking for binary trees that allow **efficient query answers**. This relies on:\n",
    "- A tree being **balanced**\n",
    "- A tree that can perform **efficient dictionary operations**:\n",
    "    - 1) *present*, 2) *insert*, 3) *delete* (similar to CRUD operations -- Create, Read, Update, Delete -- such as found with databases such as [NoSQL](https://towardsdatascience.com/crud-create-read-update-delete-operations-on-nosql-database-mongodb-using-node-js-3979573b9b24))\n",
    "    - These operations function in *O(log n)* time\n",
    "    - A tree can be built/sorted in **O(n log n) time**\n",
    "   \n",
    "An unbalanced tree has its height bounded by *n*, while a balanced tree has its height bounded by *log(n)*.\n",
    "\n",
    "![balanced](images/balanced_tree.png)\n",
    "\n",
    "<u>Note on efficient tree DS:</u> Adelson-Velsky-Landis (AVL) trees ([wiki](https://en.wikipedia.org/wiki/AVL_tree)), Red-Black Trees ([wiki](https://en.wikipedia.org/wiki/Red%E2%80%93black_tree))\n",
    "\n",
    "### Why Trees?\n",
    "\n",
    "Voronoi diagrams happen to break in higher dimensional spaces. As such, we need **more efficient data structures** to handle and process data.\n",
    "\n",
    "<u>Note on tree construction using the median:</u> Finding a median can be used to build trees. However, if it can only be efficient if the tree is static as any modification operation will break the balancedness.\n",
    "\n",
    "### Focused Solution: K-Dimensional Trees ([wiki](https://en.wikipedia.org/wiki/K-d_tree))\n",
    "\n",
    "**Definition**: k-d trees are a useful data structure for several applications, such as searches involving a multidimensional search key (e.g. range searches and nearest neighbor searches) and creating point clouds. k-d trees are a special case of binary space partitioning trees.\n",
    "\n",
    "**Construction**: One takes a direction (in the dimension of the data) and projects the points of the underlying dataset in that direction. Then the median is taken and the dataset split in that direction. The process is then recursed. *Points that are not bisected form the bottommest leaves* of the KD tree.\n",
    "\n",
    "**Goal**: To spread the points of a dataset the most\n",
    "\n",
    "![kdtree](images/kd_tree.png)\n",
    "\n",
    "**Relation to PCA**: PCA tries to split the points of a dataset in a way that maximizes the variance\n",
    "\n",
    "#### Driving Questions\n",
    "\n",
    "- Is it important to miss exact nearest neighbors?\n",
    "> no, especially in high dimensions\n",
    "\n",
    "- Will a failure be frequent?\n",
    "> it depends on a complexity/differentiability factor $\\phi$\n",
    "\n"
   ]
  },
  {
   "cell_type": "markdown",
   "id": "3e602e0d",
   "metadata": {},
   "source": []
  },
  {
   "cell_type": "markdown",
   "id": "ab9163d5",
   "metadata": {},
   "source": []
  },
  {
   "cell_type": "markdown",
   "id": "7c50e078",
   "metadata": {},
   "source": []
  },
  {
   "cell_type": "markdown",
   "id": "78131251",
   "metadata": {},
   "source": []
  },
  {
   "cell_type": "markdown",
   "id": "c881fa13",
   "metadata": {},
   "source": []
  },
  {
   "cell_type": "markdown",
   "id": "d0c7d5f2",
   "metadata": {},
   "source": []
  },
  {
   "cell_type": "markdown",
   "id": "b632b486",
   "metadata": {},
   "source": []
  },
  {
   "cell_type": "markdown",
   "id": "7f0c11f2",
   "metadata": {},
   "source": []
  },
  {
   "cell_type": "markdown",
   "id": "b6add4d4",
   "metadata": {},
   "source": []
  }
 ],
 "metadata": {
  "kernelspec": {
   "display_name": "Python 3 (ipykernel)",
   "language": "python",
   "name": "python3"
  },
  "language_info": {
   "codemirror_mode": {
    "name": "ipython",
    "version": 3
   },
   "file_extension": ".py",
   "mimetype": "text/x-python",
   "name": "python",
   "nbconvert_exporter": "python",
   "pygments_lexer": "ipython3",
   "version": "3.9.7"
  }
 },
 "nbformat": 4,
 "nbformat_minor": 5
}
