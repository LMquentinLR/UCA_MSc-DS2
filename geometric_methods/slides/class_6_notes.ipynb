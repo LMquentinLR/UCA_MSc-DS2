{
 "cells": [
  {
   "cell_type": "markdown",
   "id": "6688e045",
   "metadata": {},
   "source": [
    "# Geometric Methods in Data Analysis\n",
    "\n",
    "<hr>"
   ]
  },
  {
   "cell_type": "markdown",
   "id": "4d6aef89",
   "metadata": {},
   "source": [
    "\\begin{align}\n",
    "C\\sim C' &\\Leftrightarrow C+C'\\in im(\\delta)\\\\\n",
    "&\\Leftrightarrow \\exists C'' s.t. C+C'=im(C'')\\\\\n",
    "\\end{align}"
   ]
  },
  {
   "cell_type": "markdown",
   "id": "83396112",
   "metadata": {},
   "source": [
    "![filtration](images/filtration.png)"
   ]
  },
  {
   "cell_type": "markdown",
   "id": "0593c6fa",
   "metadata": {},
   "source": [
    "![triangulation](images/triangulation.png)"
   ]
  },
  {
   "cell_type": "markdown",
   "id": "2e0eb0cb",
   "metadata": {},
   "source": []
  },
  {
   "cell_type": "markdown",
   "id": "ca0039d7",
   "metadata": {},
   "source": []
  }
 ],
 "metadata": {
  "kernelspec": {
   "display_name": "Python 3 (ipykernel)",
   "language": "python",
   "name": "python3"
  },
  "language_info": {
   "codemirror_mode": {
    "name": "ipython",
    "version": 3
   },
   "file_extension": ".py",
   "mimetype": "text/x-python",
   "name": "python",
   "nbconvert_exporter": "python",
   "pygments_lexer": "ipython3",
   "version": "3.9.7"
  }
 },
 "nbformat": 4,
 "nbformat_minor": 5
}
