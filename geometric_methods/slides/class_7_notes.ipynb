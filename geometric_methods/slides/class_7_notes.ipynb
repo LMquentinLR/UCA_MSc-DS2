{
 "cells": [
  {
   "cell_type": "markdown",
   "id": "6688e045",
   "metadata": {},
   "source": [
    "# Geometric Methods in Data Analysis - cl 7\n",
    "\n",
    "<hr>"
   ]
  },
  {
   "cell_type": "markdown",
   "id": "2e0eb0cb",
   "metadata": {},
   "source": [
    "<u>Reminder:</u>\n",
    "\n",
    "- A Persistent (homology) diagram graphs the appearance and disappearance of homologies in a filtration. The points always appear above the diagonal as we are interested in disappearances.\n",
    "\n",
    "- Treat shapes as simplices complex and create filtrations for it to build homology groups (shapes are usually encoded as meshes, surface of simplices).\n",
    "\n",
    "- Regularizers are used to avoid overfitting"
   ]
  },
  {
   "cell_type": "markdown",
   "id": "ca0039d7",
   "metadata": {},
   "source": [
    "## Reproducing Kernel Hilbert Space\n",
    "\n",
    "Given $\\mathcal{F}$ a Reproducing Kernel Hilbert Space (RKHS), it is easier to control in the case of empirical risk minimization (when $\\mathcal{F}$ is also a class of predictors). \n",
    "\n"
   ]
  },
  {
   "cell_type": "code",
   "execution_count": null,
   "id": "339659eb",
   "metadata": {},
   "outputs": [],
   "source": []
  }
 ],
 "metadata": {
  "kernelspec": {
   "display_name": "Python 3 (ipykernel)",
   "language": "python",
   "name": "python3"
  },
  "language_info": {
   "codemirror_mode": {
    "name": "ipython",
    "version": 3
   },
   "file_extension": ".py",
   "mimetype": "text/x-python",
   "name": "python",
   "nbconvert_exporter": "python",
   "pygments_lexer": "ipython3",
   "version": "3.9.7"
  }
 },
 "nbformat": 4,
 "nbformat_minor": 5
}
