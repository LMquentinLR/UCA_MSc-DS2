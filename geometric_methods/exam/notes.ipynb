{
 "cells": [
  {
   "cell_type": "markdown",
   "id": "46e821d7",
   "metadata": {},
   "source": [
    "## Examination\n",
    "\n",
    "Notes of the presentations covered during the final exam."
   ]
  },
  {
   "cell_type": "markdown",
   "id": "20fd1ca3",
   "metadata": {},
   "source": [
    "### 1 - Estiamting the intrinsic dimension of datasets by a minimal neighborhood information\n",
    "\n",
    "A grail is to lower the dimensional space of a large volume of data without any information loss. Existing papers make the assumption that a lot of data content belongs to a manifold whose intrinsic dimension is lower than its high-dimensional representation: **manifold hypothesis**.\n",
    "\n",
    "> **Question**: What is the minimal number of dimension required to project the data without losing the important information?\n",
    ">\n",
    "> **Name**: Intrinsic Dimension (ID)\n",
    ">\n",
    "> **Method**: Nearest Neighbors-Based Intrinsic Dimension estimators (TWO-NN)\n",
    "\n",
    "#### Algorithm\n",
    "\n",
    "1. iterate over each pair of points\n",
    "2. iterate over each coordinate, for instance the uniform distribution\n",
    "3. the value of each coordinate is subtracted from the pair of points\n",
    "4. We consider the Preliminary Boundary Condition\n",
    "5. we compute the \n",
    "\n",
    "\n",
    "#### Assumptions\n",
    " \n",
    "1. the density is approximately constant\n",
    "\n",
    "- It is possible to compute the distribution and the cumulative distribution of the ratio of the second distance to the first one\n",
    " \n",
    "#### Development\n",
    " \n",
    "$$\\text{intrinsic dimension}=\\frac{\\log(1-F(\\mu))}{\\log(\\mu)}$$"
   ]
  },
  {
   "cell_type": "markdown",
   "id": "d10953e4",
   "metadata": {},
   "source": [
    "### 2 - Maps Mapper\n",
    "\n",
    "Chromatin is a long nucleus with an important amount of molecular interactions, some of which can cause diseases.\n",
    "\n",
    "#### Interaction heatmap\n",
    "\n",
    "Interactions happen mostly between nearby regions.\n",
    "\n",
    "**Topological Association Domains**: a self-interacting genomic region, meaning that DNA sequences within a TAD physically interact.\n",
    "\n",
    "#### Stratum-adjusted correlation coefficient:\n",
    "\n",
    "- Quantifies similarity between hi-c ineraction matrices\n",
    "- provide a statistically sound and relable evaluation of reproducibility\n",
    "- quantify differences between hi-c contact matrices\n",
    "\n",
    "> **steps**:\n",
    "> - smoothin with 2d mean filter\n",
    "> - stratifying\n",
    "> - calculating SCC\n",
    "\n",
    "#### Mapper\n",
    "\n",
    "A Mapper is a simplicial complex representation of the interaction in the data.\n"
   ]
  },
  {
   "cell_type": "markdown",
   "id": "3d65a5c5",
   "metadata": {},
   "source": [
    "### 3 - Detecting metastable states in prtein conformations with ToMATo\n",
    "\n"
   ]
  },
  {
   "cell_type": "markdown",
   "id": "a42b873a",
   "metadata": {},
   "source": [
    "### 4 - "
   ]
  },
  {
   "cell_type": "code",
   "execution_count": null,
   "id": "b912f39e",
   "metadata": {},
   "outputs": [],
   "source": []
  }
 ],
 "metadata": {
  "kernelspec": {
   "display_name": "Python 3",
   "language": "python",
   "name": "python3"
  },
  "language_info": {
   "codemirror_mode": {
    "name": "ipython",
    "version": 3
   },
   "file_extension": ".py",
   "mimetype": "text/x-python",
   "name": "python",
   "nbconvert_exporter": "python",
   "pygments_lexer": "ipython3",
   "version": "3.8.8"
  }
 },
 "nbformat": 4,
 "nbformat_minor": 5
}
