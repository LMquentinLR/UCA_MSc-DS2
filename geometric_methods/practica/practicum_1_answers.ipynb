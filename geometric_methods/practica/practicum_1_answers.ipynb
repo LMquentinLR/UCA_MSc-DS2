{
 "cells": [
  {
   "cell_type": "markdown",
   "id": "57d377c6",
   "metadata": {},
   "source": [
    "# Geometric and Topological Methods in Machine Learning: Exercises 1"
   ]
  },
  {
   "cell_type": "markdown",
   "id": "a32ab2b3",
   "metadata": {},
   "source": [
    "### Ex 1: Draw the Voronoi diagram and the delaunay triangulation of the 10 points of Fig.1\n",
    "\n",
    "![voronoi](images/ex1.png)"
   ]
  },
  {
   "cell_type": "markdown",
   "id": "38e26c64",
   "metadata": {},
   "source": [
    "### Ex 2: (Computing the median) Propose an algorithm to compute the median of a set of n real numbers, an analyse its complexity.\n",
    "\n",
    "Tony Hoare Algorithm or [Quickselect](https://rcoh.me/posts/linear-time-median-finding/) (algorithm to find the k-th smallest element in an unordered list):\n",
    "\n",
    "- Select an index of a **n**-element list to compute at random. The index is called **pivot**\n",
    "- Split the list into 2 groups, lesser and greater than the pivot\n",
    "- Recurse on the list with a number of elements equal or above the index **k** of the median\n",
    "    - k is updated to **k-len(group with values \\le k)** if **group with values \\gt** chosen"
   ]
  },
  {
   "cell_type": "code",
   "execution_count": 30,
   "id": "82219e00",
   "metadata": {},
   "outputs": [],
   "source": [
    "import random\n",
    "\n",
    "def quickselect_median(l):\n",
    "    if len(l) % 2 == 1:\n",
    "        return quickselect(l, len(l) // 2)\n",
    "    else:\n",
    "        return 0.5 * (quickselect(l, len(l) / 2 - 1) + \\\n",
    "                      quickselect(l, len(l) / 2))\n",
    "\n",
    "\n",
    "def quickselect(l, k):\n",
    "    \"\"\"\n",
    "    Select the kth element in l (0 based)\n",
    "    \"\"\"\n",
    "    if len(l) == 1:\n",
    "        assert k == 0\n",
    "        return l[0]\n",
    "    \n",
    "    pivot = random.choice(l)\n",
    "    print(pivot)\n",
    "\n",
    "    lows = [el for el in l if el < pivot]\n",
    "    highs = [el for el in l if el > pivot]\n",
    "    pivots = [el for el in l if el == pivot]\n",
    "\n",
    "    if k < len(lows):\n",
    "        return quickselect(lows, k)\n",
    "    elif k < len(lows) + len(pivots):\n",
    "        # We got lucky and guessed the median\n",
    "        return pivots[0]\n",
    "    else:\n",
    "        return quickselect(highs, k - len(lows) - len(pivots))"
   ]
  },
  {
   "cell_type": "code",
   "execution_count": 31,
   "id": "e1e5ec74",
   "metadata": {},
   "outputs": [
    {
     "data": {
      "text/plain": [
       "array([5, 2, 5, 9, 7, 6, 8, 5, 4, 8, 6])"
      ]
     },
     "execution_count": 31,
     "metadata": {},
     "output_type": "execute_result"
    }
   ],
   "source": [
    "l = np.random.randint(0, 10, size=(11,))\n",
    "l"
   ]
  },
  {
   "cell_type": "code",
   "execution_count": 32,
   "id": "ae7e7569",
   "metadata": {},
   "outputs": [
    {
     "name": "stdout",
     "output_type": "stream",
     "text": [
      "2\n",
      "8\n",
      "6\n"
     ]
    },
    {
     "data": {
      "text/plain": [
       "6"
      ]
     },
     "execution_count": 32,
     "metadata": {},
     "output_type": "execute_result"
    }
   ],
   "source": [
    "quickselect_median(l)"
   ]
  },
  {
   "cell_type": "markdown",
   "id": "bd223af8",
   "metadata": {},
   "source": [
    "<u>Breakdown:</u>\n",
    "\n",
    "**step 1**\n",
    "> [3, 7, 3, 7, 8, 2, 7, 8, 7, 3, 5]\n",
    ">\n",
    "> 11 elements -> we want the 6th element in the sorted array\n",
    "\n",
    "**step 2**\n",
    "> random pick: element 2 at index 1\n",
    ">\n",
    "> Split between: \n",
    ">\n",
    "> \\le = [], pivot = [2], \\gt = [5, 5, 9, 7, 6, 8, 5, 4, 8, 6]\n",
    "\n",
    "**step 3**\n",
    "> fewer than 6 elements in \\le split, we select \\gt\n",
    ">\n",
    "> k is updated to 5 (6 - len(\\le))\n",
    "\n",
    "**step 4**\n",
    "> random pick: element 8 at index 6 (of \\gt)\n",
    ">\n",
    "> Split between:\n",
    ">\n",
    "> \\le = [5, 5, 7, 6, 5, 4, 6], pivot = [8, 8], \\gt = [9]\n",
    "\n",
    "**step 5**\n",
    "> fewer than 5 elements in \\gt split, we select \\le\n",
    "\n",
    "**step 6**\n",
    "> random pick: element 6 at index 3 (of \\le)\n",
    ">\n",
    "> Split between:\n",
    ">\n",
    "> \\le = [5, 5, 5, 4], pivot [6, 6], \\gt = [7]\n",
    "\n",
    "**step 7**\n",
    "> less than 5 elements in \\le and \\gt, therefore returns the pivot"
   ]
  },
  {
   "cell_type": "markdown",
   "id": "2d68a589",
   "metadata": {},
   "source": [
    "<u>Proof of **O(n)**:</u>\n",
    "\n",
    "The pivot index selection is uniform so $\\mathbb{E}[pivot_{index}] = \\frac{1}{len(list)}$, i.e., the split leads to approximately equally sized greater and lesser (than the pivot) than the pivot.\n",
    "\n",
    "Therefore the recursion on average operates on subsequently halved lists such that:\n",
    "\n",
    "> $Complexity = \\underset{i=0}{\\overset{+\\infty}{\\sum}}\\frac{n}{2^i} \\Rightarrow 2n$\n",
    "\n",
    "We have a linear complexity:\n",
    "\n",
    "> $O(n)$"
   ]
  },
  {
   "cell_type": "markdown",
   "id": "e9f83255",
   "metadata": {},
   "source": [
    "### Ex 3: (Building a kd-tree) Using the previous question, write the recurrence relationship for the construction of a standard kd-tree in dimension d. (Hint: adapt the reccurence seen for Quicksort.)"
   ]
  },
  {
   "cell_type": "code",
   "execution_count": null,
   "id": "3f099c09",
   "metadata": {},
   "outputs": [],
   "source": []
  },
  {
   "cell_type": "markdown",
   "id": "8baa42b6",
   "metadata": {},
   "source": [
    "### Ex 4: (kd-trees with cuts maximizing the variance) Consider the idea of replacing coordinate axis used in standard kd-trees by directions which maximize the variance of the projected points.\n",
    "- **Explain how to do this using Principal Components Analysis (assuming you know PCA)**\n",
    "- **Explain the incidence of this modification on the complexity of the tree construction**"
   ]
  },
  {
   "cell_type": "markdown",
   "id": "6a5dd9d5",
   "metadata": {},
   "source": [
    "### Ex 5: (Searching metric trees) Using the triangle inequality, prove the correctness of the method presented to search the exact nearest neighbor in a metric tree."
   ]
  },
  {
   "cell_type": "code",
   "execution_count": null,
   "id": "460a04c9",
   "metadata": {},
   "outputs": [],
   "source": []
  }
 ],
 "metadata": {
  "kernelspec": {
   "display_name": "Python 3 (ipykernel)",
   "language": "python",
   "name": "python3"
  },
  "language_info": {
   "codemirror_mode": {
    "name": "ipython",
    "version": 3
   },
   "file_extension": ".py",
   "mimetype": "text/x-python",
   "name": "python",
   "nbconvert_exporter": "python",
   "pygments_lexer": "ipython3",
   "version": "3.9.7"
  }
 },
 "nbformat": 4,
 "nbformat_minor": 5
}
