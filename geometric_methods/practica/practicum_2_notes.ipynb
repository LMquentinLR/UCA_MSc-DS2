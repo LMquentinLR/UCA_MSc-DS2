{
 "cells": [
  {
   "cell_type": "markdown",
   "id": "27e06d79",
   "metadata": {},
   "source": [
    "# Computational Topology: Simplicial Complexes and (Persistent) Homology\n",
    "\n",
    "*relies on the gudhi (geometry understanding in higher dimensions)*"
   ]
  },
  {
   "cell_type": "code",
   "execution_count": 2,
   "id": "484e85b1",
   "metadata": {},
   "outputs": [],
   "source": [
    "import gudhi"
   ]
  },
  {
   "cell_type": "markdown",
   "id": "c282f8d7",
   "metadata": {},
   "source": [
    "<hr>"
   ]
  },
  {
   "cell_type": "markdown",
   "id": "a5454e94",
   "metadata": {},
   "source": [
    "## Simplicial Complexes\n",
    "\n",
    "### Topological Data Analysis (TDA)\n",
    "\n",
    "**Goal**:\n",
    "> To study geometric data sets with techniques coming from topology\n",
    "\n",
    "**Topology**:\n",
    "> Computational Topology: an introduction, Edelsbrunner, Harer, AMS, 2010\n",
    ">\n",
    "> Elements of Algebraic Topology, Munkres, CRC Press, 1984\n",
    "\n",
    "**Applications**:\n",
    "> Visualization of datasets with high dimensionality\n",
    ">\n",
    "> clustering\n",
    ">\n",
    "> feature selection\n",
    ">\n",
    "> identify statistically relevant subpopulations through topological patterns (Flares, loops)"
   ]
  },
  {
   "cell_type": "markdown",
   "id": "896623f5",
   "metadata": {},
   "source": [
    "### Challenges and goals (defining the topology of a dataset)\n",
    "\n",
    "#### Challenges\n",
    "- no direct access to topological geometric information (need of intermediate constructions with simplicial complexes)\n",
    "- distinguish topological signal from noise\n",
    "- topological information may be multiscale\n",
    "- statistical analysis of topological information\n",
    "\n",
    "#### advantages\n",
    "- <u>coordinate invariance</u>: topological featrtures/invariants do not rely on any coordinate system -> no need to have data with coordinates, or to embed data in spaces with coordinates bt the metric (distance/similarity between datapoints) is important\n",
    "- <u>deformation invariance</u>: topological features are invariant under homeomorphism and reparametrization\n",
    "- <u>compressed representation</u>: topoloy offers a set of tools to summarize the data in compacft ways while preserving its topological structure"
   ]
  },
  {
   "cell_type": "markdown",
   "id": "71423535",
   "metadata": {},
   "source": [
    "**note**: A topological space seems similar to a monoid (has an associative operation (union) and an identity element (empty set))"
   ]
  },
  {
   "cell_type": "markdown",
   "id": "eebf69d4",
   "metadata": {},
   "source": [
    "### Continuous deformation\n",
    "\n",
    "#### homotopy equivalence (weakest)\n",
    "\n",
    "#### homeomorphism\n",
    "\n",
    "#### isotopy (strongest)"
   ]
  },
  {
   "cell_type": "code",
   "execution_count": null,
   "id": "ff37da3a",
   "metadata": {},
   "outputs": [],
   "source": []
  }
 ],
 "metadata": {
  "kernelspec": {
   "display_name": "Python 3 (ipykernel)",
   "language": "python",
   "name": "python3"
  },
  "language_info": {
   "codemirror_mode": {
    "name": "ipython",
    "version": 3
   },
   "file_extension": ".py",
   "mimetype": "text/x-python",
   "name": "python",
   "nbconvert_exporter": "python",
   "pygments_lexer": "ipython3",
   "version": "3.9.7"
  }
 },
 "nbformat": 4,
 "nbformat_minor": 5
}
