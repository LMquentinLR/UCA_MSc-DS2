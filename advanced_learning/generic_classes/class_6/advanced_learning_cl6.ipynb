{
 "cells": [
  {
   "cell_type": "markdown",
   "id": "d7de2b8c",
   "metadata": {},
   "source": [
    "# Advanced Learning - Class 6"
   ]
  },
  {
   "cell_type": "markdown",
   "id": "d0cfe693",
   "metadata": {},
   "source": [
    "### Multidimensional Scaling (MDS)\n",
    "\n",
    "MDS is a method used for the visualization of **any kind of data** (e.g. networks, quantitative, categorical, texts, etc.) for which **we can compute a distance**.\n",
    "\n",
    "MDS can be particularly useful for **dimensionality reduction** of quantitative data. The idea of MDS is to find a representation of the data in a low-dimensional space (d) wich **preserves the topology of the input data**. \n",
    "\n",
    "*In practice, the distance between two datapoints in the latent space should be as close as possible to the distance of these two points in the original space*.\n",
    "\n",
    "This is an <u>optimization problem</u> such that:\n",
    "\n",
    "$$\\underset{Z}{\\text{min }}\\underset{i=1}{\\overset{n}{\\sum}}\\underset{j=1; j\\neq i}{\\overset{n}{\\sum}}||\\text{dist}_1(x_i, x_j) - \\text{dist}_2(z_i, z_j)||^2$$\n",
    "\n",
    "Where $x_i$ is the original data, and $z_i$ is its projection in the latent space/visualization space."
   ]
  },
  {
   "cell_type": "markdown",
   "id": "48b394fc",
   "metadata": {},
   "source": [
    "<hr>\n",
    "\n",
    "**Exercise**: Use MDS to position the nodes with the following network structure\n",
    "\n",
    "*original/adjacency matrix*\n",
    "\n",
    "| | A | B | C | D | E | \n",
    "| --- | --- | --- | --- | --- | --- |\n",
    "| A | 0 | 1 | 1 | 1 | 0 |\n",
    "| B | 1 | 0 | 0 | 0 | 1 |\n",
    "| C | 1 | 0 | 0 | 0 | 1 |\n",
    "| D | 1 | 0 | 0 | 0 | 1 |\n",
    "| E | 0 | 1 | 1 | 1 | 0 |\n",
    "\n",
    "*distance of the shortest path*\n",
    "\n",
    "| | A | B | C | D | E | \n",
    "| --- | --- | --- | --- | --- | --- |\n",
    "| A | 0 | 1 | 1 | 1 | 2 |\n",
    "| B | | 0 | 2 | 2 | 1 |\n",
    "| C | | | 0 | 2 | 1 |\n",
    "| D | | | | 0 | 1 |\n",
    "| E | | | | | 0 |\n",
    "\n",
    "MDS offers a simple solution to visualize networks:\n",
    "\n",
    "- (+) easy and allows to quantify the deformations\n",
    "- (-) no way to choose the appropriate dimensionality for the visualization space ($d\\in\\{2, 3\\}$)\n",
    "- (-) This is a deterministic approach that does not take into account the possible uncertainty on the data (particularly on the edges)\n",
    "\n",
    "<hr>"
   ]
  },
  {
   "cell_type": "markdown",
   "id": "24a3f7bf",
   "metadata": {},
   "source": [
    "### The Latent Space Model (LSM, Hoff, Hardcock and Raftey, 2001)\n",
    "\n",
    "LSM is one of the first statistical models proposed to model and visualize networks.\n",
    "\n",
    "One of the key features of LSM is its ability to **model the uncertainty on the observed edges**. The goal of the LSM is to provide a **latent representation of the data** such that:\n",
    "\n",
    "- Two points close in the space are very likely to connect\n",
    "- Two points that are far away in the latent space will have a low probability to connect\n",
    "\n",
    "Let's first consider the random variable $X$ such that:\n",
    "\n",
    "\\begin{align}\n",
    "X_{i,j} &= 1 \\text{ if i is connected to j}\\\\\n",
    "X_{i,j} &= 0 \\text{ if there are not connected}\n",
    "\\end{align}\n",
    "\n",
    "The LSM model assumes that the probability of $X_{i,j}$ is:\n",
    "\n",
    "$$logit(P(X_{i,j}=1|\\theta)) = \\alpha + \\beta Y_{i,j} - ||Z_i-Z_j||^2$$\n",
    "\n",
    "Where $Z_i$ and $Z_j$ are the coordinates of the nodes $i$ and $j$ in the latent space and $Y_{i,j}$ is some covariates about the pair $(i, j)$ with $\\theta = \\{\\alpha, \\beta, Z_1, Z_2, ..., Z_n\\}$.\n",
    "\n",
    "Thanks to this modeling, **the LSM model will put close together nodes that have a high probability to connect**.\n",
    "\n",
    "The covariate $Y_{i,j}$ may be, for instance, some (possibly multivariate) information, about the pair:\n",
    "\n",
    "> $Y_{i,j}$ is the number of years two people have known each other\n",
    "\n",
    "In this model, the data are $X_{i,j})_{i,j\\in\\{1,...,n\\}}$ (and eventually the $Y_{i,j}$) and the model parameters are $\\theta=\\{\\alpha, \\beta, Z_1, ..., Z_n\\}$."
   ]
  },
  {
   "cell_type": "markdown",
   "id": "95a7052a",
   "metadata": {},
   "source": [
    "The graphical model for the LSM is:\n",
    "\n",
    "![lsm_latent](lsm_latent.png)\n",
    "\n",
    "\\begin{align}\n",
    "Y &= \\beta^tX+\\epsilon\\\\\n",
    "\\epsilon &\\sim \\mathcal{N}(0, \\sigma^2)\\\\\n",
    "\\end{align}"
   ]
  },
  {
   "cell_type": "markdown",
   "id": "45ee1eb8",
   "metadata": {},
   "source": [
    "<u>Estimating the model parameters:</u>\n",
    "\n",
    "It is possible to use the Maximum Likelihood approach to estimate $\\theta=\\{\\alpha, \\beta, Z_1, ..., Z_n\\}$ from the data:\n",
    "\n",
    "$$log\\mathcal{L}(X,\\theta)=\\underset{(i,j), i\\neq j}{\\overset{n}{\\sum}}\\big[X_{i,j}(\\alpha+\\beta Y_{i,j}-d_{i,j}^2)-log(1+exp(\\alpha + \\beta Y_{i,j} - d_{i,j}^2))\\big]$$\n",
    "\n",
    "Where $d^2_{i,j}=||Z_i - Z_j||^2$.\n",
    "\n",
    "Unfortunately, there is no closed-form solution for $\\hat{\\theta}_{ML}$ and we have to numerically optimize this function.\n",
    "\n",
    "- Adding covariates $Y_{i,j}$:\n",
    "    - a number of years in common in a society\n",
    "    - a type of relationship (Categorical variable): $Y_{i,j}\\in\\{1,\\ldots,k\\}\\rightarrow Y_{i,j}=(0,0,1,0,0)$ given $Y_{i,j}=3$. $\\beta$ is now a vector\n",
    "    \n",
    "- Choice of the distance $||Z_i - Z-j||^2_0$:\n",
    "    - it could be an Euclidian distance $||.||_2$ (the most natural), but it could be any other distance"
   ]
  },
  {
   "cell_type": "markdown",
   "id": "a2a31a34",
   "metadata": {},
   "source": [
    "<u>In R</u>\n",
    "\n",
    "In R, LSM is implemented with the \"latentnet\" package, which implements the orignal approach of Hoff et al. (2001), i.e. MCMC for a Bayesian version of the LSM.\n",
    "\n",
    "- $LSM + Z_i\\sim N(\\mu, \\Sigma)$\n",
    "\n",
    "And the UBLPCM package implements a UBER algorithm for this model."
   ]
  },
  {
   "cell_type": "code",
   "execution_count": null,
   "id": "56faba23",
   "metadata": {},
   "outputs": [],
   "source": []
  },
  {
   "cell_type": "code",
   "execution_count": null,
   "id": "ae6693e7",
   "metadata": {},
   "outputs": [],
   "source": []
  }
 ],
 "metadata": {
  "kernelspec": {
   "display_name": "Python [conda env:ML_base]",
   "language": "python",
   "name": "conda-env-ML_base-py"
  },
  "language_info": {
   "codemirror_mode": {
    "name": "ipython",
    "version": 3
   },
   "file_extension": ".py",
   "mimetype": "text/x-python",
   "name": "python",
   "nbconvert_exporter": "python",
   "pygments_lexer": "ipython3",
   "version": "3.9.7"
  }
 },
 "nbformat": 4,
 "nbformat_minor": 5
}
