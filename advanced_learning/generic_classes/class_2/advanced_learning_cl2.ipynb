{
 "cells": [
  {
   "cell_type": "markdown",
   "id": "d7de2b8c",
   "metadata": {},
   "source": [
    "# Advanced Learning - Class 2\n",
    "\n",
    "## Statistical Learning with Complex Data\n",
    "\n",
    "<hr>\n",
    "<hr>\n",
    "<hr>"
   ]
  },
  {
   "cell_type": "markdown",
   "id": "0ffa704b",
   "metadata": {},
   "source": [
    "## Introduction\n",
    "\n",
    "### The analysis of (social) networks\n",
    "\n",
    "**Origin in Sociology** -- The notion predates the apparition of the internet (start in the 19th century) and mainly refers to the networks built between humans and understood through the lens of sociology.\n",
    "- The first researchers were Emile Durkheim and Tönnies, who studied the link between individual actions and society (topics: religion, suicide, etc.)\n",
    "- In 1930, Morena was the first to advocate for the *massive use of data* in sociology (then the use of data to describe how small societies function). \n",
    "\n",
    "**Graph Theory** -- Graph theory has been extensively studied in Mathematics over the past centuries (e.g. Euler formalized the basis of graph theory).\n",
    "- Applications: biology, chemistry, supply chains, etc.\n",
    "- ***Note***: Networks are not just graphs (they are a graph, the mathematical object, plus some additional information)\n",
    "\n",
    "Most networks are in fact described in several sources/documents. **In this case, there is an important work in modeling/encoding the relationship between individuals** (the definition of a *node* can be difficult)."
   ]
  },
  {
   "cell_type": "markdown",
   "id": "39c2f8a5",
   "metadata": {},
   "source": [
    "### Highlights from examples\n",
    "\n",
    "- Networks can be directly ovserved or reconstructed from sources\n",
    "- The structure of networks may be extremely different, in particular in term of density\n",
    "- Network analysis has very different application fields, ranging from sociology, economics, to history and medicine. "
   ]
  },
  {
   "cell_type": "markdown",
   "id": "f419d429",
   "metadata": {},
   "source": [
    "### Applications\n",
    "\n",
    "**Medicine** -- Public health, epidemiology\n",
    "**Biology** -- modeling of drugs\n",
    "**Social sciences** -- social phenomenon understanding\n",
    "**Marketing** -- identification of group of clients, of influencers\n",
    "**Fraud detection**"
   ]
  },
  {
   "cell_type": "markdown",
   "id": "9c42b617",
   "metadata": {},
   "source": [
    "### Shapes of networks\n",
    "\n",
    "Networks can be found under different forms:\n",
    "- graph (simplest form)\n",
    "- adjacency matrix / social matrix\n",
    "- transactional data \n",
    "- different sources of different types (e.g. 1 or several documents, texts, tweets, text messages, images)"
   ]
  },
  {
   "cell_type": "markdown",
   "id": "be5345e3",
   "metadata": {},
   "source": [
    "## Characterization and manipulation of networks\n",
    "\n",
    "### Storage of a network\n",
    "\n",
    "- A **graph**: a text file listing the interactions between the nodes (e.g. 1;2, 2;1, 1;3, etc.) It corresponds to a **list of all directed edges**.\n",
    "- An **adjacency matrix** is a $n\\times n$ square matrix with a $0$-valued diagonal (as we assume that there is no auto-reference). Elements are either 0- or 1-valued with 1s indicating a link between two points (if the network is directed $A_{i,j}\\neq A_{j, i}$). \n",
    "    - The adjacency matrix is not an efficient way to store a network, especially if it is sparse\n",
    "- **Transactional data** is a collection of structured data from which it is clear how to extract relationships (e.g. emails with the fields, from: A, to: B, C, cc: D, bcc: E, F, subject:\\_\\_, date:\\_\\_, etc) as graphs\n",
    "    - This task needs to rely on writing a script to transform the transactional data into a graph"
   ]
  },
  {
   "cell_type": "markdown",
   "id": "c378e737",
   "metadata": {},
   "source": [
    "### Definition of a network\n",
    "\n",
    "A network is composed of:\n",
    "- nodes (individuals)\n",
    "- edges (relationships) -- **note**: nodes + edges = graph\n",
    "- extra information on nodes and/or edges (covariates)\n",
    "\n",
    "The different types of networks:\n",
    "- directed and undirected networks\n",
    "- dynamic and static networks (**dynamic involves a temporal dimension in the relationships**)\n",
    "- multiple networks (different types of connection between sets of nodes)\n",
    "\n",
    "### Characterizing\n",
    "\n",
    "A first way to characterize a network is to **compute general statistics for it**:\n",
    "- **degree of a node** $d_i$: it measures the \"importance.\" It measures the centrality of the node in the network.\n",
    "\\begin{align}\n",
    "d_i &= \\underset{j\\neq i}{\\sum}\\mathbb{1}\\{x_i \\sim x_j\\} = \\underset{j\\neq i}{\\sum}A_{i,j}\\text{ (sum of connections in the adjacency matrix)}\\\\\n",
    "d_i&\\in\\{0, n-1\\}\\text{ (if undirected) }\\{0, 2(n-1)\\}\\text{ (if directed)}\\\\\n",
    "\\end{align}\n",
    "In most of natural networks, the distribution of the degrees follows a power law.\n",
    "- **degree of a graph**. The notion of density of the network is another way to describe it:\n",
    "\\begin{align}\n",
    "d_G=\\frac{\\overset{n}{\\underset{i=1}{\\sum}}\\overset{n}{\\underset{j=1, j\\neq i}{\\sum}}A_{i, j}}{n(n-1)\\in[0, 1]}\\\\\n",
    "n(n-1)&,\\text{ maximum number of connections in a directed graph}\\\\\n",
    "denominator&,\\text{ total edges in the network}\n",
    "\\end{align}\n",
    "\n",
    "The density could also be compouted for some parts of a network and the local densities may be different (small world effect). "
   ]
  },
  {
   "cell_type": "code",
   "execution_count": 1,
   "id": "3fe704cc",
   "metadata": {},
   "outputs": [
    {
     "name": "stdout",
     "output_type": "stream",
     "text": [
      "Collecting igraph\n",
      "  Downloading igraph-0.9.9-cp39-cp39-manylinux_2_17_x86_64.manylinux2014_x86_64.whl (3.1 MB)\n",
      "\u001b[K     |████████████████████████████████| 3.1 MB 1.9 MB/s eta 0:00:01\n",
      "\u001b[?25hCollecting network\n",
      "  Downloading network-0.1.tar.gz (2.8 kB)\n",
      "Collecting sna\n",
      "  Downloading sna-0.0.12.tar.gz (2.9 kB)\n",
      "Collecting texttable>=1.6.2\n",
      "  Downloading texttable-1.6.4-py2.py3-none-any.whl (10 kB)\n",
      "Building wheels for collected packages: network, sna\n",
      "  Building wheel for network (setup.py) ... \u001b[?25ldone\n",
      "\u001b[?25h  Created wheel for network: filename=network-0.1-py3-none-any.whl size=3154 sha256=e1c974519767dd49a3b87b8b32e69ea3528ab78e63a8609e1e4cbe1b4d906b72\n",
      "  Stored in directory: /home/quentin/.cache/pip/wheels/7a/c8/a9/8a56b32bd0cbe99b092ca1afc5d382c5c76e69a634047e2e7e\n",
      "  Building wheel for sna (setup.py) ... \u001b[?25ldone\n",
      "\u001b[?25h  Created wheel for sna: filename=sna-0.0.12-py3-none-any.whl size=3814 sha256=64536df823c99983bd85ca4ca671a006c152d1372f4d845d9cc78f99a21bbec6\n",
      "  Stored in directory: /home/quentin/.cache/pip/wheels/c5/e1/97/b5bdea4e3d6ce21143e66a636d79bd9cfc08a6df4435956f22\n",
      "Successfully built network sna\n",
      "Installing collected packages: texttable, sna, network, igraph\n",
      "Successfully installed igraph-0.9.9 network-0.1 sna-0.0.12 texttable-1.6.4\n"
     ]
    }
   ],
   "source": [
    "!pip install igraph network sna"
   ]
  },
  {
   "cell_type": "code",
   "execution_count": 2,
   "id": "e7d8e1ec",
   "metadata": {},
   "outputs": [],
   "source": [
    "import igraph, network, sna"
   ]
  },
  {
   "cell_type": "code",
   "execution_count": null,
   "id": "30effd0b",
   "metadata": {},
   "outputs": [],
   "source": []
  }
 ],
 "metadata": {
  "kernelspec": {
   "display_name": "Python [conda env:ML_base]",
   "language": "python",
   "name": "conda-env-ML_base-py"
  },
  "language_info": {
   "codemirror_mode": {
    "name": "ipython",
    "version": 3
   },
   "file_extension": ".py",
   "mimetype": "text/x-python",
   "name": "python",
   "nbconvert_exporter": "python",
   "pygments_lexer": "ipython3",
   "version": "3.9.7"
  }
 },
 "nbformat": 4,
 "nbformat_minor": 5
}
