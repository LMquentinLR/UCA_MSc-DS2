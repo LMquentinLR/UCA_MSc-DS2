{
 "cells": [
  {
   "cell_type": "markdown",
   "id": "b5196807",
   "metadata": {},
   "source": [
    "# Class 8 - GANs\n",
    "\n",
    "<hr>"
   ]
  },
  {
   "cell_type": "markdown",
   "id": "509f9d4e",
   "metadata": {},
   "source": [
    "## 1 - Generative Modeling\n",
    "\n",
    "**Goal**: Take as input training samples from some  distribution and learn a model that represent that distribution.\n",
    "\n",
    "### Vanilla GAN\n",
    "\n",
    "GANs are a way to make a generative model by haing two neural networks compete with each other.\n",
    "\n",
    "A discriminator D tries to identify real data from fakes created by the generator.\n",
    "A generator G tries to generate data from noise that trick the discriminator into thinking it's real.\n",
    "\n",
    "$$G^* = \\underset{G}{argmin}\\,Div (P_G,P_{data})$$\n",
    "\n",
    "### CycleGAN\n",
    "\n",
    "CG learns transformation across domains.\n",
    "\n",
    "### Conditional GAN\n",
    "\n",
    "Update to the Vanilla GAN to add conditions to the generation.\n",
    "\n",
    "#### Example: Conditional generative network for face generation\n",
    "- attribute classification is a long studied scientific area\n",
    "- inverse problem of attribute-labels based face generation is novel area of high interest\n",
    "\n",
    "### G^3GAN Unconditional Generation of Video\n",
    "\n",
    "G-cube modules are used to upscale from noise to a video. This is a network with attenion. \n",
    "\n",
    "### Evaluation of GANs\n",
    "\n",
    "- Inception Score, KL divergence between p and q\n",
    "- Fréchet Inception Distance, measures distance between generated dataset and source dataset\n",
    "\n",
    "## 2 - Deepfake detection\n",
    "\n",
    "digital forensics -> Multimedia forensics -> Image and video -> Integrity veritification -> Forgery detection and localization"
   ]
  }
 ],
 "metadata": {
  "kernelspec": {
   "display_name": "Python 3",
   "language": "python",
   "name": "python3"
  },
  "language_info": {
   "codemirror_mode": {
    "name": "ipython",
    "version": 3
   },
   "file_extension": ".py",
   "mimetype": "text/x-python",
   "name": "python",
   "nbconvert_exporter": "python",
   "pygments_lexer": "ipython3",
   "version": "3.8.8"
  }
 },
 "nbformat": 4,
 "nbformat_minor": 5
}
