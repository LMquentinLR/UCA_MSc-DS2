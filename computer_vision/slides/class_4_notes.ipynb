{
 "cells": [
  {
   "cell_type": "markdown",
   "id": "b5196807",
   "metadata": {},
   "source": [
    "# Class 4 - Object Detection 2 Notes\n",
    "\n",
    "<hr>"
   ]
  },
  {
   "cell_type": "markdown",
   "id": "67db41ff",
   "metadata": {},
   "source": [
    "## Performance evaluation: Average Precision\n",
    "\n",
    "$$Precision=\\frac{TP}{TP+FP}$$\n",
    "\n",
    "$$Recall=\\frac{TP}{TP+FN}$$\n",
    "\n",
    "The table to compute **Precision** only looks at the values considered above the threshold (as we're only interested in $TP$ and $FP$ values). Meanwhile, computing **Recall** looks at the full table (as we're interested in $FN$ as well as $TP$)."
   ]
  },
  {
   "cell_type": "markdown",
   "id": "af14e67c",
   "metadata": {},
   "source": [
    "### Region Proposal Network\n",
    "\n",
    "> $IoU > UT$ -> positive anchor\n",
    ">\n",
    "> $IoU < LT$ -> negative threshold\n",
    "> \n",
    "> **positive anchors** processed as an object\n",
    ">\n",
    "> **negative anchors** processed as background object\n",
    ">\n",
    "> For $LT < IoU < UT$, we simply ignore the anchors.\n",
    "\n",
    "Sizes of objects to detect are usually determined by clustering of the aspect ratios. "
   ]
  },
  {
   "cell_type": "markdown",
   "id": "af864cce",
   "metadata": {},
   "source": [
    "### Crop and resizing operation\n",
    "\n",
    "**bicubic interpolation** is not used during crop and resizing operation because it is not differentiable."
   ]
  },
  {
   "cell_type": "markdown",
   "id": "6ada6e97",
   "metadata": {},
   "source": [
    "### Loss Function\n",
    "\n",
    "Repulsion Loss gives more weight to wrong images."
   ]
  },
  {
   "cell_type": "markdown",
   "id": "509f9d4e",
   "metadata": {},
   "source": []
  },
  {
   "cell_type": "markdown",
   "id": "8b0cdcde",
   "metadata": {},
   "source": []
  },
  {
   "cell_type": "markdown",
   "id": "7d1e3318",
   "metadata": {},
   "source": []
  }
 ],
 "metadata": {
  "kernelspec": {
   "display_name": "Python 3 (ipykernel)",
   "language": "python",
   "name": "python3"
  },
  "language_info": {
   "codemirror_mode": {
    "name": "ipython",
    "version": 3
   },
   "file_extension": ".py",
   "mimetype": "text/x-python",
   "name": "python",
   "nbconvert_exporter": "python",
   "pygments_lexer": "ipython3",
   "version": "3.9.7"
  }
 },
 "nbformat": 4,
 "nbformat_minor": 5
}
