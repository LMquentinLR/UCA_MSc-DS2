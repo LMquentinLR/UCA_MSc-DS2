{
  "nbformat": 4,
  "nbformat_minor": 0,
  "metadata": {
    "colab": {
      "name": "Copy of TP_Action_Recodnition_using_LSTM",
      "provenance": [],
      "collapsed_sections": []
    },
    "kernelspec": {
      "name": "python3",
      "display_name": "Python 3"
    }
  },
  "cells": [
    {
      "cell_type": "code",
      "metadata": {
        "colab": {
          "base_uri": "https://localhost:8080/"
        },
        "id": "0nCcHqvXqbfp",
        "outputId": "ec46105b-16dc-484d-fc1b-fdac4f391647"
      },
      "source": [
        "!!pip uninstall -y tensorflow\n",
        "!pip install tensorflow-gpu==1.14.0 #Need to run this code in tensorflow v.1.14\n",
        "!pip uninstall -y keras\n",
        "!pip install keras==2.0.8"
      ],
      "execution_count": 1,
      "outputs": [
        {
          "output_type": "stream",
          "name": "stdout",
          "text": [
            "Requirement already satisfied: tensorflow-gpu==1.14.0 in /usr/local/lib/python3.7/dist-packages (1.14.0)\n",
            "Requirement already satisfied: six>=1.10.0 in /usr/local/lib/python3.7/dist-packages (from tensorflow-gpu==1.14.0) (1.15.0)\n",
            "Requirement already satisfied: wheel>=0.26 in /usr/local/lib/python3.7/dist-packages (from tensorflow-gpu==1.14.0) (0.37.0)\n",
            "Requirement already satisfied: astor>=0.6.0 in /usr/local/lib/python3.7/dist-packages (from tensorflow-gpu==1.14.0) (0.8.1)\n",
            "Requirement already satisfied: numpy<2.0,>=1.14.5 in /usr/local/lib/python3.7/dist-packages (from tensorflow-gpu==1.14.0) (1.19.5)\n",
            "Requirement already satisfied: protobuf>=3.6.1 in /usr/local/lib/python3.7/dist-packages (from tensorflow-gpu==1.14.0) (3.17.3)\n",
            "Requirement already satisfied: wrapt>=1.11.1 in /usr/local/lib/python3.7/dist-packages (from tensorflow-gpu==1.14.0) (1.12.1)\n",
            "Requirement already satisfied: keras-applications>=1.0.6 in /usr/local/lib/python3.7/dist-packages (from tensorflow-gpu==1.14.0) (1.0.8)\n",
            "Requirement already satisfied: grpcio>=1.8.6 in /usr/local/lib/python3.7/dist-packages (from tensorflow-gpu==1.14.0) (1.41.0)\n",
            "Requirement already satisfied: keras-preprocessing>=1.0.5 in /usr/local/lib/python3.7/dist-packages (from tensorflow-gpu==1.14.0) (1.1.2)\n",
            "Requirement already satisfied: tensorboard<1.15.0,>=1.14.0 in /usr/local/lib/python3.7/dist-packages (from tensorflow-gpu==1.14.0) (1.14.0)\n",
            "Requirement already satisfied: termcolor>=1.1.0 in /usr/local/lib/python3.7/dist-packages (from tensorflow-gpu==1.14.0) (1.1.0)\n",
            "Requirement already satisfied: tensorflow-estimator<1.15.0rc0,>=1.14.0rc0 in /usr/local/lib/python3.7/dist-packages (from tensorflow-gpu==1.14.0) (1.14.0)\n",
            "Requirement already satisfied: absl-py>=0.7.0 in /usr/local/lib/python3.7/dist-packages (from tensorflow-gpu==1.14.0) (0.12.0)\n",
            "Requirement already satisfied: gast>=0.2.0 in /usr/local/lib/python3.7/dist-packages (from tensorflow-gpu==1.14.0) (0.4.0)\n",
            "Requirement already satisfied: google-pasta>=0.1.6 in /usr/local/lib/python3.7/dist-packages (from tensorflow-gpu==1.14.0) (0.2.0)\n",
            "Requirement already satisfied: h5py in /usr/local/lib/python3.7/dist-packages (from keras-applications>=1.0.6->tensorflow-gpu==1.14.0) (2.10.0)\n",
            "Requirement already satisfied: werkzeug>=0.11.15 in /usr/local/lib/python3.7/dist-packages (from tensorboard<1.15.0,>=1.14.0->tensorflow-gpu==1.14.0) (1.0.1)\n",
            "Requirement already satisfied: setuptools>=41.0.0 in /usr/local/lib/python3.7/dist-packages (from tensorboard<1.15.0,>=1.14.0->tensorflow-gpu==1.14.0) (57.4.0)\n",
            "Requirement already satisfied: markdown>=2.6.8 in /usr/local/lib/python3.7/dist-packages (from tensorboard<1.15.0,>=1.14.0->tensorflow-gpu==1.14.0) (3.3.4)\n",
            "Requirement already satisfied: importlib-metadata in /usr/local/lib/python3.7/dist-packages (from markdown>=2.6.8->tensorboard<1.15.0,>=1.14.0->tensorflow-gpu==1.14.0) (4.8.1)\n",
            "Requirement already satisfied: typing-extensions>=3.6.4 in /usr/local/lib/python3.7/dist-packages (from importlib-metadata->markdown>=2.6.8->tensorboard<1.15.0,>=1.14.0->tensorflow-gpu==1.14.0) (3.7.4.3)\n",
            "Requirement already satisfied: zipp>=0.5 in /usr/local/lib/python3.7/dist-packages (from importlib-metadata->markdown>=2.6.8->tensorboard<1.15.0,>=1.14.0->tensorflow-gpu==1.14.0) (3.6.0)\n",
            "Found existing installation: Keras 2.0.8\n",
            "Uninstalling Keras-2.0.8:\n",
            "  Successfully uninstalled Keras-2.0.8\n",
            "Collecting keras==2.0.8\n",
            "  Using cached Keras-2.0.8-py2.py3-none-any.whl (276 kB)\n",
            "Requirement already satisfied: pyyaml in /usr/local/lib/python3.7/dist-packages (from keras==2.0.8) (3.13)\n",
            "Requirement already satisfied: six>=1.9.0 in /usr/local/lib/python3.7/dist-packages (from keras==2.0.8) (1.15.0)\n",
            "Requirement already satisfied: scipy>=0.14 in /usr/local/lib/python3.7/dist-packages (from keras==2.0.8) (1.4.1)\n",
            "Requirement already satisfied: numpy>=1.9.1 in /usr/local/lib/python3.7/dist-packages (from keras==2.0.8) (1.19.5)\n",
            "Installing collected packages: keras\n",
            "Successfully installed keras-2.0.8\n"
          ]
        }
      ]
    },
    {
      "cell_type": "code",
      "metadata": {
        "colab": {
          "base_uri": "https://localhost:8080/"
        },
        "id": "GmT1Xxvd0dCe",
        "outputId": "a7e223be-4a37-42ed-eafb-86c565752b27"
      },
      "source": [
        "pip install h5py==2.10.0"
      ],
      "execution_count": 2,
      "outputs": [
        {
          "output_type": "stream",
          "name": "stdout",
          "text": [
            "Requirement already satisfied: h5py==2.10.0 in /usr/local/lib/python3.7/dist-packages (2.10.0)\n",
            "Requirement already satisfied: numpy>=1.7 in /usr/local/lib/python3.7/dist-packages (from h5py==2.10.0) (1.19.5)\n",
            "Requirement already satisfied: six in /usr/local/lib/python3.7/dist-packages (from h5py==2.10.0) (1.15.0)\n"
          ]
        }
      ]
    },
    {
      "cell_type": "code",
      "metadata": {
        "id": "LwVtrQgXhEob",
        "colab": {
          "base_uri": "https://localhost:8080/"
        },
        "outputId": "d034a03e-ecb8-486c-ceb0-8e87e4401d4c"
      },
      "source": [
        "!git clone https://github.com/dairui01/TP_Action_Recognition_using_LSTM.git"
      ],
      "execution_count": 3,
      "outputs": [
        {
          "output_type": "stream",
          "name": "stdout",
          "text": [
            "fatal: destination path 'TP_Action_Recognition_using_LSTM' already exists and is not an empty directory.\n"
          ]
        }
      ]
    },
    {
      "cell_type": "code",
      "metadata": {
        "id": "aIhjONx9hJHP",
        "colab": {
          "base_uri": "https://localhost:8080/"
        },
        "outputId": "90ee97e3-4d83-42b1-f4b1-ba32cb4fed68"
      },
      "source": [
        "cd TP_Action_Recognition_using_LSTM/"
      ],
      "execution_count": 4,
      "outputs": [
        {
          "output_type": "stream",
          "name": "stdout",
          "text": [
            "/content/TP_Action_Recognition_using_LSTM\n"
          ]
        }
      ]
    },
    {
      "cell_type": "code",
      "metadata": {
        "id": "j_daTvuh0OMW",
        "colab": {
          "base_uri": "https://localhost:8080/"
        },
        "outputId": "8738c017-6db8-4b5f-b2b9-cf4cc5ef8f5d"
      },
      "source": [
        "!ls"
      ],
      "execution_count": 5,
      "outputs": [
        {
          "output_type": "stream",
          "name": "stdout",
          "text": [
            "LSTM_poses\t   models.py\t\t   __pycache__\t train.txt\n",
            "LSTM_poses.tar.gz  MSR_msr.csv\t\t   README.md\t validation.txt\n",
            "lstm_train.sh\t   MSR_skeleton_loader.py  test_code.py\n",
            "main.py\t\t   options.py\t\t   test.txt\n"
          ]
        }
      ]
    },
    {
      "cell_type": "markdown",
      "metadata": {
        "id": "300RAxBB2EHl"
      },
      "source": [
        "**Uncompressed the data**"
      ]
    },
    {
      "cell_type": "code",
      "metadata": {
        "id": "rYi8s7LJhXJ-",
        "colab": {
          "base_uri": "https://localhost:8080/"
        },
        "outputId": "b3df8e42-9840-4c58-c9be-282f27e2b01e"
      },
      "source": [
        "!tar xvzf \"LSTM_poses.tar.gz\""
      ],
      "execution_count": 6,
      "outputs": [
        {
          "output_type": "stream",
          "name": "stdout",
          "text": [
            "LSTM_poses/a03_s07_e01_rgb.npz\n",
            "LSTM_poses/a01_s08_e02_rgb.npz\n",
            "LSTM_poses/a03_s03_e01_rgb.npz\n",
            "LSTM_poses/a10_s07_e01_rgb.npz\n",
            "LSTM_poses/a10_s05_e01_rgb.npz\n",
            "LSTM_poses/a03_s05_e01_rgb.npz\n",
            "LSTM_poses/a07_s09_e01_rgb.npz\n",
            "LSTM_poses/a01_s10_e01_rgb.npz\n",
            "LSTM_poses/a15_s02_e02_rgb.npz\n",
            "LSTM_poses/a07_s07_e01_rgb.npz\n",
            "LSTM_poses/a14_s09_e01_rgb.npz\n",
            "LSTM_poses/a14_s07_e01_rgb.npz\n",
            "LSTM_poses/a07_s05_e01_rgb.npz\n",
            "LSTM_poses/a12_s10_e01_rgb.npz\n",
            "LSTM_poses/a05_s10_e01_rgb.npz\n",
            "LSTM_poses/a16_s10_e01_rgb.npz\n",
            "LSTM_poses/a09_s10_e01_rgb.npz\n",
            "LSTM_poses/a10_s05_e02_rgb.npz\n",
            "LSTM_poses/a03_s01_e02_rgb.npz\n",
            "LSTM_poses/a10_s03_e02_rgb.npz\n",
            "LSTM_poses/a10_s01_e02_rgb.npz\n",
            "LSTM_poses/a03_s03_e02_rgb.npz\n",
            "LSTM_poses/a02_s08_e01_rgb.npz\n",
            "LSTM_poses/a14_s05_e02_rgb.npz\n",
            "LSTM_poses/a07_s05_e02_rgb.npz\n",
            "LSTM_poses/a14_s07_e02_rgb.npz\n",
            "LSTM_poses/a14_s03_e02_rgb.npz\n",
            "LSTM_poses/a07_s03_e02_rgb.npz\n",
            "LSTM_poses/a12_s10_e02_rgb.npz\n",
            "LSTM_poses/a16_s02_e01_rgb.npz\n",
            "LSTM_poses/a09_s02_e01_rgb.npz\n",
            "LSTM_poses/a16_s10_e02_rgb.npz\n",
            "LSTM_poses/a09_s10_e02_rgb.npz\n",
            "LSTM_poses/a02_s08_e02_rgb.npz\n",
            "LSTM_poses/a04_s01_e01_rgb.npz\n",
            "LSTM_poses/a02_s06_e02_rgb.npz\n",
            "LSTM_poses/a15_s05_e01_rgb.npz\n",
            "LSTM_poses/a04_s03_e01_rgb.npz\n",
            "LSTM_poses/a11_s05_e01_rgb.npz\n",
            "LSTM_poses/a11_s03_e01_rgb.npz\n",
            "LSTM_poses/a04_s05_e01_rgb.npz\n",
            "LSTM_poses/a08_s05_e01_rgb.npz\n",
            "LSTM_poses/a13_s08_e02_rgb.npz\n",
            "LSTM_poses/a06_s08_e02_rgb.npz\n",
            "LSTM_poses/a08_s03_e01_rgb.npz\n",
            "LSTM_poses/a15_s07_e01_rgb.npz\n",
            "LSTM_poses/a15_s03_e01_rgb.npz\n",
            "LSTM_poses/a08_s07_e01_rgb.npz\n",
            "LSTM_poses/a13_s10_e01_rgb.npz\n",
            "LSTM_poses/a11_s01_e02_rgb.npz\n",
            "LSTM_poses/a11_s03_e02_rgb.npz\n",
            "LSTM_poses/a03_s08_e01_rgb.npz\n",
            "LSTM_poses/a04_s01_e02_rgb.npz\n",
            "LSTM_poses/a10_s08_e01_rgb.npz\n",
            "LSTM_poses/a03_s06_e01_rgb.npz\n",
            "LSTM_poses/a15_s05_e02_rgb.npz\n",
            "LSTM_poses/a08_s01_e02_rgb.npz\n",
            "LSTM_poses/a15_s01_e02_rgb.npz\n",
            "LSTM_poses/a15_s03_e02_rgb.npz\n",
            "LSTM_poses/a08_s03_e02_rgb.npz\n",
            "LSTM_poses/a14_s08_e01_rgb.npz\n",
            "LSTM_poses/a07_s08_e01_rgb.npz\n",
            "LSTM_poses/a07_s08_e02_rgb.npz\n",
            "LSTM_poses/a07_s04_e02_rgb.npz\n",
            "LSTM_poses/a03_s04_e02_rgb.npz\n",
            "LSTM_poses/a16_s03_e01_rgb.npz\n",
            "LSTM_poses/a10_s06_e02_rgb.npz\n",
            "LSTM_poses/a01_s01_e01_rgb.npz\n",
            "LSTM_poses/a10_s04_e02_rgb.npz\n",
            "LSTM_poses/a10_s08_e02_rgb.npz\n",
            "LSTM_poses/a03_s06_e02_rgb.npz\n",
            "LSTM_poses/a05_s03_e01_rgb.npz\n",
            "LSTM_poses/a12_s03_e01_rgb.npz\n",
            "LSTM_poses/a12_s01_e01_rgb.npz\n",
            "LSTM_poses/a05_s01_e01_rgb.npz\n",
            "LSTM_poses/a14_s08_e02_rgb.npz\n",
            "LSTM_poses/a14_s06_e02_rgb.npz\n",
            "LSTM_poses/a07_s06_e02_rgb.npz\n",
            "LSTM_poses/a09_s01_e01_rgb.npz\n",
            "LSTM_poses/a16_s05_e01_rgb.npz\n",
            "LSTM_poses/a16_s01_e01_rgb.npz\n",
            "LSTM_poses/a09_s03_e01_rgb.npz\n",
            "LSTM_poses/a16_s01_e02_rgb.npz\n",
            "LSTM_poses/a04_s04_e01_rgb.npz\n",
            "LSTM_poses/a15_s08_e01_rgb.npz\n",
            "LSTM_poses/a11_s08_e01_rgb.npz\n",
            "LSTM_poses/a04_s08_e01_rgb.npz\n",
            "LSTM_poses/a02_s09_e02_rgb.npz\n",
            "LSTM_poses/a12_s01_e02_rgb.npz\n",
            "LSTM_poses/a11_s04_e01_rgb.npz\n",
            "LSTM_poses/a11_s06_e01_rgb.npz\n",
            "LSTM_poses/a04_s06_e01_rgb.npz\n",
            "LSTM_poses/a08_s06_e01_rgb.npz\n",
            "LSTM_poses/a06_s09_e02_rgb.npz\n",
            "LSTM_poses/a16_s03_e02_rgb.npz\n",
            "LSTM_poses/a09_s01_e02_rgb.npz\n",
            "LSTM_poses/a15_s06_e01_rgb.npz\n",
            "LSTM_poses/a08_s08_e01_rgb.npz\n",
            "LSTM_poses/a12_s02_e01_rgb.npz\n",
            "LSTM_poses/a11_s02_e02_rgb.npz\n",
            "LSTM_poses/a04_s04_e02_rgb.npz\n",
            "LSTM_poses/a11_s06_e02_rgb.npz\n",
            "LSTM_poses/a08_s02_e02_rgb.npz\n",
            "LSTM_poses/a10_s09_e01_rgb.npz\n",
            "LSTM_poses/a11_s04_e02_rgb.npz\n",
            "LSTM_poses/a04_s02_e02_rgb.npz\n",
            "LSTM_poses/a08_s06_e02_rgb.npz\n",
            "LSTM_poses/a03_s09_e01_rgb.npz\n",
            "LSTM_poses/a13_s01_e01_rgb.npz\n",
            "LSTM_poses/a06_s01_e01_rgb.npz\n",
            "LSTM_poses/a15_s04_e02_rgb.npz\n",
            "LSTM_poses/a15_s06_e02_rgb.npz\n",
            "LSTM_poses/a08_s04_e02_rgb.npz\n",
            "LSTM_poses/a12_s04_e01_rgb.npz\n",
            "LSTM_poses/a16_s04_e01_rgb.npz\n",
            "LSTM_poses/a10_s09_e02_rgb.npz\n",
            "LSTM_poses/a03_s07_e02_rgb.npz\n",
            "LSTM_poses/a05_s10_e02_rgb.npz\n",
            "LSTM_poses/a01_s02_e01_rgb.npz\n",
            "LSTM_poses/a01_s04_e01_rgb.npz\n",
            "LSTM_poses/a10_s07_e02_rgb.npz\n",
            "LSTM_poses/a03_s09_e02_rgb.npz\n",
            "LSTM_poses/a03_s05_e02_rgb.npz\n",
            "LSTM_poses/a05_s02_e01_rgb.npz\n",
            "LSTM_poses/a01_s10_e02_rgb.npz\n",
            "LSTM_poses/a12_s06_e01_rgb.npz\n",
            "LSTM_poses/a05_s04_e01_rgb.npz\n",
            "LSTM_poses/a14_s09_e02_rgb.npz\n",
            "LSTM_poses/a07_s07_e02_rgb.npz\n",
            "LSTM_poses/a07_s09_e02_rgb.npz\n",
            "LSTM_poses/a09_s06_e01_rgb.npz\n",
            "LSTM_poses/a16_s06_e01_rgb.npz\n",
            "LSTM_poses/a16_s08_e01_rgb.npz\n",
            "LSTM_poses/a09_s04_e01_rgb.npz\n",
            "LSTM_poses/a02_s10_e01_rgb.npz\n",
            "LSTM_poses/a12_s02_e02_rgb.npz\n",
            "LSTM_poses/a05_s02_e02_rgb.npz\n",
            "LSTM_poses/a12_s04_e02_rgb.npz\n",
            "LSTM_poses/a04_s09_e01_rgb.npz\n",
            "LSTM_poses/a11_s07_e01_rgb.npz\n",
            "LSTM_poses/a11_s09_e01_rgb.npz\n",
            "LSTM_poses/a04_s07_e01_rgb.npz\n",
            "LSTM_poses/a09_s04_e02_rgb.npz\n",
            "LSTM_poses/a16_s02_e02_rgb.npz\n",
            "LSTM_poses/a16_s04_e02_rgb.npz\n",
            "LSTM_poses/a09_s02_e02_rgb.npz\n",
            "LSTM_poses/a15_s09_e01_rgb.npz\n",
            "LSTM_poses/a08_s09_e01_rgb.npz\n",
            "LSTM_poses/a06_s10_e01_rgb.npz\n",
            "LSTM_poses/a02_s10_e02_rgb.npz\n",
            "LSTM_poses/a08_s09_e02_rgb.npz\n",
            "LSTM_poses/a11_s09_e02_rgb.npz\n",
            "LSTM_poses/a04_s03_e02_rgb.npz\n",
            "LSTM_poses/a02_s02_e01_rgb.npz\n",
            "LSTM_poses/a04_s07_e02_rgb.npz\n",
            "LSTM_poses/a11_s05_e02_rgb.npz\n",
            "LSTM_poses/a11_s07_e02_rgb.npz\n",
            "LSTM_poses/a04_s05_e02_rgb.npz\n",
            "LSTM_poses/a08_s05_e02_rgb.npz\n",
            "LSTM_poses/a13_s04_e01_rgb.npz\n",
            "LSTM_poses/a13_s02_e01_rgb.npz\n",
            "LSTM_poses/a06_s02_e01_rgb.npz\n",
            "LSTM_poses/a15_s07_e02_rgb.npz\n",
            "LSTM_poses/a15_s09_e02_rgb.npz\n",
            "LSTM_poses/a08_s07_e02_rgb.npz\n",
            "LSTM_poses/a13_s10_e02_rgb.npz\n",
            "LSTM_poses/a06_s10_e02_rgb.npz\n",
            "LSTM_poses/a12_s07_e01_rgb.npz\n",
            "LSTM_poses/a16_s09_e01_rgb.npz\n",
            "LSTM_poses/a01_s03_e01_rgb.npz\n",
            "LSTM_poses/a01_s05_e01_rgb.npz\n",
            "LSTM_poses/a03_s08_e02_rgb.npz\n",
            "LSTM_poses/a05_s05_e01_rgb.npz\n",
            "LSTM_poses/a12_s05_e01_rgb.npz\n",
            "LSTM_poses/a12_s09_e01_rgb.npz\n",
            "LSTM_poses/a05_s07_e01_rgb.npz\n",
            "LSTM_poses/a10_s10_e01_rgb.npz\n",
            "LSTM_poses/a03_s10_e01_rgb.npz\n",
            "LSTM_poses/a09_s07_e01_rgb.npz\n",
            "LSTM_poses/a16_s07_e01_rgb.npz\n",
            "LSTM_poses/a09_s05_e01_rgb.npz\n",
            "LSTM_poses/a09_s09_e01_rgb.npz\n",
            "LSTM_poses/a14_s10_e01_rgb.npz\n",
            "LSTM_poses/a07_s10_e01_rgb.npz\n",
            "LSTM_poses/a01_s03_e02_rgb.npz\n",
            "LSTM_poses/a01_s01_e02_rgb.npz\n",
            "LSTM_poses/a05_s01_e02_rgb.npz\n",
            "LSTM_poses/a05_s05_e02_rgb.npz\n",
            "LSTM_poses/a12_s05_e02_rgb.npz\n",
            "LSTM_poses/a12_s03_e02_rgb.npz\n",
            "LSTM_poses/a05_s03_e02_rgb.npz\n",
            "LSTM_poses/a09_s07_e02_rgb.npz\n",
            "LSTM_poses/a14_s02_e01_rgb.npz\n",
            "LSTM_poses/a09_s03_e02_rgb.npz\n",
            "LSTM_poses/a16_s05_e02_rgb.npz\n",
            "LSTM_poses/a16_s07_e02_rgb.npz\n",
            "LSTM_poses/a09_s05_e02_rgb.npz\n",
            "LSTM_poses/a14_s10_e02_rgb.npz\n",
            "LSTM_poses/a04_s08_e02_rgb.npz\n",
            "LSTM_poses/a02_s01_e01_rgb.npz\n",
            "LSTM_poses/a02_s03_e01_rgb.npz\n",
            "LSTM_poses/a11_s08_e02_rgb.npz\n",
            "LSTM_poses/a04_s06_e02_rgb.npz\n",
            "LSTM_poses/a13_s05_e01_rgb.npz\n",
            "LSTM_poses/a06_s05_e01_rgb.npz\n",
            "LSTM_poses/a13_s07_e01_rgb.npz\n",
            "LSTM_poses/a13_s03_e01_rgb.npz\n",
            "LSTM_poses/a06_s03_e01_rgb.npz\n",
            "LSTM_poses/a15_s08_e02_rgb.npz\n",
            "LSTM_poses/a08_s08_e02_rgb.npz\n",
            "LSTM_poses/a15_s10_e01_rgb.npz\n",
            "LSTM_poses/a08_s10_e01_rgb.npz\n",
            "LSTM_poses/a02_s01_e02_rgb.npz\n",
            "LSTM_poses/a01_s08_e01_rgb.npz\n",
            "LSTM_poses/a01_s06_e01_rgb.npz\n",
            "LSTM_poses/a05_s06_e01_rgb.npz\n",
            "LSTM_poses/a06_s03_e02_rgb.npz\n",
            "LSTM_poses/a13_s03_e02_rgb.npz\n",
            "LSTM_poses/a13_s01_e02_rgb.npz\n",
            "LSTM_poses/a06_s01_e02_rgb.npz\n",
            "LSTM_poses/a12_s08_e01_rgb.npz\n",
            "LSTM_poses/a05_s08_e01_rgb.npz\n",
            "LSTM_poses/a09_s08_e01_rgb.npz\n",
            "LSTM_poses/a01_s06_e02_rgb.npz\n",
            "LSTM_poses/a14_s01_e01_rgb.npz\n",
            "LSTM_poses/a07_s03_e01_rgb.npz\n",
            "LSTM_poses/a05_s04_e02_rgb.npz\n",
            "LSTM_poses/a01_s02_e02_rgb.npz\n",
            "LSTM_poses/a01_s04_e02_rgb.npz\n",
            "LSTM_poses/a05_s08_e02_rgb.npz\n",
            "LSTM_poses/a10_s01_e01_rgb.npz\n",
            "LSTM_poses/a10_s03_e01_rgb.npz\n",
            "LSTM_poses/a03_s01_e01_rgb.npz\n",
            "LSTM_poses/a12_s06_e02_rgb.npz\n",
            "LSTM_poses/a12_s08_e02_rgb.npz\n",
            "LSTM_poses/a05_s06_e02_rgb.npz\n",
            "LSTM_poses/a09_s08_e02_rgb.npz\n",
            "LSTM_poses/a14_s03_e01_rgb.npz\n",
            "LSTM_poses/a14_s05_e01_rgb.npz\n",
            "LSTM_poses/a07_s01_e01_rgb.npz\n",
            "LSTM_poses/a16_s08_e02_rgb.npz\n",
            "LSTM_poses/a16_s06_e02_rgb.npz\n",
            "LSTM_poses/a09_s06_e02_rgb.npz\n",
            "LSTM_poses/a06_s04_e01_rgb.npz\n",
            "LSTM_poses/a02_s04_e01_rgb.npz\n",
            "LSTM_poses/a02_s06_e01_rgb.npz\n",
            "LSTM_poses/a06_s06_e01_rgb.npz\n",
            "LSTM_poses/a04_s09_e02_rgb.npz\n",
            "LSTM_poses/a13_s08_e01_rgb.npz\n",
            "LSTM_poses/a14_s01_e02_rgb.npz\n",
            "LSTM_poses/a07_s01_e02_rgb.npz\n",
            "LSTM_poses/a13_s06_e01_rgb.npz\n",
            "LSTM_poses/a06_s08_e01_rgb.npz\n",
            "LSTM_poses/a01_s09_e01_rgb.npz\n",
            "LSTM_poses/a11_s01_e01_rgb.npz\n",
            "LSTM_poses/a02_s04_e02_rgb.npz\n",
            "LSTM_poses/a02_s02_e02_rgb.npz\n",
            "LSTM_poses/a06_s02_e02_rgb.npz\n",
            "LSTM_poses/a01_s07_e01_rgb.npz\n",
            "LSTM_poses/a13_s04_e02_rgb.npz\n",
            "LSTM_poses/a06_s06_e02_rgb.npz\n",
            "LSTM_poses/a13_s02_e02_rgb.npz\n",
            "LSTM_poses/a13_s06_e02_rgb.npz\n",
            "LSTM_poses/a06_s04_e02_rgb.npz\n",
            "LSTM_poses/a05_s09_e01_rgb.npz\n",
            "LSTM_poses/a15_s01_e01_rgb.npz\n",
            "LSTM_poses/a08_s01_e01_rgb.npz\n",
            "LSTM_poses/a01_s09_e02_rgb.npz\n",
            "LSTM_poses/a10_s04_e01_rgb.npz\n",
            "LSTM_poses/a01_s05_e02_rgb.npz\n",
            "LSTM_poses/a14_s04_e01_rgb.npz\n",
            "LSTM_poses/a07_s04_e01_rgb.npz\n",
            "LSTM_poses/a05_s07_e02_rgb.npz\n",
            "LSTM_poses/a03_s04_e01_rgb.npz\n",
            "LSTM_poses/\n",
            "LSTM_poses/a01_s07_e02_rgb.npz\n",
            "LSTM_poses/a03_s02_e01_rgb.npz\n",
            "LSTM_poses/a10_s02_e01_rgb.npz\n",
            "LSTM_poses/a10_s06_e01_rgb.npz\n",
            "LSTM_poses/a03_s10_e02_rgb.npz\n",
            "LSTM_poses/a12_s09_e02_rgb.npz\n",
            "LSTM_poses/a12_s07_e02_rgb.npz\n",
            "LSTM_poses/a05_s09_e02_rgb.npz\n",
            "LSTM_poses/a07_s06_e01_rgb.npz\n",
            "LSTM_poses/a10_s10_e02_rgb.npz\n",
            "LSTM_poses/a14_s06_e01_rgb.npz\n",
            "LSTM_poses/a07_s02_e01_rgb.npz\n",
            "LSTM_poses/a16_s09_e02_rgb.npz\n",
            "LSTM_poses/a09_s09_e02_rgb.npz\n",
            "LSTM_poses/a07_s10_e02_rgb.npz\n",
            "LSTM_poses/a02_s07_e01_rgb.npz\n",
            "LSTM_poses/a10_s02_e02_rgb.npz\n",
            "LSTM_poses/a03_s02_e02_rgb.npz\n",
            "LSTM_poses/a02_s09_e01_rgb.npz\n",
            "LSTM_poses/a02_s05_e01_rgb.npz\n",
            "LSTM_poses/a07_s02_e02_rgb.npz\n",
            "LSTM_poses/a14_s04_e02_rgb.npz\n",
            "LSTM_poses/a14_s02_e02_rgb.npz\n",
            "LSTM_poses/a13_s09_e01_rgb.npz\n",
            "LSTM_poses/a06_s09_e01_rgb.npz\n",
            "LSTM_poses/a06_s07_e01_rgb.npz\n",
            "LSTM_poses/a11_s10_e01_rgb.npz\n",
            "LSTM_poses/a04_s10_e01_rgb.npz\n",
            "LSTM_poses/a04_s10_e02_rgb.npz\n",
            "LSTM_poses/a15_s02_e01_rgb.npz\n",
            "LSTM_poses/a02_s07_e02_rgb.npz\n",
            "LSTM_poses/a02_s03_e02_rgb.npz\n",
            "LSTM_poses/a02_s05_e02_rgb.npz\n",
            "LSTM_poses/a04_s02_e01_rgb.npz\n",
            "LSTM_poses/a11_s02_e01_rgb.npz\n",
            "LSTM_poses/a13_s07_e02_rgb.npz\n",
            "LSTM_poses/a06_s05_e02_rgb.npz\n",
            "LSTM_poses/a13_s05_e02_rgb.npz\n",
            "LSTM_poses/a13_s09_e02_rgb.npz\n",
            "LSTM_poses/a06_s07_e02_rgb.npz\n",
            "LSTM_poses/a08_s04_e01_rgb.npz\n",
            "LSTM_poses/a11_s10_e02_rgb.npz\n",
            "LSTM_poses/a15_s04_e01_rgb.npz\n",
            "LSTM_poses/a08_s02_e01_rgb.npz\n",
            "LSTM_poses/a15_s10_e02_rgb.npz\n",
            "LSTM_poses/a08_s10_e02_rgb.npz\n"
          ]
        }
      ]
    },
    {
      "cell_type": "code",
      "metadata": {
        "id": "bCP6RIKv3NIb",
        "colab": {
          "base_uri": "https://localhost:8080/"
        },
        "outputId": "f722671b-cab0-4935-91b1-13d43a9ebfa4"
      },
      "source": [
        "!ls LSTM_poses/"
      ],
      "execution_count": 7,
      "outputs": [
        {
          "output_type": "stream",
          "name": "stdout",
          "text": [
            "a01_s01_e01_rgb.npz  a06_s04_e02_rgb.npz  a11_s08_e01_rgb.npz\n",
            "a01_s01_e02_rgb.npz  a06_s05_e01_rgb.npz  a11_s08_e02_rgb.npz\n",
            "a01_s02_e01_rgb.npz  a06_s05_e02_rgb.npz  a11_s09_e01_rgb.npz\n",
            "a01_s02_e02_rgb.npz  a06_s06_e01_rgb.npz  a11_s09_e02_rgb.npz\n",
            "a01_s03_e01_rgb.npz  a06_s06_e02_rgb.npz  a11_s10_e01_rgb.npz\n",
            "a01_s03_e02_rgb.npz  a06_s07_e01_rgb.npz  a11_s10_e02_rgb.npz\n",
            "a01_s04_e01_rgb.npz  a06_s07_e02_rgb.npz  a12_s01_e01_rgb.npz\n",
            "a01_s04_e02_rgb.npz  a06_s08_e01_rgb.npz  a12_s01_e02_rgb.npz\n",
            "a01_s05_e01_rgb.npz  a06_s08_e02_rgb.npz  a12_s02_e01_rgb.npz\n",
            "a01_s05_e02_rgb.npz  a06_s09_e01_rgb.npz  a12_s02_e02_rgb.npz\n",
            "a01_s06_e01_rgb.npz  a06_s09_e02_rgb.npz  a12_s03_e01_rgb.npz\n",
            "a01_s06_e02_rgb.npz  a06_s10_e01_rgb.npz  a12_s03_e02_rgb.npz\n",
            "a01_s07_e01_rgb.npz  a06_s10_e02_rgb.npz  a12_s04_e01_rgb.npz\n",
            "a01_s07_e02_rgb.npz  a07_s01_e01_rgb.npz  a12_s04_e02_rgb.npz\n",
            "a01_s08_e01_rgb.npz  a07_s01_e02_rgb.npz  a12_s05_e01_rgb.npz\n",
            "a01_s08_e02_rgb.npz  a07_s02_e01_rgb.npz  a12_s05_e02_rgb.npz\n",
            "a01_s09_e01_rgb.npz  a07_s02_e02_rgb.npz  a12_s06_e01_rgb.npz\n",
            "a01_s09_e02_rgb.npz  a07_s03_e01_rgb.npz  a12_s06_e02_rgb.npz\n",
            "a01_s10_e01_rgb.npz  a07_s03_e02_rgb.npz  a12_s07_e01_rgb.npz\n",
            "a01_s10_e02_rgb.npz  a07_s04_e01_rgb.npz  a12_s07_e02_rgb.npz\n",
            "a02_s01_e01_rgb.npz  a07_s04_e02_rgb.npz  a12_s08_e01_rgb.npz\n",
            "a02_s01_e02_rgb.npz  a07_s05_e01_rgb.npz  a12_s08_e02_rgb.npz\n",
            "a02_s02_e01_rgb.npz  a07_s05_e02_rgb.npz  a12_s09_e01_rgb.npz\n",
            "a02_s02_e02_rgb.npz  a07_s06_e01_rgb.npz  a12_s09_e02_rgb.npz\n",
            "a02_s03_e01_rgb.npz  a07_s06_e02_rgb.npz  a12_s10_e01_rgb.npz\n",
            "a02_s03_e02_rgb.npz  a07_s07_e01_rgb.npz  a12_s10_e02_rgb.npz\n",
            "a02_s04_e01_rgb.npz  a07_s07_e02_rgb.npz  a13_s01_e01_rgb.npz\n",
            "a02_s04_e02_rgb.npz  a07_s08_e01_rgb.npz  a13_s01_e02_rgb.npz\n",
            "a02_s05_e01_rgb.npz  a07_s08_e02_rgb.npz  a13_s02_e01_rgb.npz\n",
            "a02_s05_e02_rgb.npz  a07_s09_e01_rgb.npz  a13_s02_e02_rgb.npz\n",
            "a02_s06_e01_rgb.npz  a07_s09_e02_rgb.npz  a13_s03_e01_rgb.npz\n",
            "a02_s06_e02_rgb.npz  a07_s10_e01_rgb.npz  a13_s03_e02_rgb.npz\n",
            "a02_s07_e01_rgb.npz  a07_s10_e02_rgb.npz  a13_s04_e01_rgb.npz\n",
            "a02_s07_e02_rgb.npz  a08_s01_e01_rgb.npz  a13_s04_e02_rgb.npz\n",
            "a02_s08_e01_rgb.npz  a08_s01_e02_rgb.npz  a13_s05_e01_rgb.npz\n",
            "a02_s08_e02_rgb.npz  a08_s02_e01_rgb.npz  a13_s05_e02_rgb.npz\n",
            "a02_s09_e01_rgb.npz  a08_s02_e02_rgb.npz  a13_s06_e01_rgb.npz\n",
            "a02_s09_e02_rgb.npz  a08_s03_e01_rgb.npz  a13_s06_e02_rgb.npz\n",
            "a02_s10_e01_rgb.npz  a08_s03_e02_rgb.npz  a13_s07_e01_rgb.npz\n",
            "a02_s10_e02_rgb.npz  a08_s04_e01_rgb.npz  a13_s07_e02_rgb.npz\n",
            "a03_s01_e01_rgb.npz  a08_s04_e02_rgb.npz  a13_s08_e01_rgb.npz\n",
            "a03_s01_e02_rgb.npz  a08_s05_e01_rgb.npz  a13_s08_e02_rgb.npz\n",
            "a03_s02_e01_rgb.npz  a08_s05_e02_rgb.npz  a13_s09_e01_rgb.npz\n",
            "a03_s02_e02_rgb.npz  a08_s06_e01_rgb.npz  a13_s09_e02_rgb.npz\n",
            "a03_s03_e01_rgb.npz  a08_s06_e02_rgb.npz  a13_s10_e01_rgb.npz\n",
            "a03_s03_e02_rgb.npz  a08_s07_e01_rgb.npz  a13_s10_e02_rgb.npz\n",
            "a03_s04_e01_rgb.npz  a08_s07_e02_rgb.npz  a14_s01_e01_rgb.npz\n",
            "a03_s04_e02_rgb.npz  a08_s08_e01_rgb.npz  a14_s01_e02_rgb.npz\n",
            "a03_s05_e01_rgb.npz  a08_s08_e02_rgb.npz  a14_s02_e01_rgb.npz\n",
            "a03_s05_e02_rgb.npz  a08_s09_e01_rgb.npz  a14_s02_e02_rgb.npz\n",
            "a03_s06_e01_rgb.npz  a08_s09_e02_rgb.npz  a14_s03_e01_rgb.npz\n",
            "a03_s06_e02_rgb.npz  a08_s10_e01_rgb.npz  a14_s03_e02_rgb.npz\n",
            "a03_s07_e01_rgb.npz  a08_s10_e02_rgb.npz  a14_s04_e01_rgb.npz\n",
            "a03_s07_e02_rgb.npz  a09_s01_e01_rgb.npz  a14_s04_e02_rgb.npz\n",
            "a03_s08_e01_rgb.npz  a09_s01_e02_rgb.npz  a14_s05_e01_rgb.npz\n",
            "a03_s08_e02_rgb.npz  a09_s02_e01_rgb.npz  a14_s05_e02_rgb.npz\n",
            "a03_s09_e01_rgb.npz  a09_s02_e02_rgb.npz  a14_s06_e01_rgb.npz\n",
            "a03_s09_e02_rgb.npz  a09_s03_e01_rgb.npz  a14_s06_e02_rgb.npz\n",
            "a03_s10_e01_rgb.npz  a09_s03_e02_rgb.npz  a14_s07_e01_rgb.npz\n",
            "a03_s10_e02_rgb.npz  a09_s04_e01_rgb.npz  a14_s07_e02_rgb.npz\n",
            "a04_s01_e01_rgb.npz  a09_s04_e02_rgb.npz  a14_s08_e01_rgb.npz\n",
            "a04_s01_e02_rgb.npz  a09_s05_e01_rgb.npz  a14_s08_e02_rgb.npz\n",
            "a04_s02_e01_rgb.npz  a09_s05_e02_rgb.npz  a14_s09_e01_rgb.npz\n",
            "a04_s02_e02_rgb.npz  a09_s06_e01_rgb.npz  a14_s09_e02_rgb.npz\n",
            "a04_s03_e01_rgb.npz  a09_s06_e02_rgb.npz  a14_s10_e01_rgb.npz\n",
            "a04_s03_e02_rgb.npz  a09_s07_e01_rgb.npz  a14_s10_e02_rgb.npz\n",
            "a04_s04_e01_rgb.npz  a09_s07_e02_rgb.npz  a15_s01_e01_rgb.npz\n",
            "a04_s04_e02_rgb.npz  a09_s08_e01_rgb.npz  a15_s01_e02_rgb.npz\n",
            "a04_s05_e01_rgb.npz  a09_s08_e02_rgb.npz  a15_s02_e01_rgb.npz\n",
            "a04_s05_e02_rgb.npz  a09_s09_e01_rgb.npz  a15_s02_e02_rgb.npz\n",
            "a04_s06_e01_rgb.npz  a09_s09_e02_rgb.npz  a15_s03_e01_rgb.npz\n",
            "a04_s06_e02_rgb.npz  a09_s10_e01_rgb.npz  a15_s03_e02_rgb.npz\n",
            "a04_s07_e01_rgb.npz  a09_s10_e02_rgb.npz  a15_s04_e01_rgb.npz\n",
            "a04_s07_e02_rgb.npz  a10_s01_e01_rgb.npz  a15_s04_e02_rgb.npz\n",
            "a04_s08_e01_rgb.npz  a10_s01_e02_rgb.npz  a15_s05_e01_rgb.npz\n",
            "a04_s08_e02_rgb.npz  a10_s02_e01_rgb.npz  a15_s05_e02_rgb.npz\n",
            "a04_s09_e01_rgb.npz  a10_s02_e02_rgb.npz  a15_s06_e01_rgb.npz\n",
            "a04_s09_e02_rgb.npz  a10_s03_e01_rgb.npz  a15_s06_e02_rgb.npz\n",
            "a04_s10_e01_rgb.npz  a10_s03_e02_rgb.npz  a15_s07_e01_rgb.npz\n",
            "a04_s10_e02_rgb.npz  a10_s04_e01_rgb.npz  a15_s07_e02_rgb.npz\n",
            "a05_s01_e01_rgb.npz  a10_s04_e02_rgb.npz  a15_s08_e01_rgb.npz\n",
            "a05_s01_e02_rgb.npz  a10_s05_e01_rgb.npz  a15_s08_e02_rgb.npz\n",
            "a05_s02_e01_rgb.npz  a10_s05_e02_rgb.npz  a15_s09_e01_rgb.npz\n",
            "a05_s02_e02_rgb.npz  a10_s06_e01_rgb.npz  a15_s09_e02_rgb.npz\n",
            "a05_s03_e01_rgb.npz  a10_s06_e02_rgb.npz  a15_s10_e01_rgb.npz\n",
            "a05_s03_e02_rgb.npz  a10_s07_e01_rgb.npz  a15_s10_e02_rgb.npz\n",
            "a05_s04_e01_rgb.npz  a10_s07_e02_rgb.npz  a16_s01_e01_rgb.npz\n",
            "a05_s04_e02_rgb.npz  a10_s08_e01_rgb.npz  a16_s01_e02_rgb.npz\n",
            "a05_s05_e01_rgb.npz  a10_s08_e02_rgb.npz  a16_s02_e01_rgb.npz\n",
            "a05_s05_e02_rgb.npz  a10_s09_e01_rgb.npz  a16_s02_e02_rgb.npz\n",
            "a05_s06_e01_rgb.npz  a10_s09_e02_rgb.npz  a16_s03_e01_rgb.npz\n",
            "a05_s06_e02_rgb.npz  a10_s10_e01_rgb.npz  a16_s03_e02_rgb.npz\n",
            "a05_s07_e01_rgb.npz  a10_s10_e02_rgb.npz  a16_s04_e01_rgb.npz\n",
            "a05_s07_e02_rgb.npz  a11_s01_e01_rgb.npz  a16_s04_e02_rgb.npz\n",
            "a05_s08_e01_rgb.npz  a11_s01_e02_rgb.npz  a16_s05_e01_rgb.npz\n",
            "a05_s08_e02_rgb.npz  a11_s02_e01_rgb.npz  a16_s05_e02_rgb.npz\n",
            "a05_s09_e01_rgb.npz  a11_s02_e02_rgb.npz  a16_s06_e01_rgb.npz\n",
            "a05_s09_e02_rgb.npz  a11_s03_e01_rgb.npz  a16_s06_e02_rgb.npz\n",
            "a05_s10_e01_rgb.npz  a11_s03_e02_rgb.npz  a16_s07_e01_rgb.npz\n",
            "a05_s10_e02_rgb.npz  a11_s04_e01_rgb.npz  a16_s07_e02_rgb.npz\n",
            "a06_s01_e01_rgb.npz  a11_s04_e02_rgb.npz  a16_s08_e01_rgb.npz\n",
            "a06_s01_e02_rgb.npz  a11_s05_e01_rgb.npz  a16_s08_e02_rgb.npz\n",
            "a06_s02_e01_rgb.npz  a11_s05_e02_rgb.npz  a16_s09_e01_rgb.npz\n",
            "a06_s02_e02_rgb.npz  a11_s06_e01_rgb.npz  a16_s09_e02_rgb.npz\n",
            "a06_s03_e01_rgb.npz  a11_s06_e02_rgb.npz  a16_s10_e01_rgb.npz\n",
            "a06_s03_e02_rgb.npz  a11_s07_e01_rgb.npz  a16_s10_e02_rgb.npz\n",
            "a06_s04_e01_rgb.npz  a11_s07_e02_rgb.npz\n"
          ]
        }
      ]
    },
    {
      "cell_type": "code",
      "metadata": {
        "colab": {
          "base_uri": "https://localhost:8080/",
          "height": 473
        },
        "id": "C8MDDVVLxjEc",
        "outputId": "65bc1266-3432-470d-c08d-6f6ee1fcb4b4"
      },
      "source": [
        "import tensorflow\n",
        "\n",
        "tensorflow.__version__"
      ],
      "execution_count": 8,
      "outputs": [
        {
          "output_type": "stream",
          "name": "stderr",
          "text": [
            "/usr/local/lib/python3.7/dist-packages/tensorflow/python/framework/dtypes.py:516: FutureWarning: Passing (type, 1) or '1type' as a synonym of type is deprecated; in a future version of numpy, it will be understood as (type, (1,)) / '(1,)type'.\n",
            "  _np_qint8 = np.dtype([(\"qint8\", np.int8, 1)])\n",
            "/usr/local/lib/python3.7/dist-packages/tensorflow/python/framework/dtypes.py:517: FutureWarning: Passing (type, 1) or '1type' as a synonym of type is deprecated; in a future version of numpy, it will be understood as (type, (1,)) / '(1,)type'.\n",
            "  _np_quint8 = np.dtype([(\"quint8\", np.uint8, 1)])\n",
            "/usr/local/lib/python3.7/dist-packages/tensorflow/python/framework/dtypes.py:518: FutureWarning: Passing (type, 1) or '1type' as a synonym of type is deprecated; in a future version of numpy, it will be understood as (type, (1,)) / '(1,)type'.\n",
            "  _np_qint16 = np.dtype([(\"qint16\", np.int16, 1)])\n",
            "/usr/local/lib/python3.7/dist-packages/tensorflow/python/framework/dtypes.py:519: FutureWarning: Passing (type, 1) or '1type' as a synonym of type is deprecated; in a future version of numpy, it will be understood as (type, (1,)) / '(1,)type'.\n",
            "  _np_quint16 = np.dtype([(\"quint16\", np.uint16, 1)])\n",
            "/usr/local/lib/python3.7/dist-packages/tensorflow/python/framework/dtypes.py:520: FutureWarning: Passing (type, 1) or '1type' as a synonym of type is deprecated; in a future version of numpy, it will be understood as (type, (1,)) / '(1,)type'.\n",
            "  _np_qint32 = np.dtype([(\"qint32\", np.int32, 1)])\n",
            "/usr/local/lib/python3.7/dist-packages/tensorflow/python/framework/dtypes.py:525: FutureWarning: Passing (type, 1) or '1type' as a synonym of type is deprecated; in a future version of numpy, it will be understood as (type, (1,)) / '(1,)type'.\n",
            "  np_resource = np.dtype([(\"resource\", np.ubyte, 1)])\n",
            "/usr/local/lib/python3.7/dist-packages/tensorboard/compat/tensorflow_stub/dtypes.py:541: FutureWarning: Passing (type, 1) or '1type' as a synonym of type is deprecated; in a future version of numpy, it will be understood as (type, (1,)) / '(1,)type'.\n",
            "  _np_qint8 = np.dtype([(\"qint8\", np.int8, 1)])\n",
            "/usr/local/lib/python3.7/dist-packages/tensorboard/compat/tensorflow_stub/dtypes.py:542: FutureWarning: Passing (type, 1) or '1type' as a synonym of type is deprecated; in a future version of numpy, it will be understood as (type, (1,)) / '(1,)type'.\n",
            "  _np_quint8 = np.dtype([(\"quint8\", np.uint8, 1)])\n",
            "/usr/local/lib/python3.7/dist-packages/tensorboard/compat/tensorflow_stub/dtypes.py:543: FutureWarning: Passing (type, 1) or '1type' as a synonym of type is deprecated; in a future version of numpy, it will be understood as (type, (1,)) / '(1,)type'.\n",
            "  _np_qint16 = np.dtype([(\"qint16\", np.int16, 1)])\n",
            "/usr/local/lib/python3.7/dist-packages/tensorboard/compat/tensorflow_stub/dtypes.py:544: FutureWarning: Passing (type, 1) or '1type' as a synonym of type is deprecated; in a future version of numpy, it will be understood as (type, (1,)) / '(1,)type'.\n",
            "  _np_quint16 = np.dtype([(\"quint16\", np.uint16, 1)])\n",
            "/usr/local/lib/python3.7/dist-packages/tensorboard/compat/tensorflow_stub/dtypes.py:545: FutureWarning: Passing (type, 1) or '1type' as a synonym of type is deprecated; in a future version of numpy, it will be understood as (type, (1,)) / '(1,)type'.\n",
            "  _np_qint32 = np.dtype([(\"qint32\", np.int32, 1)])\n",
            "/usr/local/lib/python3.7/dist-packages/tensorboard/compat/tensorflow_stub/dtypes.py:550: FutureWarning: Passing (type, 1) or '1type' as a synonym of type is deprecated; in a future version of numpy, it will be understood as (type, (1,)) / '(1,)type'.\n",
            "  np_resource = np.dtype([(\"resource\", np.ubyte, 1)])\n"
          ]
        },
        {
          "output_type": "execute_result",
          "data": {
            "application/vnd.google.colaboratory.intrinsic+json": {
              "type": "string"
            },
            "text/plain": [
              "'1.14.0'"
            ]
          },
          "metadata": {},
          "execution_count": 8
        }
      ]
    },
    {
      "cell_type": "code",
      "metadata": {
        "id": "uA8OZ2-KhxaN",
        "colab": {
          "base_uri": "https://localhost:8080/"
        },
        "outputId": "4e406deb-d31d-452e-cafe-83e6ee1f675e"
      },
      "source": [
        "\n",
        "from MSR_skeleton_loader import DataGenerator\n",
        "timesteps = 30\n",
        "import os\n",
        "from keras.models import Sequential\n",
        "from keras.layers import LSTM, Dense, Activation\n",
        "from keras.layers import TimeDistributed, GaussianNoise, GaussianDropout, Dropout\n",
        "from keras.models import Model\n",
        "import numpy as np\n",
        "import scipy.io \n",
        "import keras\n",
        "import h5py\n",
        "import itertools\n",
        "#import matplotlib.pyplot as plt\n",
        "import pandas as pd\n",
        "from keras.preprocessing.sequence import pad_sequences\n",
        "from keras.models import model_from_json\n",
        "from models import build_model_without_TS                                                       \n",
        "from keras.callbacks import ReduceLROnPlateau, ModelCheckpoint, CSVLogger, Callback\n"
      ],
      "execution_count": 9,
      "outputs": [
        {
          "output_type": "stream",
          "name": "stderr",
          "text": [
            "Using TensorFlow backend.\n"
          ]
        }
      ]
    },
    {
      "cell_type": "markdown",
      "metadata": {
        "id": "DeLvPszd1x6F"
      },
      "source": [
        "**Skeleton Tensor**"
      ]
    },
    {
      "cell_type": "code",
      "metadata": {
        "colab": {
          "base_uri": "https://localhost:8080/"
        },
        "id": "1yRX_0_w1U7r",
        "outputId": "072f8137-930b-4ffa-b6da-fef6a7d4fc12"
      },
      "source": [
        "import numpy as np\n",
        "np.load('./LSTM_poses/a03_s05_e02_rgb.npz')['arr_0'].shape # shape Tx(20x3)\n"
      ],
      "execution_count": 10,
      "outputs": [
        {
          "output_type": "execute_result",
          "data": {
            "text/plain": [
              "(261, 60)"
            ]
          },
          "metadata": {},
          "execution_count": 10
        }
      ]
    },
    {
      "cell_type": "markdown",
      "metadata": {
        "id": "URN_Kmb512B6"
      },
      "source": [
        "Define check points"
      ]
    },
    {
      "cell_type": "code",
      "metadata": {
        "id": "-W7A5VAahr3t"
      },
      "source": [
        "class CustomModelCheckpoint(Callback):\n",
        "\n",
        "    def __init__(self, model_parallel, path):\n",
        "\n",
        "        super(CustomModelCheckpoint, self).__init__()\n",
        "\n",
        "        self.save_model = model_parallel\n",
        "        self.path = path\n",
        "        self.nb_epoch = 0\n",
        "\n",
        "    def on_epoch_end(self, epoch, logs=None):\n",
        "        self.nb_epoch += 1\n",
        "        self.save_model.save(self.path + str(self.nb_epoch) + '.hdf5')\n"
      ],
      "execution_count": 11,
      "outputs": []
    },
    {
      "cell_type": "markdown",
      "metadata": {
        "id": "_SAC_U8916xb"
      },
      "source": [
        "**Set Parameters, Model summary**"
      ]
    },
    {
      "cell_type": "code",
      "metadata": {
        "id": "Z4J4qZyNiOpv",
        "colab": {
          "base_uri": "https://localhost:8080/"
        },
        "outputId": "fb215c8d-62a4-4a08-b7b9-df4c1682cea3"
      },
      "source": [
        "data_dim = 60\n",
        "num_classes = 16\n",
        "batch_size = 8\n",
        "n_neuron = 128\n",
        "n_dropout = 0.5\n",
        "name = 'MSR'\n",
        "\n",
        "csvlogger = CSVLogger(name+'_msr.csv')\n",
        "epochs = 100\n",
        "model = build_model_without_TS(n_neuron, n_dropout, batch_size, timesteps, data_dim, num_classes)\n",
        "model.compile(loss='categorical_crossentropy', optimizer=keras.optimizers.Adam(lr=0.005, clipnorm=1), metrics=['accuracy']) \n",
        "model.summary() # Model Summary \n",
        "train_generator = DataGenerator('./train.txt', batch_size = batch_size)\n",
        "val_generator = DataGenerator('./validation.txt', batch_size = batch_size)\n",
        "test_generator = DataGenerator('./test.txt', batch_size = batch_size)\n",
        "\n",
        "model_checkpoint = CustomModelCheckpoint(model, './model_scripts/epoch_')\n"
      ],
      "execution_count": 12,
      "outputs": [
        {
          "output_type": "stream",
          "name": "stdout",
          "text": [
            "Build model!!!\n",
            "WARNING:tensorflow:From /usr/local/lib/python3.7/dist-packages/keras/backend/tensorflow_backend.py:58: The name tf.get_default_graph is deprecated. Please use tf.compat.v1.get_default_graph instead.\n",
            "\n",
            "WARNING:tensorflow:From /usr/local/lib/python3.7/dist-packages/keras/backend/tensorflow_backend.py:442: The name tf.placeholder is deprecated. Please use tf.compat.v1.placeholder instead.\n",
            "\n",
            "WARNING:tensorflow:From /usr/local/lib/python3.7/dist-packages/keras/backend/tensorflow_backend.py:3543: The name tf.random_uniform is deprecated. Please use tf.random.uniform instead.\n",
            "\n",
            "WARNING:tensorflow:From /usr/local/lib/python3.7/dist-packages/keras/backend/tensorflow_backend.py:1188: calling reduce_sum_v1 (from tensorflow.python.ops.math_ops) with keep_dims is deprecated and will be removed in a future version.\n",
            "Instructions for updating:\n",
            "keep_dims is deprecated, use keepdims instead\n",
            "WARNING:tensorflow:From /usr/local/lib/python3.7/dist-packages/keras/backend/tensorflow_backend.py:2888: calling dropout (from tensorflow.python.ops.nn_ops) with keep_prob is deprecated and will be removed in a future version.\n",
            "Instructions for updating:\n",
            "Please use `rate` instead of `keep_prob`. Rate should be set to `rate = 1 - keep_prob`.\n",
            "WARNING:tensorflow:From /usr/local/lib/python3.7/dist-packages/keras/optimizers.py:711: The name tf.train.Optimizer is deprecated. Please use tf.compat.v1.train.Optimizer instead.\n",
            "\n",
            "WARNING:tensorflow:From /usr/local/lib/python3.7/dist-packages/keras/backend/tensorflow_backend.py:2759: The name tf.log is deprecated. Please use tf.math.log instead.\n",
            "\n",
            "_________________________________________________________________\n",
            "Layer (type)                 Output Shape              Param #   \n",
            "=================================================================\n",
            "lstm_1 (LSTM)                (None, 30, 128)           96768     \n",
            "_________________________________________________________________\n",
            "lstm_2 (LSTM)                (None, 30, 128)           131584    \n",
            "_________________________________________________________________\n",
            "lstm_3 (LSTM)                (None, 128)               131584    \n",
            "_________________________________________________________________\n",
            "dropout_1 (Dropout)          (None, 128)               0         \n",
            "_________________________________________________________________\n",
            "dense_1 (Dense)              (None, 16)                2064      \n",
            "=================================================================\n",
            "Total params: 362,000\n",
            "Trainable params: 362,000\n",
            "Non-trainable params: 0\n",
            "_________________________________________________________________\n"
          ]
        }
      ]
    },
    {
      "cell_type": "markdown",
      "metadata": {
        "id": "5a9Nwvtps4Y1"
      },
      "source": [
        "**Train the model**"
      ]
    },
    {
      "cell_type": "code",
      "metadata": {
        "id": "z00FjHiGiRer",
        "colab": {
          "base_uri": "https://localhost:8080/"
        },
        "outputId": "e2f4671c-85e9-4f12-eb3b-f816251655de"
      },
      "source": [
        "model.fit_generator(generator=train_generator,\n",
        "                    validation_data=val_generator,\n",
        "                    use_multiprocessing=False,\n",
        "                    epochs=epochs,\n",
        "                    #callbacks = [csvlogger, model_checkpoint],\n",
        "                    workers=6,\n",
        "                    steps_per_epoch=124,\n",
        "                    validation_steps=12)"
      ],
      "execution_count": 14,
      "outputs": [
        {
          "output_type": "stream",
          "name": "stdout",
          "text": [
            "Epoch 1/100\n",
            "124/124 [==============================] - 13s - loss: 2.3652 - acc: 0.2087 - val_loss: 2.2064 - val_acc: 0.2812\n",
            "Epoch 2/100\n",
            "124/124 [==============================] - 13s - loss: 2.1291 - acc: 0.2641 - val_loss: 2.1272 - val_acc: 0.3229\n",
            "Epoch 3/100\n",
            "124/124 [==============================] - 13s - loss: 2.1171 - acc: 0.2722 - val_loss: 2.3415 - val_acc: 0.3229\n",
            "Epoch 4/100\n",
            "124/124 [==============================] - 13s - loss: 2.0079 - acc: 0.2994 - val_loss: 2.0929 - val_acc: 0.2708\n",
            "Epoch 5/100\n",
            "124/124 [==============================] - 13s - loss: 2.0147 - acc: 0.3145 - val_loss: 2.1454 - val_acc: 0.2604\n",
            "Epoch 6/100\n",
            "124/124 [==============================] - 13s - loss: 1.9462 - acc: 0.3216 - val_loss: 1.9606 - val_acc: 0.3542\n",
            "Epoch 7/100\n",
            "124/124 [==============================] - 13s - loss: 1.8311 - acc: 0.3619 - val_loss: 2.4862 - val_acc: 0.2188\n",
            "Epoch 8/100\n",
            "124/124 [==============================] - 13s - loss: 1.8393 - acc: 0.3558 - val_loss: 2.0249 - val_acc: 0.2812\n",
            "Epoch 9/100\n",
            "124/124 [==============================] - 13s - loss: 1.7997 - acc: 0.3649 - val_loss: 2.1997 - val_acc: 0.3021\n",
            "Epoch 10/100\n",
            "124/124 [==============================] - 13s - loss: 1.7641 - acc: 0.3851 - val_loss: 2.3271 - val_acc: 0.2292\n",
            "Epoch 11/100\n",
            "124/124 [==============================] - 12s - loss: 1.7695 - acc: 0.4002 - val_loss: 2.4033 - val_acc: 0.2292\n",
            "Epoch 12/100\n",
            "124/124 [==============================] - 13s - loss: 1.6921 - acc: 0.4073 - val_loss: 2.0075 - val_acc: 0.3646\n",
            "Epoch 13/100\n",
            "124/124 [==============================] - 13s - loss: 1.5506 - acc: 0.4435 - val_loss: 1.9365 - val_acc: 0.3333\n",
            "Epoch 14/100\n",
            "124/124 [==============================] - 13s - loss: 1.5769 - acc: 0.4284 - val_loss: 1.8239 - val_acc: 0.3125\n",
            "Epoch 15/100\n",
            "124/124 [==============================] - 13s - loss: 1.6093 - acc: 0.4395 - val_loss: 2.1064 - val_acc: 0.2812\n",
            "Epoch 16/100\n",
            "124/124 [==============================] - 13s - loss: 1.6021 - acc: 0.4546 - val_loss: 2.2142 - val_acc: 0.3438\n",
            "Epoch 17/100\n",
            "124/124 [==============================] - 13s - loss: 1.5868 - acc: 0.4365 - val_loss: 1.9929 - val_acc: 0.2604\n",
            "Epoch 18/100\n",
            "124/124 [==============================] - 13s - loss: 1.5583 - acc: 0.4415 - val_loss: 2.4766 - val_acc: 0.3021\n",
            "Epoch 19/100\n",
            "124/124 [==============================] - 13s - loss: 1.5423 - acc: 0.4486 - val_loss: 2.6219 - val_acc: 0.2292\n",
            "Epoch 20/100\n",
            "124/124 [==============================] - 13s - loss: 1.5814 - acc: 0.4355 - val_loss: 2.0293 - val_acc: 0.3021\n",
            "Epoch 21/100\n",
            "124/124 [==============================] - 13s - loss: 1.5496 - acc: 0.4587 - val_loss: 2.0614 - val_acc: 0.3229\n",
            "Epoch 22/100\n",
            "124/124 [==============================] - 13s - loss: 1.5634 - acc: 0.4637 - val_loss: 2.1952 - val_acc: 0.3958\n",
            "Epoch 23/100\n",
            "124/124 [==============================] - 13s - loss: 1.3940 - acc: 0.5020 - val_loss: 2.1629 - val_acc: 0.4688\n",
            "Epoch 24/100\n",
            "124/124 [==============================] - 13s - loss: 1.4124 - acc: 0.5000 - val_loss: 2.0361 - val_acc: 0.3646\n",
            "Epoch 25/100\n",
            "124/124 [==============================] - 13s - loss: 1.4792 - acc: 0.5060 - val_loss: 1.9054 - val_acc: 0.3333\n",
            "Epoch 26/100\n",
            "124/124 [==============================] - 13s - loss: 1.4868 - acc: 0.4909 - val_loss: 2.1076 - val_acc: 0.3229\n",
            "Epoch 27/100\n",
            "124/124 [==============================] - 13s - loss: 1.3793 - acc: 0.5202 - val_loss: 2.1192 - val_acc: 0.3229\n",
            "Epoch 28/100\n",
            "124/124 [==============================] - 13s - loss: 1.3283 - acc: 0.5232 - val_loss: 2.1810 - val_acc: 0.4375\n",
            "Epoch 29/100\n",
            "124/124 [==============================] - 13s - loss: 1.3405 - acc: 0.5252 - val_loss: 2.5203 - val_acc: 0.2604\n",
            "Epoch 30/100\n",
            "124/124 [==============================] - 13s - loss: 1.2927 - acc: 0.5353 - val_loss: 2.2687 - val_acc: 0.3333\n",
            "Epoch 31/100\n",
            "124/124 [==============================] - 13s - loss: 1.3280 - acc: 0.5151 - val_loss: 1.9916 - val_acc: 0.4271\n",
            "Epoch 32/100\n",
            "124/124 [==============================] - 13s - loss: 1.3549 - acc: 0.5202 - val_loss: 2.2892 - val_acc: 0.3229\n",
            "Epoch 33/100\n",
            "124/124 [==============================] - 13s - loss: 1.3780 - acc: 0.5202 - val_loss: 2.2379 - val_acc: 0.3438\n",
            "Epoch 34/100\n",
            "124/124 [==============================] - 13s - loss: 1.2685 - acc: 0.5484 - val_loss: 2.1917 - val_acc: 0.3854\n",
            "Epoch 35/100\n",
            "124/124 [==============================] - 13s - loss: 1.2862 - acc: 0.5585 - val_loss: 2.5307 - val_acc: 0.3229\n",
            "Epoch 36/100\n",
            "124/124 [==============================] - 13s - loss: 1.1903 - acc: 0.5645 - val_loss: 2.4718 - val_acc: 0.3333\n",
            "Epoch 37/100\n",
            "124/124 [==============================] - 13s - loss: 1.2221 - acc: 0.5696 - val_loss: 2.0676 - val_acc: 0.3854\n",
            "Epoch 38/100\n",
            "124/124 [==============================] - 13s - loss: 1.2664 - acc: 0.5534 - val_loss: 2.3654 - val_acc: 0.3542\n",
            "Epoch 39/100\n",
            "124/124 [==============================] - 13s - loss: 1.3326 - acc: 0.5333 - val_loss: 2.5048 - val_acc: 0.3542\n",
            "Epoch 40/100\n",
            "124/124 [==============================] - 13s - loss: 1.2518 - acc: 0.5665 - val_loss: 2.1396 - val_acc: 0.3438\n",
            "Epoch 41/100\n",
            "124/124 [==============================] - 13s - loss: 1.2768 - acc: 0.5625 - val_loss: 2.3727 - val_acc: 0.3333\n",
            "Epoch 42/100\n",
            "124/124 [==============================] - 13s - loss: 1.2914 - acc: 0.5544 - val_loss: 2.6776 - val_acc: 0.2812\n",
            "Epoch 43/100\n",
            "124/124 [==============================] - 13s - loss: 1.2068 - acc: 0.5827 - val_loss: 2.5569 - val_acc: 0.2500\n",
            "Epoch 44/100\n",
            "124/124 [==============================] - 13s - loss: 1.1870 - acc: 0.5907 - val_loss: 2.0245 - val_acc: 0.4479\n",
            "Epoch 45/100\n",
            "124/124 [==============================] - 13s - loss: 1.1137 - acc: 0.6300 - val_loss: 2.8735 - val_acc: 0.3333\n",
            "Epoch 46/100\n",
            "124/124 [==============================] - 13s - loss: 1.0998 - acc: 0.6210 - val_loss: 2.5867 - val_acc: 0.3542\n",
            "Epoch 47/100\n",
            "124/124 [==============================] - 13s - loss: 1.1083 - acc: 0.6089 - val_loss: 2.6184 - val_acc: 0.3125\n",
            "Epoch 48/100\n",
            "124/124 [==============================] - 13s - loss: 1.0488 - acc: 0.6421 - val_loss: 2.5141 - val_acc: 0.4062\n",
            "Epoch 49/100\n",
            "124/124 [==============================] - 13s - loss: 1.2434 - acc: 0.5867 - val_loss: 3.1706 - val_acc: 0.3021\n",
            "Epoch 50/100\n",
            "124/124 [==============================] - 13s - loss: 1.2024 - acc: 0.5988 - val_loss: 2.7909 - val_acc: 0.3229\n",
            "Epoch 51/100\n",
            "124/124 [==============================] - 13s - loss: 1.1307 - acc: 0.6250 - val_loss: 2.6530 - val_acc: 0.3333\n",
            "Epoch 52/100\n",
            "124/124 [==============================] - 13s - loss: 1.1172 - acc: 0.6179 - val_loss: 2.5321 - val_acc: 0.2917\n",
            "Epoch 53/100\n",
            "124/124 [==============================] - 13s - loss: 1.0980 - acc: 0.6401 - val_loss: 2.3448 - val_acc: 0.4062\n",
            "Epoch 54/100\n",
            "124/124 [==============================] - 13s - loss: 1.0201 - acc: 0.6442 - val_loss: 2.9019 - val_acc: 0.3125\n",
            "Epoch 55/100\n",
            "124/124 [==============================] - 13s - loss: 1.0733 - acc: 0.6310 - val_loss: 2.5066 - val_acc: 0.3542\n",
            "Epoch 56/100\n",
            "124/124 [==============================] - 13s - loss: 1.1460 - acc: 0.6159 - val_loss: 2.7395 - val_acc: 0.3229\n",
            "Epoch 57/100\n",
            "124/124 [==============================] - 13s - loss: 1.1598 - acc: 0.5897 - val_loss: 2.6028 - val_acc: 0.3438\n",
            "Epoch 58/100\n",
            "124/124 [==============================] - 13s - loss: 1.1385 - acc: 0.5978 - val_loss: 2.5191 - val_acc: 0.3958\n",
            "Epoch 59/100\n",
            "124/124 [==============================] - 13s - loss: 1.1586 - acc: 0.5978 - val_loss: 2.6980 - val_acc: 0.3229\n",
            "Epoch 60/100\n",
            "124/124 [==============================] - 13s - loss: 1.0310 - acc: 0.6310 - val_loss: 2.5003 - val_acc: 0.3958\n",
            "Epoch 61/100\n",
            "124/124 [==============================] - 13s - loss: 1.0061 - acc: 0.6512 - val_loss: 2.9182 - val_acc: 0.4167\n",
            "Epoch 62/100\n",
            "124/124 [==============================] - 13s - loss: 1.0007 - acc: 0.6442 - val_loss: 2.8449 - val_acc: 0.3542\n",
            "Epoch 63/100\n",
            "124/124 [==============================] - 13s - loss: 1.0907 - acc: 0.6270 - val_loss: 2.2480 - val_acc: 0.5000\n",
            "Epoch 64/100\n",
            "124/124 [==============================] - 13s - loss: 1.0851 - acc: 0.6280 - val_loss: 2.5689 - val_acc: 0.3854\n",
            "Epoch 65/100\n",
            "124/124 [==============================] - 13s - loss: 0.9770 - acc: 0.6643 - val_loss: 2.8437 - val_acc: 0.3750\n",
            "Epoch 66/100\n",
            "124/124 [==============================] - 13s - loss: 1.0980 - acc: 0.6361 - val_loss: 2.8943 - val_acc: 0.3021\n",
            "Epoch 67/100\n",
            "124/124 [==============================] - 13s - loss: 0.9967 - acc: 0.6623 - val_loss: 2.7836 - val_acc: 0.2396\n",
            "Epoch 68/100\n",
            "124/124 [==============================] - 13s - loss: 0.9507 - acc: 0.6663 - val_loss: 2.6156 - val_acc: 0.2708\n",
            "Epoch 69/100\n",
            "124/124 [==============================] - 13s - loss: 1.0421 - acc: 0.6452 - val_loss: 3.1900 - val_acc: 0.2917\n",
            "Epoch 70/100\n",
            "124/124 [==============================] - 13s - loss: 1.0461 - acc: 0.6552 - val_loss: 3.0177 - val_acc: 0.4375\n",
            "Epoch 71/100\n",
            "124/124 [==============================] - 13s - loss: 0.9620 - acc: 0.6694 - val_loss: 3.5727 - val_acc: 0.3229\n",
            "Epoch 72/100\n",
            "124/124 [==============================] - 13s - loss: 1.1003 - acc: 0.6492 - val_loss: 2.5322 - val_acc: 0.4062\n",
            "Epoch 73/100\n",
            "124/124 [==============================] - 13s - loss: 1.0858 - acc: 0.6310 - val_loss: 2.6769 - val_acc: 0.3854\n",
            "Epoch 74/100\n",
            "124/124 [==============================] - 15s - loss: 1.1123 - acc: 0.6079 - val_loss: 2.5464 - val_acc: 0.4167\n",
            "Epoch 75/100\n",
            "124/124 [==============================] - 15s - loss: 0.9585 - acc: 0.6573 - val_loss: 2.2777 - val_acc: 0.3854\n",
            "Epoch 76/100\n",
            "124/124 [==============================] - 15s - loss: 1.0034 - acc: 0.6442 - val_loss: 2.6705 - val_acc: 0.3958\n",
            "Epoch 77/100\n",
            "124/124 [==============================] - 15s - loss: 1.0295 - acc: 0.6613 - val_loss: 2.2259 - val_acc: 0.3438\n",
            "Epoch 78/100\n",
            "124/124 [==============================] - 15s - loss: 1.0950 - acc: 0.6321 - val_loss: 2.5365 - val_acc: 0.4167\n",
            "Epoch 79/100\n",
            "124/124 [==============================] - 15s - loss: 1.0877 - acc: 0.6210 - val_loss: 3.5963 - val_acc: 0.3229\n",
            "Epoch 80/100\n",
            "124/124 [==============================] - 15s - loss: 1.0164 - acc: 0.6542 - val_loss: 2.6332 - val_acc: 0.3854\n",
            "Epoch 81/100\n",
            "124/124 [==============================] - 15s - loss: 0.9516 - acc: 0.6633 - val_loss: 2.6638 - val_acc: 0.3646\n",
            "Epoch 82/100\n",
            "124/124 [==============================] - 15s - loss: 1.0250 - acc: 0.6633 - val_loss: 2.3931 - val_acc: 0.3542\n",
            "Epoch 83/100\n",
            "124/124 [==============================] - 15s - loss: 1.0272 - acc: 0.6502 - val_loss: 2.3178 - val_acc: 0.4167\n",
            "Epoch 84/100\n",
            "124/124 [==============================] - 15s - loss: 1.0882 - acc: 0.6502 - val_loss: 2.7710 - val_acc: 0.4062\n",
            "Epoch 85/100\n",
            "124/124 [==============================] - 15s - loss: 1.0218 - acc: 0.6724 - val_loss: 2.3119 - val_acc: 0.4896\n",
            "Epoch 86/100\n",
            "124/124 [==============================] - 15s - loss: 1.1078 - acc: 0.6381 - val_loss: 2.6582 - val_acc: 0.3958\n",
            "Epoch 87/100\n",
            "124/124 [==============================] - 15s - loss: 1.1350 - acc: 0.6200 - val_loss: 3.0419 - val_acc: 0.3854\n",
            "Epoch 88/100\n",
            "124/124 [==============================] - 15s - loss: 1.2487 - acc: 0.6169 - val_loss: 2.6089 - val_acc: 0.3542\n",
            "Epoch 89/100\n",
            "124/124 [==============================] - 15s - loss: 1.0972 - acc: 0.6321 - val_loss: 2.4715 - val_acc: 0.3750\n",
            "Epoch 90/100\n",
            "124/124 [==============================] - 15s - loss: 1.1215 - acc: 0.6381 - val_loss: 2.3981 - val_acc: 0.4271\n",
            "Epoch 91/100\n",
            "124/124 [==============================] - 15s - loss: 1.2007 - acc: 0.6290 - val_loss: 3.3407 - val_acc: 0.2917\n",
            "Epoch 92/100\n",
            "124/124 [==============================] - 15s - loss: 1.2163 - acc: 0.5927 - val_loss: 2.6794 - val_acc: 0.3125\n",
            "Epoch 93/100\n",
            "124/124 [==============================] - 15s - loss: 1.2164 - acc: 0.5988 - val_loss: 2.4642 - val_acc: 0.3646\n",
            "Epoch 94/100\n",
            "124/124 [==============================] - 14s - loss: 1.1497 - acc: 0.6331 - val_loss: 2.7000 - val_acc: 0.3438\n",
            "Epoch 95/100\n",
            "124/124 [==============================] - 15s - loss: 1.1354 - acc: 0.6290 - val_loss: 3.0506 - val_acc: 0.3750\n",
            "Epoch 96/100\n",
            "124/124 [==============================] - 15s - loss: 1.2051 - acc: 0.6250 - val_loss: 2.6959 - val_acc: 0.2708\n",
            "Epoch 97/100\n",
            "124/124 [==============================] - 15s - loss: 1.0707 - acc: 0.6300 - val_loss: 2.9927 - val_acc: 0.2917\n",
            "Epoch 98/100\n",
            "124/124 [==============================] - 15s - loss: 1.0057 - acc: 0.6482 - val_loss: 2.7527 - val_acc: 0.3125\n",
            "Epoch 99/100\n",
            "124/124 [==============================] - 15s - loss: 0.9980 - acc: 0.6502 - val_loss: 2.8198 - val_acc: 0.3333\n",
            "Epoch 100/100\n",
            "124/124 [==============================] - 15s - loss: 1.1362 - acc: 0.6270 - val_loss: 2.6087 - val_acc: 0.3646\n"
          ]
        },
        {
          "output_type": "execute_result",
          "data": {
            "text/plain": [
              "<keras.callbacks.History at 0x7fe302a3f110>"
            ]
          },
          "metadata": {},
          "execution_count": 14
        }
      ]
    },
    {
      "cell_type": "markdown",
      "metadata": {
        "id": "NVlRXzU2jPUS"
      },
      "source": [
        "**Check the Training Procedure**"
      ]
    },
    {
      "cell_type": "code",
      "metadata": {
        "id": "N9TqBr3k6aOC",
        "colab": {
          "base_uri": "https://localhost:8080/"
        },
        "outputId": "67d7cb43-5055-4a39-bbe9-5cf87658b144"
      },
      "source": [
        "!cat MSR_msr.csv"
      ],
      "execution_count": 15,
      "outputs": [
        {
          "output_type": "stream",
          "name": "stdout",
          "text": [
            "epoch,acc,loss,val_acc,val_loss\r\n",
            "0,0.1875,2.5241714244888676,0.15625,2.5723061164220176\r\n"
          ]
        }
      ]
    },
    {
      "cell_type": "code",
      "metadata": {
        "id": "npumlm1HiU3S"
      },
      "source": [
        "batch_size=1\n",
        "test_generator = DataGenerator('./test.txt', batch_size = batch_size)\n"
      ],
      "execution_count": 16,
      "outputs": []
    },
    {
      "cell_type": "markdown",
      "metadata": {
        "id": "mBJED60tsviX"
      },
      "source": [
        "**Test the model**"
      ]
    },
    {
      "cell_type": "code",
      "metadata": {
        "id": "xV2bKcx5n8ue",
        "colab": {
          "base_uri": "https://localhost:8080/"
        },
        "outputId": "5886553d-faba-4723-bcc6-8674e902a821"
      },
      "source": [
        "print(model.evaluate_generator(generator = test_generator, steps=10))\n"
      ],
      "execution_count": 18,
      "outputs": [
        {
          "output_type": "stream",
          "name": "stdout",
          "text": [
            "[2.451205723853491, 0.4]\n"
          ]
        }
      ]
    },
    {
      "cell_type": "code",
      "metadata": {
        "id": "wDiao9rTzemI"
      },
      "source": [
        ""
      ],
      "execution_count": null,
      "outputs": []
    }
  ]
}