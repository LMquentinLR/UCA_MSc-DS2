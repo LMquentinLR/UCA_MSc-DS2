{
  "nbformat": 4,
  "nbformat_minor": 0,
  "metadata": {
    "colab": {
      "name": "Copy of Lecture_1_basic_LSTM.ipynb",
      "provenance": [],
      "collapsed_sections": []
    },
    "kernelspec": {
      "name": "python3",
      "display_name": "Python 3"
    }
  },
  "cells": [
    {
      "cell_type": "code",
      "metadata": {
        "id": "qsbaXgie_mfj"
      },
      "source": [
        "import numpy as np\n",
        "from numpy import array\n",
        "from keras.models import Sequential\n",
        "from keras.layers import LSTM\n",
        "from keras.layers import Dense\n",
        "\n",
        "def split_sequence(sequence, n_steps):\n",
        "\tX, y = list(), list()\n",
        "\tfor i in range(len(sequence)):\n",
        "\t\t# find the end of this pattern\n",
        "\t\tend_ix = i + n_steps\n",
        "\t\t# check if we are beyond the sequence\n",
        "\t\tif end_ix > len(sequence)-1:\n",
        "\t\t\tbreak\n",
        "\t\t# gather input and output parts of the pattern\n",
        "\t\tseq_x, seq_y = sequence[i:end_ix], sequence[end_ix]\n",
        "\t\tX.append(seq_x)\n",
        "\t\ty.append(seq_y)\n",
        "\treturn array(X), array(y)"
      ],
      "execution_count": null,
      "outputs": []
    },
    {
      "cell_type": "code",
      "metadata": {
        "id": "Q19Nxoak_7ce"
      },
      "source": [
        "# define input sequence\n",
        "raw_seq = [10, 20, 30, 40, 50, 60, 70, 80, 90]\n",
        "# choose a number of time steps\n",
        "n_steps = 3\n",
        "# split into samples\n",
        "X, y = split_sequence(raw_seq, n_steps)\n",
        "# reshape from [samples, timesteps] into [samples, timesteps, features]\n",
        "n_features = 1\n",
        "X = X.reshape((X.shape[0], X.shape[1], n_features))"
      ],
      "execution_count": null,
      "outputs": []
    },
    {
      "cell_type": "code",
      "metadata": {
        "id": "olPhxS5-smbf",
        "colab": {
          "base_uri": "https://localhost:8080/"
        },
        "outputId": "05c901f2-cc93-4656-abc5-f836707a9fbd"
      },
      "source": [
        "X = X.astype(np.float32)\n",
        "X"
      ],
      "execution_count": null,
      "outputs": [
        {
          "output_type": "execute_result",
          "data": {
            "text/plain": [
              "array([[[10.],\n",
              "        [20.],\n",
              "        [30.]],\n",
              "\n",
              "       [[20.],\n",
              "        [30.],\n",
              "        [40.]],\n",
              "\n",
              "       [[30.],\n",
              "        [40.],\n",
              "        [50.]],\n",
              "\n",
              "       [[40.],\n",
              "        [50.],\n",
              "        [60.]],\n",
              "\n",
              "       [[50.],\n",
              "        [60.],\n",
              "        [70.]],\n",
              "\n",
              "       [[60.],\n",
              "        [70.],\n",
              "        [80.]]], dtype=float32)"
            ]
          },
          "metadata": {},
          "execution_count": 3
        }
      ]
    },
    {
      "cell_type": "code",
      "metadata": {
        "id": "EFBpuSRmBqAP",
        "colab": {
          "base_uri": "https://localhost:8080/"
        },
        "outputId": "06c6e69d-8d93-4782-ed23-0064493de4b8"
      },
      "source": [
        "y = y.astype(np.float32)\n",
        "y"
      ],
      "execution_count": null,
      "outputs": [
        {
          "output_type": "execute_result",
          "data": {
            "text/plain": [
              "array([40., 50., 60., 70., 80., 90.], dtype=float32)"
            ]
          },
          "metadata": {},
          "execution_count": 4
        }
      ]
    },
    {
      "cell_type": "code",
      "metadata": {
        "id": "QnIbea-yAA_m"
      },
      "source": [
        "# define model\n",
        "model = Sequential()\n",
        "model.add(LSTM(100, activation='relu', input_shape=(n_steps, n_features)))\n",
        "model.add(Dense(1))\n",
        "model.compile(optimizer='adam', loss='mse')"
      ],
      "execution_count": null,
      "outputs": []
    },
    {
      "cell_type": "markdown",
      "metadata": {
        "id": "CJdP_vT1kQUR"
      },
      "source": [
        "Stacked LSTM below!!!!"
      ]
    },
    {
      "cell_type": "code",
      "metadata": {
        "id": "DQHurNdmol08"
      },
      "source": [
        "# define model\n",
        "model = Sequential()\n",
        "model.add(LSTM(50, activation='relu', input_shape=(n_steps, n_features), return_sequences=True))\n",
        "model.add(LSTM(50, activation='relu', return_sequences=True))\n",
        "model.add(LSTM(50, activation='relu'))\n",
        "model.add(Dense(1))\n",
        "model.compile(optimizer='adam', loss='mse')"
      ],
      "execution_count": null,
      "outputs": []
    },
    {
      "cell_type": "code",
      "metadata": {
        "id": "-CJ25yBj4QdK",
        "colab": {
          "base_uri": "https://localhost:8080/"
        },
        "outputId": "6a524398-3052-4a5c-b258-7010e808f4e4"
      },
      "source": [
        "model.summary()"
      ],
      "execution_count": null,
      "outputs": [
        {
          "output_type": "stream",
          "name": "stdout",
          "text": [
            "Model: \"sequential_1\"\n",
            "_________________________________________________________________\n",
            "Layer (type)                 Output Shape              Param #   \n",
            "=================================================================\n",
            "lstm_1 (LSTM)                (None, 3, 50)             10400     \n",
            "_________________________________________________________________\n",
            "lstm_2 (LSTM)                (None, 3, 50)             20200     \n",
            "_________________________________________________________________\n",
            "lstm_3 (LSTM)                (None, 50)                20200     \n",
            "_________________________________________________________________\n",
            "dense_1 (Dense)              (None, 1)                 51        \n",
            "=================================================================\n",
            "Total params: 50,851\n",
            "Trainable params: 50,851\n",
            "Non-trainable params: 0\n",
            "_________________________________________________________________\n"
          ]
        }
      ]
    },
    {
      "cell_type": "markdown",
      "metadata": {
        "id": "SPj5k2KskUIT"
      },
      "source": [
        "Bidirectional LSTM below"
      ]
    },
    {
      "cell_type": "code",
      "metadata": {
        "id": "CfbEIILIpbdr"
      },
      "source": [
        "from keras.layers import Bidirectional\n",
        "from keras.layers import Flatten\n",
        "# define model\n",
        "num_classes = 2\n",
        "model = Sequential()\n",
        "model.add(Bidirectional(LSTM(10, activation='relu', input_shape=(n_steps, n_features), return_sequences=True)))\n",
        "model.add(Bidirectional(LSTM(10, activation='relu', return_sequences=True)))\n",
        "model.add(Flatten())\n",
        "model.add(Dense(num_classes, activation='softmax'))\n",
        "model.compile(optimizer='adam', loss='mse')"
      ],
      "execution_count": null,
      "outputs": []
    },
    {
      "cell_type": "code",
      "metadata": {
        "id": "fhgm-lCznVuS",
        "collapsed": true
      },
      "source": [
        "model.summary()"
      ],
      "execution_count": null,
      "outputs": []
    },
    {
      "cell_type": "code",
      "metadata": {
        "id": "Gut1RTrEAHlp",
        "colab": {
          "base_uri": "https://localhost:8080/"
        },
        "outputId": "7effc04b-c09f-4f9a-9a71-73f8301dbaa7"
      },
      "source": [
        "# fit model\n",
        "model.fit(X, y, epochs=200, verbose=0)"
      ],
      "execution_count": null,
      "outputs": [
        {
          "output_type": "execute_result",
          "data": {
            "text/plain": [
              "<keras.callbacks.History at 0x7f15e9ec3250>"
            ]
          },
          "metadata": {},
          "execution_count": 13
        }
      ]
    },
    {
      "cell_type": "code",
      "metadata": {
        "id": "S_5qfQlOAXn-",
        "colab": {
          "base_uri": "https://localhost:8080/"
        },
        "outputId": "a773fa80-8540-49d5-e2fc-e0148912a660"
      },
      "source": [
        "# demonstrate prediction\n",
        "x_input = array([80, 90, 100])\n",
        "x_input = x_input.reshape((1, n_steps, n_features))\n",
        "yhat = model.predict(x_input, verbose=0)\n",
        "print(yhat)"
      ],
      "execution_count": null,
      "outputs": [
        {
          "output_type": "stream",
          "name": "stdout",
          "text": [
            "[[0.48484096 0.515159  ]]\n"
          ]
        }
      ]
    },
    {
      "cell_type": "code",
      "metadata": {
        "id": "vvDMTgPHnsT9"
      },
      "source": [
        ""
      ],
      "execution_count": null,
      "outputs": []
    }
  ]
}