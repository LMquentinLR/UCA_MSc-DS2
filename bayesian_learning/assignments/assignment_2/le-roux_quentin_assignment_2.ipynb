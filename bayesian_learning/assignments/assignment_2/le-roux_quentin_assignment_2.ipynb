{
 "cells": [
  {
   "cell_type": "markdown",
   "metadata": {},
   "source": [
    "# Bayesian Learning Assignment 2\n",
    "\n",
    "MSc DSAI Quentin Le Roux"
   ]
  },
  {
   "cell_type": "markdown",
   "metadata": {},
   "source": [
    "<hr>\n",
    "<hr>\n",
    "<hr>"
   ]
  },
  {
   "cell_type": "markdown",
   "metadata": {},
   "source": [
    "## Library Imports"
   ]
  },
  {
   "cell_type": "code",
   "execution_count": 1,
   "metadata": {},
   "outputs": [],
   "source": [
    "import matplotlib.pyplot as plt\n",
    "import numpy as np\n",
    "import pandas as pd\n",
    "import seaborn as sns\n",
    "\n",
    "from scipy.optimize import minimize\n",
    "from scipy.special import logsumexp\n",
    "from scipy.stats import norm, uniform, binom\n",
    "from scipy.stats import multivariate_normal\n",
    "from sklearn import datasets "
   ]
  },
  {
   "cell_type": "markdown",
   "metadata": {},
   "source": [
    "<hr>\n",
    "\n",
    "## Function declarations\n",
    "\n",
    "**Note**: \n",
    "- *Functions are listed per exercise in alphabetical orders (exercises 4, 5, and 6 share some functions)*\n",
    "- *Functions are provided with Type Hinting*\n",
    "\n",
    "### Exercise 1 functions"
   ]
  },
  {
   "cell_type": "code",
   "execution_count": 2,
   "metadata": {},
   "outputs": [],
   "source": [
    "def beta_binomial_distribution(\n",
    "    n: int, y: int, alpha: int, beta: int\n",
    ") -> np.array:\n",
    "    \"\"\"\n",
    "    Returns the beta-binomial distribution over the space of\n",
    "    parameter theta, given fixed parameters alpha, beta, y, and n.\n",
    "    \"\"\"\n",
    "    # Declares a linear space for the parameter theta\n",
    "    theta_space  = np.linspace(0,1)\n",
    "    # Computes and return the distribution\n",
    "    distribution = theta_space**(y+alpha-1) * \\\n",
    "                   (1-theta_space)**(n+beta-y-1)\n",
    "    return theta_space, distribution\n",
    "\n",
    "def beta_binomial_lapproximation(\n",
    "    n: int, y: int, alpha: int, beta: int\n",
    ") -> np.array:\n",
    "    \"\"\"\n",
    "    Returns the Laplace approximation of the beta binomial\n",
    "    distribution (i.e. Gaussian distribution) with parameters\n",
    "    derived from the original distribution's parameters alpha,\n",
    "    beta, y, and n.\n",
    "    \"\"\"\n",
    "    theta_max = (y+alpha-1)/(n+alpha+beta-2)\n",
    "    hessian   = -(y+alpha-1)/(theta_max**2) - \\\n",
    "                (n+beta-y-1)/((1-theta_max)**2)\n",
    "    variance  = -1/hessian\n",
    "    return norm(theta_max, np.sqrt(variance))"
   ]
  },
  {
   "cell_type": "markdown",
   "metadata": {},
   "source": [
    "### Exercise 4 functions\n",
    "\n",
    "*Some functions will be reused in exercise 5*."
   ]
  },
  {
   "cell_type": "code",
   "execution_count": 3,
   "metadata": {},
   "outputs": [],
   "source": [
    "def evaluate_log_post(\n",
    "    params: list, \n",
    "    other_params: list, \n",
    "    data: pd.Series, \n",
    "    likelihood: str, \n",
    "    priors: list\n",
    ") -> float:\n",
    "    \"\"\"\n",
    "    Optimization function to be used to output a Laplace approximation.\n",
    "    \"\"\"\n",
    "    # Retrieves the distribution functions (scipy implementation)\n",
    "    models = {\n",
    "        \"gaussian\":norm, \n",
    "        \"uniform\":uniform,\n",
    "        \"binomial\":binom,\n",
    "        \n",
    "    }\n",
    "    # Computes the log-priors\n",
    "    log_prior = 0 \n",
    "    for i, mod in enumerate(priors):\n",
    "        log_prior += models[mod[0]].logpdf(params[i], *mod[1]) \n",
    "    # Guarantees positive variance in the Gaussian case\n",
    "    if likelihood == \"gaussian\": params[-1] = np.abs(params[-1])\n",
    "    # Checks for the other set of parameters and merges existing\n",
    "    # parameters if need be\n",
    "    if len(other_params) > 0: params = (params, other_params)\n",
    "    # Computes the log-likelihood\n",
    "    log_likelihood = np.sum([models[likelihood].logpdf(point, *params) \n",
    "                             for point in data])\n",
    "    return - (log_likelihood + log_prior)\n",
    "\n",
    "def evaluate_log_post_regression(\n",
    "    params: list, \n",
    "    var_names: list, \n",
    "    data: pd.Series, \n",
    "    likelihood: str, \n",
    "    priors: list\n",
    ") -> float:\n",
    "    \"\"\"\n",
    "    Optimization function to be used to output a Laplace approximation\n",
    "    as part of a linear regression process.\n",
    "    \"\"\"\n",
    "    # Retrieves the distribution function (scipy implementation)\n",
    "    models = {\n",
    "        \"gaussian\":norm, \n",
    "        \"uniform\":uniform,\n",
    "        \"binomial\":binom\n",
    "    }\n",
    "    #Computes the log-priors\n",
    "    log_prior = 0 \n",
    "    for i, mod in enumerate(priors):\n",
    "        log_prior += models[mod[0]].logpdf(params[i], *mod[1]) \n",
    "    #Evaluating expression\n",
    "    target, predictors = var_names[0], var_names[1]\n",
    "    # Computes the Gaussian parameters\n",
    "    mu = np.ones(len(data[predictors[0]])) * params[0]\n",
    "    for i in range(len(predictors)):\n",
    "        mu += params[i+1] * data[predictors[i]].values\n",
    "    sigma = np.abs(params[-1])\n",
    "    # Computes the log-likelihood\n",
    "    t = data[target].values\n",
    "    N = len(t)\n",
    "    log_lik = np.sum([norm.logpdf(t[i], mu[i], sigma) \n",
    "                      for i in range(N)])\n",
    "    return -(log_lik + log_prior)\n",
    "\n",
    "def laplace_solution(\n",
    "    params:list,\n",
    "    other_params: list,\n",
    "    data: pd.Series,\n",
    "    likelihood: str,\n",
    "    priors:list\n",
    ") -> list:\n",
    "    \"\"\"\n",
    "    Computes a Laplace approximation of a distribution given sets of\n",
    "    prior and likelihood parameters.\n",
    "    \"\"\"    \n",
    "    # Performs an optimization over a set of parameters given an\n",
    "    # evaluation function.\n",
    "    minimum =  minimize(\n",
    "        evaluate_log_post, params,  \n",
    "        args = (other_params, data, likelihood, priors), \n",
    "        method = \"BFGS\"\n",
    "    )\n",
    "    print(minimum)\n",
    "    return [minimum.x, minimum.hess_inv]\n",
    "\n",
    "def laplace_solution_regression(\n",
    "    expression: str, \n",
    "    data: pd.DataFrame, \n",
    "    likelihood: str, \n",
    "    priors: list\n",
    ") -> list:\n",
    "    \"\"\"\n",
    "    Computes a Laplace approximation for a regression given sets\n",
    "    of priors and likelihood parameters\n",
    "    \"\"\"\n",
    "    # Retrieves the distribution function (scipy implementation)\n",
    "    models = {\n",
    "        \"gaussian\": norm, \n",
    "        \"uniform\": uniform,\n",
    "        \"binomial\": binom\n",
    "    }\n",
    "    # Parses the linear regression expression\n",
    "    collapsed_expression = expression.replace(\" \", \"\")\n",
    "    target, independent = collapsed_expression.split(\"~\") \n",
    "    independent = independent.split(\"+\")\n",
    "    var_names = [target, independent]\n",
    "    # Computes the random variates for each prior\n",
    "    params = [models[priors[i][0]].rvs(*priors[i][1]) \n",
    "              for i in range(len(priors))]\n",
    "    # Performs an optimization over a set of parameters given an\n",
    "    # evaluation function.\n",
    "    minimum =  minimize(\n",
    "        evaluate_log_post_regression, params, \n",
    "        args = (var_names, data, likelihood, priors),\n",
    "        method = \"BFGS\"\n",
    "    )\n",
    "    print(minimum, \"\\n\")\n",
    "    return [minimum.x, minimum.hess_inv]\n",
    "\n",
    "def plot_relationship(\n",
    "    x: pd.Series, y: pd.Series,\n",
    "    xlabel: str, ylabel:str,\n",
    "    title: str\n",
    ") -> None:\n",
    "    \"\"\"\n",
    "    Plots the 2D plot of the relationship between two variables.\n",
    "    \"\"\"\n",
    "    plt.figure()\n",
    "    plt.scatter(x, y)\n",
    "    plt.title(title)\n",
    "    plt.xlabel(xlabel)\n",
    "    plt.ylabel(ylabel)\n",
    "    plt.show\n",
    "\n",
    "def plot_variation(\n",
    "    data: pd.DataFrame,\n",
    "    depvar_name: str,\n",
    "    covar_mean: list,\n",
    "    covar_name: str,\n",
    "    plot_title: str,\n",
    "    plot_xlabel: str,\n",
    "    plot_ylabel: str,\n",
    "    posterior_samples: np.ndarray,\n",
    "    posterior_means: np.ndarray,\n",
    "    higher_order: bool = False,\n",
    "    max_order: int = 1\n",
    "):\n",
    "    \"\"\"\n",
    "    Plots the predictive regression of a dataset. If higher order is\n",
    "    True, the variable _x is exponent'd up to the maximum order fed\n",
    "    into the function with the argument max_order.\n",
    "    \"\"\"\n",
    "    # Computes the range of the plot area\n",
    "    x_range = np.linspace(min(data[covar_name]), max(data[covar_name]))\n",
    "    mean_prediction =  posterior_means[0]\n",
    "    mean_prediction += np.sum([posterior_means[i] * \\\n",
    "                               x_range**(i if higher_order else 1) \n",
    "                               for i in range(1, max_order+1)], axis=0)\n",
    "    # Samples from a posterior distribution to obtain a predictive \n",
    "    # interval\n",
    "    prediction_range = [\n",
    "        posterior_samples[:,0] + np.sum([posterior_samples[:,i] * \\\n",
    "                                         _x**(i if higher_order else 1)\n",
    "                                         for i in range(1, max_order+1)\n",
    "                                        ], axis=0) \n",
    "        for _x in x_range\n",
    "    ]\n",
    "    prediction_range_noise = [\n",
    "        norm.rvs(prediction, posterior_samples[:,-1]) \n",
    "        for prediction in prediction_range\n",
    "    ]\n",
    "    # Plots the base of the counterfactual graph\n",
    "    n = posterior_samples.shape[0]\n",
    "    plt.plot(x_range + covar_mean, mean_prediction, lw=2, color=\"black\")\n",
    "    plt.scatter(data[covar_name] + covar_mean, data[depvar_name])\n",
    "    plt.title(plot_title)\n",
    "    plt.xlabel(plot_xlabel)\n",
    "    plt.ylabel(plot_ylabel)\n",
    "    # Plotting the uncertainty\n",
    "    for i, _x in enumerate(x_range): \n",
    "        plt.scatter(np.repeat(_x,n) + covar_mean, \n",
    "                    prediction_range_noise[i], \n",
    "                    alpha = 0.05, color = 'grey')\n",
    "    for i, _x in enumerate(x_range): \n",
    "        plt.scatter(np.repeat(_x,n) + covar_mean,\n",
    "                    prediction_range[i], \n",
    "                    alpha = 0.05, color = 'green')\n",
    "    \n",
    "def posterior_sampling_laplace(\n",
    "    solution: list, \n",
    "    n_samples: int\n",
    ") -> list:\n",
    "    \"\"\"\n",
    "    Computes a sampling of a posterior distribution\n",
    "    yielded from a Laplace approximation.\n",
    "    \"\"\"\n",
    "    posterior_samples = multivariate_normal.rvs(\n",
    "        solution[0], solution[1], size = n_samples\n",
    "    )\n",
    "    return posterior_samples\n",
    "    \n",
    "def sampling_from_posterior(\n",
    "    data: pd.DataFrame, \n",
    "    mean_covariate: float, \n",
    "    depvar_name: str, \n",
    "    covar_name: str, \n",
    "    posterior_samples: multivariate_normal.rvs,\n",
    "    posterior_means: list,\n",
    "    plot_title: str,\n",
    "    plot_xlabel: str,\n",
    "    plot_ylabel: str\n",
    ") -> None:\n",
    "    \"\"\"\n",
    "    Samples datapoints from a posterior distribution and plots the \n",
    "    resulting distribution.\n",
    "    \"\"\"\n",
    "    # Samples from the posterior\n",
    "    x_range = np.linspace(min(data[covar_name]), max(data[covar_name]))\n",
    "    mean_prediction = posterior_means[0] + posterior_means[1] * x_range\n",
    "    for i in range(len(posterior_samples)):\n",
    "        prediction = posterior_samples[i,0] + \\\n",
    "                     posterior_samples[i,1] * x_range\n",
    "        plt.plot(x_range + mean_covariate, prediction, \n",
    "                 lw = 0.05, color = 'grey')\n",
    "    # Plots the resulting plot\n",
    "    plt.scatter(data[covar_name] + mean_covariate, data[depvar_name])\n",
    "    plt.plot(x_range + mean_covariate, mean_prediction, \n",
    "             lw = 2, color = 'black')\n",
    "    plt.title(plot_title)\n",
    "    plt.ylabel(plot_ylabel)\n",
    "    plt.xlabel(plot_xlabel)\n",
    "    plt.show()\n",
    "\n",
    "def summarize(\n",
    "    solution: list, \n",
    "    n_samples: int,\n",
    "    names: dict={0:'a',1:'b', 2:'sigma'}, \n",
    "    plot: bool=False,\n",
    ") -> tuple:\n",
    "    \"\"\"\n",
    "    Summarizes the regression statistics obtained via a\n",
    "    Laplace approximation.\n",
    "    \"\"\"\n",
    "    # Computes posterior samples\n",
    "    posterior_samples = posterior_sampling_laplace(\n",
    "        solution, n_samples\n",
    "    )\n",
    "    #### Computes summary stats\n",
    "    #    85% confidence interval\n",
    "    post_quantiles = np.quantile(posterior_samples, \n",
    "                                 q = [0.075, 0.925], \n",
    "                                 axis = 0)\n",
    "    #    standard deviation\n",
    "    post_sd = np.std(posterior_samples, axis = 0)\n",
    "    #     mean\n",
    "    post_mean = np.mean(posterior_samples, axis = 0)\n",
    "    # Prints the results\n",
    "    summary_stats = [post_mean, post_sd, post_quantiles[0,:],\n",
    "                     post_quantiles[1,:]]\n",
    "    summary_stats = pd.DataFrame(summary_stats).transpose()\n",
    "    summary_stats.columns = ['mean', 'SD', '7.5%', '92.5%']\n",
    "    summary_stats.rename(index=names, inplace=True)\n",
    "    print(summary_stats, \"\\n\")\n",
    "    # If requested, prints the plot of the posterior data\n",
    "    if plot:\n",
    "        boxes = []\n",
    "        for i in range(len(post_mean)):\n",
    "            boxes.append(posterior_samples[:,i])\n",
    "        plt.boxplot(boxes,vert=0)\n",
    "        plt.yticks(range(len(post_mean)+1)[1:], names)\n",
    "        plt.axvline(x=0, color = 'black', alpha = 0.1)\n",
    "        plt.show()\n",
    "    # Returns the posterior samples\n",
    "    return post_mean, post_sd, posterior_samples"
   ]
  },
  {
   "cell_type": "markdown",
   "metadata": {},
   "source": [
    "### Exercise 5 functions\n",
    "\n",
    "*Exercise 5 reuses functions from exercise 4*."
   ]
  },
  {
   "cell_type": "code",
   "execution_count": 4,
   "metadata": {},
   "outputs": [],
   "source": [
    "def compute_WAIC(\n",
    "    depvar_name: str,\n",
    "    covar_name: str,\n",
    "    max_order: int, \n",
    "    n_sampling: int,\n",
    "    posterior_samples: list, \n",
    "    data: pd.DataFrame\n",
    ") -> tuple:\n",
    "    \"\"\"\n",
    "    Computes the WAIC metric for a set of regression model, given\n",
    "    a maximum function order (linear, quadratic, cubic or fourth-order),\n",
    "    posterior sampling parameters, and a dataset.\n",
    "    \"\"\"\n",
    "    # Declares the pointwise predictive distribution and widely \n",
    "    # applicable information criterion objects to record\n",
    "    lppd = []\n",
    "    p_waic = []\n",
    "    # Computes the log-probability for each datapoint of the \n",
    "    # dependent variable\n",
    "    for i, target in enumerate(data[depvar_name]):\n",
    "        # declares a lambda function computing the mean of the \n",
    "        # log pdf\n",
    "        prediction = lambda s, order: posterior_samples[s, 0] + \\\n",
    "                     np.sum([posterior_samples[s,o] * \\\n",
    "                             data[f\"{covar_name}{o}\"][i]\n",
    "                             for o in range(1, order+1)], \n",
    "                            axis = 0)\n",
    "        # Computes the log-proba of the datapoint given a sampling size\n",
    "        log_p = [norm.logpdf(target, loc=prediction(s, max_order), \n",
    "                             scale=posterior_samples[s, -1]) \n",
    "                 for s in range(n_sampling)]\n",
    "        # Appends the results\n",
    "        lppd.append(logsumexp(log_p) - np.log(len(log_p)))\n",
    "        p_waic.append(np.var(log_p))\n",
    "    return lppd, p_waic\n",
    "\n",
    "def plot_boxplot_regression(\n",
    "    solution: list,\n",
    "    depvar_name: str,\n",
    "    plot_title: str\n",
    ") -> None:\n",
    "    \"\"\"\n",
    "    Plots the confidence interval of the b (slope) parameter\n",
    "    within an univariate regression between two variables. It\n",
    "    allows to see if the confidence interval overlaps or falls\n",
    "    away from zero.\n",
    "    \"\"\"\n",
    "    # Samples the posterior distribution of the slope b as part\n",
    "    # of an univarite regression\n",
    "    boxes = posterior_sampling_laplace(solution, 5000)[:,1]\n",
    "    # Plots the boxplot\n",
    "    plt.figure()\n",
    "    plt.boxplot(boxes,vert=0)\n",
    "    plt.yticks([1], [depvar_name])\n",
    "    plt.axvline(x=0, color = \"black\", alpha = 0.1)\n",
    "    plt.title(plot_title)\n",
    "    plt.show()\n",
    "\n",
    "def plot_posterior_univariate_regression(\n",
    "    solution: list, \n",
    "    x_range: np.ndarray, \n",
    "    data: pd.DataFrame, \n",
    "    center: int = 0, \n",
    "    names: list = ['x','y'], \n",
    "    n_samples: int = 5000\n",
    ") -> None:\n",
    "    \"\"\"\n",
    "    Plots the univariate regression plot of a sampling of a\n",
    "    posterior distribution computed with a Laplace approximation.\n",
    "    \"\"\"\n",
    "    # Samples from the posterior distribution obtained via\n",
    "    # Laplace approximation to obtains data statistics\n",
    "    post_samples = posterior_sampling_laplace(solution, n_samples)\n",
    "    degree = post_samples.shape[1] - 1\n",
    "    post_mean = np.mean(post_samples, axis = 0)\n",
    "    mean_prediction = np.zeros(len(x_range)) + \\\n",
    "                      sum([post_mean[i] * x_range**i \n",
    "                           for i in range(degree)])\n",
    "    # Plots the results of the sampling\n",
    "    plt.plot(x_range + center, mean_prediction, \n",
    "             lw = 2, color = 'black')\n",
    "    plt.title('regression result')\n",
    "    plt.ylabel(names[1])\n",
    "    plt.xlabel(names[0])\n",
    "    list_model_samples = []\n",
    "    # Samples from the posterior to get a predictive interval\n",
    "    for n in range(n_samples):\n",
    "        mod_sample = np.zeros(len(x_range))\n",
    "        for i in range(degree):\n",
    "            mod_sample += post_samples[n,i] * x_range**i\n",
    "        list_model_samples.append(mod_sample)\n",
    "    prediction_noise = []\n",
    "    for i,mod_sample in enumerate(list_model_samples):\n",
    "        prediction_noise.append(\n",
    "            norm.rvs(mod_sample, post_samples[i,-1])\n",
    "        )  \n",
    "    # Plots the uncertainty\n",
    "    for i in range(n_samples): \n",
    "        plt.scatter(x_range + center, prediction_noise[i], \n",
    "                    alpha = 0.05, color = 'grey')\n",
    "        plt.scatter(x_range + center, list_model_samples[i], \n",
    "                    alpha = 0.05, color = 'green')\n",
    "    plt.scatter( data[names[0]] + center, data[names[1]])\n",
    "    \n",
    "def summarize_WAIC_statistics(\n",
    "    depvar_name: str,\n",
    "    covar_name: str,\n",
    "    max_order: int, \n",
    "    n_sampling: int,\n",
    "    posterior_samples: list, \n",
    "    data: pd.DataFrame\n",
    ") -> None:\n",
    "    \"\"\"\n",
    "    Computes the summary of the statistic yielded with the WAIC\n",
    "    method: WAIC, pWAIC, dWAIC, weight, SE, d_SE\n",
    "    \"\"\"\n",
    "    # Declares empty variable lists for the WAIC and SE\n",
    "    waic_models = []\n",
    "    waic_vect_models = []\n",
    "    p_waic_models = []\n",
    "    se_models = []\n",
    "    # For each model (with a given order), computes the WAIC and SE\n",
    "    # and stores them\n",
    "    for i in range(1, max_order+1):\n",
    "        lppd, p_waic = compute_WAIC(depvar_name, covar_name, \n",
    "                                    i, n_sampling, \n",
    "                                    posterior_samples[i-1], data)\n",
    "        waic_vect = -2*(np.array(lppd) - np.array(p_waic))\n",
    "        waic = sum(waic_vect)\n",
    "        p_waic = sum(p_waic)\n",
    "        se = np.sqrt(len(data[depvar_name]) * np.var(waic_vect))\n",
    "        # Records the results\n",
    "        waic_models.append(waic)\n",
    "        waic_vect_models.append(waic_vect)\n",
    "        p_waic_models.append(p_waic)\n",
    "        se_models.append(se)\n",
    "    waic_models = np.array(waic_models)\n",
    "    # Declares empty variables lists for the rest of the statistics\n",
    "    d_waic = np.zeros(waic_models.shape)\n",
    "    weights = np.zeros(waic_models.shape)\n",
    "    d_se = np.zeros(waic_models.shape)\n",
    "    # Computes the statistics\n",
    "    for i in range(len(waic_models)):\n",
    "        d_waic[i] = np.abs(waic_models[i] - min(waic_models))\n",
    "    min_index = np.argmin(d_waic)\n",
    "    for i in range(len(waic_models)):\n",
    "        weights[i] = np.exp(-0.5*d_waic[i]) / \\\n",
    "                     (np.sum(np.exp(-0.5*d_waic)))\n",
    "        if i != min_index:\n",
    "            d_se[i] = np.sqrt(len(data[depvar_name])* \\\n",
    "                              np.var(waic_vect_models[i] - \\\n",
    "                                     waic_vect_models[min_index]))\n",
    "        else:\n",
    "            d_se[i] = np.nan\n",
    "    # Prints the summary\n",
    "    summary_stats = [waic_models, p_waic_models, \n",
    "                     d_waic, weights, se_models, d_se]\n",
    "    summary_stats = pd.DataFrame(summary_stats).transpose()\n",
    "    summary_stats.columns = [\"WAIC\", \"pWAIC\", \"dWAIC\", \n",
    "                             \"weight\", \"SE\", \"d_SE\"]\n",
    "    summary_stats.index = [f\"model{o}\" for o in range(1, max_order+1)]\n",
    "    print(summary_stats)"
   ]
  },
  {
   "cell_type": "markdown",
   "metadata": {},
   "source": [
    "### Exercise 6 functions"
   ]
  },
  {
   "cell_type": "code",
   "execution_count": 5,
   "metadata": {},
   "outputs": [],
   "source": [
    "def summarize_WAIC_statistics_different_models(\n",
    "    depvar_name: str,\n",
    "    n_sampling: int,\n",
    "    data: pd.DataFrame,\n",
    "    expressions: dict,\n",
    "    solutions: list\n",
    "):\n",
    "    \"\"\"\n",
    "    Computes the summary of the statistic yielded with the WAIC\n",
    "    method: WAIC, pWAIC, dWAIC, weight, SE, d_SE for models using\n",
    "    different covariates.\n",
    "    \"\"\"\n",
    "    # Declares empty variable lists for the WAIC and SE\n",
    "    waic_models = []\n",
    "    waic_vect_models = []\n",
    "    p_waic_models = []\n",
    "    se_models = []\n",
    "    for i, model in enumerate(expressions):\n",
    "        lppd = []\n",
    "        p_waic = []\n",
    "        # Initializing the likelihood\n",
    "        likelihood = 'gaussian'\n",
    "        posterior_samples = posterior_sampling_laplace(\n",
    "            solutions[i], n_sampling\n",
    "        )\n",
    "        for t, target in enumerate(data[depvar_name]):\n",
    "            log_p = []\n",
    "            for l in range(n_sampling):\n",
    "                pred = posterior_samples[l,0] \n",
    "                for i, elem in enumerate(list(\n",
    "                    expressions[model][1].values()\n",
    "                )[1:-1]):\n",
    "                    pred += posterior_samples[l,i]*data[elem][t]\n",
    "                log_p.append(norm.logpdf(\n",
    "                    target, loc=pred, scale=posterior_samples[l,-1]\n",
    "                ))\n",
    "            lppd.append(logsumexp(log_p) - np.log(len(log_p)))\n",
    "            p_waic.append(np.var(log_p))\n",
    "        waic_vect = -2*(np.array(lppd) - np.array(p_waic))\n",
    "        waic = -2*(np.sum(lppd) - np.sum(p_waic))\n",
    "        p_waic = np.sum(p_waic)\n",
    "        se = np.sqrt(len(data[depvar_name])*np.var(waic_vect))\n",
    "        # Records the results\n",
    "        waic_models.append(waic)\n",
    "        waic_vect_models.append(waic_vect)\n",
    "        p_waic_models.append(p_waic)\n",
    "        se_models.append(se)\n",
    "    waic_models = np.array(waic_models)\n",
    "    # Declares empty variables lists for the rest of the statistics\n",
    "    d_waic = np.zeros(waic_models.shape)\n",
    "    weights = np.zeros(waic_models.shape)\n",
    "    d_se = np.zeros(waic_models.shape)\n",
    "    # Computes the statistics\n",
    "    for i in range(len(waic_models)):\n",
    "        d_waic[i] = np.abs(waic_models[i] - min(waic_models))\n",
    "    min_index = np.argmin(d_waic)\n",
    "    for i in range(len(waic_models)):\n",
    "        weights[i] = np.exp(-0.5*d_waic[i]) / (np.sum(np.exp(-0.5*d_waic)))\n",
    "        if i != min_index:\n",
    "            d_se[i] = np.sqrt(len(data[depvar_name])* \\\n",
    "                              np.var(waic_vect_models[i] - \\\n",
    "                                     waic_vect_models[min_index]))\n",
    "        else:\n",
    "            d_se[i] = np.nan\n",
    "    # Prints the summary\n",
    "    summary_stats = [waic_models, p_waic_models, d_waic, \n",
    "                     weights, se_models, d_se]\n",
    "    summary_stats = pd.DataFrame(summary_stats).transpose()\n",
    "    summary_stats.columns = [\"WAIC\", \"pWAIC\", \"dWAIC\", \n",
    "                             \"weight\", \"SE\", \"d_SE\"]\n",
    "    summary_stats.index = list(expressions.keys())\n",
    "    print(summary_stats)"
   ]
  },
  {
   "cell_type": "markdown",
   "metadata": {},
   "source": [
    "<hr>\n",
    "<hr>\n",
    "<hr>\n",
    "\n",
    "## Exercise 1"
   ]
  },
  {
   "cell_type": "markdown",
   "metadata": {},
   "source": [
    "### Instructions\n",
    "\n",
    "The Beta-Binomial model seen during lesson 2 is:\n",
    "\n",
    "$$p(y|\\theta)p(\\theta) \\propto \\theta^{y+\\alpha-1}(1-\\theta)^{n+\\beta-y-1} \\propto Beta(\\theta|\\alpha+y,n+\\beta-y).$$\n",
    "\n",
    "Find a Laplace approximation for this model, as seen for the Binomal model, and plot the resulting Gaussian approximation against the Beta-Binomial function.\n",
    "\n",
    "<hr>\n",
    "\n",
    "#### 1. Finding the Laplace approximation of the Beta-Binomial model\n",
    "\n",
    "We recall that the Laplace method allows to approximate the shape of a given function with a Gaussian distribution. This approximation relies on the Taylor expansion of the (log-)function of interest *f*. Given *f* the function to approximate, we state the function *g* such that:\n",
    "\n",
    "$$f(x) = \\exp(\\log(f(\\theta)) = \\exp(g(\\theta))$$\n",
    "\n",
    "Stopping at the second order, and assuming that *g* and *f* share a maximum in $\\theta_0$, we can approximate *g* and thus *f* for any point $\\theta$ sufficiently close to $\\theta_0$ such that:\n",
    "\n",
    "\\begin{align}\n",
    "g(\\theta) &= g(\\theta_0) + g'(\\theta_0)(\\theta-\\theta_0) + \\frac{1}{2}g''(\\theta_0)(\\theta-\\theta_0)^2 + o((\\theta - \\theta_0)^3)\\\\\n",
    "g'(\\theta_0) &= 0 \\\\\n",
    "\\end{align}\n",
    "\n",
    "We find the following approximation:\n",
    "\n",
    "\\begin{align}\n",
    "g(\\theta) &\\approx g(\\theta_0) + \\frac{1}{2}g''(\\theta_0)(\\theta-\\theta_0)^2\\\\\n",
    "f(\\theta_0) &\\approx f(\\theta_0) + \\exp(\\frac{1}{2}g''(\\theta_0)(\\theta-\\theta_0)^2) \\\\\n",
    "&\\approx \\exp\\big(\\frac{1}{2}g''(\\theta_0)(\\theta-\\theta_0)^2\\big)\\quad\\text{Given $f(\\theta_0)$ a constant}\\\\\n",
    "&\\approx \\exp\\big(-\\frac{1}{2}\\frac{(\\theta-\\theta_0)^2}{-\\frac{1}{g''(\\theta_0)}}\\big)\\quad\\text{We recognize a Gaussian PDF}\\\\\n",
    "\\end{align}\n",
    "\n",
    "As such, *f* can be approximated (up to a normalization constant) by a Gaussian distribution: \n",
    "\n",
    "$$\\mathcal{N}(\\theta_0, -\\frac{1}{g''(\\theta_0)})$$\n",
    "\n",
    "<u>Computing the maximum of the log-distribution:</u>\n",
    "\n",
    "\\begin{align}\n",
    "g(\\theta) & = \\log(f(\\theta)) = (y+\\alpha-1)*\\log(\\theta) + (n+\\beta-y-1)*\\log(1-\\theta)\\\\\n",
    "\\frac{\\delta g}{\\delta \\theta} &= \\frac{y+\\alpha-1}{\\theta} - \\frac{n+\\beta-y-1}{1-\\theta}\n",
    "\\end{align}\n",
    "\n",
    "As such:\n",
    "\n",
    "\\begin{align}\n",
    "g'(\\theta_0) &= 0\\\\\n",
    "&\\Rightarrow \\frac{y+\\alpha-1}{\\theta_0} - \\frac{n+\\beta-y-1}{1-\\theta_0} = 0\\\\\n",
    "&\\Rightarrow \\frac{(1-\\theta_0)*(y+\\alpha-1) - \\theta_0*(n+\\beta-y-1)}{\\theta_0(1-\\theta_0)} = 0\\\\\n",
    "&\\Rightarrow (1-\\theta_0)*(y+\\alpha-1) - \\theta_0*(n+\\beta-y-1) = 0 \\\\\n",
    "&\\Rightarrow (2-n-\\alpha-\\beta)*\\theta_0 +y+\\alpha-1 = 0\n",
    "\\end{align}\n",
    "\n",
    "We find:\n",
    "\n",
    "$$\\theta_0 = \\frac{y+\\alpha-1}{n + \\alpha + \\beta - 2}$$\n",
    "\n",
    "<u>Computing the second derivative of the log-distribution with respect to $\\theta$:</u>\n",
    "\n",
    "\\begin{align}\n",
    "\\frac{\\delta^2 g}{\\delta \\theta^2} &= -\\frac{y+\\alpha-1}{\\theta^2} - \\frac{n+\\beta-y-1}{(1-\\theta)^2}\n",
    "\\end{align}\n",
    "\n",
    "We find:\n",
    "\n",
    "$$g''(\\theta_0) = -\\frac{y+\\alpha-1}{(\\frac{y+\\alpha-1}{n + \\alpha + \\beta - 2})^2} - \\frac{n+\\beta-y-1}{(1-(\\frac{y+\\alpha-1}{n + \\alpha + \\beta - 2}))^2}$$\n",
    "\n",
    "<u>Concluding on finding the Laplace approximation of the Beta-Binomial model:</u>\n",
    "\n",
    "The approximation will be the Gaussian:\n",
    "\n",
    "$$\\mathcal{N}\\big(\\frac{y+\\alpha-1}{n + \\alpha + \\beta - 2}, -(-\\frac{y+\\alpha-1}{(\\frac{y+\\alpha-1}{n + \\alpha + \\beta - 2})^2} - \\frac{n+\\beta-y-1}{(1-(\\frac{y+\\alpha-1}{n + \\alpha + \\beta - 2}))^2})^{-1}\\big)$$\n",
    "\n",
    "with mean $\\theta_0 = \\frac{y+\\alpha-1}{n + \\alpha + \\beta - 2}$ and variance $\\sigma^2=(\\frac{y+\\alpha-1}{(\\frac{y+\\alpha-1}{n + \\alpha + \\beta - 2})^2} + \\frac{n+\\beta-y-1}{(1-(\\frac{y+\\alpha-1}{n + \\alpha + \\beta - 2}))^2})^{-1}$\n",
    "\n",
    "#### 2. Plotting the approximation\n",
    "\n",
    "For plotting the resulting approximation, we first reuse the values for $\\alpha$, $\\beta$, $n$, and $y$ from class 5."
   ]
  },
  {
   "cell_type": "code",
   "execution_count": 6,
   "metadata": {},
   "outputs": [
    {
     "data": {
      "image/png": "[encoded data removed]",
      "text/plain": [
       "<Figure size 432x288 with 1 Axes>"
      ]
     },
     "metadata": {
      "needs_background": "light"
     },
     "output_type": "display_data"
    }
   ],
   "source": [
    "# Declares variables\n",
    "\n",
    "y = 4; n = 8; alpha = 2; beta = 3\n",
    "\n",
    "# Computes the beta-binomial PDF\n",
    "theta_space, beta_binomial = beta_binomial_distribution(\n",
    "    n, y, alpha, beta\n",
    ")\n",
    "\n",
    "# Computes the beta-binomial approximation\n",
    "lapproximation = beta_binomial_lapproximation(n, y, alpha, beta)\n",
    "\n",
    "# Plots the results\n",
    "\n",
    "plt.figure()\n",
    "plt.plot(\n",
    "    theta_space, beta_binomial/np.sum(beta_binomial), \n",
    "    label=\"Beta-Binomial PDF\")\n",
    "plt.plot(\n",
    "    theta_space,\n",
    "    lapproximation.pdf(theta_space)/np.sum(\n",
    "        lapproximation.pdf(theta_space)\n",
    "    ),\n",
    "    label=\"Laplace approximation\")\n",
    "plt.legend()\n",
    "plt.show()"
   ]
  },
  {
   "cell_type": "markdown",
   "metadata": {},
   "source": [
    "Let's try with another example:\n",
    "\n",
    "\\begin{align}\n",
    "y&=10\\\\\n",
    "n&=20\\\\\n",
    "\\alpha&=10\\\\\n",
    "\\beta&=20\\\\\n",
    "\\end{align}"
   ]
  },
  {
   "cell_type": "code",
   "execution_count": 7,
   "metadata": {},
   "outputs": [
    {
     "data": {
      "image/png": "[encoded data removed]",
      "text/plain": [
       "<Figure size 432x288 with 1 Axes>"
      ]
     },
     "metadata": {
      "needs_background": "light"
     },
     "output_type": "display_data"
    }
   ],
   "source": [
    "# Declares variables\n",
    "\n",
    "y = 10; n = 20; alpha = 10; beta = 20\n",
    "\n",
    "# Computes the beta-binomial PDF\n",
    "theta_space, beta_binomial = beta_binomial_distribution(n, y, alpha, beta)\n",
    "\n",
    "# Computes the beta-binomial approximation\n",
    "lapproximation = beta_binomial_lapproximation(n, y, alpha, beta)\n",
    "\n",
    "# Plots the results\n",
    "\n",
    "plt.figure()\n",
    "plt.plot(\n",
    "    theta_space, beta_binomial/np.sum(beta_binomial), \n",
    "    label=\"Beta-Binomial PDF\")\n",
    "plt.plot(\n",
    "    theta_space,\n",
    "    lapproximation.pdf(theta_space)/np.sum(lapproximation.pdf(theta_space)),\n",
    "    label=\"Laplace approximation\")\n",
    "plt.legend()\n",
    "plt.show()"
   ]
  },
  {
   "cell_type": "markdown",
   "metadata": {},
   "source": [
    "<hr>\n",
    "<hr>\n",
    "<hr>\n",
    "\n",
    "## Exercise 2"
   ]
  },
  {
   "cell_type": "markdown",
   "metadata": {},
   "source": [
    "### Instructions\n",
    "\n",
    "Write down a model to evaluate the claim: *Animal diversity is related to latitude, but only after controlling for plant diversity*. You just need to write down the model definition.\n",
    "\n",
    "<hr>\n",
    "\n",
    "#### 1. Problem statement\n",
    "\n",
    "From [wikipedia](https://en.wikipedia.org/wiki/Latitude), \"*latitude is a geographic coordinate that specifies the north–south position of a point on the Earth's surface. Latitude is an angle (defined below) which ranges from 0° at the Equator to 90° (North or South) at the poles*.\" \n",
    "\n",
    "Common sense can lead us to assume that animal diversity is closely related to location (here, latitude). Furthermore, given prior knowledge, we may suppose that the most inhospitable areas in the world are located towards the poles, while the most hospitable would be closer to the equator (e.g. Amazonian Forest, Subsaharan Africa, etc.). Furthermore, since a biome is constituted by both fauna and flora, we can suppose that animal and plant diversity are tightly related.\n",
    "\n",
    "As a caveat, this modeling is not without blind spots as areas such that the Sahara desert might influence the average diversity of a locale/latitude, as we are not interested in longitude as a parameter.\n",
    "\n",
    "Finally, given these assumptions, we may hypothesize that:\n",
    "\n",
    "- Any metric related to latitude would display some symmetric behavior with regards to the distance from the equator.\n",
    "- The closer to the poles, i.e. the farther from the equator, the lower the biome diversity:\n",
    "    - Animal diversity and plant diversity are related\n",
    "    - Diversity decreases with increasing latitude\n",
    "\n",
    "**Note:** Assuming any metric of animal diversity cannot be negative (at worse it would be zero), we could imagine a diversity metric as following a Poisson distribution at a given latitude.\n",
    "\n",
    "<u>Possible example of a diversity metric per latitude given our assumptions:</u>\n",
    "\n",
    "Represented on a graph with the x-axis the distance from the equator, and on the y-axis a metric evaluating animal diversity, we would expect a possibly linear, decreasing dataset of the following form:"
   ]
  },
  {
   "cell_type": "code",
   "execution_count": 8,
   "metadata": {
    "scrolled": true
   },
   "outputs": [
    {
     "data": {
      "image/png": "[encoded data removed]",
      "text/plain": [
       "<Figure size 432x288 with 1 Axes>"
      ]
     },
     "metadata": {
      "needs_background": "light"
     },
     "output_type": "display_data"
    }
   ],
   "source": [
    "x = np.linspace(0, 90, num=100)\n",
    "y = sorted(np.linspace(0, 90, num=100), reverse=True) + \\\n",
    "    np.random.normal(0, 5, 100)\n",
    "plt.scatter(x, y); plt.show()"
   ]
  },
  {
   "cell_type": "markdown",
   "metadata": {},
   "source": [
    "#### 2. Model definition\n",
    "\n",
    "As such, since we are interested in a possible relationship between latitude and animal diversity, but we also want to account/control for plant diversity, we may define a preliminary model as a linear regression with `animal diversity` as the dependent variable and `latitude` and `plant diversity` as the covariates. \n",
    "\n",
    "We are interested in the regression function $r$ such that:\n",
    "\n",
    "$$r \\rightarrow \\mathbb{E}[animal\\,diversity\\,\\,|\\,\\,latitude,\\,\\, plant\\,diversity]$$\n",
    "\n",
    "Our resulting linear model would be as such:\n",
    "\n",
    "\\begin{align}\n",
    "\\text{animal diversity} &= a+b*\\text{latitude} + c*\\text{plant diversity}\\\\\\\\\n",
    "\\text{with,}\\\\\n",
    "a&,\\text{ the intercept}\\\\\n",
    "b, c&,\\text{ respective coefficients of the latitude and plant diversity covariates}\n",
    "\\end{align}"
   ]
  },
  {
   "cell_type": "markdown",
   "metadata": {},
   "source": [
    "<hr>\n",
    "<hr>\n",
    "<hr>\n",
    "\n",
    "## Exercise 3"
   ]
  },
  {
   "cell_type": "markdown",
   "metadata": {},
   "source": [
    "### Instructions\n",
    "\n",
    "Invent your own example of spurious correlation. An outcome variable should be correlated with both predictor variables. But when both predictors are entered in the same model, the correlation between the outcome and one of the predictors should mostly vanish (or at least be greatly reduced).\n",
    "\n",
    "<hr>\n",
    "\n",
    "#### 1. Example of spurious correlation\n",
    "\n",
    "From [Investopedia](https://www.investopedia.com/terms/s/spurious_correlation.asp), \"*a spurious correlation (or spuriousness) refers to a connection between two variables that appears to be causal but is not. With spurious correlation, any observed dependencies between variables are merely due to chance or are both related to some unseen confounder.*\"\n",
    "\n",
    "An example could be the following:\n",
    "\n",
    "> The sale of foie-gras is spuriously correlated to the sale of umbrellas in the Alpes-Maritimes, France.\n",
    "\n",
    "If at face value it is obvious that the two variables are not causally linked, they are correlated through the underlying variable of seasonality -- the [rainiest months in the Alpes-Maritimes are October, November and December](https://en.wikipedia.org/wiki/Nice#Climate). Furthermore, foie-gras sales are [closely tied to the Christmas and New Year holidays](https://www.businesscoot.com/fr/etude/le-marche-du-foie-gras-france).\n",
    "\n",
    "As such, we have a situation where the sale of foie-gras, being our dependent variable, should be correlated to both predictor variables: season/month of the year, and sales of umbrellas. Given a model where both covariates are included, we would expect the predictive aspect of the sales of umbrellas to decrease or disappear (since it also rains yearround, albeit in a lower amount)."
   ]
  },
  {
   "cell_type": "markdown",
   "metadata": {},
   "source": [
    "<hr>\n",
    "<hr>\n",
    "<hr>\n",
    "\n",
    "## Exercise 4"
   ]
  },
  {
   "cell_type": "markdown",
   "metadata": {},
   "source": [
    "### Instructions\n",
    "\n",
    "The attached data is about observations of urban foxes in human habitat. The data has 5 columns:\n",
    "\n",
    "- *group*: Number of social group the fox belongs to\n",
    "- *avgfood*: The avg amount of food available in the territory\n",
    "- *groupsize*: The number of foxes in the social group\n",
    "- *area*: Size of the territory\n",
    "- *weight*: Body weight of the fox\n",
    "\n",
    "Fit a regression for *weight* as a linear function of *area*, and a regression for *weight* as a linear function of *groupsize*. What can you say about these relationships? Run a multivariate model and plot counterfactual plots for both variables. What can you conclude about this analysis?\n",
    "\n",
    "<hr>\n",
    "\n",
    "#### 1. Data import and exploration"
   ]
  },
  {
   "cell_type": "code",
   "execution_count": 9,
   "metadata": {
    "scrolled": true
   },
   "outputs": [
    {
     "data": {
      "text/html": [
       "<div>\n",
       "<style scoped>\n",
       "    .dataframe tbody tr th:only-of-type {\n",
       "        vertical-align: middle;\n",
       "    }\n",
       "\n",
       "    .dataframe tbody tr th {\n",
       "        vertical-align: top;\n",
       "    }\n",
       "\n",
       "    .dataframe thead th {\n",
       "        text-align: right;\n",
       "    }\n",
       "</style>\n",
       "<table border=\"1\" class=\"dataframe\">\n",
       "  <thead>\n",
       "    <tr style=\"text-align: right;\">\n",
       "      <th></th>\n",
       "      <th>group</th>\n",
       "      <th>avgfood</th>\n",
       "      <th>groupsize</th>\n",
       "      <th>area</th>\n",
       "      <th>weight</th>\n",
       "    </tr>\n",
       "  </thead>\n",
       "  <tbody>\n",
       "    <tr>\n",
       "      <th>count</th>\n",
       "      <td>116.000000</td>\n",
       "      <td>116.000000</td>\n",
       "      <td>116.000000</td>\n",
       "      <td>116.000000</td>\n",
       "      <td>116.000000</td>\n",
       "    </tr>\n",
       "    <tr>\n",
       "      <th>mean</th>\n",
       "      <td>17.206897</td>\n",
       "      <td>0.751724</td>\n",
       "      <td>4.344828</td>\n",
       "      <td>3.169138</td>\n",
       "      <td>4.529655</td>\n",
       "    </tr>\n",
       "    <tr>\n",
       "      <th>std</th>\n",
       "      <td>8.002736</td>\n",
       "      <td>0.198316</td>\n",
       "      <td>1.538511</td>\n",
       "      <td>0.928354</td>\n",
       "      <td>1.184023</td>\n",
       "    </tr>\n",
       "    <tr>\n",
       "      <th>min</th>\n",
       "      <td>1.000000</td>\n",
       "      <td>0.370000</td>\n",
       "      <td>2.000000</td>\n",
       "      <td>1.090000</td>\n",
       "      <td>1.920000</td>\n",
       "    </tr>\n",
       "    <tr>\n",
       "      <th>25%</th>\n",
       "      <td>11.750000</td>\n",
       "      <td>0.660000</td>\n",
       "      <td>3.000000</td>\n",
       "      <td>2.590000</td>\n",
       "      <td>3.720000</td>\n",
       "    </tr>\n",
       "    <tr>\n",
       "      <th>50%</th>\n",
       "      <td>18.000000</td>\n",
       "      <td>0.735000</td>\n",
       "      <td>4.000000</td>\n",
       "      <td>3.130000</td>\n",
       "      <td>4.420000</td>\n",
       "    </tr>\n",
       "    <tr>\n",
       "      <th>75%</th>\n",
       "      <td>24.000000</td>\n",
       "      <td>0.800000</td>\n",
       "      <td>5.000000</td>\n",
       "      <td>3.772500</td>\n",
       "      <td>5.375000</td>\n",
       "    </tr>\n",
       "    <tr>\n",
       "      <th>max</th>\n",
       "      <td>30.000000</td>\n",
       "      <td>1.210000</td>\n",
       "      <td>8.000000</td>\n",
       "      <td>5.070000</td>\n",
       "      <td>7.550000</td>\n",
       "    </tr>\n",
       "  </tbody>\n",
       "</table>\n",
       "</div>"
      ],
      "text/plain": [
       "            group     avgfood   groupsize        area      weight\n",
       "count  116.000000  116.000000  116.000000  116.000000  116.000000\n",
       "mean    17.206897    0.751724    4.344828    3.169138    4.529655\n",
       "std      8.002736    0.198316    1.538511    0.928354    1.184023\n",
       "min      1.000000    0.370000    2.000000    1.090000    1.920000\n",
       "25%     11.750000    0.660000    3.000000    2.590000    3.720000\n",
       "50%     18.000000    0.735000    4.000000    3.130000    4.420000\n",
       "75%     24.000000    0.800000    5.000000    3.772500    5.375000\n",
       "max     30.000000    1.210000    8.000000    5.070000    7.550000"
      ]
     },
     "execution_count": 9,
     "metadata": {},
     "output_type": "execute_result"
    }
   ],
   "source": [
    "data = pd.read_csv(\"data.csv\")\n",
    "data.describe()"
   ]
  },
  {
   "cell_type": "code",
   "execution_count": 10,
   "metadata": {},
   "outputs": [
    {
     "data": {
      "text/plain": [
       "[Text(0.5, 1.0, \"Distribution of urban foxes' weight\")]"
      ]
     },
     "execution_count": 10,
     "metadata": {},
     "output_type": "execute_result"
    },
    {
     "data": {
      "image/png": "[encoded data removed]",
      "text/plain": [
       "<Figure size 432x288 with 1 Axes>"
      ]
     },
     "metadata": {
      "needs_background": "light"
     },
     "output_type": "display_data"
    }
   ],
   "source": [
    "sns.kdeplot(data[\"weight\"]).set(\n",
    "    title=\"Distribution of urban foxes' weight\"\n",
    ")"
   ]
  },
  {
   "cell_type": "code",
   "execution_count": 11,
   "metadata": {},
   "outputs": [
    {
     "data": {
      "text/plain": [
       "[Text(0.5, 1.0, \"Distribution of urban foxes' area\")]"
      ]
     },
     "execution_count": 11,
     "metadata": {},
     "output_type": "execute_result"
    },
    {
     "data": {
      "image/png": "[encoded data removed]",
      "text/plain": [
       "<Figure size 432x288 with 1 Axes>"
      ]
     },
     "metadata": {
      "needs_background": "light"
     },
     "output_type": "display_data"
    }
   ],
   "source": [
    "sns.kdeplot(data[\"area\"]).set(\n",
    "    title=\"Distribution of urban foxes' area\"\n",
    ")"
   ]
  },
  {
   "cell_type": "code",
   "execution_count": 12,
   "metadata": {},
   "outputs": [
    {
     "data": {
      "text/plain": [
       "[Text(0.5, 1.0, \"Distribution of urban foxes' groupsize\")]"
      ]
     },
     "execution_count": 12,
     "metadata": {},
     "output_type": "execute_result"
    },
    {
     "data": {
      "image/png": "[encoded data removed]",
      "text/plain": [
       "<Figure size 432x288 with 1 Axes>"
      ]
     },
     "metadata": {
      "needs_background": "light"
     },
     "output_type": "display_data"
    }
   ],
   "source": [
    "sns.kdeplot(data[\"groupsize\"]).set(\n",
    "    \n",
    "    title=\"Distribution of urban foxes' groupsize\")"
   ]
  },
  {
   "cell_type": "code",
   "execution_count": 13,
   "metadata": {},
   "outputs": [
    {
     "data": {
      "image/png": "[encoded data removed]",
      "text/plain": [
       "<Figure size 432x288 with 1 Axes>"
      ]
     },
     "metadata": {
      "needs_background": "light"
     },
     "output_type": "display_data"
    }
   ],
   "source": [
    "x, y, title= (\"area\", \"weight\", \"weight vs. area\")\n",
    "plot_relationship(data[x], data[y], x, y, title)"
   ]
  },
  {
   "cell_type": "code",
   "execution_count": 14,
   "metadata": {},
   "outputs": [
    {
     "data": {
      "image/png": "[encoded data removed]",
      "text/plain": [
       "<Figure size 432x288 with 1 Axes>"
      ]
     },
     "metadata": {
      "needs_background": "light"
     },
     "output_type": "display_data"
    }
   ],
   "source": [
    "x, y, title= (\"groupsize\", \"weight\", \"weight vs. groupsize\")\n",
    "plot_relationship(data[x], data[y], x, y, title)"
   ]
  },
  {
   "cell_type": "markdown",
   "metadata": {},
   "source": [
    "<u>Observations:</u>\n",
    "\n",
    "At first glance, the distribution of the dependent variable `weight` seems somewhat Gaussian. \n",
    "\n",
    "That cannot be said of the possible covariates `area` and `groupsize` as they both showcase a bump right-side of their distribution. \n",
    "\n",
    "Finally, plotting the dependent variable `weight` against either covariates yields graphs that seem to indicate either an absent or somewhat weak relationship. This will have to be verified."
   ]
  },
  {
   "cell_type": "markdown",
   "metadata": {},
   "source": [
    "#### 3. Estimating a model of `weight` sampling from prior mean and variance\n",
    "\n",
    "To inform our choice of prior parameters for the `weight` variable in regressions with `area` and `groupsize`, we decide to estimate of model of `weight` sampling.\n",
    "\n",
    "<u>Selecting priors:</u>\n",
    "\n",
    "As such, we start by fitting a model for the variable `weight` only. Given the observed sample distribution, we will weakly assume that `weight` is Gaussian-distributed. `weight` is the result of infinitesimal accumulations of mass/growth during the life span of a fox, such as with the variable `height` (seen in class).\n",
    "\n",
    "Therefore, for each fox $i$, we may assume that their `weight` is distributed as: $$\\quad\\text{weight}_i\\sim N(\\mu,\\sigma^2)$$\n",
    "\n",
    "\n",
    "\n",
    "We consider foxes to be fungible individuals, independent between each other such that:\n",
    "\n",
    "\\begin{align}\n",
    "p(\\text{weight}) &= p(\\text{weight}_1, \\text{weight}_2, \\ldots, \\text{weight}_N) \\\\\n",
    "&= p(\\text{weight}_1).p(\\text{weight}_2)\\cdots p(\\text{weight}_N)\n",
    "\\end{align}\n",
    "\n",
    "This corresponds to a product of Gaussian likelihoods. \n",
    "\n",
    "By using a Gaussian likelihood, we look into specifing a prior. As such we encode our belief with the following prior parameters:\n",
    "\n",
    "\\begin{align}\n",
    "\\mu_{prior} &\\sim\\,\\,\\mathcal{N}(4.5,3)\\\\\n",
    "\\sigma_{prior} &\\sim\\,\\,\\mathcal{U}(0,2)\n",
    "\\end{align}\n",
    "\n",
    "**Interpretation**: Given our dataset, the average weight of an urban fox is 4.5 kilograms with a $2\\sigma$-variability of c. $[0.9kg, 8.1kg]$, which seems reasonable as we likely are including the whole fox population, from pups to the largest individuals. For the variance, we don't have a clear opinion on the matter and we estimate that it can be considered as uniformly distributed on the interval $[0kg, 2kg]$.\n",
    "\n",
    "<u>Integrating data in the model and obtaining its posterior:</u>\n",
    "\n",
    "We specify our likelihood:\n",
    "\n",
    "\\begin{align}\n",
    "p(y|\\mu,\\sigma^2) &= N(y|\\mu,\\sigma^2)\\\\\\\\\n",
    "\\text{with}&\\,\\\\\n",
    "y&,\\,\\,\\text{the weight data}\n",
    "\\end{align}\n",
    "\n",
    "<u>Using Laplace approximation:</u>\n",
    "\n",
    "Because a grid method is computationally inefficient, and because we need to perform inference on $\\sigma$ as well (which makes us reject using the closed form of the Gaussian), we use the Laplace approximation in order to yield a model of `weight`. As such, we rely on Laplace approximation."
   ]
  },
  {
   "cell_type": "code",
   "execution_count": 15,
   "metadata": {},
   "outputs": [
    {
     "name": "stdout",
     "output_type": "stream",
     "text": [
      "      fun: 186.399890424752\n",
      " hess_inv: array([[1.19675967e-02, 4.41943897e-06],\n",
      "       [4.41943897e-06, 5.99152106e-03]])\n",
      "      jac: array([-5.7220459e-06,  0.0000000e+00])\n",
      "  message: 'Optimization terminated successfully.'\n",
      "     nfev: 21\n",
      "      nit: 4\n",
      "     njev: 7\n",
      "   status: 0\n",
      "  success: True\n",
      "        x: array([4.5296157 , 1.17890797])\n"
     ]
    }
   ],
   "source": [
    "# Declares the likelihood with the sample parameters\n",
    "likelihood = \"gaussian\"; mu=4.53; sigma=1.18 #4.53, 1.18\n",
    "parameters = [mu, sigma]\n",
    "\n",
    "# Defines the prior mean\n",
    "prior_mu_mean = 4.5; prior_mu_sigma = 3\n",
    "prior_mu = [\"gaussian\", [prior_mu_mean, prior_mu_sigma]]\n",
    "\n",
    "# Defines the prior sigma\n",
    "sigma_inf = 0.; sigma_sup = 2.\n",
    "prior_sigma = [\"uniform\", [sigma_inf, sigma_sup]]\n",
    "\n",
    "# Performs the optimization\n",
    "solution = laplace_solution(parameters, [], data[\"weight\"], \n",
    "                            likelihood, [prior_mu, prior_sigma])"
   ]
  },
  {
   "cell_type": "markdown",
   "metadata": {},
   "source": [
    "The variable `solution` contains both the distribution parameters of the mean and variance of the posterior distribution of `weight`. As such, we explore this new model of `weight`:"
   ]
  },
  {
   "cell_type": "code",
   "execution_count": 16,
   "metadata": {},
   "outputs": [
    {
     "name": "stdout",
     "output_type": "stream",
     "text": [
      "`weight`'s mean parameter: [4.52941696 1.17664982].\n",
      "`weight`'s Std.Dev parameter: [0.10966025 0.0774121 ].\n",
      "\n",
      "The 85% quantile bounds for the `weight` mean are:\n",
      " [[4.37213923 1.06506151]\n",
      " [4.68840418 1.28679508]]\n"
     ]
    }
   ],
   "source": [
    "n_samples = 5000\n",
    "\n",
    "posterior_samples = posterior_sampling_laplace(solution, n_samples)\n",
    "print(f\"`weight`'s mean parameter: {posterior_samples.mean(axis=0)}.\")\n",
    "print(f\"`weight`'s Std.Dev parameter: {posterior_samples.std(axis=0)}.\")\n",
    "print(\"\\nThe 85% quantile bounds for the `weight` mean are:\\n\",\n",
    "      np.quantile(posterior_samples, q=[0.075, 0.925], axis=0))"
   ]
  },
  {
   "cell_type": "markdown",
   "metadata": {},
   "source": [
    "<u>Note:</u>\n",
    "\n",
    "Given this model, we will use the mean and standard deviation of $\\mu$ as prior parameters for performing a regression of `weight` with its covariates.\n",
    "\n",
    "#### 3. Performing a regression with `weight` as a linear function of `area`\n",
    "\n",
    "Now that we explored in detail the urban foxes' `weight`, we can study the relationship bwetween `weight` and `area`. As such, we are interested in the relationship: \n",
    "\n",
    "$$\\text{weight} = a + b * \\text{area}$$\n",
    "\n",
    "The intercept $a$ expresses the `weight` of an urban fox when its `area` territory area is null (which could represent transient foxes, pups, etc.) while the slope $b$ indicates how much the mass of a fox changes with the size of its territory.\n",
    "\n",
    "From now on, we will assume that our previous Gaussian model of `weight` (seen above) is dependent on the variable `area` through this linear relationship. The rationale would be that a larger territory would grant a fox a larger hunting area and food. In this case, we assume that the `weight` of an urban fox would be sampled from a Gaussian distribution:\n",
    "\n",
    "$$\\text{weight}_i\\sim \\mathcal{N}(\\mu_i,\\sigma^2)$$\n",
    "\n",
    "Along with this distribution, we state that:\n",
    "\n",
    "$$\\mu_i = a + b * \\text{area}_i$$\n",
    "\n",
    "i.e., the mean $\\mu_i$ varies depending on area size, and the coefficient $a$ and $b$ as well as the noise $\\sigma$ are assumed to be the same across subjects.\n",
    "\n",
    "To define our Bayesian model, we specify priors for all the parameters we want to analyze:\n",
    "\n",
    "\\begin{align}\n",
    "p(a) &= \\mathcal{N}(4.5, 0.11)\\quad\\text{Based on our previous modeling of `weight`}\\\\\n",
    "p(b) &= \\mathcal{N}(0, 1)\\\\\n",
    "p(\\sigma) &= \\mathcal{U}(0, 2)\n",
    "\\end{align}\n",
    "\n",
    "Given we have no specific belief on the impact of `area` (by looking at the previous graph, we can't even really say if there is a positive relationship with a fox's `weight`), we specify the prior of b as a Gaussian distribution with mean 0 and standard deviation 1, and the variance as being uniform.\n",
    "\n",
    "<u>Centering the data:</u>\n",
    "\n",
    "We center the `area` variable to avoid scale effects."
   ]
  },
  {
   "cell_type": "code",
   "execution_count": 17,
   "metadata": {},
   "outputs": [],
   "source": [
    "# Centers the data\n",
    "mean_area = data[\"area\"].mean()\n",
    "centered_data = data.copy()\n",
    "centered_data[\"area\"] -= mean_area"
   ]
  },
  {
   "cell_type": "markdown",
   "metadata": {},
   "source": [
    "<u>Performing the Laplace regression:</u>"
   ]
  },
  {
   "cell_type": "code",
   "execution_count": 18,
   "metadata": {},
   "outputs": [
    {
     "name": "stderr",
     "output_type": "stream",
     "text": [
      "/home/quentin/anaconda3/lib/python3.8/site-packages/scipy/optimize/_numdiff.py:557: RuntimeWarning: invalid value encountered in subtract\n",
      "  df = fun(x) - f0\n"
     ]
    },
    {
     "name": "stdout",
     "output_type": "stream",
     "text": [
      "      fun: 184.47804115958508\n",
      " hess_inv: array([[ 5.54560290e-03,  4.48619173e-05, -7.29779711e-05],\n",
      "       [ 4.48619173e-05,  1.36983729e-02,  2.23428894e-05],\n",
      "       [-7.29779711e-05,  2.23428894e-05,  5.87806267e-03]])\n",
      "      jac: array([0.00000000e+00, 1.90734863e-06, 1.90734863e-06])\n",
      "  message: 'Optimization terminated successfully.'\n",
      "     nfev: 96\n",
      "      nit: 18\n",
      "     njev: 23\n",
      "   status: 0\n",
      "  success: True\n",
      "        x: array([4.51490152, 0.0383252 , 1.17884256]) \n",
      "\n"
     ]
    }
   ],
   "source": [
    "# Declares the regression expression\n",
    "expression = \"weight ~ area\"\n",
    "\n",
    "# Declares the likelihood\n",
    "likelihood = \"gaussian\"\n",
    "\n",
    "# Defines the prior with hyperparameters \n",
    "prior_a_mean = 4.5; prior_a_sigma = 0.11\n",
    "prior_a = [\"gaussian\", [prior_a_mean, prior_a_sigma]]\n",
    "\n",
    "prior_b_mean = 1.; prior_b_sigma = 1.\n",
    "prior_b = [\"gaussian\", [prior_b_mean, prior_b_sigma]]\n",
    "\n",
    "sigma_inf = 0.; sigma_sup = 2.\n",
    "prior_sigma_unif = [sigma_inf, sigma_sup]\n",
    "prior_sigma = [\"uniform\", prior_sigma_unif]\n",
    "\n",
    "priors = [prior_a, prior_b, prior_sigma]\n",
    "\n",
    "# Performs the optimization\n",
    "solution = laplace_solution_regression(\n",
    "    expression, centered_data, likelihood, priors\n",
    ")"
   ]
  },
  {
   "cell_type": "markdown",
   "metadata": {},
   "source": [
    "<u>Summarizing the computed statistics:</u>"
   ]
  },
  {
   "cell_type": "code",
   "execution_count": 19,
   "metadata": {},
   "outputs": [
    {
     "name": "stdout",
     "output_type": "stream",
     "text": [
      "           mean        SD      7.5%     92.5%\n",
      "a      4.513130  0.073978  4.408611  4.617009\n",
      "b      0.038465  0.116304 -0.129418  0.202147\n",
      "sigma  1.178779  0.077514  1.068323  1.289793 \n",
      "\n"
     ]
    }
   ],
   "source": [
    "# Computes posterior samples\n",
    "posterior_means, _, posterior_samples = summarize(solution, n_samples)"
   ]
  },
  {
   "cell_type": "markdown",
   "metadata": {},
   "source": [
    "<u>Plotting the results with sampling from the posterior:</u>"
   ]
  },
  {
   "cell_type": "code",
   "execution_count": 20,
   "metadata": {},
   "outputs": [
    {
     "data": {
      "image/png": "[encoded data removed]",
      "text/plain": [
       "<Figure size 432x288 with 1 Axes>"
      ]
     },
     "metadata": {
      "needs_background": "light"
     },
     "output_type": "display_data"
    }
   ],
   "source": [
    "sampling_from_posterior(\n",
    "    centered_data, mean_area, \n",
    "    \"weight\", \"area\", \n",
    "    posterior_samples, posterior_means,\n",
    "    \"Weight vs Area\", \"Area\", \"Weight\"\n",
    ")"
   ]
  },
  {
   "cell_type": "code",
   "execution_count": 21,
   "metadata": {},
   "outputs": [
    {
     "data": {
      "image/png": "[encoded data removed]",
      "text/plain": [
       "<Figure size 432x288 with 1 Axes>"
      ]
     },
     "metadata": {
      "needs_background": "light"
     },
     "output_type": "display_data"
    }
   ],
   "source": [
    "plot_variation(\n",
    "    centered_data,\n",
    "    \"weight\",\n",
    "    mean_area,\n",
    "    \"area\",\n",
    "    'Weight vs Area',\n",
    "    \"Area\",\n",
    "    \"Weight\",\n",
    "    posterior_samples,\n",
    "    posterior_means,\n",
    "    higher_order = False,\n",
    "    max_order = 1\n",
    ")"
   ]
  },
  {
   "cell_type": "markdown",
   "metadata": {},
   "source": [
    "<u>Observations:</u>\n",
    "\n",
    "As suspected, the impact of `area` on an urban fox's `weight` is dubious, as the result of the linear regression yields a flat or near-flat slope $b$.\n",
    "\n",
    "As such, we may consider `area` alone to be a non-covariate of `weight`, or a (very) weak positive covariate of `weight` (given that our mean estimate of b is positive: $\\approx 0.04$).\n",
    "\n",
    "#### 4. Performing a regression with `weight` as a linear function of `groupsize`\n",
    "\n",
    "We reproduce with `groupsize` the same workflow as with the variable `area` as we are also uncertain about the impact of `groupsize` on `area`.\n",
    "\n",
    "> <u>Note on `groupsize` possible distribution:</u> It seems that a Poisson distribution with parameter $\\lambda=4$ could work as a prior distribution in this case, given the shape of the distribution of the `groupsize` data.\n",
    "\n",
    "<u>Centering the data:</u>\n",
    "\n",
    "We center the `groupsize` variable to avoid scale effects."
   ]
  },
  {
   "cell_type": "code",
   "execution_count": 22,
   "metadata": {},
   "outputs": [],
   "source": [
    "# Centers the data\n",
    "mean_groupsize = data[\"groupsize\"].mean()\n",
    "centered_data[\"groupsize\"] -= mean_groupsize"
   ]
  },
  {
   "cell_type": "markdown",
   "metadata": {},
   "source": [
    "<u>Performing the Laplace regression:</u>"
   ]
  },
  {
   "cell_type": "code",
   "execution_count": 23,
   "metadata": {},
   "outputs": [
    {
     "name": "stderr",
     "output_type": "stream",
     "text": [
      "/home/quentin/anaconda3/lib/python3.8/site-packages/scipy/optimize/_numdiff.py:557: RuntimeWarning: invalid value encountered in subtract\n",
      "  df = fun(x) - f0\n"
     ]
    },
    {
     "name": "stdout",
     "output_type": "stream",
     "text": [
      "      fun: 183.13671221516162\n",
      " hess_inv: array([[ 6.21186294e-03, -1.35838995e-05, -7.74952359e-05],\n",
      "       [-1.35838995e-05,  4.92248471e-03,  3.75684121e-05],\n",
      "       [-7.74952359e-05,  3.75684121e-05,  5.81944803e-03]])\n",
      "      jac: array([-1.90734863e-06, -9.53674316e-06, -7.62939453e-06])\n",
      "  message: 'Optimization terminated successfully.'\n",
      "     nfev: 80\n",
      "      nit: 13\n",
      "     njev: 19\n",
      "   status: 0\n",
      "  success: True\n",
      "        x: array([ 4.5150938 , -0.11833607,  1.1636519 ]) \n",
      "\n"
     ]
    }
   ],
   "source": [
    "# Declares the regression expression\n",
    "expression = \"weight ~ groupsize\"\n",
    "\n",
    "priors = [prior_a, prior_b, prior_sigma]\n",
    "\n",
    "# Performs the optimization\n",
    "solution = laplace_solution_regression(\n",
    "    expression, centered_data, likelihood, priors\n",
    ")"
   ]
  },
  {
   "cell_type": "markdown",
   "metadata": {},
   "source": [
    "<u>Summarizing the computed statistics:</u>"
   ]
  },
  {
   "cell_type": "code",
   "execution_count": 24,
   "metadata": {},
   "outputs": [
    {
     "name": "stdout",
     "output_type": "stream",
     "text": [
      "           mean        SD      7.5%     92.5%\n",
      "a      4.516037  0.078024  4.401371  4.627345\n",
      "b     -0.119368  0.069341 -0.219110 -0.018644\n",
      "sigma  1.164833  0.075756  1.055684  1.269835 \n",
      "\n"
     ]
    }
   ],
   "source": [
    "# Computes posterior samples\n",
    "posterior_means, _, posterior_samples = summarize(solution, n_samples)"
   ]
  },
  {
   "cell_type": "markdown",
   "metadata": {},
   "source": [
    "<u>Plotting the results with sampling from the posterior:</u>"
   ]
  },
  {
   "cell_type": "code",
   "execution_count": 25,
   "metadata": {},
   "outputs": [
    {
     "data": {
      "image/png": "[encoded data removed]",
      "text/plain": [
       "<Figure size 432x288 with 1 Axes>"
      ]
     },
     "metadata": {
      "needs_background": "light"
     },
     "output_type": "display_data"
    }
   ],
   "source": [
    "sampling_from_posterior(\n",
    "    centered_data, mean_groupsize, \n",
    "    \"weight\", \"groupsize\", \n",
    "    posterior_samples, posterior_means,\n",
    "    \"Weight vs Groupsize\", \"Groupsize\", \"Weight\"\n",
    ")"
   ]
  },
  {
   "cell_type": "code",
   "execution_count": 26,
   "metadata": {},
   "outputs": [
    {
     "data": {
      "image/png": "[encoded data removed]",
      "text/plain": [
       "<Figure size 432x288 with 1 Axes>"
      ]
     },
     "metadata": {
      "needs_background": "light"
     },
     "output_type": "display_data"
    }
   ],
   "source": [
    "plot_variation(\n",
    "    centered_data,\n",
    "    \"weight\",\n",
    "    mean_groupsize,\n",
    "    \"groupsize\",\n",
    "    'Weight vs Group Size',\n",
    "    \"Group Size\",\n",
    "    \"Weight\",\n",
    "    posterior_samples,\n",
    "    posterior_means,\n",
    "    higher_order = True,\n",
    "    max_order = 1\n",
    ")"
   ]
  },
  {
   "cell_type": "markdown",
   "metadata": {},
   "source": [
    "<u>Observations:</u>\n",
    "\n",
    "The impact of `groupsize` on an urban fox's `weight` seems weakly negative (albeit in a lesser extent as the slope $b$ is stronger with `groupsize`).\n",
    "\n",
    "#### 5. Overall comment on the two regressions\n",
    "\n",
    "The relationship between the dependent variable `weight` and the covariates `area` and `groupsize` seems either absent (or very weakly positive) for the former and weakly negative with the latter."
   ]
  },
  {
   "cell_type": "markdown",
   "metadata": {},
   "source": [
    "#### 6. Performing a multivariate model\n",
    "\n",
    "<u>Running the model:</u>\n",
    "\n",
    "We reuse our priors used for the previous two regressions.\n",
    "\n",
    "> <u>Note on computing error:</u> Sometimes a `domain error` is caused when computing plots with the `posterior_samples_2var` argument."
   ]
  },
  {
   "cell_type": "code",
   "execution_count": 27,
   "metadata": {
    "scrolled": false
   },
   "outputs": [
    {
     "name": "stderr",
     "output_type": "stream",
     "text": [
      "/home/quentin/anaconda3/lib/python3.8/site-packages/scipy/optimize/_numdiff.py:557: RuntimeWarning: invalid value encountered in subtract\n",
      "  df = fun(x) - f0\n"
     ]
    },
    {
     "name": "stdout",
     "output_type": "stream",
     "text": [
      "      fun: 179.11521394796299\n",
      " hess_inv: array([[ 5.43944237e-03,  1.54333546e-04, -7.25251242e-05,\n",
      "        -8.59032242e-05],\n",
      "       [ 1.54333546e-04,  4.14433282e-02, -2.06734202e-02,\n",
      "        -3.85310710e-04],\n",
      "       [-7.25251242e-05, -2.06734202e-02,  1.48174021e-02,\n",
      "         2.22718993e-04],\n",
      "       [-8.59032242e-05, -3.85310710e-04,  2.22718993e-04,\n",
      "         5.38559107e-03]])\n",
      "      jac: array([-5.72204590e-06, -1.90734863e-06, -1.90734863e-06, -1.90734863e-06])\n",
      "  message: 'Optimization terminated successfully.'\n",
      "     nfev: 114\n",
      "      nit: 17\n",
      "     njev: 22\n",
      "   status: 0\n",
      "  success: True\n",
      "        x: array([ 4.51567752,  0.58635655, -0.41480652,  1.11866289]) \n",
      "\n"
     ]
    }
   ],
   "source": [
    "expr = 'weight ~ area + groupsize'\n",
    "\n",
    "# Initializing the likelihood\n",
    "likelihood = 'gaussian'\n",
    "\n",
    "# Defining the prior with hyperparameters \n",
    "prior_a_mean = 4.5\n",
    "prior_a_sigma = 0.11\n",
    "prior_a = ['gaussian', [prior_a_mean, prior_a_sigma]]\n",
    "\n",
    "prior_b_mean = 0.\n",
    "prior_b_sigma = 1.\n",
    "prior_b = ['gaussian', [prior_b_mean, prior_b_sigma]]\n",
    "\n",
    "prior_b2_mean = 0.\n",
    "prior_b2_sigma = 1.\n",
    "prior_b2 = ['gaussian', [prior_b_mean, prior_b_sigma]]\n",
    "\n",
    "sigma_inf = 0.\n",
    "sigma_sup = 2.\n",
    "prior_sigma_unif = [sigma_inf, sigma_sup]\n",
    "prior_sigma = ['uniform', prior_sigma_unif]\n",
    "\n",
    "priors = [prior_a, prior_b, prior_b2, prior_sigma]\n",
    "\n",
    "solution_regression_2var = laplace_solution_regression(\n",
    "    expr, centered_data, likelihood, priors\n",
    ")"
   ]
  },
  {
   "cell_type": "code",
   "execution_count": 28,
   "metadata": {},
   "outputs": [
    {
     "name": "stdout",
     "output_type": "stream",
     "text": [
      "           mean        SD      7.5%     92.5%\n",
      "a      4.516650  0.072954  4.412288  4.624146\n",
      "b1     0.589329  0.202500  0.302248  0.884957\n",
      "b2    -0.415475  0.121943 -0.589420 -0.243731\n",
      "sigma  1.118597  0.073236  1.012849  1.225001 \n",
      "\n"
     ]
    }
   ],
   "source": [
    "posterior_means, _, posterior_samples_2var = summarize(\n",
    "    solution_regression_2var, n_samples,\n",
    "    names={0:'a',1:'b1', 2:'b2', 3:'sigma'},\n",
    ")"
   ]
  },
  {
   "cell_type": "markdown",
   "metadata": {},
   "source": [
    "<u>Plotting counterfactual plots:</u>"
   ]
  },
  {
   "cell_type": "code",
   "execution_count": 29,
   "metadata": {},
   "outputs": [
    {
     "data": {
      "image/png": "[encoded data removed]",
      "text/plain": [
       "<Figure size 432x288 with 1 Axes>"
      ]
     },
     "metadata": {
      "needs_background": "light"
     },
     "output_type": "display_data"
    }
   ],
   "source": [
    "sampling_from_posterior(\n",
    "    centered_data, mean_groupsize, \n",
    "    \"weight\", \"groupsize\", \n",
    "    posterior_samples_2var, posterior_means,\n",
    "    \"Weight vs Groupsize\", \"Group Size\", \"Weight\"\n",
    ")"
   ]
  },
  {
   "cell_type": "code",
   "execution_count": 30,
   "metadata": {},
   "outputs": [
    {
     "data": {
      "image/png": "[encoded data removed]",
      "text/plain": [
       "<Figure size 432x288 with 1 Axes>"
      ]
     },
     "metadata": {
      "needs_background": "light"
     },
     "output_type": "display_data"
    }
   ],
   "source": [
    "# sometimes causes a domain error\n",
    "\n",
    "plot_variation(\n",
    "    centered_data,\n",
    "    \"weight\",\n",
    "    mean_area,\n",
    "    \"area\",\n",
    "    f\"Weight vs Area, as part of the multilinear reg:\\n{expr}\",\n",
    "    \"Area\",\n",
    "    \"Weight\",\n",
    "    posterior_samples_2var,\n",
    "    posterior_means,\n",
    "    higher_order = False,\n",
    "    max_order = 2\n",
    ")"
   ]
  },
  {
   "cell_type": "code",
   "execution_count": 31,
   "metadata": {
    "scrolled": false
   },
   "outputs": [
    {
     "data": {
      "image/png": "[encoded data removed]",
      "text/plain": [
       "<Figure size 432x288 with 1 Axes>"
      ]
     },
     "metadata": {
      "needs_background": "light"
     },
     "output_type": "display_data"
    }
   ],
   "source": [
    "plot_variation(\n",
    "    centered_data,\n",
    "    \"weight\",\n",
    "    mean_groupsize,\n",
    "    \"groupsize\",\n",
    "    f\"Weight vs Group Size, as part of the multilinear reg:\\n{expr}\",\n",
    "    \"Group Size\",\n",
    "    \"Weight\",\n",
    "    posterior_samples_2var,\n",
    "    posterior_means,\n",
    "    higher_order = False,\n",
    "    max_order = 2\n",
    ")"
   ]
  },
  {
   "cell_type": "markdown",
   "metadata": {},
   "source": [
    "<u>Observations:</u>\n",
    "\n",
    "the larger the `area`, and the larger the `groupsize`, the more uncertain the predictions. This seems tied to the lower number of datapoints as these values increases."
   ]
  },
  {
   "cell_type": "markdown",
   "metadata": {},
   "source": [
    "#### 6. Conclusion\n",
    "\n",
    "Via the application of the multivariate Laplace approximation method, we see that using both variables `area` and `groupsize` leads to slopes `b1` and `b2` respectively increasing and decreasing in value (i.e. their effect/impact increases on the dependent variable `weight`) compared to the models where both variables are used separately. \n",
    "\n",
    "This indicates that there is a feedback loop between the two variables, affecting the resulting `weight` of urban foxes.\n",
    "\n",
    "Beyond this, Looking at the plots, the closer to edge values for both `area` and `groupsize`, the higher the resulting uncertainty. As previously stated, it seems related to the thinning of the available datapoints at the most extreme ends of the dataset. \n",
    "\n",
    "As such, we summarize our observations:\n",
    "\n",
    "| model | Observations |\n",
    "| :--- | :---: |\n",
    "| weight ~ area (univariate) | absent or very weak positive relationship | \n",
    "| weight ~ groupsize (univariate) | weak negative relationship |\n",
    "| weight ~ area + groupsize (multivariate) | resp. much stronger positive and negative relationship |"
   ]
  },
  {
   "cell_type": "markdown",
   "metadata": {},
   "source": [
    "<hr>\n",
    "<hr>\n",
    "<hr>\n",
    "\n",
    "## Exercise 5"
   ]
  },
  {
   "cell_type": "markdown",
   "metadata": {},
   "source": [
    "Consider the diabetes dataset:"
   ]
  },
  {
   "cell_type": "code",
   "execution_count": 32,
   "metadata": {
    "scrolled": false
   },
   "outputs": [
    {
     "name": "stdout",
     "output_type": "stream",
     "text": [
      ".. _diabetes_dataset:\n",
      "\n",
      "Diabetes dataset\n",
      "----------------\n",
      "\n",
      "Ten baseline variables, age, sex, body mass index, average blood\n",
      "pressure, and six blood serum measurements were obtained for each of n =\n",
      "442 diabetes patients, as well as the response of interest, a\n",
      "quantitative measure of disease progression one year after baseline.\n",
      "\n",
      "**Data Set Characteristics:**\n",
      "\n",
      "  :Number of Instances: 442\n",
      "\n",
      "  :Number of Attributes: First 10 columns are numeric predictive values\n",
      "\n",
      "  :Target: Column 11 is a quantitative measure of disease progression one year after baseline\n",
      "\n",
      "  :Attribute Information:\n",
      "      - age     age in years\n",
      "      - sex\n",
      "      - bmi     body mass index\n",
      "      - bp      average blood pressure\n",
      "      - s1      tc, T-Cells (a type of white blood cells)\n",
      "      - s2      ldl, low-density lipoproteins\n",
      "      - s3      hdl, high-density lipoproteins\n",
      "      - s4      tch, thyroid stimulating hormone\n",
      "      - s5      ltg, lamotrigine\n",
      "      - s6      glu, blood sugar level\n",
      "\n",
      "Note: Each of these 10 feature variables have been mean centered and scaled by the standard deviation times `n_samples` (i.e. the sum of squares of each column totals 1).\n",
      "\n",
      "Source URL:\n",
      "https://www4.stat.ncsu.edu/~boos/var.select/diabetes.html\n",
      "\n",
      "For more information see:\n",
      "Bradley Efron, Trevor Hastie, Iain Johnstone and Robert Tibshirani (2004) \"Least Angle Regression,\" Annals of Statistics (with discussion), 407-499.\n",
      "(https://web.stanford.edu/~hastie/Papers/LARS/LeastAngle_2002.pdf)\n"
     ]
    }
   ],
   "source": [
    "dataset = datasets.load_diabetes(return_X_y=False)\n",
    "print(dataset.DESCR)"
   ]
  },
  {
   "cell_type": "code",
   "execution_count": 33,
   "metadata": {},
   "outputs": [],
   "source": [
    "# Define the feature matrix\n",
    "raw_data = dataset.data\n",
    "\n",
    "# Define the target\n",
    "target = dataset.target"
   ]
  },
  {
   "cell_type": "markdown",
   "metadata": {},
   "source": [
    "### Instructions\n",
    "\n",
    "Investigate the relationship between age (data[:,0]) and Average blood pressure (data[:,3]). \n",
    "By using the WAIC score seen during lesson, can you verify which hypothesis is better supported by the data?\n",
    "\n",
    "- there is no relationship (constant)\n",
    "- the relationship is linear\n",
    "- the relationship is quadratic\n",
    "- the relationship is cubic\n",
    "- the relationship is polynomial of order 4\n",
    "\n",
    "#### 1. Is there a  relationship between the `age` and `bp` variables?\n",
    "\n",
    "We want to check whether or not there is a relationship between the two variables. If there is none, we might hypothesize we can eliminate searching for the other four options."
   ]
  },
  {
   "cell_type": "code",
   "execution_count": 34,
   "metadata": {},
   "outputs": [
    {
     "data": {
      "text/html": [
       "<div>\n",
       "<style scoped>\n",
       "    .dataframe tbody tr th:only-of-type {\n",
       "        vertical-align: middle;\n",
       "    }\n",
       "\n",
       "    .dataframe tbody tr th {\n",
       "        vertical-align: top;\n",
       "    }\n",
       "\n",
       "    .dataframe thead th {\n",
       "        text-align: right;\n",
       "    }\n",
       "</style>\n",
       "<table border=\"1\" class=\"dataframe\">\n",
       "  <thead>\n",
       "    <tr style=\"text-align: right;\">\n",
       "      <th></th>\n",
       "      <th>age</th>\n",
       "      <th>bp</th>\n",
       "    </tr>\n",
       "  </thead>\n",
       "  <tbody>\n",
       "    <tr>\n",
       "      <th>count</th>\n",
       "      <td>4.420000e+02</td>\n",
       "      <td>4.420000e+02</td>\n",
       "    </tr>\n",
       "    <tr>\n",
       "      <th>mean</th>\n",
       "      <td>-3.634285e-16</td>\n",
       "      <td>1.281655e-16</td>\n",
       "    </tr>\n",
       "    <tr>\n",
       "      <th>std</th>\n",
       "      <td>4.761905e-02</td>\n",
       "      <td>4.761905e-02</td>\n",
       "    </tr>\n",
       "    <tr>\n",
       "      <th>min</th>\n",
       "      <td>-1.072256e-01</td>\n",
       "      <td>-1.123996e-01</td>\n",
       "    </tr>\n",
       "    <tr>\n",
       "      <th>25%</th>\n",
       "      <td>-3.729927e-02</td>\n",
       "      <td>-3.665645e-02</td>\n",
       "    </tr>\n",
       "    <tr>\n",
       "      <th>50%</th>\n",
       "      <td>5.383060e-03</td>\n",
       "      <td>-5.670611e-03</td>\n",
       "    </tr>\n",
       "    <tr>\n",
       "      <th>75%</th>\n",
       "      <td>3.807591e-02</td>\n",
       "      <td>3.564384e-02</td>\n",
       "    </tr>\n",
       "    <tr>\n",
       "      <th>max</th>\n",
       "      <td>1.107267e-01</td>\n",
       "      <td>1.320442e-01</td>\n",
       "    </tr>\n",
       "  </tbody>\n",
       "</table>\n",
       "</div>"
      ],
      "text/plain": [
       "                age            bp\n",
       "count  4.420000e+02  4.420000e+02\n",
       "mean  -3.634285e-16  1.281655e-16\n",
       "std    4.761905e-02  4.761905e-02\n",
       "min   -1.072256e-01 -1.123996e-01\n",
       "25%   -3.729927e-02 -3.665645e-02\n",
       "50%    5.383060e-03 -5.670611e-03\n",
       "75%    3.807591e-02  3.564384e-02\n",
       "max    1.107267e-01  1.320442e-01"
      ]
     },
     "execution_count": 34,
     "metadata": {},
     "output_type": "execute_result"
    }
   ],
   "source": [
    "# Retrieves the age and bp variables as a Pandas DataFrame\n",
    "\n",
    "data = pd.DataFrame(data = raw_data, columns = dataset.feature_names)\n",
    "data = data[[\"age\", \"bp\"]]\n",
    "data.describe()"
   ]
  },
  {
   "cell_type": "code",
   "execution_count": 35,
   "metadata": {},
   "outputs": [
    {
     "data": {
      "text/plain": [
       "[Text(0.5, 1.0, 'Distribution of Ages (Diabetes dataset)')]"
      ]
     },
     "execution_count": 35,
     "metadata": {},
     "output_type": "execute_result"
    },
    {
     "data": {
      "image/png": "[encoded data removed]",
      "text/plain": [
       "<Figure size 432x288 with 1 Axes>"
      ]
     },
     "metadata": {
      "needs_background": "light"
     },
     "output_type": "display_data"
    }
   ],
   "source": [
    "sns.kdeplot(data[\"age\"]).set(\n",
    "    title=\"Distribution of Ages (Diabetes dataset)\"\n",
    ")"
   ]
  },
  {
   "cell_type": "code",
   "execution_count": 36,
   "metadata": {},
   "outputs": [
    {
     "data": {
      "text/plain": [
       "[Text(0.5, 1.0, 'Distribution of Avg. Blood Pressures (Diabetes dataset)')]"
      ]
     },
     "execution_count": 36,
     "metadata": {},
     "output_type": "execute_result"
    },
    {
     "data": {
      "image/png": "[encoded data removed]",
      "text/plain": [
       "<Figure size 432x288 with 1 Axes>"
      ]
     },
     "metadata": {
      "needs_background": "light"
     },
     "output_type": "display_data"
    }
   ],
   "source": [
    "sns.kdeplot(data[\"bp\"]).set(\n",
    "    title=\"Distribution of Avg. Blood Pressures (Diabetes dataset)\"\n",
    ")"
   ]
  },
  {
   "cell_type": "code",
   "execution_count": 37,
   "metadata": {},
   "outputs": [
    {
     "data": {
      "image/png": "[encoded data removed]",
      "text/plain": [
       "<Figure size 432x288 with 1 Axes>"
      ]
     },
     "metadata": {
      "needs_background": "light"
     },
     "output_type": "display_data"
    }
   ],
   "source": [
    "# Plots the relationship between the two variables\n",
    "\n",
    "plot_relationship(\n",
    "    data[\"bp\"], data[\"age\"], \n",
    "    xlabel=\"Avg. Blood Pressure\", ylabel=\"Age (year)\", \n",
    "    title=\"Average Blood Pressure vs. Age\")"
   ]
  },
  {
   "cell_type": "markdown",
   "metadata": {},
   "source": [
    "<u>Observations:</u>\n",
    "\n",
    "- We can visually verify the note statement included in the dataset's description:\n",
    "\n",
    "> Note: Each of these 10 feature variables have been mean centered and scaled by the standard deviation times `n_samples` (i.e. the sum of squares of each column totals 1).\n",
    "\n",
    "- At first glance, there seems to be a somewhat positive relationship between the variables `bp` (average blood pressure) and `age`. This is also informed by general knowledge that blood pressure is usually correlated to age, but this phenomenon will have to be assessed statistically.\n",
    "\n",
    "<u>Studying the simple linear relationship of `age` with `bp`:</u>\n",
    "\n",
    "Now done with a preliminary exploration of the variables `bp` and `age`, we can further study the relationship between the two variables with statistical methods. As such, we are interested in the relationship: \n",
    "\n",
    "\\begin{align}\n",
    "\\text{age} &= a + b * \\text{bp}\\\\\n",
    "age &\\sim \\mathcal{N}(a+c*\\text{bp}, \\sigma)\n",
    "\\end{align}\n",
    "\n",
    "The intercept $a$ expresses the `age` of a patient within the Diabetes dataset when the average blood pressure `bp` is null (here in relative terms as the dataset is centered) while the slope $b$ indicates how much the age of a patient changes with their average blood pressure.\n",
    "\n",
    "To define our Bayesian model, we specify priors for all the parameters we want to analyze. We resort to a standard normal prior for $a$ and $b$ given the centered-ness of the dataset, the support of each variable and our lack of prior belief. \n",
    "\n",
    "Our lack of prior belief also informs setting the prior distribution of the parameter $\\sigma$ as a uniform distribution:\n",
    "\n",
    "\\begin{align}\n",
    "p(a) &= \\mathcal{N}(0, 1)\\\\\n",
    "p(b) &= \\mathcal{N}(0, 1)\\\\\n",
    "p(\\sigma) &= \\mathcal{U}(0, 2)\n",
    "\\end{align}"
   ]
  },
  {
   "cell_type": "code",
   "execution_count": 38,
   "metadata": {},
   "outputs": [
    {
     "name": "stderr",
     "output_type": "stream",
     "text": [
      "/home/quentin/anaconda3/lib/python3.8/site-packages/scipy/optimize/_numdiff.py:557: RuntimeWarning: invalid value encountered in subtract\n",
      "  df = fun(x) - f0\n",
      "/home/quentin/anaconda3/lib/python3.8/site-packages/scipy/optimize/_numdiff.py:557: RuntimeWarning: invalid value encountered in subtract\n",
      "  df = fun(x) - f0\n",
      "/home/quentin/anaconda3/lib/python3.8/site-packages/scipy/optimize/_numdiff.py:557: RuntimeWarning: invalid value encountered in subtract\n",
      "  df = fun(x) - f0\n",
      "/home/quentin/anaconda3/lib/python3.8/site-packages/scipy/optimize/_numdiff.py:557: RuntimeWarning: invalid value encountered in subtract\n",
      "  df = fun(x) - f0\n"
     ]
    },
    {
     "name": "stdout",
     "output_type": "stream",
     "text": [
      "      fun: -742.7998772739712\n",
      " hess_inv: array([[4.48580092e-06, 3.91425988e-06, 1.02126226e-08],\n",
      "       [3.91425988e-06, 2.04082212e-03, 6.48909035e-06],\n",
      "       [1.02126226e-08, 6.48909035e-06, 2.23860109e-06]])\n",
      "      jac: array([ 7.62939453e-06,  0.00000000e+00, -7.62939453e-06])\n",
      "  message: 'Optimization terminated successfully.'\n",
      "     nfev: 203\n",
      "      nit: 20\n",
      "     njev: 47\n",
      "   status: 0\n",
      "  success: True\n",
      "        x: array([-7.42118145e-09,  3.34754547e-01,  4.48095285e-02]) \n",
      "\n"
     ]
    }
   ],
   "source": [
    "# Declares the regression expression\n",
    "expression = \"age ~ bp\"\n",
    "\n",
    "# Declares the likelihood\n",
    "likelihood = \"gaussian\"\n",
    "\n",
    "# Defines the prior with hyperparameters \n",
    "prior_a_mean = 0.; prior_a_sigma = 1.\n",
    "prior_a = [\"gaussian\", [prior_a_mean, prior_a_sigma]]\n",
    "\n",
    "prior_b_mean = 0.; prior_b_sigma = 1.\n",
    "prior_b = [\"gaussian\", [prior_b_mean, prior_b_sigma]]\n",
    "\n",
    "sigma_inf = 0.; sigma_sup = 2.\n",
    "prior_sigma_unif = [sigma_inf, sigma_sup]\n",
    "prior_sigma = [\"uniform\", prior_sigma_unif]\n",
    "\n",
    "priors = [prior_a, prior_b, prior_sigma]\n",
    "\n",
    "# Performs the optimization\n",
    "solution = laplace_solution_regression(\n",
    "    expression, data, likelihood, priors\n",
    ")"
   ]
  },
  {
   "cell_type": "markdown",
   "metadata": {},
   "source": [
    "<u>Note on optimization success:</u> It is hardly possible to obtain a successful optimization using the Scipy blackbox function `minimize` in this case, even by varying our priors."
   ]
  },
  {
   "cell_type": "code",
   "execution_count": 39,
   "metadata": {},
   "outputs": [
    {
     "name": "stdout",
     "output_type": "stream",
     "text": [
      "           mean        SD      7.5%     92.5%\n",
      "a      0.000064  0.002109 -0.002928  0.003078\n",
      "b      0.335487  0.044553  0.272101  0.399458\n",
      "sigma  0.044796  0.001491  0.042668  0.046930 \n",
      "\n"
     ]
    }
   ],
   "source": [
    "# Computes posterior samples\n",
    "posterior_means, _, posterior_samples = summarize(solution, n_samples)"
   ]
  },
  {
   "cell_type": "code",
   "execution_count": 40,
   "metadata": {},
   "outputs": [
    {
     "data": {
      "image/png": "[encoded data removed]",
      "text/plain": [
       "<Figure size 432x288 with 1 Axes>"
      ]
     },
     "metadata": {
      "needs_background": "light"
     },
     "output_type": "display_data"
    }
   ],
   "source": [
    "sampling_from_posterior(\n",
    "    data, 0, \n",
    "    \"age\", \"bp\", \n",
    "    posterior_samples, posterior_means,\n",
    "    \"Age vs Average Blood Pressure\", \"Avg. Blood Pressure\", \"Age\"\n",
    ")"
   ]
  },
  {
   "cell_type": "code",
   "execution_count": 41,
   "metadata": {},
   "outputs": [
    {
     "data": {
      "image/png": "[encoded data removed]",
      "text/plain": [
       "<Figure size 432x288 with 1 Axes>"
      ]
     },
     "metadata": {
      "needs_background": "light"
     },
     "output_type": "display_data"
    }
   ],
   "source": [
    "plot_posterior_univariate_regression(\n",
    "    solution, \n",
    "    np.arange(-0.15,0.15,0.005), \n",
    "    data, \n",
    "    names = ['bp','age']\n",
    ")"
   ]
  },
  {
   "cell_type": "code",
   "execution_count": 42,
   "metadata": {},
   "outputs": [
    {
     "data": {
      "image/png": "[encoded data removed]",
      "text/plain": [
       "<Figure size 432x288 with 1 Axes>"
      ]
     },
     "metadata": {
      "needs_background": "light"
     },
     "output_type": "display_data"
    }
   ],
   "source": [
    "plot_boxplot_regression(\n",
    "    solution, \n",
    "    \"age\", \n",
    "    \"Relationship between age and avg. blood pressure\"\n",
    ")"
   ]
  },
  {
   "cell_type": "markdown",
   "metadata": {},
   "source": [
    "<u>Observations:</u>\n",
    "    \n",
    "The posterior mean of the slope $b$ for `bp` is in general falling c. 0.33. Moreover the 85% posterior interval for $b$ is [0.32, 0.34], which lies well away from zero. \n",
    "\n",
    "As such, there is a relatively strong relationship between `age` and its covariate `bp`. We might conclude that `bp` is a reliable predictor of `age` among the patient listed in the Diabetes dataset. \n",
    "\n",
    "Now that we have confirmed that there is a relationship, we are interested whether or not it is linear, quadratic, cubic, or quartic."
   ]
  },
  {
   "cell_type": "markdown",
   "metadata": {},
   "source": [
    "#### 2. Application of the WAIC for hypothesis verification\n",
    "\n",
    "Now that we have settled the observation that there is a positive relationship between the variables `age` and `bp`, we are questioning the kind of relationship it is. \n",
    "\n",
    "We want to test whether the relationship is:\n",
    "\n",
    "- linear (we already did check above but we will reproduce the process below in order to compute the WAIC)\n",
    "- quadratic\n",
    "- cubic\n",
    "- quartic\n",
    "\n",
    "<u>Creating the dataset<u>"
   ]
  },
  {
   "cell_type": "code",
   "execution_count": 43,
   "metadata": {
    "scrolled": true
   },
   "outputs": [
    {
     "data": {
      "text/html": [
       "<div>\n",
       "<style scoped>\n",
       "    .dataframe tbody tr th:only-of-type {\n",
       "        vertical-align: middle;\n",
       "    }\n",
       "\n",
       "    .dataframe tbody tr th {\n",
       "        vertical-align: top;\n",
       "    }\n",
       "\n",
       "    .dataframe thead th {\n",
       "        text-align: right;\n",
       "    }\n",
       "</style>\n",
       "<table border=\"1\" class=\"dataframe\">\n",
       "  <thead>\n",
       "    <tr style=\"text-align: right;\">\n",
       "      <th></th>\n",
       "      <th>age</th>\n",
       "      <th>bp1</th>\n",
       "      <th>bp2</th>\n",
       "      <th>bp3</th>\n",
       "      <th>bp4</th>\n",
       "    </tr>\n",
       "  </thead>\n",
       "  <tbody>\n",
       "    <tr>\n",
       "      <th>count</th>\n",
       "      <td>4.420000e+02</td>\n",
       "      <td>4.420000e+02</td>\n",
       "      <td>4.420000e+02</td>\n",
       "      <td>4.420000e+02</td>\n",
       "      <td>4.420000e+02</td>\n",
       "    </tr>\n",
       "    <tr>\n",
       "      <th>mean</th>\n",
       "      <td>-3.634285e-16</td>\n",
       "      <td>1.281655e-16</td>\n",
       "      <td>2.262443e-03</td>\n",
       "      <td>3.117309e-05</td>\n",
       "      <td>1.259026e-05</td>\n",
       "    </tr>\n",
       "    <tr>\n",
       "      <th>std</th>\n",
       "      <td>4.761905e-02</td>\n",
       "      <td>4.761905e-02</td>\n",
       "      <td>2.736522e-03</td>\n",
       "      <td>3.198483e-04</td>\n",
       "      <td>3.004499e-05</td>\n",
       "    </tr>\n",
       "    <tr>\n",
       "      <th>min</th>\n",
       "      <td>-1.072256e-01</td>\n",
       "      <td>-1.123996e-01</td>\n",
       "      <td>4.557233e-09</td>\n",
       "      <td>-1.420020e-03</td>\n",
       "      <td>2.076837e-17</td>\n",
       "    </tr>\n",
       "    <tr>\n",
       "      <th>25%</th>\n",
       "      <td>-3.729927e-02</td>\n",
       "      <td>-3.665645e-02</td>\n",
       "      <td>3.076689e-04</td>\n",
       "      <td>-4.925509e-05</td>\n",
       "      <td>9.490351e-08</td>\n",
       "    </tr>\n",
       "    <tr>\n",
       "      <th>50%</th>\n",
       "      <td>5.383060e-03</td>\n",
       "      <td>-5.670611e-03</td>\n",
       "      <td>1.270483e-03</td>\n",
       "      <td>-1.823432e-07</td>\n",
       "      <td>1.614127e-06</td>\n",
       "    </tr>\n",
       "    <tr>\n",
       "      <th>75%</th>\n",
       "      <td>3.807591e-02</td>\n",
       "      <td>3.564384e-02</td>\n",
       "      <td>3.284857e-03</td>\n",
       "      <td>4.528490e-05</td>\n",
       "      <td>1.079028e-05</td>\n",
       "    </tr>\n",
       "    <tr>\n",
       "      <th>max</th>\n",
       "      <td>1.107267e-01</td>\n",
       "      <td>1.320442e-01</td>\n",
       "      <td>1.743568e-02</td>\n",
       "      <td>2.302280e-03</td>\n",
       "      <td>3.040028e-04</td>\n",
       "    </tr>\n",
       "  </tbody>\n",
       "</table>\n",
       "</div>"
      ],
      "text/plain": [
       "                age           bp1           bp2           bp3           bp4\n",
       "count  4.420000e+02  4.420000e+02  4.420000e+02  4.420000e+02  4.420000e+02\n",
       "mean  -3.634285e-16  1.281655e-16  2.262443e-03  3.117309e-05  1.259026e-05\n",
       "std    4.761905e-02  4.761905e-02  2.736522e-03  3.198483e-04  3.004499e-05\n",
       "min   -1.072256e-01 -1.123996e-01  4.557233e-09 -1.420020e-03  2.076837e-17\n",
       "25%   -3.729927e-02 -3.665645e-02  3.076689e-04 -4.925509e-05  9.490351e-08\n",
       "50%    5.383060e-03 -5.670611e-03  1.270483e-03 -1.823432e-07  1.614127e-06\n",
       "75%    3.807591e-02  3.564384e-02  3.284857e-03  4.528490e-05  1.079028e-05\n",
       "max    1.107267e-01  1.320442e-01  1.743568e-02  2.302280e-03  3.040028e-04"
      ]
     },
     "execution_count": 43,
     "metadata": {},
     "output_type": "execute_result"
    }
   ],
   "source": [
    "data_copy = data.copy()\n",
    "data_copy['bp2'] = data_copy[\"bp\"] ** 2\n",
    "data_copy['bp3'] = data_copy[\"bp\"] ** 3\n",
    "data_copy['bp4'] = data_copy[\"bp\"] ** 4\n",
    "data_copy.rename(columns={\"bp\": \"bp1\"}, inplace=True)\n",
    "\n",
    "data_copy.describe()"
   ]
  },
  {
   "cell_type": "markdown",
   "metadata": {},
   "source": [
    "<u>Creating the different regression expressions:</u>"
   ]
  },
  {
   "cell_type": "code",
   "execution_count": 44,
   "metadata": {},
   "outputs": [],
   "source": [
    "linear = \"age ~ bp1\"\n",
    "quadratic = \"age ~ bp1 + bp2\"\n",
    "cubic = \"age ~ bp1 + bp2 + bp3\"\n",
    "quartic = \"age ~ bp1 + bp2 + bp3 + bp4\"\n",
    "\n",
    "expressions = [linear, quadratic, cubic, quartic]"
   ]
  },
  {
   "cell_type": "markdown",
   "metadata": {},
   "source": [
    "<u>Running the regression processes:</u>\n",
    "\n",
    "W e are interested in the relationship:\n",
    "\n",
    "\\begin{align}\n",
    "age &= a + b*bp &\\text{linear}\\\\\n",
    "&= a + b*bp + c*bp^2 &\\text{quadratic}\\\\\n",
    "&= a + b*bp + c*bp^2 + d*bp^3 &\\text{cubic}\\\\\n",
    "&= a + b*bp + c*bp^2 + d*bp^3 + e*bp^4 &\\text{quartic}\\\\\n",
    "\\end{align}\n",
    "\n",
    "To define our Bayesian model, we specify priors for all the parameters $a$, $b$, $c$, $d$, and $e$ that we want to analyze. We resort to a standard normal prior for all of them given the centered-ness of the dataset, the support of each variable and our lack of prior belief. Our lack of prior belief also inform setting the prior distribution of the parameter $\\sigma$ as a unfirm distribution.\n",
    "\n",
    "\\begin{align}\n",
    "p(a) &= \\mathcal{N}(0, 1)\\\\\n",
    "p(b) &= \\mathcal{N}(0, 1)\\\\\n",
    "p(c) &= \\mathcal{N}(0, 1)\\\\\n",
    "p(d) &= \\mathcal{N}(0, 1)\\\\\n",
    "p(e) &= \\mathcal{N}(0, 1)\\\\\n",
    "p(\\sigma) &= \\mathcal{U}(0, 2)\n",
    "\\end{align}"
   ]
  },
  {
   "cell_type": "code",
   "execution_count": 45,
   "metadata": {
    "scrolled": false
   },
   "outputs": [
    {
     "name": "stderr",
     "output_type": "stream",
     "text": [
      "/home/quentin/anaconda3/lib/python3.8/site-packages/scipy/optimize/_numdiff.py:557: RuntimeWarning: invalid value encountered in subtract\n",
      "  df = fun(x) - f0\n",
      "/home/quentin/anaconda3/lib/python3.8/site-packages/scipy/optimize/_numdiff.py:557: RuntimeWarning: invalid value encountered in subtract\n",
      "  df = fun(x) - f0\n"
     ]
    },
    {
     "name": "stdout",
     "output_type": "stream",
     "text": [
      "      fun: -742.7998772739738\n",
      " hess_inv: array([[ 6.42218759e-06,  8.63243552e-07,  3.23240175e-07],\n",
      "       [ 8.63243552e-07,  2.58152349e-04, -2.92749795e-06],\n",
      "       [ 3.23240175e-07, -2.92749795e-06,  2.35632891e-06]])\n",
      "      jac: array([ 2.97546387e-04, -7.62939453e-06,  1.06811523e-04])\n",
      "  message: 'Desired error not necessarily achieved due to precision loss.'\n",
      "     nfev: 400\n",
      "      nit: 24\n",
      "     njev: 96\n",
      "   status: 2\n",
      "  success: False\n",
      "        x: array([-6.10722960e-09,  3.34754520e-01,  4.48095287e-02]) \n",
      "\n"
     ]
    },
    {
     "name": "stderr",
     "output_type": "stream",
     "text": [
      "/home/quentin/anaconda3/lib/python3.8/site-packages/scipy/optimize/_numdiff.py:557: RuntimeWarning: invalid value encountered in subtract\n",
      "  df = fun(x) - f0\n",
      "/home/quentin/anaconda3/lib/python3.8/site-packages/scipy/optimize/_numdiff.py:557: RuntimeWarning: invalid value encountered in subtract\n",
      "  df = fun(x) - f0\n",
      "/home/quentin/anaconda3/lib/python3.8/site-packages/scipy/optimize/_numdiff.py:557: RuntimeWarning: invalid value encountered in subtract\n",
      "  df = fun(x) - f0\n"
     ]
    },
    {
     "name": "stdout",
     "output_type": "stream",
     "text": [
      "      fun: -742.6203179456512\n",
      " hess_inv: array([[ 4.58914590e-06, -3.43327558e-07, -4.48726501e-06,\n",
      "         5.10034147e-08],\n",
      "       [-3.43327558e-07,  1.96103166e-03,  3.33932938e-07,\n",
      "        -4.38808138e-09],\n",
      "       [-4.48726501e-06,  3.33932938e-07,  1.39941967e-05,\n",
      "         4.72132792e-06],\n",
      "       [ 5.10034147e-08, -4.38808138e-09,  4.72132792e-06,\n",
      "         2.38614657e-06]])\n",
      "      jac: array([1.44958496e-04, 7.62939453e-06, 0.00000000e+00, 5.56945801e-04])\n",
      "  message: 'Desired error not necessarily achieved due to precision loss.'\n",
      "     nfev: 233\n",
      "      nit: 21\n",
      "     njev: 44\n",
      "   status: 2\n",
      "  success: False\n",
      "        x: array([ 0.0017231 ,  0.3452307 , -0.76161811,  0.04470493]) \n",
      "\n"
     ]
    },
    {
     "name": "stderr",
     "output_type": "stream",
     "text": [
      "/home/quentin/anaconda3/lib/python3.8/site-packages/scipy/optimize/_numdiff.py:557: RuntimeWarning: invalid value encountered in subtract\n",
      "  df = fun(x) - f0\n",
      "/home/quentin/anaconda3/lib/python3.8/site-packages/scipy/optimize/_numdiff.py:557: RuntimeWarning: invalid value encountered in subtract\n",
      "  df = fun(x) - f0\n",
      "/home/quentin/anaconda3/lib/python3.8/site-packages/scipy/optimize/_numdiff.py:557: RuntimeWarning: invalid value encountered in subtract\n",
      "  df = fun(x) - f0\n",
      "/home/quentin/anaconda3/lib/python3.8/site-packages/scipy/optimize/_numdiff.py:557: RuntimeWarning: invalid value encountered in subtract\n",
      "  df = fun(x) - f0\n",
      "/home/quentin/anaconda3/lib/python3.8/site-packages/scipy/optimize/_numdiff.py:557: RuntimeWarning: invalid value encountered in subtract\n",
      "  df = fun(x) - f0\n",
      "/home/quentin/anaconda3/lib/python3.8/site-packages/scipy/optimize/_numdiff.py:557: RuntimeWarning: invalid value encountered in subtract\n",
      "  df = fun(x) - f0\n"
     ]
    },
    {
     "name": "stdout",
     "output_type": "stream",
     "text": [
      "      fun: -741.7374939720047\n",
      " hess_inv: array([[ 4.05964005e-05,  5.86094986e-04, -1.87912982e-03,\n",
      "        -4.92265553e-05,  1.37641846e-06],\n",
      "       [ 5.86094986e-04,  1.17607007e-02, -3.06869350e-02,\n",
      "        -7.25714434e-04,  2.18969139e-05],\n",
      "       [-1.87912982e-03, -3.06869350e-02,  1.53856839e-01,\n",
      "         2.51494127e-03, -7.01133137e-05],\n",
      "       [-4.92265553e-05, -7.25714434e-04,  2.51494127e-03,\n",
      "         3.45386451e-04, -6.31287954e-06],\n",
      "       [ 1.37641846e-06,  2.18969139e-05, -7.01133137e-05,\n",
      "        -6.31287954e-06,  2.38366027e-06]])\n",
      "      jac: array([1.98364258e-04, 7.62939453e-06, 0.00000000e+00, 7.62939453e-06,\n",
      "       3.05175781e-05])\n",
      "  message: 'Desired error not necessarily achieved due to precision loss.'\n",
      "     nfev: 356\n",
      "      nit: 26\n",
      "     njev: 57\n",
      "   status: 2\n",
      "  success: False\n",
      "        x: array([ 0.00172459,  0.34667707, -0.75858591, -0.26789276,  0.04469783]) \n",
      "\n"
     ]
    },
    {
     "name": "stderr",
     "output_type": "stream",
     "text": [
      "/home/quentin/anaconda3/lib/python3.8/site-packages/scipy/optimize/_numdiff.py:557: RuntimeWarning: invalid value encountered in subtract\n",
      "  df = fun(x) - f0\n",
      "/home/quentin/anaconda3/lib/python3.8/site-packages/scipy/optimize/_numdiff.py:557: RuntimeWarning: invalid value encountered in subtract\n",
      "  df = fun(x) - f0\n",
      "/home/quentin/anaconda3/lib/python3.8/site-packages/scipy/optimize/_numdiff.py:557: RuntimeWarning: invalid value encountered in subtract\n",
      "  df = fun(x) - f0\n"
     ]
    },
    {
     "name": "stdout",
     "output_type": "stream",
     "text": [
      "      fun: -740.8187496220346\n",
      " hess_inv: array([[ 7.59750906e-06,  2.29803936e-05, -8.53692459e-04,\n",
      "        -4.71558255e-05,  9.06082551e-04, -3.70117628e-07],\n",
      "       [ 2.29803936e-05,  2.07511742e-03, -5.96104976e-03,\n",
      "        -2.26387162e-03,  8.38839615e-03, -1.43882299e-06],\n",
      "       [-8.53692459e-04, -5.96104976e-03,  2.47761274e-01,\n",
      "         1.03514739e-02, -2.59883933e-01,  7.61584858e-05],\n",
      "       [-4.71558255e-05, -2.26387162e-03,  1.03514739e-02,\n",
      "         1.25148880e-02, -3.30017252e-02,  3.65391819e-06],\n",
      "       [ 9.06082551e-04,  8.38839615e-03, -2.59883933e-01,\n",
      "        -3.30017252e-02,  3.25878501e-01, -8.23674115e-05],\n",
      "       [-3.70117628e-07, -1.43882299e-06,  7.61584858e-05,\n",
      "         3.65391819e-06, -8.23674115e-05,  2.12838533e-06]])\n",
      "      jac: array([-1.29699707e-04,  0.00000000e+00, -7.62939453e-06, -7.62939453e-06,\n",
      "        0.00000000e+00,  5.34057617e-05])\n",
      "  message: 'Desired error not necessarily achieved due to precision loss.'\n",
      "     nfev: 371\n",
      "      nit: 31\n",
      "     njev: 52\n",
      "   status: 2\n",
      "  success: False\n",
      "        x: array([ 0.00172458,  0.34667872, -0.75846886, -0.26788934, -0.01970358,\n",
      "        0.0446978 ]) \n",
      "\n"
     ]
    }
   ],
   "source": [
    "sampling_size = 5000 # sampling size to compute PDF\n",
    "\n",
    "lppd = []\n",
    "p_waic = []\n",
    "\n",
    "# Initializing the likelihood\n",
    "likelihood = 'gaussian'\n",
    "\n",
    "# Defining the prior with hyperparameters \n",
    "prior_a_mean = 0\n",
    "prior_a_sigma = 1\n",
    "prior_a = ['gaussian', [prior_a_mean, prior_a_sigma]]\n",
    "\n",
    "# To avoid memory copies and overwrite, better declare\n",
    "# separate object\n",
    "prior_b1_mean = 0; prior_b2_mean = 0\n",
    "prior_b3_mean = 0; prior_b4_mean = 0\n",
    "prior_b1_sigma = 1; prior_b2_sigma = 1\n",
    "prior_b3_sigma = 1; prior_b4_sigma = 1\n",
    "prior_b1 = ['gaussian', [prior_b1_mean, prior_b1_sigma]]\n",
    "prior_b2 = ['gaussian', [prior_b2_mean, prior_b2_sigma]]\n",
    "prior_b3 = ['gaussian', [prior_b3_mean, prior_b3_sigma]]\n",
    "prior_b4 = ['gaussian', [prior_b4_mean, prior_b4_sigma]]\n",
    "\n",
    "sigma_inf = 0\n",
    "sigma_sup = 2\n",
    "prior_sigma_unif = [sigma_inf, sigma_sup]\n",
    "prior_sigma = ['uniform', prior_sigma_unif]\n",
    "\n",
    "priors = [prior_a, prior_b1, prior_b2, prior_b3, prior_b4]\n",
    "\n",
    "solutions = [laplace_solution_regression(\n",
    "                expressions[i], data_copy, likelihood, \n",
    "                priors[:i+2] + [prior_sigma]) \n",
    "             for i in range(len(expressions))]\n",
    "\n",
    "posterior_samples = [posterior_sampling_laplace(solutions[i], \n",
    "                                                sampling_size)\n",
    "                     for i in range(len(expressions))]"
   ]
  },
  {
   "cell_type": "markdown",
   "metadata": {},
   "source": [
    "<u>Note on optimization success:</u> It is hardly possible to obtain a successful optimization using the Scipy blackbox function `minimize` in this case, even by varying our priors."
   ]
  },
  {
   "cell_type": "code",
   "execution_count": 46,
   "metadata": {},
   "outputs": [
    {
     "name": "stdout",
     "output_type": "stream",
     "text": [
      "Regression results for a linear model:\n",
      "           mean        SD      7.5%     92.5%\n",
      "a      0.000035  0.002533 -0.003560  0.003714\n",
      "b1     0.335007  0.015960  0.312091  0.357861\n",
      "sigma  0.044825  0.001534  0.042616  0.047030 \n",
      "\n",
      "\n",
      "\n",
      "Regression results for a quadratic model:\n",
      "           mean        SD      7.5%     92.5%\n",
      "a      0.001757  0.002150 -0.001359  0.004837\n",
      "b1     0.344356  0.043788  0.282142  0.407601\n",
      "b2    -0.761611  0.003772 -0.766996 -0.756120\n",
      "sigma  0.044726  0.001553  0.042456  0.046926 \n",
      "\n",
      "\n",
      "\n",
      "Regression results for a cubic model:\n",
      "           mean        SD      7.5%     92.5%\n",
      "a      0.001852  0.006368 -0.007368  0.011223\n",
      "b1     0.348241  0.107836  0.193301  0.506053\n",
      "b2    -0.768881  0.391558 -1.344016 -0.206353\n",
      "b3    -0.268355  0.018857 -0.295880 -0.241790\n",
      "sigma  0.044709  0.001536  0.042505  0.046904 \n",
      "\n",
      "\n",
      "\n",
      "Regression results for a quartic model:\n",
      "           mean        SD      7.5%     92.5%\n",
      "a      0.001713  0.002745 -0.002184  0.005668\n",
      "b1     0.345790  0.045462  0.281722  0.411876\n",
      "b2    -0.755957  0.501308 -1.487737 -0.048663\n",
      "b3    -0.268583  0.111758 -0.426881 -0.108984\n",
      "b4    -0.022186  0.569880 -0.831868  0.811428\n",
      "sigma  0.044713  0.001420  0.042719  0.046772 \n",
      "\n",
      "\n",
      "\n"
     ]
    }
   ],
   "source": [
    "models = [\"linear\", \"quadratic\", \"cubic\", \"quartic\"]\n",
    "col_names = [\"a\", \"b1\", \"b2\", \"b3\", \"b4\", \"sigma\"]\n",
    "\n",
    "for i, solution in enumerate(solutions):\n",
    "    print(f\"Regression results for a {models[i]} model:\")\n",
    "    names = dict(zip(range(i + 3), col_names[:i+2]+col_names[-1:]))\n",
    "    _, _, _ = summarize(solution, n_samples, names=names); print(\"\\n\")"
   ]
  },
  {
   "cell_type": "markdown",
   "metadata": {},
   "source": [
    "<u>Observations:</u>\n",
    "\n",
    "By looking at the 85% confidence intervals of the covariates `b1` to `b4` resulting from the linear, quadratic, cubic and quartic regressions, we find that all confidence intervals fall away from 0 except for the variable `b4` in the case of the quartic model. \n",
    "\n",
    "This seems to imply that the quartic model would offer only a weak, if not null, improvement on the other models.\n",
    "\n",
    "As such, we would tend to hypothesize that either the linear, quadratic, or cubic models would end up being the best. The question is which one. \n",
    "\n",
    "To find the proper model, we use the WAIC measure.\n",
    "\n",
    "<u>Applying the WAIC:</u>"
   ]
  },
  {
   "cell_type": "code",
   "execution_count": 47,
   "metadata": {},
   "outputs": [
    {
     "name": "stdout",
     "output_type": "stream",
     "text": [
      "               WAIC      pWAIC      dWAIC    weight         SE      d_SE\n",
      "model1 -1485.834458   2.320994   1.207736  0.240433  25.535688  1.932895\n",
      "model2 -1487.042194   2.748106   0.000000  0.439795  25.756030       NaN\n",
      "model3 -1466.793099  11.971212  20.249095  0.000018  26.175268  1.220380\n",
      "model4 -1486.404691   3.148074   0.637503  0.319755  25.755086  0.098591\n"
     ]
    }
   ],
   "source": [
    "# with n_sampling >> 100, this takes a while\n",
    "\n",
    "summarize_WAIC_statistics(    \n",
    "    depvar_name = \"age\",\n",
    "    covar_name = \"bp\",\n",
    "    max_order = 4, \n",
    "    n_sampling = sampling_size,\n",
    "    posterior_samples = posterior_samples, \n",
    "    data = data_copy\n",
    ")"
   ]
  },
  {
   "cell_type": "markdown",
   "metadata": {},
   "source": [
    "> The WAIC should be interpreted as measure of performance when the model is applied on unseen data. And the standard error will help evaluating the uncertainty associated with the WAIC. [...] The Akaike weight helps also to intepret how these different models perform with respect to each other by giving a relative measure of reliability. The weight should be interpreted as *the probability that the model will make the best predictions on new data, conditional on the set of models considered*.\n",
    ">\n",
    "> *From class 8*\n",
    "\n",
    "<u>Interpretation:</u>\n",
    "\n",
    "In this context, it seems that the third, cubic, model is the one performing best for this particular dataset (as it shows the smallest WAIC).\n",
    "\n",
    "As such, we want to look at the estimates for each variable and model."
   ]
  },
  {
   "cell_type": "code",
   "execution_count": 48,
   "metadata": {},
   "outputs": [],
   "source": [
    "posterior_samples = [\n",
    "    posterior_sampling_laplace(solutions[i], sampling_size) \n",
    "    for i in range(4)\n",
    "]\n",
    "\n",
    "boxes = {}\n",
    "\n",
    "boxes[\"b1\"] = [posterior_samples[i][:,1] for i in range(4)]\n",
    "boxes[\"b2\"] = [posterior_samples[i][:,2] for i in range(1, 4)]\n",
    "boxes[\"b3\"] = [posterior_samples[i][:,3] for i in range(2, 4)]\n",
    "boxes[\"b4\"] = [posterior_samples[i][:,4] for i in range(3, 4)]\n",
    "\n",
    "model1_boxes = [boxes[\"b1\"][0]]\n",
    "model2_boxes = [boxes[\"b1\"][1], boxes[\"b2\"][0]]\n",
    "model3_boxes = [boxes[\"b1\"][2], boxes[\"b2\"][1], boxes[\"b3\"][0]]\n",
    "model4_boxes = [boxes[\"b1\"][3], boxes[\"b2\"][2], boxes[\"b3\"][1], \n",
    "                boxes[\"b4\"][0]]"
   ]
  },
  {
   "cell_type": "markdown",
   "metadata": {},
   "source": [
    "We look at the impact of the b1 covariate `blood pressure` on each model:"
   ]
  },
  {
   "cell_type": "code",
   "execution_count": 49,
   "metadata": {},
   "outputs": [
    {
     "data": {
      "image/png": "[encoded data removed]",
      "text/plain": [
       "<Figure size 432x288 with 1 Axes>"
      ]
     },
     "metadata": {
      "needs_background": "light"
     },
     "output_type": "display_data"
    }
   ],
   "source": [
    "plt.figure()\n",
    "plt.boxplot([boxes[\"b1\"][i] for i in range(4)],vert=0)\n",
    "plt.yticks([1,2,3,4], [\"m1, linear\", \"m2, quadratic\", \"m3, cubic\", \n",
    "                       \"m4, fourth-order\"])\n",
    "plt.axvline(x=0, color = 'black', alpha = 0.1)\n",
    "plt.title('Posterior estimates of bp across the four models')\n",
    "plt.show()"
   ]
  },
  {
   "cell_type": "markdown",
   "metadata": {},
   "source": [
    "We see that the posterior estimate for the variable `blood pressure` falls away from 0 for all models.\n",
    "\n",
    "Now, we look at the impact of the b2 covariate `blood pressure^2` on the quadratic, cubic and quartic models:"
   ]
  },
  {
   "cell_type": "code",
   "execution_count": 57,
   "metadata": {},
   "outputs": [
    {
     "data": {
      "image/png": "[encoded data removed]",
      "text/plain": [
       "<Figure size 432x288 with 1 Axes>"
      ]
     },
     "metadata": {
      "needs_background": "light"
     },
     "output_type": "display_data"
    }
   ],
   "source": [
    "plt.figure()\n",
    "plt.boxplot([boxes[\"b2\"][i] for i in range(3)],vert=0)\n",
    "plt.yticks([1,2,3], [\"m2, quadratic\", \"m3, cubic\", \"m4, fourth-order\"])\n",
    "plt.axvline(x=0, color = 'black', alpha = 0.1)\n",
    "plt.title('Posterior estimates of bp^2 across the quadratic, cubic,\\n and quartic models')\n",
    "plt.show()"
   ]
  },
  {
   "cell_type": "markdown",
   "metadata": {},
   "source": [
    "We see that the posterior estimate for the variable `blood pressure^2` falls away from 0 for all concerned models.\n",
    "\n",
    "Now, we look at the impact of the b3 covariate `blood pressure^3` on the cubic and quartic models:"
   ]
  },
  {
   "cell_type": "code",
   "execution_count": 58,
   "metadata": {},
   "outputs": [
    {
     "data": {
      "image/png": "[encoded data removed]",
      "text/plain": [
       "<Figure size 432x288 with 1 Axes>"
      ]
     },
     "metadata": {
      "needs_background": "light"
     },
     "output_type": "display_data"
    }
   ],
   "source": [
    "plt.figure()\n",
    "plt.boxplot([boxes[\"b3\"][i] for i in range(2)],vert=0)\n",
    "plt.yticks([1,2], [\"m3, cubic\", \"m4, fourth-order\"])\n",
    "plt.axvline(x=0, color = 'black', alpha = 0.1)\n",
    "plt.title('Posterior estimates of bp^3 across the cubic and quartic models')\n",
    "plt.show()"
   ]
  },
  {
   "cell_type": "markdown",
   "metadata": {},
   "source": [
    "We see that the posterior estimate for the variable `blood pressure^3` falls away from 0 for all concerned models.\n",
    "\n",
    "Now, we look at the impact of the b3 covariate `blood pressure^4` on the quartic model:"
   ]
  },
  {
   "cell_type": "code",
   "execution_count": 59,
   "metadata": {
    "scrolled": false
   },
   "outputs": [
    {
     "data": {
      "image/png": "[encoded data removed]",
      "text/plain": [
       "<Figure size 432x288 with 1 Axes>"
      ]
     },
     "metadata": {
      "needs_background": "light"
     },
     "output_type": "display_data"
    }
   ],
   "source": [
    "plt.figure()\n",
    "plt.boxplot(boxes[\"b4\"], vert=0)\n",
    "plt.yticks([1], [\"m4, fourth-order\"])\n",
    "plt.axvline(x=0, color = 'black', alpha = 0.1)\n",
    "plt.title('Posterior estimates of bp^4 as part of the quartic model')\n",
    "plt.show()"
   ]
  },
  {
   "cell_type": "markdown",
   "metadata": {},
   "source": [
    "We see that the variable `blood pressure^4`'s mean and general confidence interval falls nearly straight onto 0. This implies that the variable has little to no impact on the modelization of the `age` variable.\n",
    "\n",
    "We can also visualize the posterior estimate of the parameters for each model separately:"
   ]
  },
  {
   "cell_type": "code",
   "execution_count": 53,
   "metadata": {},
   "outputs": [
    {
     "data": {
      "image/png": "[encoded data removed]",
      "text/plain": [
       "<Figure size 432x288 with 1 Axes>"
      ]
     },
     "metadata": {
      "needs_background": "light"
     },
     "output_type": "display_data"
    }
   ],
   "source": [
    "plt.figure()\n",
    "plt.boxplot(model1_boxes, vert=0)\n",
    "plt.yticks([1], [\"b1, linear\"])\n",
    "plt.axvline(x=0, color = \"black\", alpha = 0.1)\n",
    "plt.title(\"Posterior estimate of the linear model's parameter\")\n",
    "plt.show()"
   ]
  },
  {
   "cell_type": "code",
   "execution_count": 54,
   "metadata": {},
   "outputs": [
    {
     "data": {
      "image/png": "[encoded data removed]",
      "text/plain": [
       "<Figure size 432x288 with 1 Axes>"
      ]
     },
     "metadata": {
      "needs_background": "light"
     },
     "output_type": "display_data"
    }
   ],
   "source": [
    "plt.figure()\n",
    "plt.boxplot(model2_boxes, vert=0)\n",
    "plt.yticks([1,2], [\"b1, linear\", \"b2, quadratic\"])\n",
    "plt.axvline(x=0, color = \"black\", alpha = 0.1)\n",
    "plt.title(\"Posterior estimates of the quadratic model's parameters\")\n",
    "plt.show()"
   ]
  },
  {
   "cell_type": "code",
   "execution_count": 55,
   "metadata": {},
   "outputs": [
    {
     "data": {
      "image/png": "[encoded data removed]",
      "text/plain": [
       "<Figure size 432x288 with 1 Axes>"
      ]
     },
     "metadata": {
      "needs_background": "light"
     },
     "output_type": "display_data"
    }
   ],
   "source": [
    "plt.figure()\n",
    "plt.boxplot(model3_boxes, vert=0)\n",
    "plt.yticks([1,2,3], [\"b1, linear\", \"b2, quadratic\", \"b3, cubic\"])\n",
    "plt.axvline(x=0, color = \"black\", alpha = 0.1)\n",
    "plt.title(\"Posterior estimates of the cubic model's parameters\")\n",
    "plt.show()"
   ]
  },
  {
   "cell_type": "code",
   "execution_count": 60,
   "metadata": {},
   "outputs": [
    {
     "data": {
      "image/png": "[encoded data removed]",
      "text/plain": [
       "<Figure size 432x288 with 1 Axes>"
      ]
     },
     "metadata": {
      "needs_background": "light"
     },
     "output_type": "display_data"
    }
   ],
   "source": [
    "plt.figure()\n",
    "plt.boxplot(model4_boxes, vert=0)\n",
    "plt.yticks([1,2,3,4], [\"b1, linear\", \"b2, quadratic\", \"b3, cubic\", \n",
    "                       \"b4, quartic\"])\n",
    "plt.axvline(x=0, color = \"black\", alpha = 0.1)\n",
    "plt.title(\"Posterior estimates of the quartic model's parameters\")\n",
    "plt.show()"
   ]
  },
  {
   "cell_type": "markdown",
   "metadata": {},
   "source": [
    "<u>Interpretation:</u>\n",
    "\n",
    "These boxplots show us how the impact of the posterior estimates for the different orders of the variable `bp`, given each model. By looking at the posterior estimates we see that each parameter besides the fourth one are relatively relevant for the modeling of the dependent variable `age` as part of the Diabetes dataset.\n",
    "\n",
    "This importance in terms of magnitude confirms visually our previous supposition based on the WAIC estimate (which was the lowest for the cubic model).\n",
    "\n",
    "3. **Conclusion**\n",
    "\n",
    "Given our modeling, visual observation, and WAIC estimates for each of the models, we would favor the cubic model."
   ]
  },
  {
   "cell_type": "markdown",
   "metadata": {},
   "source": [
    "<hr>\n",
    "<hr>\n",
    "<hr>\n",
    "\n",
    "## Exercise 6"
   ]
  },
  {
   "cell_type": "markdown",
   "metadata": {},
   "source": [
    "### Instructions\n",
    "\n",
    "Which model would you support between the following:\n",
    "\n",
    "- target depends on _Age_\n",
    "- target depends on _Age_ and _Sex_\n",
    "- target depends on _Age_ and _Body mass index_ \n",
    "- target depends on _Age_ and _Body mass index_ and _Average blood pressure_\n",
    "- target depends on _Age_ and _Sex_ and _Body mass index_ \n",
    "- target depends on _Age_ and _Sex_ and _Body mass index_ and _Average blood pressure_\n",
    "- target depends on  _Body mass index_ and _Average blood pressure_\n",
    "\n",
    "<hr>\n",
    "\n",
    "#### 1. Data import and exploration"
   ]
  },
  {
   "cell_type": "code",
   "execution_count": 61,
   "metadata": {},
   "outputs": [
    {
     "data": {
      "text/html": [
       "<div>\n",
       "<style scoped>\n",
       "    .dataframe tbody tr th:only-of-type {\n",
       "        vertical-align: middle;\n",
       "    }\n",
       "\n",
       "    .dataframe tbody tr th {\n",
       "        vertical-align: top;\n",
       "    }\n",
       "\n",
       "    .dataframe thead th {\n",
       "        text-align: right;\n",
       "    }\n",
       "</style>\n",
       "<table border=\"1\" class=\"dataframe\">\n",
       "  <thead>\n",
       "    <tr style=\"text-align: right;\">\n",
       "      <th></th>\n",
       "      <th>age</th>\n",
       "      <th>sex</th>\n",
       "      <th>bmi</th>\n",
       "      <th>bp</th>\n",
       "      <th>target</th>\n",
       "    </tr>\n",
       "  </thead>\n",
       "  <tbody>\n",
       "    <tr>\n",
       "      <th>0</th>\n",
       "      <td>0.038076</td>\n",
       "      <td>0.050680</td>\n",
       "      <td>0.061696</td>\n",
       "      <td>0.021872</td>\n",
       "      <td>151.0</td>\n",
       "    </tr>\n",
       "    <tr>\n",
       "      <th>1</th>\n",
       "      <td>-0.001882</td>\n",
       "      <td>-0.044642</td>\n",
       "      <td>-0.051474</td>\n",
       "      <td>-0.026328</td>\n",
       "      <td>75.0</td>\n",
       "    </tr>\n",
       "    <tr>\n",
       "      <th>2</th>\n",
       "      <td>0.085299</td>\n",
       "      <td>0.050680</td>\n",
       "      <td>0.044451</td>\n",
       "      <td>-0.005671</td>\n",
       "      <td>141.0</td>\n",
       "    </tr>\n",
       "    <tr>\n",
       "      <th>3</th>\n",
       "      <td>-0.089063</td>\n",
       "      <td>-0.044642</td>\n",
       "      <td>-0.011595</td>\n",
       "      <td>-0.036656</td>\n",
       "      <td>206.0</td>\n",
       "    </tr>\n",
       "    <tr>\n",
       "      <th>4</th>\n",
       "      <td>0.005383</td>\n",
       "      <td>-0.044642</td>\n",
       "      <td>-0.036385</td>\n",
       "      <td>0.021872</td>\n",
       "      <td>135.0</td>\n",
       "    </tr>\n",
       "    <tr>\n",
       "      <th>...</th>\n",
       "      <td>...</td>\n",
       "      <td>...</td>\n",
       "      <td>...</td>\n",
       "      <td>...</td>\n",
       "      <td>...</td>\n",
       "    </tr>\n",
       "    <tr>\n",
       "      <th>437</th>\n",
       "      <td>0.041708</td>\n",
       "      <td>0.050680</td>\n",
       "      <td>0.019662</td>\n",
       "      <td>0.059744</td>\n",
       "      <td>178.0</td>\n",
       "    </tr>\n",
       "    <tr>\n",
       "      <th>438</th>\n",
       "      <td>-0.005515</td>\n",
       "      <td>0.050680</td>\n",
       "      <td>-0.015906</td>\n",
       "      <td>-0.067642</td>\n",
       "      <td>104.0</td>\n",
       "    </tr>\n",
       "    <tr>\n",
       "      <th>439</th>\n",
       "      <td>0.041708</td>\n",
       "      <td>0.050680</td>\n",
       "      <td>-0.015906</td>\n",
       "      <td>0.017282</td>\n",
       "      <td>132.0</td>\n",
       "    </tr>\n",
       "    <tr>\n",
       "      <th>440</th>\n",
       "      <td>-0.045472</td>\n",
       "      <td>-0.044642</td>\n",
       "      <td>0.039062</td>\n",
       "      <td>0.001215</td>\n",
       "      <td>220.0</td>\n",
       "    </tr>\n",
       "    <tr>\n",
       "      <th>441</th>\n",
       "      <td>-0.045472</td>\n",
       "      <td>-0.044642</td>\n",
       "      <td>-0.073030</td>\n",
       "      <td>-0.081414</td>\n",
       "      <td>57.0</td>\n",
       "    </tr>\n",
       "  </tbody>\n",
       "</table>\n",
       "<p>442 rows × 5 columns</p>\n",
       "</div>"
      ],
      "text/plain": [
       "          age       sex       bmi        bp  target\n",
       "0    0.038076  0.050680  0.061696  0.021872   151.0\n",
       "1   -0.001882 -0.044642 -0.051474 -0.026328    75.0\n",
       "2    0.085299  0.050680  0.044451 -0.005671   141.0\n",
       "3   -0.089063 -0.044642 -0.011595 -0.036656   206.0\n",
       "4    0.005383 -0.044642 -0.036385  0.021872   135.0\n",
       "..        ...       ...       ...       ...     ...\n",
       "437  0.041708  0.050680  0.019662  0.059744   178.0\n",
       "438 -0.005515  0.050680 -0.015906 -0.067642   104.0\n",
       "439  0.041708  0.050680 -0.015906  0.017282   132.0\n",
       "440 -0.045472 -0.044642  0.039062  0.001215   220.0\n",
       "441 -0.045472 -0.044642 -0.073030 -0.081414    57.0\n",
       "\n",
       "[442 rows x 5 columns]"
      ]
     },
     "execution_count": 61,
     "metadata": {},
     "output_type": "execute_result"
    }
   ],
   "source": [
    "data = pd.DataFrame(data = raw_data, columns = dataset.feature_names)\n",
    "data = data[[\"age\", \"sex\", \"bmi\", \"bp\"]]\n",
    "data[\"target\"] = pd.Series(target)\n",
    "\n",
    "data"
   ]
  },
  {
   "cell_type": "code",
   "execution_count": 75,
   "metadata": {},
   "outputs": [
    {
     "data": {
      "text/html": [
       "<div>\n",
       "<style scoped>\n",
       "    .dataframe tbody tr th:only-of-type {\n",
       "        vertical-align: middle;\n",
       "    }\n",
       "\n",
       "    .dataframe tbody tr th {\n",
       "        vertical-align: top;\n",
       "    }\n",
       "\n",
       "    .dataframe thead th {\n",
       "        text-align: right;\n",
       "    }\n",
       "</style>\n",
       "<table border=\"1\" class=\"dataframe\">\n",
       "  <thead>\n",
       "    <tr style=\"text-align: right;\">\n",
       "      <th></th>\n",
       "      <th>age</th>\n",
       "      <th>sex</th>\n",
       "      <th>bmi</th>\n",
       "      <th>bp</th>\n",
       "      <th>target</th>\n",
       "    </tr>\n",
       "  </thead>\n",
       "  <tbody>\n",
       "    <tr>\n",
       "      <th>count</th>\n",
       "      <td>4.420000e+02</td>\n",
       "      <td>4.420000e+02</td>\n",
       "      <td>4.420000e+02</td>\n",
       "      <td>4.420000e+02</td>\n",
       "      <td>442.000000</td>\n",
       "    </tr>\n",
       "    <tr>\n",
       "      <th>mean</th>\n",
       "      <td>-3.634285e-16</td>\n",
       "      <td>1.308343e-16</td>\n",
       "      <td>-8.045349e-16</td>\n",
       "      <td>1.281655e-16</td>\n",
       "      <td>152.133484</td>\n",
       "    </tr>\n",
       "    <tr>\n",
       "      <th>std</th>\n",
       "      <td>4.761905e-02</td>\n",
       "      <td>4.761905e-02</td>\n",
       "      <td>4.761905e-02</td>\n",
       "      <td>4.761905e-02</td>\n",
       "      <td>77.093005</td>\n",
       "    </tr>\n",
       "    <tr>\n",
       "      <th>min</th>\n",
       "      <td>-1.072256e-01</td>\n",
       "      <td>-4.464164e-02</td>\n",
       "      <td>-9.027530e-02</td>\n",
       "      <td>-1.123996e-01</td>\n",
       "      <td>25.000000</td>\n",
       "    </tr>\n",
       "    <tr>\n",
       "      <th>25%</th>\n",
       "      <td>-3.729927e-02</td>\n",
       "      <td>-4.464164e-02</td>\n",
       "      <td>-3.422907e-02</td>\n",
       "      <td>-3.665645e-02</td>\n",
       "      <td>87.000000</td>\n",
       "    </tr>\n",
       "    <tr>\n",
       "      <th>50%</th>\n",
       "      <td>5.383060e-03</td>\n",
       "      <td>-4.464164e-02</td>\n",
       "      <td>-7.283766e-03</td>\n",
       "      <td>-5.670611e-03</td>\n",
       "      <td>140.500000</td>\n",
       "    </tr>\n",
       "    <tr>\n",
       "      <th>75%</th>\n",
       "      <td>3.807591e-02</td>\n",
       "      <td>5.068012e-02</td>\n",
       "      <td>3.124802e-02</td>\n",
       "      <td>3.564384e-02</td>\n",
       "      <td>211.500000</td>\n",
       "    </tr>\n",
       "    <tr>\n",
       "      <th>max</th>\n",
       "      <td>1.107267e-01</td>\n",
       "      <td>5.068012e-02</td>\n",
       "      <td>1.705552e-01</td>\n",
       "      <td>1.320442e-01</td>\n",
       "      <td>346.000000</td>\n",
       "    </tr>\n",
       "  </tbody>\n",
       "</table>\n",
       "</div>"
      ],
      "text/plain": [
       "                age           sex           bmi            bp      target\n",
       "count  4.420000e+02  4.420000e+02  4.420000e+02  4.420000e+02  442.000000\n",
       "mean  -3.634285e-16  1.308343e-16 -8.045349e-16  1.281655e-16  152.133484\n",
       "std    4.761905e-02  4.761905e-02  4.761905e-02  4.761905e-02   77.093005\n",
       "min   -1.072256e-01 -4.464164e-02 -9.027530e-02 -1.123996e-01   25.000000\n",
       "25%   -3.729927e-02 -4.464164e-02 -3.422907e-02 -3.665645e-02   87.000000\n",
       "50%    5.383060e-03 -4.464164e-02 -7.283766e-03 -5.670611e-03  140.500000\n",
       "75%    3.807591e-02  5.068012e-02  3.124802e-02  3.564384e-02  211.500000\n",
       "max    1.107267e-01  5.068012e-02  1.705552e-01  1.320442e-01  346.000000"
      ]
     },
     "execution_count": 75,
     "metadata": {},
     "output_type": "execute_result"
    }
   ],
   "source": [
    "data.describe()"
   ]
  },
  {
   "cell_type": "code",
   "execution_count": 62,
   "metadata": {},
   "outputs": [
    {
     "data": {
      "text/plain": [
       "[Text(0.5, 1.0, 'Distribution of Ages (Diabetes dataset)')]"
      ]
     },
     "execution_count": 62,
     "metadata": {},
     "output_type": "execute_result"
    },
    {
     "data": {
      "image/png": "[encoded data removed]",
      "text/plain": [
       "<Figure size 432x288 with 1 Axes>"
      ]
     },
     "metadata": {
      "needs_background": "light"
     },
     "output_type": "display_data"
    }
   ],
   "source": [
    "sns.kdeplot(data[\"age\"]).set(\n",
    "    title=\"Distribution of Ages (Diabetes dataset)\"\n",
    ")"
   ]
  },
  {
   "cell_type": "code",
   "execution_count": 63,
   "metadata": {},
   "outputs": [
    {
     "data": {
      "text/plain": [
       "[Text(0.5, 1.0, 'Distribution of BMI (Diabetes dataset)')]"
      ]
     },
     "execution_count": 63,
     "metadata": {},
     "output_type": "execute_result"
    },
    {
     "data": {
      "image/png": "[encoded data removed]",
      "text/plain": [
       "<Figure size 432x288 with 1 Axes>"
      ]
     },
     "metadata": {
      "needs_background": "light"
     },
     "output_type": "display_data"
    }
   ],
   "source": [
    "sns.kdeplot(data[\"bmi\"]).set(\n",
    "    title=\"Distribution of BMI (Diabetes dataset)\"\n",
    ")"
   ]
  },
  {
   "cell_type": "code",
   "execution_count": 64,
   "metadata": {},
   "outputs": [
    {
     "data": {
      "image/png": "[encoded data removed]",
      "text/plain": [
       "<Figure size 432x288 with 1 Axes>"
      ]
     },
     "metadata": {
      "needs_background": "light"
     },
     "output_type": "display_data"
    }
   ],
   "source": [
    "plt.hist(data[\"sex\"])\n",
    "plt.title(\n",
    "    \"Distribution of Sexes (diabetes dataset)\"\n",
    ")\n",
    "plt.show()"
   ]
  },
  {
   "cell_type": "code",
   "execution_count": 68,
   "metadata": {},
   "outputs": [
    {
     "data": {
      "text/plain": [
       "array([ 0.05068012, -0.04464164])"
      ]
     },
     "execution_count": 68,
     "metadata": {},
     "output_type": "execute_result"
    }
   ],
   "source": [
    "data[\"sex\"].unique()"
   ]
  },
  {
   "cell_type": "code",
   "execution_count": 65,
   "metadata": {},
   "outputs": [
    {
     "data": {
      "text/plain": [
       "[Text(0.5, 1.0, 'Distribution of Target (Diabetes dataset)')]"
      ]
     },
     "execution_count": 65,
     "metadata": {},
     "output_type": "execute_result"
    },
    {
     "data": {
      "image/png": "[encoded data removed]",
      "text/plain": [
       "<Figure size 432x288 with 1 Axes>"
      ]
     },
     "metadata": {
      "needs_background": "light"
     },
     "output_type": "display_data"
    }
   ],
   "source": [
    "sns.kdeplot(data[\"target\"]).set(\n",
    "    title=\"Distribution of Target (Diabetes dataset)\"\n",
    ")"
   ]
  },
  {
   "cell_type": "markdown",
   "metadata": {},
   "source": [
    "2. **Performing the regression on each model**\n",
    "\n",
    "<u>Declaring the regression expression:</u>"
   ]
  },
  {
   "cell_type": "code",
   "execution_count": 66,
   "metadata": {},
   "outputs": [],
   "source": [
    "expressions = {\n",
    "    \"model_1_a\" : [\"target ~ age\", {0:\"a\", 1:\"age\", 2:\"sigma\"}],\n",
    "    \"model_2_as\" : [\n",
    "        \"target ~ age + sex\", \n",
    "        {0:\"a\", 1:\"age\", 2: \"sex\", 3: \"sigma\"}],\n",
    "    \"model_3_abm\" : [\n",
    "        \"target ~ age + bp\", \n",
    "        {0:\"a\", 1:\"age\", 2: \"bp\", 3: \"sigma\"}],\n",
    "    \"model_4_abmbp\" : [\n",
    "        \"target ~ age + bmi + bp\", \n",
    "        {0:\"a\", 1:\"age\", 2: \"bmi\", 3: \"bp\", 4: \"sigma\"}],\n",
    "    \"model_5_asbp\" : [\n",
    "        \"target ~ age + sex + bp\", \n",
    "        {0:\"a\", 1:\"age\", 2: \"sex\", 3: \"bp\", 4: \"sigma\"}],\n",
    "    \"model_6_asbmbp\" : [\n",
    "        \"target ~ age + sex + bmi + bp\", \n",
    "        {0:\"a\", 1:\"age\", 2: \"sex\", 3: \"bmi\", 4: \"bp\", 5: \"sigma\"}],\n",
    "    \"model_7_bmbp\" : [\n",
    "        \"target ~ bmi + bp\", \n",
    "        {0:\"a\", 1: \"bmi\", 2: \"bp\", 3: \"sigma\"}]\n",
    "}"
   ]
  },
  {
   "cell_type": "markdown",
   "metadata": {},
   "source": [
    "<u>Defining the prior parameters and preparing for the regression analysis:</u>\n",
    "\n",
    "Given the centeredness of the dataset and our lack of prior belief, we declare each variable except `sex` as having a standard normal prior distribution.\n",
    "\n",
    "> <u>Note on the choice of a prior distribution for the variable `sex`:</u>\n",
    ">\n",
    "> We would have chosen the binomial distribution to characterize the prior distribution of this variable (given that only two possible values are possible: 0.05, -0.04 as part of the given bernouilli process). \n",
    ">\n",
    "> However, the pimplementation of the black-box optimization function (for the laplace approximation) expect the related scipy distribution function to have the logpdf() method, which the binomial distribution does not have (having the logpmf() method instead). \n",
    ">\n",
    "> Given a lack of time to include that case in the optimization black-box function, we swap our distribution choice for the variable `sex` for a uniform distribution with a range of -1 to 1"
   ]
  },
  {
   "cell_type": "code",
   "execution_count": 69,
   "metadata": {},
   "outputs": [],
   "source": [
    "# Initializing the likelihood\n",
    "likelihood = 'gaussian'\n",
    "\n",
    "# Defining the priors with hyperparameters \n",
    "\n",
    "prior_a_mean = 0\n",
    "prior_a_sigma = 1\n",
    "prior_a = ['gaussian', [prior_a_mean, prior_a_sigma]]\n",
    "\n",
    "prior_age_mean = 0; prior_age_sigma = 1\n",
    "prior_bp_mean = 0; prior_bp_sigma = 1\n",
    "prior_bmi_mean = 0; prior_bmi_sigma = 1\n",
    "prior_sex = ['uniform', [-1, 1]]\n",
    "prior_age = [\"gaussian\", [prior_age_mean, prior_age_sigma]]\n",
    "prior_bmi = ['gaussian', [prior_bmi_mean, prior_bmi_sigma]]\n",
    "prior_bp = ['gaussian', [prior_bp_mean, prior_bp_sigma]]\n",
    "\n",
    "sigma_inf = 0\n",
    "sigma_sup = 2\n",
    "prior_sigma = ['uniform', [sigma_inf, sigma_sup]]"
   ]
  },
  {
   "cell_type": "code",
   "execution_count": 70,
   "metadata": {},
   "outputs": [],
   "source": [
    "priors = {\n",
    "    \"model_1_a\" : [prior_a, prior_age, prior_sigma], \n",
    "    \"model_2_as\" : [prior_a, prior_age, prior_sex, prior_sigma], \n",
    "    \"model_3_abm\" : [prior_a, prior_age, prior_bmi, prior_sigma],\n",
    "    \"model_4_abmbp\" : [prior_a, prior_age, prior_bmi, \n",
    "                       prior_bp, prior_sigma], \n",
    "    \"model_5_asbp\" : [prior_a, prior_age, prior_sex, \n",
    "                      prior_bp, prior_sigma], \n",
    "    \"model_6_asbmbp\" : [prior_a, prior_age, prior_sex, \n",
    "                        prior_bmi, prior_bp, prior_sigma], \n",
    "    \"model_7_bmbp\" : [prior_a, prior_bmi, prior_bp, prior_sigma]\n",
    "}"
   ]
  },
  {
   "cell_type": "markdown",
   "metadata": {},
   "source": [
    "<u>Running the regressions:</u>"
   ]
  },
  {
   "cell_type": "code",
   "execution_count": 71,
   "metadata": {
    "scrolled": false
   },
   "outputs": [
    {
     "name": "stderr",
     "output_type": "stream",
     "text": [
      "/home/quentin/anaconda3/lib/python3.8/site-packages/scipy/optimize/_numdiff.py:557: RuntimeWarning: invalid value encountered in subtract\n",
      "  df = fun(x) - f0\n",
      "/home/quentin/anaconda3/lib/python3.8/site-packages/scipy/optimize/_numdiff.py:557: RuntimeWarning: invalid value encountered in subtract\n",
      "  df = fun(x) - f0\n",
      "/home/quentin/anaconda3/lib/python3.8/site-packages/scipy/optimize/_numdiff.py:557: RuntimeWarning: invalid value encountered in subtract\n",
      "  df = fun(x) - f0\n"
     ]
    },
    {
     "name": "stdout",
     "output_type": "stream",
     "text": [
      "      fun: 373133.21480439237\n",
      " hess_inv: array([[ 6.18681031e-03,  7.95137985e-03, -1.58630238e-05],\n",
      "       [ 7.95137985e-03,  8.93748739e-01, -1.68780997e-04],\n",
      "       [-1.58630238e-05, -1.68780997e-04,  1.59714711e-06]])\n",
      "      jac: array([-1.69753516e+03, -4.45000000e+01, -3.75007547e+05])\n",
      "  message: 'Desired error not necessarily achieved due to precision loss.'\n",
      "     nfev: 85\n",
      "      nit: 6\n",
      "     njev: 18\n",
      "   status: 2\n",
      "  success: False\n",
      "        x: array([136.62734515,  29.11244043,   1.93305392]) \n",
      "\n"
     ]
    },
    {
     "name": "stderr",
     "output_type": "stream",
     "text": [
      "/home/quentin/anaconda3/lib/python3.8/site-packages/scipy/optimize/_numdiff.py:557: RuntimeWarning: invalid value encountered in subtract\n",
      "  df = fun(x) - f0\n",
      "/home/quentin/anaconda3/lib/python3.8/site-packages/scipy/optimize/_numdiff.py:557: RuntimeWarning: invalid value encountered in subtract\n",
      "  df = fun(x) - f0\n"
     ]
    },
    {
     "name": "stdout",
     "output_type": "stream",
     "text": [
      "      fun: 1284072.4211786008\n",
      " hess_inv: array([[ 4.58563305e-02,  4.00085702e-02,  9.27278360e-03,\n",
      "        -3.00548748e-04],\n",
      "       [ 4.00085702e-02,  1.00037851e+00,  8.77209215e-05,\n",
      "        -2.80494504e-04],\n",
      "       [ 9.27278360e-03,  8.77209215e-05,  1.00002033e+00,\n",
      "        -6.50035637e-05],\n",
      "       [-3.00548748e-04, -2.80494504e-04, -6.50035637e-05,\n",
      "         2.26572162e-06]])\n",
      "      jac: array([-1.65382656e+04, -1.53562500e+02, -3.55781250e+01, -1.82448439e+06])\n",
      "  message: 'Desired error not necessarily achieved due to precision loss.'\n",
      "     nfev: 62\n",
      "      nit: 2\n",
      "     njev: 10\n",
      "   status: 2\n",
      "  success: False\n",
      "        x: array([78.09134669,  0.60843515, -0.46581086,  1.40340316]) \n",
      "\n"
     ]
    },
    {
     "name": "stderr",
     "output_type": "stream",
     "text": [
      "/home/quentin/anaconda3/lib/python3.8/site-packages/scipy/optimize/_numdiff.py:557: RuntimeWarning: invalid value encountered in subtract\n",
      "  df = fun(x) - f0\n",
      "/home/quentin/anaconda3/lib/python3.8/site-packages/scipy/optimize/_numdiff.py:557: RuntimeWarning: invalid value encountered in subtract\n",
      "  df = fun(x) - f0\n",
      "/home/quentin/anaconda3/lib/python3.8/site-packages/scipy/optimize/_numdiff.py:557: RuntimeWarning: invalid value encountered in subtract\n",
      "  df = fun(x) - f0\n",
      "/home/quentin/anaconda3/lib/python3.8/site-packages/scipy/optimize/_numdiff.py:557: RuntimeWarning: invalid value encountered in subtract\n",
      "  df = fun(x) - f0\n",
      "/home/quentin/anaconda3/lib/python3.8/site-packages/scipy/optimize/_numdiff.py:557: RuntimeWarning: invalid value encountered in subtract\n",
      "  df = fun(x) - f0\n"
     ]
    },
    {
     "name": "stdout",
     "output_type": "stream",
     "text": [
      "      fun: 343891.4455600238\n",
      " hess_inv: array([[ 5.84215960e-03,  3.17974986e-03,  1.43943969e-02,\n",
      "        -1.41123363e-05],\n",
      "       [ 3.17974986e-03,  8.81695415e-01, -1.23498120e-01,\n",
      "        -1.01358940e-04],\n",
      "       [ 1.43943969e-02, -1.23498120e-01,  7.12559777e-01,\n",
      "        -3.23584311e-04],\n",
      "       [-1.41123363e-05, -1.01358940e-04, -3.23584311e-04,\n",
      "         1.93026052e-06]])\n",
      "      jac: array([-1.77838672e+03, -2.02578125e+01,  7.32812500e+00, -3.24554883e+05])\n",
      "  message: 'Desired error not necessarily achieved due to precision loss.'\n",
      "     nfev: 131\n",
      "      nit: 7\n",
      "     njev: 23\n",
      "   status: 2\n",
      "  success: False\n",
      "        x: array([135.06173584,  35.32824261, 148.03308048,   1.98583253]) \n",
      "\n"
     ]
    },
    {
     "name": "stderr",
     "output_type": "stream",
     "text": [
      "/home/quentin/anaconda3/lib/python3.8/site-packages/scipy/optimize/_numdiff.py:557: RuntimeWarning: invalid value encountered in subtract\n",
      "  df = fun(x) - f0\n",
      "/home/quentin/anaconda3/lib/python3.8/site-packages/scipy/optimize/_numdiff.py:557: RuntimeWarning: invalid value encountered in subtract\n",
      "  df = fun(x) - f0\n",
      "/home/quentin/anaconda3/lib/python3.8/site-packages/scipy/optimize/_numdiff.py:557: RuntimeWarning: invalid value encountered in subtract\n",
      "  df = fun(x) - f0\n",
      "/home/quentin/anaconda3/lib/python3.8/site-packages/scipy/optimize/_numdiff.py:557: RuntimeWarning: invalid value encountered in subtract\n",
      "  df = fun(x) - f0\n",
      "/home/quentin/anaconda3/lib/python3.8/site-packages/scipy/optimize/_numdiff.py:557: RuntimeWarning: invalid value encountered in subtract\n",
      "  df = fun(x) - f0\n"
     ]
    },
    {
     "name": "stdout",
     "output_type": "stream",
     "text": [
      "      fun: 313851.20215182076\n",
      " hess_inv: array([[ 4.12131824e-03, -4.16951499e-04,  9.24103823e-03,\n",
      "         4.28839480e-03,  2.85697021e-06],\n",
      "       [-4.16951499e-04,  7.70652962e-01, -4.32936679e-02,\n",
      "        -1.75307101e-01, -7.45669728e-05],\n",
      "       [ 9.24103823e-03, -4.32936679e-02,  7.51173156e-01,\n",
      "        -1.69934032e-01, -4.22417450e-04],\n",
      "       [ 4.28839480e-03, -1.75307101e-01, -1.69934032e-01,\n",
      "         7.86391033e-01, -2.70503919e-04],\n",
      "       [ 2.85697021e-06, -7.45669728e-05, -4.22417450e-04,\n",
      "        -2.70503919e-04,  2.20084327e-06]])\n",
      "      jac: array([-1.02416016e+03,  4.41015625e+00, -7.29531250e+01, -3.65390625e+01,\n",
      "       -2.89432703e+05])\n",
      "  message: 'Desired error not necessarily achieved due to precision loss.'\n",
      "     nfev: 149\n",
      "      nit: 8\n",
      "     njev: 22\n",
      "   status: 2\n",
      "  success: False\n",
      "        x: array([141.62042008,  53.21308425, 122.12282189, 100.87578293,\n",
      "         1.99649258]) \n",
      "\n"
     ]
    },
    {
     "name": "stderr",
     "output_type": "stream",
     "text": [
      "/home/quentin/anaconda3/lib/python3.8/site-packages/scipy/optimize/_numdiff.py:557: RuntimeWarning: invalid value encountered in subtract\n",
      "  df = fun(x) - f0\n",
      "/home/quentin/anaconda3/lib/python3.8/site-packages/scipy/optimize/_numdiff.py:557: RuntimeWarning: invalid value encountered in subtract\n",
      "  df = fun(x) - f0\n"
     ]
    },
    {
     "name": "stdout",
     "output_type": "stream",
     "text": [
      "      fun: 916966.0106104143\n",
      " hess_inv: array([[ 1.35016167e-02,  8.98710415e-03,  2.06393532e-03,\n",
      "         2.11880274e-02, -5.03483615e-05],\n",
      "       [ 8.98710415e-03,  1.00010055e+00,  2.31953629e-05,\n",
      "         2.37744658e-04, -4.54739936e-05],\n",
      "       [ 2.06393532e-03,  2.31953629e-05,  1.00000535e+00,\n",
      "         5.48459947e-05, -1.04473438e-05],\n",
      "       [ 2.11880274e-02,  2.37744658e-04,  5.48459947e-05,\n",
      "         1.00056215e+00, -1.07146818e-04],\n",
      "       [-5.03483615e-05, -4.54739936e-05, -1.04473438e-05,\n",
      "        -1.07146818e-04,  2.19413011e-07]])\n",
      "      jac: array([-9.71078125e+03, -1.62757812e+02, -3.74921875e+01, -3.84359375e+02,\n",
      "       -1.33911704e+06])\n",
      "  message: 'Desired error not necessarily achieved due to precision loss.'\n",
      "     nfev: 68\n",
      "      nit: 2\n",
      "     njev: 9\n",
      "   status: 2\n",
      "  success: False\n",
      "        x: array([ 1.11084333e+02,  1.06225796e+00, -8.81995445e-02,  1.53577391e+00,\n",
      "        1.35914653e+00]) \n",
      "\n"
     ]
    },
    {
     "name": "stderr",
     "output_type": "stream",
     "text": [
      "/home/quentin/anaconda3/lib/python3.8/site-packages/scipy/optimize/_numdiff.py:557: RuntimeWarning: invalid value encountered in subtract\n",
      "  df = fun(x) - f0\n",
      "/home/quentin/anaconda3/lib/python3.8/site-packages/scipy/optimize/_numdiff.py:557: RuntimeWarning: invalid value encountered in subtract\n",
      "  df = fun(x) - f0\n"
     ]
    },
    {
     "name": "stdout",
     "output_type": "stream",
     "text": [
      "      fun: 1421143.1066680923\n",
      " hess_inv: array([[ 3.92846375e-03,  2.05843038e-03,  4.67901708e-04,\n",
      "         6.47907340e-03,  4.86338769e-03, -3.55161723e-06],\n",
      "       [ 2.05843038e-03,  1.00003901e+00,  8.97765780e-06,\n",
      "         1.22082310e-04,  9.18173861e-05, -5.62807591e-06],\n",
      "       [ 4.67901708e-04,  8.97765780e-06,  1.00000207e+00,\n",
      "         2.80986968e-05,  2.11328139e-05, -1.29257354e-06],\n",
      "       [ 6.47907340e-03,  1.22082310e-04,  2.80986968e-05,\n",
      "         1.00038210e+00,  2.87371805e-04, -1.76184987e-05],\n",
      "       [ 4.86338769e-03,  9.18173861e-05,  2.11328139e-05,\n",
      "         2.87371805e-04,  1.00021613e+00, -1.32496457e-05],\n",
      "       [-3.55161723e-06, -5.62807591e-06, -1.29257354e-06,\n",
      "        -1.76184987e-05, -1.32496457e-05,  3.80670446e-09]])\n",
      "      jac: array([-1.47823594e+04, -2.59046875e+02, -5.96250000e+01, -8.10718750e+02,\n",
      "       -6.09750000e+02, -2.61938959e+06])\n",
      "  message: 'Desired error not necessarily achieved due to precision loss.'\n",
      "     nfev: 85\n",
      "      nit: 2\n",
      "     njev: 10\n",
      "   status: 2\n",
      "  success: False\n",
      "        x: array([112.84644645,   0.66764799,  -0.40915675,   1.67348642,\n",
      "         1.4335973 ,   1.07972318]) \n",
      "\n"
     ]
    },
    {
     "name": "stderr",
     "output_type": "stream",
     "text": [
      "/home/quentin/anaconda3/lib/python3.8/site-packages/scipy/optimize/_numdiff.py:557: RuntimeWarning: invalid value encountered in subtract\n",
      "  df = fun(x) - f0\n",
      "/home/quentin/anaconda3/lib/python3.8/site-packages/scipy/optimize/_numdiff.py:557: RuntimeWarning: invalid value encountered in subtract\n",
      "  df = fun(x) - f0\n",
      "/home/quentin/anaconda3/lib/python3.8/site-packages/scipy/optimize/_numdiff.py:557: RuntimeWarning: invalid value encountered in subtract\n",
      "  df = fun(x) - f0\n",
      "/home/quentin/anaconda3/lib/python3.8/site-packages/scipy/optimize/_numdiff.py:557: RuntimeWarning: invalid value encountered in subtract\n",
      "  df = fun(x) - f0\n"
     ]
    },
    {
     "name": "stdout",
     "output_type": "stream",
     "text": [
      "      fun: 319952.1883844904\n",
      " hess_inv: array([[ 6.25400063e-03,  1.24048522e-02,  1.03459228e-02,\n",
      "        -2.17586516e-05],\n",
      "       [ 1.24048522e-02,  7.43791501e-01, -1.79696145e-01,\n",
      "        -4.08930615e-04],\n",
      "       [ 1.03459228e-02, -1.79696145e-01,  8.63008867e-01,\n",
      "        -2.92096355e-04],\n",
      "       [-2.17586516e-05, -4.08930615e-04, -2.92096355e-04,\n",
      "         2.28480778e-06]])\n",
      "      jac: array([-1.59750391e+03, -2.85351562e+01, -2.48554688e+01, -2.91488930e+05])\n",
      "  message: 'Desired error not necessarily achieved due to precision loss.'\n",
      "     nfev: 115\n",
      "      nit: 7\n",
      "     njev: 20\n",
      "   status: 2\n",
      "  success: False\n",
      "        x: array([136.501261  , 158.86236408, 110.9165322 ,   1.99616418]) \n",
      "\n"
     ]
    }
   ],
   "source": [
    "solutions = [laplace_solution_regression(expressions[model][0], \n",
    "                                         data, likelihood, \n",
    "                                         priors[model]) \n",
    "             for model in priors.keys()]"
   ]
  },
  {
   "cell_type": "markdown",
   "metadata": {},
   "source": [
    "<u>Note on optimization success:</u> It is hardly possible to obtain a successful optimization using the Scipy blackbox function `minimize` in this case, even by varying our priors.\n",
    "\n",
    "3. **Computing the WAIC for each model**"
   ]
  },
  {
   "cell_type": "code",
   "execution_count": 72,
   "metadata": {},
   "outputs": [],
   "source": [
    "posterior_samples = [posterior_sampling_laplace(solutions[i], \n",
    "                                                sampling_size)\n",
    "                     for i in range(len(expressions))]"
   ]
  },
  {
   "cell_type": "code",
   "execution_count": 73,
   "metadata": {
    "scrolled": false
   },
   "outputs": [
    {
     "name": "stdout",
     "output_type": "stream",
     "text": [
      "Regression results for model_1_a:\n",
      "             mean        SD        7.5%       92.5%\n",
      "a      136.626887  0.077781  136.514649  136.740354\n",
      "age     29.120596  0.947477   27.748988   30.487278\n",
      "sigma    1.933090  0.001254    1.931243    1.934842 \n",
      "\n",
      "\n",
      "\n",
      "Regression results for model_2_as:\n",
      "            mean        SD       7.5%      92.5%\n",
      "a      78.088865  0.213705  77.786825  78.397633\n",
      "age     0.621517  0.995429  -0.799483   2.060878\n",
      "sex    -0.467489  1.005780  -1.914951   0.972268\n",
      "sigma   1.403419  0.001489   1.401265   1.405578 \n",
      "\n",
      "\n",
      "\n",
      "Regression results for model_3_abm:\n",
      "             mean        SD        7.5%       92.5%\n",
      "a      135.063174  0.075732  134.954110  135.172544\n",
      "age     35.329802  0.927124   34.016644   36.653296\n",
      "bp     148.043472  0.845816  146.840376  149.242724\n",
      "sigma    1.985837  0.001408    1.983810    1.987862 \n",
      "\n",
      "\n",
      "\n",
      "Regression results for model_4_abmbp:\n",
      "             mean        SD        7.5%       92.5%\n",
      "a      141.620708  0.064487  141.527164  141.712914\n",
      "age     53.220305  0.883296   51.937356   54.510449\n",
      "bmi    122.101847  0.869359  120.855075  123.349043\n",
      "bp     100.883544  0.884287   99.609402  102.138491\n",
      "sigma    1.996502  0.001469    1.994406    1.998624 \n",
      "\n",
      "\n",
      "\n",
      "Regression results for model_5_asbp:\n",
      "             mean        SD        7.5%       92.5%\n",
      "a      111.083108  0.115769  110.918435  111.252628\n",
      "age      1.059337  1.003770   -0.356719    2.483998\n",
      "sex     -0.058963  0.986639   -1.467047    1.383525\n",
      "bp       1.535447  0.999330    0.079409    3.001497\n",
      "sigma    1.359149  0.000466    1.358483    1.359816 \n",
      "\n",
      "\n",
      "\n",
      "Regression results for model_6_asbmbp:\n",
      "             mean        SD        7.5%       92.5%\n",
      "a      112.845676  0.063746  112.753038  112.937237\n",
      "age      0.665495  0.999627   -0.784364    2.135562\n",
      "sex     -0.416671  1.008515   -1.887228    1.026423\n",
      "bmi      1.665586  1.003048    0.239430    3.059228\n",
      "bp       1.429669  1.003950   -0.021826    2.849110\n",
      "sigma    1.079723  0.000064    1.079633    1.079816 \n",
      "\n",
      "\n",
      "\n",
      "Regression results for model_7_bmbp:\n",
      "             mean        SD        7.5%       92.5%\n",
      "a      136.502156  0.078062  136.388626  136.612573\n",
      "bmi    158.866302  0.861735  157.642344  160.122156\n",
      "bp     110.922885  0.924435  109.579315  112.226914\n",
      "sigma    1.996148  0.001534    1.993952    1.998331 \n",
      "\n",
      "\n",
      "\n"
     ]
    }
   ],
   "source": [
    "for i, exp in enumerate(expressions):\n",
    "    print(f\"Regression results for {exp}:\")\n",
    "    _, _, _ = summarize(solutions[i], n_samples, \n",
    "                        names=expressions[exp][1]); print(\"\\n\")"
   ]
  },
  {
   "cell_type": "code",
   "execution_count": 74,
   "metadata": {},
   "outputs": [
    {
     "name": "stdout",
     "output_type": "stream",
     "text": [
      "                        WAIC         pWAIC         dWAIC  weight  \\\n",
      "model_1_a       7.163207e+05   2171.623498  1.344201e+05     0.0   \n",
      "model_2_as      2.562573e+06  16171.779485  1.980673e+06     0.0   \n",
      "model_3_abm     6.737979e+05   2492.563350  9.189727e+04     0.0   \n",
      "model_4_abmbp   5.972063e+05   2246.751641  1.530563e+04     0.0   \n",
      "model_5_asbp    1.807736e+06  11543.642831  1.225835e+06     0.0   \n",
      "model_6_asbmbp  2.831279e+06  29737.779686  2.249378e+06     0.0   \n",
      "model_7_bmbp    5.819006e+05   2042.600874  0.000000e+00     1.0   \n",
      "\n",
      "                           SE           d_SE  \n",
      "model_1_a        42107.616746   11498.273875  \n",
      "model_2_as      161148.359361  132030.475735  \n",
      "model_3_abm      40280.985274    9621.519248  \n",
      "model_4_abmbp    33963.744181    6124.703213  \n",
      "model_5_asbp    119856.236991   88404.613571  \n",
      "model_6_asbmbp  188448.370408  156561.278474  \n",
      "model_7_bmbp     34173.133757            NaN  \n"
     ]
    }
   ],
   "source": [
    "# This takes a long while when the sampling size is >> 100\n",
    "\n",
    "summarize_WAIC_statistics_different_models(\n",
    "    \"target\",\n",
    "    5000,\n",
    "    data,\n",
    "    expressions,\n",
    "    solutions\n",
    ")"
   ]
  },
  {
   "cell_type": "markdown",
   "metadata": {},
   "source": [
    "At first glance, given the WAIC estimates, the model 7 ``target ~ bmi + blood pressure`` seems to be the best out of all the available models. The other best models would be, in order:\n",
    "\n",
    "\\begin{align}\n",
    "\\text{target} &\\sim \\text{age} + \\text{bmi} + \\text{bp} &\\text{(model 4)}\\\\\n",
    "&\\sim \\text{age} + \\text{bmi} &\\text{(model 3)}\\\\\n",
    "&\\sim \\text{age} &\\text{(model 1)}\n",
    "\\end{align}\n",
    "\n",
    "Given those observations, there exists a probability that those three models (models 1, 3, and 4) could perform better than model 7. We can verify those:"
   ]
  },
  {
   "cell_type": "code",
   "execution_count": 93,
   "metadata": {},
   "outputs": [
    {
     "name": "stdout",
     "output_type": "stream",
     "text": [
      "The probability that the model `target~age` performs better than model 7: `target~bmi+bp` is:\n",
      " 0.0% \n",
      "\n",
      "The probability that the model `target~age+bmi` performs better than model 7: `target~bmi+bp` is:\n",
      " 0.0% \n",
      "\n",
      "The probability that the model `target~age+bmi+bp` performs better than model 7: `target~bmi+bp` is:\n",
      " 0.617% \n",
      "\n"
     ]
    }
   ],
   "source": [
    "dWAIC_m1, dSE_m1 = 1.344201e+05, 11498.273875\n",
    "dWAIC_m3, dSE_m3 = 9.189727e+04, 9621.519248\n",
    "dWAIC_m4, dSE_m4 = 1.530563e+04, 6124.703213\n",
    "\n",
    "models_to_test = {\n",
    "    \"target~age\":[dWAIC_m1, dSE_m1],\n",
    "    \"target~age+bmi\":[dWAIC_m3, dSE_m3],\n",
    "    \"target~age+bmi+bp\":[dWAIC_m4, dSE_m4]\n",
    "}\n",
    "\n",
    "for model in models_to_test:\n",
    "    samples = np.random.normal(\n",
    "        loc=models_to_test[model][0], \n",
    "        scale=models_to_test[model][1], \n",
    "        size=100000\n",
    "    )\n",
    "    print(f\"The probability that the model `{model}` performs better\",\n",
    "          \"than model 7: `target~bmi+bp` is:\\n\",\n",
    "          f\"{np.sum(samples<0.)/len(samples)*100}%\",\n",
    "          \"\\n\")"
   ]
  },
  {
   "cell_type": "markdown",
   "metadata": {},
   "source": [
    "The WAIC should be interpreted as measure of performance when the model is applied on unseen data. And the SE will help evaluating the uncertainty associated with the WAIC. \n",
    "\n",
    "As such, it is quite clear that in this context we benefit of using the two predictors `bmi` and `blood pressure` (model 7).\n",
    "\n",
    "4. **Conclusion**\n",
    "\n",
    "Within this context and given all the computed models, we would support the seventh model ``target ~ bmi + blood pressure`` that relies on computing the dependent variable *target* with the two covariates *BMI* and *Blood Pressure*."
   ]
  },
  {
   "cell_type": "code",
   "execution_count": null,
   "metadata": {},
   "outputs": [],
   "source": []
  }
 ],
 "metadata": {
  "kernelspec": {
   "display_name": "Python 3 (ipykernel)",
   "language": "python",
   "name": "python3"
  },
  "language_info": {
   "codemirror_mode": {
    "name": "ipython",
    "version": 3
   },
   "file_extension": ".py",
   "mimetype": "text/x-python",
   "name": "python",
   "nbconvert_exporter": "python",
   "pygments_lexer": "ipython3",
   "version": "3.9.7"
  }
 },
 "nbformat": 4,
 "nbformat_minor": 2
}
