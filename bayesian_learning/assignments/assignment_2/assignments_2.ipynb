{
 "cells": [
  {
   "cell_type": "markdown",
   "metadata": {},
   "source": [
    "# Bayesian Learning Assignment 2\n",
    "\n",
    "MSc DSAI Quentin Le Roux"
   ]
  },
  {
   "cell_type": "markdown",
   "metadata": {},
   "source": [
    "<hr>\n",
    "<hr>\n",
    "<hr>"
   ]
  },
  {
   "cell_type": "markdown",
   "metadata": {},
   "source": [
    "## Library Imports"
   ]
  },
  {
   "cell_type": "code",
   "execution_count": 1,
   "metadata": {},
   "outputs": [],
   "source": [
    "import matplotlib.pyplot as plt\n",
    "import numpy as np\n",
    "import pandas as pd\n",
    "import seaborn as sns\n",
    "\n",
    "from scipy.optimize import minimize\n",
    "from scipy.stats import norm, uniform, binom\n",
    "from scipy.stats import multivariate_normal\n",
    "from sklearn import datasets "
   ]
  },
  {
   "cell_type": "markdown",
   "metadata": {},
   "source": [
    "<hr>\n",
    "\n",
    "## Function declarations\n",
    "\n",
    "**Note**: \n",
    "- *Functions are listed per exercise in alphabetical orders*\n",
    "- *Functions are provided with Type Hinting*\n",
    "\n",
    "### Exercise 1 functions"
   ]
  },
  {
   "cell_type": "code",
   "execution_count": 2,
   "metadata": {},
   "outputs": [],
   "source": [
    "def beta_binomial_distribution(\n",
    "    n: int, y: int, alpha: int, beta: int\n",
    ") -> np.array:\n",
    "    \"\"\"\n",
    "    Returns the beta-binomial distribution over the space of \n",
    "    parameter theta, given the parameters alpha, beta, y, and n.\n",
    "    \"\"\"\n",
    "    # Declares a linear space for the parameter theta\n",
    "    theta_space  = np.linspace(0,1)\n",
    "    # Computes and return the distribution\n",
    "    distribution = theta_space**(y+alpha-1) * \\\n",
    "                   (1-theta_space)**(n+beta-y-1)\n",
    "    return theta_space, distribution\n",
    "\n",
    "def beta_binomial_lapproximation(\n",
    "    n: int, y: int, alpha: int, beta: int\n",
    ") -> np.array:\n",
    "    \"\"\"\n",
    "    Returns the Laplace approximation of the beta binomial\n",
    "    distribution (a Gaussian distribution) with parameters\n",
    "    derived from the original distribution's parameters alpha,\n",
    "    beta, y, and n.\n",
    "    \"\"\"\n",
    "    theta_max = (y+alpha-1)/(n+alpha+beta-2)\n",
    "    hessian   = -(y+alpha-1)/(theta_max**2) - \\\n",
    "                (n+beta-y-1)/((1-theta_max)**2)\n",
    "    variance  = -1/hessian\n",
    "    return norm(theta_max, np.sqrt(variance))"
   ]
  },
  {
   "cell_type": "markdown",
   "metadata": {},
   "source": [
    "### Exercise 4 functions"
   ]
  },
  {
   "cell_type": "code",
   "execution_count": 35,
   "metadata": {},
   "outputs": [],
   "source": [
    "def evaluate_log_post(\n",
    "    params: list, \n",
    "    other_params: list, \n",
    "    data: pd.Series, \n",
    "    likelihood: str, \n",
    "    priors: list\n",
    ") -> float:\n",
    "    \"\"\"\n",
    "    Optimization function to be used for performing a Laplace\n",
    "    approximation.\n",
    "    \"\"\"\n",
    "    # Retrieves the distribution function (scipy implementation)\n",
    "    models = {\n",
    "        \"gaussian\":norm, \n",
    "        \"uniform\":uniform,\n",
    "        \"binomial\":binom\n",
    "    }\n",
    "    #Computes the log-priors\n",
    "    log_prior = np.sum([models[model[0]].logpdf(params[i], *model[1]) \n",
    "                        for i, model in enumerate(priors)])         \n",
    "    # Guarantees positive variance in the Gaussian case\n",
    "    if likelihood == \"gaussian\": params[-1] = np.abs(params[-1])\n",
    "    # Checks for the other set of parameters\n",
    "    if len(other_params) > 0: params = (params, other_params)\n",
    "    # Computes the log-likelihood\n",
    "    log_likelihood = np.sum([models[likelihood].logpdf(point, *params) \n",
    "                             for point in data])\n",
    "    return - (log_likelihood + log_prior)\n",
    "\n",
    "def evaluate_log_post_regression(\n",
    "    params: list, \n",
    "    var_names: list, \n",
    "    data: pd.Series, \n",
    "    likelihood: str, \n",
    "    priors: list\n",
    ") -> float:\n",
    "    \"\"\"\n",
    "    Optimization function to be used for performing a Laplace approximation\n",
    "    as part of a linear regression process.\n",
    "    \"\"\"\n",
    "    # Retrieves the distribution function (scipy implementation)\n",
    "    models = {\n",
    "        \"gaussian\":norm, \n",
    "        \"uniform\":uniform,\n",
    "        \"binomial\":binom\n",
    "    }\n",
    "    #Computes the log-priors\n",
    "    log_prior = np.sum([models[model[0]].logpdf(params[i], *model[1]) \n",
    "                        for i, model in enumerate(priors)])   \n",
    "    #Evaluating expression\n",
    "    target, predictors = var_names[0], var_names[1]\n",
    "    # Computes the Gaussian parameters\n",
    "    mu = np.ones(len(data[predictors[0]])) * params[0]\n",
    "    for i in range(len(predictors)):\n",
    "        mu += params[i+1] * data[predictors[i]].values\n",
    "    sigma = np.abs(params[-1])\n",
    "    # Computes the log-likelihood\n",
    "    t = data[target].values\n",
    "    N = len(t)\n",
    "    log_lik = np.sum([models[\"gaussian\"].logpdf(t[i], mu[i], sigma) \n",
    "                      for i in range(N)])\n",
    "    return -(log_lik + log_prior)\n",
    "\n",
    "def laplace_solution(\n",
    "    params:list,\n",
    "    other_params: list,\n",
    "    data: pd.Series,\n",
    "    likelihood: str,\n",
    "    priors:list\n",
    ") -> list:\n",
    "    \"\"\"\n",
    "    Computes a Laplace approximation of a distribution given sets of\n",
    "    prior and likelihood parameters.\n",
    "    \"\"\"    \n",
    "    # Performs an optimization over a set of parameters given an\n",
    "    # evaluation function.\n",
    "    minimum =  minimize(\n",
    "        evaluate_log_post, params,  \n",
    "        args = (other_params, data, likelihood, priors), \n",
    "        method = \"BFGS\"\n",
    "    )\n",
    "    print(minimum)\n",
    "    return [minimum.x, minimum.hess_inv]\n",
    "\n",
    "def laplace_solution_regression(\n",
    "    expression: str, \n",
    "    data: pd.DataFrame, \n",
    "    likelihood: str, \n",
    "    priors: list\n",
    ") -> list:\n",
    "    \"\"\"\n",
    "    Computes a Laplace approximation for a regression given sets\n",
    "    of priors and likelihood parameters\n",
    "    \"\"\"\n",
    "    # Retrieves the distribution function (scipy implementation)\n",
    "    models = {\n",
    "        \"gaussian\":norm, \n",
    "        \"uniform\":uniform,\n",
    "        \"binomial\":binom\n",
    "    }\n",
    "    # Parses the linear regression expression\n",
    "    collapsed_expression = expression.replace(\" \", \"\")\n",
    "    target, independent = collapsed_expression.split(\"~\") \n",
    "    independent = independent.split(\"+\")\n",
    "    var_names = [target, independent]\n",
    "    # Computes the random variates for each prior\n",
    "    params = [models[priors[i][0]].rvs(*priors[i][1]) \n",
    "              for i in range(len(priors))]\n",
    "    # Performs an optimization over a set of parameters given an\n",
    "    # evaluation function.\n",
    "    minimum =  minimize(\n",
    "        evaluate_log_post_regression, params, \n",
    "        args = (var_names, data, likelihood, priors), \n",
    "        method = \"BFGS\"\n",
    "    )\n",
    "    print(minimum)\n",
    "    return [minimum.x, minimum.hess_inv]\n",
    "\n",
    "def plot_relationship(\n",
    "    x: pd.Series, y: pd.Series,\n",
    "    xlabel: str, ylabel:str,\n",
    "    title: str\n",
    ") -> None:\n",
    "    \"\"\"\n",
    "    Plots the 2D plot of the relationship between two variables.\n",
    "    \"\"\"\n",
    "    plt.figure()\n",
    "    plt.scatter(x, y)\n",
    "    plt.title(title)\n",
    "    plt.xlabel(xlabel)\n",
    "    plt.ylabel(ylabel)\n",
    "    plt.show\n",
    "    \n",
    "def sampling_from_posterior(\n",
    "    data: pd.DataFrame, \n",
    "    mean_covariate: float, \n",
    "    depvar_name: str, \n",
    "    covar_name: str, \n",
    "    posterior_samples: multivariate_normal.rvs,\n",
    "    posterior_means: list,\n",
    "    plot_title: str,\n",
    "    plot_xlabel: str,\n",
    "    plot_ylabel: str\n",
    ") -> None:\n",
    "    \"\"\"\"\"\"\n",
    "    # Samples from the posterior\n",
    "    x_range = np.linspace(min(data[covar_name]), max(data[covar_name]))\n",
    "    mean_prediction = posterior_means[0] + posterior_means[1] * x_range\n",
    "    for i in range(1000):\n",
    "        prediction = posterior_samples[i,0] + posterior_samples[i,1] * x_range\n",
    "        plt.plot(x_range + mean_covariate, prediction, lw = 0.05, color = 'grey')\n",
    "    # Plots the resulting plot\n",
    "    plt.scatter(data[covar_name] + mean_covariate, data[depvar_name])\n",
    "    plt.plot(x_range + mean_covariate, mean_prediction, lw = 2, color = 'black')\n",
    "    plt.title(plot_title)\n",
    "    plt.ylabel(plot_ylabel)\n",
    "    plt.xlabel(plot_xlabel)\n",
    "    plt.show()\n",
    "\n",
    "def summarize(solution: list) -> tuple:\n",
    "    \"\"\"\n",
    "    Summarizes the regression statistics obtained via a\n",
    "    Laplace approximation.\n",
    "    \"\"\"\n",
    "    # Computes posterior samples\n",
    "    posterior_samples = multivariate_normal.rvs(\n",
    "        solution[0], \n",
    "        solution[1], \n",
    "        size = 1000\n",
    "    )\n",
    "    #### Computes summary stats\n",
    "    #    85% confidence interval\n",
    "    post_quantiles = np.quantile(posterior_samples, q = [0.075, 0.925], axis = 0)\n",
    "    #    standard deviation\n",
    "    post_sd = np.std(posterior_samples, axis = 0)\n",
    "    #     mean\n",
    "    post_mean = np.mean(posterior_samples, axis = 0)\n",
    "    # Prints the results\n",
    "    summary_stats = [post_mean, post_sd, post_quantiles[0,:],post_quantiles[1,:]]\n",
    "    summary_stats = pd.DataFrame(summary_stats).transpose()\n",
    "    summary_stats.columns = ['mean', 'SD', '7.5%', '92.5%']\n",
    "    summary_stats.rename(index={0:'a',1:'b', 2:'sigma'}, inplace=True)\n",
    "    print(summary_stats)\n",
    "    # Returns the posterior samples\n",
    "    return post_mean, post_sd, posterior_samples"
   ]
  },
  {
   "cell_type": "markdown",
   "metadata": {},
   "source": [
    "### Exercise 5 functions"
   ]
  },
  {
   "cell_type": "code",
   "execution_count": null,
   "metadata": {},
   "outputs": [],
   "source": []
  },
  {
   "cell_type": "markdown",
   "metadata": {},
   "source": [
    "### Exercise 6 functions"
   ]
  },
  {
   "cell_type": "code",
   "execution_count": null,
   "metadata": {},
   "outputs": [],
   "source": []
  },
  {
   "cell_type": "markdown",
   "metadata": {},
   "source": [
    "<hr>\n",
    "<hr>\n",
    "<hr>\n",
    "\n",
    "## Exercise 1"
   ]
  },
  {
   "cell_type": "markdown",
   "metadata": {},
   "source": [
    "### Instructions\n",
    "\n",
    "The Beta-Binomial model seen during lesson 2 is:\n",
    "\n",
    "$$p(y|\\theta)p(\\theta) \\propto \\theta^{y+\\alpha-1}(1-\\theta)^{n+\\beta-y-1} \\propto Beta(\\theta|\\alpha+y,n+\\beta-y).$$\n",
    "\n",
    "Find a Laplace approximation for this model, as seen for the Binomal model, and plot the resulting Gaussian approximation against the Beta-Binomial function.\n",
    "\n",
    "<hr>\n",
    "\n",
    "#### 1. Finding the Laplace approximation of the Beta-Binomial model\n",
    "\n",
    "We recall that the Laplace method approximate the shape of a given function through the application of a Gaussian distribution. This approximation relies on the Taylor expansion of the (log-)function of interest *f*. *f* is the function to approximate. We declare the function *g* such that:\n",
    "\n",
    "$$f(x) = \\exp(\\log(f(\\theta)) = \\exp(g(\\theta))$$\n",
    "\n",
    "Stopping at the second order, and assuming that *g* and *f* share a maximum in $\\theta_0$, we can approximate *g* and thus *f* for any point $theta$ sufficiently close to $\\theta_0$ such that:\n",
    "\n",
    "\\begin{align}\n",
    "g(\\theta) &= g(\\theta_0) + g'(\\theta_0)(\\theta-\\theta_0) + \\frac{1}{2}g''(\\theta_0)(\\theta-\\theta_0)^2 + o((\\theta - \\theta_0)^3)\\\\\n",
    "g'(\\theta_0) = 0 \\\\\n",
    "\\end{align}\n",
    "\n",
    "We find the following approximation:\n",
    "\n",
    "\\begin{align}\n",
    "g(\\theta) &\\approx g(\\theta_0) + \\frac{1}{2}g''(\\theta_0)(\\theta-\\theta_0)^2\\\\\n",
    "f(\\theta_0) &\\approx f(\\theta_0) + \\exp(\\frac{1}{2}g''(\\theta_0)(\\theta-\\theta_0)^2) \\\\\n",
    "&\\approx \\exp\\big(\\frac{1}{2}g''(\\theta_0)(\\theta-\\theta_0)^2\\big)\\quad\\text{Given $f(\\theta_0)$ a constant}\\\\\n",
    "&\\approx \\exp\\big(-\\frac{1}{2}\\frac{(\\theta-\\theta_0)^2}{-\\frac{1}{g''(\\theta_0)}}\\big)\\quad\\text{We recognize a Gaussian PDF}\\\\\n",
    "\\end{align}\n",
    "\n",
    "As such, *f* can be approximated (up to a normalization constant) by a Gaussian distribution $\\mathcal{N}(\\theta_0, -\\frac{1}{g''(\\theta_0)})$\n",
    "\n",
    "<u>Computing the maximum of the log-distribution:</u>\n",
    "\n",
    "\\begin{align}\n",
    "g(\\theta) & = \\log(f(\\theta)) = (y+\\alpha-1)*\\log(\\theta) + (n+\\beta-y-1)*\\log(1-\\theta)\\\\\n",
    "\\frac{\\delta g}{\\delta \\theta} &= \\frac{y+\\alpha-1}{\\theta} - \\frac{n+\\beta-y-1}{1-\\theta}\n",
    "\\end{align}\n",
    "\n",
    "As such:\n",
    "\n",
    "\\begin{align}\n",
    "g'(\\theta_0) &= 0\\\\\n",
    "&\\Rightarrow \\frac{y+\\alpha-1}{\\theta_0} - \\frac{n+\\beta-y-1}{1-\\theta_0} = 0\\\\\n",
    "&\\Rightarrow \\frac{(1-\\theta_0)*(y+\\alpha-1) - \\theta_0*(n+\\beta-y-1)}{\\theta_0(1-\\theta_0)} = 0\\\\\n",
    "&\\Rightarrow (1-\\theta_0)*(y+\\alpha-1) - \\theta_0*(n+\\beta-y-1) = 0 \\\\\n",
    "&\\Rightarrow (2-n-\\alpha-\\beta)*\\theta_0 +y+\\alpha-1 = 0\n",
    "\\end{align}\n",
    "\n",
    "We find:\n",
    "\n",
    "$$\\theta_0 = \\frac{y+\\alpha-1}{n + \\alpha + \\beta - 2}$$\n",
    "\n",
    "<u>Computing the second derivative of the log-distribution with respect to $\\theta$:</u>\n",
    "\n",
    "\\begin{align}\n",
    "\\frac{\\delta^2 g}{\\delta \\theta^2} &= -\\frac{y+\\alpha-1}{\\theta^2} - \\frac{n+\\beta-y-1}{(1-\\theta)^2}\n",
    "\\end{align}\n",
    "\n",
    "We find:\n",
    "\n",
    "$$g''(\\theta_0) = -\\frac{y+\\alpha-1}{(\\frac{y+\\alpha-1}{n + \\alpha + \\beta - 2})^2} - \\frac{n+\\beta-y-1}{(1-(\\frac{y+\\alpha-1}{n + \\alpha + \\beta - 2}))^2}$$\n",
    "\n",
    "<u>Concluding on finding the Laplace approximation of the Beta-Binomial model:</u>\n",
    "\n",
    "The approximation will be the Gaussian:\n",
    "\n",
    "$$\\mathcal{N}\\big(\\frac{y+\\alpha-1}{n + \\alpha + \\beta - 2}, -(-\\frac{y+\\alpha-1}{(\\frac{y+\\alpha-1}{n + \\alpha + \\beta - 2})^2} - \\frac{n+\\beta-y-1}{(1-(\\frac{y+\\alpha-1}{n + \\alpha + \\beta - 2}))^2})^{-1}\\big)$$\n",
    "\n",
    "with mean $\\theta_0 = \\frac{y+\\alpha-1}{n + \\alpha + \\beta - 2}$ and variance $\\sigma^2=(\\frac{y+\\alpha-1}{(\\frac{y+\\alpha-1}{n + \\alpha + \\beta - 2})^2} + \\frac{n+\\beta-y-1}{(1-(\\frac{y+\\alpha-1}{n + \\alpha + \\beta - 2}))^2})^{-1}$\n",
    "\n",
    "#### 2. Plotting the approximation\n",
    "\n",
    "For plotting the resulting approximation, we will reuse the values for $\\alpha$, $\\beta$, $n$, and $y$ from class 5."
   ]
  },
  {
   "cell_type": "code",
   "execution_count": 36,
   "metadata": {},
   "outputs": [
    {
     "data": {
      "image/png": "[encoded data removed]",
      "text/plain": [
       "<Figure size 432x288 with 1 Axes>"
      ]
     },
     "metadata": {
      "needs_background": "light"
     },
     "output_type": "display_data"
    }
   ],
   "source": [
    "# Variable declarations\n",
    "\n",
    "y = 4; n = 8; alpha = 2; beta = 3\n",
    "\n",
    "# Computing the beta-binomial PDF\n",
    "theta_space, beta_binomial = beta_binomial_distribution(n, y, alpha, beta)\n",
    "\n",
    "# computing the beta-binomia approximation\n",
    "lapproximation = beta_binomial_lapproximation(n, y, alpha, beta)\n",
    "\n",
    "# Plotting the results\n",
    "\n",
    "plt.figure()\n",
    "plt.plot(\n",
    "    theta_space, \n",
    "    beta_binomial/np.sum(beta_binomial), \n",
    "    label=\"Beta-Binomial PDF\")\n",
    "plt.plot(\n",
    "    theta_space,\n",
    "    lapproximation.pdf(theta_space)/np.sum(lapproximation.pdf(theta_space)),\n",
    "    label=\"Laplace approximation\")\n",
    "plt.legend()\n",
    "plt.show()"
   ]
  },
  {
   "cell_type": "markdown",
   "metadata": {},
   "source": [
    "<hr>\n",
    "<hr>\n",
    "<hr>\n",
    "\n",
    "## Exercise 2"
   ]
  },
  {
   "cell_type": "markdown",
   "metadata": {},
   "source": [
    "### Instructions\n",
    "\n",
    "Write down a model to evaluate the claim: *Animal diversity is related to latitude, but only after controlling for plant diversity*. You just need to write down the model definition.\n",
    "\n",
    "<hr>\n",
    "\n",
    "#### 1. Problem statement\n",
    "\n",
    "From [wikipedia](https://en.wikipedia.org/wiki/Latitude), \"*latitude is a geographic coordinate that specifies the north–south position of a point on the Earth's surface. Latitude is an angle (defined below) which ranges from 0° at the Equator to 90° (North or South) at the poles*.\" \n",
    "\n",
    "Common sense can lead us to assume that animal diversity is closely correlated to location (here, latitude). Furthermore, given prior belief, we may suppose that the most inhospitable areas in the world are located towards the poles, while the most hospitable would be closer to the equator (e.g. Amazonian Forest, Subsaharan Africa, etc.). Furthermore, since a biome is constituted by both fauna and flora, we can suppose that animal and plant diversity are correlated.\n",
    "\n",
    "As a caveat, this modeling is not without blind spots as areas such that the Sahara desert might influence the average diversity of a locale/latitude, as we are not interested in longitude as a parameter.\n",
    "\n",
    "Finally, given these assumptions, we may hypothesize that:\n",
    "\n",
    "- Any metric related to latitude would display some symmetric behavior with regards to the distance from the equator.\n",
    "- The closer to the poles, i.e. the farther from the equator, the lower biome diversity is\n",
    "    - Animal diversity and plant diversity are related\n",
    "    - Diversity decreases with latitude.\n",
    "\n",
    "**Note:** Assuming any metric of animal diversity cannot be negative (at worse it would be zero), we could imagine a diversity metric as following a Poisson distribution at a given latitude.\n",
    "\n",
    "<u>Possible example of a diversity metric per latitude given our assumptions:</u>\n",
    "\n",
    "Represented on a graph with the x-axis the distance from the equator, and on the y-axis a metric evaluating animal diversity, we would expect a possibly linear, decreasing dataset of a form."
   ]
  },
  {
   "cell_type": "code",
   "execution_count": 37,
   "metadata": {
    "scrolled": true
   },
   "outputs": [
    {
     "data": {
      "image/png": "[encoded data removed]",
      "text/plain": [
       "<Figure size 432x288 with 1 Axes>"
      ]
     },
     "metadata": {
      "needs_background": "light"
     },
     "output_type": "display_data"
    }
   ],
   "source": [
    "x = np.linspace(0, 90, num=100)\n",
    "y = sorted(np.linspace(0, 90, num=100), reverse=True) + \\\n",
    "    np.random.normal(0, 5, 100)\n",
    "plt.scatter(x, y); plt.show()"
   ]
  },
  {
   "cell_type": "markdown",
   "metadata": {},
   "source": [
    "#### 2. Model definition\n",
    "\n",
    "As such, since we are interested in a possible relationship between latitude and animal diversity, but we also want to account/control for plant diversity, we could defined a preliminary model as a linear regression with `animal diversity` as the dependent variable and `latitude` and `plant diversity` as its covariates. \n",
    "\n",
    "We are interested in the regression function $r$ such that:\n",
    "\n",
    "$$r \\rightarrow \\mathbb{E}[animal\\,diversity\\,\\,|\\,\\,latitude,\\,\\, plant\\,diversity]$$\n",
    "\n",
    "This results in the following possibly linear relationship:\n",
    "\n",
    "\\begin{align}\n",
    "\\text{animal diversity} &= a+b*\\text{latitude} + c*\\text{plant diversity}\\\\\\\\\n",
    "\\text{with,}\\\\\n",
    "a&,\\text{ the intercept}\\\\\n",
    "b, c&,\\text{ resp. covariates of latitude and plant diversity}\n",
    "\\end{align}"
   ]
  },
  {
   "cell_type": "markdown",
   "metadata": {},
   "source": [
    "<hr>\n",
    "<hr>\n",
    "<hr>\n",
    "\n",
    "## Exercise 3"
   ]
  },
  {
   "cell_type": "markdown",
   "metadata": {},
   "source": [
    "### Instructions\n",
    "\n",
    "Invent your own example of spurious correlation. An outcome variable should be correlated with both predictor variables. But when both predictors are entered in the same model, the correlation between the outcome and one of the predictors should mostly vanish (or at least be greatly reduced).\n",
    "\n",
    "<hr>\n",
    "\n",
    "#### 1. Example of spurious correlation\n",
    "\n",
    "From [Investopedia](https://www.investopedia.com/terms/s/spurious_correlation.asp), \"*a spurious correlation (or spuriousness) refers to a connection between two variables that appears to be causal but is not. With spurious correlation, any observed dependencies between variables are merely due to chance or are both related to some unseen confounder.*\"\n",
    "\n",
    "An example could be the following:\n",
    "\n",
    "> The sale of foie-gras is spuriously correlated to the sale of umbrellas in the Alpes-Maritimes, France.\n",
    "\n",
    "If at face value it is obvious that the two variables are not causally linked, they are correlated through the underlying variable of seasonality -- the [rainiest months in the Alpes-Maritimes are during the months of October, November and December](https://en.wikipedia.org/wiki/Nice#Climate). Furthermore, foie-gras sales are [closely tied to the Christmas and New Year holidays](https://www.businesscoot.com/fr/etude/le-marche-du-foie-gras-france).\n",
    "\n",
    "As such, we have a situation where the sale of foie-gras, being our dependent variable, should be correlated to both predictor variables: season/month of the year, and sales of umbrellas. Given a model where both covariates are included, we would expect the predictive aspect of the sales of umbrellas to decrease or disappear."
   ]
  },
  {
   "cell_type": "markdown",
   "metadata": {},
   "source": [
    "<hr>\n",
    "<hr>\n",
    "<hr>\n",
    "\n",
    "## Exercise 4"
   ]
  },
  {
   "cell_type": "markdown",
   "metadata": {},
   "source": [
    "### Instructions\n",
    "\n",
    "The attached data is about observations of urban foxes in human habitat. The data has 5 columns:\n",
    "\n",
    "- *group*: Number of social group the fox belongs to\n",
    "- *avgfood*: The avg amount of food available in the territory\n",
    "- *groupsize*: The number of foxes in the social group\n",
    "- *area*: Size of the territory\n",
    "- *weight*: Body weight of the fox\n",
    "\n",
    "Fit a regression for *weight* as a linear function of *area*, and a regression for *weight* as a linear function of *groupsize*. What can you say about these relationships? Run a multivariate model and plot counterfactual plots for both variables. What can you conclude about this analysis?\n",
    "\n",
    "<hr>\n",
    "\n",
    "#### 1. Data import and exploration"
   ]
  },
  {
   "cell_type": "code",
   "execution_count": 38,
   "metadata": {
    "scrolled": true
   },
   "outputs": [
    {
     "data": {
      "text/html": [
       "<div>\n",
       "<style scoped>\n",
       "    .dataframe tbody tr th:only-of-type {\n",
       "        vertical-align: middle;\n",
       "    }\n",
       "\n",
       "    .dataframe tbody tr th {\n",
       "        vertical-align: top;\n",
       "    }\n",
       "\n",
       "    .dataframe thead th {\n",
       "        text-align: right;\n",
       "    }\n",
       "</style>\n",
       "<table border=\"1\" class=\"dataframe\">\n",
       "  <thead>\n",
       "    <tr style=\"text-align: right;\">\n",
       "      <th></th>\n",
       "      <th>group</th>\n",
       "      <th>avgfood</th>\n",
       "      <th>groupsize</th>\n",
       "      <th>area</th>\n",
       "      <th>weight</th>\n",
       "    </tr>\n",
       "  </thead>\n",
       "  <tbody>\n",
       "    <tr>\n",
       "      <th>count</th>\n",
       "      <td>116.000000</td>\n",
       "      <td>116.000000</td>\n",
       "      <td>116.000000</td>\n",
       "      <td>116.000000</td>\n",
       "      <td>116.000000</td>\n",
       "    </tr>\n",
       "    <tr>\n",
       "      <th>mean</th>\n",
       "      <td>17.206897</td>\n",
       "      <td>0.751724</td>\n",
       "      <td>4.344828</td>\n",
       "      <td>3.169138</td>\n",
       "      <td>4.529655</td>\n",
       "    </tr>\n",
       "    <tr>\n",
       "      <th>std</th>\n",
       "      <td>8.002736</td>\n",
       "      <td>0.198316</td>\n",
       "      <td>1.538511</td>\n",
       "      <td>0.928354</td>\n",
       "      <td>1.184023</td>\n",
       "    </tr>\n",
       "    <tr>\n",
       "      <th>min</th>\n",
       "      <td>1.000000</td>\n",
       "      <td>0.370000</td>\n",
       "      <td>2.000000</td>\n",
       "      <td>1.090000</td>\n",
       "      <td>1.920000</td>\n",
       "    </tr>\n",
       "    <tr>\n",
       "      <th>25%</th>\n",
       "      <td>11.750000</td>\n",
       "      <td>0.660000</td>\n",
       "      <td>3.000000</td>\n",
       "      <td>2.590000</td>\n",
       "      <td>3.720000</td>\n",
       "    </tr>\n",
       "    <tr>\n",
       "      <th>50%</th>\n",
       "      <td>18.000000</td>\n",
       "      <td>0.735000</td>\n",
       "      <td>4.000000</td>\n",
       "      <td>3.130000</td>\n",
       "      <td>4.420000</td>\n",
       "    </tr>\n",
       "    <tr>\n",
       "      <th>75%</th>\n",
       "      <td>24.000000</td>\n",
       "      <td>0.800000</td>\n",
       "      <td>5.000000</td>\n",
       "      <td>3.772500</td>\n",
       "      <td>5.375000</td>\n",
       "    </tr>\n",
       "    <tr>\n",
       "      <th>max</th>\n",
       "      <td>30.000000</td>\n",
       "      <td>1.210000</td>\n",
       "      <td>8.000000</td>\n",
       "      <td>5.070000</td>\n",
       "      <td>7.550000</td>\n",
       "    </tr>\n",
       "  </tbody>\n",
       "</table>\n",
       "</div>"
      ],
      "text/plain": [
       "            group     avgfood   groupsize        area      weight\n",
       "count  116.000000  116.000000  116.000000  116.000000  116.000000\n",
       "mean    17.206897    0.751724    4.344828    3.169138    4.529655\n",
       "std      8.002736    0.198316    1.538511    0.928354    1.184023\n",
       "min      1.000000    0.370000    2.000000    1.090000    1.920000\n",
       "25%     11.750000    0.660000    3.000000    2.590000    3.720000\n",
       "50%     18.000000    0.735000    4.000000    3.130000    4.420000\n",
       "75%     24.000000    0.800000    5.000000    3.772500    5.375000\n",
       "max     30.000000    1.210000    8.000000    5.070000    7.550000"
      ]
     },
     "execution_count": 38,
     "metadata": {},
     "output_type": "execute_result"
    }
   ],
   "source": [
    "data = pd.read_csv(\"data.csv\")\n",
    "data.describe()"
   ]
  },
  {
   "cell_type": "code",
   "execution_count": 39,
   "metadata": {},
   "outputs": [
    {
     "data": {
      "text/plain": [
       "[Text(0.5, 1.0, \"Distribution of urban foxes' weight\")]"
      ]
     },
     "execution_count": 39,
     "metadata": {},
     "output_type": "execute_result"
    },
    {
     "data": {
      "image/png": "[encoded data removed]",
      "text/plain": [
       "<Figure size 432x288 with 1 Axes>"
      ]
     },
     "metadata": {
      "needs_background": "light"
     },
     "output_type": "display_data"
    }
   ],
   "source": [
    "sns.kdeplot(data[\"weight\"]).set(title=\"Distribution of urban foxes' weight\")"
   ]
  },
  {
   "cell_type": "code",
   "execution_count": 40,
   "metadata": {},
   "outputs": [
    {
     "data": {
      "text/plain": [
       "[Text(0.5, 1.0, \"Distribution of urban foxes' area\")]"
      ]
     },
     "execution_count": 40,
     "metadata": {},
     "output_type": "execute_result"
    },
    {
     "data": {
      "image/png": "[encoded data removed]",
      "text/plain": [
       "<Figure size 432x288 with 1 Axes>"
      ]
     },
     "metadata": {
      "needs_background": "light"
     },
     "output_type": "display_data"
    }
   ],
   "source": [
    "sns.kdeplot(data[\"area\"]).set(title=\"Distribution of urban foxes' area\")"
   ]
  },
  {
   "cell_type": "code",
   "execution_count": 41,
   "metadata": {},
   "outputs": [
    {
     "data": {
      "text/plain": [
       "[Text(0.5, 1.0, \"Distribution of urban foxes' groupsize\")]"
      ]
     },
     "execution_count": 41,
     "metadata": {},
     "output_type": "execute_result"
    },
    {
     "data": {
      "image/png": "[encoded data removed]",
      "text/plain": [
       "<Figure size 432x288 with 1 Axes>"
      ]
     },
     "metadata": {
      "needs_background": "light"
     },
     "output_type": "display_data"
    }
   ],
   "source": [
    "sns.kdeplot(data[\"groupsize\"]).set(title=\"Distribution of urban foxes' groupsize\")"
   ]
  },
  {
   "cell_type": "code",
   "execution_count": 42,
   "metadata": {},
   "outputs": [
    {
     "data": {
      "image/png": "[encoded data removed]",
      "text/plain": [
       "<Figure size 432x288 with 1 Axes>"
      ]
     },
     "metadata": {
      "needs_background": "light"
     },
     "output_type": "display_data"
    }
   ],
   "source": [
    "x, y, title= (\"area\", \"weight\", \"weight vs. area\")\n",
    "plot_relationship(data[x], data[y], x, y, title)"
   ]
  },
  {
   "cell_type": "code",
   "execution_count": 43,
   "metadata": {},
   "outputs": [
    {
     "data": {
      "image/png": "[encoded data removed]",
      "text/plain": [
       "<Figure size 432x288 with 1 Axes>"
      ]
     },
     "metadata": {
      "needs_background": "light"
     },
     "output_type": "display_data"
    }
   ],
   "source": [
    "x, y, title= (\"groupsize\", \"weight\", \"weight vs. groupsize\")\n",
    "plot_relationship(data[x], data[y], x, y, title)"
   ]
  },
  {
   "cell_type": "markdown",
   "metadata": {},
   "source": [
    "#### 3. Estimating a model of `weight` sampling from prior mean and variance\n",
    "\n",
    "<u>Selecting priors:</u>\n",
    "\n",
    "We start by fitting a model for the variable `weight` only. Given the observed sample distribution, we can weakly assume that `weight` is Gaussian-distributed. `weight` is the result of infinitesimal accumulations of mass/growth during the life span (such as with the variable `height` seen in class).\n",
    "\n",
    "Therefore, for each fox $i$, we may assume that their `weight` is distributed as: $\\quad\\text{weight}_i\\sim N(\\mu,\\sigma^2)$.\n",
    "\n",
    "As we can consider foxes as being fungible individuals, we can also state independence between each observation such that:\n",
    "\n",
    "$$p(\\text{weight}) = p(\\text{weight}_1, \\text{weight}_2, \\ldots, \\text{weight}_N) = p(\\text{weight}_1).p(\\text{weight}_2)\\cdots p(\\text{weight}_N)$$\n",
    "\n",
    "This corresponds to a product of Gaussian likelihoods. Once set on using a Gaussian likelihood, we look into specifing a prior. We can use a Gaussian model encoding our belief by assuming:\n",
    "\n",
    "\\begin{align}\n",
    "\\mu_{prior} &\\sim\\,\\,\\mathcal{N}(4.5,3)\\\\\n",
    "\\sigma_{prior} &\\sim\\,\\,\\mathcal{U}(0,2)\n",
    "\\end{align}\n",
    "\n",
    "**Interpretation**: The average weight of an urban fox is 4.5 kilograms with a $2\\sigma$-variability of $[0.9kg, 8.1kg]$, which seem reasonable as we are including the whole fox population, from pups to the largest individuals. For the variance, we don't have a clear opinion on the matter and we can simply say that it is uniformly distributed on the interval $[0kg, 2kg]$.\n",
    "\n",
    "<u>Integrating data in the model and obtaining its posterior:</u>\n",
    "\n",
    "We specify our likelihood:\n",
    "\n",
    "\\begin{align}\n",
    "p(y|\\mu,\\sigma^2) &= N(y|\\mu,\\sigma^2)\\\\\\\\\n",
    "\\text{with}&\\,\\\\\n",
    "y&,\\,\\,\\text{the weight data}\n",
    "\\end{align}\n",
    "\n",
    "<u>Using Laplace approximation:</u>\n",
    "\n",
    "Because a grid method is computationally inefficient, and because we need to perform inference on $\\sigma$ as well (which makes us reject using the closed form of the Gaussian), we use the Laplace approximation in order to yield a model of `weight`. As such, we rely on **Laplace approximation** to compute a Gaussian approximation of the model.\n",
    "\n",
    "\\begin{align}\n",
    "P(\\mu, \\sigma|h_i, a, b, \\mu_0, \\sigma_0) &\\approx P(h_i|\\mu,\\sigma).p(\\mu, \\sigma|a,b,\\mu_0, \\sigma_0)\\\\\n",
    "&\\approx \\mathcal{N}([\\mu^*, \\sigma^*], \\Sigma)\\\\\n",
    "\\end{align}\n",
    "\n",
    "We rely on the optimizer offered by the SciPy library to perform our approximation:"
   ]
  },
  {
   "cell_type": "code",
   "execution_count": 44,
   "metadata": {},
   "outputs": [
    {
     "name": "stdout",
     "output_type": "stream",
     "text": [
      "      fun: 186.399890424752\n",
      " hess_inv: array([[1.19675967e-02, 4.41943897e-06],\n",
      "       [4.41943897e-06, 5.99152106e-03]])\n",
      "      jac: array([-5.7220459e-06,  0.0000000e+00])\n",
      "  message: 'Optimization terminated successfully.'\n",
      "     nfev: 21\n",
      "      nit: 4\n",
      "     njev: 7\n",
      "   status: 0\n",
      "  success: True\n",
      "        x: array([4.5296157 , 1.17890797])\n"
     ]
    }
   ],
   "source": [
    "# Declares the likelihood with the sample parameters\n",
    "likelihood = \"gaussian\"; mu=4.53; sigma=1.18 #4.53, 1.18\n",
    "parameters = [mu, sigma]\n",
    "\n",
    "# Defines the prior mean\n",
    "prior_mu_mean = 4.5; prior_mu_sigma = 3\n",
    "prior_mu = [\"gaussian\", [prior_mu_mean, prior_mu_sigma]]\n",
    "\n",
    "# Defines the prior sigma\n",
    "sigma_inf = 0.; sigma_sup = 2.\n",
    "prior_sigma = [\"uniform\", [sigma_inf, sigma_sup]]\n",
    "\n",
    "# Performs the optimization\n",
    "solution = laplace_solution(parameters, [], data[\"weight\"], likelihood, [prior_mu, prior_sigma])"
   ]
  },
  {
   "cell_type": "markdown",
   "metadata": {},
   "source": [
    "The variable `solution` contains both the distribution of the mean and covariance of the posterior of `weight`, i.e., the parameters $\\mu$ and $\\sigma$. As such, we explore this new model of `weight`:"
   ]
  },
  {
   "cell_type": "code",
   "execution_count": 45,
   "metadata": {},
   "outputs": [
    {
     "name": "stdout",
     "output_type": "stream",
     "text": [
      "The mean of the `weight` parameters are: [4.52576381 1.17928979].\n",
      "The standard deviation of the `weight` parameters are: [0.11507003 0.07612318].\n",
      "\n",
      "The 85% quantile bounds for the `weight` parameters are:\n",
      " [[4.35943537 1.06723873]\n",
      " [4.69686926 1.28947622]]\n"
     ]
    }
   ],
   "source": [
    "posterior_samples = multivariate_normal.rvs(solution[0], solution[1], size = 1000)\n",
    "print(f\"The mean of the `weight` parameters are: {posterior_samples.mean(axis=0)}.\")\n",
    "print(f\"The standard deviation of the `weight` parameters are: {posterior_samples.std(axis=0)}.\")\n",
    "print(f\"\\nThe 85% quantile bounds for the `weight` parameters are:\\n\",\n",
    "      np.quantile(posterior_samples, q=[0.075, 0.925], axis=0))"
   ]
  },
  {
   "cell_type": "markdown",
   "metadata": {},
   "source": [
    "#### 3. Performing a regression with `weight` as a linear function of `area`\n",
    "\n",
    "Now that we explored in detail the urban foxes' `weight`, we ca finally study the relationship bwetween `weight` and `area`. As such, we are interested in the relationship: \n",
    "\n",
    "$$\\text{weight} = a + b * \\text{area}$$\n",
    "\n",
    "The intercept $a$ expresses the `weight` of an urban fox when its `area` territory area is null (which could represent transient foxes, pups, etc.) while the slope $b$ indicates how much the mass of a fox changes with the size of its territory.\n",
    "\n",
    "From now on, we will assume that our previous Gaussian model of `weight` (seen above) is dependent on the variable `area` through this linear relationship. The rationale would be that a larger territory would grant a fox more hunting area and thus preys to grow. In this case, the `weight` of an urban fox is a sample from a Gaussian distribution:\n",
    "\n",
    "$$\\text{weight}_i\\sim \\mathcal{N}(\\mu_i,\\sigma^2)$$\n",
    "\n",
    "Along with this distribution, we state that:\n",
    "\n",
    "$$\\mu_i = a + b * \\text{area}_i$$\n",
    "\n",
    "i.e., the mean $\\mu_i$ varies depending on area size, the coefficient $a$ and $b$ as well as the noise $\\sigma$, assumed to be the same across subjects.\n",
    "\n",
    "To finally define our Bayesian model, we specify priors for all the parameters we want to analyze:\n",
    "\n",
    "\\begin{align}\n",
    "p(a) &= \\mathcal{N}(4.5, 1.2)\\tag{Based on our previous modeling of `weight`}\\\\\n",
    "p(b) &= \\mathcal{N}(3, 1)\\\\\n",
    "p(\\sigma) &= \\mathcal{U}(0, 2)\n",
    "\\end{align}\n",
    "\n",
    "<u>Centering the data:</u>\n",
    "\n",
    "We center the `area` variable to avoid scale effects."
   ]
  },
  {
   "cell_type": "code",
   "execution_count": 46,
   "metadata": {},
   "outputs": [],
   "source": [
    "# Centers the data\n",
    "mean_area = data[\"area\"].mean()\n",
    "centered_data = data.copy()\n",
    "centered_data[\"area\"] -= mean_area"
   ]
  },
  {
   "cell_type": "markdown",
   "metadata": {},
   "source": [
    "<u>Performing the Laplace regression:</u>"
   ]
  },
  {
   "cell_type": "code",
   "execution_count": 47,
   "metadata": {},
   "outputs": [
    {
     "name": "stderr",
     "output_type": "stream",
     "text": [
      "/home/quentin/anaconda3/lib/python3.8/site-packages/scipy/optimize/_numdiff.py:557: RuntimeWarning: invalid value encountered in subtract\n",
      "  df = fun(x) - f0\n"
     ]
    },
    {
     "name": "stdout",
     "output_type": "stream",
     "text": [
      "      fun: 190.74535737662512\n",
      " hess_inv: array([[ 1.35398403e-02, -1.16409768e-03, -5.05995749e-05],\n",
      "       [-1.16409768e-03,  1.46983527e-02,  4.83439652e-04],\n",
      "       [-5.05995749e-05,  4.83439652e-04,  6.19020077e-03]])\n",
      "      jac: array([ 7.62939453e-06, -3.81469727e-06,  5.72204590e-06])\n",
      "  message: 'Optimization terminated successfully.'\n",
      "     nfev: 71\n",
      "      nit: 12\n",
      "     njev: 17\n",
      "   status: 0\n",
      "  success: True\n",
      "        x: array([4.5294104 , 0.06601126, 1.17929855])\n"
     ]
    }
   ],
   "source": [
    "# Declares the regression expression\n",
    "expression = \"weight ~ area\"\n",
    "\n",
    "# Declares the likelihood\n",
    "likelihood = \"gaussian\"\n",
    "\n",
    "# Defines the prior with hyperparameters \n",
    "prior_a_mean = 4.5; prior_a_sigma = 1.2\n",
    "prior_a = [\"gaussian\", [prior_a_mean, prior_a_sigma]]\n",
    "\n",
    "prior_b_mean = 3.; prior_b_sigma = 1.\n",
    "prior_b = [\"gaussian\", [prior_b_mean, prior_b_sigma]]\n",
    "\n",
    "sigma_inf = 0.; sigma_sup = 2.\n",
    "prior_sigma_unif = [sigma_inf, sigma_sup]\n",
    "prior_sigma = [\"uniform\", prior_sigma_unif]\n",
    "\n",
    "priors = [prior_a, prior_b, prior_sigma]\n",
    "\n",
    "# Performs the optimization\n",
    "solution = laplace_solution_regression(expression, centered_data, likelihood, priors)"
   ]
  },
  {
   "cell_type": "markdown",
   "metadata": {},
   "source": [
    "<u>Summarizing the computed statistics:</u>"
   ]
  },
  {
   "cell_type": "code",
   "execution_count": 48,
   "metadata": {},
   "outputs": [
    {
     "name": "stdout",
     "output_type": "stream",
     "text": [
      "           mean        SD      7.5%     92.5%\n",
      "a      4.530046  0.110548  4.371102  4.691467\n",
      "b      0.068850  0.120915 -0.112109  0.241001\n",
      "sigma  1.180026  0.075632  1.069293  1.285985\n"
     ]
    }
   ],
   "source": [
    "# Computes posterior samples\n",
    "posterior_means, _, posterior_samples = summarize(solution)"
   ]
  },
  {
   "cell_type": "markdown",
   "metadata": {},
   "source": [
    "<u>Plotting the results with sampling from the posterior:</u>"
   ]
  },
  {
   "cell_type": "code",
   "execution_count": 49,
   "metadata": {},
   "outputs": [
    {
     "data": {
      "image/png": "[encoded data removed]",
      "text/plain": [
       "<Figure size 432x288 with 1 Axes>"
      ]
     },
     "metadata": {
      "needs_background": "light"
     },
     "output_type": "display_data"
    }
   ],
   "source": [
    "sampling_from_posterior(\n",
    "    centered_data, mean_area, \n",
    "    \"weight\", \"area\", \n",
    "    posterior_samples, posterior_means,\n",
    "    \"Weight vs Area\", \"Area\", \"Weight\"\n",
    ")"
   ]
  },
  {
   "cell_type": "markdown",
   "metadata": {},
   "source": [
    "#### 4. Performing a regression with `weight` as a linear function of `groupsize`\n",
    "\n",
    "We reproduce the same workflow as with the variable `area` but swapping the prior distribution parameters of the slope $b$ such that:\n",
    "\n",
    "$$p(b)=\\mathcal{N}(4., 4.)$$\n",
    "\n",
    "<u>Centering the data:</u>\n",
    "\n",
    "We center the `groupsize` variable to avoid scale effects."
   ]
  },
  {
   "cell_type": "code",
   "execution_count": 50,
   "metadata": {},
   "outputs": [],
   "source": [
    "# Centers the data\n",
    "mean_groupsize = data[\"groupsize\"].mean()\n",
    "centered_data[\"groupsize\"] -= mean_groupsize"
   ]
  },
  {
   "cell_type": "markdown",
   "metadata": {},
   "source": [
    "<u>Performing the Laplace regression:</u>"
   ]
  },
  {
   "cell_type": "code",
   "execution_count": 51,
   "metadata": {},
   "outputs": [
    {
     "name": "stderr",
     "output_type": "stream",
     "text": [
      "/home/quentin/anaconda3/lib/python3.8/site-packages/scipy/optimize/_numdiff.py:557: RuntimeWarning: invalid value encountered in subtract\n",
      "  df = fun(x) - f0\n"
     ]
    },
    {
     "name": "stdout",
     "output_type": "stream",
     "text": [
      "      fun: 186.79724929746104\n",
      " hess_inv: array([[ 9.03579495e-03,  2.43819922e-04, -1.41499033e-05],\n",
      "       [ 2.43819922e-04,  4.92968664e-03, -1.86268569e-05],\n",
      "       [-1.41499033e-05, -1.86268569e-05,  5.70726393e-03]])\n",
      "      jac: array([ 0.00000000e+00, -3.81469727e-06,  0.00000000e+00])\n",
      "  message: 'Optimization terminated successfully.'\n",
      "     nfev: 103\n",
      "      nit: 20\n",
      "     njev: 25\n",
      "   status: 0\n",
      "  success: True\n",
      "        x: array([ 4.52941676, -0.12261771,  1.16353128])\n"
     ]
    }
   ],
   "source": [
    "# Declares the regression expression\n",
    "expression = \"weight ~ groupsize\"\n",
    "\n",
    "# Declares the likelihood\n",
    "likelihood = \"gaussian\"\n",
    "\n",
    "# Defines the prior with hyperparameters \n",
    "prior_a_mean = 4.5; prior_a_sigma = 1.2\n",
    "prior_a = [\"gaussian\", [prior_a_mean, prior_a_sigma]]\n",
    "\n",
    "prior_b_mean = 4.; prior_b_sigma = 4.\n",
    "prior_b = [\"gaussian\", [prior_b_mean, prior_b_sigma]]\n",
    "\n",
    "sigma_inf = 0.; sigma_sup = 2.\n",
    "prior_sigma_unif = [sigma_inf, sigma_sup]\n",
    "prior_sigma = [\"uniform\", prior_sigma_unif]\n",
    "\n",
    "priors = [prior_a, prior_b, prior_sigma]\n",
    "\n",
    "# Performs the optimization\n",
    "solution = laplace_solution_regression(expression, centered_data, likelihood, priors)"
   ]
  },
  {
   "cell_type": "markdown",
   "metadata": {},
   "source": [
    "<u>Summarizing the computed statistics:</u>"
   ]
  },
  {
   "cell_type": "code",
   "execution_count": 53,
   "metadata": {},
   "outputs": [
    {
     "name": "stdout",
     "output_type": "stream",
     "text": [
      "           mean        SD      7.5%     92.5%\n",
      "a      4.529954  0.093056  4.399226  4.663878\n",
      "b     -0.120223  0.067902 -0.218295 -0.020227\n",
      "sigma  1.166245  0.073890  1.055683  1.270529\n"
     ]
    }
   ],
   "source": [
    "# Computes posterior samples\n",
    "posterior_means, _, posterior_samples = summarize(solution)"
   ]
  },
  {
   "cell_type": "markdown",
   "metadata": {},
   "source": [
    "<u>Plotting the results with sampling from the posterior:</u>"
   ]
  },
  {
   "cell_type": "code",
   "execution_count": 54,
   "metadata": {},
   "outputs": [
    {
     "data": {
      "image/png": "[encoded data removed]",
      "text/plain": [
       "<Figure size 432x288 with 1 Axes>"
      ]
     },
     "metadata": {
      "needs_background": "light"
     },
     "output_type": "display_data"
    }
   ],
   "source": [
    "sampling_from_posterior(\n",
    "    centered_data, mean_groupsize, \n",
    "    \"weight\", \"groupsize\", \n",
    "    posterior_samples, posterior_means,\n",
    "    \"Weight vs Groupsize\", \"Groupsize\", \"Weight\"\n",
    ")"
   ]
  },
  {
   "cell_type": "markdown",
   "metadata": {},
   "source": [
    "#### 5. Comment on the two regressions\n",
    "\n",
    "The relationship between the dependent variable `weight` and the covariates `groupsize` and `area` are weakly linear with respective negative and positive relationships. Comparatively, `groupsize` seems to have a relative stronger influence than `area`.\n",
    "\n",
    "As such, the relationships seems to be highly dependent on our prior belief, as we can achieve a near-flat if not flat (i.e. non existent) relationship by possibly tweaking the prior distribution of the slope $b$."
   ]
  },
  {
   "cell_type": "markdown",
   "metadata": {},
   "source": [
    "#### 6. Performing a multivariate model"
   ]
  },
  {
   "cell_type": "code",
   "execution_count": 60,
   "metadata": {
    "scrolled": false
   },
   "outputs": [
    {
     "name": "stderr",
     "output_type": "stream",
     "text": [
      "/home/quentin/anaconda3/lib/python3.8/site-packages/scipy/optimize/_numdiff.py:557: RuntimeWarning: invalid value encountered in subtract\n",
      "  df = fun(x) - f0\n",
      "/home/quentin/anaconda3/lib/python3.8/site-packages/scipy/optimize/_numdiff.py:557: RuntimeWarning: invalid value encountered in subtract\n",
      "  df = fun(x) - f0\n",
      "/home/quentin/anaconda3/lib/python3.8/site-packages/scipy/optimize/_numdiff.py:557: RuntimeWarning: invalid value encountered in subtract\n",
      "  df = fun(x) - f0\n"
     ]
    },
    {
     "name": "stdout",
     "output_type": "stream",
     "text": [
      "      fun: 189.91350812443267\n",
      " hess_inv: array([[ 1.07086380e-01, -2.79774822e-02, -1.66194277e-03,\n",
      "        -5.55457125e-04],\n",
      "       [-2.79774822e-02,  3.04918233e-02, -1.57627182e-02,\n",
      "         2.30921467e-04],\n",
      "       [-1.66194277e-03, -1.57627182e-02,  1.18157434e-02,\n",
      "        -4.89023423e-05],\n",
      "       [-5.55457125e-04,  2.30921467e-04, -4.89023423e-05,\n",
      "         5.30610549e-03]])\n",
      "      jac: array([1.90734863e-06, 7.62939453e-06, 9.53674316e-06, 3.81469727e-06])\n",
      "  message: 'Optimization terminated successfully.'\n",
      "     nfev: 152\n",
      "      nit: 17\n",
      "     njev: 29\n",
      "   status: 0\n",
      "  success: True\n",
      "        x: array([ 4.36834083,  0.64041422, -0.42976624,  1.11871406])\n"
     ]
    }
   ],
   "source": [
    "expr = 'weight ~ area + groupsize'\n",
    "\n",
    "# Initializing the likelihood\n",
    "likelihood = 'gaussian'\n",
    "\n",
    "# Defining the prior with hyperparameters \n",
    "prior_a_mean = 4.5\n",
    "prior_a_sigma = 1.2\n",
    "prior_a = ['gaussian', [prior_a_mean, prior_a_sigma]]\n",
    "\n",
    "prior_b_mean = 3.\n",
    "prior_b_sigma = 1.\n",
    "prior_b = ['gaussian', [prior_b_mean, prior_b_sigma]]\n",
    "\n",
    "prior_b2_mean = 4.\n",
    "prior_b2_sigma = 4.\n",
    "prior_b2 = ['gaussian', [prior_b_mean, prior_b_sigma]]\n",
    "\n",
    "sigma_inf = 0.\n",
    "sigma_sup = 2.\n",
    "prior_sigma_unif = [sigma_inf, sigma_sup]\n",
    "prior_sigma = ['uniform', prior_sigma_unif]\n",
    "\n",
    "priors = [prior_a, prior_b, prior_b2, prior_sigma]\n",
    "\n",
    "\n",
    "solution_regression_quadratic = laplace_solution_regression(expr, data, likelihood, priors)"
   ]
  },
  {
   "cell_type": "code",
   "execution_count": 61,
   "metadata": {},
   "outputs": [
    {
     "name": "stdout",
     "output_type": "stream",
     "text": [
      "           mean        SD      7.5%     92.5%\n",
      "a      4.352973  0.333379  3.859514  4.833750\n",
      "b      0.651978  0.177842  0.399987  0.912193\n",
      "b2    -0.435760  0.110967 -0.597772 -0.276612\n",
      "sigma  1.116174  0.073476  1.012937  1.220648\n"
     ]
    }
   ],
   "source": [
    "# Computing posterior samples\n",
    "posterior_samples_quadratic = multivariate_normal.rvs(solution_regression_quadratic[0], solution_regression_quadratic[1], size = 1000)\n",
    "\n",
    "# Computing summary stats\n",
    "# 85% confidence interval\n",
    "post_quantiles = np.quantile(posterior_samples_quadratic, q = [0.075, 0.925], axis = 0)\n",
    "# sd\n",
    "post_sd = np.std(posterior_samples_quadratic, axis = 0)\n",
    "# mean\n",
    "post_mean = np.mean(posterior_samples_quadratic, axis = 0)\n",
    "\n",
    "summary_stats = [post_mean, post_sd, post_quantiles[0,:],post_quantiles[1,:]]\n",
    "\n",
    "summary_stats = pd.DataFrame(summary_stats).transpose()\n",
    "summary_stats.columns = ['mean', 'SD', '7.5%', '92.5%']\n",
    "summary_stats.rename(index={0:'a',1:'b', 2:'b2', 3:'sigma'}, inplace=True)\n",
    "print(summary_stats)"
   ]
  },
  {
   "cell_type": "code",
   "execution_count": 64,
   "metadata": {},
   "outputs": [
    {
     "data": {
      "image/png": "[encoded data removed]",
      "text/plain": [
       "<Figure size 432x288 with 1 Axes>"
      ]
     },
     "metadata": {
      "needs_background": "light"
     },
     "output_type": "display_data"
    }
   ],
   "source": [
    "#plotting the average results \n",
    "x_range = np.linspace(min(data[\"area\"]), max(data[\"area\"]))\n",
    "mean_prediction = post_mean[0] + post_mean[1] * x_range + post_mean[2] * x_range**2\n",
    "\n",
    "plt.plot(x_range + mean_area , mean_prediction, lw = 2, color = 'black')\n",
    "plt.scatter(data[\"area\"] + mean_area, data[\"weight\"])\n",
    "plt.title('Weight vs Area')\n",
    "plt.ylabel('Weight')\n",
    "plt.xlabel('Area')\n",
    "\n",
    "prediction_range = []\n",
    "#sampling from the posterior to get a predictive interval\n",
    "for x_ in (x_range):\n",
    "    prediction_range.append(posterior_samples_quadratic[:500,0] + posterior_samples_quadratic[:500,1] * x_ + posterior_samples_quadratic[:500,2] * x_**2)  \n",
    "\n",
    "prediction_range_noise = []\n",
    "\n",
    "#sampling from the posterior to get a predictive interval\n",
    "for x_ in (x_range):\n",
    "    pred_mean_data = posterior_samples_quadratic[:500,0] + posterior_samples_quadratic[:500,1] * x_ + posterior_samples_quadratic[:500,2] * x_**2\n",
    "    prediction_range_noise.append(norm.rvs( pred_mean_data,  posterior_samples_quadratic[:500,3]))  \n",
    "    \n",
    "# Plotting the uncertainty\n",
    "for i,x_ in enumerate(x_range): \n",
    "    plt.scatter(np.repeat(x_,500) + mean_area, prediction_range_noise[i], alpha = 0.05, color = 'grey')\n",
    "for i,x_ in enumerate(x_range): \n",
    "    plt.scatter(np.repeat(x_,500) + mean_area, prediction_range[i], alpha = 0.05, color = 'green')\n",
    "\n",
    "\n",
    "plt.show()"
   ]
  },
  {
   "cell_type": "markdown",
   "metadata": {},
   "source": [
    "#### 6. Conclusion"
   ]
  },
  {
   "cell_type": "markdown",
   "metadata": {},
   "source": [
    "<hr>\n",
    "<hr>\n",
    "<hr>\n",
    "\n",
    "## Exercise 5"
   ]
  },
  {
   "cell_type": "markdown",
   "metadata": {},
   "source": [
    "Consider the diabetes dataset"
   ]
  },
  {
   "cell_type": "code",
   "execution_count": null,
   "metadata": {},
   "outputs": [],
   "source": [
    "dataset = datasets.load_diabetes(return_X_y=False)\n",
    "print(dataset.DESCR)"
   ]
  },
  {
   "cell_type": "code",
   "execution_count": null,
   "metadata": {},
   "outputs": [],
   "source": [
    "# Define the feature matrix\n",
    "data = dataset.data\n",
    "# Define the target\n",
    "target = dataset.target"
   ]
  },
  {
   "cell_type": "markdown",
   "metadata": {},
   "source": [
    "Investigate the relationship between age (data[:,0]) and Average blood pressure (data[:,3]). \n",
    "By using the WAIC score seen during lesson, can you verify which hypothesis is better supported by the data?\n",
    "\n",
    "- there is no relationship (constant)\n",
    "- the relationship is linear\n",
    "- the relationship is quadratic\n",
    "- the relationship is cubic\n",
    "- the relationship is polynomial of order 4"
   ]
  },
  {
   "cell_type": "markdown",
   "metadata": {},
   "source": [
    "<hr>\n",
    "<hr>\n",
    "<hr>\n",
    "\n",
    "## Exercise 6"
   ]
  },
  {
   "cell_type": "markdown",
   "metadata": {},
   "source": [
    "Which model would you support between the following:\n",
    "\n",
    "- target depends on _Age_\n",
    "- target depends on _Age_ and _Sex_\n",
    "- target depends on _Age_ and _Body mass index_ \n",
    "- target depends on _Age_ and _Body mass index_ and _Average blood pressure_\n",
    "- target depends on _Age_ and _Sex_ and _Body mass index_ \n",
    "- target depends on _Age_ and _Sex_ and _Body mass index_ and _Average blood pressure_\n",
    "- target depends on  _Body mass index_ and _Average blood pressure_\n",
    "\n"
   ]
  },
  {
   "cell_type": "code",
   "execution_count": null,
   "metadata": {},
   "outputs": [],
   "source": []
  }
 ],
 "metadata": {
  "kernelspec": {
   "display_name": "Python 3",
   "language": "python",
   "name": "python3"
  },
  "language_info": {
   "codemirror_mode": {
    "name": "ipython",
    "version": 3
   },
   "file_extension": ".py",
   "mimetype": "text/x-python",
   "name": "python",
   "nbconvert_exporter": "python",
   "pygments_lexer": "ipython3",
   "version": "3.8.8"
  }
 },
 "nbformat": 4,
 "nbformat_minor": 2
}
