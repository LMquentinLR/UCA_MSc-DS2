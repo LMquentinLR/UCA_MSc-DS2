{
 "cells": [
  {
   "cell_type": "markdown",
   "metadata": {},
   "source": [
    "# Bayesian Learning Assignment 2\n",
    "\n",
    "MSc DSAI Quentin Le Roux"
   ]
  },
  {
   "cell_type": "markdown",
   "metadata": {},
   "source": [
    "<hr>\n",
    "<hr>\n",
    "<hr>"
   ]
  },
  {
   "cell_type": "markdown",
   "metadata": {},
   "source": [
    "## Library Imports"
   ]
  },
  {
   "cell_type": "code",
   "execution_count": 1,
   "metadata": {},
   "outputs": [],
   "source": [
    "import matplotlib.pyplot as plt\n",
    "import numpy as np\n",
    "import pandas as pd\n",
    "import seaborn as sns\n",
    "\n",
    "from scipy.optimize import minimize\n",
    "from scipy.special import logsumexp\n",
    "from scipy.stats import norm, uniform, binom\n",
    "from scipy.stats import multivariate_normal\n",
    "from sklearn import datasets "
   ]
  },
  {
   "cell_type": "markdown",
   "metadata": {},
   "source": [
    "<hr>\n",
    "\n",
    "## Function declarations\n",
    "\n",
    "**Note**: \n",
    "- *Functions are listed per exercise in alphabetical orders*\n",
    "- *Functions are provided with Type Hinting*\n",
    "\n",
    "### Exercise 1 functions"
   ]
  },
  {
   "cell_type": "code",
   "execution_count": 2,
   "metadata": {},
   "outputs": [],
   "source": [
    "def beta_binomial_distribution(\n",
    "    n: int, y: int, alpha: int, beta: int\n",
    ") -> np.array:\n",
    "    \"\"\"\n",
    "    Returns the beta-binomial distribution over the space of \n",
    "    parameter theta, given the parameters alpha, beta, y, and n.\n",
    "    \"\"\"\n",
    "    # Declares a linear space for the parameter theta\n",
    "    theta_space  = np.linspace(0,1)\n",
    "    # Computes and return the distribution\n",
    "    distribution = theta_space**(y+alpha-1) * \\\n",
    "                   (1-theta_space)**(n+beta-y-1)\n",
    "    return theta_space, distribution\n",
    "\n",
    "def beta_binomial_lapproximation(\n",
    "    n: int, y: int, alpha: int, beta: int\n",
    ") -> np.array:\n",
    "    \"\"\"\n",
    "    Returns the Laplace approximation of the beta binomial\n",
    "    distribution (a Gaussian distribution) with parameters\n",
    "    derived from the original distribution's parameters alpha,\n",
    "    beta, y, and n.\n",
    "    \"\"\"\n",
    "    theta_max = (y+alpha-1)/(n+alpha+beta-2)\n",
    "    hessian   = -(y+alpha-1)/(theta_max**2) - \\\n",
    "                (n+beta-y-1)/((1-theta_max)**2)\n",
    "    variance  = -1/hessian\n",
    "    return norm(theta_max, np.sqrt(variance))"
   ]
  },
  {
   "cell_type": "markdown",
   "metadata": {},
   "source": [
    "### Exercise 4 functions\n",
    "\n",
    "*Some functions will be reused in exercise 5*."
   ]
  },
  {
   "cell_type": "code",
   "execution_count": 3,
   "metadata": {},
   "outputs": [],
   "source": [
    "def evaluate_log_post(\n",
    "    params: list, \n",
    "    other_params: list, \n",
    "    data: pd.Series, \n",
    "    likelihood: str, \n",
    "    priors: list\n",
    ") -> float:\n",
    "    \"\"\"\n",
    "    Optimization function to be used for performing a Laplace\n",
    "    approximation.\n",
    "    \"\"\"\n",
    "    # Retrieves the distribution function (scipy implementation)\n",
    "    models = {\n",
    "        \"gaussian\":norm, \n",
    "        \"uniform\":uniform,\n",
    "        \"binomial\":binom,\n",
    "        \n",
    "    }\n",
    "    #Computes the log-priors\n",
    "    log_prior = 0 \n",
    "    for i, mod in enumerate(priors):\n",
    "        log_prior += models[mod[0]].logpdf(params[i], *mod[1]) \n",
    "    # Guarantees positive variance in the Gaussian case\n",
    "    if likelihood == \"gaussian\": params[-1] = np.abs(params[-1])\n",
    "    # Checks for the other set of parameters\n",
    "    if len(other_params) > 0: params = (params, other_params)\n",
    "    # Computes the log-likelihood\n",
    "    log_likelihood = np.sum([models[likelihood].logpdf(point, *params) \n",
    "                             for point in data])\n",
    "    return - (log_likelihood + log_prior)\n",
    "\n",
    "def evaluate_log_post_regression(\n",
    "    params: list, \n",
    "    var_names: list, \n",
    "    data: pd.Series, \n",
    "    likelihood: str, \n",
    "    priors: list\n",
    ") -> float:\n",
    "    \"\"\"\n",
    "    Optimization function to be used for performing a Laplace approximation\n",
    "    as part of a linear regression process.\n",
    "    \"\"\"\n",
    "    # Retrieves the distribution function (scipy implementation)\n",
    "    models = {\n",
    "        \"gaussian\":norm, \n",
    "        \"uniform\":uniform,\n",
    "        \"binomial\":binom\n",
    "    }\n",
    "    #Computes the log-priors\n",
    "    log_prior = 0 \n",
    "    for i, mod in enumerate(priors):\n",
    "        log_prior += models[mod[0]].logpdf(params[i], *mod[1]) \n",
    "    #Evaluating expression\n",
    "    target, predictors = var_names[0], var_names[1]\n",
    "    # Computes the Gaussian parameters\n",
    "    mu = np.ones(len(data[predictors[0]])) * params[0]\n",
    "    for i in range(len(predictors)):\n",
    "        mu += params[i+1] * data[predictors[i]].values\n",
    "    sigma = np.abs(params[-1])\n",
    "    # Computes the log-likelihood\n",
    "    t = data[target].values\n",
    "    N = len(t)\n",
    "    log_lik = np.sum([norm.logpdf(t[i], mu[i], sigma) for i in range(N)])\n",
    "    return -(log_lik + log_prior)\n",
    "\n",
    "def laplace_solution(\n",
    "    params:list,\n",
    "    other_params: list,\n",
    "    data: pd.Series,\n",
    "    likelihood: str,\n",
    "    priors:list\n",
    ") -> list:\n",
    "    \"\"\"\n",
    "    Computes a Laplace approximation of a distribution given sets of\n",
    "    prior and likelihood parameters.\n",
    "    \"\"\"    \n",
    "    # Performs an optimization over a set of parameters given an\n",
    "    # evaluation function.\n",
    "    minimum =  minimize(\n",
    "        evaluate_log_post, params,  \n",
    "        args = (other_params, data, likelihood, priors) #, method = \"BFGS\"\n",
    "    )\n",
    "    print(minimum)\n",
    "    return [minimum.x, minimum.hess_inv]\n",
    "\n",
    "def laplace_solution_regression(\n",
    "    expression: str, \n",
    "    data: pd.DataFrame, \n",
    "    likelihood: str, \n",
    "    priors: list\n",
    ") -> list:\n",
    "    \"\"\"\n",
    "    Computes a Laplace approximation for a regression given sets\n",
    "    of priors and likelihood parameters\n",
    "    \"\"\"\n",
    "    # Retrieves the distribution function (scipy implementation)\n",
    "    models = {\n",
    "        \"gaussian\": norm, \n",
    "        \"uniform\": uniform,\n",
    "        \"binomial\": binom\n",
    "    }\n",
    "    # Parses the linear regression expression\n",
    "    collapsed_expression = expression.replace(\" \", \"\")\n",
    "    target, independent = collapsed_expression.split(\"~\") \n",
    "    independent = independent.split(\"+\")\n",
    "    var_names = [target, independent]\n",
    "    # Computes the random variates for each prior\n",
    "    params = [models[priors[i][0]].rvs(*priors[i][1]) \n",
    "              for i in range(len(priors))]\n",
    "    # Performs an optimization over a set of parameters given an\n",
    "    # evaluation function.\n",
    "    minimum =  minimize(\n",
    "        evaluate_log_post_regression, params, \n",
    "        args = (var_names, data, likelihood, priors) #, method = \"BFGS\"\n",
    "    )\n",
    "    print(minimum, \"\\n\")\n",
    "    return [minimum.x, minimum.hess_inv]\n",
    "\n",
    "def plot_relationship(\n",
    "    x: pd.Series, y: pd.Series,\n",
    "    xlabel: str, ylabel:str,\n",
    "    title: str\n",
    ") -> None:\n",
    "    \"\"\"\n",
    "    Plots the 2D plot of the relationship between two variables.\n",
    "    \"\"\"\n",
    "    plt.figure()\n",
    "    plt.scatter(x, y)\n",
    "    plt.title(title)\n",
    "    plt.xlabel(xlabel)\n",
    "    plt.ylabel(ylabel)\n",
    "    plt.show\n",
    "\n",
    "def plot_variation(\n",
    "    data: pd.DataFrame,\n",
    "    depvar_name: str,\n",
    "    covar_mean: list,\n",
    "    covar_name: str,\n",
    "    plot_title: str,\n",
    "    plot_xlabel: str,\n",
    "    plot_ylabel: str,\n",
    "    posterior_samples: np.ndarray,\n",
    "    posterior_means: np.ndarray,\n",
    "    higher_order: bool = False,\n",
    "    max_order: int = 1\n",
    "):\n",
    "    \"\"\"\n",
    "    Plots the predictive regression of a dataset.\n",
    "    \"\"\"\n",
    "    # Computes the range of the plot area\n",
    "    x_range = np.linspace(min(data[covar_name]), max(data[covar_name]))\n",
    "    mean_prediction = posterior_means[0] + \\\n",
    "                      np.sum([posterior_means[i] * x_range**(i if higher_order else 1) \n",
    "                              for i in range(1, max_order+1)],\n",
    "                             axis=0)\n",
    "    # Samples from a posterior distribution to obtain a predictive interval for\n",
    "    prediction_range = [\n",
    "        posterior_samples[:,0] + \\\n",
    "        np.sum([posterior_samples[:,i] * _x**(i if higher_order else 1)\n",
    "        for i in range(1, max_order+1)], axis=0)\n",
    "        for _x in x_range\n",
    "    ]\n",
    "    prediction_range_noise = [\n",
    "        norm.rvs(prediction, posterior_samples[:,-1]) \n",
    "        for prediction in prediction_range\n",
    "    ]\n",
    "    # Plots the base of the counterfactual graph\n",
    "    n = posterior_samples.shape[0]\n",
    "    plt.plot(x_range + covar_mean, mean_prediction, lw=2, color=\"black\")\n",
    "    plt.scatter(data[covar_name] + covar_mean, data[depvar_name])\n",
    "    plt.title(plot_title)\n",
    "    plt.xlabel(plot_xlabel)\n",
    "    plt.ylabel(plot_ylabel)\n",
    "    # Plotting the uncertainty\n",
    "    for i, _x in enumerate(x_range): \n",
    "        plt.scatter(np.repeat(_x,n) + covar_mean, prediction_range_noise[i], alpha = 0.05, color = 'grey')\n",
    "    for i, _x in enumerate(x_range): \n",
    "        plt.scatter(np.repeat(_x,n) + covar_mean, prediction_range[i], alpha = 0.05, color = 'green')\n",
    "    \n",
    "def posterior_sampling_laplace(\n",
    "    solution: list, \n",
    "    n_samples: int\n",
    ") -> list:\n",
    "    \"\"\"\n",
    "    Computes a sampling of a posterior distribution\n",
    "    yielded from a Laplace approximation.\n",
    "    \"\"\"\n",
    "    posterior_samples = multivariate_normal.rvs(\n",
    "        solution[0], solution[1], size = n_samples\n",
    "    )\n",
    "    return posterior_samples\n",
    "    \n",
    "def sampling_from_posterior(\n",
    "    data: pd.DataFrame, \n",
    "    mean_covariate: float, \n",
    "    depvar_name: str, \n",
    "    covar_name: str, \n",
    "    posterior_samples: multivariate_normal.rvs,\n",
    "    posterior_means: list,\n",
    "    plot_title: str,\n",
    "    plot_xlabel: str,\n",
    "    plot_ylabel: str\n",
    ") -> None:\n",
    "    \"\"\"\n",
    "    Samples datapoints from a posterior distribution and plots the resulting\n",
    "    distribution.\n",
    "    \"\"\"\n",
    "    # Samples from the posterior\n",
    "    x_range = np.linspace(min(data[covar_name]), max(data[covar_name]))\n",
    "    mean_prediction = posterior_means[0] + posterior_means[1] * x_range\n",
    "    for i in range(1000):\n",
    "        prediction = posterior_samples[i,0] + posterior_samples[i,1] * x_range\n",
    "        plt.plot(x_range + mean_covariate, prediction, lw = 0.05, color = 'grey')\n",
    "    # Plots the resulting plot\n",
    "    plt.scatter(data[covar_name] + mean_covariate, data[depvar_name])\n",
    "    plt.plot(x_range + mean_covariate, mean_prediction, lw = 2, color = 'black')\n",
    "    plt.title(plot_title)\n",
    "    plt.ylabel(plot_ylabel)\n",
    "    plt.xlabel(plot_xlabel)\n",
    "    plt.show()\n",
    "\n",
    "def summarize(\n",
    "    solution: list, \n",
    "    names: dict={0:'a',1:'b', 2:'sigma'}, \n",
    "    plot: bool=False\n",
    ") -> tuple:\n",
    "    \"\"\"\n",
    "    Summarizes the regression statistics obtained via a\n",
    "    Laplace approximation.\n",
    "    \"\"\"\n",
    "    # Computes posterior samples\n",
    "    posterior_samples = posterior_sampling_laplace(\n",
    "        solution, 5000\n",
    "    )\n",
    "    #### Computes summary stats\n",
    "    #    85% confidence interval\n",
    "    post_quantiles = np.quantile(posterior_samples, q = [0.075, 0.925], axis = 0)\n",
    "    #    standard deviation\n",
    "    post_sd = np.std(posterior_samples, axis = 0)\n",
    "    #     mean\n",
    "    post_mean = np.mean(posterior_samples, axis = 0)\n",
    "    # Prints the results\n",
    "    summary_stats = [post_mean, post_sd, post_quantiles[0,:],post_quantiles[1,:]]\n",
    "    summary_stats = pd.DataFrame(summary_stats).transpose()\n",
    "    summary_stats.columns = ['mean', 'SD', '7.5%', '92.5%']\n",
    "    summary_stats.rename(index=names, inplace=True)\n",
    "    print(summary_stats, \"\\n\")\n",
    "    # If requested, prints the plot of the posterior data\n",
    "    if plot:\n",
    "        boxes = []\n",
    "        for i in range(len(post_mean)):\n",
    "            boxes.append(posterior_samples[:,i])\n",
    "        plt.boxplot(boxes,vert=0)\n",
    "        plt.yticks(range(len(post_mean)+1)[1:], names)\n",
    "        plt.axvline(x=0, color = 'black', alpha = 0.1)\n",
    "        plt.show()\n",
    "    # Returns the posterior samples\n",
    "    return post_mean, post_sd, posterior_samples"
   ]
  },
  {
   "cell_type": "markdown",
   "metadata": {},
   "source": [
    "### Exercise 5 functions\n",
    "\n",
    "*Exercise 5 reuses functions from exercise 4*."
   ]
  },
  {
   "cell_type": "code",
   "execution_count": 4,
   "metadata": {},
   "outputs": [],
   "source": [
    "def compute_WAIC(\n",
    "    depvar_name: str,\n",
    "    covar_name: str,\n",
    "    max_order: int, \n",
    "    n_sampling: int,\n",
    "    posterior_samples: list, \n",
    "    data: pd.DataFrame\n",
    ") -> tuple:\n",
    "    \"\"\"\n",
    "    Computes the WAIC metric for a set of regression model, given\n",
    "    an order (linear, quadratic, cubic or fourth-order), posterior \n",
    "    sampling parameters and a dataset.\n",
    "    \"\"\"\n",
    "    # Declares the pointwise predictive distribution and widely \n",
    "    # applicable information criterion objects to record\n",
    "    lppd = []\n",
    "    p_waic = []\n",
    "    # Computes the log-probability for each datapoint of the \n",
    "    # dependent variable\n",
    "    for i, target in enumerate(data[depvar_name]):\n",
    "        # declares a lambda function computing the mean of the \n",
    "        # log pdf\n",
    "        prediction = lambda s, order: posterior_samples[s, 0] + \\\n",
    "                     np.sum([posterior_samples[s,o] * data[f\"{covar_name}{o}\"][i]\n",
    "                             for o in range(1, order+1)], axis = 0)\n",
    "        # Computes the log-proba of the datapoint given a sampling size\n",
    "        log_p = [norm.logpdf(target, loc=prediction(s, max_order), \n",
    "                             scale=posterior_samples[s, -1]) \n",
    "                 for s in range(n_sampling)]\n",
    "        # Appends the results\n",
    "        lppd.append(logsumexp(log_p) - np.log(len(log_p)))\n",
    "        p_waic.append(np.var(log_p))\n",
    "    return lppd, p_waic\n",
    "\n",
    "def plot_boxplot_regression(\n",
    "    solution: list,\n",
    "    depvar_name: str,\n",
    "    plot_title: str\n",
    "):\n",
    "    \"\"\"\n",
    "    Plots the confidence interval of the b (slope) parameter\n",
    "    within an univariate regression between two variables. It\n",
    "    allows to see if the confidence interval overlaps or falls\n",
    "    away from zero.\n",
    "    \"\"\"\n",
    "    # Samples the posterior distribution of the slope b as part\n",
    "    # of an univarite regression\n",
    "    boxes = posterior_sampling_laplace(solution, 5000)[:,1]\n",
    "    # Plots the boxplot\n",
    "    plt.figure()\n",
    "    plt.boxplot(boxes,vert=0)\n",
    "    plt.yticks([1], [depvar_name])\n",
    "    plt.axvline(x=0, color = \"black\", alpha = 0.1)\n",
    "    plt.title(plot_title)\n",
    "    plt.show()\n",
    "\n",
    "def plot_posterior_univariate_regression(\n",
    "    solution: list, \n",
    "    x_range: np.ndarray, \n",
    "    data: pd.DataFrame, \n",
    "    center: int = 0, \n",
    "    names: list = ['x','y'], \n",
    "    n_samples: int = 5000\n",
    "):\n",
    "    \"\"\"\n",
    "    Plots the univariate regression plot of a sampling of a\n",
    "    posterior distribution computed with a Laplace approximation.\n",
    "    \"\"\"\n",
    "    # Samples from the posterior distribution obtained via\n",
    "    # Laplace approximation to obtains data statistics\n",
    "    post_samples = posterior_sampling_laplace(solution, n_samples)\n",
    "    degree = post_samples.shape[1] - 1\n",
    "    post_mean = np.mean(post_samples, axis = 0)\n",
    "    mean_prediction = np.zeros(len(x_range)) + \\\n",
    "                      sum([post_mean[i] * x_range**i for i in range(degree)])\n",
    "    # Plots the results of the sampling\n",
    "    plt.plot(x_range + center, mean_prediction, lw = 2, color = 'black')\n",
    "    plt.title('regression result')\n",
    "    plt.ylabel(names[1])\n",
    "    plt.xlabel(names[0])\n",
    "    list_model_samples = []\n",
    "    # Samples from the posterior to get a predictive interval\n",
    "    for n in range(n_samples):\n",
    "        mod_sample = np.zeros(len(x_range))\n",
    "        for i in range(degree):\n",
    "            mod_sample += post_samples[n,i] * x_range**i\n",
    "        list_model_samples.append(mod_sample)\n",
    "    prediction_noise = []\n",
    "    for i,mod_sample in enumerate(list_model_samples):\n",
    "        prediction_noise.append(norm.rvs( mod_sample, post_samples[i,-1]))  \n",
    "    # Plots the uncertainty\n",
    "    for i in range(n_samples): \n",
    "        plt.scatter(x_range + center, prediction_noise[i], alpha = 0.05, color = 'grey')\n",
    "        plt.scatter(x_range + center, list_model_samples[i], alpha = 0.05, color = 'green')\n",
    "    plt.scatter( data[names[0]] + center, data[names[1]])\n",
    "    \n",
    "def summarize_WAIC_statistics(\n",
    "    depvar_name: str,\n",
    "    covar_name: str,\n",
    "    max_order: int, \n",
    "    n_sampling: int,\n",
    "    posterior_samples: list, \n",
    "    data: pd.DataFrame\n",
    ") -> None:\n",
    "    \"\"\"\n",
    "    Computes the summary of the statistic yielded with the WAIC\n",
    "    method: WAIC, pWAIC, dWAIC, weight, SE, d_SE\n",
    "    \"\"\"\n",
    "    # Declares empty variable lists for the WAIC and SE\n",
    "    waic_models = []\n",
    "    waic_vect_models = []\n",
    "    p_waic_models = []\n",
    "    se_models = []\n",
    "    # For each model (with a given order), computes the WAIC and SE\n",
    "    # and stores them\n",
    "    for i in range(1, max_order+1):\n",
    "        lppd, p_waic = compute_WAIC(depvar_name, covar_name, \n",
    "                                    i, n_sampling, \n",
    "                                    posterior_samples[i-1], data)\n",
    "        waic_vect = -2*(np.array(lppd) - np.array(p_waic))\n",
    "        waic = sum(waic_vect)\n",
    "        p_waic = sum(p_waic)\n",
    "        se = np.sqrt(len(data[depvar_name]) * np.var(waic_vect))\n",
    "        # Records the results\n",
    "        waic_models.append(waic)\n",
    "        waic_vect_models.append(waic_vect)\n",
    "        p_waic_models.append(p_waic)\n",
    "        se_models.append(se)\n",
    "    waic_models = np.array(waic_models)\n",
    "    # Declares empty variables lists for the rest of the statistics\n",
    "    d_waic = np.zeros(waic_models.shape)\n",
    "    weights = np.zeros(waic_models.shape)\n",
    "    d_se = np.zeros(waic_models.shape)\n",
    "    # Computes the statistics\n",
    "    for i in range(len(waic_models)):\n",
    "        d_waic[i] = np.abs(waic_models[i] - min(waic_models))\n",
    "    min_index = np.argmin(d_waic)\n",
    "    for i in range(len(waic_models)):\n",
    "        weights[i] = np.exp(-0.5*d_waic[i]) / (np.sum(np.exp(-0.5*d_waic)))\n",
    "        if i != min_index:\n",
    "            d_se[i] = np.sqrt(len(data[depvar_name])* \\\n",
    "                              np.var(waic_vect_models[i] - waic_vect_models[min_index]))\n",
    "        else:\n",
    "            d_se[i] = np.nan\n",
    "    # Prints the summary\n",
    "    summary_stats = [waic_models, p_waic_models, d_waic, weights, se_models, d_se]\n",
    "    summary_stats = pd.DataFrame(summary_stats).transpose()\n",
    "    summary_stats.columns = [\"WAIC\", \"pWAIC\", \"dWAIC\", \"weight\", \"SE\", \"d_SE\"]\n",
    "    summary_stats.index = [f\"model{o}\" for o in range(1, max_order+1)]\n",
    "    print(summary_stats)"
   ]
  },
  {
   "cell_type": "markdown",
   "metadata": {},
   "source": [
    "### Exercise 6 functions"
   ]
  },
  {
   "cell_type": "code",
   "execution_count": 5,
   "metadata": {},
   "outputs": [],
   "source": [
    "def summarize_WAIC_statistics_different_models(\n",
    "    depvar_name: str,\n",
    "    n_sampling: int,\n",
    "    data: pd.DataFrame,\n",
    "    expressions: dict,\n",
    "    solutions: list\n",
    "):\n",
    "    # Declares empty variable lists for the WAIC and SE\n",
    "    waic_models = []\n",
    "    waic_vect_models = []\n",
    "    p_waic_models = []\n",
    "    se_models = []\n",
    "    for i, model in enumerate(expressions):\n",
    "        lppd = []\n",
    "        p_waic = []\n",
    "        # Initializing the likelihood\n",
    "        likelihood = 'gaussian'\n",
    "        posterior_samples = posterior_sampling_laplace(solutions[i], n_sampling)\n",
    "\n",
    "        for t, target in enumerate(data[depvar_name]):\n",
    "            log_p = []\n",
    "            for l in range(n_sampling):\n",
    "                pred = posterior_samples[l,0] \n",
    "                for i, elem in enumerate(list(expressions[model][1].values())[1:-1]):\n",
    "                    pred += posterior_samples[l,i]*data[elem][t]\n",
    "                log_p.append(norm.logpdf(target, loc=pred, scale=posterior_samples[l,-1]))\n",
    "            lppd.append(logsumexp(log_p) - np.log(len(log_p)))\n",
    "            p_waic.append(np.var(log_p))\n",
    "        waic_vect = -2*(np.array(lppd) - np.array(p_waic))\n",
    "        waic = -2*(np.sum(lppd) - np.sum(p_waic))\n",
    "        p_waic = np.sum(p_waic)\n",
    "        se = np.sqrt(len(data[depvar_name])*np.var(waic_vect))\n",
    "        # Records the results\n",
    "        waic_models.append(waic)\n",
    "        waic_vect_models.append(waic_vect)\n",
    "        p_waic_models.append(p_waic)\n",
    "        se_models.append(se)\n",
    "    waic_models = np.array(waic_models)\n",
    "    # Declares empty variables lists for the rest of the statistics\n",
    "    d_waic = np.zeros(waic_models.shape)\n",
    "    weights = np.zeros(waic_models.shape)\n",
    "    d_se = np.zeros(waic_models.shape)\n",
    "    # Computes the statistics\n",
    "    for i in range(len(waic_models)):\n",
    "        d_waic[i] = np.abs(waic_models[i] - min(waic_models))\n",
    "    min_index = np.argmin(d_waic)\n",
    "    for i in range(len(waic_models)):\n",
    "        weights[i] = np.exp(-0.5*d_waic[i]) / (np.sum(np.exp(-0.5*d_waic)))\n",
    "        if i != min_index:\n",
    "            d_se[i] = np.sqrt(len(data[depvar_name])* \\\n",
    "                              np.var(waic_vect_models[i] - waic_vect_models[min_index]))\n",
    "        else:\n",
    "            d_se[i] = np.nan\n",
    "    # Prints the summary\n",
    "    summary_stats = [waic_models, p_waic_models, d_waic, weights, se_models, d_se]\n",
    "    summary_stats = pd.DataFrame(summary_stats).transpose()\n",
    "    summary_stats.columns = [\"WAIC\", \"pWAIC\", \"dWAIC\", \"weight\", \"SE\", \"d_SE\"]\n",
    "    summary_stats.index = list(expressions.keys())\n",
    "    print(summary_stats)"
   ]
  },
  {
   "cell_type": "markdown",
   "metadata": {},
   "source": [
    "<hr>\n",
    "<hr>\n",
    "<hr>\n",
    "\n",
    "## Exercise 1"
   ]
  },
  {
   "cell_type": "markdown",
   "metadata": {},
   "source": [
    "### Instructions\n",
    "\n",
    "The Beta-Binomial model seen during lesson 2 is:\n",
    "\n",
    "$$p(y|\\theta)p(\\theta) \\propto \\theta^{y+\\alpha-1}(1-\\theta)^{n+\\beta-y-1} \\propto Beta(\\theta|\\alpha+y,n+\\beta-y).$$\n",
    "\n",
    "Find a Laplace approximation for this model, as seen for the Binomal model, and plot the resulting Gaussian approximation against the Beta-Binomial function.\n",
    "\n",
    "<hr>\n",
    "\n",
    "#### 1. Finding the Laplace approximation of the Beta-Binomial model\n",
    "\n",
    "We recall that the Laplace method allows to approximate the shape of a given function with a Gaussian distribution. This approximation relies on the Taylor expansion of the (log-)function of interest *f*. Given *f* the function to approximate, we state the function *g* such that:\n",
    "\n",
    "$$f(x) = \\exp(\\log(f(\\theta)) = \\exp(g(\\theta))$$\n",
    "\n",
    "Stopping at the second order, and assuming that *g* and *f* share a maximum in $\\theta_0$, we can approximate *g* and thus *f* for any point $theta$ sufficiently close to $\\theta_0$ such that:\n",
    "\n",
    "\\begin{align}\n",
    "g(\\theta) &= g(\\theta_0) + g'(\\theta_0)(\\theta-\\theta_0) + \\frac{1}{2}g''(\\theta_0)(\\theta-\\theta_0)^2 + o((\\theta - \\theta_0)^3)\\\\\n",
    "g'(\\theta_0) &= 0 \\\\\n",
    "\\end{align}\n",
    "\n",
    "We find the following approximation:\n",
    "\n",
    "\\begin{align}\n",
    "g(\\theta) &\\approx g(\\theta_0) + \\frac{1}{2}g''(\\theta_0)(\\theta-\\theta_0)^2\\\\\n",
    "f(\\theta_0) &\\approx f(\\theta_0) + \\exp(\\frac{1}{2}g''(\\theta_0)(\\theta-\\theta_0)^2) \\\\\n",
    "&\\approx \\exp\\big(\\frac{1}{2}g''(\\theta_0)(\\theta-\\theta_0)^2\\big)\\quad\\text{Given $f(\\theta_0)$ a constant}\\\\\n",
    "&\\approx \\exp\\big(-\\frac{1}{2}\\frac{(\\theta-\\theta_0)^2}{-\\frac{1}{g''(\\theta_0)}}\\big)\\quad\\text{We recognize a Gaussian PDF}\\\\\n",
    "\\end{align}\n",
    "\n",
    "As such, *f* can be approximated (up to a normalization constant) by a Gaussian distribution $\\mathcal{N}(\\theta_0, -\\frac{1}{g''(\\theta_0)})$\n",
    "\n",
    "<u>Computing the maximum of the log-distribution:</u>\n",
    "\n",
    "\\begin{align}\n",
    "g(\\theta) & = \\log(f(\\theta)) = (y+\\alpha-1)*\\log(\\theta) + (n+\\beta-y-1)*\\log(1-\\theta)\\\\\n",
    "\\frac{\\delta g}{\\delta \\theta} &= \\frac{y+\\alpha-1}{\\theta} - \\frac{n+\\beta-y-1}{1-\\theta}\n",
    "\\end{align}\n",
    "\n",
    "As such:\n",
    "\n",
    "\\begin{align}\n",
    "g'(\\theta_0) &= 0\\\\\n",
    "&\\Rightarrow \\frac{y+\\alpha-1}{\\theta_0} - \\frac{n+\\beta-y-1}{1-\\theta_0} = 0\\\\\n",
    "&\\Rightarrow \\frac{(1-\\theta_0)*(y+\\alpha-1) - \\theta_0*(n+\\beta-y-1)}{\\theta_0(1-\\theta_0)} = 0\\\\\n",
    "&\\Rightarrow (1-\\theta_0)*(y+\\alpha-1) - \\theta_0*(n+\\beta-y-1) = 0 \\\\\n",
    "&\\Rightarrow (2-n-\\alpha-\\beta)*\\theta_0 +y+\\alpha-1 = 0\n",
    "\\end{align}\n",
    "\n",
    "We find:\n",
    "\n",
    "$$\\theta_0 = \\frac{y+\\alpha-1}{n + \\alpha + \\beta - 2}$$\n",
    "\n",
    "<u>Computing the second derivative of the log-distribution with respect to $\\theta$:</u>\n",
    "\n",
    "\\begin{align}\n",
    "\\frac{\\delta^2 g}{\\delta \\theta^2} &= -\\frac{y+\\alpha-1}{\\theta^2} - \\frac{n+\\beta-y-1}{(1-\\theta)^2}\n",
    "\\end{align}\n",
    "\n",
    "We find:\n",
    "\n",
    "$$g''(\\theta_0) = -\\frac{y+\\alpha-1}{(\\frac{y+\\alpha-1}{n + \\alpha + \\beta - 2})^2} - \\frac{n+\\beta-y-1}{(1-(\\frac{y+\\alpha-1}{n + \\alpha + \\beta - 2}))^2}$$\n",
    "\n",
    "<u>Concluding on finding the Laplace approximation of the Beta-Binomial model:</u>\n",
    "\n",
    "The approximation will be the Gaussian:\n",
    "\n",
    "$$\\mathcal{N}\\big(\\frac{y+\\alpha-1}{n + \\alpha + \\beta - 2}, -(-\\frac{y+\\alpha-1}{(\\frac{y+\\alpha-1}{n + \\alpha + \\beta - 2})^2} - \\frac{n+\\beta-y-1}{(1-(\\frac{y+\\alpha-1}{n + \\alpha + \\beta - 2}))^2})^{-1}\\big)$$\n",
    "\n",
    "with mean $\\theta_0 = \\frac{y+\\alpha-1}{n + \\alpha + \\beta - 2}$ and variance $\\sigma^2=(\\frac{y+\\alpha-1}{(\\frac{y+\\alpha-1}{n + \\alpha + \\beta - 2})^2} + \\frac{n+\\beta-y-1}{(1-(\\frac{y+\\alpha-1}{n + \\alpha + \\beta - 2}))^2})^{-1}$\n",
    "\n",
    "#### 2. Plotting the approximation\n",
    "\n",
    "For plotting the resulting approximation, we will reuse the values for $\\alpha$, $\\beta$, $n$, and $y$ from class 5."
   ]
  },
  {
   "cell_type": "code",
   "execution_count": 6,
   "metadata": {},
   "outputs": [
    {
     "data": {
      "image/png": "[encoded data removed]",
      "text/plain": [
       "<Figure size 432x288 with 1 Axes>"
      ]
     },
     "metadata": {
      "needs_background": "light"
     },
     "output_type": "display_data"
    }
   ],
   "source": [
    "# Declares variables\n",
    "\n",
    "y = 4; n = 8; alpha = 2; beta = 3\n",
    "\n",
    "# Computes the beta-binomial PDF\n",
    "theta_space, beta_binomial = beta_binomial_distribution(n, y, alpha, beta)\n",
    "\n",
    "# Computes the beta-binomial approximation\n",
    "lapproximation = beta_binomial_lapproximation(n, y, alpha, beta)\n",
    "\n",
    "# Plots the results\n",
    "\n",
    "plt.figure()\n",
    "plt.plot(\n",
    "    theta_space, beta_binomial/np.sum(beta_binomial), \n",
    "    label=\"Beta-Binomial PDF\")\n",
    "plt.plot(\n",
    "    theta_space,\n",
    "    lapproximation.pdf(theta_space)/np.sum(lapproximation.pdf(theta_space)),\n",
    "    label=\"Laplace approximation\")\n",
    "plt.legend()\n",
    "plt.show()"
   ]
  },
  {
   "cell_type": "markdown",
   "metadata": {},
   "source": [
    "<hr>\n",
    "<hr>\n",
    "<hr>\n",
    "\n",
    "## Exercise 2"
   ]
  },
  {
   "cell_type": "markdown",
   "metadata": {},
   "source": [
    "### Instructions\n",
    "\n",
    "Write down a model to evaluate the claim: *Animal diversity is related to latitude, but only after controlling for plant diversity*. You just need to write down the model definition.\n",
    "\n",
    "<hr>\n",
    "\n",
    "#### 1. Problem statement\n",
    "\n",
    "From [wikipedia](https://en.wikipedia.org/wiki/Latitude), \"*latitude is a geographic coordinate that specifies the north–south position of a point on the Earth's surface. Latitude is an angle (defined below) which ranges from 0° at the Equator to 90° (North or South) at the poles*.\" \n",
    "\n",
    "Common sense can lead us to assume that animal diversity is closely related to location (here, latitude). Furthermore, given prior knowledge, we may suppose that the most inhospitable areas in the world are located towards the poles, while the most hospitable would be closer to the equator (e.g. Amazonian Forest, Subsaharan Africa, etc.). Furthermore, since a biome is constituted by both fauna and flora, we can suppose that animal and plant diversity are tightly related.\n",
    "\n",
    "As a caveat, this modeling is not without blind spots as areas such that the Sahara desert might influence the average diversity of a locale/latitude, as we are not interested in longitude as a parameter.\n",
    "\n",
    "Finally, given these assumptions, we may hypothesize that:\n",
    "\n",
    "- Any metric related to latitude would display some symmetric behavior with regards to the distance from the equator.\n",
    "- The closer to the poles, i.e. the farther from the equator, the lower biome diversity:\n",
    "    - Animal diversity and plant diversity are related\n",
    "    - Diversity decreases with incrasing latitude\n",
    "\n",
    "**Note:** Assuming any metric of animal diversity cannot be negative (at worse it would be zero), we could imagine a diversity metric as following a Poisson distribution at a given latitude.\n",
    "\n",
    "<u>Possible example of a diversity metric per latitude given our assumptions:</u>\n",
    "\n",
    "Represented on a graph with the x-axis the distance from the equator, and on the y-axis a metric evaluating animal diversity, we would expect a possibly linear, decreasing dataset of a form."
   ]
  },
  {
   "cell_type": "code",
   "execution_count": 7,
   "metadata": {
    "scrolled": true
   },
   "outputs": [
    {
     "data": {
      "image/png": "[encoded data removed]",
      "text/plain": [
       "<Figure size 432x288 with 1 Axes>"
      ]
     },
     "metadata": {
      "needs_background": "light"
     },
     "output_type": "display_data"
    }
   ],
   "source": [
    "x = np.linspace(0, 90, num=100)\n",
    "y = sorted(np.linspace(0, 90, num=100), reverse=True) + \\\n",
    "    np.random.normal(0, 5, 100)\n",
    "plt.scatter(x, y); plt.show()"
   ]
  },
  {
   "cell_type": "markdown",
   "metadata": {},
   "source": [
    "#### 2. Model definition\n",
    "\n",
    "As such, since we are interested in a possible relationship between latitude and animal diversity, but we also want to account/control for plant diversity, we could defined a preliminary model as a linear regression with `animal diversity` as the dependent variable and `latitude` and `plant diversity` as the covariates. \n",
    "\n",
    "We are interested in the regression function $r$ such that:\n",
    "\n",
    "$$r \\rightarrow \\mathbb{E}[animal\\,diversity\\,\\,|\\,\\,latitude,\\,\\, plant\\,diversity]$$\n",
    "\n",
    "Our resulting linear model would be as such:\n",
    "\n",
    "\\begin{align}\n",
    "\\text{animal diversity} &= a+b*\\text{latitude} + c*\\text{plant diversity}\\\\\\\\\n",
    "\\text{with,}\\\\\n",
    "a&,\\text{ the intercept}\\\\\n",
    "b, c&,\\text{ respective covariates of latitude and plant diversity}\n",
    "\\end{align}"
   ]
  },
  {
   "cell_type": "markdown",
   "metadata": {},
   "source": [
    "<hr>\n",
    "<hr>\n",
    "<hr>\n",
    "\n",
    "## Exercise 3"
   ]
  },
  {
   "cell_type": "markdown",
   "metadata": {},
   "source": [
    "### Instructions\n",
    "\n",
    "Invent your own example of spurious correlation. An outcome variable should be correlated with both predictor variables. But when both predictors are entered in the same model, the correlation between the outcome and one of the predictors should mostly vanish (or at least be greatly reduced).\n",
    "\n",
    "<hr>\n",
    "\n",
    "#### 1. Example of spurious correlation\n",
    "\n",
    "From [Investopedia](https://www.investopedia.com/terms/s/spurious_correlation.asp), \"*a spurious correlation (or spuriousness) refers to a connection between two variables that appears to be causal but is not. With spurious correlation, any observed dependencies between variables are merely due to chance or are both related to some unseen confounder.*\"\n",
    "\n",
    "An example could be the following:\n",
    "\n",
    "> The sale of foie-gras is spuriously correlated to the sale of umbrellas in the Alpes-Maritimes, France.\n",
    "\n",
    "If at face value it is obvious that the two variables are not causally linked, they are correlated through the underlying variable of seasonality -- the [rainiest months in the Alpes-Maritimes are October, November and December](https://en.wikipedia.org/wiki/Nice#Climate). Furthermore, foie-gras sales are [closely tied to the Christmas and New Year holidays](https://www.businesscoot.com/fr/etude/le-marche-du-foie-gras-france).\n",
    "\n",
    "As such, we have a situation where the sale of foie-gras, being our dependent variable, should be correlated to both predictor variables: season/month of the year, and sales of umbrellas. Given a model where both covariates are included, we would expect the predictive aspect of the sales of umbrellas to decrease or disappear (since it also rains year round, albeit in a lower amount)."
   ]
  },
  {
   "cell_type": "markdown",
   "metadata": {},
   "source": [
    "<hr>\n",
    "<hr>\n",
    "<hr>\n",
    "\n",
    "## Exercise 4"
   ]
  },
  {
   "cell_type": "markdown",
   "metadata": {},
   "source": [
    "### Instructions\n",
    "\n",
    "The attached data is about observations of urban foxes in human habitat. The data has 5 columns:\n",
    "\n",
    "- *group*: Number of social group the fox belongs to\n",
    "- *avgfood*: The avg amount of food available in the territory\n",
    "- *groupsize*: The number of foxes in the social group\n",
    "- *area*: Size of the territory\n",
    "- *weight*: Body weight of the fox\n",
    "\n",
    "Fit a regression for *weight* as a linear function of *area*, and a regression for *weight* as a linear function of *groupsize*. What can you say about these relationships? Run a multivariate model and plot counterfactual plots for both variables. What can you conclude about this analysis?\n",
    "\n",
    "<hr>\n",
    "\n",
    "#### 1. Data import and exploration"
   ]
  },
  {
   "cell_type": "code",
   "execution_count": 8,
   "metadata": {
    "scrolled": true
   },
   "outputs": [
    {
     "data": {
      "text/html": [
       "<div>\n",
       "<style scoped>\n",
       "    .dataframe tbody tr th:only-of-type {\n",
       "        vertical-align: middle;\n",
       "    }\n",
       "\n",
       "    .dataframe tbody tr th {\n",
       "        vertical-align: top;\n",
       "    }\n",
       "\n",
       "    .dataframe thead th {\n",
       "        text-align: right;\n",
       "    }\n",
       "</style>\n",
       "<table border=\"1\" class=\"dataframe\">\n",
       "  <thead>\n",
       "    <tr style=\"text-align: right;\">\n",
       "      <th></th>\n",
       "      <th>group</th>\n",
       "      <th>avgfood</th>\n",
       "      <th>groupsize</th>\n",
       "      <th>area</th>\n",
       "      <th>weight</th>\n",
       "    </tr>\n",
       "  </thead>\n",
       "  <tbody>\n",
       "    <tr>\n",
       "      <th>count</th>\n",
       "      <td>116.000000</td>\n",
       "      <td>116.000000</td>\n",
       "      <td>116.000000</td>\n",
       "      <td>116.000000</td>\n",
       "      <td>116.000000</td>\n",
       "    </tr>\n",
       "    <tr>\n",
       "      <th>mean</th>\n",
       "      <td>17.206897</td>\n",
       "      <td>0.751724</td>\n",
       "      <td>4.344828</td>\n",
       "      <td>3.169138</td>\n",
       "      <td>4.529655</td>\n",
       "    </tr>\n",
       "    <tr>\n",
       "      <th>std</th>\n",
       "      <td>8.002736</td>\n",
       "      <td>0.198316</td>\n",
       "      <td>1.538511</td>\n",
       "      <td>0.928354</td>\n",
       "      <td>1.184023</td>\n",
       "    </tr>\n",
       "    <tr>\n",
       "      <th>min</th>\n",
       "      <td>1.000000</td>\n",
       "      <td>0.370000</td>\n",
       "      <td>2.000000</td>\n",
       "      <td>1.090000</td>\n",
       "      <td>1.920000</td>\n",
       "    </tr>\n",
       "    <tr>\n",
       "      <th>25%</th>\n",
       "      <td>11.750000</td>\n",
       "      <td>0.660000</td>\n",
       "      <td>3.000000</td>\n",
       "      <td>2.590000</td>\n",
       "      <td>3.720000</td>\n",
       "    </tr>\n",
       "    <tr>\n",
       "      <th>50%</th>\n",
       "      <td>18.000000</td>\n",
       "      <td>0.735000</td>\n",
       "      <td>4.000000</td>\n",
       "      <td>3.130000</td>\n",
       "      <td>4.420000</td>\n",
       "    </tr>\n",
       "    <tr>\n",
       "      <th>75%</th>\n",
       "      <td>24.000000</td>\n",
       "      <td>0.800000</td>\n",
       "      <td>5.000000</td>\n",
       "      <td>3.772500</td>\n",
       "      <td>5.375000</td>\n",
       "    </tr>\n",
       "    <tr>\n",
       "      <th>max</th>\n",
       "      <td>30.000000</td>\n",
       "      <td>1.210000</td>\n",
       "      <td>8.000000</td>\n",
       "      <td>5.070000</td>\n",
       "      <td>7.550000</td>\n",
       "    </tr>\n",
       "  </tbody>\n",
       "</table>\n",
       "</div>"
      ],
      "text/plain": [
       "            group     avgfood   groupsize        area      weight\n",
       "count  116.000000  116.000000  116.000000  116.000000  116.000000\n",
       "mean    17.206897    0.751724    4.344828    3.169138    4.529655\n",
       "std      8.002736    0.198316    1.538511    0.928354    1.184023\n",
       "min      1.000000    0.370000    2.000000    1.090000    1.920000\n",
       "25%     11.750000    0.660000    3.000000    2.590000    3.720000\n",
       "50%     18.000000    0.735000    4.000000    3.130000    4.420000\n",
       "75%     24.000000    0.800000    5.000000    3.772500    5.375000\n",
       "max     30.000000    1.210000    8.000000    5.070000    7.550000"
      ]
     },
     "execution_count": 8,
     "metadata": {},
     "output_type": "execute_result"
    }
   ],
   "source": [
    "data = pd.read_csv(\"data.csv\")\n",
    "data.describe()"
   ]
  },
  {
   "cell_type": "code",
   "execution_count": 9,
   "metadata": {},
   "outputs": [
    {
     "data": {
      "text/plain": [
       "[Text(0.5, 1.0, \"Distribution of urban foxes' weight\")]"
      ]
     },
     "execution_count": 9,
     "metadata": {},
     "output_type": "execute_result"
    },
    {
     "data": {
      "image/png": "[encoded data removed]",
      "text/plain": [
       "<Figure size 432x288 with 1 Axes>"
      ]
     },
     "metadata": {
      "needs_background": "light"
     },
     "output_type": "display_data"
    }
   ],
   "source": [
    "sns.kdeplot(data[\"weight\"]).set(title=\"Distribution of urban foxes' weight\")"
   ]
  },
  {
   "cell_type": "code",
   "execution_count": 10,
   "metadata": {},
   "outputs": [
    {
     "data": {
      "text/plain": [
       "[Text(0.5, 1.0, \"Distribution of urban foxes' area\")]"
      ]
     },
     "execution_count": 10,
     "metadata": {},
     "output_type": "execute_result"
    },
    {
     "data": {
      "image/png": "[encoded data removed]",
      "text/plain": [
       "<Figure size 432x288 with 1 Axes>"
      ]
     },
     "metadata": {
      "needs_background": "light"
     },
     "output_type": "display_data"
    }
   ],
   "source": [
    "sns.kdeplot(data[\"area\"]).set(title=\"Distribution of urban foxes' area\")"
   ]
  },
  {
   "cell_type": "code",
   "execution_count": 11,
   "metadata": {},
   "outputs": [
    {
     "data": {
      "text/plain": [
       "[Text(0.5, 1.0, \"Distribution of urban foxes' groupsize\")]"
      ]
     },
     "execution_count": 11,
     "metadata": {},
     "output_type": "execute_result"
    },
    {
     "data": {
      "image/png": "[encoded data removed]",
      "text/plain": [
       "<Figure size 432x288 with 1 Axes>"
      ]
     },
     "metadata": {
      "needs_background": "light"
     },
     "output_type": "display_data"
    }
   ],
   "source": [
    "sns.kdeplot(data[\"groupsize\"]).set(title=\"Distribution of urban foxes' groupsize\")"
   ]
  },
  {
   "cell_type": "code",
   "execution_count": 12,
   "metadata": {},
   "outputs": [
    {
     "data": {
      "image/png": "[encoded data removed]",
      "text/plain": [
       "<Figure size 432x288 with 1 Axes>"
      ]
     },
     "metadata": {
      "needs_background": "light"
     },
     "output_type": "display_data"
    }
   ],
   "source": [
    "x, y, title= (\"area\", \"weight\", \"weight vs. area\")\n",
    "plot_relationship(data[x], data[y], x, y, title)"
   ]
  },
  {
   "cell_type": "code",
   "execution_count": 13,
   "metadata": {},
   "outputs": [
    {
     "data": {
      "image/png": "[encoded data removed]",
      "text/plain": [
       "<Figure size 432x288 with 1 Axes>"
      ]
     },
     "metadata": {
      "needs_background": "light"
     },
     "output_type": "display_data"
    }
   ],
   "source": [
    "x, y, title= (\"groupsize\", \"weight\", \"weight vs. groupsize\")\n",
    "plot_relationship(data[x], data[y], x, y, title)"
   ]
  },
  {
   "cell_type": "markdown",
   "metadata": {},
   "source": [
    "<u>Observations:</u>\n",
    "\n",
    "At first glance, the distribution of the dependent variable `weight` is somewhat Gaussian. That cannot be said of the possible covariates `area` and `groupsize`. Furthermore, plotting of `weight` against either covariates yields graphs that seem to indicate a somewhat weak relationship between each other. This will have to be verified."
   ]
  },
  {
   "cell_type": "markdown",
   "metadata": {},
   "source": [
    "#### 3. Estimating a model of `weight` sampling from prior mean and variance\n",
    "\n",
    "<u>Selecting priors:</u>\n",
    "\n",
    "We start by fitting a model for the variable `weight` only. Given the observed sample distribution, we can weakly assume that `weight` is Gaussian-distributed. `weight` is the result of infinitesimal accumulations of mass/growth during the life span (such as with the variable `height` seen in class).\n",
    "\n",
    "Therefore, for each fox $i$, we may assume that their `weight` is distributed as: $\\quad\\text{weight}_i\\sim N(\\mu,\\sigma^2)$.\n",
    "\n",
    "As we can consider foxes as being fungible individuals, we can also suppose independence between each observation such that:\n",
    "\n",
    "$$p(\\text{weight}) = p(\\text{weight}_1, \\text{weight}_2, \\ldots, \\text{weight}_N) = p(\\text{weight}_1).p(\\text{weight}_2)\\cdots p(\\text{weight}_N)$$\n",
    "\n",
    "This corresponds to a product of Gaussian likelihoods. Once set on using a Gaussian likelihood, we look into specifing a prior. We can use a Gaussian model encoding our belief by assuming:\n",
    "\n",
    "\\begin{align}\n",
    "\\mu_{prior} &\\sim\\,\\,\\mathcal{N}(4.5,3)\\\\\n",
    "\\sigma_{prior} &\\sim\\,\\,\\mathcal{U}(0,2)\n",
    "\\end{align}\n",
    "\n",
    "**Interpretation**: The average weight of an urban fox is 4.5 kilograms with a $2\\sigma$-variability of $[0.9kg, 8.1kg]$, which seem reasonable as we are including the whole fox population, from pups to the largest individuals. For the variance, we don't have a clear opinion on the matter and we can simply say that it is uniformly distributed on the interval $[0kg, 2kg]$.\n",
    "\n",
    "<u>Integrating data in the model and obtaining its posterior:</u>\n",
    "\n",
    "We specify our likelihood:\n",
    "\n",
    "\\begin{align}\n",
    "p(y|\\mu,\\sigma^2) &= N(y|\\mu,\\sigma^2)\\\\\\\\\n",
    "\\text{with}&\\,\\\\\n",
    "y&,\\,\\,\\text{the weight data}\n",
    "\\end{align}\n",
    "\n",
    "<u>Using Laplace approximation:</u>\n",
    "\n",
    "Because a grid method is computationally inefficient, and because we need to perform inference on $\\sigma$ as well (which makes us reject using the closed form of the Gaussian), we use the Laplace approximation in order to yield a model of `weight`. As such, we rely on Laplace approximation."
   ]
  },
  {
   "cell_type": "code",
   "execution_count": 14,
   "metadata": {},
   "outputs": [
    {
     "name": "stdout",
     "output_type": "stream",
     "text": [
      "      fun: 186.399890424752\n",
      " hess_inv: array([[1.19675967e-02, 4.41943897e-06],\n",
      "       [4.41943897e-06, 5.99152106e-03]])\n",
      "      jac: array([-5.7220459e-06,  0.0000000e+00])\n",
      "  message: 'Optimization terminated successfully.'\n",
      "     nfev: 21\n",
      "      nit: 4\n",
      "     njev: 7\n",
      "   status: 0\n",
      "  success: True\n",
      "        x: array([4.5296157 , 1.17890797])\n"
     ]
    }
   ],
   "source": [
    "# Declares the likelihood with the sample parameters\n",
    "likelihood = \"gaussian\"; mu=4.53; sigma=1.18 #4.53, 1.18\n",
    "parameters = [mu, sigma]\n",
    "\n",
    "# Defines the prior mean\n",
    "prior_mu_mean = 4.5; prior_mu_sigma = 3\n",
    "prior_mu = [\"gaussian\", [prior_mu_mean, prior_mu_sigma]]\n",
    "\n",
    "# Defines the prior sigma\n",
    "sigma_inf = 0.; sigma_sup = 2.\n",
    "prior_sigma = [\"uniform\", [sigma_inf, sigma_sup]]\n",
    "\n",
    "# Performs the optimization\n",
    "solution = laplace_solution(parameters, [], data[\"weight\"], likelihood, [prior_mu, prior_sigma])"
   ]
  },
  {
   "cell_type": "markdown",
   "metadata": {},
   "source": [
    "The variable `solution` contains both the distribution parameters of the mean and variance of the posterior distribution of `weight`. As such, we explore this new model of `weight`:"
   ]
  },
  {
   "cell_type": "code",
   "execution_count": 15,
   "metadata": {},
   "outputs": [
    {
     "name": "stdout",
     "output_type": "stream",
     "text": [
      "The mean of the `weight` parameters are: [4.52934754 1.17921409].\n",
      "The standard deviation of the `weight` parameters are: [0.10841368 0.0786127 ].\n",
      "\n",
      "The 85% quantile bounds for the `weight` parameters are:\n",
      " [[4.37167271 1.06831418]\n",
      " [4.68332541 1.29313946]]\n"
     ]
    }
   ],
   "source": [
    "posterior_samples = posterior_sampling_laplace(solution, 5000)\n",
    "print(f\"The mean of the `weight` parameters are: {posterior_samples.mean(axis=0)}.\")\n",
    "print(f\"The standard deviation of the `weight` parameters are: {posterior_samples.std(axis=0)}.\")\n",
    "print(f\"\\nThe 85% quantile bounds for the `weight` parameters are:\\n\",\n",
    "      np.quantile(posterior_samples, q=[0.075, 0.925], axis=0))"
   ]
  },
  {
   "cell_type": "markdown",
   "metadata": {},
   "source": [
    "<u>Note:</u>\n",
    "\n",
    "Given this model, we will use the mean and standard deviation of $\\mu$ as prior parameters for performing a regression of `weight` with its covariates.\n",
    "\n",
    "#### 3. Performing a regression with `weight` as a linear function of `area`\n",
    "\n",
    "Now that we explored in detail the urban foxes' `weight`, we can study the relationship bwetween `weight` and `area`. As such, we are interested in the relationship: \n",
    "\n",
    "$$\\text{weight} = a + b * \\text{area}$$\n",
    "\n",
    "The intercept $a$ expresses the `weight` of an urban fox when its `area` territory area is null (which could represent transient foxes, pups, etc.) while the slope $b$ indicates how much the mass of a fox changes with the size of its territory.\n",
    "\n",
    "From now on, we will assume that our previous Gaussian model of `weight` (seen above) is dependent on the variable `area` through this linear relationship. The rationale would be that a larger territory would grant a fox a larger hunting area and food. In this case, we assume that the `weight` of an urban fox would be sampled from a Gaussian distribution:\n",
    "\n",
    "$$\\text{weight}_i\\sim \\mathcal{N}(\\mu_i,\\sigma^2)$$\n",
    "\n",
    "Along with this distribution, we state that:\n",
    "\n",
    "$$\\mu_i = a + b * \\text{area}_i$$\n",
    "\n",
    "i.e., the mean $\\mu_i$ varies depending on area size, and the coefficient $a$ and $b$ as well as the noise $\\sigma$ are assumed to be the same across subjects.\n",
    "\n",
    "To define our Bayesian model, we specify priors for all the parameters we want to analyze:\n",
    "\n",
    "\\begin{align}\n",
    "p(a) &= \\mathcal{N}(4.5, 0.11)\\tag{Based on our previous modeling of `weight`}\\\\\n",
    "p(b) &= \\mathcal{N}(1, 1)\\\\\n",
    "p(\\sigma) &= \\mathcal{U}(0, 2)\n",
    "\\end{align}\n",
    "\n",
    "Given we have no specific belief on the impact of `area` beyond that it should be somewhat positive on a fox's `weight` (even though the graph previously plotted doesn't seem to indicate that it is a strong relation), we specific the prior of b as a Gaussian distribution with mean 1 and standard deviation 1, and the variance as being uniform.\n",
    "\n",
    "<u>Centering the data:</u>\n",
    "\n",
    "We center the `area` variable to avoid scale effects."
   ]
  },
  {
   "cell_type": "code",
   "execution_count": 16,
   "metadata": {},
   "outputs": [],
   "source": [
    "# Centers the data\n",
    "mean_area = data[\"area\"].mean()\n",
    "centered_data = data.copy()\n",
    "centered_data[\"area\"] -= mean_area"
   ]
  },
  {
   "cell_type": "markdown",
   "metadata": {},
   "source": [
    "<u>Performing the Laplace regression:</u>"
   ]
  },
  {
   "cell_type": "code",
   "execution_count": 17,
   "metadata": {},
   "outputs": [
    {
     "name": "stderr",
     "output_type": "stream",
     "text": [
      "/home/quentin/anaconda3/lib/python3.8/site-packages/scipy/optimize/_numdiff.py:557: RuntimeWarning: invalid value encountered in subtract\n",
      "  df = fun(x) - f0\n"
     ]
    },
    {
     "name": "stdout",
     "output_type": "stream",
     "text": [
      "      fun: 184.4780411595852\n",
      " hess_inv: array([[ 6.14257532e-03,  1.69813110e-04, -3.47698351e-05],\n",
      "       [ 1.69813110e-04,  1.40065540e-02,  1.68546819e-04],\n",
      "       [-3.47698351e-05,  1.68546819e-04,  5.99692949e-03]])\n",
      "      jac: array([ 0.00000000e+00,  1.90734863e-06, -3.81469727e-06])\n",
      "  message: 'Optimization terminated successfully.'\n",
      "     nfev: 71\n",
      "      nit: 13\n",
      "     njev: 17\n",
      "   status: 0\n",
      "  success: True\n",
      "        x: array([4.51490151, 0.03832518, 1.17884253]) \n",
      "\n"
     ]
    }
   ],
   "source": [
    "# Declares the regression expression\n",
    "expression = \"weight ~ area\"\n",
    "\n",
    "# Declares the likelihood\n",
    "likelihood = \"gaussian\"\n",
    "\n",
    "# Defines the prior with hyperparameters \n",
    "prior_a_mean = 4.5; prior_a_sigma = 0.11\n",
    "prior_a = [\"gaussian\", [prior_a_mean, prior_a_sigma]]\n",
    "\n",
    "prior_b_mean = 1.; prior_b_sigma = 1.\n",
    "prior_b = [\"gaussian\", [prior_b_mean, prior_b_sigma]]\n",
    "\n",
    "sigma_inf = 0.; sigma_sup = 2.\n",
    "prior_sigma_unif = [sigma_inf, sigma_sup]\n",
    "prior_sigma = [\"uniform\", prior_sigma_unif]\n",
    "\n",
    "priors = [prior_a, prior_b, prior_sigma]\n",
    "\n",
    "# Performs the optimization\n",
    "solution = laplace_solution_regression(expression, centered_data, likelihood, priors)"
   ]
  },
  {
   "cell_type": "markdown",
   "metadata": {},
   "source": [
    "<u>Summarizing the computed statistics:</u>"
   ]
  },
  {
   "cell_type": "code",
   "execution_count": 18,
   "metadata": {},
   "outputs": [
    {
     "name": "stdout",
     "output_type": "stream",
     "text": [
      "           mean        SD      7.5%     92.5%\n",
      "a      4.514851  0.078249  4.400408  4.625485\n",
      "b      0.036051  0.118758 -0.131874  0.207540\n",
      "sigma  1.177397  0.077436  1.064780  1.289639 \n",
      "\n"
     ]
    }
   ],
   "source": [
    "# Computes posterior samples\n",
    "posterior_means, _, posterior_samples = summarize(solution)"
   ]
  },
  {
   "cell_type": "markdown",
   "metadata": {},
   "source": [
    "<u>Plotting the results with sampling from the posterior:</u>"
   ]
  },
  {
   "cell_type": "code",
   "execution_count": 19,
   "metadata": {},
   "outputs": [
    {
     "data": {
      "image/png": "[encoded data removed]",
      "text/plain": [
       "<Figure size 432x288 with 1 Axes>"
      ]
     },
     "metadata": {
      "needs_background": "light"
     },
     "output_type": "display_data"
    }
   ],
   "source": [
    "sampling_from_posterior(\n",
    "    centered_data, mean_area, \n",
    "    \"weight\", \"area\", \n",
    "    posterior_samples, posterior_means,\n",
    "    \"Weight vs Area\", \"Area\", \"Weight\"\n",
    ")"
   ]
  },
  {
   "cell_type": "code",
   "execution_count": 20,
   "metadata": {},
   "outputs": [
    {
     "data": {
      "image/png": "[encoded data removed]",
      "text/plain": [
       "<Figure size 432x288 with 1 Axes>"
      ]
     },
     "metadata": {
      "needs_background": "light"
     },
     "output_type": "display_data"
    }
   ],
   "source": [
    "plot_variation(\n",
    "    centered_data,\n",
    "    \"weight\",\n",
    "    mean_area,\n",
    "    \"area\",\n",
    "    'Weight vs Area',\n",
    "    \"Area\",\n",
    "    \"Weight\",\n",
    "    posterior_samples,\n",
    "    posterior_means,\n",
    "    higher_order = False,\n",
    "    max_order = 1\n",
    ")"
   ]
  },
  {
   "cell_type": "markdown",
   "metadata": {},
   "source": [
    "<u>Observations:</u>\n",
    "\n",
    "As suspected, the impact of `area` on an urban fox's `weight` is dubious, as the result of the linear regression yields a near-flat slope $b$. The results are also quite uncertain with regards to the mean prediction as many data points fall beyond the confidence interval, which is why we also estimated the overall posterior uncertainty of the prediction (while accounting for the estimated regression noise). \n",
    "\n",
    "As such, we consider `area` to be a (very) weak positive covariate of `weight`.\n",
    "\n",
    "#### 4. Performing a regression with `weight` as a linear function of `groupsize`\n",
    "\n",
    "We reproduce with `groupsize` the same workflow as with the variable `area`, but swapping the prior distribution parameters of the slope $b$ such that:\n",
    "\n",
    "$$p(b)=\\mathcal{N}(4., 2.)$$\n",
    "\n",
    "Though we are not certain with regards to standard deviation, we can estimate by glancing at the distribution plot of `groupsize` that it has its mean close to 4. \n",
    "\n",
    "<u>Note 1:</u> It seems that a Poisson distribution with parameter $\\lambda=4$ would work as a prior distribution in this case, given the shape of the distribution of the `groupsize` data.\n",
    "\n",
    "<u>Note 2:</u> Sometimes a domain error is caused when computing plots with the `posterior_samples_2var` argument below when $\\sigma$ of the prior distribution of `groupsize` is instead set to 1.\n",
    "\n",
    "<u>Centering the data:</u>\n",
    "\n",
    "We center the `groupsize` variable to avoid scale effects."
   ]
  },
  {
   "cell_type": "code",
   "execution_count": 21,
   "metadata": {},
   "outputs": [],
   "source": [
    "# Centers the data\n",
    "mean_groupsize = data[\"groupsize\"].mean()\n",
    "centered_data[\"groupsize\"] -= mean_groupsize"
   ]
  },
  {
   "cell_type": "markdown",
   "metadata": {},
   "source": [
    "<u>Performing the Laplace regression:</u>"
   ]
  },
  {
   "cell_type": "code",
   "execution_count": 22,
   "metadata": {},
   "outputs": [
    {
     "name": "stderr",
     "output_type": "stream",
     "text": [
      "/home/quentin/anaconda3/lib/python3.8/site-packages/scipy/optimize/_numdiff.py:557: RuntimeWarning: invalid value encountered in subtract\n",
      "  df = fun(x) - f0\n",
      "/home/quentin/anaconda3/lib/python3.8/site-packages/scipy/optimize/_numdiff.py:557: RuntimeWarning: invalid value encountered in subtract\n",
      "  df = fun(x) - f0\n"
     ]
    },
    {
     "name": "stdout",
     "output_type": "stream",
     "text": [
      "      fun: 187.6959908640995\n",
      " hess_inv: array([[ 1.11193029e-02, -2.77459827e-04,  2.32434734e-04],\n",
      "       [-2.77459827e-04,  4.64912176e-03,  8.19062581e-05],\n",
      "       [ 2.32434734e-04,  8.19062581e-05,  5.61792984e-03]])\n",
      "      jac: array([ 3.81469727e-06,  5.72204590e-06, -5.72204590e-06])\n",
      "  message: 'Optimization terminated successfully.'\n",
      "     nfev: 89\n",
      "      nit: 16\n",
      "     njev: 21\n",
      "   status: 0\n",
      "  success: True\n",
      "        x: array([ 4.52941679, -0.11877779,  1.16355607]) \n",
      "\n"
     ]
    }
   ],
   "source": [
    "# Declares the regression expression\n",
    "expression = \"weight ~ groupsize\"\n",
    "\n",
    "# Declares the likelihood\n",
    "likelihood = \"gaussian\"\n",
    "\n",
    "# Defines the prior with hyperparameters \n",
    "prior_a_mean = 4.5; prior_a_sigma = 1.2\n",
    "prior_a = [\"gaussian\", [prior_a_mean, prior_a_sigma]]\n",
    "\n",
    "prior_b_mean = 4.; prior_b_sigma = 2.\n",
    "prior_b = [\"gaussian\", [prior_b_mean, prior_b_sigma]]\n",
    "\n",
    "sigma_inf = 0.; sigma_sup = 2.\n",
    "prior_sigma_unif = [sigma_inf, sigma_sup]\n",
    "prior_sigma = [\"uniform\", prior_sigma_unif]\n",
    "\n",
    "priors = [prior_a, prior_b, prior_sigma]\n",
    "\n",
    "# Performs the optimization\n",
    "solution = laplace_solution_regression(expression, centered_data, likelihood, priors)"
   ]
  },
  {
   "cell_type": "markdown",
   "metadata": {},
   "source": [
    "<u>Summarizing the computed statistics:</u>"
   ]
  },
  {
   "cell_type": "code",
   "execution_count": 23,
   "metadata": {},
   "outputs": [
    {
     "name": "stdout",
     "output_type": "stream",
     "text": [
      "           mean        SD      7.5%     92.5%\n",
      "a      4.531229  0.103502  4.382120  4.681048\n",
      "b     -0.118517  0.067719 -0.217180 -0.021945\n",
      "sigma  1.164851  0.074389  1.056283  1.271064 \n",
      "\n"
     ]
    }
   ],
   "source": [
    "# Computes posterior samples\n",
    "posterior_means, _, posterior_samples = summarize(solution)"
   ]
  },
  {
   "cell_type": "markdown",
   "metadata": {},
   "source": [
    "<u>Plotting the results with sampling from the posterior:</u>"
   ]
  },
  {
   "cell_type": "code",
   "execution_count": 24,
   "metadata": {},
   "outputs": [
    {
     "data": {
      "image/png": "[encoded data removed]",
      "text/plain": [
       "<Figure size 432x288 with 1 Axes>"
      ]
     },
     "metadata": {
      "needs_background": "light"
     },
     "output_type": "display_data"
    }
   ],
   "source": [
    "sampling_from_posterior(\n",
    "    centered_data, mean_groupsize, \n",
    "    \"weight\", \"groupsize\", \n",
    "    posterior_samples, posterior_means,\n",
    "    \"Weight vs Groupsize\", \"Groupsize\", \"Weight\"\n",
    ")"
   ]
  },
  {
   "cell_type": "code",
   "execution_count": 25,
   "metadata": {},
   "outputs": [
    {
     "data": {
      "image/png": "[encoded data removed]",
      "text/plain": [
       "<Figure size 432x288 with 1 Axes>"
      ]
     },
     "metadata": {
      "needs_background": "light"
     },
     "output_type": "display_data"
    }
   ],
   "source": [
    "plot_variation(\n",
    "    centered_data,\n",
    "    \"weight\",\n",
    "    mean_groupsize,\n",
    "    \"groupsize\",\n",
    "    'Weight vs Area',\n",
    "    \"Area\",\n",
    "    \"Weight\",\n",
    "    posterior_samples,\n",
    "    posterior_means,\n",
    "    higher_order = True,\n",
    "    max_order = 1\n",
    ")"
   ]
  },
  {
   "cell_type": "markdown",
   "metadata": {},
   "source": [
    "<u>Observations:</u>\n",
    "\n",
    "As with `are`, the impact of `groupsize` on an urban fox's `weight` is weak (albeit in a lesser extent as the slope $b$ is stronger with `groupsize`). The most important difference here is the negative slope $b$, indicating that we can consider `groupsize` as a weakly negative covariate of `weight`.\n",
    "\n",
    "#### 5. Overall comment on the two regressions\n",
    "\n",
    "The relationship between the dependent variable `weight` and the covariates `groupsize` and `area` are weakly linear with respective negative and positive relationships. Comparatively, `groupsize` seems to have a relative stronger influence than `area` which is nearly flat."
   ]
  },
  {
   "cell_type": "markdown",
   "metadata": {},
   "source": [
    "#### 6. Performing a multivariate model\n",
    "\n",
    "<u>Running the model:</u>"
   ]
  },
  {
   "cell_type": "code",
   "execution_count": 26,
   "metadata": {
    "scrolled": false
   },
   "outputs": [
    {
     "name": "stderr",
     "output_type": "stream",
     "text": [
      "/home/quentin/anaconda3/lib/python3.8/site-packages/scipy/optimize/_numdiff.py:557: RuntimeWarning: invalid value encountered in subtract\n",
      "  df = fun(x) - f0\n"
     ]
    },
    {
     "name": "stdout",
     "output_type": "stream",
     "text": [
      "      fun: 179.93185240796305\n",
      " hess_inv: array([[ 1.11315765e-02, -3.38598500e-03,  8.72397924e-05,\n",
      "         4.00290286e-05],\n",
      "       [-3.38598500e-03,  2.66731641e-02, -1.80129845e-02,\n",
      "        -1.83218072e-04],\n",
      "       [ 8.72397924e-05, -1.80129845e-02,  1.31250420e-02,\n",
      "         1.40173886e-04],\n",
      "       [ 4.00290286e-05, -1.83218072e-04,  1.40173886e-04,\n",
      "         5.30322716e-03]])\n",
      "      jac: array([1.90734863e-06, 0.00000000e+00, 3.81469727e-06, 0.00000000e+00])\n",
      "  message: 'Optimization terminated successfully.'\n",
      "     nfev: 147\n",
      "      nit: 23\n",
      "     njev: 28\n",
      "   status: 0\n",
      "  success: True\n",
      "        x: array([ 4.49464332,  0.58850079, -0.42009798,  1.1185717 ]) \n",
      "\n"
     ]
    }
   ],
   "source": [
    "expr = 'weight ~ area + groupsize'\n",
    "\n",
    "# Initializing the likelihood\n",
    "likelihood = 'gaussian'\n",
    "\n",
    "# Defining the prior with hyperparameters \n",
    "prior_a_mean = 4.5\n",
    "prior_a_sigma = 0.11\n",
    "prior_a = ['gaussian', [prior_a_mean, prior_a_sigma]]\n",
    "\n",
    "prior_b_mean = 1.\n",
    "prior_b_sigma = 1.\n",
    "prior_b = ['gaussian', [prior_b_mean, prior_b_sigma]]\n",
    "\n",
    "prior_b2_mean = 4.\n",
    "prior_b2_sigma = 2.\n",
    "prior_b2 = ['gaussian', [prior_b_mean, prior_b_sigma]]\n",
    "\n",
    "sigma_inf = 0.\n",
    "sigma_sup = 2.\n",
    "prior_sigma_unif = [sigma_inf, sigma_sup]\n",
    "prior_sigma = ['uniform', prior_sigma_unif]\n",
    "\n",
    "priors = [prior_a, prior_b, prior_b2, prior_sigma]\n",
    "\n",
    "solution_regression_2var = laplace_solution_regression(expr, data, likelihood, priors)"
   ]
  },
  {
   "cell_type": "code",
   "execution_count": 27,
   "metadata": {},
   "outputs": [
    {
     "name": "stdout",
     "output_type": "stream",
     "text": [
      "           mean        SD      7.5%     92.5%\n",
      "a      4.494120  0.105385  4.343101  4.644405\n",
      "b1     0.588349  0.163991  0.352639  0.822141\n",
      "b2    -0.419640  0.114915 -0.584688 -0.253527\n",
      "sigma  1.118977  0.073000  1.012876  1.223360 \n",
      "\n"
     ]
    }
   ],
   "source": [
    "posterior_means, _, posterior_samples_2var = summarize(\n",
    "    solution_regression_2var, names={0:'a',1:'b1', 2:'b2', 3:'sigma'}\n",
    ")"
   ]
  },
  {
   "cell_type": "markdown",
   "metadata": {},
   "source": [
    "<u>Plotting counterfactual plots:</u>"
   ]
  },
  {
   "cell_type": "code",
   "execution_count": 28,
   "metadata": {},
   "outputs": [
    {
     "data": {
      "image/png": "[encoded data removed]",
      "text/plain": [
       "<Figure size 432x288 with 1 Axes>"
      ]
     },
     "metadata": {
      "needs_background": "light"
     },
     "output_type": "display_data"
    }
   ],
   "source": [
    "# sometimes causes a domain error\n",
    "\n",
    "plot_variation(\n",
    "    data,\n",
    "    \"weight\",\n",
    "    mean_area,\n",
    "    \"area\",\n",
    "    'Weight vs Area',\n",
    "    \"Area\",\n",
    "    \"Weight\",\n",
    "    posterior_samples_2var,\n",
    "    posterior_means,\n",
    "    higher_order = False,\n",
    "    max_order = 2\n",
    ")"
   ]
  },
  {
   "cell_type": "code",
   "execution_count": 29,
   "metadata": {
    "scrolled": false
   },
   "outputs": [
    {
     "data": {
      "image/png": "[encoded data removed]",
      "text/plain": [
       "<Figure size 432x288 with 1 Axes>"
      ]
     },
     "metadata": {
      "needs_background": "light"
     },
     "output_type": "display_data"
    }
   ],
   "source": [
    "plot_variation(\n",
    "    data,\n",
    "    \"weight\",\n",
    "    mean_groupsize,\n",
    "    \"groupsize\",\n",
    "    'Weight vs Groupsize',\n",
    "    \"Groupsize\",\n",
    "    \"Weight\",\n",
    "    posterior_samples_2var,\n",
    "    posterior_means,\n",
    "    higher_order = False,\n",
    "    max_order = 2\n",
    ")"
   ]
  },
  {
   "cell_type": "markdown",
   "metadata": {},
   "source": [
    "<u>Observations:</u>\n",
    "\n",
    "the larger the `area`, and the larger the `groupsize`, the more uncertain predictions are. This seems tied to the lower number of datapoints as these values increases. This seems logical at first glance as it is doubtful that the distribution of group sizes and area would be uniform (We could come back here to our observations that the distribution of `groupsize` looks similar to a Poisson distribution with parameter $\\lambda=4$)."
   ]
  },
  {
   "cell_type": "markdown",
   "metadata": {},
   "source": [
    "#### 6. Conclusion\n",
    "\n",
    "Via the application of the multivariate Laplace approximation method, we see that using both variables `area` and `groupsize` leads to slopes `b1` and `b2` increasing in value (i.e. effect) compared to the models where both variables are used by themselves, separately. \n",
    "\n",
    "This indicates that there is a feedback loop between the two variables, affecting the resulting `weight` of urban foxes.\n",
    "\n",
    "Beyond this, Looking at the plots, we find that many data points fall beyond the confidence interval displayed in our plots when the values of `area` and `groupsize` increases. As previously stated, it seems related to the thinning of the available datapoints as their value increases, which makes our analysis and prediction less robust when trying to predict `weight` of foxes owning a larger area, or being part of a larger group."
   ]
  },
  {
   "cell_type": "markdown",
   "metadata": {},
   "source": [
    "<hr>\n",
    "<hr>\n",
    "<hr>\n",
    "\n",
    "## Exercise 5"
   ]
  },
  {
   "cell_type": "markdown",
   "metadata": {},
   "source": [
    "Consider the diabetes dataset:"
   ]
  },
  {
   "cell_type": "code",
   "execution_count": 95,
   "metadata": {
    "scrolled": false
   },
   "outputs": [
    {
     "name": "stdout",
     "output_type": "stream",
     "text": [
      ".. _diabetes_dataset:\n",
      "\n",
      "Diabetes dataset\n",
      "----------------\n",
      "\n",
      "Ten baseline variables, age, sex, body mass index, average blood\n",
      "pressure, and six blood serum measurements were obtained for each of n =\n",
      "442 diabetes patients, as well as the response of interest, a\n",
      "quantitative measure of disease progression one year after baseline.\n",
      "\n",
      "**Data Set Characteristics:**\n",
      "\n",
      "  :Number of Instances: 442\n",
      "\n",
      "  :Number of Attributes: First 10 columns are numeric predictive values\n",
      "\n",
      "  :Target: Column 11 is a quantitative measure of disease progression one year after baseline\n",
      "\n",
      "  :Attribute Information:\n",
      "      - age     age in years\n",
      "      - sex\n",
      "      - bmi     body mass index\n",
      "      - bp      average blood pressure\n",
      "      - s1      tc, T-Cells (a type of white blood cells)\n",
      "      - s2      ldl, low-density lipoproteins\n",
      "      - s3      hdl, high-density lipoproteins\n",
      "      - s4      tch, thyroid stimulating hormone\n",
      "      - s5      ltg, lamotrigine\n",
      "      - s6      glu, blood sugar level\n",
      "\n",
      "Note: Each of these 10 feature variables have been mean centered and scaled by the standard deviation times `n_samples` (i.e. the sum of squares of each column totals 1).\n",
      "\n",
      "Source URL:\n",
      "https://www4.stat.ncsu.edu/~boos/var.select/diabetes.html\n",
      "\n",
      "For more information see:\n",
      "Bradley Efron, Trevor Hastie, Iain Johnstone and Robert Tibshirani (2004) \"Least Angle Regression,\" Annals of Statistics (with discussion), 407-499.\n",
      "(https://web.stanford.edu/~hastie/Papers/LARS/LeastAngle_2002.pdf)\n"
     ]
    }
   ],
   "source": [
    "dataset = datasets.load_diabetes(return_X_y=False)\n",
    "print(dataset.DESCR)"
   ]
  },
  {
   "cell_type": "code",
   "execution_count": 96,
   "metadata": {},
   "outputs": [],
   "source": [
    "# Define the feature matrix\n",
    "raw_data = dataset.data\n",
    "\n",
    "# Define the target\n",
    "target = dataset.target"
   ]
  },
  {
   "cell_type": "markdown",
   "metadata": {},
   "source": [
    "### Instructions\n",
    "\n",
    "Investigate the relationship between age (data[:,0]) and Average blood pressure (data[:,3]). \n",
    "By using the WAIC score seen during lesson, can you verify which hypothesis is better supported by the data?\n",
    "\n",
    "- there is no relationship (constant)\n",
    "- the relationship is linear\n",
    "- the relationship is quadratic\n",
    "- the relationship is cubic\n",
    "- the relationship is polynomial of order 4\n",
    "\n",
    "#### 1. Is there a  relationship between the `age` and `bp` variables?\n",
    "\n",
    "We want to check whether or not there is a relationship between the two variables. If there is none, we might hypothesize we can eliminate searching for the other four options."
   ]
  },
  {
   "cell_type": "code",
   "execution_count": 97,
   "metadata": {},
   "outputs": [
    {
     "data": {
      "text/html": [
       "<div>\n",
       "<style scoped>\n",
       "    .dataframe tbody tr th:only-of-type {\n",
       "        vertical-align: middle;\n",
       "    }\n",
       "\n",
       "    .dataframe tbody tr th {\n",
       "        vertical-align: top;\n",
       "    }\n",
       "\n",
       "    .dataframe thead th {\n",
       "        text-align: right;\n",
       "    }\n",
       "</style>\n",
       "<table border=\"1\" class=\"dataframe\">\n",
       "  <thead>\n",
       "    <tr style=\"text-align: right;\">\n",
       "      <th></th>\n",
       "      <th>age</th>\n",
       "      <th>bp</th>\n",
       "    </tr>\n",
       "  </thead>\n",
       "  <tbody>\n",
       "    <tr>\n",
       "      <th>count</th>\n",
       "      <td>4.420000e+02</td>\n",
       "      <td>4.420000e+02</td>\n",
       "    </tr>\n",
       "    <tr>\n",
       "      <th>mean</th>\n",
       "      <td>-3.634285e-16</td>\n",
       "      <td>1.281655e-16</td>\n",
       "    </tr>\n",
       "    <tr>\n",
       "      <th>std</th>\n",
       "      <td>4.761905e-02</td>\n",
       "      <td>4.761905e-02</td>\n",
       "    </tr>\n",
       "    <tr>\n",
       "      <th>min</th>\n",
       "      <td>-1.072256e-01</td>\n",
       "      <td>-1.123996e-01</td>\n",
       "    </tr>\n",
       "    <tr>\n",
       "      <th>25%</th>\n",
       "      <td>-3.729927e-02</td>\n",
       "      <td>-3.665645e-02</td>\n",
       "    </tr>\n",
       "    <tr>\n",
       "      <th>50%</th>\n",
       "      <td>5.383060e-03</td>\n",
       "      <td>-5.670611e-03</td>\n",
       "    </tr>\n",
       "    <tr>\n",
       "      <th>75%</th>\n",
       "      <td>3.807591e-02</td>\n",
       "      <td>3.564384e-02</td>\n",
       "    </tr>\n",
       "    <tr>\n",
       "      <th>max</th>\n",
       "      <td>1.107267e-01</td>\n",
       "      <td>1.320442e-01</td>\n",
       "    </tr>\n",
       "  </tbody>\n",
       "</table>\n",
       "</div>"
      ],
      "text/plain": [
       "                age            bp\n",
       "count  4.420000e+02  4.420000e+02\n",
       "mean  -3.634285e-16  1.281655e-16\n",
       "std    4.761905e-02  4.761905e-02\n",
       "min   -1.072256e-01 -1.123996e-01\n",
       "25%   -3.729927e-02 -3.665645e-02\n",
       "50%    5.383060e-03 -5.670611e-03\n",
       "75%    3.807591e-02  3.564384e-02\n",
       "max    1.107267e-01  1.320442e-01"
      ]
     },
     "execution_count": 97,
     "metadata": {},
     "output_type": "execute_result"
    }
   ],
   "source": [
    "# Retrieves the age and bp variables as a Pandas DataFrame\n",
    "\n",
    "data = pd.DataFrame(data = raw_data, columns = dataset.feature_names)\n",
    "data = data[[\"age\", \"bp\"]]\n",
    "data.describe()"
   ]
  },
  {
   "cell_type": "code",
   "execution_count": 98,
   "metadata": {},
   "outputs": [
    {
     "data": {
      "text/plain": [
       "[Text(0.5, 1.0, 'Distribution of Ages (Diabetes dataset)')]"
      ]
     },
     "execution_count": 98,
     "metadata": {},
     "output_type": "execute_result"
    },
    {
     "data": {
      "image/png": "[encoded data removed]",
      "text/plain": [
       "<Figure size 432x288 with 1 Axes>"
      ]
     },
     "metadata": {
      "needs_background": "light"
     },
     "output_type": "display_data"
    }
   ],
   "source": [
    "sns.kdeplot(data[\"age\"]).set(title=\"Distribution of Ages (Diabetes dataset)\")"
   ]
  },
  {
   "cell_type": "code",
   "execution_count": 99,
   "metadata": {},
   "outputs": [
    {
     "data": {
      "text/plain": [
       "[Text(0.5, 1.0, 'Distribution of Avg. Blood Pressures (Diabetes dataset)')]"
      ]
     },
     "execution_count": 99,
     "metadata": {},
     "output_type": "execute_result"
    },
    {
     "data": {
      "image/png": "[encoded data removed]",
      "text/plain": [
       "<Figure size 432x288 with 1 Axes>"
      ]
     },
     "metadata": {
      "needs_background": "light"
     },
     "output_type": "display_data"
    }
   ],
   "source": [
    "sns.kdeplot(data[\"bp\"]).set(title=\"Distribution of Avg. Blood Pressures (Diabetes dataset)\")"
   ]
  },
  {
   "cell_type": "code",
   "execution_count": 100,
   "metadata": {},
   "outputs": [
    {
     "data": {
      "image/png": "[encoded data removed]",
      "text/plain": [
       "<Figure size 432x288 with 1 Axes>"
      ]
     },
     "metadata": {
      "needs_background": "light"
     },
     "output_type": "display_data"
    }
   ],
   "source": [
    "# Plots the relationship between the two variables\n",
    "\n",
    "plot_relationship(\n",
    "    data[\"bp\"], data[\"age\"], \n",
    "    xlabel=\"Avg. Blood Pressure\", ylabel=\"Age (year)\", \n",
    "    title=\"Average Blood Pressure vs. Age\")"
   ]
  },
  {
   "cell_type": "markdown",
   "metadata": {},
   "source": [
    "<u>Observations:</u>\n",
    "\n",
    "- We verified the note statement that is part of the dataset's description:\n",
    "\n",
    "> Note: Each of these 10 feature variables have been mean centered and scaled by the standard deviation times `n_samples` (i.e. the sum of squares of each column totals 1).\n",
    "\n",
    "- At first glance, there seems to be a somewhat positive relationship between the variables `bp` (average blood pressure) and `age`. This is also informed by general knowledge that blood pressure is usually correlated to age, but this phenomenon will have to be assessed statistically.\n",
    "\n",
    "<u>Studying the simple linear relationship of `age` with `bp`:</u>\n",
    "\n",
    "Now done with a preliminary exploration of the variables `bp` and `age`, we can further study the relationship between the two variables with statistical methods. As such, we are interested in the relationship: \n",
    "\n",
    "\\begin{align}\n",
    "\\text{age} &= a + b * \\text{bp}\\\\\n",
    "age &\\sim \\mathcal{N}(a+c*\\text{bp}, \\sigma)\n",
    "\\end{align}\n",
    "\n",
    "The intercept $a$ expresses the `age` of a patient within the Diabetes dataset when the average blood pressure `bp` is null (here in relative terms as the dataset is centered) while the slope $b$ indicates how much the age of a patient changes with their average blood pressure.\n",
    "\n",
    "To define our Bayesian model, we specify priors for all the parameters we want to analyze. We resort to a standard normal prior for $a$ and $b$ given the centered-ness of the dataset, the support of each variable and our lack of prior belief. Our lack of prior belief also inform setting the prior distribution of the parameter $\\sigma$ as a unfirm distribution.\n",
    "\n",
    "\\begin{align}\n",
    "p(a) &= \\mathcal{N}(0, 1)\\\\\n",
    "p(b) &= \\mathcal{N}(0, 1)\\\\\n",
    "p(\\sigma) &= \\mathcal{U}(0, 2)\n",
    "\\end{align}"
   ]
  },
  {
   "cell_type": "code",
   "execution_count": 124,
   "metadata": {},
   "outputs": [
    {
     "name": "stderr",
     "output_type": "stream",
     "text": [
      "/home/quentin/anaconda3/lib/python3.8/site-packages/scipy/optimize/_numdiff.py:557: RuntimeWarning: invalid value encountered in subtract\n",
      "  df = fun(x) - f0\n",
      "/home/quentin/anaconda3/lib/python3.8/site-packages/scipy/optimize/_numdiff.py:557: RuntimeWarning: invalid value encountered in subtract\n",
      "  df = fun(x) - f0\n"
     ]
    },
    {
     "name": "stdout",
     "output_type": "stream",
     "text": [
      "      fun: -743.4708508960097\n",
      " hess_inv: array([[ 4.55010824e-06,  1.18612824e-07, -5.88223788e-08],\n",
      "       [ 1.18612824e-07,  1.66960805e-03, -5.08681112e-06],\n",
      "       [-5.88223788e-08, -5.08681112e-06,  2.25546330e-06]])\n",
      "      jac: array([0., 0., 0.])\n",
      "  message: 'Optimization terminated successfully.'\n",
      "     nfev: 93\n",
      "      nit: 12\n",
      "     njev: 21\n",
      "   status: 0\n",
      "  success: True\n",
      "        x: array([-7.47139197e-09,  2.79172063e-01,  4.48893363e-02]) \n",
      "\n"
     ]
    }
   ],
   "source": [
    "# Declares the regression expression\n",
    "expression = \"age ~ bp\"\n",
    "\n",
    "# Declares the likelihood\n",
    "likelihood = \"gaussian\"\n",
    "\n",
    "# Defines the prior with hyperparameters \n",
    "prior_a_mean = 0.; prior_a_sigma = 0.1\n",
    "prior_a = [\"gaussian\", [prior_a_mean, prior_a_sigma]]\n",
    "\n",
    "prior_b_mean = 0.; prior_b_sigma = 0.1\n",
    "prior_b = [\"gaussian\", [prior_b_mean, prior_b_sigma]]\n",
    "\n",
    "sigma_inf = 0.; sigma_sup = 1.\n",
    "prior_sigma_unif = [sigma_inf, sigma_sup]\n",
    "prior_sigma = [\"uniform\", prior_sigma_unif]\n",
    "\n",
    "priors = [prior_a, prior_b, prior_sigma]\n",
    "\n",
    "# Performs the optimization\n",
    "solution = laplace_solution_regression(expression, data, likelihood, priors)"
   ]
  },
  {
   "cell_type": "code",
   "execution_count": 125,
   "metadata": {},
   "outputs": [
    {
     "name": "stdout",
     "output_type": "stream",
     "text": [
      "           mean        SD      7.5%     92.5%\n",
      "a      0.000006  0.002165 -0.003112  0.003156\n",
      "b      0.278350  0.040537  0.219501  0.336971\n",
      "sigma  0.044889  0.001507  0.042729  0.047132 \n",
      "\n"
     ]
    }
   ],
   "source": [
    "# Computes posterior samples\n",
    "posterior_means, _, posterior_samples = summarize(solution)"
   ]
  },
  {
   "cell_type": "code",
   "execution_count": 126,
   "metadata": {},
   "outputs": [
    {
     "data": {
      "image/png": "[encoded data removed]",
      "text/plain": [
       "<Figure size 432x288 with 1 Axes>"
      ]
     },
     "metadata": {
      "needs_background": "light"
     },
     "output_type": "display_data"
    }
   ],
   "source": [
    "sampling_from_posterior(\n",
    "    data, 0, \n",
    "    \"age\", \"bp\", \n",
    "    posterior_samples, posterior_means,\n",
    "    \"Age vs Average Blood Pressure\", \"Avg. Blood Pressure\", \"Age\"\n",
    ")"
   ]
  },
  {
   "cell_type": "code",
   "execution_count": 127,
   "metadata": {},
   "outputs": [
    {
     "data": {
      "image/png": "[encoded data removed]",
      "text/plain": [
       "<Figure size 432x288 with 1 Axes>"
      ]
     },
     "metadata": {
      "needs_background": "light"
     },
     "output_type": "display_data"
    }
   ],
   "source": [
    "plot_posterior_univariate_regression(\n",
    "    solution, \n",
    "    np.arange(-0.15,0.15,0.005), \n",
    "    data, \n",
    "    names = ['bp','age']\n",
    ")"
   ]
  },
  {
   "cell_type": "code",
   "execution_count": 128,
   "metadata": {},
   "outputs": [
    {
     "data": {
      "image/png": "[encoded data removed]",
      "text/plain": [
       "<Figure size 432x288 with 1 Axes>"
      ]
     },
     "metadata": {
      "needs_background": "light"
     },
     "output_type": "display_data"
    }
   ],
   "source": [
    "plot_boxplot_regression(\n",
    "    solution, \n",
    "    \"age\", \n",
    "    \"Relationship between age and avg. blood pressure\"\n",
    ")"
   ]
  },
  {
   "cell_type": "markdown",
   "metadata": {},
   "source": [
    "<u>Observations:</u>\n",
    "    \n",
    "The posterior mean of the slope $b$ for `bp` is 0.33. Moreover the 85% posterior interval for $b$ is [0.32, 0.34], which lies well away from zero. As such, there is a strong relationship between `age` and its covariate `bp`. We might conclude that `bp` is a reliable predictor of `age` among the patient listed in the Diabetes dataset. \n",
    "\n",
    "Now that we have confirmed that there is a relationship, we are interested whether or not it is linear, quadratic, cubic, or of order 4."
   ]
  },
  {
   "cell_type": "markdown",
   "metadata": {},
   "source": [
    "#### 2. Application of the WAIC for hypothesis verification\n",
    "\n",
    "Now that we have settled the observation that there is a positive feedback between the variables `age` and `bp`, we are questioning the kind of relationship it is. We want to test whether the relationship is:\n",
    "\n",
    "- linear (we already did check above but we will reproduce the process below in order to compute the WAIC)\n",
    "- quadratic\n",
    "- cubic\n",
    "- of order 4\n",
    "\n",
    "<u>Creating the dataset<u>"
   ]
  },
  {
   "cell_type": "code",
   "execution_count": 129,
   "metadata": {
    "scrolled": true
   },
   "outputs": [
    {
     "data": {
      "text/html": [
       "<div>\n",
       "<style scoped>\n",
       "    .dataframe tbody tr th:only-of-type {\n",
       "        vertical-align: middle;\n",
       "    }\n",
       "\n",
       "    .dataframe tbody tr th {\n",
       "        vertical-align: top;\n",
       "    }\n",
       "\n",
       "    .dataframe thead th {\n",
       "        text-align: right;\n",
       "    }\n",
       "</style>\n",
       "<table border=\"1\" class=\"dataframe\">\n",
       "  <thead>\n",
       "    <tr style=\"text-align: right;\">\n",
       "      <th></th>\n",
       "      <th>age</th>\n",
       "      <th>bp1</th>\n",
       "      <th>bp2</th>\n",
       "      <th>bp3</th>\n",
       "      <th>bp4</th>\n",
       "    </tr>\n",
       "  </thead>\n",
       "  <tbody>\n",
       "    <tr>\n",
       "      <th>count</th>\n",
       "      <td>4.420000e+02</td>\n",
       "      <td>4.420000e+02</td>\n",
       "      <td>4.420000e+02</td>\n",
       "      <td>4.420000e+02</td>\n",
       "      <td>4.420000e+02</td>\n",
       "    </tr>\n",
       "    <tr>\n",
       "      <th>mean</th>\n",
       "      <td>-3.634285e-16</td>\n",
       "      <td>1.281655e-16</td>\n",
       "      <td>2.262443e-03</td>\n",
       "      <td>3.117309e-05</td>\n",
       "      <td>1.259026e-05</td>\n",
       "    </tr>\n",
       "    <tr>\n",
       "      <th>std</th>\n",
       "      <td>4.761905e-02</td>\n",
       "      <td>4.761905e-02</td>\n",
       "      <td>2.736522e-03</td>\n",
       "      <td>3.198483e-04</td>\n",
       "      <td>3.004499e-05</td>\n",
       "    </tr>\n",
       "    <tr>\n",
       "      <th>min</th>\n",
       "      <td>-1.072256e-01</td>\n",
       "      <td>-1.123996e-01</td>\n",
       "      <td>4.557233e-09</td>\n",
       "      <td>-1.420020e-03</td>\n",
       "      <td>2.076837e-17</td>\n",
       "    </tr>\n",
       "    <tr>\n",
       "      <th>25%</th>\n",
       "      <td>-3.729927e-02</td>\n",
       "      <td>-3.665645e-02</td>\n",
       "      <td>3.076689e-04</td>\n",
       "      <td>-4.925509e-05</td>\n",
       "      <td>9.490351e-08</td>\n",
       "    </tr>\n",
       "    <tr>\n",
       "      <th>50%</th>\n",
       "      <td>5.383060e-03</td>\n",
       "      <td>-5.670611e-03</td>\n",
       "      <td>1.270483e-03</td>\n",
       "      <td>-1.823432e-07</td>\n",
       "      <td>1.614127e-06</td>\n",
       "    </tr>\n",
       "    <tr>\n",
       "      <th>75%</th>\n",
       "      <td>3.807591e-02</td>\n",
       "      <td>3.564384e-02</td>\n",
       "      <td>3.284857e-03</td>\n",
       "      <td>4.528490e-05</td>\n",
       "      <td>1.079028e-05</td>\n",
       "    </tr>\n",
       "    <tr>\n",
       "      <th>max</th>\n",
       "      <td>1.107267e-01</td>\n",
       "      <td>1.320442e-01</td>\n",
       "      <td>1.743568e-02</td>\n",
       "      <td>2.302280e-03</td>\n",
       "      <td>3.040028e-04</td>\n",
       "    </tr>\n",
       "  </tbody>\n",
       "</table>\n",
       "</div>"
      ],
      "text/plain": [
       "                age           bp1           bp2           bp3           bp4\n",
       "count  4.420000e+02  4.420000e+02  4.420000e+02  4.420000e+02  4.420000e+02\n",
       "mean  -3.634285e-16  1.281655e-16  2.262443e-03  3.117309e-05  1.259026e-05\n",
       "std    4.761905e-02  4.761905e-02  2.736522e-03  3.198483e-04  3.004499e-05\n",
       "min   -1.072256e-01 -1.123996e-01  4.557233e-09 -1.420020e-03  2.076837e-17\n",
       "25%   -3.729927e-02 -3.665645e-02  3.076689e-04 -4.925509e-05  9.490351e-08\n",
       "50%    5.383060e-03 -5.670611e-03  1.270483e-03 -1.823432e-07  1.614127e-06\n",
       "75%    3.807591e-02  3.564384e-02  3.284857e-03  4.528490e-05  1.079028e-05\n",
       "max    1.107267e-01  1.320442e-01  1.743568e-02  2.302280e-03  3.040028e-04"
      ]
     },
     "execution_count": 129,
     "metadata": {},
     "output_type": "execute_result"
    }
   ],
   "source": [
    "data_copy = data.copy()\n",
    "data_copy['bp2'] = data_copy[\"bp\"] ** 2\n",
    "data_copy['bp3'] = data_copy[\"bp\"] ** 3\n",
    "data_copy['bp4'] = data_copy[\"bp\"] ** 4\n",
    "data_copy.rename(columns={\"bp\": \"bp1\"}, inplace=True)\n",
    "\n",
    "data_copy.describe()"
   ]
  },
  {
   "cell_type": "markdown",
   "metadata": {},
   "source": [
    "<u>Creating the different regression expressions:</u>"
   ]
  },
  {
   "cell_type": "code",
   "execution_count": 130,
   "metadata": {},
   "outputs": [],
   "source": [
    "linear = \"age ~ bp1\"\n",
    "quadratic = \"age ~ bp1 + bp2\"\n",
    "cubic = \"age ~ bp1 + bp2 + bp3\"\n",
    "order4 = \"age ~ bp1 + bp2 + bp3 + bp4\"\n",
    "\n",
    "expressions = [linear, quadratic, cubic, order4]"
   ]
  },
  {
   "cell_type": "markdown",
   "metadata": {},
   "source": [
    "<u>Running the regression processes:</u>\n",
    "\n",
    "W e are interested in the relationship:\n",
    "\n",
    "\\begin{align}\n",
    "age &= a + b*bp &\\text{linear}\\\\\n",
    "&= a + b*bp + c*bp^2 &\\text{quadratic}\\\\\n",
    "&= a + b*bp + c*bp^2 + d*bp^3 &\\text{cubic}\\\\\n",
    "&= a + b*bp + c*bp^2 + d*bp^3 + e*bp^4 &\\text{fourth-order}\\\\\n",
    "\\end{align}\n",
    "\n",
    "To define our Bayesian model, we specify priors for all the parameters $a$, $b$, $c$, $d$, and $e$ that we want to analyze. We resort to a standard normal prior for all of them given the centered-ness of the dataset, the support of each variable and our lack of prior belief. Our lack of prior belief also inform setting the prior distribution of the parameter $\\sigma$ as a unfirm distribution.\n",
    "\n",
    "\\begin{align}\n",
    "p(a) &= \\mathcal{N}(0, 1)\\\\\n",
    "p(b) &= \\mathcal{N}(0, 1)\\\\\n",
    "p(c) &= \\mathcal{N}(0, 1)\\\\\n",
    "p(d) &= \\mathcal{N}(0, 1)\\\\\n",
    "p(e) &= \\mathcal{N}(0, 1)\\\\\n",
    "p(\\sigma) &= \\mathcal{U}(0, 2)\n",
    "\\end{align}"
   ]
  },
  {
   "cell_type": "code",
   "execution_count": 131,
   "metadata": {
    "scrolled": false
   },
   "outputs": [
    {
     "name": "stderr",
     "output_type": "stream",
     "text": [
      "/home/quentin/anaconda3/lib/python3.8/site-packages/scipy/optimize/_numdiff.py:557: RuntimeWarning: invalid value encountered in subtract\n",
      "  df = fun(x) - f0\n"
     ]
    },
    {
     "name": "stdout",
     "output_type": "stream",
     "text": [
      "      fun: -742.7998772739714\n",
      " hess_inv: array([[ 4.38173366e-06, -3.45475418e-06, -3.91834619e-06],\n",
      "       [-3.45475418e-06,  2.50639950e-04,  1.27037919e-04],\n",
      "       [-3.91834619e-06,  1.27037919e-04,  6.54828941e-05]])\n",
      "      jac: array([-7.62939453e-06,  7.62939453e-06,  1.52587891e-05])\n",
      "  message: 'Desired error not necessarily achieved due to precision loss.'\n",
      "     nfev: 155\n",
      "      nit: 25\n",
      "     njev: 38\n",
      "   status: 2\n",
      "  success: False\n",
      "        x: array([-7.47004593e-09,  3.34754563e-01,  4.48095285e-02]) \n",
      "\n"
     ]
    },
    {
     "name": "stderr",
     "output_type": "stream",
     "text": [
      "/home/quentin/anaconda3/lib/python3.8/site-packages/scipy/optimize/_numdiff.py:557: RuntimeWarning: invalid value encountered in subtract\n",
      "  df = fun(x) - f0\n"
     ]
    },
    {
     "name": "stdout",
     "output_type": "stream",
     "text": [
      "      fun: -742.6203179456522\n",
      " hess_inv: array([[ 7.47176427e-06,  6.28094485e-05, -1.42540769e-04,\n",
      "         1.22325429e-06],\n",
      "       [ 6.28094485e-05,  2.57103159e-03, -5.30205446e-03,\n",
      "         2.00644711e-05],\n",
      "       [-1.42540769e-04, -5.30205446e-03,  1.27168844e-02,\n",
      "        -4.70664420e-05],\n",
      "       [ 1.22325429e-06,  2.00644711e-05, -4.70664420e-05,\n",
      "         2.37459582e-06]])\n",
      "      jac: array([9.00268555e-04, 4.57763672e-05, 7.62939453e-06, 3.50952148e-04])\n",
      "  message: 'Desired error not necessarily achieved due to precision loss.'\n",
      "     nfev: 215\n",
      "      nit: 26\n",
      "     njev: 43\n",
      "   status: 2\n",
      "  success: False\n",
      "        x: array([ 0.00172311,  0.34523078, -0.76161794,  0.04470493]) \n",
      "\n"
     ]
    },
    {
     "name": "stderr",
     "output_type": "stream",
     "text": [
      "/home/quentin/anaconda3/lib/python3.8/site-packages/scipy/optimize/_numdiff.py:557: RuntimeWarning: invalid value encountered in subtract\n",
      "  df = fun(x) - f0\n",
      "/home/quentin/anaconda3/lib/python3.8/site-packages/scipy/optimize/_numdiff.py:557: RuntimeWarning: invalid value encountered in subtract\n",
      "  df = fun(x) - f0\n"
     ]
    },
    {
     "name": "stdout",
     "output_type": "stream",
     "text": [
      "      fun: -741.7374939720087\n",
      " hess_inv: array([[ 4.02015071e-06,  7.30967529e-06, -1.13039126e-05,\n",
      "         9.52127266e-12, -1.39371055e-07],\n",
      "       [ 7.30967529e-06,  2.00837013e-03,  2.32458587e-05,\n",
      "        -1.01863407e-10,  6.01281559e-06],\n",
      "       [-1.13039126e-05,  2.32458587e-05,  4.49094439e-03,\n",
      "        -6.38829079e-09, -3.16974035e-07],\n",
      "       [ 9.52127266e-12, -1.01863407e-10, -6.38829079e-09,\n",
      "         6.38101483e-09, -2.72848411e-12],\n",
      "       [-1.39371055e-07,  6.01281559e-06, -3.16974035e-07,\n",
      "        -2.72848411e-12,  2.13177019e-06]])\n",
      "      jac: array([2.82287598e-04, 3.05175781e-05, 7.62939453e-06, 7.62939453e-06,\n",
      "       2.13623047e-04])\n",
      "  message: 'Desired error not necessarily achieved due to precision loss.'\n",
      "     nfev: 304\n",
      "      nit: 19\n",
      "     njev: 49\n",
      "   status: 2\n",
      "  success: False\n",
      "        x: array([ 0.0017246 ,  0.34667711, -0.75858665, -0.26789081,  0.04469783]) \n",
      "\n"
     ]
    },
    {
     "name": "stderr",
     "output_type": "stream",
     "text": [
      "/home/quentin/anaconda3/lib/python3.8/site-packages/scipy/optimize/_numdiff.py:557: RuntimeWarning: invalid value encountered in subtract\n",
      "  df = fun(x) - f0\n",
      "/home/quentin/anaconda3/lib/python3.8/site-packages/scipy/optimize/_numdiff.py:557: RuntimeWarning: invalid value encountered in subtract\n",
      "  df = fun(x) - f0\n",
      "/home/quentin/anaconda3/lib/python3.8/site-packages/scipy/optimize/_numdiff.py:557: RuntimeWarning: invalid value encountered in subtract\n",
      "  df = fun(x) - f0\n"
     ]
    },
    {
     "name": "stdout",
     "output_type": "stream",
     "text": [
      "      fun: -740.8187496220264\n",
      " hess_inv: array([[ 1.23822801e-03,  3.41119207e-03, -1.69636640e-01,\n",
      "         1.41763123e-03,  4.36186351e-03,  1.89830440e-04],\n",
      "       [ 3.41119207e-03,  9.42096133e-03, -4.67361507e-01,\n",
      "         3.85631441e-03,  1.20427643e-02,  5.24541796e-04],\n",
      "       [-1.69636640e-01, -4.67361507e-01,  2.35007648e+01,\n",
      "        -2.12417503e-01, -5.97599043e-01, -2.59962914e-02],\n",
      "       [ 1.41763123e-03,  3.85631441e-03, -2.12417503e-01,\n",
      "         9.92622114e-01,  4.94522870e-03,  2.24067652e-04],\n",
      "       [ 4.36186351e-03,  1.20427643e-02, -5.97599043e-01,\n",
      "         4.94522870e-03,  1.54077523e-02,  6.71890064e-04],\n",
      "       [ 1.89830440e-04,  5.24541796e-04, -2.59962914e-02,\n",
      "         2.24067652e-04,  6.71890064e-04,  3.15097115e-05]])\n",
      "      jac: array([ 1.52587891e-05, -7.62939453e-06,  0.00000000e+00,  0.00000000e+00,\n",
      "       -7.62939453e-06,  0.00000000e+00])\n",
      "  message: 'Desired error not necessarily achieved due to precision loss.'\n",
      "     nfev: 597\n",
      "      nit: 19\n",
      "     njev: 82\n",
      "   status: 2\n",
      "  success: False\n",
      "        x: array([ 0.00172458,  0.34667868, -0.75846931, -0.26788305, -0.01970076,\n",
      "        0.0446978 ]) \n",
      "\n"
     ]
    }
   ],
   "source": [
    "sampling_size = 5000 # sampling size to compute PDF\n",
    "\n",
    "lppd = []\n",
    "p_waic = []\n",
    "\n",
    "# Initializing the likelihood\n",
    "likelihood = 'gaussian'\n",
    "\n",
    "# Defining the prior with hyperparameters \n",
    "prior_a_mean = 0\n",
    "prior_a_sigma = 1\n",
    "prior_a = ['gaussian', [prior_a_mean, prior_a_sigma]]\n",
    "\n",
    "# To avoid memory copies and overwrite, better declare\n",
    "# separate object\n",
    "prior_b1_mean = 0; prior_b2_mean = 0\n",
    "prior_b3_mean = 0; prior_b4_mean = 0\n",
    "prior_b1_sigma = 1; prior_b2_sigma = 1\n",
    "prior_b3_sigma = 1; prior_b4_sigma = 1\n",
    "prior_b1 = ['gaussian', [prior_b1_mean, prior_b1_sigma]]\n",
    "prior_b2 = ['gaussian', [prior_b2_mean, prior_b2_sigma]]\n",
    "prior_b3 = ['gaussian', [prior_b3_mean, prior_b3_sigma]]\n",
    "prior_b4 = ['gaussian', [prior_b4_mean, prior_b4_sigma]]\n",
    "\n",
    "sigma_inf = 0\n",
    "sigma_sup = 2\n",
    "prior_sigma_unif = [sigma_inf, sigma_sup]\n",
    "prior_sigma = ['uniform', prior_sigma_unif]\n",
    "\n",
    "priors = [prior_a, prior_b1, prior_b2, prior_b3, prior_b4]\n",
    "\n",
    "solutions = [laplace_solution_regression(\n",
    "                expressions[i], data_copy, likelihood, \n",
    "                priors[:i+2] + [prior_sigma]) \n",
    "             for i in range(len(expressions))]\n",
    "\n",
    "posterior_samples = [posterior_sampling_laplace(solutions[i], sampling_size)\n",
    "                     for i in range(len(expressions))]"
   ]
  },
  {
   "cell_type": "code",
   "execution_count": 132,
   "metadata": {},
   "outputs": [
    {
     "name": "stdout",
     "output_type": "stream",
     "text": [
      "Regression results for a linear model:\n",
      "           mean        SD      7.5%     92.5%\n",
      "a     -0.000010  0.002092 -0.003088  0.003006\n",
      "b1     0.335068  0.016083  0.312098  0.358642\n",
      "sigma  0.044973  0.008202  0.033232  0.056900 \n",
      "\n",
      "\n",
      "\n",
      "Regression results for a quadratic model:\n",
      "           mean        SD      7.5%     92.5%\n",
      "a      0.001718  0.002686 -0.002119  0.005515\n",
      "b1     0.343859  0.050178  0.269608  0.417365\n",
      "b2    -0.759914  0.111677 -0.921635 -0.596989\n",
      "sigma  0.044685  0.001533  0.042426  0.046877 \n",
      "\n",
      "\n",
      "\n",
      "Regression results for a cubic model:\n",
      "           mean        SD      7.5%     92.5%\n",
      "a      0.001755  0.001970 -0.001119  0.004590\n",
      "b1     0.345829  0.044935  0.281838  0.410547\n",
      "b2    -0.758468  0.067431 -0.854730 -0.658497\n",
      "b3    -0.267891  0.000081 -0.268008 -0.267775\n",
      "sigma  0.044689  0.001463  0.042610  0.046806 \n",
      "\n",
      "\n",
      "\n",
      "Regression results for a fourth-order model:\n",
      "           mean        SD      7.5%     92.5%\n",
      "a      0.001947  0.035287 -0.047702  0.053236\n",
      "b1     0.347353  0.097281  0.209928  0.488761\n",
      "b2    -0.787075  4.865286 -7.865677  6.113530\n",
      "b3    -0.253170  0.983942 -1.681473  1.139095\n",
      "b4    -0.018833  0.124369 -0.195292  0.161902\n",
      "sigma  0.044722  0.005585  0.036653  0.052824 \n",
      "\n",
      "\n",
      "\n"
     ]
    }
   ],
   "source": [
    "models = [\"linear\", \"quadratic\", \"cubic\", \"fourth-order\"]\n",
    "col_names = [\"a\", \"b1\", \"b2\", \"b3\", \"b4\", \"sigma\"]\n",
    "\n",
    "for i, solution in enumerate(solutions):\n",
    "    print(f\"Regression results for a {models[i]} model:\")\n",
    "    names = dict(zip(range(i + 3), col_names[:i+2]+col_names[-1:]))\n",
    "    _, _, _ = summarize(solution, names=names); print(\"\\n\")"
   ]
  },
  {
   "cell_type": "markdown",
   "metadata": {},
   "source": [
    "<u>Observations:</u>\n",
    "\n",
    "It appears that the linear, quadratic, and cubic variant of the variable `bp` have an either positive or negative effect on `age`. Only the fourth-order variant `b4` shows a mean near zero, implying that its influence on a regression is near flat. As such, we would tend to hypothesize that either the linear, quadratic, or cubic models are worth keeping. \n",
    "\n",
    "The question is which one. To find the proper model, we use the WAIC measure.\n",
    "\n",
    "<u>Applying the WAIC:</u>"
   ]
  },
  {
   "cell_type": "code",
   "execution_count": 133,
   "metadata": {},
   "outputs": [
    {
     "name": "stdout",
     "output_type": "stream",
     "text": [
      "               WAIC       pWAIC       dWAIC         weight         SE  \\\n",
      "model1 -1383.860304   49.595219  103.650838   2.234228e-23  35.391168   \n",
      "model2 -1485.633895    3.290999    1.877247   2.811785e-01  25.743036   \n",
      "model3 -1487.511142    2.578551    0.000000   7.188215e-01  25.724336   \n",
      "model4  -821.248787  320.599996  666.262355  1.512130e-145  62.009650   \n",
      "\n",
      "             d_SE  \n",
      "model1  10.512782  \n",
      "model2   0.214961  \n",
      "model3        NaN  \n",
      "model4  46.342973  \n"
     ]
    }
   ],
   "source": [
    "# with n_sampling >> 100, this can take a while\n",
    "\n",
    "summarize_WAIC_statistics(    \n",
    "    depvar_name = \"age\",\n",
    "    covar_name = \"bp\",\n",
    "    max_order = 4, \n",
    "    n_sampling = sampling_size,\n",
    "    posterior_samples = posterior_samples, \n",
    "    data = data_copy\n",
    ")"
   ]
  },
  {
   "cell_type": "markdown",
   "metadata": {},
   "source": [
    "> The WAIC should be interpreted as measure of performance when the model is applied on unseen data. And the SE will help evaluating the uncertainty associated with the WAIC. [...] The Akaike weight helps also to intepret how these different models perform with repsect to each other by giving a relative measure of reliability. The weight should be interpreted as *the probability that the model will make the best predictions on new data, conditional on the set of models considered*.\n",
    ">\n",
    "> *From class 8*\n",
    "\n",
    "<u>Interpretation:</u>\n",
    "\n",
    "In this context, it seems that, in general, **the third model is the one performing best for this particular dataset**. We also see that following the third model seems to be the best choice when looking at the WAIC. \n",
    "\n",
    "**NOTE**: Sometimes, seemingly depending on the value of `n_sampling`, **the linear or the fourth model might show up on top**."
   ]
  },
  {
   "cell_type": "code",
   "execution_count": 134,
   "metadata": {},
   "outputs": [],
   "source": [
    "posterior_samples = [posterior_sampling_laplace(solutions[i], sampling_size) for i in range(4)]\n",
    "boxes = {}\n",
    "\n",
    "boxes[\"b1\"] = [posterior_samples[i][:,1] for i in range(4)]\n",
    "boxes[\"b2\"] = [posterior_samples[i][:,2] for i in range(1, 4)]\n",
    "boxes[\"b3\"] = [posterior_samples[i][:,3] for i in range(2, 4)]\n",
    "boxes[\"b4\"] = [posterior_samples[i][:,4] for i in range(3, 4)]\n",
    "\n",
    "model1_boxes = [boxes[\"b1\"][0]]\n",
    "model2_boxes = [boxes[\"b1\"][1], boxes[\"b2\"][0]]\n",
    "model3_boxes = [boxes[\"b1\"][2], boxes[\"b2\"][1], boxes[\"b3\"][0]]\n",
    "model4_boxes = [boxes[\"b1\"][3], boxes[\"b2\"][2], boxes[\"b3\"][1], boxes[\"b4\"][0]]"
   ]
  },
  {
   "cell_type": "code",
   "execution_count": 135,
   "metadata": {},
   "outputs": [
    {
     "data": {
      "image/png": "[encoded data removed]",
      "text/plain": [
       "<Figure size 432x288 with 1 Axes>"
      ]
     },
     "metadata": {
      "needs_background": "light"
     },
     "output_type": "display_data"
    }
   ],
   "source": [
    "plt.figure()\n",
    "plt.boxplot([boxes[\"b1\"][i] for i in range(4)],vert=0)\n",
    "plt.yticks([1,2,3,4], [\"m1, linear\", \"m2, quadratic\", \"m3, cubic\", \"m4, fourth-order\"])\n",
    "plt.axvline(x=0, color = 'black', alpha = 0.1)\n",
    "plt.title('Posterior estimates of bp across the four models')\n",
    "plt.show()"
   ]
  },
  {
   "cell_type": "code",
   "execution_count": 136,
   "metadata": {},
   "outputs": [
    {
     "data": {
      "image/png": "[encoded data removed]",
      "text/plain": [
       "<Figure size 432x288 with 1 Axes>"
      ]
     },
     "metadata": {
      "needs_background": "light"
     },
     "output_type": "display_data"
    }
   ],
   "source": [
    "plt.figure()\n",
    "plt.boxplot([boxes[\"b2\"][i] for i in range(3)],vert=0)\n",
    "plt.yticks([1,2,3], [\"m2, quadratic\", \"m3, cubic\", \"m4, fourth-order\"])\n",
    "plt.axvline(x=0, color = 'black', alpha = 0.1)\n",
    "plt.title('Posterior estimates of bp^2 across the quadratic, cubic,\\n and fourth-order models')\n",
    "plt.show()"
   ]
  },
  {
   "cell_type": "code",
   "execution_count": 137,
   "metadata": {},
   "outputs": [
    {
     "data": {
      "image/png": "[encoded data removed]",
      "text/plain": [
       "<Figure size 432x288 with 1 Axes>"
      ]
     },
     "metadata": {
      "needs_background": "light"
     },
     "output_type": "display_data"
    }
   ],
   "source": [
    "plt.figure()\n",
    "plt.boxplot([boxes[\"b3\"][i] for i in range(2)],vert=0)\n",
    "plt.yticks([1,2], [\"m3, cubic\", \"m4, fourth-order\"])\n",
    "plt.axvline(x=0, color = 'black', alpha = 0.1)\n",
    "plt.title('Posterior estimates of bp^3 across the cubic and fourth-order models')\n",
    "plt.show()"
   ]
  },
  {
   "cell_type": "code",
   "execution_count": 138,
   "metadata": {
    "scrolled": false
   },
   "outputs": [
    {
     "data": {
      "image/png": "[encoded data removed]",
      "text/plain": [
       "<Figure size 432x288 with 1 Axes>"
      ]
     },
     "metadata": {
      "needs_background": "light"
     },
     "output_type": "display_data"
    }
   ],
   "source": [
    "plt.figure()\n",
    "plt.boxplot(boxes[\"b4\"], vert=0)\n",
    "plt.yticks([1], [\"m4, fourth-order\"])\n",
    "plt.axvline(x=0, color = 'black', alpha = 0.1)\n",
    "plt.title('Posterior estimates of bp^4 as part of the fourth-order model')\n",
    "plt.show()"
   ]
  },
  {
   "cell_type": "code",
   "execution_count": 139,
   "metadata": {},
   "outputs": [
    {
     "data": {
      "image/png": "[encoded data removed]",
      "text/plain": [
       "<Figure size 432x288 with 1 Axes>"
      ]
     },
     "metadata": {
      "needs_background": "light"
     },
     "output_type": "display_data"
    }
   ],
   "source": [
    "plt.figure()\n",
    "plt.boxplot(model1_boxes, vert=0)\n",
    "plt.yticks([1], [\"b1, linear\"])\n",
    "plt.axvline(x=0, color = \"black\", alpha = 0.1)\n",
    "plt.title(\"Posterior estimate of the linear model's parameter\")\n",
    "plt.show()"
   ]
  },
  {
   "cell_type": "code",
   "execution_count": 140,
   "metadata": {},
   "outputs": [
    {
     "data": {
      "image/png": "[encoded data removed]",
      "text/plain": [
       "<Figure size 432x288 with 1 Axes>"
      ]
     },
     "metadata": {
      "needs_background": "light"
     },
     "output_type": "display_data"
    }
   ],
   "source": [
    "plt.figure()\n",
    "plt.boxplot(model2_boxes, vert=0)\n",
    "plt.yticks([1,2], [\"b1, linear\", \"b2, quadratic\"])\n",
    "plt.axvline(x=0, color = \"black\", alpha = 0.1)\n",
    "plt.title(\"Posterior estimates of the quadratic model's parameters\")\n",
    "plt.show()"
   ]
  },
  {
   "cell_type": "code",
   "execution_count": 141,
   "metadata": {},
   "outputs": [
    {
     "data": {
      "image/png": "[encoded data removed]",
      "text/plain": [
       "<Figure size 432x288 with 1 Axes>"
      ]
     },
     "metadata": {
      "needs_background": "light"
     },
     "output_type": "display_data"
    }
   ],
   "source": [
    "plt.figure()\n",
    "plt.boxplot(model3_boxes, vert=0)\n",
    "plt.yticks([1,2,3], [\"b1, linear\", \"b2, quadratic\", \"b3, cubic\"])\n",
    "plt.axvline(x=0, color = \"black\", alpha = 0.1)\n",
    "plt.title(\"Posterior estimates of the cubic model's parameters\")\n",
    "plt.show()"
   ]
  },
  {
   "cell_type": "code",
   "execution_count": 142,
   "metadata": {},
   "outputs": [
    {
     "data": {
      "image/png": "[encoded data removed]",
      "text/plain": [
       "<Figure size 432x288 with 1 Axes>"
      ]
     },
     "metadata": {
      "needs_background": "light"
     },
     "output_type": "display_data"
    }
   ],
   "source": [
    "plt.figure()\n",
    "plt.boxplot(model4_boxes, vert=0)\n",
    "plt.yticks([1,2,3,4], [\"b1, linear\", \"b2, quadratic\", \"b3, cubic\", \"b4, fourth-order\"])\n",
    "plt.axvline(x=0, color = \"black\", alpha = 0.1)\n",
    "plt.title(\"Posterior estimates of the fourth-order model's parameters\")\n",
    "plt.show()"
   ]
  },
  {
   "cell_type": "markdown",
   "metadata": {},
   "source": [
    "<u>Conclusion:</u>\n",
    "    \n",
    "These boxplots show us how the impact of the posterior estimates for the different orders of the variable `bp` when they are added to the regression modeling. By looking at the posterior estimates we see that each parameter besides the fourth one are relatively important to the end value of the regression.\n",
    "\n",
    "This importance in terms of magnitude is also coupled with the generally lowest WAIC value for the cubic model (most of the time -- otherwise the fourth model comes on top). This the fact that this is the best suited model (among the ones we tested) to describe this dataset."
   ]
  },
  {
   "cell_type": "markdown",
   "metadata": {},
   "source": [
    "<hr>\n",
    "<hr>\n",
    "<hr>\n",
    "\n",
    "## Exercise 6"
   ]
  },
  {
   "cell_type": "markdown",
   "metadata": {},
   "source": [
    "### Instructions\n",
    "\n",
    "Which model would you support between the following:\n",
    "\n",
    "- target depends on _Age_\n",
    "- target depends on _Age_ and _Sex_\n",
    "- target depends on _Age_ and _Body mass index_ \n",
    "- target depends on _Age_ and _Body mass index_ and _Average blood pressure_\n",
    "- target depends on _Age_ and _Sex_ and _Body mass index_ \n",
    "- target depends on _Age_ and _Sex_ and _Body mass index_ and _Average blood pressure_\n",
    "- target depends on  _Body mass index_ and _Average blood pressure_\n",
    "\n",
    "<hr>\n",
    "\n",
    "#### 1. Data import and exploration"
   ]
  },
  {
   "cell_type": "code",
   "execution_count": 55,
   "metadata": {},
   "outputs": [
    {
     "data": {
      "text/html": [
       "<div>\n",
       "<style scoped>\n",
       "    .dataframe tbody tr th:only-of-type {\n",
       "        vertical-align: middle;\n",
       "    }\n",
       "\n",
       "    .dataframe tbody tr th {\n",
       "        vertical-align: top;\n",
       "    }\n",
       "\n",
       "    .dataframe thead th {\n",
       "        text-align: right;\n",
       "    }\n",
       "</style>\n",
       "<table border=\"1\" class=\"dataframe\">\n",
       "  <thead>\n",
       "    <tr style=\"text-align: right;\">\n",
       "      <th></th>\n",
       "      <th>age</th>\n",
       "      <th>sex</th>\n",
       "      <th>bmi</th>\n",
       "      <th>bp</th>\n",
       "      <th>target</th>\n",
       "    </tr>\n",
       "  </thead>\n",
       "  <tbody>\n",
       "    <tr>\n",
       "      <th>0</th>\n",
       "      <td>0.038076</td>\n",
       "      <td>0.050680</td>\n",
       "      <td>0.061696</td>\n",
       "      <td>0.021872</td>\n",
       "      <td>151.0</td>\n",
       "    </tr>\n",
       "    <tr>\n",
       "      <th>1</th>\n",
       "      <td>-0.001882</td>\n",
       "      <td>-0.044642</td>\n",
       "      <td>-0.051474</td>\n",
       "      <td>-0.026328</td>\n",
       "      <td>75.0</td>\n",
       "    </tr>\n",
       "    <tr>\n",
       "      <th>2</th>\n",
       "      <td>0.085299</td>\n",
       "      <td>0.050680</td>\n",
       "      <td>0.044451</td>\n",
       "      <td>-0.005671</td>\n",
       "      <td>141.0</td>\n",
       "    </tr>\n",
       "    <tr>\n",
       "      <th>3</th>\n",
       "      <td>-0.089063</td>\n",
       "      <td>-0.044642</td>\n",
       "      <td>-0.011595</td>\n",
       "      <td>-0.036656</td>\n",
       "      <td>206.0</td>\n",
       "    </tr>\n",
       "    <tr>\n",
       "      <th>4</th>\n",
       "      <td>0.005383</td>\n",
       "      <td>-0.044642</td>\n",
       "      <td>-0.036385</td>\n",
       "      <td>0.021872</td>\n",
       "      <td>135.0</td>\n",
       "    </tr>\n",
       "    <tr>\n",
       "      <th>...</th>\n",
       "      <td>...</td>\n",
       "      <td>...</td>\n",
       "      <td>...</td>\n",
       "      <td>...</td>\n",
       "      <td>...</td>\n",
       "    </tr>\n",
       "    <tr>\n",
       "      <th>437</th>\n",
       "      <td>0.041708</td>\n",
       "      <td>0.050680</td>\n",
       "      <td>0.019662</td>\n",
       "      <td>0.059744</td>\n",
       "      <td>178.0</td>\n",
       "    </tr>\n",
       "    <tr>\n",
       "      <th>438</th>\n",
       "      <td>-0.005515</td>\n",
       "      <td>0.050680</td>\n",
       "      <td>-0.015906</td>\n",
       "      <td>-0.067642</td>\n",
       "      <td>104.0</td>\n",
       "    </tr>\n",
       "    <tr>\n",
       "      <th>439</th>\n",
       "      <td>0.041708</td>\n",
       "      <td>0.050680</td>\n",
       "      <td>-0.015906</td>\n",
       "      <td>0.017282</td>\n",
       "      <td>132.0</td>\n",
       "    </tr>\n",
       "    <tr>\n",
       "      <th>440</th>\n",
       "      <td>-0.045472</td>\n",
       "      <td>-0.044642</td>\n",
       "      <td>0.039062</td>\n",
       "      <td>0.001215</td>\n",
       "      <td>220.0</td>\n",
       "    </tr>\n",
       "    <tr>\n",
       "      <th>441</th>\n",
       "      <td>-0.045472</td>\n",
       "      <td>-0.044642</td>\n",
       "      <td>-0.073030</td>\n",
       "      <td>-0.081414</td>\n",
       "      <td>57.0</td>\n",
       "    </tr>\n",
       "  </tbody>\n",
       "</table>\n",
       "<p>442 rows × 5 columns</p>\n",
       "</div>"
      ],
      "text/plain": [
       "          age       sex       bmi        bp  target\n",
       "0    0.038076  0.050680  0.061696  0.021872   151.0\n",
       "1   -0.001882 -0.044642 -0.051474 -0.026328    75.0\n",
       "2    0.085299  0.050680  0.044451 -0.005671   141.0\n",
       "3   -0.089063 -0.044642 -0.011595 -0.036656   206.0\n",
       "4    0.005383 -0.044642 -0.036385  0.021872   135.0\n",
       "..        ...       ...       ...       ...     ...\n",
       "437  0.041708  0.050680  0.019662  0.059744   178.0\n",
       "438 -0.005515  0.050680 -0.015906 -0.067642   104.0\n",
       "439  0.041708  0.050680 -0.015906  0.017282   132.0\n",
       "440 -0.045472 -0.044642  0.039062  0.001215   220.0\n",
       "441 -0.045472 -0.044642 -0.073030 -0.081414    57.0\n",
       "\n",
       "[442 rows x 5 columns]"
      ]
     },
     "execution_count": 55,
     "metadata": {},
     "output_type": "execute_result"
    }
   ],
   "source": [
    "data = pd.DataFrame(data = raw_data, columns = dataset.feature_names)\n",
    "data = data[[\"age\", \"sex\", \"bmi\", \"bp\"]]\n",
    "data[\"target\"] = pd.Series(target)\n",
    "\n",
    "data"
   ]
  },
  {
   "cell_type": "code",
   "execution_count": 56,
   "metadata": {},
   "outputs": [
    {
     "data": {
      "text/plain": [
       "[Text(0.5, 1.0, 'Distribution of Ages (Diabetes dataset)')]"
      ]
     },
     "execution_count": 56,
     "metadata": {},
     "output_type": "execute_result"
    },
    {
     "data": {
      "image/png": "[encoded data removed]",
      "text/plain": [
       "<Figure size 432x288 with 1 Axes>"
      ]
     },
     "metadata": {
      "needs_background": "light"
     },
     "output_type": "display_data"
    }
   ],
   "source": [
    "sns.kdeplot(data[\"age\"]).set(title=\"Distribution of Ages (Diabetes dataset)\")"
   ]
  },
  {
   "cell_type": "code",
   "execution_count": 57,
   "metadata": {},
   "outputs": [
    {
     "data": {
      "text/plain": [
       "[Text(0.5, 1.0, 'Distribution of BMI (Diabetes dataset)')]"
      ]
     },
     "execution_count": 57,
     "metadata": {},
     "output_type": "execute_result"
    },
    {
     "data": {
      "image/png": "[encoded data removed]",
      "text/plain": [
       "<Figure size 432x288 with 1 Axes>"
      ]
     },
     "metadata": {
      "needs_background": "light"
     },
     "output_type": "display_data"
    }
   ],
   "source": [
    "sns.kdeplot(data[\"bmi\"]).set(title=\"Distribution of BMI (Diabetes dataset)\")"
   ]
  },
  {
   "cell_type": "code",
   "execution_count": 58,
   "metadata": {},
   "outputs": [
    {
     "data": {
      "image/png": "[encoded data removed]",
      "text/plain": [
       "<Figure size 432x288 with 1 Axes>"
      ]
     },
     "metadata": {
      "needs_background": "light"
     },
     "output_type": "display_data"
    }
   ],
   "source": [
    "plt.hist(data[\"sex\"])\n",
    "plt.title(\"Distribution of Sexes (diabetes dataset)\")\n",
    "plt.show()"
   ]
  },
  {
   "cell_type": "code",
   "execution_count": 59,
   "metadata": {},
   "outputs": [
    {
     "data": {
      "text/plain": [
       "[Text(0.5, 1.0, 'Distribution of Target (Diabetes dataset)')]"
      ]
     },
     "execution_count": 59,
     "metadata": {},
     "output_type": "execute_result"
    },
    {
     "data": {
      "image/png": "[encoded data removed]",
      "text/plain": [
       "<Figure size 432x288 with 1 Axes>"
      ]
     },
     "metadata": {
      "needs_background": "light"
     },
     "output_type": "display_data"
    }
   ],
   "source": [
    "sns.kdeplot(data[\"target\"]).set(title=\"Distribution of Target (Diabetes dataset)\")"
   ]
  },
  {
   "cell_type": "markdown",
   "metadata": {},
   "source": [
    "<u>Declaring the regression expression:</u>"
   ]
  },
  {
   "cell_type": "code",
   "execution_count": 60,
   "metadata": {},
   "outputs": [],
   "source": [
    "expressions = {\n",
    "    \"model_1_a\" : [\"target ~ age\", {0:\"a\", 1:\"age\", 2:\"sigma\"}],\n",
    "    \"model_2_as\" : [\"target ~ age + sex\", {0:\"a\", 1:\"age\", 2: \"sex\", 3: \"sigma\"}],\n",
    "    \"model_3_abm\" : [\"target ~ age + bp\", {0:\"a\", 1:\"age\", 2: \"bp\", 3: \"sigma\"}],\n",
    "    \"model_4_abmbp\" : [\"target ~ age + bmi + bp\", {0:\"a\", 1:\"age\", 2: \"bmi\", 3: \"bp\", 4: \"sigma\"}],\n",
    "    \"model_5_asbp\" : [\"target ~ age + sex + bp\", {0:\"a\", 1:\"age\", 2: \"sex\", 3: \"bp\", 4: \"sigma\"}],\n",
    "    \"model_6_asbmbp\" : [\"target ~ age + sex + bmi + bp\", {0:\"a\", 1:\"age\", 2: \"sex\", 3: \"bmi\", 4: \"bp\", 5: \"sigma\"}],\n",
    "    \"model_7_bmbp\" : [\"target ~ bmi + bp\", {0:\"a\", 1: \"bmi\", 2: \"bp\", 3: \"sigma\"}]\n",
    "}"
   ]
  },
  {
   "cell_type": "markdown",
   "metadata": {},
   "source": [
    "<u>Defining the prior parameters and preparing for the regression analysis:</u>"
   ]
  },
  {
   "cell_type": "code",
   "execution_count": 61,
   "metadata": {},
   "outputs": [],
   "source": [
    "# Initializing the likelihood\n",
    "likelihood = 'gaussian'\n",
    "\n",
    "# Defining the priors with hyperparameters \n",
    "\n",
    "prior_a_mean = 0\n",
    "prior_a_sigma = 1\n",
    "prior_a = ['gaussian', [prior_a_mean, prior_a_sigma]]\n",
    "\n",
    "prior_age_mean = 0; prior_age_sigma = 1\n",
    "prior_bp_mean = 0; prior_bp_sigma = 1\n",
    "prior_bmi_mean = 0; prior_bmi_sigma = 1\n",
    "prior_sex = ['gaussian', [0, 1]]\n",
    "prior_age = [\"gaussian\", [prior_age_mean, prior_age_sigma]]\n",
    "prior_bmi = ['gaussian', [prior_bmi_mean, prior_bmi_sigma]]\n",
    "prior_bp = ['gaussian', [prior_bp_mean, prior_bp_sigma]]\n",
    "\n",
    "sigma_inf = 0\n",
    "sigma_sup = 2\n",
    "prior_sigma = ['uniform', [sigma_inf, sigma_sup]]"
   ]
  },
  {
   "cell_type": "code",
   "execution_count": 62,
   "metadata": {},
   "outputs": [],
   "source": [
    "priors = {\n",
    "    \"model_1_a\" : [prior_a, prior_age, prior_sigma], \n",
    "    \"model_2_as\" : [prior_a, prior_age, prior_sex, prior_sigma], \n",
    "    \"model_3_abm\" : [prior_a, prior_age, prior_bmi, prior_sigma],\n",
    "    \"model_4_abmbp\" : [prior_a, prior_age, prior_bmi, prior_bp, prior_sigma], \n",
    "    \"model_5_asbp\" : [prior_a, prior_age, prior_sex, prior_bp, prior_sigma], \n",
    "    \"model_6_asbmbp\" : [prior_a, prior_age, prior_sex, prior_bmi, prior_bp, prior_sigma], \n",
    "    \"model_7_bmbp\" : [prior_a, prior_bmi, prior_bp, prior_sigma]\n",
    "}"
   ]
  },
  {
   "cell_type": "markdown",
   "metadata": {},
   "source": [
    "<u>Running the regressions:</u>"
   ]
  },
  {
   "cell_type": "code",
   "execution_count": 63,
   "metadata": {
    "scrolled": false
   },
   "outputs": [
    {
     "name": "stderr",
     "output_type": "stream",
     "text": [
      "/home/quentin/anaconda3/lib/python3.8/site-packages/scipy/optimize/_numdiff.py:557: RuntimeWarning: invalid value encountered in subtract\n",
      "  df = fun(x) - f0\n",
      "/home/quentin/anaconda3/lib/python3.8/site-packages/scipy/optimize/_numdiff.py:557: RuntimeWarning: invalid value encountered in subtract\n",
      "  df = fun(x) - f0\n",
      "/home/quentin/anaconda3/lib/python3.8/site-packages/scipy/optimize/_numdiff.py:557: RuntimeWarning: invalid value encountered in subtract\n",
      "  df = fun(x) - f0\n",
      "/home/quentin/anaconda3/lib/python3.8/site-packages/scipy/optimize/_numdiff.py:557: RuntimeWarning: invalid value encountered in subtract\n",
      "  df = fun(x) - f0\n"
     ]
    },
    {
     "name": "stdout",
     "output_type": "stream",
     "text": [
      "      fun: 372937.5181415787\n",
      " hess_inv: array([[ 2.40714172e-03, -3.54256104e-03, -6.03524517e-07],\n",
      "       [-3.54256104e-03,  7.22143319e-01, -6.19163705e-05],\n",
      "       [-6.03524517e-07, -6.19163705e-05,  1.63702258e-06]])\n",
      "      jac: array([-2.77023438e+03, -5.04687500e+01, -3.63868984e+05])\n",
      "  message: 'Desired error not necessarily achieved due to precision loss.'\n",
      "     nfev: 116\n",
      "      nit: 10\n",
      "     njev: 23\n",
      "   status: 2\n",
      "  success: False\n",
      "        x: array([125.92464362,  20.46563073,   1.99996994]) \n",
      "\n"
     ]
    },
    {
     "name": "stderr",
     "output_type": "stream",
     "text": [
      "/home/quentin/anaconda3/lib/python3.8/site-packages/scipy/optimize/_numdiff.py:557: RuntimeWarning: invalid value encountered in subtract\n",
      "  df = fun(x) - f0\n",
      "/home/quentin/anaconda3/lib/python3.8/site-packages/scipy/optimize/_numdiff.py:557: RuntimeWarning: invalid value encountered in subtract\n",
      "  df = fun(x) - f0\n",
      "/home/quentin/anaconda3/lib/python3.8/site-packages/scipy/optimize/_numdiff.py:557: RuntimeWarning: invalid value encountered in subtract\n",
      "  df = fun(x) - f0\n",
      "/home/quentin/anaconda3/lib/python3.8/site-packages/scipy/optimize/_numdiff.py:557: RuntimeWarning: invalid value encountered in subtract\n",
      "  df = fun(x) - f0\n",
      "/home/quentin/anaconda3/lib/python3.8/site-packages/scipy/optimize/_numdiff.py:557: RuntimeWarning: invalid value encountered in subtract\n",
      "  df = fun(x) - f0\n"
     ]
    },
    {
     "name": "stdout",
     "output_type": "stream",
     "text": [
      "      fun: 341797.92980157724\n",
      " hess_inv: array([[ 3.45254531e-03,  6.99454983e-03, -3.92883068e-04,\n",
      "         2.15011338e-06],\n",
      "       [ 6.99454983e-03,  7.14830335e-01, -1.23608635e-01,\n",
      "        -1.22759948e-04],\n",
      "       [-3.92883068e-04, -1.23608635e-01,  8.98513409e-01,\n",
      "        -7.40573210e-06],\n",
      "       [ 2.15011338e-06, -1.22759948e-04, -7.40573210e-06,\n",
      "         1.83526443e-06]])\n",
      "      jac: array([-6.32878906e+02, -6.12890625e+00,  2.04218750e+01, -3.29622914e+05])\n",
      "  message: 'Desired error not necessarily achieved due to precision loss.'\n",
      "     nfev: 145\n",
      "      nit: 8\n",
      "     njev: 26\n",
      "   status: 2\n",
      "  success: False\n",
      "        x: array([145.14489629,  55.3120066 ,  28.40796181,   1.99255472]) \n",
      "\n"
     ]
    },
    {
     "name": "stderr",
     "output_type": "stream",
     "text": [
      "/home/quentin/anaconda3/lib/python3.8/site-packages/scipy/optimize/_numdiff.py:557: RuntimeWarning: invalid value encountered in subtract\n",
      "  df = fun(x) - f0\n",
      "/home/quentin/anaconda3/lib/python3.8/site-packages/scipy/optimize/_numdiff.py:557: RuntimeWarning: invalid value encountered in subtract\n",
      "  df = fun(x) - f0\n",
      "/home/quentin/anaconda3/lib/python3.8/site-packages/scipy/optimize/_numdiff.py:557: RuntimeWarning: invalid value encountered in subtract\n",
      "  df = fun(x) - f0\n"
     ]
    },
    {
     "name": "stdout",
     "output_type": "stream",
     "text": [
      "      fun: 345444.5273453999\n",
      " hess_inv: array([[ 4.39938247e-03, -4.52244807e-04,  6.73517428e-03,\n",
      "        -2.86471223e-06],\n",
      "       [-4.52244807e-04,  8.33055138e-01, -1.19151123e-01,\n",
      "        -9.96331047e-05],\n",
      "       [ 6.73517428e-03, -1.19151123e-01,  6.37302698e-01,\n",
      "        -2.78548663e-04],\n",
      "       [-2.86471223e-06, -9.96331047e-05, -2.78548663e-04,\n",
      "         1.29898525e-06]])\n",
      "      jac: array([-1.32391797e+03,  3.05390625e+01, -5.21914062e+01, -3.32459633e+05])\n",
      "  message: 'Desired error not necessarily achieved due to precision loss.'\n",
      "     nfev: 110\n",
      "      nit: 6\n",
      "     njev: 20\n",
      "   status: 2\n",
      "  success: False\n",
      "        x: array([139.35372991,  79.93344644, 100.08623371,   1.96476395]) \n",
      "\n"
     ]
    },
    {
     "name": "stderr",
     "output_type": "stream",
     "text": [
      "/home/quentin/anaconda3/lib/python3.8/site-packages/scipy/optimize/_numdiff.py:557: RuntimeWarning: invalid value encountered in subtract\n",
      "  df = fun(x) - f0\n",
      "/home/quentin/anaconda3/lib/python3.8/site-packages/scipy/optimize/_numdiff.py:557: RuntimeWarning: invalid value encountered in subtract\n",
      "  df = fun(x) - f0\n",
      "/home/quentin/anaconda3/lib/python3.8/site-packages/scipy/optimize/_numdiff.py:557: RuntimeWarning: invalid value encountered in subtract\n",
      "  df = fun(x) - f0\n",
      "/home/quentin/anaconda3/lib/python3.8/site-packages/scipy/optimize/_numdiff.py:557: RuntimeWarning: invalid value encountered in subtract\n",
      "  df = fun(x) - f0\n",
      "/home/quentin/anaconda3/lib/python3.8/site-packages/scipy/optimize/_numdiff.py:557: RuntimeWarning: invalid value encountered in subtract\n",
      "  df = fun(x) - f0\n"
     ]
    },
    {
     "name": "stdout",
     "output_type": "stream",
     "text": [
      "      fun: 323925.79330911645\n",
      " hess_inv: array([[ 4.26549797e-03, -4.15636976e-04,  9.17363446e-03,\n",
      "         4.25879328e-03,  3.25248540e-07],\n",
      "       [-4.15636976e-04,  7.69424294e-01, -4.73063859e-02,\n",
      "        -1.77902184e-01, -7.19021810e-05],\n",
      "       [ 9.17363446e-03, -4.73063859e-02,  7.47481530e-01,\n",
      "        -1.75252256e-01, -4.12017494e-04],\n",
      "       [ 4.25879328e-03, -1.77902184e-01, -1.75252256e-01,\n",
      "         7.81679330e-01, -2.63136556e-04],\n",
      "       [ 3.25248540e-07, -7.19021810e-05, -4.12017494e-04,\n",
      "        -2.63136556e-04,  2.08491979e-06]])\n",
      "      jac: array([-1.04530469e+03,  9.41406250e-01, -7.91406250e+01, -4.23906250e+01,\n",
      "       -3.04851832e+05])\n",
      "  message: 'Desired error not necessarily achieved due to precision loss.'\n",
      "     nfev: 169\n",
      "      nit: 8\n",
      "     njev: 26\n",
      "   status: 2\n",
      "  success: False\n",
      "        x: array([141.796252  ,  51.86260513, 122.83426325, 100.14892471,\n",
      "         1.96186719]) \n",
      "\n"
     ]
    },
    {
     "name": "stderr",
     "output_type": "stream",
     "text": [
      "/home/quentin/anaconda3/lib/python3.8/site-packages/scipy/optimize/_numdiff.py:557: RuntimeWarning: invalid value encountered in subtract\n",
      "  df = fun(x) - f0\n",
      "/home/quentin/anaconda3/lib/python3.8/site-packages/scipy/optimize/_numdiff.py:557: RuntimeWarning: invalid value encountered in subtract\n",
      "  df = fun(x) - f0\n",
      "/home/quentin/anaconda3/lib/python3.8/site-packages/scipy/optimize/_numdiff.py:557: RuntimeWarning: invalid value encountered in subtract\n",
      "  df = fun(x) - f0\n",
      "/home/quentin/anaconda3/lib/python3.8/site-packages/scipy/optimize/_numdiff.py:557: RuntimeWarning: invalid value encountered in subtract\n",
      "  df = fun(x) - f0\n",
      "/home/quentin/anaconda3/lib/python3.8/site-packages/scipy/optimize/_numdiff.py:557: RuntimeWarning: invalid value encountered in subtract\n",
      "  df = fun(x) - f0\n"
     ]
    },
    {
     "name": "stdout",
     "output_type": "stream",
     "text": [
      "      fun: 342377.09737309645\n",
      " hess_inv: array([[ 8.05445707e-03,  6.29622739e-04, -1.20537269e-03,\n",
      "         5.81935274e-03, -3.07426330e-05],\n",
      "       [ 6.29622739e-04,  8.65282149e-01, -9.07087584e-02,\n",
      "        -1.53217175e-01, -9.28693701e-05],\n",
      "       [-1.20537269e-03, -9.07087584e-02,  9.07820975e-01,\n",
      "        -2.56752239e-02,  1.58270998e-05],\n",
      "       [ 5.81935274e-03, -1.53217175e-01, -2.56752239e-02,\n",
      "         6.25750603e-01, -3.05278984e-04],\n",
      "       [-3.07426330e-05, -9.28693701e-05,  1.58270998e-05,\n",
      "        -3.05278984e-04,  2.07265855e-06]])\n",
      "      jac: array([-1.79513281e+03, -3.77343750e+00, -4.64062500e+00,  7.48437500e+00,\n",
      "       -3.21839578e+05])\n",
      "  message: 'Desired error not necessarily achieved due to precision loss.'\n",
      "     nfev: 160\n",
      "      nit: 7\n",
      "     njev: 24\n",
      "   status: 2\n",
      "  success: False\n",
      "        x: array([134.8191085 ,  48.28936477,   1.52934996, 146.58221361,\n",
      "         1.99131962]) \n",
      "\n"
     ]
    },
    {
     "name": "stderr",
     "output_type": "stream",
     "text": [
      "/home/quentin/anaconda3/lib/python3.8/site-packages/scipy/optimize/_numdiff.py:557: RuntimeWarning: invalid value encountered in subtract\n",
      "  df = fun(x) - f0\n",
      "/home/quentin/anaconda3/lib/python3.8/site-packages/scipy/optimize/_numdiff.py:557: RuntimeWarning: invalid value encountered in subtract\n",
      "  df = fun(x) - f0\n"
     ]
    },
    {
     "name": "stdout",
     "output_type": "stream",
     "text": [
      "      fun: 330565.99013277347\n",
      " hess_inv: array([[ 4.90296729e-03, -4.14996810e-04, -3.21099493e-03,\n",
      "         9.08756483e-03,  4.54602065e-03, -3.46163344e-06],\n",
      "       [-4.14996810e-04,  8.78542957e-01, -9.18314136e-02,\n",
      "        -1.23366694e-01, -1.51354634e-01, -5.53918898e-05],\n",
      "       [-3.21099493e-03, -9.18314136e-02,  9.30580114e-01,\n",
      "        -9.51315089e-02, -1.15262156e-01,  1.63996662e-05],\n",
      "       [ 9.08756483e-03, -1.23366694e-01, -9.51315089e-02,\n",
      "         8.88149080e-01, -1.47222962e-01, -3.10999848e-04],\n",
      "       [ 4.54602065e-03, -1.51354634e-01, -1.15262156e-01,\n",
      "        -1.47222962e-01,  8.14514274e-01, -2.01140063e-04],\n",
      "       [-3.46163344e-06, -5.53918898e-05,  1.63996662e-05,\n",
      "        -3.10999848e-04, -2.01140063e-04,  1.64531674e-06]])\n",
      "      jac: array([-1.70730469e+02, -5.30976562e+01, -2.60039062e+01, -1.06402344e+02,\n",
      "       -9.37578125e+01, -3.19594062e+05])\n",
      "  message: 'Desired error not necessarily achieved due to precision loss.'\n",
      "     nfev: 118\n",
      "      nit: 8\n",
      "     njev: 15\n",
      "   status: 2\n",
      "  success: False\n",
      "        x: array([149.40514557,  13.36229422, -11.79200772, 109.27835565,\n",
      "        66.44001667,   1.9408537 ]) \n",
      "\n"
     ]
    },
    {
     "name": "stderr",
     "output_type": "stream",
     "text": [
      "/home/quentin/anaconda3/lib/python3.8/site-packages/scipy/optimize/_numdiff.py:557: RuntimeWarning: invalid value encountered in subtract\n",
      "  df = fun(x) - f0\n",
      "/home/quentin/anaconda3/lib/python3.8/site-packages/scipy/optimize/_numdiff.py:557: RuntimeWarning: invalid value encountered in subtract\n",
      "  df = fun(x) - f0\n"
     ]
    },
    {
     "name": "stdout",
     "output_type": "stream",
     "text": [
      "      fun: 322795.1974574542\n",
      " hess_inv: array([[ 5.42187896e-03,  7.41681756e-03,  1.03704692e-02,\n",
      "        -1.04050608e-05],\n",
      "       [ 7.41681756e-03,  7.92185955e-01, -1.75659744e-01,\n",
      "        -3.50422158e-04],\n",
      "       [ 1.03704692e-02, -1.75659744e-01,  8.06789105e-01,\n",
      "        -2.73396907e-04],\n",
      "       [-1.04050608e-05, -3.50422158e-04, -2.73396907e-04,\n",
      "         1.64028786e-06]])\n",
      "      jac: array([-1.03678125e+03, -2.10234375e+01, -2.33632812e+01, -2.96528156e+05])\n",
      "  message: 'Desired error not necessarily achieved due to precision loss.'\n",
      "     nfev: 101\n",
      "      nit: 7\n",
      "     njev: 18\n",
      "   status: 2\n",
      "  success: False\n",
      "        x: array([141.87840632, 169.85961487, 115.10050017,   1.9610411 ]) \n",
      "\n"
     ]
    }
   ],
   "source": [
    "solutions = [laplace_solution_regression(expressions[model][0], data, likelihood, priors[model]) \n",
    "             for model in priors.keys()]"
   ]
  },
  {
   "cell_type": "code",
   "execution_count": 64,
   "metadata": {},
   "outputs": [],
   "source": [
    "posterior_samples = [posterior_sampling_laplace(solutions[i], sampling_size)\n",
    "                     for i in range(len(expressions))]"
   ]
  },
  {
   "cell_type": "code",
   "execution_count": 65,
   "metadata": {
    "scrolled": false
   },
   "outputs": [
    {
     "name": "stdout",
     "output_type": "stream",
     "text": [
      "Regression results for model_1_a:\n",
      "             mean        SD        7.5%       92.5%\n",
      "a      125.923575  0.048461  125.853991  125.992673\n",
      "age     20.459431  0.834574   19.260483   21.627754\n",
      "sigma    1.999975  0.001275    1.998144    2.001821 \n",
      "\n",
      "\n",
      "\n",
      "Regression results for model_2_as:\n",
      "             mean        SD        7.5%       92.5%\n",
      "a      145.145151  0.058861  145.058909  145.229583\n",
      "age     55.314078  0.840983   54.092749   56.539250\n",
      "sex     28.402821  0.934669   27.046809   29.755498\n",
      "sigma    1.992561  0.001343    1.990617    1.994498 \n",
      "\n",
      "\n",
      "\n",
      "Regression results for model_3_abm:\n",
      "             mean        SD        7.5%       92.5%\n",
      "a      139.352393  0.066517  139.255730  139.450131\n",
      "age     79.928067  0.915291   78.605956   81.227298\n",
      "bp     100.078337  0.812800   98.919132  101.231506\n",
      "sigma    1.964784  0.001139    1.963161    1.966408 \n",
      "\n",
      "\n",
      "\n",
      "Regression results for model_4_abmbp:\n",
      "             mean        SD        7.5%       92.5%\n",
      "a      141.797293  0.064295  141.704023  141.889766\n",
      "age     51.878410  0.884436   50.592859   53.137176\n",
      "bmi    122.827213  0.861008  121.614915  124.100898\n",
      "bp     100.123887  0.887389   98.832765  101.389839\n",
      "sigma    1.961877  0.001446    1.959788    1.963928 \n",
      "\n",
      "\n",
      "\n",
      "Regression results for model_5_asbp:\n",
      "             mean        SD        7.5%       92.5%\n",
      "a      134.818508  0.089667  134.689397  134.945162\n",
      "age     48.288995  0.932348   46.933990   49.626570\n",
      "sex      1.515837  0.948638    0.164456    2.886727\n",
      "bp     146.595867  0.780356  145.488144  147.710886\n",
      "sigma    1.991306  0.001427    1.989266    1.993369 \n",
      "\n",
      "\n",
      "\n",
      "Regression results for model_6_asbmbp:\n",
      "             mean        SD        7.5%       92.5%\n",
      "a      149.407308  0.070563  149.308117  149.508067\n",
      "age     13.379117  0.920434   12.056088   14.701778\n",
      "sex    -11.795871  0.972413  -13.199023  -10.390488\n",
      "bmi    109.272874  0.942089  107.912812  110.605217\n",
      "bp      66.445708  0.897299   65.156244   67.754603\n",
      "sigma    1.940857  0.001295    1.938977    1.942692 \n",
      "\n",
      "\n",
      "\n",
      "Regression results for model_7_bmbp:\n",
      "             mean        SD        7.5%       92.5%\n",
      "a      141.879188  0.073577  141.773540  141.986506\n",
      "bmi    169.855594  0.901274  168.565307  171.140648\n",
      "bp     115.133639  0.890560  113.839801  116.388139\n",
      "sigma    1.961007  0.001292    1.959205    1.962891 \n",
      "\n",
      "\n",
      "\n"
     ]
    }
   ],
   "source": [
    "for i, exp in enumerate(expressions):\n",
    "    print(f\"Regression results for {exp}:\")\n",
    "    _, _, _ = summarize(solutions[i], names=expressions[exp][1]); print(\"\\n\")"
   ]
  },
  {
   "cell_type": "code",
   "execution_count": 66,
   "metadata": {},
   "outputs": [
    {
     "name": "stdout",
     "output_type": "stream",
     "text": [
      "                         WAIC        pWAIC          dWAIC  weight  \\\n",
      "model_1_a       719436.843070  1721.033054  138022.580045     0.0   \n",
      "model_2_as      651656.566979  1878.060030   70242.303954     0.0   \n",
      "model_3_abm     658227.699103  1845.623634   76813.436077     0.0   \n",
      "model_4_abmbp   618764.611639  2419.934704   37350.348614     0.0   \n",
      "model_5_asbp    682123.999323  3049.387897  100709.736298     0.0   \n",
      "model_6_asbmbp  653252.797921  2921.083406   71838.534896     0.0   \n",
      "model_7_bmbp    581414.263025  1766.543468       0.000000     1.0   \n",
      "\n",
      "                          SE          d_SE  \n",
      "model_1_a       45519.093119  18005.889144  \n",
      "model_2_as      35409.599593   8982.743017  \n",
      "model_3_abm     38151.698640   9164.856779  \n",
      "model_4_abmbp   35166.913979   6145.447863  \n",
      "model_5_asbp    40679.184646  12471.352305  \n",
      "model_6_asbmbp  34681.651049   9006.882099  \n",
      "model_7_bmbp    32570.480791           NaN  \n"
     ]
    }
   ],
   "source": [
    "summarize_WAIC_statistics_different_models(\n",
    "    \"target\",\n",
    "    5000,\n",
    "    data,\n",
    "    expressions,\n",
    "    solutions\n",
    ")"
   ]
  },
  {
   "cell_type": "code",
   "execution_count": null,
   "metadata": {},
   "outputs": [],
   "source": []
  },
  {
   "cell_type": "code",
   "execution_count": null,
   "metadata": {},
   "outputs": [],
   "source": []
  },
  {
   "cell_type": "code",
   "execution_count": null,
   "metadata": {},
   "outputs": [],
   "source": []
  },
  {
   "cell_type": "code",
   "execution_count": null,
   "metadata": {},
   "outputs": [],
   "source": []
  }
 ],
 "metadata": {
  "kernelspec": {
   "display_name": "Python 3",
   "language": "python",
   "name": "python3"
  },
  "language_info": {
   "codemirror_mode": {
    "name": "ipython",
    "version": 3
   },
   "file_extension": ".py",
   "mimetype": "text/x-python",
   "name": "python",
   "nbconvert_exporter": "python",
   "pygments_lexer": "ipython3",
   "version": "3.8.8"
  }
 },
 "nbformat": 4,
 "nbformat_minor": 2
}
