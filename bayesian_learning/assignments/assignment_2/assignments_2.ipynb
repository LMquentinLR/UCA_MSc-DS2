{
 "cells": [
  {
   "cell_type": "markdown",
   "metadata": {},
   "source": [
    "# Bayesian Learning Assignment 2\n",
    "\n",
    "MSc DSAI Quentin Le Roux"
   ]
  },
  {
   "cell_type": "markdown",
   "metadata": {},
   "source": [
    "<hr>\n",
    "<hr>\n",
    "<hr>"
   ]
  },
  {
   "cell_type": "markdown",
   "metadata": {},
   "source": [
    "## Library Imports"
   ]
  },
  {
   "cell_type": "code",
   "execution_count": 1,
   "metadata": {},
   "outputs": [],
   "source": [
    "import numpy as np\n",
    "import matplotlib.pyplot as plt\n",
    "\n",
    "from scipy.stats import norm\n",
    "from sklearn import datasets "
   ]
  },
  {
   "cell_type": "markdown",
   "metadata": {},
   "source": [
    "<hr>\n",
    "\n",
    "## Function declarations\n",
    "\n",
    "**Note**: \n",
    "- *Functions are listed per exercise in alphabetical orders*\n",
    "- *Functions are provided with Type Hinting*\n",
    "\n",
    "### Exercise 1 functions"
   ]
  },
  {
   "cell_type": "code",
   "execution_count": 2,
   "metadata": {},
   "outputs": [],
   "source": [
    "def beta_binomial_distribution(\n",
    "    n: int, y: int, alpha: int, beta: int\n",
    ") -> np.array:\n",
    "    \"\"\"\n",
    "    Returns the beta-binomial distribution over the space of \n",
    "    parameter theta, given the parameters alpha, beta, y, and n.\n",
    "    \"\"\"\n",
    "    # Declares a linear space for the parameter theta\n",
    "    theta_space  = np.linspace(0,1)\n",
    "    # Computes and return the distribution\n",
    "    distribution = theta_space**(y+alpha-1) * \\\n",
    "                   (1-theta_space)**(n+beta-y-1)\n",
    "    return theta_space, distribution\n",
    "\n",
    "def beta_binomial_lapproximation(\n",
    "    n: int, y: int, alpha: int, beta: int\n",
    ") -> np.array:\n",
    "    \"\"\"\n",
    "    Returns the Laplace approximation of the beta binomial\n",
    "    distribution (a Gaussian distribution) with parameters\n",
    "    derived from the original distribution's parameters alpha,\n",
    "    beta, y, and n.\n",
    "    \"\"\"\n",
    "    theta_max = (y+alpha-1)/(n+alpha+beta-2)\n",
    "    hessian   = -(y+alpha-1)/(theta_max**2) - \\\n",
    "                (n+beta-y-1)/((1-theta_max)**2)\n",
    "    variance  = -1/hessian\n",
    "    return norm(theta_max, np.sqrt(variance))"
   ]
  },
  {
   "cell_type": "markdown",
   "metadata": {},
   "source": [
    "### Exercise 3 functions"
   ]
  },
  {
   "cell_type": "code",
   "execution_count": null,
   "metadata": {},
   "outputs": [],
   "source": []
  },
  {
   "cell_type": "markdown",
   "metadata": {},
   "source": [
    "### Exercise 4 functions"
   ]
  },
  {
   "cell_type": "code",
   "execution_count": null,
   "metadata": {},
   "outputs": [],
   "source": []
  },
  {
   "cell_type": "markdown",
   "metadata": {},
   "source": [
    "### Exercise 5 functions"
   ]
  },
  {
   "cell_type": "code",
   "execution_count": null,
   "metadata": {},
   "outputs": [],
   "source": []
  },
  {
   "cell_type": "markdown",
   "metadata": {},
   "source": [
    "### Exercise 6 functions"
   ]
  },
  {
   "cell_type": "code",
   "execution_count": null,
   "metadata": {},
   "outputs": [],
   "source": []
  },
  {
   "cell_type": "markdown",
   "metadata": {},
   "source": [
    "<hr>\n",
    "<hr>\n",
    "<hr>\n",
    "\n",
    "## Exercise 1"
   ]
  },
  {
   "cell_type": "markdown",
   "metadata": {},
   "source": [
    "### Instructions\n",
    "\n",
    "The Beta-Binomial model seen during lesson 2 is:\n",
    "\n",
    "$$p(y|\\theta)p(\\theta) \\propto \\theta^{y+\\alpha-1}(1-\\theta)^{n+\\beta-y-1} \\propto Beta(\\theta|\\alpha+y,n+\\beta-y).$$\n",
    "\n",
    "Find a Laplace approximation for this model, as seen for the Binomal model, and plot the resulting Gaussian approximation against the Beta-Binomial function.\n",
    "\n",
    "<hr>\n",
    "\n",
    "#### 1. Finding the Laplace approximation of the Beta-Binomial model\n",
    "\n",
    "We recall that the Laplace method approximate the shape of a given function through the application of a Gaussian distribution. This approximation relies on the Taylor expansion of the (log-)function of interest *f*. *f* is the function to approximate. We declare the function *g* such that:\n",
    "\n",
    "$$f(x) = \\exp(\\log(f(\\theta)) = \\exp(g(\\theta))$$\n",
    "\n",
    "Stopping at the second order, and assuming that *g* and *f* share a maximum in $\\theta_0$, we can approximate *g* and thus *f* for any point $theta$ sufficiently close to $\\theta_0$ such that:\n",
    "\n",
    "\\begin{align}\n",
    "g(\\theta) &= g(\\theta_0) + g'(\\theta_0)(\\theta-\\theta_0) + \\frac{1}{2}g''(\\theta_0)(\\theta-\\theta_0)^2 + o((\\theta - \\theta_0)^3)\\\\\n",
    "g'(\\theta_0) = 0 \\\\\n",
    "\\end{align}\n",
    "\n",
    "We find the following approximation:\n",
    "\n",
    "\\begin{align}\n",
    "g(\\theta) &\\approx g(\\theta_0) + \\frac{1}{2}g''(\\theta_0)(\\theta-\\theta_0)^2\\\\\n",
    "f(\\theta_0) &\\approx f(\\theta_0) + \\exp(\\frac{1}{2}g''(\\theta_0)(\\theta-\\theta_0)^2) \\\\\n",
    "&\\approx \\exp\\big(\\frac{1}{2}g''(\\theta_0)(\\theta-\\theta_0)^2\\big)\\quad\\text{Given $f(\\theta_0)$ a constant}\\\\\n",
    "&\\approx \\exp\\big(-\\frac{1}{2}\\frac{(\\theta-\\theta_0)^2}{-\\frac{1}{g''(\\theta_0)}}\\big)\\quad\\text{We recognize a Gaussian PDF}\\\\\n",
    "\\end{align}\n",
    "\n",
    "As such, *f* can be approximated (up to a normalization constant) by a Gaussian distribution $\\mathcal{N}(\\theta_0, -\\frac{1}{g''(\\theta_0)})$\n",
    "\n",
    "<u>Computing the maximum of the log-distribution:</u>\n",
    "\n",
    "\\begin{align}\n",
    "g(\\theta) & = \\log(f(\\theta)) = (y+\\alpha-1)*\\log(\\theta) + (n+\\beta-y-1)*\\log(1-\\theta)\\\\\n",
    "\\frac{\\delta g}{\\delta \\theta} &= \\frac{y+\\alpha-1}{\\theta} - \\frac{n+\\beta-y-1}{1-\\theta}\n",
    "\\end{align}\n",
    "\n",
    "As such:\n",
    "\n",
    "\\begin{align}\n",
    "g'(\\theta_0) &= 0\\\\\n",
    "&\\Rightarrow \\frac{y+\\alpha-1}{\\theta_0} - \\frac{n+\\beta-y-1}{1-\\theta_0} = 0\\\\\n",
    "&\\Rightarrow \\frac{(1-\\theta_0)*(y+\\alpha-1) - \\theta_0*(n+\\beta-y-1)}{\\theta_0(1-\\theta_0)} = 0\\\\\n",
    "&\\Rightarrow (1-\\theta_0)*(y+\\alpha-1) - \\theta_0*(n+\\beta-y-1) = 0 \\\\\n",
    "&\\Rightarrow (2-n-\\alpha-\\beta)*\\theta_0 +y+\\alpha-1 = 0\n",
    "\\end{align}\n",
    "\n",
    "We find:\n",
    "\n",
    "$$\\theta_0 = \\frac{y+\\alpha-1}{n + \\alpha + \\beta - 2}$$\n",
    "\n",
    "<u>Computing the second derivative of the log-distribution with respect to $\\theta$:</u>\n",
    "\n",
    "\\begin{align}\n",
    "\\frac{\\delta^2 g}{\\delta \\theta^2} &= -\\frac{y+\\alpha-1}{\\theta^2} - \\frac{n+\\beta-y-1}{(1-\\theta)^2}\n",
    "\\end{align}\n",
    "\n",
    "We find:\n",
    "\n",
    "$$g''(\\theta_0) = -\\frac{y+\\alpha-1}{(\\frac{y+\\alpha-1}{n + \\alpha + \\beta - 2})^2} - \\frac{n+\\beta-y-1}{(1-(\\frac{y+\\alpha-1}{n + \\alpha + \\beta - 2}))^2}$$\n",
    "\n",
    "<u>Concluding on finding the Laplace approximation of the Beta-Binomial model:</u>\n",
    "\n",
    "The approximation will be the Gaussian:\n",
    "\n",
    "$$\\mathcal{N}\\big(\\frac{y+\\alpha-1}{n + \\alpha + \\beta - 2}, -(-\\frac{y+\\alpha-1}{(\\frac{y+\\alpha-1}{n + \\alpha + \\beta - 2})^2} - \\frac{n+\\beta-y-1}{(1-(\\frac{y+\\alpha-1}{n + \\alpha + \\beta - 2}))^2})^{-1}\\big)$$\n",
    "\n",
    "with mean $\\theta_0 = \\frac{y+\\alpha-1}{n + \\alpha + \\beta - 2}$ and variance $\\sigma^2=(\\frac{y+\\alpha-1}{(\\frac{y+\\alpha-1}{n + \\alpha + \\beta - 2})^2} + \\frac{n+\\beta-y-1}{(1-(\\frac{y+\\alpha-1}{n + \\alpha + \\beta - 2}))^2})^{-1}$\n",
    "\n",
    "#### 2. Plotting the approximation\n",
    "\n",
    "For plotting the resulting approximation, we will reuse the values for $\\alpha$, $\\beta$, $n$, and $y$ from class 5."
   ]
  },
  {
   "cell_type": "code",
   "execution_count": 3,
   "metadata": {},
   "outputs": [
    {
     "data": {
      "image/png": "[encoded data removed]",
      "text/plain": [
       "<Figure size 432x288 with 1 Axes>"
      ]
     },
     "metadata": {
      "needs_background": "light"
     },
     "output_type": "display_data"
    }
   ],
   "source": [
    "# Variable declarations\n",
    "\n",
    "y = 4; n = 8; alpha = 2; beta = 3\n",
    "\n",
    "# Computing the beta-binomial PDF\n",
    "theta_space, beta_binomial = beta_binomial_distribution(n, y, alpha, beta)\n",
    "\n",
    "# computing the beta-binomia approximation\n",
    "lapproximation = beta_binomial_lapproximation(n, y, alpha, beta)\n",
    "\n",
    "# Plotting the results\n",
    "\n",
    "plt.figure()\n",
    "plt.plot(\n",
    "    theta_space, \n",
    "    beta_binomial/np.sum(beta_binomial), \n",
    "    label=\"Beta-Binomial PDF\")\n",
    "plt.plot(\n",
    "    theta_space,\n",
    "    lapproximation.pdf(theta_space)/np.sum(lapproximation.pdf(theta_space)),\n",
    "    label=\"Laplace approximation\")\n",
    "plt.legend()\n",
    "plt.show()"
   ]
  },
  {
   "cell_type": "markdown",
   "metadata": {},
   "source": [
    "<hr>\n",
    "<hr>\n",
    "<hr>\n",
    "\n",
    "## Exercise 2"
   ]
  },
  {
   "cell_type": "markdown",
   "metadata": {},
   "source": [
    "### Instruction\n",
    "\n",
    "Write down a model to evaluate the claim: *Animal diversity is related to latitude, but only after controlling for plant diversity*. You just need to write down the model definition.\n",
    "\n",
    "#### Modeling\n",
    "\n",
    "From [wikipedia](https://en.wikipedia.org/wiki/Latitude), \"*latitude is a geographic coordinate that specifies the north–south position of a point on the Earth's surface. Latitude is an angle (defined below) which ranges from 0° at the Equator to 90° (North or South) at the poles*.\" Meanwhile, common sense can lead us to assume that animal diversity is closely correlated to the diversity of an area (here, latitude). Furthermore, given prior belief, we may suppose that the most inhospitable areas in the world are located towards the poles, while the most hospitable would be closer to the equator (e.g. Amazonian Forest, Subsaharan Africa, etc.)\n",
    "\n",
    "<u>Caveat:</u> This modeling is not without blind spots as areas such that the Sahara desert might influence the average diversity of a locale/latitude, as we are not interested in longitude as a parameter.\n",
    "\n",
    "Given these assumptions, we may hypothesize that:\n",
    "\n",
    "- Any metric related to latitude would display some symmetric behavior with regards to the distance from the equator.\n",
    "- The closer to the poles, i.e. the farther from the equator, the lower the animal diversity\n",
    "\n",
    "As such, represented on a graph with the x-axis the distance from the equator, and on the y-axis a metric evaluating animal diversity, we would expect a possibly linear, decreasing dataset of a form.\n",
    "\n",
    "<u>Possible example of a diversity metric per latitude given our assumptions:</u>"
   ]
  },
  {
   "cell_type": "code",
   "execution_count": 35,
   "metadata": {
    "scrolled": true
   },
   "outputs": [
    {
     "data": {
      "image/png": "[encoded data removed]",
      "text/plain": [
       "<Figure size 432x288 with 1 Axes>"
      ]
     },
     "metadata": {
      "needs_background": "light"
     },
     "output_type": "display_data"
    }
   ],
   "source": [
    "x = np.linspace(0, 90, num=100)\n",
    "y = sorted(np.linspace(0, 90, num=100), reverse=True) + \\\n",
    "    np.random.normal(0, 5, 100)\n",
    "plt.scatter(x, y); plt.show()"
   ]
  },
  {
   "cell_type": "markdown",
   "metadata": {},
   "source": [
    "As such, we are interested in the following linear relationship:\n",
    "\n",
    "$$\\text{animal diversity} = a+b*\\text{latitude}$$"
   ]
  },
  {
   "cell_type": "markdown",
   "metadata": {},
   "source": [
    "<hr>\n",
    "<hr>\n",
    "<hr>\n",
    "\n",
    "## Exercise 3"
   ]
  },
  {
   "cell_type": "markdown",
   "metadata": {},
   "source": [
    "Invent your own example of spurious correlation. An outcome variable should be correlated with both predictor variables. But when both predictors are entered in the same model, the correlation between the outcome and one of the predictors should mostly vanish (or at least be greatly reduced)."
   ]
  },
  {
   "cell_type": "code",
   "execution_count": null,
   "metadata": {},
   "outputs": [],
   "source": []
  },
  {
   "cell_type": "markdown",
   "metadata": {},
   "source": [
    "<hr>\n",
    "<hr>\n",
    "<hr>\n",
    "\n",
    "## Exercise 4"
   ]
  },
  {
   "cell_type": "markdown",
   "metadata": {},
   "source": [
    "The attached data is about observations of urban foxes in human habitat. The data has 5 columns:\n",
    "\n",
    "- *group*: Number of social group the fox belongs to\n",
    "- *avgfood*: The avg amount of food available in the territory\n",
    "- *groupsize*: The number of foxes in the social group\n",
    "- *area*: Size of the territory\n",
    "- *weight*: Body weight of the fox\n",
    "\n",
    "Fit a regression for *weight* as a linear function of *area*, and a regression for *weight* as a linear function of *groupsize*. What can you say about these relationships? Run a multivariate model and plot counterfactual plots for both variables. What can you conclude about this analysis?"
   ]
  },
  {
   "cell_type": "code",
   "execution_count": null,
   "metadata": {},
   "outputs": [],
   "source": []
  },
  {
   "cell_type": "markdown",
   "metadata": {},
   "source": [
    "<hr>\n",
    "<hr>\n",
    "<hr>\n",
    "\n",
    "## Exercise 5"
   ]
  },
  {
   "cell_type": "markdown",
   "metadata": {},
   "source": [
    "Consider the diabetes dataset"
   ]
  },
  {
   "cell_type": "code",
   "execution_count": 4,
   "metadata": {},
   "outputs": [
    {
     "name": "stdout",
     "output_type": "stream",
     "text": [
      ".. _diabetes_dataset:\n",
      "\n",
      "Diabetes dataset\n",
      "----------------\n",
      "\n",
      "Ten baseline variables, age, sex, body mass index, average blood\n",
      "pressure, and six blood serum measurements were obtained for each of n =\n",
      "442 diabetes patients, as well as the response of interest, a\n",
      "quantitative measure of disease progression one year after baseline.\n",
      "\n",
      "**Data Set Characteristics:**\n",
      "\n",
      "  :Number of Instances: 442\n",
      "\n",
      "  :Number of Attributes: First 10 columns are numeric predictive values\n",
      "\n",
      "  :Target: Column 11 is a quantitative measure of disease progression one year after baseline\n",
      "\n",
      "  :Attribute Information:\n",
      "      - age     age in years\n",
      "      - sex\n",
      "      - bmi     body mass index\n",
      "      - bp      average blood pressure\n",
      "      - s1      tc, T-Cells (a type of white blood cells)\n",
      "      - s2      ldl, low-density lipoproteins\n",
      "      - s3      hdl, high-density lipoproteins\n",
      "      - s4      tch, thyroid stimulating hormone\n",
      "      - s5      ltg, lamotrigine\n",
      "      - s6      glu, blood sugar level\n",
      "\n",
      "Note: Each of these 10 feature variables have been mean centered and scaled by the standard deviation times `n_samples` (i.e. the sum of squares of each column totals 1).\n",
      "\n",
      "Source URL:\n",
      "https://www4.stat.ncsu.edu/~boos/var.select/diabetes.html\n",
      "\n",
      "For more information see:\n",
      "Bradley Efron, Trevor Hastie, Iain Johnstone and Robert Tibshirani (2004) \"Least Angle Regression,\" Annals of Statistics (with discussion), 407-499.\n",
      "(https://web.stanford.edu/~hastie/Papers/LARS/LeastAngle_2002.pdf)\n"
     ]
    }
   ],
   "source": [
    "dataset = datasets.load_diabetes(return_X_y=False)\n",
    "print(dataset.DESCR)"
   ]
  },
  {
   "cell_type": "code",
   "execution_count": 5,
   "metadata": {},
   "outputs": [],
   "source": [
    "# Define the feature matrix\n",
    "data = dataset.data\n",
    "# Define the target\n",
    "target = dataset.target"
   ]
  },
  {
   "cell_type": "markdown",
   "metadata": {},
   "source": [
    "Investigate the relationship between age (data[:,0]) and Average blood pressure (data[:,3]). \n",
    "By using the WAIC score seen during lesson, can you verify which hypothesis is better supported by the data?\n",
    "\n",
    "- there is no relationship (constant)\n",
    "- the relationship is linear\n",
    "- the relationship is quadratic\n",
    "- the relationship is cubic\n",
    "- the relationship is polynomial of order 4"
   ]
  },
  {
   "cell_type": "markdown",
   "metadata": {},
   "source": [
    "<hr>\n",
    "<hr>\n",
    "<hr>\n",
    "\n",
    "## Exercise 6"
   ]
  },
  {
   "cell_type": "markdown",
   "metadata": {},
   "source": [
    "Which model would you support between the following:\n",
    "\n",
    "- target depends on _Age_\n",
    "- target depends on _Age_ and _Sex_\n",
    "- target depends on _Age_ and _Body mass index_ \n",
    "- target depends on _Age_ and _Body mass index_ and _Average blood pressure_\n",
    "- target depends on _Age_ and _Sex_ and _Body mass index_ \n",
    "- target depends on _Age_ and _Sex_ and _Body mass index_ and _Average blood pressure_\n",
    "- target depends on  _Body mass index_ and _Average blood pressure_\n",
    "\n"
   ]
  },
  {
   "cell_type": "code",
   "execution_count": null,
   "metadata": {},
   "outputs": [],
   "source": []
  }
 ],
 "metadata": {
  "kernelspec": {
   "display_name": "Python 3",
   "language": "python",
   "name": "python3"
  },
  "language_info": {
   "codemirror_mode": {
    "name": "ipython",
    "version": 3
   },
   "file_extension": ".py",
   "mimetype": "text/x-python",
   "name": "python",
   "nbconvert_exporter": "python",
   "pygments_lexer": "ipython3",
   "version": "3.8.8"
  }
 },
 "nbformat": 4,
 "nbformat_minor": 2
}
