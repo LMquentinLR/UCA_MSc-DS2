{
 "cells": [
  {
   "cell_type": "markdown",
   "metadata": {},
   "source": [
    "# Bayesian Learning Assignment 1\n",
    "\n",
    "MSc DSAI Quentin Le Roux"
   ]
  },
  {
   "cell_type": "markdown",
   "metadata": {},
   "source": [
    "<hr>"
   ]
  },
  {
   "cell_type": "markdown",
   "metadata": {},
   "source": [
    "## Library Imports"
   ]
  },
  {
   "cell_type": "code",
   "execution_count": 80,
   "metadata": {},
   "outputs": [],
   "source": [
    "import matplotlib.pyplot as plt\n",
    "import numpy as np\n",
    "import pandas as pd\n",
    "from scipy.stats import norm, anderson, beta"
   ]
  },
  {
   "cell_type": "markdown",
   "metadata": {},
   "source": [
    "## Function declarations"
   ]
  },
  {
   "cell_type": "code",
   "execution_count": 81,
   "metadata": {},
   "outputs": [],
   "source": [
    "def import_dataset(\n",
    "    path:      str, \n",
    "    index_col: bool = False, \n",
    "    header:    int  = 0, \n",
    "    sep:       int  = \",\"\n",
    ") -> pd.DataFrame:\n",
    "    \"\"\"\n",
    "    Imports a dataset formatted as a .csv file into a Pandas DataFrame.\n",
    "    \"\"\"\n",
    "    data = pd.read_csv(path, index_col=index_col, header=header, sep=sep)\n",
    "    return data"
   ]
  },
  {
   "cell_type": "code",
   "execution_count": 82,
   "metadata": {},
   "outputs": [],
   "source": [
    "def norm_testing(data: pd.DataFrame) -> None:\n",
    "    \"\"\"\n",
    "    Tests the null hypothesis that the data follows a normal distribution\n",
    "    using the Anderson-Darling test\n",
    "    \"\"\"\n",
    "    test = anderson(data)\n",
    "    result = test[0] <= test[1][4]\n",
    "    result = \"accept\" if result else \"reject\"\n",
    "    print(f\"Given a 99% confidence level, we can {result} the null hypothesis\" + \\\n",
    "          \" H0 that the data follows a normal distribution.\")"
   ]
  },
  {
   "cell_type": "code",
   "execution_count": 83,
   "metadata": {},
   "outputs": [],
   "source": [
    "def compute_P_with_relative_frequencies(\n",
    "    data: pd.DataFrame, \n",
    "    case: str, \n",
    "    condition: str\n",
    ") -> float:\n",
    "    \"\"\"\n",
    "    Computes a probabilities given the relative frequencies found in \n",
    "    a given dataset\n",
    "    \"\"\"\n",
    "    data = data.query(condition)\n",
    "    occurrences = data.query(case)\n",
    "    return occurrences[\"value\"].sum()/len(data), data, occurrences\n",
    "\n",
    "def compute_P_with_norm_distribution(\n",
    "    data: pd.DataFrame,\n",
    "    side: str,\n",
    "    split_point: float\n",
    "):\n",
    "    \"\"\"\n",
    "    Approximate a probability using a normal distribution with the data\n",
    "    \"\"\"\n",
    "    # Computes the sample mean and standard deviation\n",
    "    sample_mean = np.mean(data)\n",
    "    sample_std_dev = np.std(data)\n",
    "    # Approximates a normal distribution using the sample parameters\n",
    "    dist = norm(loc = sample_mean, scale=sample_std_dev)\n",
    "    if side == \"left\":\n",
    "        P = dist.cdf(split_point)\n",
    "    else:\n",
    "        P = 1 - dist.cdf(split_point)\n",
    "    return P"
   ]
  },
  {
   "cell_type": "code",
   "execution_count": 84,
   "metadata": {},
   "outputs": [],
   "source": [
    "def beta_distribution_plot(a:float, b:float) -> None:\n",
    "    \"\"\"\n",
    "    Plots a beta distribution given the alpha and beta parameters\n",
    "    with both the histograph and its smooth curve\n",
    "    \"\"\"\n",
    "    # Plots the distribution using the code provided by the scipy \n",
    "    # library here: \n",
    "    # https://docs.scipy.org/doc/scipy/reference/generated/scipy.stats.beta.html\n",
    "    data = beta.rvs(a, b, size=1000)\n",
    "    x = np.linspace(\n",
    "        beta.ppf(0.01, a, b), \n",
    "        beta.ppf(0.99, a, b), \n",
    "        100\n",
    "    )\n",
    "    fig, ax = plt.subplots(1, 1)\n",
    "    ax.plot(x, beta.pdf(x, a, b), 'r-', lw=5, alpha=0.6, label='beta pdf')\n",
    "    ax.hist(data, density=True, histtype=\"stepfilled\", alpha=0.2)\n",
    "    ax.legend(loc=\"best\", frameon=False)\n",
    "    plt.show()"
   ]
  },
  {
   "cell_type": "markdown",
   "metadata": {},
   "source": [
    "## Exercise 1\n",
    "\n",
    "**Using the football dataset, estimate the following conditional probabilities in two different ways (one through relative frequencies and one using an approximated distribution):**\n",
    "\n",
    "- P1: Pr(Favorite wins | point spread = 8)\n",
    "- P2: Pr(Favorite wins by at least 8 points | point spread = 8)\n",
    "- P3: Pr(Favorite wins by at least 8 points | point spread = 8 and favorite wins)\n",
    "\n",
    "**ASSUMPTION**: \n",
    "> 1. *As with class 3's exercises, we consider tied games as a half-win, i.e. each yields a half-point when counting the number of wins in the dataset.*\n",
    ">\n",
    "> 2. *Games with a point spread of 0 are ignored as it indicates that there is no favorite*"
   ]
  },
  {
   "cell_type": "code",
   "execution_count": 4,
   "metadata": {},
   "outputs": [],
   "source": [
    "# Imports the football dataset\n",
    "\n",
    "football_dataset_path = 'football_dataset.txt'\n",
    "football_data = import_dataset(football_dataset_path)"
   ]
  },
  {
   "cell_type": "code",
   "execution_count": 5,
   "metadata": {},
   "outputs": [],
   "source": [
    "# Removes the entries with a point spread of 0, as it indicates there are no favorite\n",
    "\n",
    "football_data = football_data[~(football_data[\"spread\"]==0)]\n",
    "\n",
    "# Computes an outcome column\n",
    "\n",
    "football_data[\"outcome\"] = football_data[\"favorite\"].sub(football_data[\"underdog\"])\n",
    "\n",
    "# Keeps the spread and outcome columns only\n",
    "\n",
    "football_data = football_data[[\"outcome\", \"spread\"]]\n",
    "\n",
    "# Creates a value column to count the winnings of the favourite team\n",
    "\n",
    "scorer = lambda x: 0 if x<0 else 1 if x>0 else 0.5\n",
    "football_data[\"value\"] = football_data[\"outcome\"].apply(scorer)"
   ]
  },
  {
   "cell_type": "markdown",
   "metadata": {},
   "source": [
    "### Computing P1\n",
    "\n",
    "$$P1=\\mathbb{P}(Favorite\\,\\,wins\\,\\,|\\,\\,point\\,\\,spread\\,\\,=\\,\\,8)$$"
   ]
  },
  {
   "cell_type": "code",
   "execution_count": 6,
   "metadata": {},
   "outputs": [
    {
     "name": "stdout",
     "output_type": "stream",
     "text": [
      "Computed with relative frequencies, P1: 0.7551(rounded to 4 decimals)\n"
     ]
    }
   ],
   "source": [
    "# Computes P1 with relative frequencies\n",
    "\n",
    "P1, data, _ = compute_P_with_relative_frequencies(\n",
    "    football_data, \"outcome >= 0\", \"spread == 8\"\n",
    ")\n",
    "print(f\"Computed with relative frequencies, P1: {round(P1, 4)}\" + \\\n",
    "      \"(rounded to 4 decimals)\")"
   ]
  },
  {
   "cell_type": "code",
   "execution_count": 7,
   "metadata": {},
   "outputs": [
    {
     "name": "stdout",
     "output_type": "stream",
     "text": [
      "Given a 99% confidence level, we can accept the null hypothesis H0 that the data follows a normal distribution.\n"
     ]
    }
   ],
   "source": [
    "# Tests the gaussian-ness of the data with an Anderson-Darling test\n",
    "\n",
    "data = data[\"outcome\"]\n",
    "norm_testing(data)"
   ]
  },
  {
   "cell_type": "code",
   "execution_count": 8,
   "metadata": {},
   "outputs": [
    {
     "name": "stdout",
     "output_type": "stream",
     "text": [
      "Computed with an approximated normal distribution, P2: 0.7695(rounded to 4 decimals)\n"
     ]
    }
   ],
   "source": [
    "P1 = compute_P_with_norm_distribution(data, \"right\", 0)\n",
    "print(f\"Computed with an approximated normal distribution, P2: {round(P1, 4)}\" + \\\n",
    "      \"(rounded to 4 decimals)\")"
   ]
  },
  {
   "cell_type": "markdown",
   "metadata": {},
   "source": [
    "### Computing P2\n",
    "\n",
    "$$P2=\\mathbb{P}(Favorite\\,\\,wins\\,\\,by\\,\\,at\\,\\,least\\,\\,8\\,\\,points\\,\\,|\\,\\,point\\,\\,spread\\,\\,=\\,\\,8)$$"
   ]
  },
  {
   "cell_type": "code",
   "execution_count": 9,
   "metadata": {
    "scrolled": true
   },
   "outputs": [
    {
     "name": "stdout",
     "output_type": "stream",
     "text": [
      "Computed with relative frequencies, P2: 0.449 (rounded to 4 decimals)\n"
     ]
    }
   ],
   "source": [
    "# Computes P2 with relative frequencies\n",
    "\n",
    "P2, data, _ = compute_P_with_relative_frequencies(\n",
    "    football_data, \"outcome >= 8\", \"spread == 8\"\n",
    ")\n",
    "print(f\"Computed with relative frequencies, P2: {round(P2, 4)} \" + \\\n",
    "      \"(rounded to 4 decimals)\")"
   ]
  },
  {
   "cell_type": "code",
   "execution_count": 10,
   "metadata": {},
   "outputs": [
    {
     "name": "stdout",
     "output_type": "stream",
     "text": [
      "Given a 99% confidence level, we can accept the null hypothesis H0 that the data follows a normal distribution.\n"
     ]
    }
   ],
   "source": [
    "# Tests the gaussian-ness of the data with an Anderson-Darling test\n",
    "\n",
    "data = data[\"outcome\"]\n",
    "norm_testing(data)"
   ]
  },
  {
   "cell_type": "code",
   "execution_count": 11,
   "metadata": {},
   "outputs": [
    {
     "name": "stdout",
     "output_type": "stream",
     "text": [
      "Computed with an approximated normal distribution, P2: 0.4992(rounded to 4 decimals)\n"
     ]
    }
   ],
   "source": [
    "P2 = compute_P_with_norm_distribution(data, \"right\", 8)\n",
    "print(f\"Computed with an approximated normal distribution, P2: {round(P2, 4)}\" + \\\n",
    "      \"(rounded to 4 decimals)\")"
   ]
  },
  {
   "cell_type": "markdown",
   "metadata": {},
   "source": [
    "### Computing P3\n",
    "\n",
    "$$P3=\\mathbb{P}(Favorite\\,\\,wins\\,\\,by\\,\\,at\\,\\,least\\,\\,8\\,\\,points\\,\\,|\\,\\,point\\,\\,spread\\,\\,=\\,\\,8\\,\\,\\&\\,\\,favorite\\,\\,wins)$$"
   ]
  },
  {
   "cell_type": "code",
   "execution_count": 12,
   "metadata": {},
   "outputs": [
    {
     "name": "stdout",
     "output_type": "stream",
     "text": [
      "Computed with relative frequencies, P3: 0.5946 (rounded to 4 decimals)\n"
     ]
    }
   ],
   "source": [
    "# Computes P3 with relative frequencies\n",
    "\n",
    "P3, data, _ = compute_P_with_relative_frequencies(\n",
    "    football_data, \"outcome >= 8\", \"spread == 8 & outcome >= 0\"\n",
    ")\n",
    "print(f\"Computed with relative frequencies, P3: {round(P3, 4)} (rounded to 4 decimals)\")"
   ]
  },
  {
   "cell_type": "code",
   "execution_count": 13,
   "metadata": {},
   "outputs": [
    {
     "name": "stdout",
     "output_type": "stream",
     "text": [
      "Given a 99% confidence level, we can accept the null hypothesis H0 that the data follows a normal distribution.\n"
     ]
    }
   ],
   "source": [
    "# Tests the gaussian-ness of the data with an Anderson-Darling test\n",
    "\n",
    "data = data[\"outcome\"]\n",
    "norm_testing(data)"
   ]
  },
  {
   "cell_type": "code",
   "execution_count": 14,
   "metadata": {},
   "outputs": [
    {
     "name": "stdout",
     "output_type": "stream",
     "text": [
      "Computed with an approximated normal distribution, P2: 0.7181(rounded to 4 decimals)\n"
     ]
    }
   ],
   "source": [
    "P2 = compute_P_with_norm_distribution(data, \"right\", 8)\n",
    "print(f\"Computed with an approximated normal distribution, P2: {round(P2, 4)}\" + \\\n",
    "      \"(rounded to 4 decimals)\")"
   ]
  },
  {
   "cell_type": "markdown",
   "metadata": {},
   "source": [
    "## Exercise 2\n",
    "\n",
    "A random sample of n students is drawn from a large population, and their weights are measured. The average weight of the n sampled students is $y^{mean} = 70$ Kg. We assume that the weights in the population are normally distributed with unknown mean $\\theta$, and known standard deviation 10 Kg. Suppose your prior distribution for $\\theta$ is normal with mean 80 Kg and standard deviation 15 Kg.\n",
    "\n",
    "**1) Give the posterior distribution of $\\theta$ (the answer will be a function of n).**\n",
    "\n",
    "**2) For n=10, and n=100, give a 95% posterior interval for $\\theta$.**"
   ]
  },
  {
   "cell_type": "code",
   "execution_count": null,
   "metadata": {},
   "outputs": [],
   "source": []
  },
  {
   "cell_type": "code",
   "execution_count": null,
   "metadata": {},
   "outputs": [],
   "source": []
  },
  {
   "cell_type": "markdown",
   "metadata": {},
   "source": [
    "## Exercise 3\n",
    "\n",
    "Suppose your prior distribution for $\\theta$, the proportion of Californians who support the death penalty, is Beta with mean 0.6 and standard deviation 0.3.\n",
    "\n",
    "**1) Determine the parameters $\\alpha$ and $\\beta$ of your prior distribution and plot it.**\n",
    "\n",
    "We recall:\n",
    "\n",
    "\\begin{align}\n",
    "\\theta&\\sim Beta(\\alpha, \\beta)\\\\\n",
    "\\mathbb{E}[\\theta] &= \\frac{\\alpha}{\\alpha+\\beta} &= 0.6\\\\\n",
    "\\mathbb{V}[\\theta] &= \\frac{\\alpha\\beta}{(\\alpha+\\beta)^2(\\alpha+\\beta+1)} &= 0.3^2\\\\\n",
    "\\end{align}\n",
    "\n",
    "As such:\n",
    "\n",
    "\\begin{align}\n",
    "\\mathbb{E}[\\theta] &= \\frac{\\alpha}{\\alpha+\\beta}\\\\\n",
    "0.6 &= \\frac{\\alpha}{\\alpha+\\beta}\\\\\n",
    "\\alpha &= 0.6(\\alpha+\\beta)\\\\\n",
    "0.4\\alpha &= 0.6\\beta\\\\\n",
    "\\alpha &=1.5\\beta\n",
    "\\end{align}\n",
    "\n",
    "And:\n",
    "\n",
    "\\begin{align}\n",
    "\\mathbb{V}[\\theta] &= \\frac{\\alpha\\beta}{(\\alpha+\\beta)^2(\\alpha+\\beta+1)}\\\\\n",
    "0.09 &= \\frac{\\alpha\\beta}{(\\alpha+\\beta)^2(\\alpha+\\beta+1)}\\\\\n",
    "0.09 &= \\frac{1.5\\beta^2}{(2.5\\beta)^2(2.5\\beta+1)}\\\\\n",
    "0.09 &= \\frac{1.5}{2.5^3\\beta+2.5^2}\\\\\n",
    "1.5 &= \\frac{45}{32}\\beta + \\frac{9}{16}\\\\\n",
    "\\beta &= (\\frac{3}{2}-\\frac{9}{16})*\\frac{32}{45}\\\\\n",
    "\\beta &= \\frac{2}{3}\n",
    "\\end{align}\n",
    "\n",
    "Thus: $\\alpha = 1$\n",
    "\n",
    "We conclude:\n",
    "\n",
    "$$\\theta\\sim Beta(1,\\frac{2}{3})$$"
   ]
  },
  {
   "cell_type": "code",
   "execution_count": 85,
   "metadata": {},
   "outputs": [
    {
     "data": {
      "image/png": "[encoded data removed]",
      "text/plain": [
       "<Figure size 432x288 with 1 Axes>"
      ]
     },
     "metadata": {
      "needs_background": "light"
     },
     "output_type": "display_data"
    }
   ],
   "source": [
    "# Generates a 1000-element random sample from the beta distribution\n",
    "# with parameters alpha = 1 and beta = 2/3\n",
    "\n",
    "a = 1\n",
    "b = 2/3\n",
    "\n",
    "\n",
    "# Plots the beta distribution\n",
    "\n",
    "beta_distribution_plot(a, b)"
   ]
  },
  {
   "cell_type": "markdown",
   "metadata": {},
   "source": [
    "**2) A random sample of 1000 Californians is taken, 65% support the death penalty. What are your posterior mean and variance ? Plot the posterior density function.**\n",
    "\n",
    "We denote $\\theta$ the probability of a californian supporting the death penalty. And we assume the prior distribution:\n",
    "$$\\theta \\sim Beta(1, \\frac{2}{3})$$\n",
    "\n",
    "Let denote by $y$ the random variable describing the number of californian supporting the death penalty in the observed population. We assume drawing from the population to be an independent operation. As such we consider a binomial distribution for y|$\\theta$.\n",
    "Thus the data likelihood is given by: \n",
    "\n",
    "$$p(y=k|\\theta) = \\binom{n}{k}\\theta^{k}(1-\\theta)^{n-k}$$With $n=1000$ and $k=650$.\n",
    "\n",
    "We can give the posterior probability of $\\theta$ (up to a constant) by using Bayes' such that:\n",
    "\n",
    "\\begin{align}\n",
    "p(\\theta|y) &\\propto p(y|\\theta)p(\\theta) \\\\\n",
    "& \\propto \\theta^{k+\\alpha-1}(1-\\theta)^{n-k+\\beta-1} \\\\\n",
    "\\end{align}\n",
    "\n",
    "This implies:\n",
    "\n",
    "\\begin{align}\n",
    "\\theta|y & \\sim Beta(\\alpha+k, n-k+\\beta)\n",
    "\\end{align}\n",
    "\n",
    "With $\\alpha=1$, $\\beta=\\frac{2}{3}$, $n=1000$ and $k=650$. I.e.:\n",
    "\n",
    "$$\\theta|y \\sim Beta(651, 350+\\frac{2}{3})$$"
   ]
  },
  {
   "cell_type": "code",
   "execution_count": 92,
   "metadata": {},
   "outputs": [],
   "source": [
    "new_a = a+650\n",
    "new_b = b+1000-650\n",
    "\n",
    "mean, var = beta.stats(new_a, new_b)"
   ]
  },
  {
   "cell_type": "code",
   "execution_count": 93,
   "metadata": {},
   "outputs": [
    {
     "data": {
      "image/png": "[encoded data removed]",
      "text/plain": [
       "<Figure size 432x288 with 1 Axes>"
      ]
     },
     "metadata": {
      "needs_background": "light"
     },
     "output_type": "display_data"
    }
   ],
   "source": [
    "# Plots the beta distribution \n",
    "\n",
    "beta_distribution_plot(new_a, new_b)"
   ]
  },
  {
   "cell_type": "markdown",
   "metadata": {},
   "source": [
    "**3) Examine the impact of the prior parameters on the posterior distribution through different statistics (i.e mean, median, 95% posterior interval).**"
   ]
  },
  {
   "cell_type": "code",
   "execution_count": null,
   "metadata": {},
   "outputs": [],
   "source": []
  },
  {
   "cell_type": "markdown",
   "metadata": {},
   "source": [
    "## Exercise 4\n",
    "\n",
    "**1) Which of the expressions below correspond to the statement: *the probability of rain on Monday* ?**\n",
    "\n",
    "- *Pr(rain)*\n",
    "- **Pr(rain|Monday)** <-\n",
    "- *Pr(Monday|rain)*\n",
    "- *Pr(rain, Monday) / Pr(Monday)*\n",
    "\n",
    "\n",
    "**2) Which of the following statements corresponds to the expression: *Pr(Monday|rain)* ?**\n",
    "\n",
    "- *The probability of rain on Monday.*\n",
    "- *The probability of rain, given that it is Monday.*\n",
    "- **The probability that it is Monday, given that it is raining.** <-\n",
    "- *The probability that it is Monday and it is raining.*\n",
    "\n",
    "\n",
    "**3) Which of the expressions below correspond to the statement: *the probability that it is Monday, given that it is raining* ?**\n",
    "\n",
    "- **Pr(Monday|rain)** <-\n",
    "- *Pr(rain|Monday)*\n",
    "- *Pr(rain | Monday)Pr(Monday)*\n",
    "- *Pr(rain | Monday)Pr(Monday)/Pr(rain)*\n",
    "- **Pr(Monday|rain)Pr(rain)/Pr(Monday)** <-"
   ]
  },
  {
   "cell_type": "markdown",
   "metadata": {},
   "source": [
    "## Exercise 5\n",
    "\n",
    "Suppose there are two species of panda bear. Both are equally common in the wild and live in the same places. They look exactly alike and eat the same food, and there is yet no genetic assay capable of telling them appart. They differ however in their family sizes. Species A gives birth to twins 10% of the time, otherwise birthing a single infant. Species B births twins 20% of the time, otherwise birthing singleton infants. Assume these numbers are known with certainty, from many years of field research. Now suppose you are managing a captive panda breeding program. You have a new female panda of unknown species, and she has just given birth to twins. \n",
    "\n",
    "**What is the probability that her next birth will also be twins ?**"
   ]
  },
  {
   "cell_type": "code",
   "execution_count": null,
   "metadata": {},
   "outputs": [],
   "source": []
  }
 ],
 "metadata": {
  "kernelspec": {
   "display_name": "Python 3 (ipykernel)",
   "language": "python",
   "name": "python3"
  },
  "language_info": {
   "codemirror_mode": {
    "name": "ipython",
    "version": 3
   },
   "file_extension": ".py",
   "mimetype": "text/x-python",
   "name": "python",
   "nbconvert_exporter": "python",
   "pygments_lexer": "ipython3",
   "version": "3.9.7"
  }
 },
 "nbformat": 4,
 "nbformat_minor": 2
}
