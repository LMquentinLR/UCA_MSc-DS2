{
 "cells": [
  {
   "cell_type": "markdown",
   "metadata": {},
   "source": [
    "# Assignment 3\n",
    "\n",
    "Quentin Le Roux\n",
    "\n",
    "<hr>\n",
    "<hr>\n",
    "<hr>\n",
    "\n",
    "## Exercise 1\n",
    "\n",
    "### Instructions\n",
    "\n",
    "1. Read the following paper: https://arxiv.org/abs/1709.01449.\n",
    "\n",
    "2. Write a summary of 1-2 pages.\n",
    "\n",
    "### Answer\n",
    "\n",
    "*Please see the .pdf file attached (2-page summary in the LNCS format)*\n",
    "\n",
    "<hr>"
   ]
  },
  {
   "cell_type": "markdown",
   "metadata": {
    "collapsed": true
   },
   "source": [
    "## Exercise 2\n",
    "\n",
    "### Instructions\n",
    "\n",
    "1. **Fit a model to predict the diagnosis (DX) of the subjects using both AGE and APOE4 as predictors.**\n",
    "\n",
    "\n",
    "2. **Consider subjects who are 80 years old and check the effect of the APOE4 gene on the diagnosis.**\n",
    "    - <u>Hint:</u> You'll draw many samples from two binomial distributions. One where APOE4 is included in the computation of $p_i$ and one where it's not.\n",
    "   \n",
    "\n",
    "3. **In the last lesson, we fitted a model to predict the diagnosis using only the size of the brain (norm_brain). Compare this model and the one of question 1 in terms of WAIC. Is one better than the other?**\n",
    "\n",
    "### Answer\n",
    "\n",
    "#### Library Imports"
   ]
  },
  {
   "cell_type": "code",
   "execution_count": 1,
   "metadata": {},
   "outputs": [],
   "source": [
    "import os\n",
    "import matplotlib.pyplot as plt\n",
    "import numpy as np\n",
    "import pandas as pd\n",
    "import pystan\n",
    "import seaborn as sns\n",
    "\n",
    "from pystan.constants import MAX_UINT\n",
    "from scipy.stats import binom\n",
    "from scipy.special import logsumexp\n",
    "\n",
    "pd.set_option('mode.chained_assignment', None)"
   ]
  },
  {
   "cell_type": "markdown",
   "metadata": {},
   "source": [
    "#### Function declarations"
   ]
  },
  {
   "cell_type": "code",
   "execution_count": 2,
   "metadata": {},
   "outputs": [],
   "source": [
    "def data_import() -> pd.DataFrame:\n",
    "    \"\"\"\n",
    "    Imports the dataset used in class, located in the\n",
    "    'adni_data' file.\n",
    "    \"\"\"\n",
    "    # Imports the data\n",
    "    data = pd.read_csv('adni_data')\n",
    "    # Extracts the datapoints of interest\n",
    "    data_ct_ad = data.query('DX == 1 | DX == 3') \n",
    "    # Reformats the data\n",
    "    data_ct_ad['DX'] = data_ct_ad['DX'].map({1: 0, 3: 1})\n",
    "    data_ct_ad['norm_brain'] = data_ct_ad['WholeBrain.bl'] / \\\n",
    "                               data_ct_ad['ICV']\n",
    "    data_ct_ad['norm_brain'] = (data_ct_ad['norm_brain'] - \\\n",
    "                                np.mean(data_ct_ad['norm_brain'])) / \\\n",
    "                                np.std(data_ct_ad['norm_brain'])\n",
    "    # Removes NA and returns the data\n",
    "    data_ct_ad.dropna(inplace = True)\n",
    "    return data_ct_ad\n",
    "\n",
    "def print_95CI_param(\n",
    "    pystan_model: pystan.model, \n",
    "    parameter: str\n",
    ") -> None:\n",
    "    \"\"\"\n",
    "    Prints the 95% confidence interval of a given parameter after \n",
    "    being fitted as part of a pystan model.\n",
    "    \"\"\"\n",
    "    quantiles = np.quantile(pystan_model.extract()[parameter],\n",
    "                            [0.025, 0.5, 0.975])\n",
    "    print(f\"95% confidence interval for parameter {parameter}:\",\n",
    "          f\"2.5% threshold:\\t\\t{quantiles[0]}\",\n",
    "          f\"mean:\\t\\t\\t{quantiles[1]}\",\n",
    "          f\"97.5% threshold:\\t{quantiles[2]}\",\n",
    "          sep=\"\\n\")\n",
    "\n",
    "def print_probability_increase(\n",
    "    posterior: pystan.model, \n",
    "    title: str, \n",
    "    name_variable: str =\"APOE4 gene\"\n",
    ") -> None:\n",
    "    \"\"\"\n",
    "    Prints the baseline probability of a pystan posterior model\n",
    "    and the probability increase per unit increase of a given covariate.\n",
    "    \"\"\"\n",
    "    print(title)\n",
    "    est_a = posterior.extract()[\"a\"]\n",
    "    quantiles_a = np.quantile(est_a, [0.05, 0.5, 0.95])\n",
    "    est_b = posterior.extract()[\"b\"]\n",
    "    quantiles_b = np.quantile(est_b, [0.05, 0.5, 0.95])\n",
    "    logistic_a_5 = np.exp(quantiles_a[0])/(1 + np.exp(quantiles_a[0]))\n",
    "    logistic_a_50 = np.exp(quantiles_a[1])/(1 + np.exp(quantiles_a[1]))\n",
    "    logistic_a_95 = np.exp(quantiles_a[2])/(1 + np.exp(quantiles_a[2]))\n",
    "    print(\"Baseline probability of disease:\")\n",
    "    print(\"5%  :\", logistic_a_5)\n",
    "    print(\"50% :\", logistic_a_50)\n",
    "    print(\"95% :\", logistic_a_95)\n",
    "    logistic_b_5 = np.exp(quantiles_a[0] + quantiles_b[0]) / \\\n",
    "                   (1 + np.exp(quantiles_a[0] + quantiles_b[0]))\n",
    "    logistic_b_50 = np.exp(quantiles_a[0] + quantiles_b[1]) / \\\n",
    "                    (1 + np.exp(quantiles_a[0] + quantiles_b[1]))\n",
    "    logistic_b_95 = np.exp(quantiles_a[0] + quantiles_b[2]) / \\\n",
    "                    (1 + np.exp(quantiles_a[0] + quantiles_b[2]))\n",
    "    print(f\"Probability increase for unit increase in {name_variable}\",\n",
    "          \"expression (parameter 'a' at lowest quantile):\")\n",
    "    print(\"5%  :\", logistic_b_5)\n",
    "    print(\"50% :\", logistic_b_50)\n",
    "    print(\"95% :\", logistic_b_95); print(\"\\n\")\n",
    "    \n",
    "def run_pystan_modeling(\n",
    "    data: pd.DataFrame, \n",
    "    model: str, \n",
    "    model_data: dict, \n",
    "    params_to_plot: list,\n",
    "    sampling_size = 1000\n",
    ") -> tuple:\n",
    "    \"\"\"\n",
    "    Compiles a pystan model and runs it on a given dataset and parameters.\n",
    "    Outputs the boxplot distribution of the generated parameters, and returns\n",
    "    the generated posterior and WAIC of the model (for comparison).\n",
    "    \"\"\"\n",
    "    # Compiles and fit the model\n",
    "    stan_model = pystan.StanModel(model_code = model)\n",
    "    posterior = stan_model.sampling(data=model_data, seed=int(1), \n",
    "                                    iter=4000, chains=4)\n",
    "    # Prints the diagnosis of the fit\n",
    "    print(f\"Post-fitting diagnosis:\\n{pystan.check_hmc_diagnostics(posterior)}\")\n",
    "    # Computes the WAIC of the model\n",
    "    p_i = posterior.extract()['p_i']\n",
    "    lppd = []; pwaic = []\n",
    "    for k in range(len(data)):\n",
    "        id_log_lik = [binom.logpmf(data['DX'].values[k], 1, p_i[i,k]) \n",
    "                      for i in range(sampling_size)]\n",
    "        lppd.append(logsumexp(id_log_lik) - np.log(len(id_log_lik)))\n",
    "        pwaic.append(np.var(id_log_lik))\n",
    "    waic = -2 * (np.sum(lppd) - np.sum(pwaic))\n",
    "    # Plots the distribution of the parameters\n",
    "    estimators = [posterior.extract()[param] for param in params_to_plot]\n",
    "    yticks_values = [i+1 for i in range(len(params_to_plot))]\n",
    "    plt.boxplot(estimators, vert=0)\n",
    "    plt.yticks(yticks_values, params_to_plot)\n",
    "    plt.axvline(x=0, color=\"black\", alpha=0.1)\n",
    "    plt.title(f\"Posterior distribution of parameters: {params_to_plot}\")\n",
    "    plt.show()\n",
    "    # Returns the posterior model and the WAIC\n",
    "    return posterior, waic"
   ]
  },
  {
   "cell_type": "markdown",
   "metadata": {},
   "source": [
    "#### Data import"
   ]
  },
  {
   "cell_type": "code",
   "execution_count": 3,
   "metadata": {},
   "outputs": [
    {
     "data": {
      "text/html": [
       "<div>\n",
       "<style scoped>\n",
       "    .dataframe tbody tr th:only-of-type {\n",
       "        vertical-align: middle;\n",
       "    }\n",
       "\n",
       "    .dataframe tbody tr th {\n",
       "        vertical-align: top;\n",
       "    }\n",
       "\n",
       "    .dataframe thead th {\n",
       "        text-align: right;\n",
       "    }\n",
       "</style>\n",
       "<table border=\"1\" class=\"dataframe\">\n",
       "  <thead>\n",
       "    <tr style=\"text-align: right;\">\n",
       "      <th></th>\n",
       "      <th>RID</th>\n",
       "      <th>APOE4</th>\n",
       "      <th>DX</th>\n",
       "      <th>AGE</th>\n",
       "      <th>WholeBrain.bl</th>\n",
       "      <th>ICV</th>\n",
       "      <th>norm_brain</th>\n",
       "    </tr>\n",
       "  </thead>\n",
       "  <tbody>\n",
       "    <tr>\n",
       "      <th>0</th>\n",
       "      <td>2</td>\n",
       "      <td>0.0</td>\n",
       "      <td>0</td>\n",
       "      <td>74.3</td>\n",
       "      <td>1229738.0</td>\n",
       "      <td>1.984657e+06</td>\n",
       "      <td>-0.907716</td>\n",
       "    </tr>\n",
       "    <tr>\n",
       "      <th>1</th>\n",
       "      <td>3</td>\n",
       "      <td>1.0</td>\n",
       "      <td>1</td>\n",
       "      <td>81.3</td>\n",
       "      <td>1129834.0</td>\n",
       "      <td>1.920691e+06</td>\n",
       "      <td>-1.508346</td>\n",
       "    </tr>\n",
       "    <tr>\n",
       "      <th>3</th>\n",
       "      <td>5</td>\n",
       "      <td>0.0</td>\n",
       "      <td>0</td>\n",
       "      <td>73.7</td>\n",
       "      <td>1116633.0</td>\n",
       "      <td>1.640766e+06</td>\n",
       "      <td>0.258629</td>\n",
       "    </tr>\n",
       "    <tr>\n",
       "      <th>5</th>\n",
       "      <td>7</td>\n",
       "      <td>1.0</td>\n",
       "      <td>1</td>\n",
       "      <td>75.4</td>\n",
       "      <td>875798.0</td>\n",
       "      <td>1.353519e+06</td>\n",
       "      <td>-0.382669</td>\n",
       "    </tr>\n",
       "    <tr>\n",
       "      <th>6</th>\n",
       "      <td>8</td>\n",
       "      <td>0.0</td>\n",
       "      <td>0</td>\n",
       "      <td>84.5</td>\n",
       "      <td>948684.0</td>\n",
       "      <td>1.396068e+06</td>\n",
       "      <td>0.239182</td>\n",
       "    </tr>\n",
       "  </tbody>\n",
       "</table>\n",
       "</div>"
      ],
      "text/plain": [
       "   RID  APOE4  DX   AGE  WholeBrain.bl           ICV  norm_brain\n",
       "0    2    0.0   0  74.3      1229738.0  1.984657e+06   -0.907716\n",
       "1    3    1.0   1  81.3      1129834.0  1.920691e+06   -1.508346\n",
       "3    5    0.0   0  73.7      1116633.0  1.640766e+06    0.258629\n",
       "5    7    1.0   1  75.4       875798.0  1.353519e+06   -0.382669\n",
       "6    8    0.0   0  84.5       948684.0  1.396068e+06    0.239182"
      ]
     },
     "execution_count": 3,
     "metadata": {},
     "output_type": "execute_result"
    }
   ],
   "source": [
    "data = data_import()\n",
    "data.head()"
   ]
  },
  {
   "cell_type": "code",
   "execution_count": 4,
   "metadata": {},
   "outputs": [
    {
     "data": {
      "text/html": [
       "<div>\n",
       "<style scoped>\n",
       "    .dataframe tbody tr th:only-of-type {\n",
       "        vertical-align: middle;\n",
       "    }\n",
       "\n",
       "    .dataframe tbody tr th {\n",
       "        vertical-align: top;\n",
       "    }\n",
       "\n",
       "    .dataframe thead th {\n",
       "        text-align: right;\n",
       "    }\n",
       "</style>\n",
       "<table border=\"1\" class=\"dataframe\">\n",
       "  <thead>\n",
       "    <tr style=\"text-align: right;\">\n",
       "      <th></th>\n",
       "      <th>RID</th>\n",
       "      <th>APOE4</th>\n",
       "      <th>DX</th>\n",
       "      <th>AGE</th>\n",
       "      <th>WholeBrain.bl</th>\n",
       "      <th>ICV</th>\n",
       "      <th>norm_brain</th>\n",
       "    </tr>\n",
       "  </thead>\n",
       "  <tbody>\n",
       "    <tr>\n",
       "      <th>count</th>\n",
       "      <td>826.000000</td>\n",
       "      <td>826.000000</td>\n",
       "      <td>826.000000</td>\n",
       "      <td>826.000000</td>\n",
       "      <td>8.260000e+02</td>\n",
       "      <td>8.260000e+02</td>\n",
       "      <td>826.000000</td>\n",
       "    </tr>\n",
       "    <tr>\n",
       "      <th>mean</th>\n",
       "      <td>2686.322034</td>\n",
       "      <td>0.525424</td>\n",
       "      <td>0.388620</td>\n",
       "      <td>74.451574</td>\n",
       "      <td>1.011453e+06</td>\n",
       "      <td>1.521185e+06</td>\n",
       "      <td>-0.001905</td>\n",
       "    </tr>\n",
       "    <tr>\n",
       "      <th>std</th>\n",
       "      <td>2062.148046</td>\n",
       "      <td>0.658710</td>\n",
       "      <td>0.487732</td>\n",
       "      <td>6.648689</td>\n",
       "      <td>1.113623e+05</td>\n",
       "      <td>1.680556e+05</td>\n",
       "      <td>1.000892</td>\n",
       "    </tr>\n",
       "    <tr>\n",
       "      <th>min</th>\n",
       "      <td>2.000000</td>\n",
       "      <td>0.000000</td>\n",
       "      <td>0.000000</td>\n",
       "      <td>55.100000</td>\n",
       "      <td>7.274780e+05</td>\n",
       "      <td>1.100687e+06</td>\n",
       "      <td>-2.765395</td>\n",
       "    </tr>\n",
       "    <tr>\n",
       "      <th>25%</th>\n",
       "      <td>673.250000</td>\n",
       "      <td>0.000000</td>\n",
       "      <td>0.000000</td>\n",
       "      <td>70.500000</td>\n",
       "      <td>9.329465e+05</td>\n",
       "      <td>1.396231e+06</td>\n",
       "      <td>-0.719043</td>\n",
       "    </tr>\n",
       "    <tr>\n",
       "      <th>50%</th>\n",
       "      <td>2718.000000</td>\n",
       "      <td>0.000000</td>\n",
       "      <td>0.000000</td>\n",
       "      <td>74.150000</td>\n",
       "      <td>1.008351e+06</td>\n",
       "      <td>1.504898e+06</td>\n",
       "      <td>0.022915</td>\n",
       "    </tr>\n",
       "    <tr>\n",
       "      <th>75%</th>\n",
       "      <td>4690.500000</td>\n",
       "      <td>1.000000</td>\n",
       "      <td>1.000000</td>\n",
       "      <td>78.900000</td>\n",
       "      <td>1.087573e+06</td>\n",
       "      <td>1.634110e+06</td>\n",
       "      <td>0.684545</td>\n",
       "    </tr>\n",
       "    <tr>\n",
       "      <th>max</th>\n",
       "      <td>5296.000000</td>\n",
       "      <td>2.000000</td>\n",
       "      <td>1.000000</td>\n",
       "      <td>90.900000</td>\n",
       "      <td>1.486036e+06</td>\n",
       "      <td>2.057399e+06</td>\n",
       "      <td>3.236658</td>\n",
       "    </tr>\n",
       "  </tbody>\n",
       "</table>\n",
       "</div>"
      ],
      "text/plain": [
       "               RID       APOE4          DX         AGE  WholeBrain.bl  \\\n",
       "count   826.000000  826.000000  826.000000  826.000000   8.260000e+02   \n",
       "mean   2686.322034    0.525424    0.388620   74.451574   1.011453e+06   \n",
       "std    2062.148046    0.658710    0.487732    6.648689   1.113623e+05   \n",
       "min       2.000000    0.000000    0.000000   55.100000   7.274780e+05   \n",
       "25%     673.250000    0.000000    0.000000   70.500000   9.329465e+05   \n",
       "50%    2718.000000    0.000000    0.000000   74.150000   1.008351e+06   \n",
       "75%    4690.500000    1.000000    1.000000   78.900000   1.087573e+06   \n",
       "max    5296.000000    2.000000    1.000000   90.900000   1.486036e+06   \n",
       "\n",
       "                ICV  norm_brain  \n",
       "count  8.260000e+02  826.000000  \n",
       "mean   1.521185e+06   -0.001905  \n",
       "std    1.680556e+05    1.000892  \n",
       "min    1.100687e+06   -2.765395  \n",
       "25%    1.396231e+06   -0.719043  \n",
       "50%    1.504898e+06    0.022915  \n",
       "75%    1.634110e+06    0.684545  \n",
       "max    2.057399e+06    3.236658  "
      ]
     },
     "execution_count": 4,
     "metadata": {},
     "output_type": "execute_result"
    }
   ],
   "source": [
    "data.describe()"
   ]
  },
  {
   "cell_type": "code",
   "execution_count": 5,
   "metadata": {},
   "outputs": [
    {
     "data": {
      "text/plain": [
       "(826, 7)"
      ]
     },
     "execution_count": 5,
     "metadata": {},
     "output_type": "execute_result"
    }
   ],
   "source": [
    "data.shape"
   ]
  },
  {
   "cell_type": "markdown",
   "metadata": {},
   "source": [
    "We plot the kernel density estimators of the `AGE` and `APOE4` variables and note that their distribution are very different. If `AGE` can somewhat be approximated by a normal distribution, that is not really the case with `APOE4`, which is discretely parametrized. \n",
    "\n",
    "This is interesting with regards to how we can model the coefficient of `APOE4` as part of a Bayesian modeling process. We will try to go beyond approximating its coefficient with a normal prior and explore/try different distributions to see whether we observe improvements."
   ]
  },
  {
   "cell_type": "code",
   "execution_count": 6,
   "metadata": {},
   "outputs": [
    {
     "data": {
      "image/png": "[encoded data removed]",
      "text/plain": [
       "<Figure size 720x432 with 1 Axes>"
      ]
     },
     "metadata": {
      "needs_background": "light"
     },
     "output_type": "display_data"
    }
   ],
   "source": [
    "plt.figure(figsize=(10,6))\n",
    "sns.kdeplot(data[\"AGE\"], label=\"AGE\").set(title='Age distribution in the dataset')\n",
    "sns.kdeplot(np.random.normal(data[\"AGE\"].mean(), data[\"AGE\"].std(), 1000),\n",
    "            label=\"Norm(mean_AGE, std_AGE)\",color=\"red\", alpha=0.5)\n",
    "plt.legend()\n",
    "plt.show()"
   ]
  },
  {
   "cell_type": "code",
   "execution_count": 7,
   "metadata": {
    "scrolled": false
   },
   "outputs": [
    {
     "data": {
      "image/png": "[encoded data removed]",
      "text/plain": [
       "<Figure size 720x432 with 1 Axes>"
      ]
     },
     "metadata": {
      "needs_background": "light"
     },
     "output_type": "display_data"
    }
   ],
   "source": [
    "plt.figure(figsize=(10,6))\n",
    "sns.kdeplot(data[\"APOE4\"], label=\"APOE4\").set(title='APOE4 distribution in the dataset')\n",
    "sns.kdeplot(np.random.exponential(0.5, 1000),\n",
    "            label=\"Exponential(0.5)\",color=\"red\", alpha=0.4)\n",
    "sns.kdeplot(np.random.exponential(0.8, 1000),\n",
    "            label=\"Exponential(0.8)\",color=\"orange\", alpha=0.4)\n",
    "sns.kdeplot(np.random.exponential(1, 1000),\n",
    "            label=\"Exponential(1)\",color=\"violet\", alpha=0.4)\n",
    "plt.legend()\n",
    "plt.show()"
   ]
  },
  {
   "cell_type": "markdown",
   "metadata": {},
   "source": [
    "<hr>\n",
    "\n",
    "#### <u>Question 1: Building a model `DX ~ AGE + APOE4`</u>\n",
    "\n",
    "<u>Goal:</u> We will try a Markov Chain Monte Carlo (MCMC) approach to approximate the distribution of through sampling.\n",
    "\n",
    "- <u>Note 1, HMC:</u> We will try to conform to the Hamiltonian Monte Carlo (HMC) approach as seen in class instead of the classical *Metropolis-Hastings* MCMC method (where an iterative 2-step process is repeated where the current parameter space is perturbed to provide a proposal that is rejected, i.e. corrected, if it is deemed too implausible). As stated in class:\n",
    "\n",
    "    > HMC's basic idea consists in better exploring a target distribution by leveraging the geometric properties of the distribution itself. Conceptually, speed and direction are defined such that we move across the parameter space with the differential properties of the target distribution. Thus defined, the set of dynamical systems describes the trajectory to follow (Hamiltonian dynamics).\n",
    "    >\n",
    "    > Example with a Gaussian model:\n",
    "\\begin{align}\n",
    "Y&\\sim\\mathcal{N}(\\mu,\\sigma^2)\\\\\n",
    "\\mu&\\sim\\mathcal{N}(\\mu_0,\\sigma_0^2)\\tag{prior}\\\\\n",
    "\\sigma&\\sim\\mathcal{U}(\\text{bound}_\\text{lower},\\text{bound}_\\text{upper})\\tag{prior}\\\\\n",
    "\\text{With}&,\\\\\n",
    "Y_i&\\sim\\mathcal{N}(\\mu_i,\\sigma^2)\\tag{likelihood}\\\\\n",
    "\\mu_i&=\\mu(x_i)\\text{  s.t.  }\\mu(x) = a+b.x\\\\\n",
    "a&\\sim\\mathcal{N}(\\mu_a,\\sigma_a^2)\\tag{prior}\\\\\n",
    "b&\\sim\\mathcal{N}(\\mu_b,\\sigma_b^2\\tag{prior}\\\\\n",
    "\\text{And}&,\\\\\n",
    "\\mathbb{P}(a,b,\\sigma|Y,X)&=\\mathbb{P}(Y|a,b,\\sigma,X).\\mathbb{P}(a).\\mathbb{P}(b).\\mathbb{P}(\\sigma)\n",
    "\\end{align}\n",
    "\n",
    "- <u>Note 2, PyStan:</u> For the purpose of this exercise, HMC will be implemented with the 2.xx version of the Python interface of the Stan library (https://mc-stan.org, https://pystan.readthedocs.io/en/latest/). The library has since been updated to a 3.xx version that does not provide backward compatibility. Moreover, the 2.xx PyStan library requires a GCC version older than 11. This can be dealt two ways: \n",
    "\n",
    "    1. either by forcing a Jupyter notebook to use an older version of GCC, \n",
    "    2. or by setting up an environment with an older Python version that does not ship with GCC11.\n",
    " \n",
    "Running this exercise locally, ***the second option was chosen***.\n",
    "\n",
    "    + version 1:\n",
    "```Python\n",
    "import os, pystan\n",
    "from pystan.constants import MAX_UINT\n",
    "\n",
    "os.environ[\"CC\"] = \"g++-10\"\n",
    "os.environ[\"CXX\"] = \"g++-10\"\n",
    "```\n",
    "\n",
    "    + version 2:\n",
    "\n",
    "```sh\n",
    "$ conda create -n pystan_env python=3.6 ipykernel matplotlib seaborn scipy numpy pandas pystan=2.19.0.0\n",
    "$ conda activate pystan_env\n",
    "```"
   ]
  },
  {
   "cell_type": "markdown",
   "metadata": {},
   "source": [
    "<u>Process:</u>\n",
    "\n",
    "We are in a classification modeling setup where we want to estimate the probability of a patient having Alzheimer's disease. Having the disease or not corresponds to classes (e.g. 0 or 1). In such a setup, where we want to estimate $y$ the probabilty of being affected, the Binomial model is the most fitting one here s.t.:\n",
    "\n",
    "\\begin{align}\n",
    "\\mathbb{P}(y)&\\sim\\mathcal{B}(n,p),\\,\\text{a binomial likelihood model}\\\\\n",
    "\\text{with}&,\\\\\n",
    "p&,\\,\\text{the probability of a patient being diagnosed with Alzheimer's disease}\\\\\n",
    "y&,\\,\\text{the number of positive cases}\\\\\n",
    "n&,\\,\\text{the number of trials/individuals}\n",
    "\\end{align}\n",
    "\n",
    "In the following case, we will use the Binomial distribution for our likelihood model. A 1-predictor Binomial model is parametrized by the probability $p$ itself parametrized as a linear combination of the predictor $x$ s.t.:\n",
    "\n",
    "\\begin{align}\n",
    "y_i &\\sim \\mathcal{B}(n, p_i)\\\\\n",
    "f(p_i) &= a + b x_i\n",
    "\\end{align}\n",
    "\n",
    "As noted in class, there are some issues to account for: \n",
    "\n",
    "- Since the probability $p_i$ must be bounded in the interval $[0,1]$, parameterizing it directly with a linear model will likely result in breaking the basic rules of probabilities.\n",
    "- We have no guarantee at the moment that the linear $f(p_i)$ combination is bounded in the interval $[0,1]$.\n",
    "- As such, the probability $p_i$ must be adapted to be contained in the interval $[0,1]$ via a link function: \n",
    "    - The logit which, when included as below, can be rewritten into a new, convenient estimation of $p_i$:\n",
    "\n",
    "\\begin{align}\n",
    "logit(p_i) &= \\log(\\frac{p_i}{1-p_i})\\\\\n",
    "\\log(\\frac{p_i}{1-p_i}) &= a + b x_i\\\\\n",
    "p_i &= \\frac{\\exp(a + b x_i)}{1 + \\exp(a + b x_i)}\n",
    "\\end{align}\n",
    "\n",
    "In our case, We want to fit the dependent variable `DX` with the covariates `AGE` and `APOE4`. As such, we are interested in a logistic regression model for predicting Alzheimer's disease given two predictors $x$ and $z$ s.t.:\n",
    "\n",
    "\\begin{align}\n",
    "y_i &\\sim \\mathcal{B}(n, p_i)\\\\\n",
    "p_i &= \\frac{\\exp(a + b x_i + c z_i)}{1 + \\exp(a + b x_i + c z_i)}\n",
    "\\end{align}\n",
    "\n",
    "For exploration and comparison purposes, we will start with fitting `DX` with `AGE` and `APOE4` separately.\n",
    "\n",
    "<u>Fitting `DX` with `AGE` and `APOE4` separately:</u>\n",
    "\n",
    "At first we start by fitting each covariate separately with \"DX\" to see their individual effects. The given model for $p_i$ (to declare with pystan) is the same for both cases: \n",
    "\n",
    "\\begin{align}\n",
    "p_i &= \\frac{\\exp(a + b x_i)}{1 + \\exp(a + b x_i)}\n",
    "\\end{align}\n",
    "\n",
    "<span style=\"color:red\">Of note</span>, as noted in our data import section, `APOE4` is discretely valued (either 0, 1, or 2) and we want to try to see the effect of different distributions for its coefficient. As such we will test either a normal, uniform, or exponential prior distribution to model the coefficient with the following parameters:\n",
    "\n",
    "| prior distribution | parameters | \n",
    "| :---: | :---: |\n",
    "| Normal | $\\mu=0$, $\\sigma=10$ |\n",
    "| Uniform | lower $=0$, upper $=2$ |\n",
    "| Exponential | $\\lambda=1$ |"
   ]
  },
  {
   "cell_type": "code",
   "execution_count": 9,
   "metadata": {},
   "outputs": [],
   "source": [
    "# Declares the pystan model for both:\n",
    "#    - DX ~ AGE\n",
    "#    - DX ~ APOE4\n",
    "model = \"\"\"\n",
    "data {\n",
    "  int<lower=1> N;\n",
    "  int y[N];\n",
    "  real x[N];\n",
    "  real param1_a;\n",
    "  real<lower=0> param2_a;\n",
    "  real param1_b;\n",
    "  real<lower=0> param2_b;\n",
    "}\n",
    "parameters {\n",
    "  real a;\n",
    "  real b;\n",
    "}\n",
    "transformed parameters {\n",
    "  vector[N] p_i;\n",
    "  for (i in 1:N) {\n",
    "    p_i[i] = exp(a + b * x[i])/(1 + exp(a + b * x[i])); \n",
    "    }\n",
    "}\n",
    "\"\"\"\n",
    "\n",
    "model_addon_AGE = \"\"\"\n",
    "model {\n",
    "  a ~ normal(param1_a, param2_a);\n",
    "  b ~ normal(param1_b, param2_b);\n",
    "  y ~ binomial(1, p_i);\n",
    "}\n",
    "\"\"\"\n",
    "model_addon_APOE4_normal = \"\"\"\n",
    "model {\n",
    "  a ~ normal(param1_a, param2_a);\n",
    "  b ~ normal(param1_b, param2_b); \n",
    "  y ~ binomial(1, p_i);\n",
    "}\n",
    "\"\"\"\n",
    "model_addon_APOE4_uniform = \"\"\"\n",
    "model {\n",
    "  a ~ normal(param1_a, param2_a);\n",
    "  b ~ uniform(param1_b, param2_b); \n",
    "  y ~ binomial(1, p_i);\n",
    "}\n",
    "\"\"\"\n",
    "model_addon_APOE4_exponential = \"\"\"\n",
    "model {\n",
    "  a ~ normal(param1_a, param2_a);\n",
    "  b ~ exponential(param1_b); \n",
    "  y ~ binomial(1, p_i);\n",
    "}\n",
    "\"\"\"\n",
    "\n",
    "# Declares the data to send to the pystan model for\n",
    "# both covariates AGE and APOE4\n",
    "stan_data_AGE = {\"x\":        data[\"AGE\"],\n",
    "                 \"y\":        data['DX'],\n",
    "                 \"param1_a\": 0,  \"param2_a\": 10,\n",
    "                 \"param1_b\": 60, \"param2_b\": 10,\n",
    "                 \"N\":        data.shape[0]\n",
    "                }\n",
    "\n",
    "stan_data_APOE4 = {\"x\":        data[\"APOE4\"],\n",
    "                   \"y\":        data['DX'],\n",
    "                   \"param1_a\": 0, \"param2_a\": 10,\n",
    "                   \"N\":        data.shape[0]\n",
    "                  }\n",
    "\n",
    "APOE4_normal = {\"param1_b\": 0, \"param2_b\": 10}\n",
    "APOE4_uniform = {\"param1_b\": 0, \"param2_b\": 2}\n",
    "# param2_b will not be used but still evaluated by pystan\n",
    "# so we still need to declare it\n",
    "APOE4_exponential ={\"param1_b\": 1, \"param2_b\": 1} "
   ]
  },
  {
   "cell_type": "markdown",
   "metadata": {},
   "source": [
    "We now run our modeling on each covariates.\n",
    "\n",
    "1. pystan model run for DX ~ AGE"
   ]
  },
  {
   "cell_type": "code",
   "execution_count": 10,
   "metadata": {
    "scrolled": true
   },
   "outputs": [
    {
     "name": "stderr",
     "output_type": "stream",
     "text": [
      "INFO:pystan:COMPILING THE C++ CODE FOR MODEL anon_model_62803ab0ce3a609de8e59ec3a2120226 NOW.\n"
     ]
    },
    {
     "name": "stdout",
     "output_type": "stream",
     "text": [
      "Post-fitting diagnosis:\n",
      "{'n_eff': True, 'Rhat': True, 'divergence': True, 'treedepth': True, 'energy': True}\n"
     ]
    },
    {
     "data": {
      "image/png": "[encoded data removed]",
      "text/plain": [
       "<Figure size 432x288 with 1 Axes>"
      ]
     },
     "metadata": {
      "needs_background": "light"
     },
     "output_type": "display_data"
    }
   ],
   "source": [
    "posterior_AGE, waic_AGE = run_pystan_modeling(\n",
    "    data, model+model_addon_AGE, stan_data_AGE, [\"a\", \"b\"]\n",
    ")"
   ]
  },
  {
   "cell_type": "code",
   "execution_count": 19,
   "metadata": {},
   "outputs": [
    {
     "name": "stderr",
     "output_type": "stream",
     "text": [
      "WARNING:pystan:Truncated summary with the 'fit.__repr__' method. For the full summary use 'print(fit)'\n"
     ]
    },
    {
     "data": {
      "text/plain": [
       "\n",
       "Warning: Shown data is truncated to 100 parameters\n",
       "For the full summary use 'print(fit)'\n",
       "\n",
       "Inference for Stan model: anon_model_62803ab0ce3a609de8e59ec3a2120226.\n",
       "4 chains, each with iter=4000; warmup=2000; thin=1; \n",
       "post-warmup draws per chain=2000, total post-warmup draws=8000.\n",
       "\n",
       "          mean se_mean     sd   2.5%    25%    50%    75%  97.5%  n_eff   Rhat\n",
       "a        -1.62    0.03   0.83  -3.26  -2.17  -1.59  -1.07  -0.01   1026   1.01\n",
       "b         0.02  3.4e-4   0.01-5.8e-3 8.3e-3   0.02   0.02   0.04   1037   1.01\n",
       "p_i[1]    0.39  2.0e-4   0.02   0.35   0.38   0.39    0.4   0.42   7178    1.0\n",
       "p_i[2]    0.41  5.3e-4   0.02   0.37    0.4   0.41   0.43   0.46   2184    1.0\n",
       "p_i[3]    0.39  2.2e-4   0.02   0.35   0.37   0.39    0.4   0.42   6121    1.0\n",
       "p_i[4]    0.39  2.0e-4   0.02   0.36   0.38   0.39    0.4   0.43   7263    1.0\n",
       "p_i[5]    0.43  7.9e-4   0.03   0.36    0.4   0.43   0.45   0.49   1616    1.0\n",
       "p_i[6]    0.39  2.1e-4   0.02   0.35   0.37   0.39    0.4   0.42   6595    1.0\n",
       "p_i[7]     0.4  3.2e-4   0.02   0.36   0.39    0.4   0.42   0.44   3838    1.0\n",
       "p_i[8]    0.41  4.9e-4   0.02   0.37    0.4   0.41   0.43   0.46   2349    1.0\n",
       "p_i[9]    0.36  7.9e-4   0.03    0.3   0.34   0.36   0.37   0.41   1294   1.01\n",
       "p_i[10]   0.38  2.5e-4   0.02   0.35   0.37   0.38   0.39   0.42   4925    1.0\n",
       "p_i[11]   0.38  2.8e-4   0.02   0.35   0.37   0.38   0.39   0.42   4096    1.0\n",
       "p_i[12]   0.35  9.5e-4   0.03   0.28   0.33   0.35   0.37   0.41   1197   1.01\n",
       "p_i[13]   0.38  3.4e-4   0.02   0.34   0.37   0.38   0.39   0.41   3009    1.0\n",
       "p_i[14]   0.35  8.9e-4   0.03   0.29   0.33   0.35   0.37   0.41   1230   1.01\n",
       "p_i[15]    0.4  2.8e-4   0.02   0.36   0.39    0.4   0.41   0.44   4702    1.0\n",
       "p_i[16]    0.4  2.4e-4   0.02   0.36   0.38    0.4   0.41   0.43   5853    1.0\n",
       "p_i[17]   0.38  2.4e-4   0.02   0.35   0.37   0.38    0.4   0.42   5100    1.0\n",
       "p_i[18]   0.39  2.1e-4   0.02   0.36   0.38   0.39   0.41   0.43   6888    1.0\n",
       "p_i[19]   0.43  8.0e-4   0.03   0.36   0.41   0.43   0.45   0.49   1596    1.0\n",
       "p_i[20]    0.4  3.1e-4   0.02   0.36   0.39    0.4   0.42   0.44   4035    1.0\n",
       "p_i[21]   0.41  4.4e-4   0.02   0.37   0.39   0.41   0.42   0.45   2645    1.0\n",
       "p_i[22]   0.39  2.0e-4   0.02   0.36   0.38   0.39    0.4   0.43   7246    1.0\n",
       "p_i[23]   0.37  4.9e-4   0.02   0.33   0.36   0.37   0.38   0.41   1874    1.0\n",
       "p_i[24]   0.37  4.5e-4   0.02   0.33   0.36   0.37   0.39   0.41   2042    1.0\n",
       "p_i[25]   0.38  4.0e-4   0.02   0.34   0.36   0.37   0.39   0.41   2422    1.0\n",
       "p_i[26]    0.4  2.4e-4   0.02   0.36   0.39    0.4   0.41   0.43   5694    1.0\n",
       "p_i[27]   0.39  2.0e-4   0.02   0.35   0.38   0.39    0.4   0.42   7230    1.0\n",
       "p_i[28]   0.39  2.0e-4   0.02   0.35   0.38   0.39    0.4   0.42   7230    1.0\n",
       "p_i[29]   0.39  2.0e-4   0.02   0.35   0.38   0.39    0.4   0.42   7206    1.0\n",
       "p_i[30]   0.38  2.6e-4   0.02   0.35   0.37   0.38   0.39   0.42   4594    1.0\n",
       "p_i[31]   0.39  2.1e-4   0.02   0.35   0.37   0.39    0.4   0.42   6803    1.0\n",
       "p_i[32]   0.37  4.2e-4   0.02   0.34   0.36   0.37   0.39   0.41   2260    1.0\n",
       "p_i[33]    0.4  3.1e-4   0.02   0.36   0.39    0.4   0.42   0.44   4136    1.0\n",
       "p_i[34]    0.4  3.1e-4   0.02   0.36   0.39    0.4   0.42   0.44   4035    1.0\n",
       "p_i[35]   0.37  4.2e-4   0.02   0.34   0.36   0.37   0.39   0.41   2260    1.0\n",
       "p_i[36]   0.38  2.4e-4   0.02   0.35   0.37   0.38    0.4   0.42   5100    1.0\n",
       "p_i[37]   0.39  2.0e-4   0.02   0.36   0.38   0.39    0.4   0.43   7276    1.0\n",
       "p_i[38]   0.41  4.5e-4   0.02   0.37   0.39   0.41   0.43   0.46   2551    1.0\n",
       "p_i[39]   0.36  7.8e-4   0.03    0.3   0.34   0.36   0.38   0.41   1307   1.01\n",
       "p_i[40]   0.35  8.2e-4   0.03    0.3   0.33   0.35   0.37   0.41   1277   1.01\n",
       "p_i[41]   0.37  4.8e-4   0.02   0.33   0.36   0.37   0.39   0.41   1937    1.0\n",
       "p_i[42]   0.35  1.0e-3   0.03   0.28   0.32   0.35   0.37   0.41   1174   1.01\n",
       "p_i[43]    0.4  2.5e-4   0.02   0.36   0.39    0.4   0.41   0.43   5386    1.0\n",
       "p_i[44]   0.37  4.1e-4   0.02   0.34   0.36   0.37   0.39   0.41   2311    1.0\n",
       "p_i[45]   0.38  3.8e-4   0.02   0.34   0.36   0.38   0.39   0.41   2545    1.0\n",
       "p_i[46]   0.41  4.0e-4   0.02   0.36   0.39   0.41   0.42   0.45   2921    1.0\n",
       "p_i[47]   0.38  2.7e-4   0.02   0.35   0.37   0.38   0.39   0.42   4431    1.0\n",
       "p_i[48]   0.38  2.4e-4   0.02   0.35   0.37   0.38    0.4   0.42   5100    1.0\n",
       "p_i[49]   0.37  4.5e-4   0.02   0.33   0.36   0.37   0.39   0.41   2042    1.0\n",
       "p_i[50]   0.42  6.3e-4   0.03   0.37    0.4   0.42   0.44   0.47   1878    1.0\n",
       "p_i[51]   0.39  2.0e-4   0.02   0.36   0.38   0.39    0.4   0.42   7285    1.0\n",
       "p_i[52]   0.41  4.6e-4   0.02   0.37   0.39   0.41   0.43   0.46   2507    1.0\n",
       "p_i[53]   0.38  3.2e-4   0.02   0.34   0.37   0.38   0.39   0.42   3309    1.0\n",
       "p_i[54]   0.38  2.4e-4   0.02   0.35   0.37   0.38    0.4   0.42   5282    1.0\n",
       "p_i[55]   0.39  2.2e-4   0.02   0.35   0.37   0.39    0.4   0.42   6121    1.0\n",
       "p_i[56]   0.37  4.2e-4   0.02   0.34   0.36   0.37   0.39   0.41   2260    1.0\n",
       "p_i[57]   0.41  4.5e-4   0.02   0.37   0.39   0.41   0.42   0.45   2597    1.0\n",
       "p_i[58]   0.38  2.5e-4   0.02   0.35   0.37   0.38   0.39   0.42   4925    1.0\n",
       "p_i[59]   0.36  7.6e-4   0.03    0.3   0.34   0.36   0.38   0.41   1327   1.01\n",
       "p_i[60]   0.34  1.2e-3   0.04   0.26   0.31   0.34   0.36   0.42   1122   1.01\n",
       "p_i[61]   0.44  1.1e-3   0.04   0.36   0.41   0.44   0.46   0.52   1393    1.0\n",
       "p_i[62]   0.39  2.1e-4   0.02   0.35   0.38   0.39    0.4   0.42   6999    1.0\n",
       "p_i[63]    0.4  2.9e-4   0.02   0.36   0.39    0.4   0.41   0.44   4462    1.0\n",
       "p_i[64]   0.38  3.3e-4   0.02   0.34   0.37   0.38   0.39   0.42   3103    1.0\n",
       "p_i[65]   0.38  2.9e-4   0.02   0.35   0.37   0.38   0.39   0.42   3945    1.0\n",
       "p_i[66]    0.4  2.2e-4   0.02   0.36   0.38    0.4   0.41   0.43   6660    1.0\n",
       "p_i[67]    0.4  3.1e-4   0.02   0.36   0.39    0.4   0.42   0.44   4035    1.0\n",
       "p_i[68]   0.37  4.2e-4   0.02   0.34   0.36   0.37   0.39   0.41   2260    1.0\n",
       "p_i[69]   0.38  2.4e-4   0.02   0.35   0.37   0.38    0.4   0.42   5100    1.0\n",
       "p_i[70]   0.39  2.0e-4   0.02   0.36   0.38   0.39    0.4   0.42   7279    1.0\n",
       "p_i[71]   0.38  2.9e-4   0.02   0.35   0.37   0.38   0.39   0.42   3802    1.0\n",
       "p_i[72]    0.4  3.1e-4   0.02   0.36   0.39    0.4   0.42   0.44   4035    1.0\n",
       "p_i[73]   0.41  4.6e-4   0.02   0.37   0.39   0.41   0.43   0.46   2507    1.0\n",
       "p_i[74]   0.41  4.7e-4   0.02   0.37   0.39   0.41   0.43   0.46   2464    1.0\n",
       "p_i[75]    0.4  2.9e-4   0.02   0.36   0.39    0.4   0.41   0.44   4349    1.0\n",
       "p_i[76]   0.38  2.9e-4   0.02   0.35   0.37   0.38   0.39   0.42   3802    1.0\n",
       "p_i[77]   0.35  9.7e-4   0.03   0.28   0.32   0.35   0.37   0.41   1187   1.01\n",
       "p_i[78]   0.43  7.7e-4   0.03   0.36    0.4   0.43   0.45   0.49   1637    1.0\n",
       "p_i[79]   0.39  2.0e-4   0.02   0.35   0.38   0.39    0.4   0.42   7206    1.0\n",
       "p_i[80]   0.36  6.5e-4   0.02   0.31   0.35   0.36   0.38   0.41   1463   1.01\n",
       "p_i[81]    0.4  2.9e-4   0.02   0.36   0.39    0.4   0.41   0.44   4349    1.0\n",
       "p_i[82]   0.41  4.5e-4   0.02   0.37   0.39   0.41   0.42   0.45   2597    1.0\n",
       "p_i[83]   0.39  2.0e-4   0.02   0.35   0.38   0.39    0.4   0.42   7206    1.0\n",
       "p_i[84]   0.41  4.3e-4   0.02   0.37   0.39   0.41   0.42   0.45   2695    1.0\n",
       "p_i[85]    0.4  2.9e-4   0.02   0.36   0.39    0.4   0.41   0.44   4349    1.0\n",
       "p_i[86]   0.39  2.2e-4   0.02   0.35   0.37   0.39    0.4   0.42   6356    1.0\n",
       "p_i[87]    0.4  3.2e-4   0.02   0.36   0.39    0.4   0.42   0.44   3838    1.0\n",
       "p_i[88]   0.37  4.2e-4   0.02   0.34   0.36   0.37   0.39   0.41   2260    1.0\n",
       "p_i[89]    0.4  3.3e-4   0.02   0.36   0.39    0.4   0.42   0.44   3736    1.0\n",
       "p_i[90]   0.43  9.0e-4   0.03   0.36   0.41   0.43   0.45    0.5   1504    1.0\n",
       "p_i[91]   0.43  8.7e-4   0.03   0.36   0.41   0.43   0.45    0.5   1526    1.0\n",
       "p_i[92]   0.37  4.3e-4   0.02   0.33   0.36   0.37   0.39   0.41   2165    1.0\n",
       "p_i[93]    0.4  3.2e-4   0.02   0.36   0.39    0.4   0.42   0.44   3939    1.0\n",
       "p_i[94]   0.36  7.6e-4   0.03    0.3   0.34   0.36   0.38   0.41   1327   1.01\n",
       "p_i[95]   0.43  8.1e-4   0.03   0.36   0.41   0.43   0.45   0.49   1586    1.0\n",
       "p_i[96]    0.4  2.2e-4   0.02   0.36   0.38    0.4   0.41   0.43   6660    1.0\n",
       "p_i[97]   0.44  1.2e-3   0.04   0.36   0.41   0.44   0.47   0.53   1337    1.0\n",
       "lp__    -569.9    0.02   1.01 -572.6 -570.3 -569.6 -569.2 -568.9   1639    1.0\n",
       "\n",
       "Samples were drawn using NUTS at Fri Jan  7 10:42:28 2022.\n",
       "For each parameter, n_eff is a crude measure of effective sample size,\n",
       "and Rhat is the potential scale reduction factor on split chains (at \n",
       "convergence, Rhat=1)."
      ]
     },
     "execution_count": 19,
     "metadata": {},
     "output_type": "execute_result"
    }
   ],
   "source": [
    "posterior_AGE"
   ]
  },
  {
   "cell_type": "markdown",
   "metadata": {},
   "source": [
    "2. pystan model run for DX ~ APOE4 with APOE4 described by a prior normal distribution"
   ]
  },
  {
   "cell_type": "code",
   "execution_count": 10,
   "metadata": {},
   "outputs": [
    {
     "name": "stderr",
     "output_type": "stream",
     "text": [
      "INFO:pystan:COMPILING THE C++ CODE FOR MODEL anon_model_0a22f20705718a96016e1cb4dce21872 NOW.\n"
     ]
    },
    {
     "name": "stdout",
     "output_type": "stream",
     "text": [
      "Post-fitting diagnosis:\n",
      "{'n_eff': True, 'Rhat': True, 'divergence': True, 'treedepth': True, 'energy': True}\n"
     ]
    },
    {
     "data": {
      "image/png": "[encoded data removed]",
      "text/plain": [
       "<Figure size 432x288 with 1 Axes>"
      ]
     },
     "metadata": {
      "needs_background": "light"
     },
     "output_type": "display_data"
    }
   ],
   "source": [
    "posterior_APOE4_normal, waic_APOE4_normal = run_pystan_modeling(\n",
    "    data, model+model_addon_APOE4_normal, \n",
    "    {**stan_data_APOE4, **APOE4_normal}, \n",
    "    [\"a\", \"b\"]\n",
    ")"
   ]
  },
  {
   "cell_type": "markdown",
   "metadata": {},
   "source": [
    "3. pystan model run for DX ~ APOE4 with APOE4 described by a prior uniform distribution"
   ]
  },
  {
   "cell_type": "code",
   "execution_count": 11,
   "metadata": {},
   "outputs": [
    {
     "name": "stderr",
     "output_type": "stream",
     "text": [
      "INFO:pystan:COMPILING THE C++ CODE FOR MODEL anon_model_85a21e36d8d2e02751a59c2c93c0ba85 NOW.\n"
     ]
    },
    {
     "name": "stdout",
     "output_type": "stream",
     "text": [
      "Post-fitting diagnosis:\n",
      "{'n_eff': True, 'Rhat': True, 'divergence': True, 'treedepth': True, 'energy': True}\n"
     ]
    },
    {
     "data": {
      "image/png": "[encoded data removed]",
      "text/plain": [
       "<Figure size 432x288 with 1 Axes>"
      ]
     },
     "metadata": {
      "needs_background": "light"
     },
     "output_type": "display_data"
    }
   ],
   "source": [
    "posterior_APOE4_uniform, waic_APOE4_uniform = run_pystan_modeling(\n",
    "    data, model+model_addon_APOE4_uniform, \n",
    "    {**stan_data_APOE4, **APOE4_uniform}, \n",
    "    [\"a\", \"b\"]\n",
    ")"
   ]
  },
  {
   "cell_type": "markdown",
   "metadata": {},
   "source": [
    "4. pystan model run for DX ~ APOE4 with APOE4 described by a prior exponential distribution"
   ]
  },
  {
   "cell_type": "code",
   "execution_count": 12,
   "metadata": {},
   "outputs": [
    {
     "name": "stderr",
     "output_type": "stream",
     "text": [
      "INFO:pystan:COMPILING THE C++ CODE FOR MODEL anon_model_30b7facd74674540213bbb4179e0868a NOW.\n"
     ]
    },
    {
     "name": "stdout",
     "output_type": "stream",
     "text": [
      "Post-fitting diagnosis:\n",
      "{'n_eff': True, 'Rhat': True, 'divergence': True, 'treedepth': True, 'energy': True}\n"
     ]
    },
    {
     "data": {
      "image/png": "[encoded data removed]",
      "text/plain": [
       "<Figure size 432x288 with 1 Axes>"
      ]
     },
     "metadata": {
      "needs_background": "light"
     },
     "output_type": "display_data"
    }
   ],
   "source": [
    "posterior_APOE4_exponential, waic_APOE4_exponential = run_pystan_modeling(\n",
    "    data, model+model_addon_APOE4_exponential, \n",
    "    {**stan_data_APOE4, **APOE4_exponential}, \n",
    "    [\"a\", \"b\"]\n",
    ")"
   ]
  },
  {
   "cell_type": "markdown",
   "metadata": {},
   "source": [
    "We print the posterior results for each model for visualization purposes:"
   ]
  },
  {
   "cell_type": "code",
   "execution_count": 13,
   "metadata": {},
   "outputs": [
    {
     "name": "stderr",
     "output_type": "stream",
     "text": [
      "WARNING:pystan:Truncated summary with the 'fit.__repr__' method. For the full summary use 'print(fit)'\n"
     ]
    },
    {
     "data": {
      "text/plain": [
       "\n",
       "Warning: Shown data is truncated to 100 parameters\n",
       "For the full summary use 'print(fit)'\n",
       "\n",
       "Inference for Stan model: anon_model_62803ab0ce3a609de8e59ec3a2120226.\n",
       "4 chains, each with iter=4000; warmup=2000; thin=1; \n",
       "post-warmup draws per chain=2000, total post-warmup draws=8000.\n",
       "\n",
       "          mean se_mean     sd   2.5%    25%    50%    75%  97.5%  n_eff   Rhat\n",
       "a        -1.62    0.03   0.83  -3.26  -2.17  -1.59  -1.07  -0.01   1026   1.01\n",
       "b         0.02  3.4e-4   0.01-5.8e-3 8.3e-3   0.02   0.02   0.04   1037   1.01\n",
       "p_i[1]    0.39  2.0e-4   0.02   0.35   0.38   0.39    0.4   0.42   7178    1.0\n",
       "p_i[2]    0.41  5.3e-4   0.02   0.37    0.4   0.41   0.43   0.46   2184    1.0\n",
       "p_i[3]    0.39  2.2e-4   0.02   0.35   0.37   0.39    0.4   0.42   6121    1.0\n",
       "p_i[4]    0.39  2.0e-4   0.02   0.36   0.38   0.39    0.4   0.43   7263    1.0\n",
       "p_i[5]    0.43  7.9e-4   0.03   0.36    0.4   0.43   0.45   0.49   1616    1.0\n",
       "p_i[6]    0.39  2.1e-4   0.02   0.35   0.37   0.39    0.4   0.42   6595    1.0\n",
       "p_i[7]     0.4  3.2e-4   0.02   0.36   0.39    0.4   0.42   0.44   3838    1.0\n",
       "p_i[8]    0.41  4.9e-4   0.02   0.37    0.4   0.41   0.43   0.46   2349    1.0\n",
       "p_i[9]    0.36  7.9e-4   0.03    0.3   0.34   0.36   0.37   0.41   1294   1.01\n",
       "p_i[10]   0.38  2.5e-4   0.02   0.35   0.37   0.38   0.39   0.42   4925    1.0\n",
       "p_i[11]   0.38  2.8e-4   0.02   0.35   0.37   0.38   0.39   0.42   4096    1.0\n",
       "p_i[12]   0.35  9.5e-4   0.03   0.28   0.33   0.35   0.37   0.41   1197   1.01\n",
       "p_i[13]   0.38  3.4e-4   0.02   0.34   0.37   0.38   0.39   0.41   3009    1.0\n",
       "p_i[14]   0.35  8.9e-4   0.03   0.29   0.33   0.35   0.37   0.41   1230   1.01\n",
       "p_i[15]    0.4  2.8e-4   0.02   0.36   0.39    0.4   0.41   0.44   4702    1.0\n",
       "p_i[16]    0.4  2.4e-4   0.02   0.36   0.38    0.4   0.41   0.43   5853    1.0\n",
       "p_i[17]   0.38  2.4e-4   0.02   0.35   0.37   0.38    0.4   0.42   5100    1.0\n",
       "p_i[18]   0.39  2.1e-4   0.02   0.36   0.38   0.39   0.41   0.43   6888    1.0\n",
       "p_i[19]   0.43  8.0e-4   0.03   0.36   0.41   0.43   0.45   0.49   1596    1.0\n",
       "p_i[20]    0.4  3.1e-4   0.02   0.36   0.39    0.4   0.42   0.44   4035    1.0\n",
       "p_i[21]   0.41  4.4e-4   0.02   0.37   0.39   0.41   0.42   0.45   2645    1.0\n",
       "p_i[22]   0.39  2.0e-4   0.02   0.36   0.38   0.39    0.4   0.43   7246    1.0\n",
       "p_i[23]   0.37  4.9e-4   0.02   0.33   0.36   0.37   0.38   0.41   1874    1.0\n",
       "p_i[24]   0.37  4.5e-4   0.02   0.33   0.36   0.37   0.39   0.41   2042    1.0\n",
       "p_i[25]   0.38  4.0e-4   0.02   0.34   0.36   0.37   0.39   0.41   2422    1.0\n",
       "p_i[26]    0.4  2.4e-4   0.02   0.36   0.39    0.4   0.41   0.43   5694    1.0\n",
       "p_i[27]   0.39  2.0e-4   0.02   0.35   0.38   0.39    0.4   0.42   7230    1.0\n",
       "p_i[28]   0.39  2.0e-4   0.02   0.35   0.38   0.39    0.4   0.42   7230    1.0\n",
       "p_i[29]   0.39  2.0e-4   0.02   0.35   0.38   0.39    0.4   0.42   7206    1.0\n",
       "p_i[30]   0.38  2.6e-4   0.02   0.35   0.37   0.38   0.39   0.42   4594    1.0\n",
       "p_i[31]   0.39  2.1e-4   0.02   0.35   0.37   0.39    0.4   0.42   6803    1.0\n",
       "p_i[32]   0.37  4.2e-4   0.02   0.34   0.36   0.37   0.39   0.41   2260    1.0\n",
       "p_i[33]    0.4  3.1e-4   0.02   0.36   0.39    0.4   0.42   0.44   4136    1.0\n",
       "p_i[34]    0.4  3.1e-4   0.02   0.36   0.39    0.4   0.42   0.44   4035    1.0\n",
       "p_i[35]   0.37  4.2e-4   0.02   0.34   0.36   0.37   0.39   0.41   2260    1.0\n",
       "p_i[36]   0.38  2.4e-4   0.02   0.35   0.37   0.38    0.4   0.42   5100    1.0\n",
       "p_i[37]   0.39  2.0e-4   0.02   0.36   0.38   0.39    0.4   0.43   7276    1.0\n",
       "p_i[38]   0.41  4.5e-4   0.02   0.37   0.39   0.41   0.43   0.46   2551    1.0\n",
       "p_i[39]   0.36  7.8e-4   0.03    0.3   0.34   0.36   0.38   0.41   1307   1.01\n",
       "p_i[40]   0.35  8.2e-4   0.03    0.3   0.33   0.35   0.37   0.41   1277   1.01\n",
       "p_i[41]   0.37  4.8e-4   0.02   0.33   0.36   0.37   0.39   0.41   1937    1.0\n",
       "p_i[42]   0.35  1.0e-3   0.03   0.28   0.32   0.35   0.37   0.41   1174   1.01\n",
       "p_i[43]    0.4  2.5e-4   0.02   0.36   0.39    0.4   0.41   0.43   5386    1.0\n",
       "p_i[44]   0.37  4.1e-4   0.02   0.34   0.36   0.37   0.39   0.41   2311    1.0\n",
       "p_i[45]   0.38  3.8e-4   0.02   0.34   0.36   0.38   0.39   0.41   2545    1.0\n",
       "p_i[46]   0.41  4.0e-4   0.02   0.36   0.39   0.41   0.42   0.45   2921    1.0\n",
       "p_i[47]   0.38  2.7e-4   0.02   0.35   0.37   0.38   0.39   0.42   4431    1.0\n",
       "p_i[48]   0.38  2.4e-4   0.02   0.35   0.37   0.38    0.4   0.42   5100    1.0\n",
       "p_i[49]   0.37  4.5e-4   0.02   0.33   0.36   0.37   0.39   0.41   2042    1.0\n",
       "p_i[50]   0.42  6.3e-4   0.03   0.37    0.4   0.42   0.44   0.47   1878    1.0\n",
       "p_i[51]   0.39  2.0e-4   0.02   0.36   0.38   0.39    0.4   0.42   7285    1.0\n",
       "p_i[52]   0.41  4.6e-4   0.02   0.37   0.39   0.41   0.43   0.46   2507    1.0\n",
       "p_i[53]   0.38  3.2e-4   0.02   0.34   0.37   0.38   0.39   0.42   3309    1.0\n",
       "p_i[54]   0.38  2.4e-4   0.02   0.35   0.37   0.38    0.4   0.42   5282    1.0\n",
       "p_i[55]   0.39  2.2e-4   0.02   0.35   0.37   0.39    0.4   0.42   6121    1.0\n",
       "p_i[56]   0.37  4.2e-4   0.02   0.34   0.36   0.37   0.39   0.41   2260    1.0\n",
       "p_i[57]   0.41  4.5e-4   0.02   0.37   0.39   0.41   0.42   0.45   2597    1.0\n",
       "p_i[58]   0.38  2.5e-4   0.02   0.35   0.37   0.38   0.39   0.42   4925    1.0\n",
       "p_i[59]   0.36  7.6e-4   0.03    0.3   0.34   0.36   0.38   0.41   1327   1.01\n",
       "p_i[60]   0.34  1.2e-3   0.04   0.26   0.31   0.34   0.36   0.42   1122   1.01\n",
       "p_i[61]   0.44  1.1e-3   0.04   0.36   0.41   0.44   0.46   0.52   1393    1.0\n",
       "p_i[62]   0.39  2.1e-4   0.02   0.35   0.38   0.39    0.4   0.42   6999    1.0\n",
       "p_i[63]    0.4  2.9e-4   0.02   0.36   0.39    0.4   0.41   0.44   4462    1.0\n",
       "p_i[64]   0.38  3.3e-4   0.02   0.34   0.37   0.38   0.39   0.42   3103    1.0\n",
       "p_i[65]   0.38  2.9e-4   0.02   0.35   0.37   0.38   0.39   0.42   3945    1.0\n",
       "p_i[66]    0.4  2.2e-4   0.02   0.36   0.38    0.4   0.41   0.43   6660    1.0\n",
       "p_i[67]    0.4  3.1e-4   0.02   0.36   0.39    0.4   0.42   0.44   4035    1.0\n",
       "p_i[68]   0.37  4.2e-4   0.02   0.34   0.36   0.37   0.39   0.41   2260    1.0\n",
       "p_i[69]   0.38  2.4e-4   0.02   0.35   0.37   0.38    0.4   0.42   5100    1.0\n",
       "p_i[70]   0.39  2.0e-4   0.02   0.36   0.38   0.39    0.4   0.42   7279    1.0\n",
       "p_i[71]   0.38  2.9e-4   0.02   0.35   0.37   0.38   0.39   0.42   3802    1.0\n",
       "p_i[72]    0.4  3.1e-4   0.02   0.36   0.39    0.4   0.42   0.44   4035    1.0\n",
       "p_i[73]   0.41  4.6e-4   0.02   0.37   0.39   0.41   0.43   0.46   2507    1.0\n",
       "p_i[74]   0.41  4.7e-4   0.02   0.37   0.39   0.41   0.43   0.46   2464    1.0\n",
       "p_i[75]    0.4  2.9e-4   0.02   0.36   0.39    0.4   0.41   0.44   4349    1.0\n",
       "p_i[76]   0.38  2.9e-4   0.02   0.35   0.37   0.38   0.39   0.42   3802    1.0\n",
       "p_i[77]   0.35  9.7e-4   0.03   0.28   0.32   0.35   0.37   0.41   1187   1.01\n",
       "p_i[78]   0.43  7.7e-4   0.03   0.36    0.4   0.43   0.45   0.49   1637    1.0\n",
       "p_i[79]   0.39  2.0e-4   0.02   0.35   0.38   0.39    0.4   0.42   7206    1.0\n",
       "p_i[80]   0.36  6.5e-4   0.02   0.31   0.35   0.36   0.38   0.41   1463   1.01\n",
       "p_i[81]    0.4  2.9e-4   0.02   0.36   0.39    0.4   0.41   0.44   4349    1.0\n",
       "p_i[82]   0.41  4.5e-4   0.02   0.37   0.39   0.41   0.42   0.45   2597    1.0\n",
       "p_i[83]   0.39  2.0e-4   0.02   0.35   0.38   0.39    0.4   0.42   7206    1.0\n",
       "p_i[84]   0.41  4.3e-4   0.02   0.37   0.39   0.41   0.42   0.45   2695    1.0\n",
       "p_i[85]    0.4  2.9e-4   0.02   0.36   0.39    0.4   0.41   0.44   4349    1.0\n",
       "p_i[86]   0.39  2.2e-4   0.02   0.35   0.37   0.39    0.4   0.42   6356    1.0\n",
       "p_i[87]    0.4  3.2e-4   0.02   0.36   0.39    0.4   0.42   0.44   3838    1.0\n",
       "p_i[88]   0.37  4.2e-4   0.02   0.34   0.36   0.37   0.39   0.41   2260    1.0\n",
       "p_i[89]    0.4  3.3e-4   0.02   0.36   0.39    0.4   0.42   0.44   3736    1.0\n",
       "p_i[90]   0.43  9.0e-4   0.03   0.36   0.41   0.43   0.45    0.5   1504    1.0\n",
       "p_i[91]   0.43  8.7e-4   0.03   0.36   0.41   0.43   0.45    0.5   1526    1.0\n",
       "p_i[92]   0.37  4.3e-4   0.02   0.33   0.36   0.37   0.39   0.41   2165    1.0\n",
       "p_i[93]    0.4  3.2e-4   0.02   0.36   0.39    0.4   0.42   0.44   3939    1.0\n",
       "p_i[94]   0.36  7.6e-4   0.03    0.3   0.34   0.36   0.38   0.41   1327   1.01\n",
       "p_i[95]   0.43  8.1e-4   0.03   0.36   0.41   0.43   0.45   0.49   1586    1.0\n",
       "p_i[96]    0.4  2.2e-4   0.02   0.36   0.38    0.4   0.41   0.43   6660    1.0\n",
       "p_i[97]   0.44  1.2e-3   0.04   0.36   0.41   0.44   0.47   0.53   1337    1.0\n",
       "lp__    -569.9    0.02   1.01 -572.6 -570.3 -569.6 -569.2 -568.9   1639    1.0\n",
       "\n",
       "Samples were drawn using NUTS at Thu Dec 16 20:25:10 2021.\n",
       "For each parameter, n_eff is a crude measure of effective sample size,\n",
       "and Rhat is the potential scale reduction factor on split chains (at \n",
       "convergence, Rhat=1)."
      ]
     },
     "execution_count": 13,
     "metadata": {},
     "output_type": "execute_result"
    }
   ],
   "source": [
    "posterior_AGE"
   ]
  },
  {
   "cell_type": "code",
   "execution_count": 14,
   "metadata": {},
   "outputs": [
    {
     "name": "stderr",
     "output_type": "stream",
     "text": [
      "WARNING:pystan:Truncated summary with the 'fit.__repr__' method. For the full summary use 'print(fit)'\n"
     ]
    },
    {
     "data": {
      "text/plain": [
       "\n",
       "Warning: Shown data is truncated to 100 parameters\n",
       "For the full summary use 'print(fit)'\n",
       "\n",
       "Inference for Stan model: anon_model_0a22f20705718a96016e1cb4dce21872.\n",
       "4 chains, each with iter=4000; warmup=2000; thin=1; \n",
       "post-warmup draws per chain=2000, total post-warmup draws=8000.\n",
       "\n",
       "          mean se_mean     sd   2.5%    25%    50%    75%  97.5%  n_eff   Rhat\n",
       "a        -1.25  2.0e-3   0.11  -1.46  -1.31  -1.24  -1.17  -1.04   2852    1.0\n",
       "b         1.42  2.4e-3   0.13   1.17   1.33   1.42    1.5   1.68   2877    1.0\n",
       "p_i[1]    0.22  3.4e-4   0.02   0.19   0.21   0.22   0.24   0.26   2862    1.0\n",
       "p_i[2]    0.54  2.8e-4   0.02   0.49   0.53   0.54   0.56   0.59   7347    1.0\n",
       "p_i[3]    0.22  3.4e-4   0.02   0.19   0.21   0.22   0.24   0.26   2862    1.0\n",
       "p_i[4]    0.54  2.8e-4   0.02   0.49   0.53   0.54   0.56   0.59   7347    1.0\n",
       "p_i[5]    0.22  3.4e-4   0.02   0.19   0.21   0.22   0.24   0.26   2862    1.0\n",
       "p_i[6]    0.54  2.8e-4   0.02   0.49   0.53   0.54   0.56   0.59   7347    1.0\n",
       "p_i[7]    0.22  3.4e-4   0.02   0.19   0.21   0.22   0.24   0.26   2862    1.0\n",
       "p_i[8]    0.54  2.8e-4   0.02   0.49   0.53   0.54   0.56   0.59   7347    1.0\n",
       "p_i[9]    0.54  2.8e-4   0.02   0.49   0.53   0.54   0.56   0.59   7347    1.0\n",
       "p_i[10]   0.22  3.4e-4   0.02   0.19   0.21   0.22   0.24   0.26   2862    1.0\n",
       "p_i[11]   0.22  3.4e-4   0.02   0.19   0.21   0.22   0.24   0.26   2862    1.0\n",
       "p_i[12]   0.54  2.8e-4   0.02   0.49   0.53   0.54   0.56   0.59   7347    1.0\n",
       "p_i[13]   0.22  3.4e-4   0.02   0.19   0.21   0.22   0.24   0.26   2862    1.0\n",
       "p_i[14]   0.54  2.8e-4   0.02   0.49   0.53   0.54   0.56   0.59   7347    1.0\n",
       "p_i[15]   0.22  3.4e-4   0.02   0.19   0.21   0.22   0.24   0.26   2862    1.0\n",
       "p_i[16]   0.22  3.4e-4   0.02   0.19   0.21   0.22   0.24   0.26   2862    1.0\n",
       "p_i[17]   0.22  3.4e-4   0.02   0.19   0.21   0.22   0.24   0.26   2862    1.0\n",
       "p_i[18]   0.22  3.4e-4   0.02   0.19   0.21   0.22   0.24   0.26   2862    1.0\n",
       "p_i[19]   0.22  3.4e-4   0.02   0.19   0.21   0.22   0.24   0.26   2862    1.0\n",
       "p_i[20]   0.83  4.5e-4   0.03   0.77   0.81   0.83   0.85   0.88   4078    1.0\n",
       "p_i[21]   0.22  3.4e-4   0.02   0.19   0.21   0.22   0.24   0.26   2862    1.0\n",
       "p_i[22]   0.22  3.4e-4   0.02   0.19   0.21   0.22   0.24   0.26   2862    1.0\n",
       "p_i[23]   0.22  3.4e-4   0.02   0.19   0.21   0.22   0.24   0.26   2862    1.0\n",
       "p_i[24]   0.54  2.8e-4   0.02   0.49   0.53   0.54   0.56   0.59   7347    1.0\n",
       "p_i[25]   0.22  3.4e-4   0.02   0.19   0.21   0.22   0.24   0.26   2862    1.0\n",
       "p_i[26]   0.22  3.4e-4   0.02   0.19   0.21   0.22   0.24   0.26   2862    1.0\n",
       "p_i[27]   0.22  3.4e-4   0.02   0.19   0.21   0.22   0.24   0.26   2862    1.0\n",
       "p_i[28]   0.22  3.4e-4   0.02   0.19   0.21   0.22   0.24   0.26   2862    1.0\n",
       "p_i[29]   0.22  3.4e-4   0.02   0.19   0.21   0.22   0.24   0.26   2862    1.0\n",
       "p_i[30]   0.22  3.4e-4   0.02   0.19   0.21   0.22   0.24   0.26   2862    1.0\n",
       "p_i[31]   0.22  3.4e-4   0.02   0.19   0.21   0.22   0.24   0.26   2862    1.0\n",
       "p_i[32]   0.22  3.4e-4   0.02   0.19   0.21   0.22   0.24   0.26   2862    1.0\n",
       "p_i[33]   0.22  3.4e-4   0.02   0.19   0.21   0.22   0.24   0.26   2862    1.0\n",
       "p_i[34]   0.54  2.8e-4   0.02   0.49   0.53   0.54   0.56   0.59   7347    1.0\n",
       "p_i[35]   0.54  2.8e-4   0.02   0.49   0.53   0.54   0.56   0.59   7347    1.0\n",
       "p_i[36]   0.83  4.5e-4   0.03   0.77   0.81   0.83   0.85   0.88   4078    1.0\n",
       "p_i[37]   0.54  2.8e-4   0.02   0.49   0.53   0.54   0.56   0.59   7347    1.0\n",
       "p_i[38]   0.22  3.4e-4   0.02   0.19   0.21   0.22   0.24   0.26   2862    1.0\n",
       "p_i[39]   0.83  4.5e-4   0.03   0.77   0.81   0.83   0.85   0.88   4078    1.0\n",
       "p_i[40]   0.22  3.4e-4   0.02   0.19   0.21   0.22   0.24   0.26   2862    1.0\n",
       "p_i[41]   0.83  4.5e-4   0.03   0.77   0.81   0.83   0.85   0.88   4078    1.0\n",
       "p_i[42]   0.22  3.4e-4   0.02   0.19   0.21   0.22   0.24   0.26   2862    1.0\n",
       "p_i[43]   0.54  2.8e-4   0.02   0.49   0.53   0.54   0.56   0.59   7347    1.0\n",
       "p_i[44]   0.54  2.8e-4   0.02   0.49   0.53   0.54   0.56   0.59   7347    1.0\n",
       "p_i[45]   0.22  3.4e-4   0.02   0.19   0.21   0.22   0.24   0.26   2862    1.0\n",
       "p_i[46]   0.22  3.4e-4   0.02   0.19   0.21   0.22   0.24   0.26   2862    1.0\n",
       "p_i[47]   0.22  3.4e-4   0.02   0.19   0.21   0.22   0.24   0.26   2862    1.0\n",
       "p_i[48]   0.22  3.4e-4   0.02   0.19   0.21   0.22   0.24   0.26   2862    1.0\n",
       "p_i[49]   0.54  2.8e-4   0.02   0.49   0.53   0.54   0.56   0.59   7347    1.0\n",
       "p_i[50]   0.22  3.4e-4   0.02   0.19   0.21   0.22   0.24   0.26   2862    1.0\n",
       "p_i[51]   0.22  3.4e-4   0.02   0.19   0.21   0.22   0.24   0.26   2862    1.0\n",
       "p_i[52]   0.22  3.4e-4   0.02   0.19   0.21   0.22   0.24   0.26   2862    1.0\n",
       "p_i[53]   0.54  2.8e-4   0.02   0.49   0.53   0.54   0.56   0.59   7347    1.0\n",
       "p_i[54]   0.22  3.4e-4   0.02   0.19   0.21   0.22   0.24   0.26   2862    1.0\n",
       "p_i[55]   0.22  3.4e-4   0.02   0.19   0.21   0.22   0.24   0.26   2862    1.0\n",
       "p_i[56]   0.22  3.4e-4   0.02   0.19   0.21   0.22   0.24   0.26   2862    1.0\n",
       "p_i[57]   0.22  3.4e-4   0.02   0.19   0.21   0.22   0.24   0.26   2862    1.0\n",
       "p_i[58]   0.22  3.4e-4   0.02   0.19   0.21   0.22   0.24   0.26   2862    1.0\n",
       "p_i[59]   0.83  4.5e-4   0.03   0.77   0.81   0.83   0.85   0.88   4078    1.0\n",
       "p_i[60]   0.22  3.4e-4   0.02   0.19   0.21   0.22   0.24   0.26   2862    1.0\n",
       "p_i[61]   0.22  3.4e-4   0.02   0.19   0.21   0.22   0.24   0.26   2862    1.0\n",
       "p_i[62]   0.22  3.4e-4   0.02   0.19   0.21   0.22   0.24   0.26   2862    1.0\n",
       "p_i[63]   0.22  3.4e-4   0.02   0.19   0.21   0.22   0.24   0.26   2862    1.0\n",
       "p_i[64]   0.54  2.8e-4   0.02   0.49   0.53   0.54   0.56   0.59   7347    1.0\n",
       "p_i[65]   0.54  2.8e-4   0.02   0.49   0.53   0.54   0.56   0.59   7347    1.0\n",
       "p_i[66]   0.54  2.8e-4   0.02   0.49   0.53   0.54   0.56   0.59   7347    1.0\n",
       "p_i[67]   0.22  3.4e-4   0.02   0.19   0.21   0.22   0.24   0.26   2862    1.0\n",
       "p_i[68]   0.22  3.4e-4   0.02   0.19   0.21   0.22   0.24   0.26   2862    1.0\n",
       "p_i[69]   0.22  3.4e-4   0.02   0.19   0.21   0.22   0.24   0.26   2862    1.0\n",
       "p_i[70]   0.22  3.4e-4   0.02   0.19   0.21   0.22   0.24   0.26   2862    1.0\n",
       "p_i[71]   0.54  2.8e-4   0.02   0.49   0.53   0.54   0.56   0.59   7347    1.0\n",
       "p_i[72]   0.54  2.8e-4   0.02   0.49   0.53   0.54   0.56   0.59   7347    1.0\n",
       "p_i[73]   0.22  3.4e-4   0.02   0.19   0.21   0.22   0.24   0.26   2862    1.0\n",
       "p_i[74]   0.22  3.4e-4   0.02   0.19   0.21   0.22   0.24   0.26   2862    1.0\n",
       "p_i[75]   0.22  3.4e-4   0.02   0.19   0.21   0.22   0.24   0.26   2862    1.0\n",
       "p_i[76]   0.22  3.4e-4   0.02   0.19   0.21   0.22   0.24   0.26   2862    1.0\n",
       "p_i[77]   0.22  3.4e-4   0.02   0.19   0.21   0.22   0.24   0.26   2862    1.0\n",
       "p_i[78]   0.22  3.4e-4   0.02   0.19   0.21   0.22   0.24   0.26   2862    1.0\n",
       "p_i[79]   0.54  2.8e-4   0.02   0.49   0.53   0.54   0.56   0.59   7347    1.0\n",
       "p_i[80]   0.83  4.5e-4   0.03   0.77   0.81   0.83   0.85   0.88   4078    1.0\n",
       "p_i[81]   0.54  2.8e-4   0.02   0.49   0.53   0.54   0.56   0.59   7347    1.0\n",
       "p_i[82]   0.22  3.4e-4   0.02   0.19   0.21   0.22   0.24   0.26   2862    1.0\n",
       "p_i[83]   0.54  2.8e-4   0.02   0.49   0.53   0.54   0.56   0.59   7347    1.0\n",
       "p_i[84]   0.22  3.4e-4   0.02   0.19   0.21   0.22   0.24   0.26   2862    1.0\n",
       "p_i[85]   0.22  3.4e-4   0.02   0.19   0.21   0.22   0.24   0.26   2862    1.0\n",
       "p_i[86]   0.22  3.4e-4   0.02   0.19   0.21   0.22   0.24   0.26   2862    1.0\n",
       "p_i[87]   0.54  2.8e-4   0.02   0.49   0.53   0.54   0.56   0.59   7347    1.0\n",
       "p_i[88]   0.22  3.4e-4   0.02   0.19   0.21   0.22   0.24   0.26   2862    1.0\n",
       "p_i[89]   0.22  3.4e-4   0.02   0.19   0.21   0.22   0.24   0.26   2862    1.0\n",
       "p_i[90]   0.22  3.4e-4   0.02   0.19   0.21   0.22   0.24   0.26   2862    1.0\n",
       "p_i[91]   0.54  2.8e-4   0.02   0.49   0.53   0.54   0.56   0.59   7347    1.0\n",
       "p_i[92]   0.22  3.4e-4   0.02   0.19   0.21   0.22   0.24   0.26   2862    1.0\n",
       "p_i[93]   0.22  3.4e-4   0.02   0.19   0.21   0.22   0.24   0.26   2862    1.0\n",
       "p_i[94]   0.22  3.4e-4   0.02   0.19   0.21   0.22   0.24   0.26   2862    1.0\n",
       "p_i[95]   0.54  2.8e-4   0.02   0.49   0.53   0.54   0.56   0.59   7347    1.0\n",
       "p_i[96]   0.22  3.4e-4   0.02   0.19   0.21   0.22   0.24   0.26   2862    1.0\n",
       "p_i[97]   0.22  3.4e-4   0.02   0.19   0.21   0.22   0.24   0.26   2862    1.0\n",
       "lp__    -479.4    0.02   1.02 -482.1 -479.7 -479.1 -478.6 -478.4   3088    1.0\n",
       "\n",
       "Samples were drawn using NUTS at Thu Dec 16 20:27:36 2021.\n",
       "For each parameter, n_eff is a crude measure of effective sample size,\n",
       "and Rhat is the potential scale reduction factor on split chains (at \n",
       "convergence, Rhat=1)."
      ]
     },
     "execution_count": 14,
     "metadata": {},
     "output_type": "execute_result"
    }
   ],
   "source": [
    "posterior_APOE4_normal"
   ]
  },
  {
   "cell_type": "code",
   "execution_count": 15,
   "metadata": {},
   "outputs": [
    {
     "name": "stderr",
     "output_type": "stream",
     "text": [
      "WARNING:pystan:Truncated summary with the 'fit.__repr__' method. For the full summary use 'print(fit)'\n"
     ]
    },
    {
     "data": {
      "text/plain": [
       "\n",
       "Warning: Shown data is truncated to 100 parameters\n",
       "For the full summary use 'print(fit)'\n",
       "\n",
       "Inference for Stan model: anon_model_85a21e36d8d2e02751a59c2c93c0ba85.\n",
       "4 chains, each with iter=4000; warmup=2000; thin=1; \n",
       "post-warmup draws per chain=2000, total post-warmup draws=8000.\n",
       "\n",
       "          mean se_mean     sd   2.5%    25%    50%    75%  97.5%  n_eff   Rhat\n",
       "a        -1.24  2.0e-3   0.11  -1.46  -1.32  -1.24  -1.17  -1.04   2856    1.0\n",
       "b         1.41  2.3e-3   0.13   1.17   1.33   1.41    1.5   1.66   2906    1.0\n",
       "p_i[1]    0.22  3.5e-4   0.02   0.19   0.21   0.22   0.24   0.26   2851    1.0\n",
       "p_i[2]    0.54  2.8e-4   0.02    0.5   0.53   0.54   0.56   0.59   7460    1.0\n",
       "p_i[3]    0.22  3.5e-4   0.02   0.19   0.21   0.22   0.24   0.26   2851    1.0\n",
       "p_i[4]    0.54  2.8e-4   0.02    0.5   0.53   0.54   0.56   0.59   7460    1.0\n",
       "p_i[5]    0.22  3.5e-4   0.02   0.19   0.21   0.22   0.24   0.26   2851    1.0\n",
       "p_i[6]    0.54  2.8e-4   0.02    0.5   0.53   0.54   0.56   0.59   7460    1.0\n",
       "p_i[7]    0.22  3.5e-4   0.02   0.19   0.21   0.22   0.24   0.26   2851    1.0\n",
       "p_i[8]    0.54  2.8e-4   0.02    0.5   0.53   0.54   0.56   0.59   7460    1.0\n",
       "p_i[9]    0.54  2.8e-4   0.02    0.5   0.53   0.54   0.56   0.59   7460    1.0\n",
       "p_i[10]   0.22  3.5e-4   0.02   0.19   0.21   0.22   0.24   0.26   2851    1.0\n",
       "p_i[11]   0.22  3.5e-4   0.02   0.19   0.21   0.22   0.24   0.26   2851    1.0\n",
       "p_i[12]   0.54  2.8e-4   0.02    0.5   0.53   0.54   0.56   0.59   7460    1.0\n",
       "p_i[13]   0.22  3.5e-4   0.02   0.19   0.21   0.22   0.24   0.26   2851    1.0\n",
       "p_i[14]   0.54  2.8e-4   0.02    0.5   0.53   0.54   0.56   0.59   7460    1.0\n",
       "p_i[15]   0.22  3.5e-4   0.02   0.19   0.21   0.22   0.24   0.26   2851    1.0\n",
       "p_i[16]   0.22  3.5e-4   0.02   0.19   0.21   0.22   0.24   0.26   2851    1.0\n",
       "p_i[17]   0.22  3.5e-4   0.02   0.19   0.21   0.22   0.24   0.26   2851    1.0\n",
       "p_i[18]   0.22  3.5e-4   0.02   0.19   0.21   0.22   0.24   0.26   2851    1.0\n",
       "p_i[19]   0.22  3.5e-4   0.02   0.19   0.21   0.22   0.24   0.26   2851    1.0\n",
       "p_i[20]   0.83  4.4e-4   0.03   0.77   0.81   0.83   0.85   0.88   4131    1.0\n",
       "p_i[21]   0.22  3.5e-4   0.02   0.19   0.21   0.22   0.24   0.26   2851    1.0\n",
       "p_i[22]   0.22  3.5e-4   0.02   0.19   0.21   0.22   0.24   0.26   2851    1.0\n",
       "p_i[23]   0.22  3.5e-4   0.02   0.19   0.21   0.22   0.24   0.26   2851    1.0\n",
       "p_i[24]   0.54  2.8e-4   0.02    0.5   0.53   0.54   0.56   0.59   7460    1.0\n",
       "p_i[25]   0.22  3.5e-4   0.02   0.19   0.21   0.22   0.24   0.26   2851    1.0\n",
       "p_i[26]   0.22  3.5e-4   0.02   0.19   0.21   0.22   0.24   0.26   2851    1.0\n",
       "p_i[27]   0.22  3.5e-4   0.02   0.19   0.21   0.22   0.24   0.26   2851    1.0\n",
       "p_i[28]   0.22  3.5e-4   0.02   0.19   0.21   0.22   0.24   0.26   2851    1.0\n",
       "p_i[29]   0.22  3.5e-4   0.02   0.19   0.21   0.22   0.24   0.26   2851    1.0\n",
       "p_i[30]   0.22  3.5e-4   0.02   0.19   0.21   0.22   0.24   0.26   2851    1.0\n",
       "p_i[31]   0.22  3.5e-4   0.02   0.19   0.21   0.22   0.24   0.26   2851    1.0\n",
       "p_i[32]   0.22  3.5e-4   0.02   0.19   0.21   0.22   0.24   0.26   2851    1.0\n",
       "p_i[33]   0.22  3.5e-4   0.02   0.19   0.21   0.22   0.24   0.26   2851    1.0\n",
       "p_i[34]   0.54  2.8e-4   0.02    0.5   0.53   0.54   0.56   0.59   7460    1.0\n",
       "p_i[35]   0.54  2.8e-4   0.02    0.5   0.53   0.54   0.56   0.59   7460    1.0\n",
       "p_i[36]   0.83  4.4e-4   0.03   0.77   0.81   0.83   0.85   0.88   4131    1.0\n",
       "p_i[37]   0.54  2.8e-4   0.02    0.5   0.53   0.54   0.56   0.59   7460    1.0\n",
       "p_i[38]   0.22  3.5e-4   0.02   0.19   0.21   0.22   0.24   0.26   2851    1.0\n",
       "p_i[39]   0.83  4.4e-4   0.03   0.77   0.81   0.83   0.85   0.88   4131    1.0\n",
       "p_i[40]   0.22  3.5e-4   0.02   0.19   0.21   0.22   0.24   0.26   2851    1.0\n",
       "p_i[41]   0.83  4.4e-4   0.03   0.77   0.81   0.83   0.85   0.88   4131    1.0\n",
       "p_i[42]   0.22  3.5e-4   0.02   0.19   0.21   0.22   0.24   0.26   2851    1.0\n",
       "p_i[43]   0.54  2.8e-4   0.02    0.5   0.53   0.54   0.56   0.59   7460    1.0\n",
       "p_i[44]   0.54  2.8e-4   0.02    0.5   0.53   0.54   0.56   0.59   7460    1.0\n",
       "p_i[45]   0.22  3.5e-4   0.02   0.19   0.21   0.22   0.24   0.26   2851    1.0\n",
       "p_i[46]   0.22  3.5e-4   0.02   0.19   0.21   0.22   0.24   0.26   2851    1.0\n",
       "p_i[47]   0.22  3.5e-4   0.02   0.19   0.21   0.22   0.24   0.26   2851    1.0\n",
       "p_i[48]   0.22  3.5e-4   0.02   0.19   0.21   0.22   0.24   0.26   2851    1.0\n",
       "p_i[49]   0.54  2.8e-4   0.02    0.5   0.53   0.54   0.56   0.59   7460    1.0\n",
       "p_i[50]   0.22  3.5e-4   0.02   0.19   0.21   0.22   0.24   0.26   2851    1.0\n",
       "p_i[51]   0.22  3.5e-4   0.02   0.19   0.21   0.22   0.24   0.26   2851    1.0\n",
       "p_i[52]   0.22  3.5e-4   0.02   0.19   0.21   0.22   0.24   0.26   2851    1.0\n",
       "p_i[53]   0.54  2.8e-4   0.02    0.5   0.53   0.54   0.56   0.59   7460    1.0\n",
       "p_i[54]   0.22  3.5e-4   0.02   0.19   0.21   0.22   0.24   0.26   2851    1.0\n",
       "p_i[55]   0.22  3.5e-4   0.02   0.19   0.21   0.22   0.24   0.26   2851    1.0\n",
       "p_i[56]   0.22  3.5e-4   0.02   0.19   0.21   0.22   0.24   0.26   2851    1.0\n",
       "p_i[57]   0.22  3.5e-4   0.02   0.19   0.21   0.22   0.24   0.26   2851    1.0\n",
       "p_i[58]   0.22  3.5e-4   0.02   0.19   0.21   0.22   0.24   0.26   2851    1.0\n",
       "p_i[59]   0.83  4.4e-4   0.03   0.77   0.81   0.83   0.85   0.88   4131    1.0\n",
       "p_i[60]   0.22  3.5e-4   0.02   0.19   0.21   0.22   0.24   0.26   2851    1.0\n",
       "p_i[61]   0.22  3.5e-4   0.02   0.19   0.21   0.22   0.24   0.26   2851    1.0\n",
       "p_i[62]   0.22  3.5e-4   0.02   0.19   0.21   0.22   0.24   0.26   2851    1.0\n",
       "p_i[63]   0.22  3.5e-4   0.02   0.19   0.21   0.22   0.24   0.26   2851    1.0\n",
       "p_i[64]   0.54  2.8e-4   0.02    0.5   0.53   0.54   0.56   0.59   7460    1.0\n",
       "p_i[65]   0.54  2.8e-4   0.02    0.5   0.53   0.54   0.56   0.59   7460    1.0\n",
       "p_i[66]   0.54  2.8e-4   0.02    0.5   0.53   0.54   0.56   0.59   7460    1.0\n",
       "p_i[67]   0.22  3.5e-4   0.02   0.19   0.21   0.22   0.24   0.26   2851    1.0\n",
       "p_i[68]   0.22  3.5e-4   0.02   0.19   0.21   0.22   0.24   0.26   2851    1.0\n",
       "p_i[69]   0.22  3.5e-4   0.02   0.19   0.21   0.22   0.24   0.26   2851    1.0\n",
       "p_i[70]   0.22  3.5e-4   0.02   0.19   0.21   0.22   0.24   0.26   2851    1.0\n",
       "p_i[71]   0.54  2.8e-4   0.02    0.5   0.53   0.54   0.56   0.59   7460    1.0\n",
       "p_i[72]   0.54  2.8e-4   0.02    0.5   0.53   0.54   0.56   0.59   7460    1.0\n",
       "p_i[73]   0.22  3.5e-4   0.02   0.19   0.21   0.22   0.24   0.26   2851    1.0\n",
       "p_i[74]   0.22  3.5e-4   0.02   0.19   0.21   0.22   0.24   0.26   2851    1.0\n",
       "p_i[75]   0.22  3.5e-4   0.02   0.19   0.21   0.22   0.24   0.26   2851    1.0\n",
       "p_i[76]   0.22  3.5e-4   0.02   0.19   0.21   0.22   0.24   0.26   2851    1.0\n",
       "p_i[77]   0.22  3.5e-4   0.02   0.19   0.21   0.22   0.24   0.26   2851    1.0\n",
       "p_i[78]   0.22  3.5e-4   0.02   0.19   0.21   0.22   0.24   0.26   2851    1.0\n",
       "p_i[79]   0.54  2.8e-4   0.02    0.5   0.53   0.54   0.56   0.59   7460    1.0\n",
       "p_i[80]   0.83  4.4e-4   0.03   0.77   0.81   0.83   0.85   0.88   4131    1.0\n",
       "p_i[81]   0.54  2.8e-4   0.02    0.5   0.53   0.54   0.56   0.59   7460    1.0\n",
       "p_i[82]   0.22  3.5e-4   0.02   0.19   0.21   0.22   0.24   0.26   2851    1.0\n",
       "p_i[83]   0.54  2.8e-4   0.02    0.5   0.53   0.54   0.56   0.59   7460    1.0\n",
       "p_i[84]   0.22  3.5e-4   0.02   0.19   0.21   0.22   0.24   0.26   2851    1.0\n",
       "p_i[85]   0.22  3.5e-4   0.02   0.19   0.21   0.22   0.24   0.26   2851    1.0\n",
       "p_i[86]   0.22  3.5e-4   0.02   0.19   0.21   0.22   0.24   0.26   2851    1.0\n",
       "p_i[87]   0.54  2.8e-4   0.02    0.5   0.53   0.54   0.56   0.59   7460    1.0\n",
       "p_i[88]   0.22  3.5e-4   0.02   0.19   0.21   0.22   0.24   0.26   2851    1.0\n",
       "p_i[89]   0.22  3.5e-4   0.02   0.19   0.21   0.22   0.24   0.26   2851    1.0\n",
       "p_i[90]   0.22  3.5e-4   0.02   0.19   0.21   0.22   0.24   0.26   2851    1.0\n",
       "p_i[91]   0.54  2.8e-4   0.02    0.5   0.53   0.54   0.56   0.59   7460    1.0\n",
       "p_i[92]   0.22  3.5e-4   0.02   0.19   0.21   0.22   0.24   0.26   2851    1.0\n",
       "p_i[93]   0.22  3.5e-4   0.02   0.19   0.21   0.22   0.24   0.26   2851    1.0\n",
       "p_i[94]   0.22  3.5e-4   0.02   0.19   0.21   0.22   0.24   0.26   2851    1.0\n",
       "p_i[95]   0.54  2.8e-4   0.02    0.5   0.53   0.54   0.56   0.59   7460    1.0\n",
       "p_i[96]   0.22  3.5e-4   0.02   0.19   0.21   0.22   0.24   0.26   2851    1.0\n",
       "p_i[97]   0.22  3.5e-4   0.02   0.19   0.21   0.22   0.24   0.26   2851    1.0\n",
       "lp__    -479.3    0.02    1.0 -482.1 -479.7 -479.0 -478.6 -478.4   2914    1.0\n",
       "\n",
       "Samples were drawn using NUTS at Thu Dec 16 20:30:01 2021.\n",
       "For each parameter, n_eff is a crude measure of effective sample size,\n",
       "and Rhat is the potential scale reduction factor on split chains (at \n",
       "convergence, Rhat=1)."
      ]
     },
     "execution_count": 15,
     "metadata": {},
     "output_type": "execute_result"
    }
   ],
   "source": [
    "posterior_APOE4_uniform"
   ]
  },
  {
   "cell_type": "code",
   "execution_count": 16,
   "metadata": {},
   "outputs": [
    {
     "name": "stderr",
     "output_type": "stream",
     "text": [
      "WARNING:pystan:Truncated summary with the 'fit.__repr__' method. For the full summary use 'print(fit)'\n"
     ]
    },
    {
     "data": {
      "text/plain": [
       "\n",
       "Warning: Shown data is truncated to 100 parameters\n",
       "For the full summary use 'print(fit)'\n",
       "\n",
       "Inference for Stan model: anon_model_30b7facd74674540213bbb4179e0868a.\n",
       "4 chains, each with iter=4000; warmup=2000; thin=1; \n",
       "post-warmup draws per chain=2000, total post-warmup draws=8000.\n",
       "\n",
       "          mean se_mean     sd   2.5%    25%    50%    75%  97.5%  n_eff   Rhat\n",
       "a        -1.23  2.0e-3    0.1  -1.44   -1.3  -1.23  -1.16  -1.03   2823    1.0\n",
       "b          1.4  2.3e-3   0.13   1.15   1.31    1.4   1.48   1.65   2874    1.0\n",
       "p_i[1]    0.23  3.4e-4   0.02   0.19   0.21   0.23   0.24   0.26   2814    1.0\n",
       "p_i[2]    0.54  2.7e-4   0.02    0.5   0.52   0.54   0.56   0.59   7563    1.0\n",
       "p_i[3]    0.23  3.4e-4   0.02   0.19   0.21   0.23   0.24   0.26   2814    1.0\n",
       "p_i[4]    0.54  2.7e-4   0.02    0.5   0.52   0.54   0.56   0.59   7563    1.0\n",
       "p_i[5]    0.23  3.4e-4   0.02   0.19   0.21   0.23   0.24   0.26   2814    1.0\n",
       "p_i[6]    0.54  2.7e-4   0.02    0.5   0.52   0.54   0.56   0.59   7563    1.0\n",
       "p_i[7]    0.23  3.4e-4   0.02   0.19   0.21   0.23   0.24   0.26   2814    1.0\n",
       "p_i[8]    0.54  2.7e-4   0.02    0.5   0.52   0.54   0.56   0.59   7563    1.0\n",
       "p_i[9]    0.54  2.7e-4   0.02    0.5   0.52   0.54   0.56   0.59   7563    1.0\n",
       "p_i[10]   0.23  3.4e-4   0.02   0.19   0.21   0.23   0.24   0.26   2814    1.0\n",
       "p_i[11]   0.23  3.4e-4   0.02   0.19   0.21   0.23   0.24   0.26   2814    1.0\n",
       "p_i[12]   0.54  2.7e-4   0.02    0.5   0.52   0.54   0.56   0.59   7563    1.0\n",
       "p_i[13]   0.23  3.4e-4   0.02   0.19   0.21   0.23   0.24   0.26   2814    1.0\n",
       "p_i[14]   0.54  2.7e-4   0.02    0.5   0.52   0.54   0.56   0.59   7563    1.0\n",
       "p_i[15]   0.23  3.4e-4   0.02   0.19   0.21   0.23   0.24   0.26   2814    1.0\n",
       "p_i[16]   0.23  3.4e-4   0.02   0.19   0.21   0.23   0.24   0.26   2814    1.0\n",
       "p_i[17]   0.23  3.4e-4   0.02   0.19   0.21   0.23   0.24   0.26   2814    1.0\n",
       "p_i[18]   0.23  3.4e-4   0.02   0.19   0.21   0.23   0.24   0.26   2814    1.0\n",
       "p_i[19]   0.23  3.4e-4   0.02   0.19   0.21   0.23   0.24   0.26   2814    1.0\n",
       "p_i[20]   0.82  4.4e-4   0.03   0.76   0.81   0.83   0.84   0.87   4046    1.0\n",
       "p_i[21]   0.23  3.4e-4   0.02   0.19   0.21   0.23   0.24   0.26   2814    1.0\n",
       "p_i[22]   0.23  3.4e-4   0.02   0.19   0.21   0.23   0.24   0.26   2814    1.0\n",
       "p_i[23]   0.23  3.4e-4   0.02   0.19   0.21   0.23   0.24   0.26   2814    1.0\n",
       "p_i[24]   0.54  2.7e-4   0.02    0.5   0.52   0.54   0.56   0.59   7563    1.0\n",
       "p_i[25]   0.23  3.4e-4   0.02   0.19   0.21   0.23   0.24   0.26   2814    1.0\n",
       "p_i[26]   0.23  3.4e-4   0.02   0.19   0.21   0.23   0.24   0.26   2814    1.0\n",
       "p_i[27]   0.23  3.4e-4   0.02   0.19   0.21   0.23   0.24   0.26   2814    1.0\n",
       "p_i[28]   0.23  3.4e-4   0.02   0.19   0.21   0.23   0.24   0.26   2814    1.0\n",
       "p_i[29]   0.23  3.4e-4   0.02   0.19   0.21   0.23   0.24   0.26   2814    1.0\n",
       "p_i[30]   0.23  3.4e-4   0.02   0.19   0.21   0.23   0.24   0.26   2814    1.0\n",
       "p_i[31]   0.23  3.4e-4   0.02   0.19   0.21   0.23   0.24   0.26   2814    1.0\n",
       "p_i[32]   0.23  3.4e-4   0.02   0.19   0.21   0.23   0.24   0.26   2814    1.0\n",
       "p_i[33]   0.23  3.4e-4   0.02   0.19   0.21   0.23   0.24   0.26   2814    1.0\n",
       "p_i[34]   0.54  2.7e-4   0.02    0.5   0.52   0.54   0.56   0.59   7563    1.0\n",
       "p_i[35]   0.54  2.7e-4   0.02    0.5   0.52   0.54   0.56   0.59   7563    1.0\n",
       "p_i[36]   0.82  4.4e-4   0.03   0.76   0.81   0.83   0.84   0.87   4046    1.0\n",
       "p_i[37]   0.54  2.7e-4   0.02    0.5   0.52   0.54   0.56   0.59   7563    1.0\n",
       "p_i[38]   0.23  3.4e-4   0.02   0.19   0.21   0.23   0.24   0.26   2814    1.0\n",
       "p_i[39]   0.82  4.4e-4   0.03   0.76   0.81   0.83   0.84   0.87   4046    1.0\n",
       "p_i[40]   0.23  3.4e-4   0.02   0.19   0.21   0.23   0.24   0.26   2814    1.0\n",
       "p_i[41]   0.82  4.4e-4   0.03   0.76   0.81   0.83   0.84   0.87   4046    1.0\n",
       "p_i[42]   0.23  3.4e-4   0.02   0.19   0.21   0.23   0.24   0.26   2814    1.0\n",
       "p_i[43]   0.54  2.7e-4   0.02    0.5   0.52   0.54   0.56   0.59   7563    1.0\n",
       "p_i[44]   0.54  2.7e-4   0.02    0.5   0.52   0.54   0.56   0.59   7563    1.0\n",
       "p_i[45]   0.23  3.4e-4   0.02   0.19   0.21   0.23   0.24   0.26   2814    1.0\n",
       "p_i[46]   0.23  3.4e-4   0.02   0.19   0.21   0.23   0.24   0.26   2814    1.0\n",
       "p_i[47]   0.23  3.4e-4   0.02   0.19   0.21   0.23   0.24   0.26   2814    1.0\n",
       "p_i[48]   0.23  3.4e-4   0.02   0.19   0.21   0.23   0.24   0.26   2814    1.0\n",
       "p_i[49]   0.54  2.7e-4   0.02    0.5   0.52   0.54   0.56   0.59   7563    1.0\n",
       "p_i[50]   0.23  3.4e-4   0.02   0.19   0.21   0.23   0.24   0.26   2814    1.0\n",
       "p_i[51]   0.23  3.4e-4   0.02   0.19   0.21   0.23   0.24   0.26   2814    1.0\n",
       "p_i[52]   0.23  3.4e-4   0.02   0.19   0.21   0.23   0.24   0.26   2814    1.0\n",
       "p_i[53]   0.54  2.7e-4   0.02    0.5   0.52   0.54   0.56   0.59   7563    1.0\n",
       "p_i[54]   0.23  3.4e-4   0.02   0.19   0.21   0.23   0.24   0.26   2814    1.0\n",
       "p_i[55]   0.23  3.4e-4   0.02   0.19   0.21   0.23   0.24   0.26   2814    1.0\n",
       "p_i[56]   0.23  3.4e-4   0.02   0.19   0.21   0.23   0.24   0.26   2814    1.0\n",
       "p_i[57]   0.23  3.4e-4   0.02   0.19   0.21   0.23   0.24   0.26   2814    1.0\n",
       "p_i[58]   0.23  3.4e-4   0.02   0.19   0.21   0.23   0.24   0.26   2814    1.0\n",
       "p_i[59]   0.82  4.4e-4   0.03   0.76   0.81   0.83   0.84   0.87   4046    1.0\n",
       "p_i[60]   0.23  3.4e-4   0.02   0.19   0.21   0.23   0.24   0.26   2814    1.0\n",
       "p_i[61]   0.23  3.4e-4   0.02   0.19   0.21   0.23   0.24   0.26   2814    1.0\n",
       "p_i[62]   0.23  3.4e-4   0.02   0.19   0.21   0.23   0.24   0.26   2814    1.0\n",
       "p_i[63]   0.23  3.4e-4   0.02   0.19   0.21   0.23   0.24   0.26   2814    1.0\n",
       "p_i[64]   0.54  2.7e-4   0.02    0.5   0.52   0.54   0.56   0.59   7563    1.0\n",
       "p_i[65]   0.54  2.7e-4   0.02    0.5   0.52   0.54   0.56   0.59   7563    1.0\n",
       "p_i[66]   0.54  2.7e-4   0.02    0.5   0.52   0.54   0.56   0.59   7563    1.0\n",
       "p_i[67]   0.23  3.4e-4   0.02   0.19   0.21   0.23   0.24   0.26   2814    1.0\n",
       "p_i[68]   0.23  3.4e-4   0.02   0.19   0.21   0.23   0.24   0.26   2814    1.0\n",
       "p_i[69]   0.23  3.4e-4   0.02   0.19   0.21   0.23   0.24   0.26   2814    1.0\n",
       "p_i[70]   0.23  3.4e-4   0.02   0.19   0.21   0.23   0.24   0.26   2814    1.0\n",
       "p_i[71]   0.54  2.7e-4   0.02    0.5   0.52   0.54   0.56   0.59   7563    1.0\n",
       "p_i[72]   0.54  2.7e-4   0.02    0.5   0.52   0.54   0.56   0.59   7563    1.0\n",
       "p_i[73]   0.23  3.4e-4   0.02   0.19   0.21   0.23   0.24   0.26   2814    1.0\n",
       "p_i[74]   0.23  3.4e-4   0.02   0.19   0.21   0.23   0.24   0.26   2814    1.0\n",
       "p_i[75]   0.23  3.4e-4   0.02   0.19   0.21   0.23   0.24   0.26   2814    1.0\n",
       "p_i[76]   0.23  3.4e-4   0.02   0.19   0.21   0.23   0.24   0.26   2814    1.0\n",
       "p_i[77]   0.23  3.4e-4   0.02   0.19   0.21   0.23   0.24   0.26   2814    1.0\n",
       "p_i[78]   0.23  3.4e-4   0.02   0.19   0.21   0.23   0.24   0.26   2814    1.0\n",
       "p_i[79]   0.54  2.7e-4   0.02    0.5   0.52   0.54   0.56   0.59   7563    1.0\n",
       "p_i[80]   0.82  4.4e-4   0.03   0.76   0.81   0.83   0.84   0.87   4046    1.0\n",
       "p_i[81]   0.54  2.7e-4   0.02    0.5   0.52   0.54   0.56   0.59   7563    1.0\n",
       "p_i[82]   0.23  3.4e-4   0.02   0.19   0.21   0.23   0.24   0.26   2814    1.0\n",
       "p_i[83]   0.54  2.7e-4   0.02    0.5   0.52   0.54   0.56   0.59   7563    1.0\n",
       "p_i[84]   0.23  3.4e-4   0.02   0.19   0.21   0.23   0.24   0.26   2814    1.0\n",
       "p_i[85]   0.23  3.4e-4   0.02   0.19   0.21   0.23   0.24   0.26   2814    1.0\n",
       "p_i[86]   0.23  3.4e-4   0.02   0.19   0.21   0.23   0.24   0.26   2814    1.0\n",
       "p_i[87]   0.54  2.7e-4   0.02    0.5   0.52   0.54   0.56   0.59   7563    1.0\n",
       "p_i[88]   0.23  3.4e-4   0.02   0.19   0.21   0.23   0.24   0.26   2814    1.0\n",
       "p_i[89]   0.23  3.4e-4   0.02   0.19   0.21   0.23   0.24   0.26   2814    1.0\n",
       "p_i[90]   0.23  3.4e-4   0.02   0.19   0.21   0.23   0.24   0.26   2814    1.0\n",
       "p_i[91]   0.54  2.7e-4   0.02    0.5   0.52   0.54   0.56   0.59   7563    1.0\n",
       "p_i[92]   0.23  3.4e-4   0.02   0.19   0.21   0.23   0.24   0.26   2814    1.0\n",
       "p_i[93]   0.23  3.4e-4   0.02   0.19   0.21   0.23   0.24   0.26   2814    1.0\n",
       "p_i[94]   0.23  3.4e-4   0.02   0.19   0.21   0.23   0.24   0.26   2814    1.0\n",
       "p_i[95]   0.54  2.7e-4   0.02    0.5   0.52   0.54   0.56   0.59   7563    1.0\n",
       "p_i[96]   0.23  3.4e-4   0.02   0.19   0.21   0.23   0.24   0.26   2814    1.0\n",
       "p_i[97]   0.23  3.4e-4   0.02   0.19   0.21   0.23   0.24   0.26   2814    1.0\n",
       "lp__    -480.7    0.02   0.96 -483.3 -481.1 -480.4 -480.0 -479.8   3381    1.0\n",
       "\n",
       "Samples were drawn using NUTS at Thu Dec 16 20:32:24 2021.\n",
       "For each parameter, n_eff is a crude measure of effective sample size,\n",
       "and Rhat is the potential scale reduction factor on split chains (at \n",
       "convergence, Rhat=1)."
      ]
     },
     "execution_count": 16,
     "metadata": {},
     "output_type": "execute_result"
    }
   ],
   "source": [
    "posterior_APOE4_exponential"
   ]
  },
  {
   "cell_type": "markdown",
   "metadata": {},
   "source": [
    "Then for good measure, we check the 95% confidence interval for the covariate parameter $b$ for each case. Then we print the WAIC for the models."
   ]
  },
  {
   "cell_type": "code",
   "execution_count": 17,
   "metadata": {
    "scrolled": true
   },
   "outputs": [
    {
     "name": "stdout",
     "output_type": "stream",
     "text": [
      "95% confidence interval for parameter b:\n",
      "2.5% threshold:\t\t-0.005760985249977022\n",
      "mean:\t\t\t0.015266232546939356\n",
      "97.5% threshold:\t0.03751923825277569\n"
     ]
    }
   ],
   "source": [
    "print_95CI_param(posterior_AGE, \"b\")"
   ]
  },
  {
   "cell_type": "code",
   "execution_count": 18,
   "metadata": {},
   "outputs": [
    {
     "name": "stdout",
     "output_type": "stream",
     "text": [
      "95% confidence interval for parameter b:\n",
      "2.5% threshold:\t\t1.1708533204166809\n",
      "mean:\t\t\t1.4155808268649908\n",
      "97.5% threshold:\t1.6771829829574263\n"
     ]
    }
   ],
   "source": [
    "print_95CI_param(posterior_APOE4_normal, \"b\")"
   ]
  },
  {
   "cell_type": "code",
   "execution_count": 19,
   "metadata": {},
   "outputs": [
    {
     "name": "stdout",
     "output_type": "stream",
     "text": [
      "95% confidence interval for parameter b:\n",
      "2.5% threshold:\t\t1.1735692928454866\n",
      "mean:\t\t\t1.4140803319405102\n",
      "97.5% threshold:\t1.6636629069660802\n"
     ]
    }
   ],
   "source": [
    "print_95CI_param(posterior_APOE4_uniform, \"b\")"
   ]
  },
  {
   "cell_type": "code",
   "execution_count": 20,
   "metadata": {},
   "outputs": [
    {
     "name": "stdout",
     "output_type": "stream",
     "text": [
      "95% confidence interval for parameter b:\n",
      "2.5% threshold:\t\t1.15148617544782\n",
      "mean:\t\t\t1.3978513865738318\n",
      "97.5% threshold:\t1.6462105625189034\n"
     ]
    }
   ],
   "source": [
    "print_95CI_param(posterior_APOE4_exponential, \"b\")"
   ]
  },
  {
   "cell_type": "code",
   "execution_count": 21,
   "metadata": {},
   "outputs": [
    {
     "name": "stdout",
     "output_type": "stream",
     "text": [
      "WAIC of model DX ~ AGE: \t\t1106.080628367538\n",
      "WAIC of model DX ~ APOE4 (normal):\t960.7398801041145\n",
      "WAIC of model DX ~ APOE4 (uniform):\t960.8239647409292\n",
      "WAIC of model DX ~ APOE4 (exponential):\t960.54554312265\n"
     ]
    }
   ],
   "source": [
    "print(f\"WAIC of model DX ~ AGE: \\t\\t{waic_AGE}\",\n",
    "      f\"WAIC of model DX ~ APOE4 (normal):\\t{waic_APOE4_normal}\",\n",
    "      f\"WAIC of model DX ~ APOE4 (uniform):\\t{waic_APOE4_uniform}\",\n",
    "      f\"WAIC of model DX ~ APOE4 (exponential):\\t{waic_APOE4_exponential}\",\n",
    "      sep=\"\\n\")"
   ]
  },
  {
   "cell_type": "markdown",
   "metadata": {},
   "source": [
    "<u>Observations on fitting `DX` with either `AGE` and `APOE4`:</u>\n",
    "\n",
    "Reflected by the WAIC, we observe that the covariate `APOE4` has a better predictive value than `AGE` (`AGE`'s 95% confidence interval straddles over both positive and negative values). This is reinforced by the visual use of boxplots that shows `AGE`'s confidence interval being squished close to the 0-line. As such, were we to want to use only a single covariate, we would likely go with `APOE4`.\n",
    "\n",
    "By looking at different prior distributions for `APOE4`, we find that changing the distribution does not specifically impact the posterior results in terms of WAIC. Using the exponential distribution only resulted in a minute improvement over the normal distribution.\n",
    "\n",
    "<u>Interpretation of why `AGE` is a poor predictor:</u>\n",
    "\n",
    "By looking at the kernel density estimator plot seen above in the data import section, and drawing on prior knowledge that Alzheimer's disease is a neurodegenerative disease that usually only appears in old age, we see that the dataset we're using only contains patients within the 55 to 91 age range. This may indicate that the `AGE` variable does not provide any predictive value on its own with regards to a Alzheimer's disease diagnosis for the patients included in the ADNI dataset. More succintly, since all patients' ages fall within the interval where we would expect the onset of the illness, using `AGE` as a covariate might not provide any valuable input in a Bayesian workflow (when taken without any other conditions)."
   ]
  },
  {
   "cell_type": "markdown",
   "metadata": {},
   "source": [
    "<u>Fitting `DX` with both `AGE` and `APOE4`:</u>\n",
    "\n",
    "Finaly, to answer the original question, we are interested in fitting a model that takes both covariates into account. We go through the same workflow as above.\n",
    "\n",
    "\n",
    "<span style=\"color:red\">Of note</span>, as previously with the model where we only had `APOE4` for covariate, we will model `DX ~ AGE + APOE4` using a normal, uniform, or exponential prior distribution for the `APOE4` variable and see what happens."
   ]
  },
  {
   "cell_type": "code",
   "execution_count": 22,
   "metadata": {},
   "outputs": [],
   "source": [
    "# Declares the pystan model for DX ~ AGE + APOE4\n",
    "model_2preds = \"\"\"\n",
    "data {\n",
    "  int<lower=1> N;\n",
    "  int y[N];\n",
    "  real x[N];\n",
    "  real z[N];\n",
    "  real param1_a;\n",
    "  real<lower=0> param2_a;\n",
    "  real param1_b;\n",
    "  real<lower=0> param2_b;\n",
    "  real param1_c;\n",
    "  real<lower=0> param2_c;\n",
    "}\n",
    "parameters {\n",
    "  real a;\n",
    "  real b;\n",
    "  real c;\n",
    "}\n",
    "transformed parameters {\n",
    "  vector[N] p_i;\n",
    "  for (i in 1:N) {\n",
    "    p_i[i] = exp(a + b * x[i] + c * z[i])/(1 + exp(a + b * x[i] + c * z[i])); \n",
    "    }\n",
    "}\n",
    "\"\"\"\n",
    "\n",
    "model_addon_2preds_normal = \"\"\"\n",
    "model {\n",
    "  a ~ normal(param1_a, param2_a);\n",
    "  b ~ normal(param1_b, param2_b); \n",
    "  c ~ normal(param1_c, param2_c);\n",
    "  y ~ binomial(1, p_i);\n",
    "}\n",
    "\"\"\"\n",
    "model_addon_2preds_uniform = \"\"\"\n",
    "model {\n",
    "  a ~ normal(param1_a, param2_a);\n",
    "  b ~ uniform(param1_b, param2_b); \n",
    "  c ~ normal(param1_c, param2_c);\n",
    "  y ~ binomial(1, p_i);\n",
    "}\n",
    "\"\"\"\n",
    "model_addon_2preds_exponential = \"\"\"\n",
    "model {\n",
    "  a ~ normal(param1_a, param2_a);\n",
    "  b ~ exponential(param1_b); \n",
    "  c ~ normal(param1_c, param2_c);\n",
    "  y ~ binomial(1, p_i);\n",
    "}\n",
    "\"\"\"\n",
    "\n",
    "# Declares the data to send to the pystan model\n",
    "stan_data_2preds = {\n",
    "    \"x\":        data[\"APOE4\"],\n",
    "    \"z\":        data[\"AGE\"],\n",
    "    \"y\":        data['DX'],\n",
    "    \"param1_a\": 0, \"param2_a\": 10,\n",
    "    \"param1_c\": 60, \"param2_c\": 10,\n",
    "    \"N\":        data.shape[0]\n",
    "}"
   ]
  },
  {
   "cell_type": "markdown",
   "metadata": {},
   "source": [
    "We now run our modeling on each covariates.\n",
    "\n",
    "1. pystan model run for DX ~ AGE + APOE4 with APOE4 described by a prior normal distribution"
   ]
  },
  {
   "cell_type": "code",
   "execution_count": 23,
   "metadata": {},
   "outputs": [
    {
     "name": "stderr",
     "output_type": "stream",
     "text": [
      "INFO:pystan:COMPILING THE C++ CODE FOR MODEL anon_model_bb2987f379b5b1b492ed7f6a4c776bb8 NOW.\n"
     ]
    },
    {
     "name": "stdout",
     "output_type": "stream",
     "text": [
      "Post-fitting diagnosis:\n",
      "{'n_eff': True, 'Rhat': True, 'divergence': True, 'treedepth': True, 'energy': True}\n"
     ]
    },
    {
     "data": {
      "image/png": "[encoded data removed]",
      "text/plain": [
       "<Figure size 432x288 with 1 Axes>"
      ]
     },
     "metadata": {
      "needs_background": "light"
     },
     "output_type": "display_data"
    }
   ],
   "source": [
    "posterior_2preds_normal, waic_2preds_normal = run_pystan_modeling(\n",
    "    data, model_2preds+model_addon_2preds_normal, \n",
    "    {**stan_data_2preds, **APOE4_normal}, \n",
    "    [\"a\", \"b\", \"c\"]\n",
    ")"
   ]
  },
  {
   "cell_type": "markdown",
   "metadata": {},
   "source": [
    "2. pystan model run for DX ~ AGE + APOE4 with APOE4 described by a prior uniform distribution"
   ]
  },
  {
   "cell_type": "code",
   "execution_count": 24,
   "metadata": {},
   "outputs": [
    {
     "name": "stderr",
     "output_type": "stream",
     "text": [
      "INFO:pystan:COMPILING THE C++ CODE FOR MODEL anon_model_ed63c54fd42515dbbbf00aabdb962037 NOW.\n",
      "WARNING:pystan:4 of 8000 iterations ended with a divergence (0.05 %).\n",
      "WARNING:pystan:Try running with adapt_delta larger than 0.8 to remove the divergences.\n",
      "WARNING:pystan:4 of 8000 iterations ended with a divergence (0.05 %).\n",
      "WARNING:pystan:Try running with adapt_delta larger than 0.8 to remove the divergences.\n"
     ]
    },
    {
     "name": "stdout",
     "output_type": "stream",
     "text": [
      "Post-fitting diagnosis:\n",
      "{'n_eff': True, 'Rhat': True, 'divergence': False, 'treedepth': True, 'energy': True}\n"
     ]
    },
    {
     "data": {
      "image/png": "[encoded data removed]",
      "text/plain": [
       "<Figure size 432x288 with 1 Axes>"
      ]
     },
     "metadata": {
      "needs_background": "light"
     },
     "output_type": "display_data"
    }
   ],
   "source": [
    "posterior_2preds_uniform, waic_2preds_uniform = run_pystan_modeling(\n",
    "    data, model_2preds+model_addon_2preds_uniform, \n",
    "    {**stan_data_2preds, **APOE4_uniform}, \n",
    "    [\"a\", \"b\", \"c\"]\n",
    ")"
   ]
  },
  {
   "cell_type": "markdown",
   "metadata": {},
   "source": [
    "The model's iterations yield some divergences compared to the one where the prior normal distribution was used for the `APOE4` data.\n",
    "\n",
    "3. pystan model run for DX ~ AGE + APOE4 with APOE4 described by a prior exponential distribution"
   ]
  },
  {
   "cell_type": "code",
   "execution_count": 25,
   "metadata": {},
   "outputs": [
    {
     "name": "stderr",
     "output_type": "stream",
     "text": [
      "INFO:pystan:COMPILING THE C++ CODE FOR MODEL anon_model_676afaacf5c2a7601b0f154ad92195cf NOW.\n"
     ]
    },
    {
     "name": "stdout",
     "output_type": "stream",
     "text": [
      "Post-fitting diagnosis:\n",
      "{'n_eff': True, 'Rhat': True, 'divergence': True, 'treedepth': True, 'energy': True}\n"
     ]
    },
    {
     "data": {
      "image/png": "[encoded data removed]",
      "text/plain": [
       "<Figure size 432x288 with 1 Axes>"
      ]
     },
     "metadata": {
      "needs_background": "light"
     },
     "output_type": "display_data"
    }
   ],
   "source": [
    "posterior_2preds_exponential, waic_2preds_exponential = run_pystan_modeling(\n",
    "    data, model_2preds+model_addon_2preds_exponential, \n",
    "    {**stan_data_2preds, **APOE4_exponential}, \n",
    "    [\"a\", \"b\", \"c\"]\n",
    ")"
   ]
  },
  {
   "cell_type": "markdown",
   "metadata": {},
   "source": [
    "Sometimes, this model's iterations yield some divergences compared to the one where the prior normal distribution was used for the `APOE4` data.\n",
    "\n",
    "We now print the posterior results for each model for visualization purposes:"
   ]
  },
  {
   "cell_type": "code",
   "execution_count": 26,
   "metadata": {
    "scrolled": true
   },
   "outputs": [
    {
     "name": "stderr",
     "output_type": "stream",
     "text": [
      "WARNING:pystan:Truncated summary with the 'fit.__repr__' method. For the full summary use 'print(fit)'\n"
     ]
    },
    {
     "data": {
      "text/plain": [
       "\n",
       "Warning: Shown data is truncated to 100 parameters\n",
       "For the full summary use 'print(fit)'\n",
       "\n",
       "Inference for Stan model: anon_model_bb2987f379b5b1b492ed7f6a4c776bb8.\n",
       "4 chains, each with iter=4000; warmup=2000; thin=1; \n",
       "post-warmup draws per chain=2000, total post-warmup draws=8000.\n",
       "\n",
       "          mean se_mean     sd   2.5%    25%    50%    75%  97.5%  n_eff   Rhat\n",
       "a        -4.28    0.02   0.93   -6.1  -4.93  -4.26  -3.66  -2.48   2559    1.0\n",
       "b         1.49  2.5e-3   0.13   1.24    1.4   1.49   1.58   1.76   2827    1.0\n",
       "c         0.04  2.4e-4   0.01   0.02   0.03   0.04   0.05   0.06   2588    1.0\n",
       "p_i[1]    0.22  2.9e-4   0.02   0.18    0.2   0.21   0.23   0.25   4036    1.0\n",
       "p_i[2]    0.62  5.2e-4   0.03   0.55   0.59   0.62   0.64   0.68   3583    1.0\n",
       "p_i[3]    0.21  3.0e-4   0.02   0.18    0.2   0.21   0.22   0.25   3895    1.0\n",
       "p_i[4]    0.56  3.3e-4   0.02   0.51   0.54   0.56   0.57   0.61   5240    1.0\n",
       "p_i[5]    0.29  4.9e-4   0.03   0.23   0.27   0.29   0.31   0.35   3807    1.0\n",
       "p_i[6]    0.54  3.2e-4   0.02    0.5   0.53   0.54   0.56   0.59   5534    1.0\n",
       "p_i[7]    0.24  3.0e-4   0.02   0.21   0.23   0.24   0.26   0.29   4731    1.0\n",
       "p_i[8]    0.61  5.0e-4   0.03   0.55   0.59   0.61   0.63   0.67   3668    1.0\n",
       "p_i[9]    0.46  5.9e-4   0.03   0.39   0.43   0.46   0.48   0.53   3429    1.0\n",
       "p_i[10]   0.21  3.1e-4   0.02   0.17   0.19   0.21   0.22   0.25   3759    1.0\n",
       "p_i[11]    0.2  3.1e-4   0.02   0.17   0.19    0.2   0.22   0.24   3652    1.0\n",
       "p_i[12]   0.44  7.0e-4   0.04   0.36   0.41   0.44   0.46   0.52   3177    1.0\n",
       "p_i[13]    0.2  3.3e-4   0.02   0.16   0.19    0.2   0.21   0.24   3477    1.0\n",
       "p_i[14]   0.45  6.6e-4   0.04   0.37   0.42   0.45   0.47   0.52   3266    1.0\n",
       "p_i[15]   0.24  2.9e-4   0.02    0.2   0.22   0.24   0.25   0.28   4685    1.0\n",
       "p_i[16]   0.23  2.9e-4   0.02    0.2   0.22   0.23   0.25   0.27   4584    1.0\n",
       "p_i[17]   0.21  3.1e-4   0.02   0.17   0.19   0.21   0.22   0.25   3781    1.0\n",
       "p_i[18]   0.23  2.9e-4   0.02   0.19   0.22   0.23   0.24   0.27   4457    1.0\n",
       "p_i[19]   0.29  5.0e-4   0.03   0.24   0.27   0.29   0.31   0.36   3778    1.0\n",
       "p_i[20]   0.86  4.6e-4   0.03   0.81   0.84   0.86   0.88   0.91   3071    1.0\n",
       "p_i[21]   0.26  3.3e-4   0.02   0.22   0.24   0.26   0.27    0.3   4582    1.0\n",
       "p_i[22]   0.22  2.9e-4   0.02   0.19   0.21   0.22   0.24   0.26   4313    1.0\n",
       "p_i[23]   0.19  3.6e-4   0.02   0.15   0.17   0.18    0.2   0.23   3163    1.0\n",
       "p_i[24]   0.51  3.9e-4   0.03   0.45   0.49   0.51   0.52   0.56   4562    1.0\n",
       "p_i[25]   0.19  3.4e-4   0.02   0.16   0.18   0.19   0.21   0.23   3342    1.0\n",
       "p_i[26]   0.23  2.9e-4   0.02    0.2   0.22   0.23   0.25   0.27   4600    1.0\n",
       "p_i[27]   0.22  2.9e-4   0.02   0.18    0.2   0.22   0.23   0.25   4083    1.0\n",
       "p_i[28]   0.22  2.9e-4   0.02   0.18    0.2   0.22   0.23   0.25   4083    1.0\n",
       "p_i[29]   0.22  2.9e-4   0.02   0.18    0.2   0.22   0.23   0.25   4060    1.0\n",
       "p_i[30]   0.21  3.1e-4   0.02   0.17   0.19   0.21   0.22   0.24   3716    1.0\n",
       "p_i[31]   0.21  3.0e-4   0.02   0.18    0.2   0.21   0.23   0.25   3965    1.0\n",
       "p_i[32]   0.19  3.4e-4   0.02   0.15   0.18   0.19    0.2   0.23   3297    1.0\n",
       "p_i[33]   0.24  3.0e-4   0.02    0.2   0.23   0.24   0.26   0.28   4720    1.0\n",
       "p_i[34]   0.59  4.1e-4   0.03   0.53   0.57   0.59   0.61   0.64   4262    1.0\n",
       "p_i[35]   0.51  3.8e-4   0.03   0.46   0.49   0.51   0.53   0.56   4738    1.0\n",
       "p_i[36]   0.84  4.7e-4   0.03   0.78   0.82   0.84   0.85   0.89   3431    1.0\n",
       "p_i[37]   0.56  3.3e-4   0.02   0.51   0.54   0.56   0.57    0.6   5268    1.0\n",
       "p_i[38]   0.26  3.4e-4   0.02   0.22   0.24   0.26   0.27    0.3   4547    1.0\n",
       "p_i[39]   0.79  5.9e-4   0.03   0.72   0.77   0.79   0.81   0.85   3536    1.0\n",
       "p_i[40]   0.16  4.3e-4   0.02   0.12   0.14   0.16   0.18   0.21   2820    1.0\n",
       "p_i[41]   0.82  5.0e-4   0.03   0.75    0.8   0.82   0.84   0.87   3574    1.0\n",
       "p_i[42]   0.15  4.7e-4   0.02    0.1   0.13   0.15   0.16    0.2   2728    1.0\n",
       "p_i[43]   0.58  3.7e-4   0.03   0.53   0.56   0.58   0.59   0.63   4621    1.0\n",
       "p_i[44]   0.51  3.7e-4   0.03   0.46   0.49   0.51   0.53   0.56   4773    1.0\n",
       "p_i[45]   0.19  3.4e-4   0.02   0.16   0.18   0.19   0.21   0.23   3374    1.0\n",
       "p_i[46]   0.25  3.2e-4   0.02   0.21   0.24   0.25   0.27    0.3   4662    1.0\n",
       "p_i[47]   0.21  3.1e-4   0.02   0.17   0.19    0.2   0.22   0.24   3694    1.0\n",
       "p_i[48]   0.21  3.1e-4   0.02   0.17   0.19   0.21   0.22   0.25   3781    1.0\n",
       "p_i[49]   0.51  3.9e-4   0.03   0.45   0.49   0.51   0.52   0.56   4562    1.0\n",
       "p_i[50]   0.28  4.2e-4   0.03   0.23   0.26   0.28   0.29   0.33   4119    1.0\n",
       "p_i[51]   0.22  2.9e-4   0.02   0.19   0.21   0.22   0.23   0.26   4246    1.0\n",
       "p_i[52]   0.26  3.4e-4   0.02   0.22   0.24   0.26   0.27   0.31   4529    1.0\n",
       "p_i[53]   0.52  3.4e-4   0.02   0.48   0.51   0.52   0.54   0.57   5215    1.0\n",
       "p_i[54]   0.21  3.0e-4   0.02   0.17    0.2   0.21   0.22   0.25   3804    1.0\n",
       "p_i[55]   0.21  3.0e-4   0.02   0.18    0.2   0.21   0.22   0.25   3895    1.0\n",
       "p_i[56]   0.19  3.4e-4   0.02   0.15   0.18   0.19    0.2   0.23   3297    1.0\n",
       "p_i[57]   0.26  3.4e-4   0.02   0.22   0.24   0.26   0.27    0.3   4565    1.0\n",
       "p_i[58]   0.21  3.1e-4   0.02   0.17   0.19   0.21   0.22   0.25   3759    1.0\n",
       "p_i[59]   0.79  5.8e-4   0.03   0.72   0.77   0.79   0.82   0.85   3543    1.0\n",
       "p_i[60]   0.13  5.1e-4   0.03   0.09   0.12   0.13   0.15   0.19   2674    1.0\n",
       "p_i[61]   0.32  6.5e-4   0.04   0.25   0.29   0.32   0.35    0.4   3434    1.0\n",
       "p_i[62]   0.21  3.0e-4   0.02   0.18    0.2   0.21   0.23   0.25   3989    1.0\n",
       "p_i[63]   0.24  2.9e-4   0.02    0.2   0.23   0.24   0.25   0.28   4702    1.0\n",
       "p_i[64]   0.52  3.4e-4   0.02   0.47   0.51   0.52   0.54   0.57   5152    1.0\n",
       "p_i[65]   0.53  3.3e-4   0.02   0.48   0.51   0.53   0.55   0.58   5353    1.0\n",
       "p_i[66]   0.57  3.5e-4   0.02   0.52   0.55   0.57   0.59   0.62   4905    1.0\n",
       "p_i[67]   0.24  3.0e-4   0.02    0.2   0.23   0.24   0.26   0.29   4724    1.0\n",
       "p_i[68]   0.19  3.4e-4   0.02   0.15   0.18   0.19    0.2   0.23   3297    1.0\n",
       "p_i[69]   0.21  3.1e-4   0.02   0.17   0.19   0.21   0.22   0.25   3781    1.0\n",
       "p_i[70]   0.22  2.9e-4   0.02   0.18   0.21   0.22   0.23   0.26   4154    1.0\n",
       "p_i[71]   0.53  3.3e-4   0.02   0.48   0.51   0.53   0.55   0.58   5328    1.0\n",
       "p_i[72]   0.59  4.1e-4   0.03   0.53   0.57   0.59   0.61   0.64   4262    1.0\n",
       "p_i[73]   0.26  3.4e-4   0.02   0.22   0.24   0.26   0.27   0.31   4529    1.0\n",
       "p_i[74]   0.26  3.4e-4   0.02   0.22   0.24   0.26   0.28   0.31   4511    1.0\n",
       "p_i[75]   0.24  3.0e-4   0.02    0.2   0.23   0.24   0.25   0.28   4709    1.0\n",
       "p_i[76]    0.2  3.2e-4   0.02   0.17   0.19    0.2   0.22   0.24   3611    1.0\n",
       "p_i[77]   0.15  4.7e-4   0.02    0.1   0.13   0.15   0.16    0.2   2741    1.0\n",
       "p_i[78]   0.29  4.9e-4   0.03   0.23   0.27   0.29   0.31   0.35   3837    1.0\n",
       "p_i[79]   0.55  3.2e-4   0.02    0.5   0.53   0.55   0.56    0.6   5507    1.0\n",
       "p_i[80]    0.8  5.4e-4   0.03   0.73   0.78    0.8   0.82   0.86   3570    1.0\n",
       "p_i[81]   0.58  4.0e-4   0.03   0.53   0.57   0.58    0.6   0.63   4354    1.0\n",
       "p_i[82]   0.26  3.4e-4   0.02   0.22   0.24   0.26   0.27    0.3   4565    1.0\n",
       "p_i[83]   0.55  3.2e-4   0.02    0.5   0.53   0.55   0.56    0.6   5507    1.0\n",
       "p_i[84]   0.26  3.3e-4   0.02   0.21   0.24   0.26   0.27    0.3   4599    1.0\n",
       "p_i[85]   0.24  3.0e-4   0.02    0.2   0.23   0.24   0.25   0.28   4709    1.0\n",
       "p_i[86]   0.21  3.0e-4   0.02   0.18    0.2   0.21   0.22   0.25   3918    1.0\n",
       "p_i[87]   0.59  4.2e-4   0.03   0.54   0.57   0.59   0.61   0.64   4203    1.0\n",
       "p_i[88]   0.19  3.4e-4   0.02   0.15   0.18   0.19    0.2   0.23   3297    1.0\n",
       "p_i[89]   0.25  3.0e-4   0.02   0.21   0.23   0.25   0.26   0.29   4732    1.0\n",
       "p_i[90]    0.3  5.6e-4   0.03   0.24   0.28    0.3   0.33   0.37   3634    1.0\n",
       "p_i[91]   0.65  6.9e-4   0.04   0.58   0.63   0.66   0.68   0.73   3123    1.0\n",
       "p_i[92]   0.19  3.5e-4   0.02   0.15   0.18   0.19    0.2   0.23   3268    1.0\n",
       "p_i[93]   0.24  3.0e-4   0.02   0.21   0.23   0.24   0.26   0.29   4728    1.0\n",
       "p_i[94]   0.16  4.2e-4   0.02   0.12   0.15   0.16   0.18   0.21   2859    1.0\n",
       "p_i[95]   0.65  6.6e-4   0.04   0.57   0.62   0.65   0.67   0.72   3179    1.0\n",
       "p_i[96]   0.23  2.9e-4   0.02   0.19   0.22   0.23   0.24   0.27   4497    1.0\n",
       "lp__    -492.3    0.03   1.22 -495.5 -492.9 -492.0 -491.4 -490.9   2348    1.0\n",
       "\n",
       "Samples were drawn using NUTS at Thu Dec 16 20:35:16 2021.\n",
       "For each parameter, n_eff is a crude measure of effective sample size,\n",
       "and Rhat is the potential scale reduction factor on split chains (at \n",
       "convergence, Rhat=1)."
      ]
     },
     "execution_count": 26,
     "metadata": {},
     "output_type": "execute_result"
    }
   ],
   "source": [
    "posterior_2preds_normal"
   ]
  },
  {
   "cell_type": "code",
   "execution_count": 27,
   "metadata": {
    "scrolled": true
   },
   "outputs": [
    {
     "name": "stderr",
     "output_type": "stream",
     "text": [
      "WARNING:pystan:Truncated summary with the 'fit.__repr__' method. For the full summary use 'print(fit)'\n"
     ]
    },
    {
     "data": {
      "text/plain": [
       "\n",
       "Warning: Shown data is truncated to 100 parameters\n",
       "For the full summary use 'print(fit)'\n",
       "\n",
       "Inference for Stan model: anon_model_ed63c54fd42515dbbbf00aabdb962037.\n",
       "4 chains, each with iter=4000; warmup=2000; thin=1; \n",
       "post-warmup draws per chain=2000, total post-warmup draws=8000.\n",
       "\n",
       "          mean se_mean     sd   2.5%    25%    50%    75%  97.5%  n_eff   Rhat\n",
       "a        -4.27    0.02   0.92  -6.07  -4.89  -4.26  -3.64  -2.48   2371    1.0\n",
       "b         1.49  2.4e-3   0.13   1.23    1.4   1.49   1.58   1.75   3132    1.0\n",
       "c         0.04  2.5e-4   0.01   0.02   0.03   0.04   0.05   0.06   2385    1.0\n",
       "p_i[1]    0.22  2.7e-4   0.02   0.18    0.2   0.21   0.23   0.25   4583    1.0\n",
       "p_i[2]    0.61  5.5e-4   0.03   0.55   0.59   0.62   0.64   0.68   3274    1.0\n",
       "p_i[3]    0.21  2.8e-4   0.02   0.18    0.2   0.21   0.22   0.25   4399    1.0\n",
       "p_i[4]    0.56  3.4e-4   0.02   0.51   0.54   0.56   0.57   0.61   5148    1.0\n",
       "p_i[5]    0.29  5.1e-4   0.03   0.24   0.27   0.29   0.31   0.35   3606    1.0\n",
       "p_i[6]    0.54  3.2e-4   0.02    0.5   0.53   0.54   0.56   0.59   5578    1.0\n",
       "p_i[7]    0.24  2.9e-4   0.02   0.21   0.23   0.24   0.26   0.29   5020    1.0\n",
       "p_i[8]    0.61  5.3e-4   0.03   0.55   0.59   0.61   0.63   0.67   3364    1.0\n",
       "p_i[9]    0.46  5.8e-4   0.03   0.39   0.44   0.46   0.48   0.53   3501    1.0\n",
       "p_i[10]   0.21  2.9e-4   0.02   0.17   0.19   0.21   0.22   0.24   4211    1.0\n",
       "p_i[11]    0.2  2.9e-4   0.02   0.17   0.19    0.2   0.22   0.24   4056    1.0\n",
       "p_i[12]   0.44  6.9e-4   0.04   0.36   0.41   0.44   0.46   0.51   3188    1.0\n",
       "p_i[13]    0.2  3.1e-4   0.02   0.16   0.19    0.2   0.21   0.24   3796    1.0\n",
       "p_i[14]   0.45  6.4e-4   0.04   0.37   0.42   0.45   0.47   0.52   3299    1.0\n",
       "p_i[15]   0.24  2.8e-4   0.02    0.2   0.23   0.24   0.25   0.28   5135    1.0\n",
       "p_i[16]   0.23  2.7e-4   0.02    0.2   0.22   0.23   0.25   0.27   5158    1.0\n",
       "p_i[17]   0.21  2.8e-4   0.02   0.17    0.2   0.21   0.22   0.24   4242    1.0\n",
       "p_i[18]   0.23  2.6e-4   0.02   0.19   0.21   0.23   0.24   0.27   5062    1.0\n",
       "p_i[19]   0.29  5.1e-4   0.03   0.24   0.27   0.29   0.31   0.36   3573    1.0\n",
       "p_i[20]   0.86  4.7e-4   0.03    0.8   0.84   0.86   0.88   0.91   3150    1.0\n",
       "p_i[21]   0.26  3.3e-4   0.02   0.21   0.24   0.26   0.27    0.3   4637    1.0\n",
       "p_i[22]   0.22  2.7e-4   0.02   0.19   0.21   0.22   0.24   0.26   4909    1.0\n",
       "p_i[23]   0.19  3.5e-4   0.02   0.15   0.17   0.18    0.2   0.23   3335    1.0\n",
       "p_i[24]   0.51  3.8e-4   0.03   0.45   0.49   0.51   0.52   0.56   4852    1.0\n",
       "p_i[25]   0.19  3.2e-4   0.02   0.16   0.18   0.19   0.21   0.23   3592    1.0\n",
       "p_i[26]   0.23  2.7e-4   0.02    0.2   0.22   0.23   0.25   0.27   5166    1.0\n",
       "p_i[27]   0.22  2.7e-4   0.02   0.18    0.2   0.22   0.23   0.25   4642    1.0\n",
       "p_i[28]   0.22  2.7e-4   0.02   0.18    0.2   0.22   0.23   0.25   4642    1.0\n",
       "p_i[29]   0.22  2.7e-4   0.02   0.18    0.2   0.22   0.23   0.25   4613    1.0\n",
       "p_i[30]   0.21  2.9e-4   0.02   0.17   0.19   0.21   0.22   0.24   4149    1.0\n",
       "p_i[31]   0.21  2.7e-4   0.02   0.18    0.2   0.21   0.23   0.25   4493    1.0\n",
       "p_i[32]   0.19  3.3e-4   0.02   0.15   0.18   0.19    0.2   0.23   3527    1.0\n",
       "p_i[33]   0.24  2.8e-4   0.02    0.2   0.23   0.24   0.26   0.28   5072    1.0\n",
       "p_i[34]   0.59  4.3e-4   0.03   0.53   0.57   0.59   0.61   0.64   4007    1.0\n",
       "p_i[35]   0.51  3.7e-4   0.03   0.46   0.49   0.51   0.53   0.56   5044    1.0\n",
       "p_i[36]   0.83  4.8e-4   0.03   0.77   0.82   0.84   0.85   0.88   3513    1.0\n",
       "p_i[37]   0.56  3.4e-4   0.02   0.51   0.54   0.56   0.57    0.6   5186    1.0\n",
       "p_i[38]   0.26  3.3e-4   0.02   0.22   0.24   0.26   0.27    0.3   4583    1.0\n",
       "p_i[39]   0.79  5.9e-4   0.04   0.71   0.77   0.79   0.81   0.85   3649    1.0\n",
       "p_i[40]   0.16  4.3e-4   0.02   0.12   0.14   0.16   0.18   0.21   2833    1.0\n",
       "p_i[41]   0.82  5.1e-4   0.03   0.75    0.8   0.82   0.84   0.87   3667    1.0\n",
       "p_i[42]   0.15  4.7e-4   0.02    0.1   0.13   0.15   0.16    0.2   2679    1.0\n",
       "p_i[43]   0.58  3.9e-4   0.03   0.52   0.56   0.58   0.59   0.63   4409    1.0\n",
       "p_i[44]   0.51  3.6e-4   0.03   0.46   0.49   0.51   0.53   0.56   5081    1.0\n",
       "p_i[45]   0.19  3.2e-4   0.02   0.16   0.18   0.19   0.21   0.23   3639    1.0\n",
       "p_i[46]   0.25  3.1e-4   0.02   0.21   0.24   0.25   0.27    0.3   4770    1.0\n",
       "p_i[47]   0.21  2.9e-4   0.02   0.17   0.19    0.2   0.22   0.24   4118    1.0\n",
       "p_i[48]   0.21  2.8e-4   0.02   0.17    0.2   0.21   0.22   0.24   4242    1.0\n",
       "p_i[49]   0.51  3.8e-4   0.03   0.45   0.49   0.51   0.52   0.56   4852    1.0\n",
       "p_i[50]   0.28  4.2e-4   0.03   0.23   0.26   0.28   0.29   0.33   3987    1.0\n",
       "p_i[51]   0.22  2.7e-4   0.02   0.19   0.21   0.22   0.23   0.26   4830    1.0\n",
       "p_i[52]   0.26  3.4e-4   0.02   0.22   0.24   0.26   0.27    0.3   4555    1.0\n",
       "p_i[53]   0.52  3.3e-4   0.02   0.48   0.51   0.52   0.54   0.57   5488    1.0\n",
       "p_i[54]   0.21  2.8e-4   0.02   0.17    0.2   0.21   0.22   0.25   4274    1.0\n",
       "p_i[55]   0.21  2.8e-4   0.02   0.18    0.2   0.21   0.22   0.25   4399    1.0\n",
       "p_i[56]   0.19  3.3e-4   0.02   0.15   0.18   0.19    0.2   0.23   3527    1.0\n",
       "p_i[57]   0.26  3.3e-4   0.02   0.22   0.24   0.26   0.27    0.3   4610    1.0\n",
       "p_i[58]   0.21  2.9e-4   0.02   0.17   0.19   0.21   0.22   0.24   4211    1.0\n",
       "p_i[59]   0.79  5.8e-4   0.04   0.72   0.77   0.79   0.82   0.85   3657    1.0\n",
       "p_i[60]   0.13  5.1e-4   0.03   0.09   0.12   0.13   0.15   0.19   2586    1.0\n",
       "p_i[61]   0.32  6.7e-4   0.04   0.25   0.29   0.32   0.34    0.4   3189    1.0\n",
       "p_i[62]   0.21  2.7e-4   0.02   0.18    0.2   0.21   0.23   0.25   4523    1.0\n",
       "p_i[63]   0.24  2.8e-4   0.02    0.2   0.23   0.24   0.25   0.28   5113    1.0\n",
       "p_i[64]   0.52  3.4e-4   0.02   0.47   0.51   0.52   0.54   0.57   5438    1.0\n",
       "p_i[65]   0.53  3.3e-4   0.02   0.48   0.51   0.53   0.55   0.58   5585    1.0\n",
       "p_i[66]   0.57  3.6e-4   0.03   0.52   0.55   0.57   0.59   0.62   4737    1.0\n",
       "p_i[67]   0.24  2.9e-4   0.02   0.21   0.23   0.24   0.26   0.28   5056    1.0\n",
       "p_i[68]   0.19  3.3e-4   0.02   0.15   0.18   0.19    0.2   0.23   3527    1.0\n",
       "p_i[69]   0.21  2.8e-4   0.02   0.17    0.2   0.21   0.22   0.24   4242    1.0\n",
       "p_i[70]   0.22  2.7e-4   0.02   0.18   0.21   0.22   0.23   0.26   4725    1.0\n",
       "p_i[71]   0.53  3.3e-4   0.02   0.48   0.51   0.53   0.54   0.58   5569    1.0\n",
       "p_i[72]   0.59  4.3e-4   0.03   0.53   0.57   0.59   0.61   0.64   4007    1.0\n",
       "p_i[73]   0.26  3.4e-4   0.02   0.22   0.24   0.26   0.27    0.3   4555    1.0\n",
       "p_i[74]   0.26  3.4e-4   0.02   0.22   0.24   0.26   0.28   0.31   4528    1.0\n",
       "p_i[75]   0.24  2.8e-4   0.02    0.2   0.23   0.24   0.25   0.28   5101    1.0\n",
       "p_i[76]    0.2  3.0e-4   0.02   0.17   0.19    0.2   0.22   0.24   3996    1.0\n",
       "p_i[77]   0.15  4.6e-4   0.02   0.11   0.13   0.15   0.16    0.2   2702    1.0\n",
       "p_i[78]   0.29  5.0e-4   0.03   0.23   0.27   0.29   0.31   0.35   3641    1.0\n",
       "p_i[79]   0.55  3.3e-4   0.02    0.5   0.53   0.55   0.56    0.6   5474    1.0\n",
       "p_i[80]    0.8  5.5e-4   0.03   0.73   0.78    0.8   0.82   0.86   3685    1.0\n",
       "p_i[81]   0.58  4.2e-4   0.03   0.53   0.57   0.58    0.6   0.64   4109    1.0\n",
       "p_i[82]   0.26  3.3e-4   0.02   0.22   0.24   0.26   0.27    0.3   4610    1.0\n",
       "p_i[83]   0.55  3.3e-4   0.02    0.5   0.53   0.55   0.56    0.6   5474    1.0\n",
       "p_i[84]   0.26  3.3e-4   0.02   0.21   0.24   0.26   0.27    0.3   4664    1.0\n",
       "p_i[85]   0.24  2.8e-4   0.02    0.2   0.23   0.24   0.25   0.28   5101    1.0\n",
       "p_i[86]   0.21  2.8e-4   0.02   0.18    0.2   0.21   0.22   0.25   4431    1.0\n",
       "p_i[87]   0.59  4.4e-4   0.03   0.53   0.57   0.59   0.61   0.64   3941    1.0\n",
       "p_i[88]   0.19  3.3e-4   0.02   0.15   0.18   0.19    0.2   0.23   3527    1.0\n",
       "p_i[89]   0.25  2.9e-4   0.02   0.21   0.23   0.24   0.26   0.29   5001    1.0\n",
       "p_i[90]    0.3  5.7e-4   0.03   0.24   0.28    0.3   0.32   0.37   3408    1.0\n",
       "p_i[91]   0.65  7.3e-4   0.04   0.58   0.63   0.65   0.68   0.73   2819    1.0\n",
       "p_i[92]   0.19  3.3e-4   0.02   0.15   0.18   0.19    0.2   0.23   3485    1.0\n",
       "p_i[93]   0.24  2.9e-4   0.02   0.21   0.23   0.24   0.26   0.28   5039    1.0\n",
       "p_i[94]   0.16  4.1e-4   0.02   0.12   0.15   0.16   0.18   0.21   2897    1.0\n",
       "p_i[95]   0.65  7.0e-4   0.04   0.57   0.62   0.65   0.67   0.72   2868    1.0\n",
       "p_i[96]   0.23  2.7e-4   0.02   0.19   0.22   0.23   0.24   0.27   5096    1.0\n",
       "lp__    -492.3    0.02   1.22 -495.4 -492.9 -492.0 -491.4 -490.9   2576    1.0\n",
       "\n",
       "Samples were drawn using NUTS at Thu Dec 16 20:38:07 2021.\n",
       "For each parameter, n_eff is a crude measure of effective sample size,\n",
       "and Rhat is the potential scale reduction factor on split chains (at \n",
       "convergence, Rhat=1)."
      ]
     },
     "execution_count": 27,
     "metadata": {},
     "output_type": "execute_result"
    }
   ],
   "source": [
    "posterior_2preds_uniform"
   ]
  },
  {
   "cell_type": "code",
   "execution_count": 28,
   "metadata": {
    "scrolled": true
   },
   "outputs": [
    {
     "name": "stderr",
     "output_type": "stream",
     "text": [
      "WARNING:pystan:Truncated summary with the 'fit.__repr__' method. For the full summary use 'print(fit)'\n"
     ]
    },
    {
     "data": {
      "text/plain": [
       "\n",
       "Warning: Shown data is truncated to 100 parameters\n",
       "For the full summary use 'print(fit)'\n",
       "\n",
       "Inference for Stan model: anon_model_676afaacf5c2a7601b0f154ad92195cf.\n",
       "4 chains, each with iter=4000; warmup=2000; thin=1; \n",
       "post-warmup draws per chain=2000, total post-warmup draws=8000.\n",
       "\n",
       "          mean se_mean     sd   2.5%    25%    50%    75%  97.5%  n_eff   Rhat\n",
       "a        -4.27    0.02   0.93   -6.1   -4.9  -4.25  -3.63  -2.43   2479    1.0\n",
       "b         1.48  2.4e-3   0.13   1.23   1.39   1.48   1.56   1.73   2917    1.0\n",
       "c         0.04  2.4e-4   0.01   0.02   0.03   0.04   0.05   0.06   2510    1.0\n",
       "p_i[1]    0.22  2.9e-4   0.02   0.18    0.2   0.22   0.23   0.25   4089    1.0\n",
       "p_i[2]    0.61  5.5e-4   0.03   0.55   0.59   0.61   0.64   0.67   3225    1.0\n",
       "p_i[3]    0.21  2.9e-4   0.02   0.18    0.2   0.21   0.22   0.25   3914    1.0\n",
       "p_i[4]    0.56  3.4e-4   0.02   0.51   0.54   0.56   0.57    0.6   4968    1.0\n",
       "p_i[5]    0.29  4.9e-4   0.03   0.24   0.27   0.29   0.31   0.36   3829    1.0\n",
       "p_i[6]    0.54  3.3e-4   0.02    0.5   0.53   0.54   0.56   0.59   5304    1.0\n",
       "p_i[7]    0.25  2.9e-4   0.02   0.21   0.23   0.25   0.26   0.29   4800    1.0\n",
       "p_i[8]    0.61  5.3e-4   0.03   0.55   0.59   0.61   0.63   0.67   3310    1.0\n",
       "p_i[9]    0.46  5.9e-4   0.03   0.39   0.43   0.46   0.48   0.53   3500    1.0\n",
       "p_i[10]   0.21  3.0e-4   0.02   0.17    0.2   0.21   0.22   0.25   3775    1.0\n",
       "p_i[11]   0.21  3.1e-4   0.02   0.17   0.19    0.2   0.22   0.24   3665    1.0\n",
       "p_i[12]   0.44  6.9e-4   0.04   0.36   0.41   0.44   0.46   0.51   3221    1.0\n",
       "p_i[13]    0.2  3.2e-4   0.02   0.16   0.19    0.2   0.21   0.24   3498    1.0\n",
       "p_i[14]   0.44  6.5e-4   0.04   0.37   0.42   0.45   0.47   0.52   3320    1.0\n",
       "p_i[15]   0.24  2.8e-4   0.02    0.2   0.23   0.24   0.25   0.28   4805    1.0\n",
       "p_i[16]   0.23  2.8e-4   0.02    0.2   0.22   0.23   0.25   0.27   4729    1.0\n",
       "p_i[17]   0.21  3.0e-4   0.02   0.17    0.2   0.21   0.22   0.25   3797    1.0\n",
       "p_i[18]   0.23  2.7e-4   0.02   0.19   0.22   0.23   0.24   0.27   4600    1.0\n",
       "p_i[19]    0.3  5.0e-4   0.03   0.24   0.27   0.29   0.32   0.36   3795    1.0\n",
       "p_i[20]   0.86  4.7e-4   0.03    0.8   0.84   0.86   0.88    0.9   3025    1.0\n",
       "p_i[21]   0.26  3.3e-4   0.02   0.22   0.24   0.26   0.27    0.3   4597    1.0\n",
       "p_i[22]   0.22  2.8e-4   0.02   0.19   0.21   0.22   0.24   0.26   4428    1.0\n",
       "p_i[23]   0.19  3.5e-4   0.02   0.15   0.17   0.19    0.2   0.23   3241    1.0\n",
       "p_i[24]    0.5  3.9e-4   0.03   0.45   0.49    0.5   0.52   0.56   4707    1.0\n",
       "p_i[25]   0.19  3.3e-4   0.02   0.16   0.18   0.19   0.21   0.23   3446    1.0\n",
       "p_i[26]   0.24  2.8e-4   0.02    0.2   0.22   0.23   0.25   0.27   4743    1.0\n",
       "p_i[27]   0.22  2.8e-4   0.02   0.18   0.21   0.22   0.23   0.26   4148    1.0\n",
       "p_i[28]   0.22  2.8e-4   0.02   0.18   0.21   0.22   0.23   0.26   4148    1.0\n",
       "p_i[29]   0.22  2.8e-4   0.02   0.18    0.2   0.22   0.23   0.25   4119    1.0\n",
       "p_i[30]   0.21  3.0e-4   0.02   0.17   0.19   0.21   0.22   0.25   3730    1.0\n",
       "p_i[31]   0.21  2.9e-4   0.02   0.18    0.2   0.21   0.23   0.25   4000    1.0\n",
       "p_i[32]   0.19  3.3e-4   0.02   0.16   0.18   0.19   0.21   0.23   3427    1.0\n",
       "p_i[33]   0.24  2.9e-4   0.02   0.21   0.23   0.24   0.26   0.28   4811    1.0\n",
       "p_i[34]   0.59  4.3e-4   0.03   0.53   0.57   0.59    0.6   0.64   3921    1.0\n",
       "p_i[35]   0.51  3.7e-4   0.03   0.46   0.49   0.51   0.53   0.56   4883    1.0\n",
       "p_i[36]   0.83  4.7e-4   0.03   0.78   0.81   0.83   0.85   0.88   3398    1.0\n",
       "p_i[37]   0.56  3.4e-4   0.02   0.51   0.54   0.56   0.57    0.6   4999    1.0\n",
       "p_i[38]   0.26  3.3e-4   0.02   0.22   0.24   0.26   0.28   0.31   4560    1.0\n",
       "p_i[39]   0.79  5.8e-4   0.04   0.71   0.76   0.79   0.81   0.85   3722    1.0\n",
       "p_i[40]   0.16  4.4e-4   0.02   0.12   0.15   0.16   0.18   0.21   2764    1.0\n",
       "p_i[41]   0.81  5.0e-4   0.03   0.75   0.79   0.81   0.83   0.87   3586    1.0\n",
       "p_i[42]   0.15  4.8e-4   0.02    0.1   0.13   0.15   0.16    0.2   2632    1.0\n",
       "p_i[43]   0.57  3.9e-4   0.03   0.53   0.56   0.57   0.59   0.62   4299    1.0\n",
       "p_i[44]   0.51  3.7e-4   0.03   0.46   0.49   0.51   0.53   0.56   4919    1.0\n",
       "p_i[45]    0.2  3.3e-4   0.02   0.16   0.18    0.2   0.21   0.24   3459    1.0\n",
       "p_i[46]   0.25  3.2e-4   0.02   0.21   0.24   0.25   0.27    0.3   4682    1.0\n",
       "p_i[47]   0.21  3.0e-4   0.02   0.17   0.19   0.21   0.22   0.24   3708    1.0\n",
       "p_i[48]   0.21  3.0e-4   0.02   0.17    0.2   0.21   0.22   0.25   3797    1.0\n",
       "p_i[49]    0.5  3.9e-4   0.03   0.45   0.49    0.5   0.52   0.56   4707    1.0\n",
       "p_i[50]   0.28  4.1e-4   0.03   0.23   0.26   0.28    0.3   0.33   4211    1.0\n",
       "p_i[51]   0.22  2.8e-4   0.02   0.19   0.21   0.22   0.23   0.26   4349    1.0\n",
       "p_i[52]   0.26  3.4e-4   0.02   0.22   0.25   0.26   0.28   0.31   4545    1.0\n",
       "p_i[53]   0.52  3.4e-4   0.02   0.48   0.51   0.52   0.54   0.57   5330    1.0\n",
       "p_i[54]   0.21  3.0e-4   0.02   0.18    0.2   0.21   0.22   0.25   3819    1.0\n",
       "p_i[55]   0.21  2.9e-4   0.02   0.18    0.2   0.21   0.22   0.25   3914    1.0\n",
       "p_i[56]   0.19  3.3e-4   0.02   0.16   0.18   0.19   0.21   0.23   3427    1.0\n",
       "p_i[57]   0.26  3.3e-4   0.02   0.22   0.24   0.26   0.27    0.3   4579    1.0\n",
       "p_i[58]   0.21  3.0e-4   0.02   0.17    0.2   0.21   0.22   0.25   3775    1.0\n",
       "p_i[59]   0.79  5.7e-4   0.03   0.72   0.77   0.79   0.81   0.85   3723    1.0\n",
       "p_i[60]   0.14  5.2e-4   0.03   0.09   0.12   0.13   0.15   0.19   2551    1.0\n",
       "p_i[61]   0.32  6.6e-4   0.04   0.25    0.3   0.32   0.35    0.4   3402    1.0\n",
       "p_i[62]   0.22  2.9e-4   0.02   0.18    0.2   0.21   0.23   0.25   4030    1.0\n",
       "p_i[63]   0.24  2.8e-4   0.02    0.2   0.23   0.24   0.26   0.28   4811    1.0\n",
       "p_i[64]   0.52  3.4e-4   0.02   0.47    0.5   0.52   0.54   0.57   5276    1.0\n",
       "p_i[65]   0.53  3.3e-4   0.02   0.48   0.51   0.53   0.55   0.58   5429    1.0\n",
       "p_i[66]   0.57  3.6e-4   0.02   0.52   0.55   0.57   0.58   0.62   4605    1.0\n",
       "p_i[67]   0.24  2.9e-4   0.02   0.21   0.23   0.24   0.26   0.29   4809    1.0\n",
       "p_i[68]   0.19  3.3e-4   0.02   0.16   0.18   0.19   0.21   0.23   3427    1.0\n",
       "p_i[69]   0.21  3.0e-4   0.02   0.17    0.2   0.21   0.22   0.25   3797    1.0\n",
       "p_i[70]   0.22  2.8e-4   0.02   0.19   0.21   0.22   0.23   0.26   4236    1.0\n",
       "p_i[71]   0.53  3.3e-4   0.02   0.48   0.51   0.53   0.54   0.58   5422    1.0\n",
       "p_i[72]   0.59  4.3e-4   0.03   0.53   0.57   0.59    0.6   0.64   3921    1.0\n",
       "p_i[73]   0.26  3.4e-4   0.02   0.22   0.25   0.26   0.28   0.31   4545    1.0\n",
       "p_i[74]   0.26  3.4e-4   0.02   0.22   0.25   0.26   0.28   0.31   4531    1.0\n",
       "p_i[75]   0.24  2.9e-4   0.02    0.2   0.23   0.24   0.26   0.28   4813    1.0\n",
       "p_i[76]    0.2  3.1e-4   0.02   0.17   0.19    0.2   0.22   0.24   3623    1.0\n",
       "p_i[77]   0.15  4.7e-4   0.02   0.11   0.13   0.15   0.17    0.2   2652    1.0\n",
       "p_i[78]   0.29  4.8e-4   0.03   0.24   0.27   0.29   0.31   0.35   3865    1.0\n",
       "p_i[79]   0.55  3.3e-4   0.02    0.5   0.53   0.55   0.56   0.59   5230    1.0\n",
       "p_i[80]    0.8  5.4e-4   0.03   0.73   0.78    0.8   0.82   0.86   3672    1.0\n",
       "p_i[81]   0.58  4.1e-4   0.03   0.53   0.56   0.58    0.6   0.63   4017    1.0\n",
       "p_i[82]   0.26  3.3e-4   0.02   0.22   0.24   0.26   0.27    0.3   4579    1.0\n",
       "p_i[83]   0.55  3.3e-4   0.02    0.5   0.53   0.55   0.56   0.59   5230    1.0\n",
       "p_i[84]   0.26  3.3e-4   0.02   0.22   0.24   0.26   0.27    0.3   4615    1.0\n",
       "p_i[85]   0.24  2.9e-4   0.02    0.2   0.23   0.24   0.26   0.28   4813    1.0\n",
       "p_i[86]   0.21  2.9e-4   0.02   0.18    0.2   0.21   0.22   0.25   3940    1.0\n",
       "p_i[87]   0.59  4.3e-4   0.03   0.54   0.57   0.59   0.61   0.64   3859    1.0\n",
       "p_i[88]   0.19  3.3e-4   0.02   0.16   0.18   0.19   0.21   0.23   3427    1.0\n",
       "p_i[89]   0.25  2.9e-4   0.02   0.21   0.23   0.25   0.26   0.29   4794    1.0\n",
       "p_i[90]    0.3  5.6e-4   0.03   0.24   0.28    0.3   0.33   0.37   3627    1.0\n",
       "p_i[91]   0.65  7.2e-4   0.04   0.57   0.63   0.65   0.68   0.73   2832    1.0\n",
       "p_i[92]   0.19  3.3e-4   0.02   0.16   0.18   0.19    0.2   0.23   3387    1.0\n",
       "p_i[93]   0.25  2.9e-4   0.02   0.21   0.23   0.25   0.26   0.29   4805    1.0\n",
       "p_i[94]   0.17  4.2e-4   0.02   0.12   0.15   0.16   0.18   0.21   2819    1.0\n",
       "p_i[95]   0.65  7.0e-4   0.04   0.57   0.62   0.65   0.67   0.72   2873    1.0\n",
       "p_i[96]   0.23  2.7e-4   0.02    0.2   0.22   0.23   0.24   0.27   4642    1.0\n",
       "lp__    -493.8    0.02   1.19 -496.9 -494.3 -493.4 -492.9 -492.4   2501    1.0\n",
       "\n",
       "Samples were drawn using NUTS at Thu Dec 16 20:40:55 2021.\n",
       "For each parameter, n_eff is a crude measure of effective sample size,\n",
       "and Rhat is the potential scale reduction factor on split chains (at \n",
       "convergence, Rhat=1)."
      ]
     },
     "execution_count": 28,
     "metadata": {},
     "output_type": "execute_result"
    }
   ],
   "source": [
    "posterior_2preds_exponential"
   ]
  },
  {
   "cell_type": "markdown",
   "metadata": {},
   "source": [
    "For all three models resulting from varying the prior distribution of `APOE4`, we check the 95% confidence interval for the covariate parameters $b$ and $c$. Then we print the WAIC for the model `DX ~ AGE + APOE4` compared to the previously computed ones."
   ]
  },
  {
   "cell_type": "code",
   "execution_count": 29,
   "metadata": {},
   "outputs": [
    {
     "name": "stdout",
     "output_type": "stream",
     "text": [
      "95% confidence interval for parameter b:\n",
      "2.5% threshold:\t\t1.2434335392003992\n",
      "mean:\t\t\t1.4876169793520257\n",
      "97.5% threshold:\t1.7560004769072486\n",
      "\n",
      "\n",
      "95% confidence interval for parameter c:\n",
      "2.5% threshold:\t\t0.016415482049762436\n",
      "mean:\t\t\t0.039892958973839904\n",
      "97.5% threshold:\t0.06377668833070309\n"
     ]
    }
   ],
   "source": [
    "print_95CI_param(posterior_2preds_normal, \"b\"); print(\"\\n\")\n",
    "print_95CI_param(posterior_2preds_normal, \"c\")"
   ]
  },
  {
   "cell_type": "code",
   "execution_count": 30,
   "metadata": {},
   "outputs": [
    {
     "name": "stdout",
     "output_type": "stream",
     "text": [
      "95% confidence interval for parameter b:\n",
      "2.5% threshold:\t\t1.2277715799651452\n",
      "mean:\t\t\t1.486197721589066\n",
      "97.5% threshold:\t1.7518551284605774\n",
      "\n",
      "\n",
      "95% confidence interval for parameter c:\n",
      "2.5% threshold:\t\t0.016553632370611075\n",
      "mean:\t\t\t0.039827748635819976\n",
      "97.5% threshold:\t0.06348645114919177\n"
     ]
    }
   ],
   "source": [
    "print_95CI_param(posterior_2preds_uniform, \"b\"); print(\"\\n\")\n",
    "print_95CI_param(posterior_2preds_uniform, \"c\")"
   ]
  },
  {
   "cell_type": "code",
   "execution_count": 31,
   "metadata": {},
   "outputs": [
    {
     "name": "stdout",
     "output_type": "stream",
     "text": [
      "95% confidence interval for parameter b:\n",
      "2.5% threshold:\t\t1.2276999405824787\n",
      "mean:\t\t\t1.4757879423237492\n",
      "97.5% threshold:\t1.7279033640905672\n",
      "\n",
      "\n",
      "95% confidence interval for parameter c:\n",
      "2.5% threshold:\t\t0.016746536501951133\n",
      "mean:\t\t\t0.039817756808668225\n",
      "97.5% threshold:\t0.06420577081618001\n"
     ]
    }
   ],
   "source": [
    "print_95CI_param(posterior_2preds_exponential, \"b\"); print(\"\\n\")\n",
    "print_95CI_param(posterior_2preds_exponential, \"c\")"
   ]
  },
  {
   "cell_type": "code",
   "execution_count": 32,
   "metadata": {},
   "outputs": [
    {
     "name": "stdout",
     "output_type": "stream",
     "text": [
      "WAIC of model DX ~ AGE: \t\t\t1106.080628367538\n",
      "WAIC of model DX ~ APOE4 (normal):\t\t960.7398801041145\n",
      "WAIC of model DX ~ APOE4 (uniform):\t\t960.8239647409292\n",
      "WAIC of model DX ~ APOE4 (exponential):\t\t960.54554312265\n",
      "WAIC of model DX ~ AGE + APOE4 (normal):\t951.9810056175705\n",
      "WAIC of model DX ~ AGE + APOE4 (uniform):\t952.3549200301862\n",
      "WAIC of model DX ~ AGE + APOE4 (exponential):\t951.853508141098\n"
     ]
    }
   ],
   "source": [
    "print(f\"WAIC of model DX ~ AGE: \\t\\t\\t{waic_AGE}\",\n",
    "      f\"WAIC of model DX ~ APOE4 (normal):\\t\\t{waic_APOE4_normal}\",\n",
    "      f\"WAIC of model DX ~ APOE4 (uniform):\\t\\t{waic_APOE4_uniform}\",\n",
    "      f\"WAIC of model DX ~ APOE4 (exponential):\\t\\t{waic_APOE4_exponential}\",\n",
    "      f\"WAIC of model DX ~ AGE + APOE4 (normal):\\t{waic_2preds_normal}\",\n",
    "      f\"WAIC of model DX ~ AGE + APOE4 (uniform):\\t{waic_2preds_uniform}\",\n",
    "      f\"WAIC of model DX ~ AGE + APOE4 (exponential):\\t{waic_2preds_exponential}\",\n",
    "      sep=\"\\n\")"
   ]
  },
  {
   "cell_type": "markdown",
   "metadata": {},
   "source": [
    "<u>Observations on fitting `DX` with both `AGE` and `APOE4`:</u>\n",
    "\n",
    "When fitting the model with both covariates, and by looking at the WAIC metrics, we see a slight improvement on the model `DX ~ APOE4`. `APOE4` remains the most predictive of the two covariates.\n",
    "\n",
    "Of note,\n",
    "1. Fitting `APOE4` with a uniform prior distribution yields some divergences that impact that model's performance compared to using the exponential and normal distributions as priors for the variable (we note that sometimes, we also yielded divergences when using the exponential distribution but it's much raree)\n",
    "2. In the `DX ~ AGE + APOE4` model, we see that the 95% confidence interval for the `AGE` coefficient now covers a strictly positive range now. This can be interpreted that, when `APOE4` is modeled with `AGE` as part of this model, we can be more confident that `AGE` becomes a positive (albeit very slightly) predictor of a Alzheimer's disease diagnosis:\n",
    "    - Given [contextual knowledge](https://www.alzheimersorganization.org/alzheimers-gene-apoe4) and that the genetic mutation `APOE4` negatively affects the cleanup of plaques in the brain -- plaque build-up is associated with a Alzheimer's disease diagnosis --, we can propose that having the mutation increases the likelihood of developing Alzheimer's disease as one ages and grows further into old age, thus moving the `AGE` coefficient in the positive range.\n",
    "\n",
    "<hr>\n",
    "\n",
    "####  <u>Question 2: Effect of `APOE4` on 80-year-old patients</u>\n",
    "\n",
    "We now consider patients who are stricly 80 years old. Given those select few patients (4, as seen below), we want to check the effect of the `APOE4` gene on their Alzheimer's disease diagnosis.\n",
    "\n",
    "To do so, we will draw a large number of samples from two binomial distributions such that:\n",
    "\n",
    "- one distribution does not have the `APOE4` data included in the computation of $p_i$ (we only model the intercept $a$)\n",
    "- one where `APOE4` is included in the computation of $p_i$ (***here we will only try with the normal distribution as the previous question only displayed minute improvements***)\n",
    "   \n",
    "<u>Data extraction of 80-year-old patients:</u>\n",
    "\n",
    "We start by extracting from the original dataset the subjects whose age is strictly 80. We find that the dataset only contains 4 of such patients, representing c. 0.5% of the total dataset. ***This is not much***. We also note that, out of 4 patients, only one is diagnosed with Alzheimer's disease."
   ]
  },
  {
   "cell_type": "code",
   "execution_count": 33,
   "metadata": {},
   "outputs": [],
   "source": [
    "data_80yo = data.query(\"AGE == 80\")"
   ]
  },
  {
   "cell_type": "code",
   "execution_count": 34,
   "metadata": {},
   "outputs": [
    {
     "data": {
      "text/html": [
       "<div>\n",
       "<style scoped>\n",
       "    .dataframe tbody tr th:only-of-type {\n",
       "        vertical-align: middle;\n",
       "    }\n",
       "\n",
       "    .dataframe tbody tr th {\n",
       "        vertical-align: top;\n",
       "    }\n",
       "\n",
       "    .dataframe thead th {\n",
       "        text-align: right;\n",
       "    }\n",
       "</style>\n",
       "<table border=\"1\" class=\"dataframe\">\n",
       "  <thead>\n",
       "    <tr style=\"text-align: right;\">\n",
       "      <th></th>\n",
       "      <th>RID</th>\n",
       "      <th>APOE4</th>\n",
       "      <th>DX</th>\n",
       "      <th>AGE</th>\n",
       "      <th>WholeBrain.bl</th>\n",
       "      <th>ICV</th>\n",
       "      <th>norm_brain</th>\n",
       "    </tr>\n",
       "  </thead>\n",
       "  <tbody>\n",
       "    <tr>\n",
       "      <th>139</th>\n",
       "      <td>230</td>\n",
       "      <td>0.0</td>\n",
       "      <td>0</td>\n",
       "      <td>80.0</td>\n",
       "      <td>1051053.0</td>\n",
       "      <td>1.714028e+06</td>\n",
       "      <td>-1.030522</td>\n",
       "    </tr>\n",
       "    <tr>\n",
       "      <th>489</th>\n",
       "      <td>866</td>\n",
       "      <td>0.0</td>\n",
       "      <td>0</td>\n",
       "      <td>80.0</td>\n",
       "      <td>943825.0</td>\n",
       "      <td>1.388961e+06</td>\n",
       "      <td>0.238778</td>\n",
       "    </tr>\n",
       "    <tr>\n",
       "      <th>522</th>\n",
       "      <td>920</td>\n",
       "      <td>1.0</td>\n",
       "      <td>0</td>\n",
       "      <td>80.0</td>\n",
       "      <td>946606.0</td>\n",
       "      <td>1.464818e+06</td>\n",
       "      <td>-0.398452</td>\n",
       "    </tr>\n",
       "    <tr>\n",
       "      <th>740</th>\n",
       "      <td>1285</td>\n",
       "      <td>1.0</td>\n",
       "      <td>1</td>\n",
       "      <td>80.0</td>\n",
       "      <td>1025968.0</td>\n",
       "      <td>1.626103e+06</td>\n",
       "      <td>-0.691147</td>\n",
       "    </tr>\n",
       "  </tbody>\n",
       "</table>\n",
       "</div>"
      ],
      "text/plain": [
       "      RID  APOE4  DX   AGE  WholeBrain.bl           ICV  norm_brain\n",
       "139   230    0.0   0  80.0      1051053.0  1.714028e+06   -1.030522\n",
       "489   866    0.0   0  80.0       943825.0  1.388961e+06    0.238778\n",
       "522   920    1.0   0  80.0       946606.0  1.464818e+06   -0.398452\n",
       "740  1285    1.0   1  80.0      1025968.0  1.626103e+06   -0.691147"
      ]
     },
     "execution_count": 34,
     "metadata": {},
     "output_type": "execute_result"
    }
   ],
   "source": [
    "data_80yo"
   ]
  },
  {
   "cell_type": "markdown",
   "metadata": {},
   "source": [
    "<u>Fitting `DX` with `APOE4` and without on the restricted dataset:</u>\n",
    "\n",
    "At first we start with fitting `DX` with the intercept only:\n",
    "\n",
    "\\begin{align}\n",
    "p_i &= \\frac{\\exp(a)}{1 + \\exp(a)}\n",
    "\\end{align}\n",
    "\n",
    "Then we try fitting `DX` as we previously did with `APOE4`. We will reuse the previously stated model such that:\n",
    "\n",
    "\\begin{align}\n",
    "p_i &= \\frac{\\exp(a + b x_i)}{1 + \\exp(a + b x_i)}\n",
    "\\end{align}"
   ]
  },
  {
   "cell_type": "code",
   "execution_count": 35,
   "metadata": {},
   "outputs": [],
   "source": [
    "model_intercept_only_80yo = \"\"\"\n",
    "data {\n",
    "  int<lower=1> N;\n",
    "  int y[N];\n",
    "  real param1_a;\n",
    "  real<lower=0> param2_a;\n",
    "}\n",
    "parameters {\n",
    "  real a;\n",
    "}\n",
    "transformed parameters {\n",
    "  vector[N] p_i;\n",
    "  for (i in 1:N) {\n",
    "    p_i[i] = exp(a)/(1 + exp(a)); \n",
    "    }\n",
    "}\n",
    "model {\n",
    "  a ~ normal(param1_a, param2_a);\n",
    "  y ~ binomial(1, p_i);\n",
    "}\n",
    "\"\"\"\n",
    "\n",
    "stan_data_intercept_only_80yo = {\n",
    "    \"y\":        data_80yo['DX'],\n",
    "    \"param1_a\": 0, \"param2_a\": 10,\n",
    "    \"N\":        data_80yo.shape[0]\n",
    "}\n",
    "\n",
    "stan_data_APOE4_80yo = {\n",
    "    \"x\":        data_80yo[\"APOE4\"],\n",
    "    \"y\":        data_80yo['DX'],\n",
    "    \"param1_a\": 0, \"param2_a\": 10,\n",
    "    \"N\":        data_80yo.shape[0]\n",
    "}"
   ]
  },
  {
   "cell_type": "markdown",
   "metadata": {},
   "source": [
    "We now run our models.\n",
    "\n",
    "1. pystan model run for DX ~ N.A (only the intercept)"
   ]
  },
  {
   "cell_type": "code",
   "execution_count": 36,
   "metadata": {},
   "outputs": [
    {
     "name": "stderr",
     "output_type": "stream",
     "text": [
      "INFO:pystan:COMPILING THE C++ CODE FOR MODEL anon_model_403ffda6040bb7c0cac5882765e5cefa NOW.\n"
     ]
    },
    {
     "name": "stdout",
     "output_type": "stream",
     "text": [
      "Post-fitting diagnosis:\n",
      "{'n_eff': True, 'Rhat': True, 'divergence': True, 'treedepth': True, 'energy': True}\n"
     ]
    },
    {
     "data": {
      "image/png": "[encoded data removed]",
      "text/plain": [
       "<Figure size 432x288 with 1 Axes>"
      ]
     },
     "metadata": {
      "needs_background": "light"
     },
     "output_type": "display_data"
    }
   ],
   "source": [
    "posterior_intercept_only_80yo, waic_intercept_only_80yo = run_pystan_modeling(\n",
    "    data_80yo, model_intercept_only_80yo, \n",
    "    stan_data_intercept_only_80yo, [\"a\"],\n",
    "    sampling_size=5000 # we increase the number of samples from 1000 to 5000\n",
    ")"
   ]
  },
  {
   "cell_type": "markdown",
   "metadata": {},
   "source": [
    "2. pystan model run for DX ~ APOE4 with APOE4 described by a prior normal distribution"
   ]
  },
  {
   "cell_type": "code",
   "execution_count": 37,
   "metadata": {},
   "outputs": [
    {
     "name": "stderr",
     "output_type": "stream",
     "text": [
      "INFO:pystan:COMPILING THE C++ CODE FOR MODEL anon_model_0a22f20705718a96016e1cb4dce21872 NOW.\n"
     ]
    },
    {
     "name": "stdout",
     "output_type": "stream",
     "text": [
      "Post-fitting diagnosis:\n",
      "{'n_eff': True, 'Rhat': True, 'divergence': True, 'treedepth': True, 'energy': True}\n"
     ]
    },
    {
     "data": {
      "image/png": "[encoded data removed]",
      "text/plain": [
       "<Figure size 432x288 with 1 Axes>"
      ]
     },
     "metadata": {
      "needs_background": "light"
     },
     "output_type": "display_data"
    }
   ],
   "source": [
    "posterior_APOE4_normal_80yo, waic_APOE4_normal_80yo = run_pystan_modeling(\n",
    "    data_80yo, model+model_addon_APOE4_normal, \n",
    "    {**stan_data_APOE4_80yo, **APOE4_normal}, \n",
    "    [\"a\", \"b\"],\n",
    "    sampling_size=5000 # we increase the number of samples from 1000 to 5000\n",
    ")"
   ]
  },
  {
   "cell_type": "markdown",
   "metadata": {},
   "source": [
    "We print the posterior results for each model for visualization purposes:"
   ]
  },
  {
   "cell_type": "code",
   "execution_count": 38,
   "metadata": {},
   "outputs": [
    {
     "data": {
      "text/plain": [
       "Inference for Stan model: anon_model_403ffda6040bb7c0cac5882765e5cefa.\n",
       "4 chains, each with iter=4000; warmup=2000; thin=1; \n",
       "post-warmup draws per chain=2000, total post-warmup draws=8000.\n",
       "\n",
       "         mean se_mean     sd   2.5%    25%    50%    75%  97.5%  n_eff   Rhat\n",
       "a       -1.43    0.03   1.36  -4.48  -2.21   -1.3  -0.52   0.91   2709    1.0\n",
       "p_i[1]   0.26  3.5e-3   0.19   0.01    0.1   0.21   0.37   0.71   3045    1.0\n",
       "p_i[2]   0.26  3.5e-3   0.19   0.01    0.1   0.21   0.37   0.71   3045    1.0\n",
       "p_i[3]   0.26  3.5e-3   0.19   0.01    0.1   0.21   0.37   0.71   3045    1.0\n",
       "p_i[4]   0.26  3.5e-3   0.19   0.01    0.1   0.21   0.37   0.71   3045    1.0\n",
       "lp__    -2.81    0.01   0.77  -4.98  -3.01  -2.51  -2.31  -2.26   2927    1.0\n",
       "\n",
       "Samples were drawn using NUTS at Thu Dec 16 20:43:18 2021.\n",
       "For each parameter, n_eff is a crude measure of effective sample size,\n",
       "and Rhat is the potential scale reduction factor on split chains (at \n",
       "convergence, Rhat=1)."
      ]
     },
     "execution_count": 38,
     "metadata": {},
     "output_type": "execute_result"
    }
   ],
   "source": [
    "posterior_intercept_only_80yo"
   ]
  },
  {
   "cell_type": "code",
   "execution_count": 39,
   "metadata": {
    "scrolled": false
   },
   "outputs": [
    {
     "data": {
      "text/plain": [
       "Inference for Stan model: anon_model_0a22f20705718a96016e1cb4dce21872.\n",
       "4 chains, each with iter=4000; warmup=2000; thin=1; \n",
       "post-warmup draws per chain=2000, total post-warmup draws=8000.\n",
       "\n",
       "         mean se_mean     sd   2.5%    25%    50%    75%  97.5%  n_eff   Rhat\n",
       "a       -6.08    0.13   4.23 -16.09   -8.5  -5.41   -2.9  -0.05   1069   1.01\n",
       "b        5.89    0.13   4.46  -1.22    2.6   5.36   8.56  16.07   1163   1.01\n",
       "p_i[1]   0.06  2.8e-3   0.13 1.0e-7 2.0e-4 4.5e-3   0.05   0.49   2249    1.0\n",
       "p_i[2]   0.06  2.8e-3   0.13 1.0e-7 2.0e-4 4.5e-3   0.05   0.49   2249    1.0\n",
       "p_i[3]   0.47  3.4e-3   0.29   0.02   0.22   0.46   0.71   0.96   7002    1.0\n",
       "p_i[4]   0.47  3.4e-3   0.29   0.02   0.22   0.46   0.71   0.96   7002    1.0\n",
       "lp__     -2.7    0.03   1.11  -5.68  -3.14  -2.37  -1.92   -1.6   1492    1.0\n",
       "\n",
       "Samples were drawn using NUTS at Thu Dec 16 20:43:58 2021.\n",
       "For each parameter, n_eff is a crude measure of effective sample size,\n",
       "and Rhat is the potential scale reduction factor on split chains (at \n",
       "convergence, Rhat=1)."
      ]
     },
     "execution_count": 39,
     "metadata": {},
     "output_type": "execute_result"
    }
   ],
   "source": [
    "posterior_APOE4_normal_80yo"
   ]
  },
  {
   "cell_type": "markdown",
   "metadata": {},
   "source": [
    "For the two models (resulting from only taking the intercept, or using the normal distribution as prior for the covariate `APOE4`), we check the 95% confidence interval for the covariate parameters $a$ (for the intercept case) or $b$.\n",
    "\n",
    "Then we print the WAIC for the model `DX ~ APOE4` and `DX` modeled with only the intercept for comparison purposes."
   ]
  },
  {
   "cell_type": "code",
   "execution_count": 40,
   "metadata": {
    "scrolled": true
   },
   "outputs": [
    {
     "name": "stdout",
     "output_type": "stream",
     "text": [
      "95% confidence interval for parameter a:\n",
      "2.5% threshold:\t\t-4.478393797562482\n",
      "mean:\t\t\t-1.3044496122625917\n",
      "97.5% threshold:\t0.9125265641146841\n"
     ]
    }
   ],
   "source": [
    "print_95CI_param(posterior_intercept_only_80yo, \"a\")"
   ]
  },
  {
   "cell_type": "code",
   "execution_count": 41,
   "metadata": {},
   "outputs": [
    {
     "name": "stdout",
     "output_type": "stream",
     "text": [
      "95% confidence interval for parameter a:\n",
      "2.5% threshold:\t\t-16.08507499803026\n",
      "mean:\t\t\t-5.406708280540884\n",
      "97.5% threshold:\t-0.050826225331526344\n",
      "\n",
      "95% confidence interval for parameter b:\n",
      "2.5% threshold:\t\t-1.2180361358245202\n",
      "mean:\t\t\t5.356588325597457\n",
      "97.5% threshold:\t16.070195400890903\n"
     ]
    }
   ],
   "source": [
    "print_95CI_param(posterior_APOE4_normal_80yo, \"a\");print(\"\")\n",
    "print_95CI_param(posterior_APOE4_normal_80yo, \"b\")"
   ]
  },
  {
   "cell_type": "code",
   "execution_count": 42,
   "metadata": {},
   "outputs": [
    {
     "name": "stdout",
     "output_type": "stream",
     "text": [
      "Baseline probability of disease: \n",
      "\n",
      "5%  : 0.021204321041385737\n",
      "50% : 0.21341710696696226\n",
      "95% : 0.6351471781965288\n"
     ]
    }
   ],
   "source": [
    "est_a = posterior_intercept_only_80yo.extract()['a']\n",
    "quantiles_a = np.quantile(est_a, [0.05, 0.5, 0.95])\n",
    "\n",
    "logistic_a_5 = np.exp(quantiles_a[0])/(1 + np.exp(quantiles_a[0]))\n",
    "logistic_a_50 = np.exp(quantiles_a[1])/(1 + np.exp(quantiles_a[1]))\n",
    "logistic_a_95 = np.exp(quantiles_a[2])/(1 + np.exp(quantiles_a[2]))\n",
    "\n",
    "print('Baseline probability of disease: \\n')\n",
    "print('5%  :', logistic_a_5)\n",
    "print('50% :', logistic_a_50)\n",
    "print('95% :', logistic_a_95)"
   ]
  },
  {
   "cell_type": "code",
   "execution_count": 43,
   "metadata": {},
   "outputs": [
    {
     "name": "stdout",
     "output_type": "stream",
     "text": [
      "Case with APOE4 modeled by a normal distribution:\n",
      "Baseline probability of disease:\n",
      "5%  : 8.127234358276724e-07\n",
      "50% : 0.0044663461060583595\n",
      "95% : 0.3613733091501133\n",
      "Probability increase for unit increase in APOE4 gene expression (parameter 'a' at lowest quantile):\n",
      "5%  : 5.930126917307226e-07\n",
      "50% : 0.0001722681803562652\n",
      "95% : 0.5039277449716016\n",
      "\n",
      "\n"
     ]
    }
   ],
   "source": [
    "print_probability_increase(\n",
    "    posterior_APOE4_normal_80yo, \n",
    "    \"Case with APOE4 modeled by a normal distribution:\"\n",
    ")"
   ]
  },
  {
   "cell_type": "code",
   "execution_count": 44,
   "metadata": {},
   "outputs": [
    {
     "name": "stdout",
     "output_type": "stream",
     "text": [
      "WAIC of model DX ~ n.a. (intercept only):\t7.568616949014309\n",
      "WAIC of model DX ~ APOE4 (normal):\t\t7.054469122909131\n"
     ]
    }
   ],
   "source": [
    "print(f\"WAIC of model DX ~ n.a. (intercept only):\\t{waic_intercept_only_80yo}\",\n",
    "      f\"WAIC of model DX ~ APOE4 (normal):\\t\\t{waic_APOE4_normal_80yo}\",\n",
    "      sep=\"\\n\")"
   ]
  },
  {
   "cell_type": "markdown",
   "metadata": {},
   "source": [
    "<u>Observations on the impact of `APOE4` in predicting Alzheimer's disease in patients that are 80 years old:</u>\n",
    "\n",
    "Using the WAIC measure, we see that including the `APOE4` variable with the prior normal distribution is positively impacting the accuracy of a prediction of Alzheimer's disease in patients that are 80 years old, i.e. the WAIC goes down. Because out of four patients, two have the gene and the diseased patient is a gene carrier, roughly speaking, knowing that a patient has a gene should improve the expected probability of having the disease for this sample of 80-year-old patients. \n",
    "\n",
    "Of note:\n",
    "- Given the small amount of data (4 patients) and that only one out of four is actually diagnosed with the disease, adding the `APOE4` variable to the model seems limited in use. For instance on the `DX ~ APOE4` model, we find that the 95% confidence interval for the `APOE4` coefficient straddles positive and negative ranges.\n",
    "- As such, we should be prudent about any conclusion here as the decrease in WAIC is only small and the probability increase for unit increase in `APOE4` gene expression seems to be skewed only at higher quantiles. We may have too few data points here to derive actual value from the subsample.\n",
    "\n",
    "<hr>\n",
    "\n",
    "####  <u>Question 3: Comparison between the models `DX ~ AGE + APOE4` and `DX ~ norm_brain`:</u>\n",
    " \n",
    "We start with reproducing the model `DX ~ norm_brain` with `norm_brain` representing the size of the brain of a patient."
   ]
  },
  {
   "cell_type": "code",
   "execution_count": 45,
   "metadata": {},
   "outputs": [],
   "source": [
    "# Declares the data to send to the pystan model for\n",
    "# the covariate norm_brain\n",
    "stan_data_normbrain = {\n",
    "    \"x\":        data[\"norm_brain\"],\n",
    "    \"y\":        data['DX'],\n",
    "    \"param1_a\": 0, \"param2_a\": 10,\n",
    "    \"param1_b\": 0, \"param2_b\": 10,\n",
    "    \"N\":        data.shape[0]\n",
    "}"
   ]
  },
  {
   "cell_type": "code",
   "execution_count": 46,
   "metadata": {},
   "outputs": [
    {
     "name": "stderr",
     "output_type": "stream",
     "text": [
      "INFO:pystan:COMPILING THE C++ CODE FOR MODEL anon_model_62803ab0ce3a609de8e59ec3a2120226 NOW.\n"
     ]
    },
    {
     "name": "stdout",
     "output_type": "stream",
     "text": [
      "Post-fitting diagnosis:\n",
      "{'n_eff': True, 'Rhat': True, 'divergence': True, 'treedepth': True, 'energy': True}\n"
     ]
    },
    {
     "data": {
      "image/png": "[encoded data removed]",
      "text/plain": [
       "<Figure size 432x288 with 1 Axes>"
      ]
     },
     "metadata": {
      "needs_background": "light"
     },
     "output_type": "display_data"
    }
   ],
   "source": [
    "# pystan model run for DX ~ norm_brain\n",
    "posterior_normbrain, waic_normbrain = run_pystan_modeling(\n",
    "    data, model+model_addon_AGE, \n",
    "    stan_data_normbrain, [\"a\", \"b\"]\n",
    ")"
   ]
  },
  {
   "cell_type": "code",
   "execution_count": 47,
   "metadata": {
    "scrolled": true
   },
   "outputs": [
    {
     "name": "stderr",
     "output_type": "stream",
     "text": [
      "WARNING:pystan:Truncated summary with the 'fit.__repr__' method. For the full summary use 'print(fit)'\n"
     ]
    },
    {
     "data": {
      "text/plain": [
       "\n",
       "Warning: Shown data is truncated to 100 parameters\n",
       "For the full summary use 'print(fit)'\n",
       "\n",
       "Inference for Stan model: anon_model_62803ab0ce3a609de8e59ec3a2120226.\n",
       "4 chains, each with iter=4000; warmup=2000; thin=1; \n",
       "post-warmup draws per chain=2000, total post-warmup draws=8000.\n",
       "\n",
       "          mean se_mean     sd   2.5%    25%    50%    75%  97.5%  n_eff   Rhat\n",
       "a        -0.58  1.1e-3   0.08  -0.74  -0.64  -0.58  -0.52  -0.42   5542    1.0\n",
       "b        -1.15  1.3e-3    0.1  -1.35  -1.22  -1.15  -1.08  -0.96   5370    1.0\n",
       "p_i[1]    0.61  2.8e-4   0.03   0.56    0.6   0.61   0.63   0.66   8043    1.0\n",
       "p_i[2]    0.76  3.3e-4   0.03    0.7   0.74   0.76   0.78   0.81   7185    1.0\n",
       "p_i[3]    0.29  2.7e-4   0.02   0.26   0.28   0.29   0.31   0.33   4900    1.0\n",
       "p_i[4]    0.46  2.4e-4   0.02   0.42   0.45   0.46   0.48    0.5   7182    1.0\n",
       "p_i[5]     0.3  2.7e-4   0.02   0.26   0.29    0.3   0.31   0.34   4934    1.0\n",
       "p_i[6]     0.2  2.8e-4   0.02   0.17   0.19    0.2   0.22   0.24   4571    1.0\n",
       "p_i[7]     0.3  2.7e-4   0.02   0.27   0.29    0.3   0.31   0.34   4959    1.0\n",
       "p_i[8]    0.57  2.6e-4   0.02   0.52   0.55   0.57   0.58   0.62   8078    1.0\n",
       "p_i[9]    0.24  2.8e-4   0.02   0.21   0.23   0.24   0.25   0.28   4647    1.0\n",
       "p_i[10]   0.46  2.4e-4   0.02   0.42   0.45   0.46   0.48    0.5   7176    1.0\n",
       "p_i[11]   0.31  2.6e-4   0.02   0.27    0.3   0.31   0.32   0.35   5009    1.0\n",
       "p_i[12]   0.22  2.8e-4   0.02   0.18    0.2   0.22   0.23   0.26   4590    1.0\n",
       "p_i[13]   0.38  2.5e-4   0.02   0.34   0.36   0.38   0.39   0.41   5811    1.0\n",
       "p_i[14]   0.49  2.4e-4   0.02   0.44   0.47   0.49    0.5   0.53   7512    1.0\n",
       "p_i[15]   0.26  2.7e-4   0.02   0.23   0.25   0.26   0.28    0.3   4736    1.0\n",
       "p_i[16]    0.2  2.8e-4   0.02   0.16   0.18    0.2   0.21   0.24   4564    1.0\n",
       "p_i[17]   0.68  3.1e-4   0.03   0.63   0.66   0.68    0.7   0.73   7703    1.0\n",
       "p_i[18]   0.49  2.4e-4   0.02   0.44   0.47   0.49    0.5   0.53   7518    1.0\n",
       "p_i[19]   0.63  2.9e-4   0.03   0.58   0.62   0.63   0.65   0.69   7970    1.0\n",
       "p_i[20]   0.35  2.5e-4   0.02   0.31   0.34   0.35   0.36   0.39   5439    1.0\n",
       "p_i[21]   0.75  3.3e-4   0.03   0.69   0.73   0.75   0.77    0.8   7229    1.0\n",
       "p_i[22]   0.65  3.0e-4   0.03    0.6   0.63   0.65   0.67    0.7   7903    1.0\n",
       "p_i[23]    0.2  2.8e-4   0.02   0.17   0.19    0.2   0.21   0.24   4568    1.0\n",
       "p_i[24]   0.19  2.8e-4   0.02   0.15   0.17   0.19    0.2   0.22   4557    1.0\n",
       "p_i[25]   0.24  2.8e-4   0.02    0.2   0.23   0.24   0.25   0.28   4642    1.0\n",
       "p_i[26]   0.58  2.7e-4   0.02   0.53   0.56   0.58    0.6   0.63   8097    1.0\n",
       "p_i[27]   0.39  2.4e-4   0.02   0.35   0.38   0.39    0.4   0.43   6016    1.0\n",
       "p_i[28]   0.24  2.8e-4   0.02    0.2   0.22   0.24   0.25   0.27   4630    1.0\n",
       "p_i[29]    0.3  2.7e-4   0.02   0.26   0.29    0.3   0.31   0.34   4935    1.0\n",
       "p_i[30]   0.26  2.8e-4   0.02   0.22   0.25   0.26   0.27    0.3   4707    1.0\n",
       "p_i[31]    0.3  2.7e-4   0.02   0.26   0.29    0.3   0.31   0.34   4936    1.0\n",
       "p_i[32]    0.2  2.8e-4   0.02   0.16   0.19    0.2   0.21   0.24   4565    1.0\n",
       "p_i[33]   0.69  3.1e-4   0.03   0.63   0.67   0.69   0.71   0.74   7639    1.0\n",
       "p_i[34]   0.61  2.8e-4   0.03   0.56   0.59   0.61   0.62   0.66   8083    1.0\n",
       "p_i[35]   0.58  2.7e-4   0.02   0.53   0.57   0.58    0.6   0.63   8099    1.0\n",
       "p_i[36]    0.7  3.2e-4   0.03   0.64   0.68    0.7   0.72   0.75   7559    1.0\n",
       "p_i[37]   0.47  2.4e-4   0.02   0.43   0.46   0.47   0.49   0.51   7298    1.0\n",
       "p_i[38]   0.52  2.5e-4   0.02   0.48   0.51   0.52   0.54   0.57   7896    1.0\n",
       "p_i[39]   0.51  2.5e-4   0.02   0.47    0.5   0.51   0.52   0.55   7791    1.0\n",
       "p_i[40]   0.24  2.8e-4   0.02   0.21   0.23   0.24   0.26   0.28   4654    1.0\n",
       "p_i[41]   0.55  2.6e-4   0.02   0.51   0.54   0.55   0.57    0.6   8026    1.0\n",
       "p_i[42]   0.12  2.5e-4   0.02   0.09   0.11   0.12   0.13   0.15   4607    1.0\n",
       "p_i[43]   0.82  3.2e-4   0.03   0.77    0.8   0.82   0.84   0.87   6940    1.0\n",
       "p_i[44]   0.58  2.7e-4   0.02   0.53   0.56   0.58    0.6   0.63   8096    1.0\n",
       "p_i[45]   0.24  2.8e-4   0.02    0.2   0.23   0.24   0.25   0.28   4641    1.0\n",
       "p_i[46]   0.79  3.3e-4   0.03   0.73   0.77   0.79   0.81   0.84   7030    1.0\n",
       "p_i[47]    0.4  2.4e-4   0.02   0.36   0.39    0.4   0.41   0.44   6158    1.0\n",
       "p_i[48]   0.43  2.4e-4   0.02    0.4   0.42   0.43   0.45   0.47   6682    1.0\n",
       "p_i[49]   0.64  2.9e-4   0.03   0.59   0.62   0.64   0.66   0.69   7947    1.0\n",
       "p_i[50]   0.67  3.0e-4   0.03   0.61   0.65   0.67   0.69   0.72   7818    1.0\n",
       "p_i[51]   0.59  2.7e-4   0.02   0.54   0.57   0.59   0.61   0.64   8104    1.0\n",
       "p_i[52]    0.7  3.2e-4   0.03   0.64   0.68    0.7   0.72   0.75   7558    1.0\n",
       "p_i[53]   0.16  2.7e-4   0.02   0.13   0.15   0.16   0.17    0.2   4560    1.0\n",
       "p_i[54]   0.56  2.6e-4   0.02   0.52   0.55   0.56   0.58   0.61   8065    1.0\n",
       "p_i[55]   0.42  2.4e-4   0.02   0.38   0.41   0.42   0.43   0.46   6473    1.0\n",
       "p_i[56]   0.48  2.4e-4   0.02   0.44   0.47   0.48    0.5   0.52   7423    1.0\n",
       "p_i[57]   0.56  2.6e-4   0.02   0.52   0.55   0.56   0.58   0.61   8064    1.0\n",
       "p_i[58]   0.31  2.6e-4   0.02   0.27    0.3   0.31   0.32   0.35   5019    1.0\n",
       "p_i[59]    0.4  2.4e-4   0.02   0.36   0.39    0.4   0.42   0.44   6196    1.0\n",
       "p_i[60]   0.46  2.4e-4   0.02   0.42   0.44   0.46   0.47    0.5   7055    1.0\n",
       "p_i[61]   0.51  2.4e-4   0.02   0.46   0.49   0.51   0.52   0.55   7760    1.0\n",
       "p_i[62]   0.43  2.4e-4   0.02   0.39   0.41   0.43   0.44   0.46   6576    1.0\n",
       "p_i[63]   0.21  2.8e-4   0.02   0.17    0.2   0.21   0.22   0.25   4577    1.0\n",
       "p_i[64]   0.41  2.4e-4   0.02   0.38    0.4   0.41   0.43   0.45   6388    1.0\n",
       "p_i[65]   0.46  2.4e-4   0.02   0.42   0.45   0.46   0.48    0.5   7174    1.0\n",
       "p_i[66]   0.85  3.1e-4   0.03   0.79   0.83   0.85   0.86   0.89   6863    1.0\n",
       "p_i[67]   0.52  2.5e-4   0.02   0.48   0.51   0.52   0.54   0.57   7882    1.0\n",
       "p_i[68]   0.24  2.8e-4   0.02   0.21   0.23   0.24   0.26   0.28   4651    1.0\n",
       "p_i[69]    0.5  2.4e-4   0.02   0.46   0.49    0.5   0.52   0.54   7725    1.0\n",
       "p_i[70]   0.81  3.2e-4   0.03   0.76    0.8   0.82   0.83   0.86   6961    1.0\n",
       "p_i[71]   0.66  3.0e-4   0.03   0.61   0.64   0.66   0.68   0.71   7847    1.0\n",
       "p_i[72]   0.15  2.7e-4   0.02   0.12   0.14   0.15   0.16   0.19   4566    1.0\n",
       "p_i[73]    0.5  2.4e-4   0.02   0.46   0.49    0.5   0.52   0.54   7720    1.0\n",
       "p_i[74]   0.54  2.5e-4   0.02    0.5   0.53   0.54   0.56   0.59   7983    1.0\n",
       "p_i[75]   0.45  2.4e-4   0.02   0.41   0.44   0.45   0.47   0.49   7004    1.0\n",
       "p_i[76]   0.27  2.7e-4   0.02   0.23   0.25   0.27   0.28    0.3   4745    1.0\n",
       "p_i[77]   0.55  2.6e-4   0.02    0.5   0.54   0.55   0.57    0.6   8025    1.0\n",
       "p_i[78]   0.66  3.0e-4   0.03   0.61   0.64   0.66   0.68   0.71   7862    1.0\n",
       "p_i[79]   0.71  3.2e-4   0.03   0.66    0.7   0.71   0.73   0.77   7463    1.0\n",
       "p_i[80]   0.75  3.3e-4   0.03   0.69   0.73   0.75   0.76    0.8   7268    1.0\n",
       "p_i[81]   0.46  2.4e-4   0.02   0.41   0.44   0.45   0.47   0.49   7028    1.0\n",
       "p_i[82]    0.8  3.3e-4   0.03   0.74   0.78    0.8   0.81   0.85   7016    1.0\n",
       "p_i[83]   0.25  2.8e-4   0.02   0.21   0.23   0.25   0.26   0.28   4660    1.0\n",
       "p_i[84]   0.65  3.0e-4   0.03   0.59   0.63   0.65   0.66    0.7   7918    1.0\n",
       "p_i[85]   0.61  2.8e-4   0.03   0.56    0.6   0.61   0.63   0.66   8039    1.0\n",
       "p_i[86]   0.28  2.7e-4   0.02   0.24   0.26   0.28   0.29   0.31   4788    1.0\n",
       "p_i[87]   0.61  2.8e-4   0.03   0.56   0.59   0.61   0.63   0.66   8059    1.0\n",
       "p_i[88]   0.51  2.4e-4   0.02   0.46   0.49   0.51   0.52   0.55   7765    1.0\n",
       "p_i[89]   0.26  2.8e-4   0.02   0.23   0.25   0.26   0.27    0.3   4721    1.0\n",
       "p_i[90]   0.41  2.4e-4   0.02   0.37   0.39   0.41   0.42   0.44   6279    1.0\n",
       "p_i[91]    0.7  3.2e-4   0.03   0.64   0.68    0.7   0.72   0.75   7563    1.0\n",
       "p_i[92]   0.24  2.8e-4   0.02    0.2   0.22   0.24   0.25   0.27   4629    1.0\n",
       "p_i[93]    0.3  2.7e-4   0.02   0.26   0.29    0.3   0.31   0.34   4944    1.0\n",
       "p_i[94]   0.66  3.0e-4   0.03    0.6   0.64   0.66   0.68   0.71   7864    1.0\n",
       "p_i[95]    0.4  2.4e-4   0.02   0.36   0.39    0.4   0.41   0.44   6189    1.0\n",
       "p_i[96]    0.2  2.8e-4   0.02   0.16   0.19    0.2   0.21   0.24   4566    1.0\n",
       "p_i[97]   0.64  2.9e-4   0.03   0.59   0.62   0.64   0.66   0.69   7949    1.0\n",
       "lp__    -460.1    0.02   1.02 -462.9 -460.5 -459.8 -459.4 -459.1   3624    1.0\n",
       "\n",
       "Samples were drawn using NUTS at Thu Dec 16 20:44:41 2021.\n",
       "For each parameter, n_eff is a crude measure of effective sample size,\n",
       "and Rhat is the potential scale reduction factor on split chains (at \n",
       "convergence, Rhat=1)."
      ]
     },
     "execution_count": 47,
     "metadata": {},
     "output_type": "execute_result"
    }
   ],
   "source": [
    "posterior_normbrain"
   ]
  },
  {
   "cell_type": "code",
   "execution_count": 48,
   "metadata": {},
   "outputs": [
    {
     "name": "stdout",
     "output_type": "stream",
     "text": [
      "95% confidence interval for parameter b:\n",
      "2.5% threshold:\t\t-1.3489223838707163\n",
      "mean:\t\t\t-1.1498190029162667\n",
      "97.5% threshold:\t-0.962081515728559\n"
     ]
    }
   ],
   "source": [
    "print_95CI_param(posterior_normbrain, \"b\")"
   ]
  },
  {
   "cell_type": "markdown",
   "metadata": {},
   "source": [
    "To compare the two models, we print their WAIC side by side ***reusing the results obtained in the question 2.1***:"
   ]
  },
  {
   "cell_type": "code",
   "execution_count": 49,
   "metadata": {},
   "outputs": [
    {
     "name": "stdout",
     "output_type": "stream",
     "text": [
      "WAIC of model DX ~ AGE + APOE4 (prior normal distribution):\t951.9810056175705\n",
      "WAIC of model DX ~ norm_brain:\t\t\t\t\t922.2296614146568\n"
     ]
    }
   ],
   "source": [
    "print(f\"WAIC of model DX ~ AGE + APOE4 (prior normal distribution):\\t{waic_2preds_normal}\",\n",
    "      f\"WAIC of model DX ~ norm_brain:\\t\\t\\t\\t\\t{waic_normbrain}\",\n",
    "      sep=\"\\n\")"
   ]
  },
  {
   "cell_type": "markdown",
   "metadata": {},
   "source": [
    "<u>Observations on `DX ~ AGE + APOE4` and `DX ~ norm_brain`:</u>\n",
    " \n",
    "After reproducing the model `DX ~ norm_brain` with `norm_brain` representing the size of the brain of a patient and displaying its WAIC next to that of the model `DX ~ AGE + APOE4` (we restricted our model choice to the one that provided the most stable results throughout this study, i.e. with the normal prior distribution for `APOE4`), we find that the former model (i.e. `DX ~ norm_brain` is the best: \n",
    "\n",
    "> `DX ~ norm_brain` has the lowest WAIC, which is our metric to discriminate between models.\n",
    ">\n",
    "> As such, we would choose `DX ~ norm_brain` over `DX ~ AGE + APOE4`"
   ]
  },
  {
   "cell_type": "code",
   "execution_count": null,
   "metadata": {},
   "outputs": [],
   "source": []
  }
 ],
 "metadata": {
  "kernelspec": {
   "display_name": "Python [conda env:pystan_env]",
   "language": "python",
   "name": "conda-env-pystan_env-py"
  },
  "language_info": {
   "codemirror_mode": {
    "name": "ipython",
    "version": 3
   },
   "file_extension": ".py",
   "mimetype": "text/x-python",
   "name": "python",
   "nbconvert_exporter": "python",
   "pygments_lexer": "ipython3",
   "version": "3.6.13"
  }
 },
 "nbformat": 4,
 "nbformat_minor": 2
}
