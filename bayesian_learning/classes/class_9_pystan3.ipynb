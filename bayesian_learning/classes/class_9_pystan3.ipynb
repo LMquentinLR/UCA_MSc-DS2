{
 "cells": [
  {
   "cell_type": "markdown",
   "metadata": {},
   "source": [
    "## Comparing Bayesian Models: The Widely Applicable Information Criterion\n",
    "   \n",
    "The Widely Applicable Information Criterion (WAIC) is an information criterion (such as AIC or BIC) that can be used in Bayesian models. The interesting aspect of the WAIC is that it is completely based on the likelihood of the posterior predictions. To compute the WAIC we have simply to be able to compute samples from the posterior, no matter which kind of posterior we are working with.\n",
    "\n",
    "Let's $y_i$ be a target point in the training sample, we define $Pr(y_i)$ the average likelihood of the point under our model. This means that for each combination of posterior parameters of our model we can compute the associated likelihood of the point, and then average across all the likelihoods. This quantity is called *log-pointwise-predictive-density* (lppd):\n",
    "\n",
    "$$ lppd = \\sum_{i=1}^N \\log[Pr(y_i)]. $$\n",
    "\n",
    "This is the equivalent of the deviance that is computed when computing the AIC. \n",
    "While *lppd* accounts for model fit, the second part of WAIC should penalize model complexity. Instead of computing the number of parameters, as in AIC or BIC, WAIC computed the variance $V(y_i)$ of the log-likelihood associated to each data point. In practice, we compute the likelihood of $y_i$ for each combination of parameters from our posterior, and then we compute the variance of these quantities. We therefore define the effective number of parameters $p_{WAIC}$ as:\n",
    "\n",
    "$$ p_{WAIC} = \\sum_{i=1}^N V(y_i) .$$\n",
    "\n",
    "WAIC is finally defined as \n",
    "\n",
    "$$ WAIC = -2 (lppd - p_{WAIC}) $$\n",
    "\n"
   ]
  },
  {
   "cell_type": "code",
   "execution_count": 1,
   "metadata": {},
   "outputs": [
    {
     "data": {
      "text/plain": [
       "<matplotlib.collections.PathCollection at 0x7f4b7690c670>"
      ]
     },
     "execution_count": 1,
     "metadata": {},
     "output_type": "execute_result"
    },
    {
     "data": {
      "image/png": "[encoded data removed]",
      "text/plain": [
       "<Figure size 432x288 with 1 Axes>"
      ]
     },
     "metadata": {
      "needs_background": "light"
     },
     "output_type": "display_data"
    }
   ],
   "source": [
    "import numpy as np\n",
    "import pandas as pd\n",
    "import matplotlib.pyplot as plt\n",
    "import scipy\n",
    "from scipy.stats import norm\n",
    "\n",
    "N = 20\n",
    "noise = 0.3\n",
    "x = np.linspace(0,1,N)\n",
    "y = np.sin(x*3) + noise * np.random.randn(N)\n",
    "\n",
    "data_synth = pd.DataFrame({'x' : x, 'y' : y})\n",
    "\n",
    "plt.scatter(x,y)"
   ]
  },
  {
   "cell_type": "code",
   "execution_count": 2,
   "metadata": {},
   "outputs": [
    {
     "name": "stdout",
     "output_type": "stream",
     "text": [
      "      fun: 17.043883744922965\n",
      " hess_inv: array([[ 1.05438562e-02, -8.57180172e-05],\n",
      "       [-8.57180172e-05,  5.23328212e-03]])\n",
      "      jac: array([4.76837158e-07, 0.00000000e+00])\n",
      "  message: 'Optimization terminated successfully.'\n",
      "     nfev: 42\n",
      "      nit: 9\n",
      "     njev: 14\n",
      "   status: 0\n",
      "  success: True\n",
      "        x: array([0.50605991, 0.46121491])\n"
     ]
    },
    {
     "name": "stderr",
     "output_type": "stream",
     "text": [
      "/home/quentin/anaconda3/lib/python3.8/site-packages/scipy/optimize/_numdiff.py:557: RuntimeWarning: invalid value encountered in subtract\n",
      "  df = fun(x) - f0\n",
      "/home/quentin/anaconda3/lib/python3.8/site-packages/scipy/optimize/_numdiff.py:557: RuntimeWarning: invalid value encountered in subtract\n",
      "  df = fun(x) - f0\n"
     ]
    },
    {
     "name": "stdout",
     "output_type": "stream",
     "text": [
      "      fun: 19.552988432168807\n",
      " hess_inv: array([[ 3.74513838e-02, -5.47563206e-02, -9.24402064e-06],\n",
      "       [-5.47563206e-02,  1.09938993e-01, -5.35132372e-05],\n",
      "       [-9.24402064e-06, -5.35132372e-05,  5.30521708e-03]])\n",
      "      jac: array([4.76837158e-07, 2.38418579e-07, 2.38418579e-07])\n",
      "  message: 'Optimization terminated successfully.'\n",
      "     nfev: 127\n",
      "      nit: 17\n",
      "     njev: 31\n",
      "   status: 0\n",
      "  success: True\n",
      "        x: array([ 0.53929192, -0.06649137,  0.46075265])\n",
      "      fun: 12.408491455783697\n",
      " hess_inv: array([[ 2.91410056e-02, -1.12087152e-01,  8.93566420e-02,\n",
      "         4.23587270e-04],\n",
      "       [-1.12087152e-01,  6.08925085e-01, -5.58743243e-01,\n",
      "        -2.30826951e-03],\n",
      "       [ 8.93566420e-02, -5.58743243e-01,  5.52864706e-01,\n",
      "         2.28093271e-03],\n",
      "       [ 4.23587270e-04, -2.30826951e-03,  2.28093271e-03,\n",
      "         1.89798522e-03]])\n",
      "      jac: array([ 2.38418579e-07,  2.38418579e-07,  0.00000000e+00, -2.38418579e-07])\n",
      "  message: 'Optimization terminated successfully.'\n",
      "     nfev: 145\n",
      "      nit: 21\n",
      "     njev: 29\n",
      "   status: 0\n",
      "  success: True\n",
      "        x: array([-0.13939727,  4.25206511, -4.32714525,  0.27387978])\n"
     ]
    },
    {
     "name": "stderr",
     "output_type": "stream",
     "text": [
      "/home/quentin/anaconda3/lib/python3.8/site-packages/scipy/optimize/_numdiff.py:557: RuntimeWarning: invalid value encountered in subtract\n",
      "  df = fun(x) - f0\n",
      "/home/quentin/anaconda3/lib/python3.8/site-packages/scipy/optimize/_numdiff.py:557: RuntimeWarning: invalid value encountered in subtract\n",
      "  df = fun(x) - f0\n"
     ]
    },
    {
     "name": "stdout",
     "output_type": "stream",
     "text": [
      "      fun: 14.249204626860891\n",
      " hess_inv: array([[ 3.04971445e-02, -1.68416961e-01,  2.64420157e-01,\n",
      "        -1.25105295e-01,  2.37593408e-04],\n",
      "       [-1.68416961e-01,  1.60513799e+00, -3.34395684e+00,\n",
      "         1.93392306e+00, -2.00101569e-03],\n",
      "       [ 2.64420157e-01, -3.34395684e+00,  8.16071966e+00,\n",
      "        -5.25556621e+00,  3.15905628e-03],\n",
      "       [-1.25105295e-01,  1.93392306e+00, -5.25556621e+00,\n",
      "         3.63223635e+00, -1.14573721e-03],\n",
      "       [ 2.37593408e-04, -2.00101569e-03,  3.15905628e-03,\n",
      "        -1.14573721e-03,  1.82936824e-03]])\n",
      "      jac: array([-1.90734863e-06, -1.43051147e-06, -7.15255737e-07, -4.76837158e-07,\n",
      "        2.98023224e-06])\n",
      "  message: 'Optimization terminated successfully.'\n",
      "     nfev: 246\n",
      "      nit: 22\n",
      "     njev: 40\n",
      "   status: 0\n",
      "  success: True\n",
      "        x: array([-0.06064131,  3.03066052, -1.02679902, -2.26909984,  0.27035558])\n"
     ]
    },
    {
     "name": "stderr",
     "output_type": "stream",
     "text": [
      "/home/quentin/anaconda3/lib/python3.8/site-packages/scipy/optimize/_numdiff.py:557: RuntimeWarning: invalid value encountered in subtract\n",
      "  df = fun(x) - f0\n",
      "/home/quentin/anaconda3/lib/python3.8/site-packages/scipy/optimize/_numdiff.py:557: RuntimeWarning: invalid value encountered in subtract\n",
      "  df = fun(x) - f0\n"
     ]
    },
    {
     "name": "stdout",
     "output_type": "stream",
     "text": [
      "      fun: 16.736415995524577\n",
      " hess_inv: array([[ 3.53260043e-02, -2.00839657e-01,  2.63700013e-01,\n",
      "        -1.55239723e-03, -9.91037080e-02,  8.72005508e-04],\n",
      "       [-2.00839657e-01,  1.77471656e+00, -3.30530467e+00,\n",
      "         1.25425548e+00,  5.18983043e-01, -7.59452485e-03],\n",
      "       [ 2.63700013e-01, -3.30530467e+00,  9.09360326e+00,\n",
      "        -8.16341623e+00,  2.01130395e+00,  1.32375374e-02],\n",
      "       [-1.55239723e-03,  1.25425548e+00, -8.16341623e+00,\n",
      "         1.47194876e+01, -7.90272857e+00, -8.64318026e-04],\n",
      "       [-9.91037080e-02,  5.18983043e-01,  2.01130395e+00,\n",
      "        -7.90272857e+00,  5.67656330e+00, -6.06751401e-03],\n",
      "       [ 8.72005508e-04, -7.59452485e-03,  1.32375374e-02,\n",
      "        -8.64318026e-04, -6.06751401e-03,  1.96277993e-03]])\n",
      "      jac: array([-1.66893005e-06,  0.00000000e+00,  7.15255737e-07,  9.53674316e-07,\n",
      "        1.43051147e-06, -3.33786011e-06])\n",
      "  message: 'Optimization terminated successfully.'\n",
      "     nfev: 306\n",
      "      nit: 28\n",
      "     njev: 43\n",
      "   status: 0\n",
      "  success: True\n",
      "        x: array([-0.04984422,  2.9704919 , -1.27584303, -1.31526798, -0.67873606,\n",
      "        0.27054185])\n"
     ]
    },
    {
     "name": "stderr",
     "output_type": "stream",
     "text": [
      "/home/quentin/anaconda3/lib/python3.8/site-packages/scipy/optimize/_numdiff.py:557: RuntimeWarning: invalid value encountered in subtract\n",
      "  df = fun(x) - f0\n"
     ]
    },
    {
     "name": "stdout",
     "output_type": "stream",
     "text": [
      "      fun: 19.264341657158464\n",
      " hess_inv: array([[ 2.99428454e-02, -1.66450562e-01,  2.20229590e-01,\n",
      "        -1.72081264e-02, -4.55540286e-02, -2.36671786e-02,\n",
      "         6.48754489e-04],\n",
      "       [-1.66450562e-01,  1.59061612e+00, -3.23528575e+00,\n",
      "         1.50075461e+00,  6.47986084e-01, -3.03488883e-01,\n",
      "        -6.59755072e-03],\n",
      "       [ 2.20229590e-01, -3.23528575e+00,  9.83364387e+00,\n",
      "        -8.76602021e+00, -5.20822748e-01,  2.45721233e+00,\n",
      "         7.99192098e-03],\n",
      "       [-1.72081264e-02,  1.50075461e+00, -8.76602021e+00,\n",
      "         1.45839815e+01, -6.43280004e+00, -9.77073630e-01,\n",
      "         5.56723182e-04],\n",
      "       [-4.55540286e-02,  6.47986084e-01, -5.20822748e-01,\n",
      "        -6.43280004e+00,  1.35698350e+01, -7.27191821e+00,\n",
      "        -2.69607812e-03],\n",
      "       [-2.36671786e-02, -3.03488883e-01,  2.45721233e+00,\n",
      "        -9.77073630e-01, -7.27191821e+00,  6.30298764e+00,\n",
      "        -8.49099402e-05],\n",
      "       [ 6.48754489e-04, -6.59755072e-03,  7.99192098e-03,\n",
      "         5.56723182e-04, -2.69607812e-03, -8.49099402e-05,\n",
      "         1.79017799e-03]])\n",
      "      jac: array([-1.66893005e-06, -1.66893005e-06, -1.19209290e-06, -9.53674316e-07,\n",
      "       -9.53674316e-07, -9.53674316e-07,  1.19209290e-06])\n",
      "  message: 'Optimization terminated successfully.'\n",
      "     nfev: 370\n",
      "      nit: 37\n",
      "     njev: 46\n",
      "   status: 0\n",
      "  success: True\n",
      "        x: array([-0.04966042,  2.97668718, -1.31293732, -1.302108  , -0.58023752,\n",
      "       -0.08305639,  0.27054082])\n",
      "      fun: 21.792185338308364\n",
      " hess_inv: array([[ 3.05782301e-02, -1.57086644e-01,  1.86505963e-01,\n",
      "         3.99532734e-02, -7.48196598e-02, -6.05791273e-02,\n",
      "         3.36529095e-02,  1.18286454e-03],\n",
      "       [-1.57086644e-01,  1.43451227e+00, -2.65757236e+00,\n",
      "         3.28337029e-01,  1.31958714e+00,  7.06312169e-01,\n",
      "        -9.73341683e-01, -7.18667541e-03],\n",
      "       [ 1.86505963e-01, -2.65757236e+00,  7.62696643e+00,\n",
      "        -4.83585763e+00, -2.37163907e+00, -7.10862139e-01,\n",
      "         2.84986201e+00,  1.02723152e-02],\n",
      "       [ 3.99532734e-02,  3.28337029e-01, -4.83585763e+00,\n",
      "         1.12844186e+01, -7.13419864e+00, -6.77392956e-01,\n",
      "         8.63253179e-01,  1.76226091e-03],\n",
      "       [-7.48196598e-02,  1.31958714e+00, -2.37163907e+00,\n",
      "        -7.13419864e+00,  1.70187531e+01, -6.11538316e+00,\n",
      "        -2.74846924e+00, -3.60505511e-03],\n",
      "       [-6.05791273e-02,  7.06312169e-01, -7.10862139e-01,\n",
      "        -6.77392956e-01, -6.11538316e+00,  1.51893053e+01,\n",
      "        -8.32515903e+00, -3.00159991e-04],\n",
      "       [ 3.36529095e-02, -9.73341683e-01,  2.84986201e+00,\n",
      "         8.63253179e-01, -2.74846924e+00, -8.32515903e+00,\n",
      "         8.49290251e+00, -2.07729032e-03],\n",
      "       [ 1.18286454e-03, -7.18667541e-03,  1.02723152e-02,\n",
      "         1.76226091e-03, -3.60505511e-03, -3.00159991e-04,\n",
      "        -2.07729032e-03,  1.86100283e-03]])\n",
      "      jac: array([-6.67572021e-06, -3.81469727e-06, -2.86102295e-06, -4.05311584e-06,\n",
      "       -4.05311584e-06, -3.57627869e-06, -3.81469727e-06, -2.38418579e-06])\n",
      "  message: 'Optimization terminated successfully.'\n",
      "     nfev: 441\n",
      "      nit: 40\n",
      "     njev: 49\n",
      "   status: 0\n",
      "  success: True\n",
      "        x: array([-0.04932365,  2.96645168, -1.28406122, -1.2855172 , -0.61392145,\n",
      "       -0.18248173,  0.09964134,  0.27056126])\n"
     ]
    },
    {
     "name": "stderr",
     "output_type": "stream",
     "text": [
      "/home/quentin/anaconda3/lib/python3.8/site-packages/scipy/optimize/_numdiff.py:557: RuntimeWarning: invalid value encountered in subtract\n",
      "  df = fun(x) - f0\n",
      "/home/quentin/anaconda3/lib/python3.8/site-packages/scipy/optimize/_numdiff.py:557: RuntimeWarning: invalid value encountered in subtract\n",
      "  df = fun(x) - f0\n"
     ]
    },
    {
     "name": "stdout",
     "output_type": "stream",
     "text": [
      "      fun: 24.31917650800719\n",
      " hess_inv: array([[ 3.19502722e-02, -1.81925567e-01,  2.40484469e-01,\n",
      "         2.69793223e-02, -8.08760476e-02, -9.13037402e-02,\n",
      "         4.79008259e-04,  5.27378274e-02,  7.36170282e-04],\n",
      "       [-1.81925567e-01,  1.85253911e+00, -3.74994113e+00,\n",
      "         7.65552228e-01,  1.60697325e+00,  9.64212978e-01,\n",
      "        -4.40740700e-01, -8.14107170e-01, -5.56420193e-03],\n",
      "       [ 2.40484469e-01, -3.74994113e+00,  1.07287571e+01,\n",
      "        -6.08478934e+00, -4.62498462e+00,  1.50786600e-01,\n",
      "         2.53669806e+00,  8.61070098e-01,  7.57003316e-03],\n",
      "       [ 2.69793223e-02,  7.65552228e-01, -6.08478934e+00,\n",
      "         9.92647795e+00,  8.90578165e-01, -7.06051403e+00,\n",
      "        -2.62982288e+00,  4.12327874e+00, -3.88873515e-04],\n",
      "       [-8.08760476e-02,  1.60697325e+00, -4.62498462e+00,\n",
      "         8.90578165e-01,  3.67224801e+00,  2.02136106e+00,\n",
      "        -9.66980858e-01, -2.63137443e+00, -2.78982785e-03],\n",
      "       [-9.13037402e-02,  9.64212978e-01,  1.50786600e-01,\n",
      "        -7.06051403e+00,  2.02136106e+00,  1.28903033e+01,\n",
      "        -5.82810105e+00, -3.13094453e+00, -2.12860758e-03],\n",
      "       [ 4.79008259e-04, -4.40740700e-01,  2.53669806e+00,\n",
      "        -2.62982288e+00, -9.66980858e-01, -5.82810105e+00,\n",
      "         1.53198865e+01, -7.95423900e+00,  1.24875766e-03],\n",
      "       [ 5.27378274e-02, -8.14107170e-01,  8.61070098e-01,\n",
      "         4.12327874e+00, -2.63137443e+00, -3.13094453e+00,\n",
      "        -7.95423900e+00,  9.69215961e+00,  2.21776109e-03],\n",
      "       [ 7.36170282e-04, -5.56420193e-03,  7.57003316e-03,\n",
      "        -3.88873515e-04, -2.78982785e-03, -2.12860758e-03,\n",
      "         1.24875766e-03,  2.21776109e-03,  1.79205007e-03]])\n",
      "      jac: array([ 5.24520874e-06,  4.76837158e-07,  1.19209290e-06, -4.76837158e-07,\n",
      "        0.00000000e+00,  1.66893005e-06, -7.15255737e-07,  4.76837158e-07,\n",
      "       -5.72204590e-06])\n",
      "  message: 'Optimization terminated successfully.'\n",
      "     nfev: 453\n",
      "      nit: 31\n",
      "     njev: 45\n",
      "   status: 0\n",
      "  success: True\n",
      "        x: array([-0.04846854,  2.95156646, -1.25992427, -1.24773168, -0.61347511,\n",
      "       -0.25012347, -0.04931818,  0.17139642,  0.2705952 ])\n"
     ]
    },
    {
     "name": "stderr",
     "output_type": "stream",
     "text": [
      "/home/quentin/anaconda3/lib/python3.8/site-packages/scipy/optimize/_numdiff.py:557: RuntimeWarning: invalid value encountered in subtract\n",
      "  df = fun(x) - f0\n"
     ]
    },
    {
     "name": "stdout",
     "output_type": "stream",
     "text": [
      "      fun: 26.845152932258344\n",
      " hess_inv: array([[ 3.95432376e-02, -2.02880890e-01,  2.28090394e-01,\n",
      "         4.82320218e-02, -7.29798889e-02, -6.20315614e-02,\n",
      "        -4.12105763e-03, -9.53275986e-03,  3.63466761e-02,\n",
      "         3.55642756e-04],\n",
      "       [-2.02880890e-01,  1.87358705e+00, -3.46942282e+00,\n",
      "         4.05518121e-01,  1.54976863e+00,  7.63606835e-01,\n",
      "        -3.29870971e-01,  1.61203315e-01, -7.67545869e-01,\n",
      "        -4.08848703e-03],\n",
      "       [ 2.28090394e-01, -3.46942282e+00,  9.70938058e+00,\n",
      "        -5.29203912e+00, -4.25238194e+00,  2.47350669e-01,\n",
      "         3.01386679e+00, -1.63970592e+00,  1.52637527e+00,\n",
      "         7.70627905e-03],\n",
      "       [ 4.82320218e-02,  4.05518121e-01, -5.29203912e+00,\n",
      "         1.07627693e+01, -1.92964455e+00, -5.96140950e+00,\n",
      "        -2.83692520e+00,  5.49327641e+00, -7.03133737e-01,\n",
      "         9.59548648e-04],\n",
      "       [-7.29798889e-02,  1.54976863e+00, -4.25238194e+00,\n",
      "        -1.92964455e+00,  9.37430417e+00,  2.46815093e+00,\n",
      "        -7.02698450e+00, -4.21838144e+00,  4.03024288e+00,\n",
      "        -4.32567669e-03],\n",
      "       [-6.20315614e-02,  7.63606835e-01,  2.47350669e-01,\n",
      "        -5.96140950e+00,  2.46815093e+00,  5.73810822e+00,\n",
      "         1.95821400e+00, -3.75831958e+00, -1.48564852e+00,\n",
      "        -3.06514117e-03],\n",
      "       [-4.12105763e-03, -3.29870971e-01,  3.01386679e+00,\n",
      "        -2.83692520e+00, -7.02698450e+00,  1.95821400e+00,\n",
      "         1.13864885e+01,  1.52058731e+00, -7.73076608e+00,\n",
      "         3.26515728e-04],\n",
      "       [-9.53275986e-03,  1.61203315e-01, -1.63970592e+00,\n",
      "         5.49327641e+00, -4.21838144e+00, -3.75831958e+00,\n",
      "         1.52058731e+00,  5.22686826e+00, -2.71289472e+00,\n",
      "         9.60629886e-04],\n",
      "       [ 3.63466761e-02, -7.67545869e-01,  1.52637527e+00,\n",
      "        -7.03133737e-01,  4.03024288e+00, -1.48564852e+00,\n",
      "        -7.73076608e+00, -2.71289472e+00,  7.97742273e+00,\n",
      "         1.14308691e-03],\n",
      "       [ 3.55642756e-04, -4.08848703e-03,  7.70627905e-03,\n",
      "         9.59548648e-04, -4.32567669e-03, -3.06514117e-03,\n",
      "         3.26515728e-04,  9.60629886e-04,  1.14308691e-03,\n",
      "         1.81379733e-03]])\n",
      "      jac: array([ 2.86102295e-06, -1.90734863e-06, -1.43051147e-06, -3.09944153e-06,\n",
      "       -2.14576721e-06, -1.90734863e-06, -2.86102295e-06, -1.19209290e-06,\n",
      "       -1.66893005e-06, -1.66893005e-06])\n",
      "  message: 'Optimization terminated successfully.'\n",
      "     nfev: 498\n",
      "      nit: 40\n",
      "     njev: 45\n",
      "   status: 0\n",
      "  success: True\n",
      "        x: array([-0.04734321,  2.93746429, -1.2516338 , -1.2032225 , -0.58245306,\n",
      "       -0.27235458, -0.14722628, -0.01202333,  0.23650571,  0.27061485])\n"
     ]
    }
   ],
   "source": [
    "%run tools.py\n",
    "\n",
    "degree = 9\n",
    "likelihood = 'gaussian'\n",
    "\n",
    "models = []\n",
    "\n",
    "for i in range(degree):\n",
    "    \n",
    "    data_poly = pd.DataFrame({'y' : y})\n",
    "\n",
    "    priors = []\n",
    "\n",
    "    prior_a_mean = 0\n",
    "    prior_a_sigma = 5\n",
    "    prior_a = ['gaussian', [prior_a_mean, prior_a_sigma]]\n",
    "\n",
    "    priors.append(prior_a)\n",
    "    \n",
    "    if i > 0:\n",
    "        expr = 'y ~ '\n",
    "        for k in range(1,i+1):\n",
    "            if k>1:\n",
    "                expr = expr + '+'\n",
    "            prior_param_mean = 0\n",
    "            prior_param_sigma = 5\n",
    "            prior_param = ['gaussian', [prior_param_mean, prior_param_sigma]]\n",
    "            priors.append(prior_param)\n",
    "            data_poly['x'+str(k)] = x**k\n",
    "            expr = expr + 'x' + str(k)\n",
    "\n",
    "    sigma_inf = 0.1\n",
    "    sigma_sup = 5\n",
    "    prior_sigma_unif = [sigma_inf, sigma_sup]\n",
    "    prior_sigma = ['uniform', prior_sigma_unif]\n",
    "\n",
    "    priors.append(prior_sigma)\n",
    "    \n",
    "    if i > 0:\n",
    "        models.append(laplace_solution_regression(expr, data_poly, likelihood, priors))\n",
    "    else:\n",
    "        models.append(laplace_solution([1,1],[],data_poly['y'], likelihood, priors))   "
   ]
  },
  {
   "cell_type": "code",
   "execution_count": 3,
   "metadata": {},
   "outputs": [
    {
     "data": {
      "image/png": "[encoded data removed]",
      "text/plain": [
       "<Figure size 432x288 with 9 Axes>"
      ]
     },
     "metadata": {
      "needs_background": "light"
     },
     "output_type": "display_data"
    }
   ],
   "source": [
    "N_samp = 50\n",
    "\n",
    "for i in range(degree):\n",
    "    plt.subplot(int(float(degree)/3)+1,3,i+1)\n",
    "\n",
    "    samples = post_sample_Laplace(models[i], N_samp)\n",
    "    for l in range(N_samp):\n",
    "        if i>0:\n",
    "            pred = np.sum([x**k * samples[l,k] for k in range(i+1)],0)\n",
    "        else:\n",
    "            pred = x**0 * samples[l,0]\n",
    "        plt.plot(x,pred, color = 'black', alpha = 0.02)\n",
    "    \n",
    "    plt.scatter(x,y)\n",
    "    plt.title('degree ' + str(i))    \n",
    "    plt.subplots_adjust(top=3, bottom=0.001, left=0.10, right=1.95, hspace=0.25,wspace=0.35)"
   ]
  },
  {
   "cell_type": "code",
   "execution_count": 4,
   "metadata": {},
   "outputs": [
    {
     "data": {
      "image/png": "[encoded data removed]",
      "text/plain": [
       "<Figure size 432x288 with 1 Axes>"
      ]
     },
     "metadata": {
      "needs_background": "light"
     },
     "output_type": "display_data"
    }
   ],
   "source": [
    "import scipy\n",
    "\n",
    "WAIC = []\n",
    "\n",
    "N_samp = 1000\n",
    "\n",
    "for i in range(degree):\n",
    "    lppd = 0\n",
    "    p_waic = 0\n",
    "    samples = post_sample_Laplace(models[i], N_samp)\n",
    "    for k,target in enumerate(y):\n",
    "        log_p = []\n",
    "        for l in range(len(samples)):\n",
    "            if i>0:\n",
    "                pred = np.sum([x[k]**j * samples[l,j] for j in range(i+1)],0)\n",
    "                log_p.append(norm.logpdf(target,pred,samples[l][-1]))\n",
    "            else:\n",
    "                pred = x[k]**0 * samples[l,0]\n",
    "                log_p.append(norm.logpdf(target,pred,samples[l][-1]))\n",
    "    \n",
    "        lppd += scipy.special.logsumexp(log_p) - np.log(len(log_p))\n",
    "        p_waic += np.var(log_p)\n",
    "    \n",
    "#    print(lppd, p_waic)\n",
    "    \n",
    "    WAIC.append(-2*( lppd - p_waic))   \n",
    "\n",
    "plt.plot(range(degree),WAIC)\n",
    "plt.xticks(range(degree))\n",
    "plt.xlabel('polynomial degree')\n",
    "plt.ylabel('WAIC')\n",
    "plt.show()"
   ]
  },
  {
   "cell_type": "markdown",
   "metadata": {},
   "source": [
    "**Exercise.** Compare a polynomial model of order 1 to the polynomial model of order 3 with Stan"
   ]
  },
  {
   "cell_type": "code",
   "execution_count": 5,
   "metadata": {},
   "outputs": [],
   "source": [
    "!export CPPFLAGS=\"-D_GLIBCXX_USE_CXX11_ABI=0\"\n",
    "\n",
    "import stan\n",
    "import nest_asyncio as asyncio\n",
    "import nest_asyncio\n",
    "nest_asyncio.apply()"
   ]
  },
  {
   "cell_type": "code",
   "execution_count": 6,
   "metadata": {},
   "outputs": [],
   "source": [
    "poly_model_1_code = \"\"\"\n",
    "data {\n",
    "    int<lower=1> N;\n",
    "    vector[N] y;\n",
    "    vector[N] x1;\n",
    "}\n",
    "parameters {\n",
    "    real a;\n",
    "    real b1;\n",
    "    real<lower=1e-4> sigma;\n",
    "}\n",
    "transformed parameters {\n",
    "    vector[N] mu;\n",
    "    mu = a + b1 * x1 ; \n",
    "}\n",
    "model {\n",
    "    sigma ~ cauchy(0,4);\n",
    "    b1 ~ normal(0, 3);\n",
    "    a ~ normal(0, 2);\n",
    "    y ~ normal(mu, sigma);\n",
    "}\n",
    "\"\"\"\n"
   ]
  },
  {
   "cell_type": "code",
   "execution_count": 7,
   "metadata": {},
   "outputs": [],
   "source": [
    "data_poly1 = dict(x1 = x, y = y, N=N)"
   ]
  },
  {
   "cell_type": "code",
   "execution_count": 8,
   "metadata": {},
   "outputs": [
    {
     "name": "stdout",
     "output_type": "stream",
     "text": [
      "Building..."
     ]
    },
    {
     "name": "stderr",
     "output_type": "stream",
     "text": [
      "Error handling request\n",
      "Traceback (most recent call last):\n",
      "  File \"/home/quentin/anaconda3/lib/python3.8/site-packages/aiohttp/web_protocol.py\", line 435, in _handle_request\n",
      "    resp = await request_handler(request)\n",
      "  File \"/home/quentin/anaconda3/lib/python3.8/site-packages/aiohttp/web_app.py\", line 504, in _handle\n",
      "    resp = await handler(request)\n",
      "  File \"/home/quentin/anaconda3/lib/python3.8/site-packages/httpstan/views.py\", line 253, in handle_show_params\n",
      "    services_module = httpstan.models.import_services_extension_module(model_name)\n",
      "  File \"/home/quentin/anaconda3/lib/python3.8/site-packages/httpstan/models.py\", line 90, in import_services_extension_module\n",
      "    module: ModuleType = importlib.util.module_from_spec(spec)  # type: ignore\n",
      "  File \"<frozen importlib._bootstrap>\", line 556, in module_from_spec\n",
      "  File \"<frozen importlib._bootstrap_external>\", line 1101, in create_module\n",
      "  File \"<frozen importlib._bootstrap>\", line 219, in _call_with_frames_removed\n",
      "ImportError: /home/quentin/.cache/httpstan/4.6.1/models/mhkclucu/stan_services_model_mhkclucu.cpython-38-x86_64-linux-gnu.so: undefined symbol: _ZSt28__throw_bad_array_new_lengthv\n",
      "Error handling request\n",
      "Traceback (most recent call last):\n",
      "  File \"/home/quentin/anaconda3/lib/python3.8/site-packages/aiohttp/web_protocol.py\", line 435, in _handle_request\n",
      "    resp = await request_handler(request)\n",
      "  File \"/home/quentin/anaconda3/lib/python3.8/site-packages/aiohttp/web_app.py\", line 504, in _handle\n",
      "    resp = await handler(request)\n",
      "  File \"/home/quentin/anaconda3/lib/python3.8/site-packages/httpstan/views.py\", line 83, in handle_create_model\n",
      "    httpstan.models.import_services_extension_module(model_name)\n",
      "  File \"/home/quentin/anaconda3/lib/python3.8/site-packages/httpstan/models.py\", line 90, in import_services_extension_module\n",
      "    module: ModuleType = importlib.util.module_from_spec(spec)  # type: ignore\n",
      "  File \"<frozen importlib._bootstrap>\", line 556, in module_from_spec\n",
      "  File \"<frozen importlib._bootstrap_external>\", line 1101, in create_module\n",
      "  File \"<frozen importlib._bootstrap>\", line 219, in _call_with_frames_removed\n",
      "ImportError: /home/quentin/.cache/httpstan/4.6.1/models/mhkclucu/stan_services_model_mhkclucu.cpython-38-x86_64-linux-gnu.so: undefined symbol: _ZSt28__throw_bad_array_new_lengthv\n"
     ]
    },
    {
     "name": "stdout",
     "output_type": "stream",
     "text": [
      "\n"
     ]
    },
    {
     "ename": "ValueError",
     "evalue": "The JSON document has an improper structure: missing or superfluous commas, braces, missing keys, etc.",
     "output_type": "error",
     "traceback": [
      "\u001b[0;31m---------------------------------------------------------------------------\u001b[0m",
      "\u001b[0;31mValueError\u001b[0m                                Traceback (most recent call last)",
      "\u001b[0;32m<ipython-input-8-8f976289868d>\u001b[0m in \u001b[0;36m<module>\u001b[0;34m\u001b[0m\n\u001b[1;32m      1\u001b[0m \u001b[0mseed\u001b[0m \u001b[0;34m=\u001b[0m \u001b[0;36m123\u001b[0m\u001b[0;34m\u001b[0m\u001b[0;34m\u001b[0m\u001b[0m\n\u001b[1;32m      2\u001b[0m \u001b[0;34m\u001b[0m\u001b[0m\n\u001b[0;32m----> 3\u001b[0;31m \u001b[0mposterior\u001b[0m \u001b[0;34m=\u001b[0m \u001b[0mstan\u001b[0m\u001b[0;34m.\u001b[0m\u001b[0mbuild\u001b[0m\u001b[0;34m(\u001b[0m\u001b[0mpoly_model_1_code\u001b[0m\u001b[0;34m,\u001b[0m \u001b[0mdata\u001b[0m\u001b[0;34m=\u001b[0m\u001b[0mdata_poly1\u001b[0m\u001b[0;34m,\u001b[0m \u001b[0mrandom_seed\u001b[0m\u001b[0;34m=\u001b[0m\u001b[0mseed\u001b[0m\u001b[0;34m)\u001b[0m\u001b[0;34m\u001b[0m\u001b[0;34m\u001b[0m\u001b[0m\n\u001b[0m",
      "\u001b[0;32m~/anaconda3/lib/python3.8/site-packages/stan/model.py\u001b[0m in \u001b[0;36mbuild\u001b[0;34m(program_code, data, random_seed)\u001b[0m\n\u001b[1;32m    515\u001b[0m \u001b[0;34m\u001b[0m\u001b[0m\n\u001b[1;32m    516\u001b[0m     \u001b[0;32mtry\u001b[0m\u001b[0;34m:\u001b[0m\u001b[0;34m\u001b[0m\u001b[0;34m\u001b[0m\u001b[0m\n\u001b[0;32m--> 517\u001b[0;31m         \u001b[0;32mreturn\u001b[0m \u001b[0masyncio\u001b[0m\u001b[0;34m.\u001b[0m\u001b[0mrun\u001b[0m\u001b[0;34m(\u001b[0m\u001b[0mgo\u001b[0m\u001b[0;34m(\u001b[0m\u001b[0;34m)\u001b[0m\u001b[0;34m)\u001b[0m\u001b[0;34m\u001b[0m\u001b[0;34m\u001b[0m\u001b[0m\n\u001b[0m\u001b[1;32m    518\u001b[0m     \u001b[0;32mexcept\u001b[0m \u001b[0mKeyboardInterrupt\u001b[0m\u001b[0;34m:\u001b[0m\u001b[0;34m\u001b[0m\u001b[0;34m\u001b[0m\u001b[0m\n\u001b[1;32m    519\u001b[0m         \u001b[0;32mreturn\u001b[0m  \u001b[0;31m# type: ignore\u001b[0m\u001b[0;34m\u001b[0m\u001b[0;34m\u001b[0m\u001b[0m\n",
      "\u001b[0;32m~/anaconda3/lib/python3.8/site-packages/nest_asyncio.py\u001b[0m in \u001b[0;36mrun\u001b[0;34m(future, debug)\u001b[0m\n\u001b[1;32m     30\u001b[0m         \u001b[0mloop\u001b[0m \u001b[0;34m=\u001b[0m \u001b[0masyncio\u001b[0m\u001b[0;34m.\u001b[0m\u001b[0mget_event_loop\u001b[0m\u001b[0;34m(\u001b[0m\u001b[0;34m)\u001b[0m\u001b[0;34m\u001b[0m\u001b[0;34m\u001b[0m\u001b[0m\n\u001b[1;32m     31\u001b[0m         \u001b[0mloop\u001b[0m\u001b[0;34m.\u001b[0m\u001b[0mset_debug\u001b[0m\u001b[0;34m(\u001b[0m\u001b[0mdebug\u001b[0m\u001b[0;34m)\u001b[0m\u001b[0;34m\u001b[0m\u001b[0;34m\u001b[0m\u001b[0m\n\u001b[0;32m---> 32\u001b[0;31m         \u001b[0;32mreturn\u001b[0m \u001b[0mloop\u001b[0m\u001b[0;34m.\u001b[0m\u001b[0mrun_until_complete\u001b[0m\u001b[0;34m(\u001b[0m\u001b[0mfuture\u001b[0m\u001b[0;34m)\u001b[0m\u001b[0;34m\u001b[0m\u001b[0;34m\u001b[0m\u001b[0m\n\u001b[0m\u001b[1;32m     33\u001b[0m \u001b[0;34m\u001b[0m\u001b[0m\n\u001b[1;32m     34\u001b[0m     \u001b[0;32mif\u001b[0m \u001b[0msys\u001b[0m\u001b[0;34m.\u001b[0m\u001b[0mversion_info\u001b[0m \u001b[0;34m>=\u001b[0m \u001b[0;34m(\u001b[0m\u001b[0;36m3\u001b[0m\u001b[0;34m,\u001b[0m \u001b[0;36m6\u001b[0m\u001b[0;34m,\u001b[0m \u001b[0;36m0\u001b[0m\u001b[0;34m)\u001b[0m\u001b[0;34m:\u001b[0m\u001b[0;34m\u001b[0m\u001b[0;34m\u001b[0m\u001b[0m\n",
      "\u001b[0;32m~/anaconda3/lib/python3.8/site-packages/nest_asyncio.py\u001b[0m in \u001b[0;36mrun_until_complete\u001b[0;34m(self, future)\u001b[0m\n\u001b[1;32m     68\u001b[0m                 raise RuntimeError(\n\u001b[1;32m     69\u001b[0m                     'Event loop stopped before Future completed.')\n\u001b[0;32m---> 70\u001b[0;31m             \u001b[0;32mreturn\u001b[0m \u001b[0mf\u001b[0m\u001b[0;34m.\u001b[0m\u001b[0mresult\u001b[0m\u001b[0;34m(\u001b[0m\u001b[0;34m)\u001b[0m\u001b[0;34m\u001b[0m\u001b[0;34m\u001b[0m\u001b[0m\n\u001b[0m\u001b[1;32m     71\u001b[0m \u001b[0;34m\u001b[0m\u001b[0m\n\u001b[1;32m     72\u001b[0m     \u001b[0;32mdef\u001b[0m \u001b[0m_run_once\u001b[0m\u001b[0;34m(\u001b[0m\u001b[0mself\u001b[0m\u001b[0;34m)\u001b[0m\u001b[0;34m:\u001b[0m\u001b[0;34m\u001b[0m\u001b[0;34m\u001b[0m\u001b[0m\n",
      "\u001b[0;32m~/anaconda3/lib/python3.8/asyncio/futures.py\u001b[0m in \u001b[0;36mresult\u001b[0;34m(self)\u001b[0m\n\u001b[1;32m    176\u001b[0m         \u001b[0mself\u001b[0m\u001b[0;34m.\u001b[0m\u001b[0m__log_traceback\u001b[0m \u001b[0;34m=\u001b[0m \u001b[0;32mFalse\u001b[0m\u001b[0;34m\u001b[0m\u001b[0;34m\u001b[0m\u001b[0m\n\u001b[1;32m    177\u001b[0m         \u001b[0;32mif\u001b[0m \u001b[0mself\u001b[0m\u001b[0;34m.\u001b[0m\u001b[0m_exception\u001b[0m \u001b[0;32mis\u001b[0m \u001b[0;32mnot\u001b[0m \u001b[0;32mNone\u001b[0m\u001b[0;34m:\u001b[0m\u001b[0;34m\u001b[0m\u001b[0;34m\u001b[0m\u001b[0m\n\u001b[0;32m--> 178\u001b[0;31m             \u001b[0;32mraise\u001b[0m \u001b[0mself\u001b[0m\u001b[0;34m.\u001b[0m\u001b[0m_exception\u001b[0m\u001b[0;34m\u001b[0m\u001b[0;34m\u001b[0m\u001b[0m\n\u001b[0m\u001b[1;32m    179\u001b[0m         \u001b[0;32mreturn\u001b[0m \u001b[0mself\u001b[0m\u001b[0;34m.\u001b[0m\u001b[0m_result\u001b[0m\u001b[0;34m\u001b[0m\u001b[0;34m\u001b[0m\u001b[0m\n\u001b[1;32m    180\u001b[0m \u001b[0;34m\u001b[0m\u001b[0m\n",
      "\u001b[0;32m~/anaconda3/lib/python3.8/asyncio/tasks.py\u001b[0m in \u001b[0;36m__step\u001b[0;34m(***failed resolving arguments***)\u001b[0m\n\u001b[1;32m    278\u001b[0m                 \u001b[0;31m# We use the `send` method directly, because coroutines\u001b[0m\u001b[0;34m\u001b[0m\u001b[0;34m\u001b[0m\u001b[0;34m\u001b[0m\u001b[0m\n\u001b[1;32m    279\u001b[0m                 \u001b[0;31m# don't have `__iter__` and `__next__` methods.\u001b[0m\u001b[0;34m\u001b[0m\u001b[0;34m\u001b[0m\u001b[0;34m\u001b[0m\u001b[0m\n\u001b[0;32m--> 280\u001b[0;31m                 \u001b[0mresult\u001b[0m \u001b[0;34m=\u001b[0m \u001b[0mcoro\u001b[0m\u001b[0;34m.\u001b[0m\u001b[0msend\u001b[0m\u001b[0;34m(\u001b[0m\u001b[0;32mNone\u001b[0m\u001b[0;34m)\u001b[0m\u001b[0;34m\u001b[0m\u001b[0;34m\u001b[0m\u001b[0m\n\u001b[0m\u001b[1;32m    281\u001b[0m             \u001b[0;32melse\u001b[0m\u001b[0;34m:\u001b[0m\u001b[0;34m\u001b[0m\u001b[0;34m\u001b[0m\u001b[0m\n\u001b[1;32m    282\u001b[0m                 \u001b[0mresult\u001b[0m \u001b[0;34m=\u001b[0m \u001b[0mcoro\u001b[0m\u001b[0;34m.\u001b[0m\u001b[0mthrow\u001b[0m\u001b[0;34m(\u001b[0m\u001b[0mexc\u001b[0m\u001b[0;34m)\u001b[0m\u001b[0;34m\u001b[0m\u001b[0;34m\u001b[0m\u001b[0m\n",
      "\u001b[0;32m~/anaconda3/lib/python3.8/site-packages/stan/model.py\u001b[0m in \u001b[0;36mgo\u001b[0;34m()\u001b[0m\n\u001b[1;32m    482\u001b[0m \u001b[0;34m\u001b[0m\u001b[0m\n\u001b[1;32m    483\u001b[0m             \u001b[0;32mif\u001b[0m \u001b[0mresp\u001b[0m\u001b[0;34m.\u001b[0m\u001b[0mstatus\u001b[0m \u001b[0;34m!=\u001b[0m \u001b[0;36m201\u001b[0m\u001b[0;34m:\u001b[0m\u001b[0;34m\u001b[0m\u001b[0;34m\u001b[0m\u001b[0m\n\u001b[0;32m--> 484\u001b[0;31m                 \u001b[0mmatch\u001b[0m \u001b[0;34m=\u001b[0m \u001b[0mre\u001b[0m\u001b[0;34m.\u001b[0m\u001b[0msearch\u001b[0m\u001b[0;34m(\u001b[0m\u001b[0;34mr\"\"\"ValueError\\(['\"](.*)['\"]\\)\"\"\"\u001b[0m\u001b[0;34m,\u001b[0m \u001b[0mresp\u001b[0m\u001b[0;34m.\u001b[0m\u001b[0mjson\u001b[0m\u001b[0;34m(\u001b[0m\u001b[0;34m)\u001b[0m\u001b[0;34m[\u001b[0m\u001b[0;34m\"message\"\u001b[0m\u001b[0;34m]\u001b[0m\u001b[0;34m)\u001b[0m\u001b[0;34m\u001b[0m\u001b[0;34m\u001b[0m\u001b[0m\n\u001b[0m\u001b[1;32m    485\u001b[0m                 \u001b[0;32mif\u001b[0m \u001b[0;32mnot\u001b[0m \u001b[0mmatch\u001b[0m\u001b[0;34m:\u001b[0m  \u001b[0;31m# unknown error, should not happen\u001b[0m\u001b[0;34m\u001b[0m\u001b[0;34m\u001b[0m\u001b[0m\n\u001b[1;32m    486\u001b[0m                     \u001b[0;32mraise\u001b[0m \u001b[0mRuntimeError\u001b[0m\u001b[0;34m(\u001b[0m\u001b[0mresp\u001b[0m\u001b[0;34m.\u001b[0m\u001b[0mjson\u001b[0m\u001b[0;34m(\u001b[0m\u001b[0;34m)\u001b[0m\u001b[0;34m[\u001b[0m\u001b[0;34m\"message\"\u001b[0m\u001b[0;34m]\u001b[0m\u001b[0;34m)\u001b[0m\u001b[0;34m\u001b[0m\u001b[0;34m\u001b[0m\u001b[0m\n",
      "\u001b[0;32m~/anaconda3/lib/python3.8/site-packages/stan/common.py\u001b[0m in \u001b[0;36mjson\u001b[0;34m(self)\u001b[0m\n\u001b[1;32m     22\u001b[0m \u001b[0;34m\u001b[0m\u001b[0m\n\u001b[1;32m     23\u001b[0m     \u001b[0;32mdef\u001b[0m \u001b[0mjson\u001b[0m\u001b[0;34m(\u001b[0m\u001b[0mself\u001b[0m\u001b[0;34m)\u001b[0m \u001b[0;34m->\u001b[0m \u001b[0mdict\u001b[0m\u001b[0;34m:\u001b[0m\u001b[0;34m\u001b[0m\u001b[0;34m\u001b[0m\u001b[0m\n\u001b[0;32m---> 24\u001b[0;31m         \u001b[0;32mreturn\u001b[0m \u001b[0msimdjson\u001b[0m\u001b[0;34m.\u001b[0m\u001b[0mloads\u001b[0m\u001b[0;34m(\u001b[0m\u001b[0mself\u001b[0m\u001b[0;34m.\u001b[0m\u001b[0mcontent\u001b[0m\u001b[0;34m)\u001b[0m\u001b[0;34m\u001b[0m\u001b[0;34m\u001b[0m\u001b[0m\n\u001b[0m\u001b[1;32m     25\u001b[0m \u001b[0;34m\u001b[0m\u001b[0m\n\u001b[1;32m     26\u001b[0m \u001b[0;34m\u001b[0m\u001b[0m\n",
      "\u001b[0;32m~/anaconda3/lib/python3.8/site-packages/simdjson/__init__.py\u001b[0m in \u001b[0;36mloads\u001b[0;34m(s, cls, object_hook, parse_float, parse_int, parse_constant, object_pairs_hook, **kwargs)\u001b[0m\n\u001b[1;32m     59\u001b[0m \u001b[0;34m\u001b[0m\u001b[0m\n\u001b[1;32m     60\u001b[0m     \u001b[0mparser\u001b[0m \u001b[0;34m=\u001b[0m \u001b[0mParser\u001b[0m\u001b[0;34m(\u001b[0m\u001b[0;34m)\u001b[0m\u001b[0;34m\u001b[0m\u001b[0;34m\u001b[0m\u001b[0m\n\u001b[0;32m---> 61\u001b[0;31m     \u001b[0;32mreturn\u001b[0m \u001b[0mparser\u001b[0m\u001b[0;34m.\u001b[0m\u001b[0mparse\u001b[0m\u001b[0;34m(\u001b[0m\u001b[0ms\u001b[0m\u001b[0;34m,\u001b[0m \u001b[0;32mTrue\u001b[0m\u001b[0;34m)\u001b[0m\u001b[0;34m\u001b[0m\u001b[0;34m\u001b[0m\u001b[0m\n\u001b[0m\u001b[1;32m     62\u001b[0m \u001b[0;34m\u001b[0m\u001b[0m\n\u001b[1;32m     63\u001b[0m \u001b[0;34m\u001b[0m\u001b[0m\n",
      "\u001b[0;31mValueError\u001b[0m: The JSON document has an improper structure: missing or superfluous commas, braces, missing keys, etc."
     ]
    }
   ],
   "source": [
    "seed = 123\n",
    "\n",
    "posterior = stan.build(poly_model_1_code, data=data_poly1, random_seed=seed)"
   ]
  },
  {
   "cell_type": "code",
   "execution_count": null,
   "metadata": {},
   "outputs": [],
   "source": [
    "fit = posterior.sample(num_chains=4, num_samples=1000)\n",
    "df = fit.to_frame()\n",
    "print(df.describe().T)"
   ]
  },
  {
   "cell_type": "code",
   "execution_count": null,
   "metadata": {},
   "outputs": [],
   "source": [
    "lppd = 0\n",
    "p_waic = 0\n",
    "\n",
    "a = fit['a'][0]\n",
    "b1 = fit['b1'][0]\n",
    "sigma = fit['sigma'][0]\n",
    "\n",
    "for k,target in enumerate(y):\n",
    "    log_p = []\n",
    "    for l in range(len(a)):\n",
    "            pred = a[l] + b1[l] * x[k] \n",
    "            log_p.append(norm.logpdf(target,pred,sigma[l]))    \n",
    "    lppd += scipy.special.logsumexp(log_p) - np.log(len(log_p))\n",
    "    p_waic += np.var(log_p)"
   ]
  },
  {
   "cell_type": "code",
   "execution_count": null,
   "metadata": {},
   "outputs": [],
   "source": [
    "WAIC2 = (-2 * (lppd - p_waic))\n",
    "WAIC2"
   ]
  },
  {
   "cell_type": "code",
   "execution_count": null,
   "metadata": {},
   "outputs": [],
   "source": [
    "poly_model_3_code = \"\"\"\n",
    "data {\n",
    "    int<lower=1> N;\n",
    "    vector[N] y;\n",
    "    vector[N] x1;\n",
    "}\n",
    "parameters {\n",
    "    real a;\n",
    "    real b1;\n",
    "    real b2;\n",
    "    real b3;\n",
    "    real<lower=1e-4> sigma;\n",
    "}\n",
    "transformed parameters {\n",
    "    vector[N] mu;\n",
    "    mu = a + b1 * x1 + b2 * x1^2 + b3 * x1^3; \n",
    "}\n",
    "model {\n",
    "    sigma ~ cauchy(0,4);\n",
    "    b1 ~ normal(0, 3);\n",
    "    b2 ~ normal(0, 3);\n",
    "    b3 ~ normal(0, 3);\n",
    "    a ~ normal(0, 2);\n",
    "    y ~ normal(mu, sigma);\n",
    "}\n",
    "\"\"\""
   ]
  },
  {
   "cell_type": "code",
   "execution_count": null,
   "metadata": {},
   "outputs": [],
   "source": [
    "data_poly1 = dict(x1 = x, y = y, N=N)\n",
    "seed = 123\n",
    "\n",
    "posterior = stan.build(poly_model_3_code, data=data_poly1, random_seed=seed)"
   ]
  },
  {
   "cell_type": "code",
   "execution_count": null,
   "metadata": {},
   "outputs": [],
   "source": [
    "fit = posterior.sample(num_chains=4, num_samples=1000)\n",
    "df = fit.to_frame()\n",
    "print(df.describe().T)\n"
   ]
  },
  {
   "cell_type": "code",
   "execution_count": null,
   "metadata": {},
   "outputs": [],
   "source": [
    "lppd = 0\n",
    "p_waic = 0\n",
    "\n",
    "a = fit['a'][0]\n",
    "b1 = fit['b1'][0]\n",
    "b2 = fit['b2'][0]\n",
    "b3 = fit['b3'][0]\n",
    "sigma = fit['sigma'][0]\n",
    "\n",
    "for k,target in enumerate(y):\n",
    "    log_p = []\n",
    "    for l in range(len(a)):\n",
    "            pred = a[l] + b1[l] * x[k]  +  b2[l] * x[k]**2 + b3[l] * x[k]**3\n",
    "            log_p.append(norm.logpdf(target,pred,sigma[l]))    \n",
    "    lppd += scipy.special.logsumexp(log_p) - np.log(len(log_p))\n",
    "    p_waic += np.var(log_p)"
   ]
  },
  {
   "cell_type": "code",
   "execution_count": null,
   "metadata": {},
   "outputs": [],
   "source": [
    "WAIC3 = (-2 * (lppd - p_waic))\n",
    "WAIC3"
   ]
  },
  {
   "cell_type": "code",
   "execution_count": null,
   "metadata": {},
   "outputs": [],
   "source": [
    "print('WAIC polynomial model order 2: {}'.format(WAIC2))\n",
    "print('WAIC polynomial model order 3: {}'.format(WAIC3))"
   ]
  },
  {
   "cell_type": "markdown",
   "metadata": {},
   "source": [
    "# Bayesian classification\n",
    "\n",
    "\n",
    "In simple terms, classification implies estimating the probability of an observation to belong to a certain class, such as positive or negative, or 0 or 1. The classical model for estimating such as probability is the Binomial model:\n",
    "\n",
    "$$ p(y) \\sim Binomial(n,p), $$\n",
    "\n",
    "where $y$ is the number of positive cases, $n$ is the total number of trials, and $p$ is the probability of a case being positive.  \n",
    "\n",
    "As for linear regression our likelihood model was Gaussian, here our likelihood model will be Binomial. In linear regression, we were parameterizing the mean of the Gaussian model as a linear combination of the predictors:\n",
    "\n",
    "$$ y_i \\sim \\mathcal{N}(\\mu_i, \\sigma),$$\n",
    "$$ \\mu_i = a + b x_i.$$\n",
    "\n",
    "In the Binomial model, we parameterize the probability $p$ as a linear combination of the predictors:\n",
    "\n",
    "$$y_i \\sim Binomial(n, p_i)$$\n",
    "$$f(p_i) = a + b x_i.$$\n",
    "\n",
    "There are some issues to take into account. Since the probability $p_i$ must be greater than 0 and lower than 1, by parameterizing it directly with a linear model we will incour into problems, as this would not guarantee that the linear combination is bounded in the interval $[0,1]$. Therefore we need to *link* the probability $p_i$ to the linear model through some clever parameterization, called *link function*. A classical link function is called *logit* function, and is defined with respect to the log-odds:\n",
    "\n",
    "$$f(p_i) = logit(p_i) = \\log(odds(p_i)) = \\log(\\frac{p_i}{1-p_i}).$$\n",
    "\n",
    "The odds is the ratio between probability of the outcome being positive and probability of being negative. Therefore is goes from 0 ($p_i=0$) to infinity ($p_i=1$). By taking the log, we transform the odds into a quantity that can range from $-\\infty$ to $\\infty$, a perfect variable to be described by a linear model.\n",
    "We rewrite our Binomial link function:\n",
    "\n",
    "$$ \\log(\\frac{p_i}{1-p_i}) = a + b x_i,$$\n",
    "\n",
    "and we derive:\n",
    "\n",
    "$$\\frac{p_i}{1-p_i} = \\exp(a + b x_i),$$\n",
    "$$p_i = \\frac{\\exp(a + b x_i)}{1 + \\exp(a + b x_i)}. $$\n",
    "\n",
    "\n"
   ]
  },
  {
   "cell_type": "code",
   "execution_count": null,
   "metadata": {},
   "outputs": [],
   "source": [
    "a = 0.1\n",
    "b = 0.5\n",
    "\n",
    "x_i = np.linspace(-10,10)\n",
    "\n",
    "p_i = np.exp(a+b*x_i)/(1+np.exp(a+b*x_i))\n",
    "\n",
    "plt.plot(x_i,p_i)\n",
    "plt.xlabel('x_i')\n",
    "plt.ylabel('p_i')\n",
    "plt.show()\n",
    "\n"
   ]
  },
  {
   "cell_type": "markdown",
   "metadata": {},
   "source": [
    "We recognize that the link function creates a non-linear association between $x_i$ and $p_i$, where $p_i$ is indeed bounded by 0 and 1. Importantly, although the association is linear, a unit increase in $x$ does not correspond anymore to a unit increase in the output. The magnitude of the association depends on the value of $x$ itself, and is greater in correspondence of the maximum slope of the curve. \n",
    "\n",
    "This kind of model is called *logistic regression*. "
   ]
  },
  {
   "cell_type": "markdown",
   "metadata": {},
   "source": [
    "## Example: Logistic regression for predicting Alzheimer's disease"
   ]
  },
  {
   "cell_type": "code",
   "execution_count": null,
   "metadata": {},
   "outputs": [],
   "source": [
    "data = pd.read_csv('adni_data')\n",
    "pd.set_option('mode.chained_assignment', None) \n",
    "\n",
    "data_ct_ad = data.query('DX == 1 | DX == 3') \n",
    "data_ct_ad['DX'] = data_ct_ad['DX'].map({1: 0, 3: 1})\n",
    "\n",
    "data_ct_ad['norm_brain'] = data_ct_ad['WholeBrain.bl']/data_ct_ad['ICV']\n",
    "data_ct_ad['norm_brain'] = (data_ct_ad['norm_brain'] - np.mean(data_ct_ad['norm_brain']))/np.std(data_ct_ad['norm_brain'])\n",
    "data_ct_ad.dropna(inplace = True)\n",
    "\n",
    "\n",
    "print(data_ct_ad[:5])"
   ]
  },
  {
   "cell_type": "code",
   "execution_count": null,
   "metadata": {},
   "outputs": [],
   "source": [
    "binomial_model_code = \"\"\"\n",
    "data {\n",
    "  int<lower=1> N;\n",
    "  int y[N];\n",
    "  real x[N];\n",
    "}\n",
    "parameters {\n",
    "  real a;\n",
    "  real b;\n",
    "  real<lower=1e-4> sigma;\n",
    "}\n",
    "transformed parameters {\n",
    "  vector[N] p_i;\n",
    "  for (i in 1:N) {\n",
    "    p_i[i] = exp(a + b * x[i])/(1 + exp(a + b * x[i])); \n",
    "    }\n",
    "}\n",
    "model {\n",
    "  sigma ~ cauchy(0,4);\n",
    "  b ~ normal(0, 3);\n",
    "  a ~ normal(0, 3);\n",
    "  y ~ binomial(1, p_i);\n",
    "}\n",
    "\"\"\"\n"
   ]
  },
  {
   "cell_type": "code",
   "execution_count": null,
   "metadata": {},
   "outputs": [],
   "source": [
    "data_to_stan = dict(x = np.array(data_ct_ad['norm_brain']), y = np.array(data_ct_ad['DX']), N = len(data_ct_ad['DX']))\n",
    "\n",
    "seed = 123\n",
    "\n",
    "posterior = stan.build(binomial_model_code, data=data_to_stan, random_seed=seed)"
   ]
  },
  {
   "cell_type": "code",
   "execution_count": null,
   "metadata": {},
   "outputs": [],
   "source": [
    "fit = posterior.sample(num_chains=4, num_samples=1000)\n",
    "df = fit.to_frame()\n",
    "print(df.describe().T[:10])"
   ]
  },
  {
   "cell_type": "code",
   "execution_count": null,
   "metadata": {},
   "outputs": [],
   "source": [
    "est_a = fit['a'][0]\n",
    "quantiles_a = np.quantile(est_a, [0.05, 0.5, 0.95])\n",
    "\n",
    "est_b = fit['b'][0]\n",
    "quantiles_b = np.quantile(est_b, [0.05, 0.5, 0.95])\n",
    "\n",
    "logistic_a_50 = np.exp(quantiles_a[1])/(1 + np.exp(quantiles_a[1]))\n",
    "logistic_a_5 = np.exp(quantiles_a[0])/(1 + np.exp(quantiles_a[0]))\n",
    "logistic_a_95 = np.exp(quantiles_a[2])/(1 + np.exp(quantiles_a[2]))\n",
    "\n",
    "print('Baseline probability of disease: \\n')\n",
    "print('5%  :', logistic_a_5)\n",
    "print('50% :', logistic_a_50)\n",
    "print('95% :', logistic_a_95)\n",
    "\n",
    "\n",
    "logistic_b_95 = np.exp(quantiles_a[0] - quantiles_b[0])/(1 + np.exp(quantiles_a[0] - quantiles_b[0]))\n",
    "logistic_b_50 = np.exp(quantiles_a[0] - quantiles_b[1])/(1 + np.exp(quantiles_a[0] - quantiles_b[1]))\n",
    "logistic_b_5 = np.exp(quantiles_a[0] - quantiles_b[2])/(1 + np.exp(quantiles_a[0] - quantiles_b[2]))\n",
    "\n",
    "\n",
    "print('Probability increase for unit decrease in standardized brain volume (parameter \"a\" at lowest quantile): \\n')\n",
    "print('5%  :', logistic_b_5)\n",
    "print('50% :', logistic_b_50)\n",
    "print('95% :', logistic_b_95)"
   ]
  },
  {
   "cell_type": "code",
   "execution_count": null,
   "metadata": {},
   "outputs": [],
   "source": [
    "p_i = fit['p_i']\n",
    "print(p_i.shape)"
   ]
  },
  {
   "cell_type": "code",
   "execution_count": null,
   "metadata": {},
   "outputs": [],
   "source": [
    "\n",
    "lppd = []\n",
    "pwaic = []\n",
    "for i in range(len(data_ct_ad)):\n",
    "    id_log_lik = []\n",
    "    for k in range(1000):\n",
    "        p = p_i[i,k]\n",
    "        id_log_lik.append(scipy.stats.binom.logpmf(data_ct_ad['DX'].values[i], 1, p))\n",
    "    lppd.append(scipy.special.logsumexp(id_log_lik) - np.log(len(id_log_lik)))\n",
    "    pwaic.append(np.var(id_log_lik))\n",
    "\n",
    "waic = -2 * (np.sum(lppd) -np.sum(pwaic))"
   ]
  },
  {
   "cell_type": "markdown",
   "metadata": {},
   "source": [
    "What happens when we include another predictor, for example the presence of the genetic mutation APOE4?"
   ]
  },
  {
   "cell_type": "code",
   "execution_count": null,
   "metadata": {},
   "outputs": [],
   "source": [
    "binomial_model_code_2 = \"\"\"\n",
    "data {\n",
    "  int<lower=1> N;\n",
    "  int y[N];\n",
    "  real x[N];\n",
    "  real x_g[N];\n",
    "}\n",
    "parameters {\n",
    "  real a;\n",
    "  real b;\n",
    "  real c;\n",
    "  real<lower=1e-4> sigma;\n",
    "}\n",
    "transformed parameters {\n",
    "  vector[N] p_i;\n",
    "  for (i in 1:N) {\n",
    "    p_i[i] = exp(a + b * x[i] + c * x_g[i])/(1 + exp(a + b * x[i] + c * x_g[i])); \n",
    "    }\n",
    "}\n",
    "model {\n",
    "  sigma ~ cauchy(0,4);\n",
    "  c ~ normal(0, 3);\n",
    "  b ~ normal(0, 3);\n",
    "  a ~ normal(0, 3);\n",
    "  y ~ binomial(1, p_i);\n",
    "}\n",
    "\"\"\""
   ]
  },
  {
   "cell_type": "code",
   "execution_count": null,
   "metadata": {},
   "outputs": [],
   "source": [
    "data_to_stan = dict(x_b = data_ct_ad['norm_brain'],  \n",
    "                    y = data_ct_ad['DX'], \n",
    "                    mu_a = 0, std_a = 10, mu_b = 0, std_b = 10,  mu_c = 0, std_c = 10, \n",
    "                    N = len(data_ct_ad['DX']))\n",
    "\n",
    "data_to_stan = dict(x = np.array(data_ct_ad['norm_brain']), \n",
    "                    x_g = np.array(data_ct_ad['APOE4']),\n",
    "                    y = np.array(data_ct_ad['DX']), \n",
    "                    N = len(data_ct_ad['DX']))\n",
    "\n",
    "seed = 123\n",
    "\n",
    "posterior = stan.build(binomial_model_code_2, data=data_to_stan, random_seed=seed)"
   ]
  },
  {
   "cell_type": "code",
   "execution_count": null,
   "metadata": {},
   "outputs": [],
   "source": [
    "fit = posterior.sample(num_chains=4, num_samples=1000)\n",
    "df = fit.to_frame()\n",
    "print(df.describe().T[:10])"
   ]
  },
  {
   "cell_type": "markdown",
   "metadata": {},
   "source": [
    "Is this model better fitting the diagnosis than the previous one?"
   ]
  },
  {
   "cell_type": "code",
   "execution_count": null,
   "metadata": {},
   "outputs": [],
   "source": [
    "p_i = fit['p_i']\n",
    "\n",
    "lppd = []\n",
    "pwaic = []\n",
    "for i in range(len(data_ct_ad)):\n",
    "    id_log_lik = []\n",
    "    for k in range(1000):\n",
    "        p = p_i[i,k]\n",
    "        id_log_lik.append(scipy.stats.binom.logpmf(data_ct_ad['DX'].values[i], 1, p))\n",
    "    lppd.append(scipy.special.logsumexp(id_log_lik) - np.log(len(id_log_lik)))\n",
    "    pwaic.append(np.var(id_log_lik))\n",
    "\n",
    "waic_apoe = -2 * (np.sum(lppd) -np.sum(pwaic))"
   ]
  },
  {
   "cell_type": "code",
   "execution_count": null,
   "metadata": {},
   "outputs": [],
   "source": [
    "print(waic, waic_apoe)"
   ]
  },
  {
   "cell_type": "code",
   "execution_count": null,
   "metadata": {},
   "outputs": [],
   "source": []
  }
 ],
 "metadata": {
  "kernelspec": {
   "display_name": "Python 3",
   "language": "python",
   "name": "python3"
  },
  "language_info": {
   "codemirror_mode": {
    "name": "ipython",
    "version": 3
   },
   "file_extension": ".py",
   "mimetype": "text/x-python",
   "name": "python",
   "nbconvert_exporter": "python",
   "pygments_lexer": "ipython3",
   "version": "3.8.8"
  }
 },
 "nbformat": 4,
 "nbformat_minor": 4
}
