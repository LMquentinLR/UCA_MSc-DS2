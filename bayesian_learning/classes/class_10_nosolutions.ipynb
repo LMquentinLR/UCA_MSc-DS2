{
 "cells": [
  {
   "cell_type": "code",
   "execution_count": 1,
   "metadata": {},
   "outputs": [],
   "source": [
    "import scipy.stats\n",
    "import numpy as np\n",
    "import matplotlib.pyplot as plt\n",
    "from  scipy.stats import norm\n",
    "from  scipy.stats import binom\n",
    "from scipy.stats import beta\n",
    "from  scipy.stats import uniform\n",
    "from scipy.stats import gaussian_kde\n",
    "\n",
    "import pystan\n",
    "from pystan.constants import MAX_UINT\n",
    "\n",
    "import os\n",
    "\n",
    "os.environ[\"CC\"] = \"g++-10\"\n",
    "os.environ[\"CXX\"] = \"g++-10\"\n",
    "\n",
    "%run ./tools.py"
   ]
  },
  {
   "cell_type": "markdown",
   "metadata": {},
   "source": [
    "# Exercise A\n",
    "\n",
    "The goal of this exercise is to implement the Metropolis-Hastings method as seen in Lesson 5. Consider a variable y_i representing the number of success of an experiment i repeated n times. Now consider a vector Y containing the number of success of N independent experiments y_i. We assume that each experiment_i share a common probability of success $\\theta = 0.3$. Therefore we can generate the following data:"
   ]
  },
  {
   "cell_type": "code",
   "execution_count": 2,
   "metadata": {},
   "outputs": [
    {
     "name": "stdout",
     "output_type": "stream",
     "text": [
      "[28 30 26 33 36 32 31 30 35 31]\n"
     ]
    }
   ],
   "source": [
    "N = 100\n",
    "n = 100\n",
    "theta = 0.3\n",
    "\n",
    "Y = binom.rvs(n, theta, size=N)\n",
    "    \n",
    "print(Y[:10])"
   ]
  },
  {
   "cell_type": "markdown",
   "metadata": {},
   "source": [
    "**1) We will assume a prior Beta distribution with parameters a=0.5 and b=0.5 for $\\theta$. Write the data likelihood p(Y|$\\theta$) and the posterior distribution p($\\theta$ | Y).**"
   ]
  },
  {
   "cell_type": "markdown",
   "metadata": {},
   "source": [
    "**2) Estimate the posterior distirbution p($\\theta$|Y) using the Metropolis-Hastings algorithm.**"
   ]
  },
  {
   "cell_type": "code",
   "execution_count": 3,
   "metadata": {},
   "outputs": [],
   "source": [
    "def proposal(prop_mu, prop_sigma):\n",
    "    return scipy.stats.norm.rvs(loc = prop_mu, scale = prop_sigma, size = 1)\n",
    "\n",
    "def log_likelihood(param):\n",
    "    return np.sum([binom.logpmf(y_i,n,param) for y_i in Y])\n",
    "\n",
    "def log_prior(param):\n",
    "    return beta.logpdf(param, 0.5, 0.5)\n",
    "\n",
    "def log_posterior(param):\n",
    "    return log_likelihood(param) + log_prior(param)"
   ]
  },
  {
   "cell_type": "markdown",
   "metadata": {},
   "source": [
    "**3) Plot the posterior probability density functions obtained with the MCMC approximation and the analytical solution.**"
   ]
  },
  {
   "cell_type": "markdown",
   "metadata": {},
   "source": [
    "# Exercise B\n",
    "\n",
    "This year a farmer ran an experiment  where he gave 10 cows medicine A and 10 medicine B and then measured whether they got sick (0) or not (1) during the summer season. Here is the resulting data:"
   ]
  },
  {
   "cell_type": "code",
   "execution_count": 4,
   "metadata": {},
   "outputs": [],
   "source": [
    "cowA = np.array([0, 1, 0, 0, 0, 0, 1, 0, 0, 0])\n",
    "cowB = np.array([0, 0, 1, 1, 1, 0, 1, 1, 1, 0])"
   ]
  },
  {
   "cell_type": "markdown",
   "metadata": {},
   "source": [
    "**1) The farmer wants to know: How effective are the drugs? What is the evidence that medicine A is better or worse than medicine B ?**\n",
    "\n",
    "The outcome for each cow taking medecine A can be modeled as a random variable following a Bernouilli distribution with parameter $\\theta_1$. Similarly, the outcome for each cow taking medecine B can be modeled as a random variable following a Bernouilli distribution with parameter $\\theta_2$. Let's assume a unifrom prior for both $\\theta_1$ and $\\theta_2$. Our goal here is to obtain a posterior distribution of these two parameters. In this exercise, we propose to do it through the HMC method using the Pystan package.\n",
    "\n",
    "<hr>"
   ]
  },
  {
   "cell_type": "code",
   "execution_count": 106,
   "metadata": {},
   "outputs": [],
   "source": [
    "model_code = \"\"\"\n",
    "data {\n",
    "    int n1;\n",
    "    int n2;\n",
    "    int y1[n1];\n",
    "    int y2[n2];\n",
    "}\n",
    "parameters {\n",
    "    real<lower=0, upper=1> theta_1;\n",
    "    real<lower=0, upper=1> theta_2;\n",
    "}\n",
    "model {\n",
    "  theta_1 ~ uniform(0, 1);\n",
    "  theta_2 ~ uniform(0, 1);\n",
    "  y1 ~ bernoulli(theta_1);\n",
    "  y2 ~ bernoulli(theta_2);\n",
    "}\n",
    "\"\"\""
   ]
  },
  {
   "cell_type": "code",
   "execution_count": 107,
   "metadata": {},
   "outputs": [],
   "source": [
    "data = {\"n1\": len(cowA), \"n2\":len(cowB),\n",
    "        \"y1\":cowA, \"y2\":cowB}"
   ]
  },
  {
   "cell_type": "code",
   "execution_count": 108,
   "metadata": {
    "scrolled": true
   },
   "outputs": [
    {
     "name": "stderr",
     "output_type": "stream",
     "text": [
      "INFO:pystan:COMPILING THE C++ CODE FOR MODEL anon_model_b215ac18649d41b01dbf61c40dfe08c2 NOW.\n"
     ]
    }
   ],
   "source": [
    "model = pystan.StanModel(model_code = model_code)"
   ]
  },
  {
   "cell_type": "code",
   "execution_count": 109,
   "metadata": {},
   "outputs": [],
   "source": [
    "fit = model.sampling(data = data, seed = 1, iter=4000, chains=4)"
   ]
  },
  {
   "cell_type": "code",
   "execution_count": 110,
   "metadata": {
    "scrolled": true
   },
   "outputs": [
    {
     "data": {
      "text/plain": [
       "Inference for Stan model: anon_model_b215ac18649d41b01dbf61c40dfe08c2.\n",
       "4 chains, each with iter=4000; warmup=2000; thin=1; \n",
       "post-warmup draws per chain=2000, total post-warmup draws=8000.\n",
       "\n",
       "          mean se_mean     sd   2.5%    25%    50%    75%  97.5%  n_eff   Rhat\n",
       "theta_1   0.25  1.6e-3   0.12   0.06   0.16   0.24   0.33   0.52   5516    1.0\n",
       "theta_2   0.58  1.7e-3   0.14   0.31   0.49   0.59   0.68   0.83   6347    1.0\n",
       "lp__    -15.97    0.02   1.05  -18.9 -16.37 -15.65 -15.22 -14.93   3154    1.0\n",
       "\n",
       "Samples were drawn using NUTS at Thu Dec  2 16:09:28 2021.\n",
       "For each parameter, n_eff is a crude measure of effective sample size,\n",
       "and Rhat is the potential scale reduction factor on split chains (at \n",
       "convergence, Rhat=1)."
      ]
     },
     "execution_count": 110,
     "metadata": {},
     "output_type": "execute_result"
    }
   ],
   "source": [
    "fit"
   ]
  },
  {
   "cell_type": "code",
   "execution_count": 111,
   "metadata": {
    "scrolled": true
   },
   "outputs": [
    {
     "data": {
      "text/plain": [
       "{'n_eff': True,\n",
       " 'Rhat': True,\n",
       " 'divergence': True,\n",
       " 'treedepth': True,\n",
       " 'energy': True}"
      ]
     },
     "execution_count": 111,
     "metadata": {},
     "output_type": "execute_result"
    }
   ],
   "source": [
    "pystan.check_hmc_diagnostics(fit)"
   ]
  },
  {
   "cell_type": "code",
   "execution_count": 113,
   "metadata": {},
   "outputs": [
    {
     "data": {
      "image/png": "[encoded data removed]",
      "text/plain": [
       "<Figure size 432x288 with 1 Axes>"
      ]
     },
     "metadata": {
      "needs_background": "light"
     },
     "output_type": "display_data"
    }
   ],
   "source": [
    "est_theta1 = fit.extract()[\"theta_1\"]\n",
    "est_theta2 = fit.extract()[\"theta_2\"]\n",
    "\n",
    "boxes = []\n",
    "boxes.append(est_theta1)\n",
    "boxes.append(est_theta2)\n",
    "\n",
    "plt.boxplot(boxes, vert=0)\n",
    "plt.yticks([1,2], [\"theta1\", \"theta2\"])\n",
    "plt.axvline(x=0, color=\"black\", alpha=0.1)\n",
    "plt.title(\"Posterior distribution of theta1 and theta2\")\n",
    "plt.show()"
   ]
  },
  {
   "cell_type": "code",
   "execution_count": 115,
   "metadata": {},
   "outputs": [
    {
     "name": "stdout",
     "output_type": "stream",
     "text": [
      "[-0.04320568  0.34065995  0.6550048 ]\n"
     ]
    },
    {
     "data": {
      "image/png": "[encoded data removed]",
      "text/plain": [
       "<Figure size 432x288 with 1 Axes>"
      ]
     },
     "metadata": {
      "needs_background": "light"
     },
     "output_type": "display_data"
    }
   ],
   "source": [
    "diff = est_theta2 - est_theta1\n",
    "plt.boxplot(diff, vert=0)\n",
    "print(np.quantile(diff, q=[0.025, 0.5, 0.975]))"
   ]
  },
  {
   "cell_type": "markdown",
   "metadata": {},
   "source": [
    "<hr>"
   ]
  },
  {
   "cell_type": "code",
   "execution_count": 119,
   "metadata": {},
   "outputs": [],
   "source": [
    "data = {\"N\": len(cowA), \n",
    "        \"y_1\":cowA, \"y_2\":cowB, \n",
    "        \"lowbound_1\":0, \"upbound_1\":1, \n",
    "        \"lowbound_2\":0, \"upbound_2\":1}"
   ]
  },
  {
   "cell_type": "code",
   "execution_count": 116,
   "metadata": {},
   "outputs": [],
   "source": [
    "model_code = \"\"\"\n",
    "data {\n",
    "    int<lower=1> N;\n",
    "    int y_1[N];\n",
    "    int y_2[N];\n",
    "    int lowbound_1;\n",
    "    int upbound_1;\n",
    "    int lowbound_2;\n",
    "    int upbound_2;\n",
    "}\n",
    "parameters {\n",
    "    real<lower=0, upper=1> theta_1;\n",
    "    real<lower=0, upper=1> theta_2;\n",
    "}\n",
    "model {\n",
    "  theta_1 ~ uniform(lowbound_1, upbound_1);\n",
    "  theta_2 ~ uniform(lowbound_2, upbound_2);\n",
    "  y_1 ~ binomial(1, theta_1);\n",
    "  y_2 ~ binomial(1, theta_2);\n",
    "}\n",
    "\"\"\""
   ]
  },
  {
   "cell_type": "code",
   "execution_count": 117,
   "metadata": {
    "scrolled": true
   },
   "outputs": [
    {
     "name": "stderr",
     "output_type": "stream",
     "text": [
      "INFO:pystan:COMPILING THE C++ CODE FOR MODEL anon_model_0377ab6da5039688b6040e0d789cd68a NOW.\n"
     ]
    }
   ],
   "source": [
    "model = pystan.StanModel(model_code = model_code)"
   ]
  },
  {
   "cell_type": "code",
   "execution_count": 120,
   "metadata": {},
   "outputs": [],
   "source": [
    "fit = model.sampling(data = data, seed = 1, iter=4000, chains=4)"
   ]
  },
  {
   "cell_type": "code",
   "execution_count": 121,
   "metadata": {
    "scrolled": true
   },
   "outputs": [
    {
     "data": {
      "text/plain": [
       "Inference for Stan model: anon_model_0377ab6da5039688b6040e0d789cd68a.\n",
       "4 chains, each with iter=4000; warmup=2000; thin=1; \n",
       "post-warmup draws per chain=2000, total post-warmup draws=8000.\n",
       "\n",
       "          mean se_mean     sd   2.5%    25%    50%    75%  97.5%  n_eff   Rhat\n",
       "theta_1   0.25  1.5e-3   0.12   0.06   0.16   0.24   0.32   0.52   6541    1.0\n",
       "theta_2   0.58  1.6e-3   0.14   0.31   0.49   0.58   0.68   0.83   6818    1.0\n",
       "lp__    -15.94    0.02   1.04 -18.73 -16.33 -15.62 -15.19 -14.92   3014    1.0\n",
       "\n",
       "Samples were drawn using NUTS at Thu Dec  2 16:22:58 2021.\n",
       "For each parameter, n_eff is a crude measure of effective sample size,\n",
       "and Rhat is the potential scale reduction factor on split chains (at \n",
       "convergence, Rhat=1)."
      ]
     },
     "execution_count": 121,
     "metadata": {},
     "output_type": "execute_result"
    }
   ],
   "source": [
    "fit"
   ]
  },
  {
   "cell_type": "code",
   "execution_count": 122,
   "metadata": {
    "scrolled": true
   },
   "outputs": [
    {
     "data": {
      "text/plain": [
       "{'n_eff': True,\n",
       " 'Rhat': True,\n",
       " 'divergence': True,\n",
       " 'treedepth': True,\n",
       " 'energy': True}"
      ]
     },
     "execution_count": 122,
     "metadata": {},
     "output_type": "execute_result"
    }
   ],
   "source": [
    "pystan.check_hmc_diagnostics(fit)"
   ]
  },
  {
   "cell_type": "markdown",
   "metadata": {},
   "source": [
    "**2)** Earlier this year the farmer  ran an experiment where he gave 10 cows a special diet that could increase the milk production. He recorded the number of liters of milk from these “diet” cows and from 15 “normal” cows during one month. This is the data:\n",
    "\n",
    "\\begin{align}\n",
    "Y_1 &= (...)\\\\\n",
    "Y_2 &= (...)\\\\\n",
    "Y1 &\\sim \\mathcal{N}(\\mu_1, \\sigma_1)\\text{  likelihood}\\\\\n",
    "Y2 &\\sim \\mathcal{N}(\\mu_2, \\sigma_2)\\text{  likelihood}\\\\\n",
    "P(\\mu_1) &= U[600, 200]\\\\\n",
    "P(\\sigma_1) &= U[0,100]\\\\\n",
    "P(\\mu_2) &= U[600,200]\\\\\n",
    "P(\\sigma_2) &= U[0, 100]\\\\\n",
    "\\end{align}"
   ]
  },
  {
   "cell_type": "code",
   "execution_count": 123,
   "metadata": {},
   "outputs": [],
   "source": [
    "diet_milk = np.array([651., 679., 374., 601., 401., 609., 767., 709., 704., 679.])\n",
    "normal_milk = np.array([798., 1139., 529., 609., 553., 743., 151., 544., 488., 555., 257., 692., 678., 675., 538.])"
   ]
  },
  {
   "cell_type": "markdown",
   "metadata": {},
   "source": [
    "<span style=\"color:red\">data = input</span>\n",
    "\n",
    "<span style=\"color:red\">parameters = output</span>\n",
    "\n",
    "<span style=\"color:red\">model = priors and likelihood</span>"
   ]
  },
  {
   "cell_type": "code",
   "execution_count": 159,
   "metadata": {},
   "outputs": [],
   "source": [
    "model_code = \"\"\"\n",
    "data {\n",
    "    int n1;\n",
    "    int n2;\n",
    "    vector[n1] y1;\n",
    "    vector[n2] y2;\n",
    "}\n",
    "parameters {\n",
    "    real mu1;\n",
    "    real mu2;\n",
    "    real<lower=1e-4> sigma1;\n",
    "    real<lower=1e-4> sigma2;\n",
    "}\n",
    "model {\n",
    "    mu1 ~ uniform(0, 2000);\n",
    "    mu2 ~ uniform(0, 2000);\n",
    "    sigma1 ~ uniform(0, 100);\n",
    "    sigma2 ~ uniform(0, 100);\n",
    "    y1 ~ normal(mu1, sigma1);\n",
    "    y2 ~ normal(mu2, sigma2);\n",
    "}\n",
    "\"\"\""
   ]
  },
  {
   "cell_type": "code",
   "execution_count": 160,
   "metadata": {},
   "outputs": [],
   "source": [
    "data = {\"n1\":len(diet_milk),\"n2\":len(normal_milk),\"y1\":diet_milk, \"y2\":normal_milk}"
   ]
  },
  {
   "cell_type": "code",
   "execution_count": 161,
   "metadata": {
    "scrolled": false
   },
   "outputs": [
    {
     "name": "stderr",
     "output_type": "stream",
     "text": [
      "INFO:pystan:COMPILING THE C++ CODE FOR MODEL anon_model_68ac7706fa4602f1b5a1a6c3c0405a7a NOW.\n"
     ]
    }
   ],
   "source": [
    "model = pystan.StanModel(model_code = model_code)"
   ]
  },
  {
   "cell_type": "code",
   "execution_count": 162,
   "metadata": {},
   "outputs": [],
   "source": [
    "fit = model.sampling(data = data, seed = 1, iter=4000, chains=4)"
   ]
  },
  {
   "cell_type": "code",
   "execution_count": 163,
   "metadata": {
    "scrolled": true
   },
   "outputs": [
    {
     "data": {
      "text/plain": [
       "Inference for Stan model: anon_model_68ac7706fa4602f1b5a1a6c3c0405a7a.\n",
       "4 chains, each with iter=4000; warmup=2000; thin=1; \n",
       "post-warmup draws per chain=2000, total post-warmup draws=8000.\n",
       "\n",
       "         mean se_mean     sd   2.5%    25%    50%    75%  97.5%  n_eff   Rhat\n",
       "mu1    617.65    0.75  51.41 511.56 587.17 617.93 648.45 721.94   4699    1.0\n",
       "mu2    596.53    0.82  66.18 465.28 553.75 596.67 638.22 729.26   6545    1.0\n",
       "sigma1 153.79    0.83  47.11  92.65 121.41 143.96 175.13 273.27   3234    1.0\n",
       "sigma2 249.17    0.68  53.18 169.71 211.76  241.3 277.39 377.23   6044    1.0\n",
       "lp__   -133.4    0.03   1.58 -137.4 -134.2 -133.1 -132.3 -131.5   2679    1.0\n",
       "\n",
       "Samples were drawn using NUTS at Thu Dec  2 17:02:53 2021.\n",
       "For each parameter, n_eff is a crude measure of effective sample size,\n",
       "and Rhat is the potential scale reduction factor on split chains (at \n",
       "convergence, Rhat=1)."
      ]
     },
     "execution_count": 163,
     "metadata": {},
     "output_type": "execute_result"
    }
   ],
   "source": [
    "fit"
   ]
  },
  {
   "cell_type": "code",
   "execution_count": 164,
   "metadata": {
    "scrolled": true
   },
   "outputs": [
    {
     "data": {
      "text/plain": [
       "{'n_eff': True,\n",
       " 'Rhat': True,\n",
       " 'divergence': True,\n",
       " 'treedepth': True,\n",
       " 'energy': True}"
      ]
     },
     "execution_count": 164,
     "metadata": {},
     "output_type": "execute_result"
    }
   ],
   "source": [
    "pystan.check_hmc_diagnostics(fit)"
   ]
  },
  {
   "cell_type": "code",
   "execution_count": 166,
   "metadata": {},
   "outputs": [
    {
     "data": {
      "image/png": "[encoded data removed]",
      "text/plain": [
       "<Figure size 432x288 with 1 Axes>"
      ]
     },
     "metadata": {
      "needs_background": "light"
     },
     "output_type": "display_data"
    }
   ],
   "source": [
    "est_theta1 = fit.extract()[\"mu1\"]\n",
    "est_theta2 = fit.extract()[\"mu2\"]\n",
    "\n",
    "boxes = []\n",
    "boxes.append(est_theta1)\n",
    "boxes.append(est_theta2)\n",
    "\n",
    "plt.boxplot(boxes, vert=0)\n",
    "plt.yticks([1,2], [\"mu_1\", \"mu_2\"])\n",
    "plt.axvline(x=0, color=\"black\", alpha=0.1)\n",
    "plt.title(\"Posterior distribution of mu_1 and mu_2\")\n",
    "plt.show()"
   ]
  },
  {
   "cell_type": "code",
   "execution_count": 167,
   "metadata": {},
   "outputs": [
    {
     "name": "stdout",
     "output_type": "stream",
     "text": [
      "[-185.26479295  -21.53188003  149.38431613]\n"
     ]
    },
    {
     "data": {
      "image/png": "[encoded data removed]",
      "text/plain": [
       "<Figure size 432x288 with 1 Axes>"
      ]
     },
     "metadata": {
      "needs_background": "light"
     },
     "output_type": "display_data"
    }
   ],
   "source": [
    "diff = est_theta2 - est_theta1\n",
    "plt.boxplot(diff, vert=0)\n",
    "print(np.quantile(diff, q=[0.025, 0.5, 0.975]))"
   ]
  },
  {
   "cell_type": "markdown",
   "metadata": {},
   "source": [
    "**2a)** The farmer now wants to know: Was the diet any good, does it results in better milk production? "
   ]
  },
  {
   "cell_type": "markdown",
   "metadata": {},
   "source": [
    "The most common approach here would be to model the milk production of each cow as a normal distribution. For the cows following a diet, their milk production can be modeled as $y_i \\sim \\mathcal{N}(\\mu_{diet}, \\sigma^{2}_{diet})$, while for normal cows the milk production can be modeled as $y_i \\sim \\mathcal{N}(\\mu_{normal}, \\sigma^{2}_{normal})$.\n",
    "We should also add priors for these four parameters. A lazy option here could be to assign them uniform priors."
   ]
  },
  {
   "cell_type": "markdown",
   "metadata": {},
   "source": [
    "**3)** The farmer also has chickens. He tries different diets on them too with the hope that they will produce more eggs. Below is the number of eggs produced in one week by chickens on a diet and chickens eating normal chicken food:"
   ]
  },
  {
   "cell_type": "code",
   "execution_count": null,
   "metadata": {},
   "outputs": [],
   "source": [
    "diet_eggs = np.array([6, 4, 2, 3, 4, 3, 0, 4, 0, 6, 3])\n",
    "normal_eggs =  np.array([4, 2, 1, 1, 2, 1, 2, 1, 3, 2, 1])"
   ]
  },
  {
   "cell_type": "markdown",
   "metadata": {},
   "source": [
    "**3a)** The farmer now wants to know: Was the diet any good, does it result in the chickens producing more eggs ? "
   ]
  },
  {
   "cell_type": "markdown",
   "metadata": {},
   "source": [
    "In this case we want to model count data, therefore a reasonable choice to model the number of eggs produced by the chickens would be a Poisson distribution. This distribution has one parameter $\\lambda$ which stands for the mean count. "
   ]
  },
  {
   "cell_type": "markdown",
   "metadata": {},
   "source": [
    "**4)** The farmer is now wondering whether the amount of time a cow spends outside in the sunshine affects how much milk she produces. To test this he makes a controlled experiment where he picks out 20 cows and assigns to each of them a number of hours she should spend outside each day. The experiment runs for a month and the farmer records the number of liters of milk each cow produces. The data is the following:"
   ]
  },
  {
   "cell_type": "code",
   "execution_count": null,
   "metadata": {},
   "outputs": [],
   "source": [
    "milk = np.array([685, 691, 476, 1151, 879, 725, 1190, 1107, 809, 539, 298, 805, 820, 498, 1026, 1217, 1177, 684, 1061, 834])\n",
    "\n",
    "hours = np.array([3, 7, 6, 10, 6, 5, 10, 11, 9, 3, 6, 6, 3, 5, 8, 11, 12, 9, 5, 5])\n"
   ]
  },
  {
   "cell_type": "markdown",
   "metadata": {},
   "source": [
    "**4a)**  Using this data on hours of sunshine and resulting liters of milk the farmer wants to know: Does sunshine affect milk production positively or negatively?\n"
   ]
  }
 ],
 "metadata": {
  "kernelspec": {
   "display_name": "Python 3 (ipykernel)",
   "language": "python",
   "name": "python3"
  },
  "language_info": {
   "codemirror_mode": {
    "name": "ipython",
    "version": 3
   },
   "file_extension": ".py",
   "mimetype": "text/x-python",
   "name": "python",
   "nbconvert_exporter": "python",
   "pygments_lexer": "ipython3",
   "version": "3.9.7"
  },
  "widgets": {
   "application/vnd.jupyter.widget-state+json": {
    "state": {},
    "version_major": 1,
    "version_minor": 0
   }
  }
 },
 "nbformat": 4,
 "nbformat_minor": 2
}
