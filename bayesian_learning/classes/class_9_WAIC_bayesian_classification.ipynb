{
 "cells": [
  {
   "cell_type": "markdown",
   "metadata": {},
   "source": [
    "## Comparing Bayesian Models: The Widely Applicable Information Criterion\n",
    "   \n",
    "The Widely Applicable Information Criterion (WAIC) is an information criterion (such as AIC or BIC) that can be used in Bayesian models. The interesting aspect of the WAIC is that it is completely based on the likelihood of the posterior predictions. To compute the WAIC we have simply to be able to compute samples from the posterior, no matter which kind of posterior we are working with.\n",
    "\n",
    "Let's $y_i$ be a target point in the training sample, we define $Pr(y_i)$ the average likelihood of the point under our model. This means that for each combination of posterior parameters of our model we can compute the associated likelihood of the point, and then average across all the likelihoods. This quantity is called *log-pointwise-predictive-density* (lppd):\n",
    "\n",
    "$$ lppd = \\sum_{i=1}^N \\log[Pr(y_i)]. $$\n",
    "\n",
    "This is the equivalent of the deviance that is computed when computing the AIC. \n",
    "While *lppd* accounts for model fit, the second part of WAIC should penalize model complexity. Instead of computing the number of parameters, as in AIC or BIC, WAIC computed the variance $V(y_i)$ of the log-likelihood associated to each data point. In practice, we compute the likelihood of $y_i$ for each combination of parameters from our posterior, and then we compute the variance of these quantities. We therefore define the effective number of parameters $p_{WAIC}$ as:\n",
    "\n",
    "$$ p_{WAIC} = \\sum_{i=1}^N V(y_i) .$$\n",
    "\n",
    "WAIC is finally defined as \n",
    "\n",
    "$$ WAIC = -2 (lppd - p_{WAIC}) $$\n",
    "\n"
   ]
  },
  {
   "cell_type": "code",
   "execution_count": 1,
   "metadata": {},
   "outputs": [
    {
     "data": {
      "text/plain": [
       "<matplotlib.collections.PathCollection at 0x7fa0a9d861f0>"
      ]
     },
     "execution_count": 1,
     "metadata": {},
     "output_type": "execute_result"
    },
    {
     "data": {
      "image/png": "[encoded data removed]",
      "text/plain": [
       "<Figure size 432x288 with 1 Axes>"
      ]
     },
     "metadata": {
      "needs_background": "light"
     },
     "output_type": "display_data"
    }
   ],
   "source": [
    "import numpy as np\n",
    "import pandas as pd\n",
    "import matplotlib.pyplot as plt\n",
    "\n",
    "N = 20\n",
    "noise = 0.3\n",
    "x = np.linspace(0,1,N)\n",
    "y = np.sin(x*3) + noise * np.random.randn(N)\n",
    "\n",
    "data_synth = pd.DataFrame({'x' : x, 'y' : y})\n",
    "\n",
    "plt.scatter(x,y)"
   ]
  },
  {
   "cell_type": "code",
   "execution_count": 2,
   "metadata": {
    "scrolled": false
   },
   "outputs": [
    {
     "name": "stdout",
     "output_type": "stream",
     "text": [
      "      fun: 18.3731945304786\n",
      " hess_inv: array([[1.21560808e-02, 3.41158670e-05],\n",
      "       [3.41158670e-05, 6.17757087e-03]])\n",
      "      jac: array([-2.38418579e-07, -4.76837158e-07])\n",
      "  message: 'Optimization terminated successfully.'\n",
      "     nfev: 42\n",
      "      nit: 9\n",
      "     njev: 14\n",
      "   status: 0\n",
      "  success: True\n",
      "        x: array([0.57843264, 0.49287281])\n"
     ]
    },
    {
     "name": "stderr",
     "output_type": "stream",
     "text": [
      "/home/quentin/anaconda3/lib/python3.8/site-packages/scipy/optimize/_numdiff.py:557: RuntimeWarning: invalid value encountered in subtract\n",
      "  df = fun(x) - f0\n"
     ]
    },
    {
     "name": "stdout",
     "output_type": "stream",
     "text": [
      "      fun: 20.895176606850256\n",
      " hess_inv: array([[ 4.48756747e-02, -6.55365998e-02, -3.80292937e-05],\n",
      "       [-6.55365998e-02,  1.31198711e-01,  7.25471769e-05],\n",
      "       [-3.80292937e-05,  7.25471769e-05,  6.07247264e-03]])\n",
      "      jac: array([-2.38418579e-07,  0.00000000e+00,  0.00000000e+00])\n",
      "  message: 'Optimization terminated successfully.'\n",
      "     nfev: 102\n",
      "      nit: 18\n",
      "     njev: 25\n",
      "   status: 0\n",
      "  success: True\n",
      "        x: array([ 0.59888576, -0.04092572,  0.49270257])\n",
      "      fun: 14.293986473402938\n",
      " hess_inv: array([[ 0.03232563, -0.120358  ,  0.09595806,  0.00065389],\n",
      "       [-0.120358  ,  0.65305889, -0.60642463, -0.00329559],\n",
      "       [ 0.09595806, -0.60642463,  0.60785712,  0.00335339],\n",
      "       [ 0.00065389, -0.00329559,  0.00335339,  0.00220703]])\n",
      "      jac: array([ 9.53674316e-07,  7.15255737e-07,  4.76837158e-07, -1.90734863e-06])\n",
      "  message: 'Optimization terminated successfully.'\n",
      "     nfev: 145\n",
      "      nit: 22\n",
      "     njev: 29\n",
      "   status: 0\n",
      "  success: True\n",
      "        x: array([-0.11060526,  4.47754388, -4.52911218,  0.29982956])\n"
     ]
    },
    {
     "name": "stderr",
     "output_type": "stream",
     "text": [
      "/home/quentin/anaconda3/lib/python3.8/site-packages/scipy/optimize/_numdiff.py:557: RuntimeWarning: invalid value encountered in subtract\n",
      "  df = fun(x) - f0\n",
      "/home/quentin/anaconda3/lib/python3.8/site-packages/scipy/optimize/_numdiff.py:557: RuntimeWarning: invalid value encountered in subtract\n",
      "  df = fun(x) - f0\n"
     ]
    },
    {
     "name": "stdout",
     "output_type": "stream",
     "text": [
      "      fun: 16.1614830486292\n",
      " hess_inv: array([[ 3.70225237e-02, -1.98817035e-01,  3.02162541e-01,\n",
      "        -1.40110484e-01,  2.62797137e-04],\n",
      "       [-1.98817035e-01,  1.83200195e+00, -3.74424456e+00,\n",
      "         2.13853426e+00, -3.00081669e-03],\n",
      "       [ 3.02162541e-01, -3.74424456e+00,  9.03234132e+00,\n",
      "        -5.76378382e+00,  5.65388151e-03],\n",
      "       [-1.40110484e-01,  2.13853426e+00, -5.76378382e+00,\n",
      "         3.95032943e+00, -2.70420041e-03],\n",
      "       [ 2.62797137e-04, -3.00081669e-03,  5.65388151e-03,\n",
      "        -2.70420041e-03,  2.19629964e-03]])\n",
      "      jac: array([-2.14576721e-06, -1.66893005e-06, -1.90734863e-06, -1.90734863e-06,\n",
      "       -1.90734863e-06])\n",
      "  message: 'Optimization terminated successfully.'\n",
      "     nfev: 216\n",
      "      nit: 25\n",
      "     njev: 35\n",
      "   status: 0\n",
      "  success: True\n",
      "        x: array([-0.03324515,  3.24720588, -1.17065672, -2.32237166,  0.29691158])\n"
     ]
    },
    {
     "name": "stderr",
     "output_type": "stream",
     "text": [
      "/home/quentin/anaconda3/lib/python3.8/site-packages/scipy/optimize/_numdiff.py:557: RuntimeWarning: invalid value encountered in subtract\n",
      "  df = fun(x) - f0\n"
     ]
    },
    {
     "name": "stdout",
     "output_type": "stream",
     "text": [
      "      fun: 18.67771010920695\n",
      " hess_inv: array([[ 3.99481274e-02, -2.08137188e-01,  2.62111875e-01,\n",
      "        -7.00488594e-03, -8.70310964e-02,  3.77203574e-04],\n",
      "       [-2.08137188e-01,  1.87008723e+00, -3.52999724e+00,\n",
      "         1.27412390e+00,  6.50920351e-01, -4.80056164e-03],\n",
      "       [ 2.62111875e-01, -3.52999724e+00,  9.68578972e+00,\n",
      "        -8.23614062e+00,  1.67554958e+00,  5.79636186e-03],\n",
      "       [-7.00488594e-03,  1.27412390e+00, -8.23614062e+00,\n",
      "         1.47162428e+01, -7.80621364e+00,  9.78761512e-03],\n",
      "       [-8.70310964e-02,  6.50920351e-01,  1.67554958e+00,\n",
      "        -7.80621364e+00,  5.75710094e+00, -1.16613607e-02],\n",
      "       [ 3.77203574e-04, -4.80056164e-03,  5.79636186e-03,\n",
      "         9.78761512e-03, -1.16613607e-02,  2.28708989e-03]])\n",
      "      jac: array([ 3.09944153e-06,  1.19209290e-06,  0.00000000e+00, -2.38418579e-07,\n",
      "       -4.76837158e-07, -9.53674316e-07])\n",
      "  message: 'Optimization terminated successfully.'\n",
      "     nfev: 289\n",
      "      nit: 30\n",
      "     njev: 41\n",
      "   status: 0\n",
      "  success: True\n",
      "        x: array([-0.02639965,  3.20190309, -1.27967002, -1.80883205, -0.38004641,\n",
      "        0.29732609])\n"
     ]
    },
    {
     "name": "stderr",
     "output_type": "stream",
     "text": [
      "/home/quentin/anaconda3/lib/python3.8/site-packages/scipy/optimize/_numdiff.py:557: RuntimeWarning: invalid value encountered in subtract\n",
      "  df = fun(x) - f0\n"
     ]
    },
    {
     "name": "stdout",
     "output_type": "stream",
     "text": [
      "      fun: 21.166235893347825\n",
      " hess_inv: array([[ 3.96920011e-02, -2.08316020e-01,  2.48613277e-01,\n",
      "         5.59846610e-03, -4.79724256e-02, -4.05849752e-02,\n",
      "         8.40135244e-04],\n",
      "       [-2.08316020e-01,  1.87864343e+00, -3.58285773e+00,\n",
      "         1.35567426e+00,  9.03990973e-01, -3.18791481e-01,\n",
      "        -4.18792441e-03],\n",
      "       [ 2.48613277e-01, -3.58285773e+00,  1.04915014e+01,\n",
      "        -8.67575428e+00, -1.24363899e+00,  2.77064558e+00,\n",
      "         1.21537401e-03],\n",
      "       [ 5.59846610e-03,  1.35567426e+00, -8.67575428e+00,\n",
      "         1.46826929e+01, -6.30489007e+00, -1.19885737e+00,\n",
      "         5.78034391e-03],\n",
      "       [-4.79724256e-02,  9.03990973e-01, -1.24363899e+00,\n",
      "        -6.30489007e+00,  1.44356784e+01, -7.81681116e+00,\n",
      "         1.70816665e-03],\n",
      "       [-4.05849752e-02, -3.18791481e-01,  2.77064558e+00,\n",
      "        -1.19885737e+00, -7.81681116e+00,  6.82803785e+00,\n",
      "        -5.90688976e-03],\n",
      "       [ 8.40135244e-04, -4.18792441e-03,  1.21537401e-03,\n",
      "         5.78034391e-03,  1.70816665e-03, -5.90688976e-03,\n",
      "         2.06582067e-03]])\n",
      "      jac: array([ 9.53674316e-07,  4.76837158e-07,  9.53674316e-07,  9.53674316e-07,\n",
      "        7.15255737e-07,  2.38418579e-07, -4.29153442e-06])\n",
      "  message: 'Optimization terminated successfully.'\n",
      "     nfev: 409\n",
      "      nit: 36\n",
      "     njev: 51\n",
      "   status: 0\n",
      "  success: True\n",
      "        x: array([-0.02981277,  3.15932003, -0.94658013, -1.95582406, -1.29555327,\n",
      "        0.797446  ,  0.29622693])\n"
     ]
    },
    {
     "name": "stderr",
     "output_type": "stream",
     "text": [
      "/home/quentin/anaconda3/lib/python3.8/site-packages/scipy/optimize/_numdiff.py:557: RuntimeWarning: invalid value encountered in subtract\n",
      "  df = fun(x) - f0\n"
     ]
    },
    {
     "name": "stdout",
     "output_type": "stream",
     "text": [
      "      fun: 23.584479310311686\n",
      " hess_inv: array([[ 3.37986048e-02, -1.70693571e-01,  1.72357335e-01,\n",
      "         6.68056249e-02, -6.16520659e-02, -7.38362808e-02,\n",
      "         3.15459840e-02,  5.85263673e-04],\n",
      "       [-1.70693571e-01,  1.67561580e+00, -3.15988570e+00,\n",
      "         6.37105336e-01,  1.39152247e+00,  4.30194287e-01,\n",
      "        -7.81675439e-01, -2.37817721e-03],\n",
      "       [ 1.72357335e-01, -3.15988570e+00,  9.43294521e+00,\n",
      "        -6.09069661e+00, -3.89283343e+00,  1.43031660e+00,\n",
      "         2.11743756e+00, -3.10202676e-03],\n",
      "       [ 6.68056249e-02,  6.37105336e-01, -6.09069661e+00,\n",
      "         1.03461911e+01, -6.85342670e-01, -6.86032785e+00,\n",
      "         2.49044200e+00,  2.80967788e-03],\n",
      "       [-6.16520659e-02,  1.39152247e+00, -3.89283343e+00,\n",
      "        -6.85342670e-01,  5.48831570e+00,  3.20056670e+00,\n",
      "        -5.53006559e+00,  7.59722657e-03],\n",
      "       [-7.38362808e-02,  4.30194287e-01,  1.43031660e+00,\n",
      "        -6.86032785e+00,  3.20056670e+00,  7.45416594e+00,\n",
      "        -5.56123724e+00,  4.10360996e-03],\n",
      "       [ 3.15459840e-02, -7.81675439e-01,  2.11743756e+00,\n",
      "         2.49044200e+00, -5.53006559e+00, -5.56123724e+00,\n",
      "         7.43395009e+00, -9.57023267e-03],\n",
      "       [ 5.85263673e-04, -2.37817721e-03, -3.10202676e-03,\n",
      "         2.80967788e-03,  7.59722657e-03,  4.10360996e-03,\n",
      "        -9.57023267e-03,  2.19907481e-03]])\n",
      "      jac: array([ 4.76837158e-06,  2.14576721e-06,  9.53674316e-07,  2.38418579e-07,\n",
      "        9.53674316e-07,  0.00000000e+00,  4.76837158e-07, -1.43051147e-06])\n",
      "  message: 'Optimization terminated successfully.'\n",
      "     nfev: 381\n",
      "      nit: 33\n",
      "     njev: 42\n",
      "   status: 0\n",
      "  success: True\n",
      "        x: array([-0.02673609,  3.02193696, -0.52010196, -1.74891057, -1.8095029 ,\n",
      "       -0.6128494 ,  1.45845918,  0.29424067])\n"
     ]
    },
    {
     "name": "stderr",
     "output_type": "stream",
     "text": [
      "/home/quentin/anaconda3/lib/python3.8/site-packages/scipy/optimize/_numdiff.py:557: RuntimeWarning: invalid value encountered in subtract\n",
      "  df = fun(x) - f0\n",
      "/home/quentin/anaconda3/lib/python3.8/site-packages/scipy/optimize/_numdiff.py:557: RuntimeWarning: invalid value encountered in subtract\n",
      "  df = fun(x) - f0\n",
      "/home/quentin/anaconda3/lib/python3.8/site-packages/scipy/optimize/_numdiff.py:557: RuntimeWarning: invalid value encountered in subtract\n",
      "  df = fun(x) - f0\n"
     ]
    },
    {
     "name": "stdout",
     "output_type": "stream",
     "text": [
      "      fun: 25.970483044049445\n",
      " hess_inv: array([[ 3.52274234e-02, -1.96522598e-01,  2.50339328e-01,\n",
      "         2.51936603e-02, -6.92588570e-02, -7.83427006e-02,\n",
      "        -3.12995990e-02,  6.43027062e-02, -5.18479892e-06],\n",
      "       [-1.96522598e-01,  1.97583565e+00, -3.86864741e+00,\n",
      "         7.23896716e-01,  1.50650771e+00,  9.41170876e-01,\n",
      "         1.71764867e-02, -1.10413240e+00,  9.09234032e-04],\n",
      "       [ 2.50339328e-01, -3.86864741e+00,  1.10837454e+01,\n",
      "        -6.78494531e+00, -3.28301447e+00, -1.94811209e-01,\n",
      "         5.93133989e-01,  2.26677650e+00, -4.14610580e-03],\n",
      "       [ 2.51936603e-02,  7.23896716e-01, -6.78494531e+00,\n",
      "         1.36033669e+01, -4.90930096e+00, -5.89307044e+00,\n",
      "         1.91067279e+00,  1.28437766e+00, -6.76436405e-04],\n",
      "       [-6.92588570e-02,  1.50650771e+00, -3.28301447e+00,\n",
      "        -4.90930096e+00,  1.14270878e+01,  2.56313413e+00,\n",
      "        -8.35234691e+00,  1.01099322e+00,  2.63885331e-03],\n",
      "       [-7.83427006e-02,  9.41170876e-01, -1.94811209e-01,\n",
      "        -5.89307044e+00,  2.56313413e+00,  6.80526428e+00,\n",
      "         1.95199341e+00, -6.17861665e+00,  7.91035452e-03],\n",
      "       [-3.12995990e-02,  1.71764867e-02,  5.93133989e-01,\n",
      "         1.91067279e+00, -8.35234691e+00,  1.95199341e+00,\n",
      "         1.11488954e+01, -7.21216103e+00,  5.48277640e-03],\n",
      "       [ 6.43027062e-02, -1.10413240e+00,  2.26677650e+00,\n",
      "         1.28437766e+00,  1.01099322e+00, -6.17861665e+00,\n",
      "        -7.21216103e+00,  1.00755826e+01, -1.21433304e-02],\n",
      "       [-5.18479892e-06,  9.09234032e-04, -4.14610580e-03,\n",
      "        -6.76436405e-04,  2.63885331e-03,  7.91035452e-03,\n",
      "         5.48277640e-03, -1.21433304e-02,  2.00450439e-03]])\n",
      "      jac: array([4.76837158e-07, 9.53674316e-07, 2.38418579e-07, 0.00000000e+00,\n",
      "       2.38418579e-07, 0.00000000e+00, 0.00000000e+00, 0.00000000e+00,\n",
      "       1.19209290e-06])\n",
      "  message: 'Optimization terminated successfully.'\n",
      "     nfev: 467\n",
      "      nit: 34\n",
      "     njev: 46\n",
      "   status: 0\n",
      "  success: True\n",
      "        x: array([-0.01890192,  2.86871611, -0.2441287 , -1.38087101, -1.84488178,\n",
      "       -1.32190145, -0.02554418,  1.76461975,  0.29208842])\n",
      "      fun: 28.35877867349783\n",
      " hess_inv: array([[ 3.29857219e-02, -1.80307391e-01,  2.24954213e-01,\n",
      "         3.65286186e-02, -5.13686224e-02, -7.83761137e-02,\n",
      "        -6.03413187e-02, -1.66318039e-02,  9.29515360e-02,\n",
      "         1.76582047e-04],\n",
      "       [-1.80307391e-01,  1.83130318e+00, -3.54210535e+00,\n",
      "         7.23643591e-01,  8.21467480e-01,  8.96659872e-01,\n",
      "         6.44114315e-01,  7.86140601e-02, -1.28394275e+00,\n",
      "         1.04658620e-03],\n",
      "       [ 2.24954213e-01, -3.54210535e+00,  1.03641432e+01,\n",
      "        -7.49211641e+00, -1.18102978e+00,  1.30557257e-01,\n",
      "        -1.00356463e-01, -3.63385486e-01,  2.02399141e+00,\n",
      "        -4.03773292e-04],\n",
      "       [ 3.65286186e-02,  7.23643591e-01, -7.49211641e+00,\n",
      "         1.47833049e+01, -2.99092926e+00, -6.25300713e+00,\n",
      "        -3.41538329e+00,  1.36276245e+00,  3.25147954e+00,\n",
      "        -9.62041159e-03],\n",
      "       [-5.13686224e-02,  8.21467480e-01, -1.18102978e+00,\n",
      "        -2.99092926e+00,  3.02782582e+00,  1.81047384e+00,\n",
      "         1.06343734e+00,  1.27620822e+00, -3.89063653e+00,\n",
      "         4.69400609e-03],\n",
      "       [-7.83761137e-02,  8.96659872e-01,  1.30557257e-01,\n",
      "        -6.25300713e+00,  1.81047384e+00,  7.31333346e+00,\n",
      "         3.08545244e+00, -6.40399803e+00, -5.93986635e-01,\n",
      "         9.41629428e-03],\n",
      "       [-6.03413187e-02,  6.44114315e-01, -1.00356463e-01,\n",
      "        -3.41538329e+00,  1.06343734e+00,  3.08545244e+00,\n",
      "         2.49767557e+00, -2.79227574e+00, -9.50617845e-01,\n",
      "         5.07230849e-03],\n",
      "       [-1.66318039e-02,  7.86140601e-02, -3.63385486e-01,\n",
      "         1.36276245e+00,  1.27620822e+00, -6.40399803e+00,\n",
      "        -2.79227574e+00,  1.45334948e+01, -7.63800210e+00,\n",
      "        -5.20728590e-03],\n",
      "       [ 9.29515360e-02, -1.28394275e+00,  2.02399141e+00,\n",
      "         3.25147954e+00, -3.89063653e+00, -5.93986635e-01,\n",
      "        -9.50617845e-01, -7.63800210e+00,  9.19034519e+00,\n",
      "        -5.24137288e-03],\n",
      "       [ 1.76582047e-04,  1.04658620e-03, -4.03773292e-04,\n",
      "        -9.62041159e-03,  4.69400609e-03,  9.41629428e-03,\n",
      "         5.07230849e-03, -5.20728590e-03, -5.24137288e-03,\n",
      "         2.24494270e-03]])\n",
      "      jac: array([-1.66893005e-06, -2.38418579e-07, -1.43051147e-06, -4.76837158e-07,\n",
      "       -4.76837158e-07, -4.76837158e-07, -4.76837158e-07, -9.53674316e-07,\n",
      "        0.00000000e+00, -2.14576721e-06])\n",
      "  message: 'Optimization terminated successfully.'\n",
      "     nfev: 462\n",
      "      nit: 34\n",
      "     njev: 42\n",
      "   status: 0\n",
      "  success: True\n",
      "        x: array([-0.01031986,  2.75197469, -0.14825236, -1.03916996, -1.63648931,\n",
      "       -1.52386343, -0.78512481,  0.38992046,  1.82999981,  0.29024384])\n"
     ]
    }
   ],
   "source": [
    "%run tools.py\n",
    "\n",
    "degree = 9\n",
    "likelihood = 'gaussian'\n",
    "\n",
    "models = []\n",
    "\n",
    "for i in range(degree):\n",
    "    \n",
    "    data_poly = pd.DataFrame({'y' : y})\n",
    "\n",
    "    priors = []\n",
    "\n",
    "    prior_a_mean = 0\n",
    "    prior_a_sigma = 5\n",
    "    prior_a = ['gaussian', [prior_a_mean, prior_a_sigma]]\n",
    "\n",
    "    priors.append(prior_a)\n",
    "    \n",
    "    if i > 0:\n",
    "        expr = 'y ~ '\n",
    "        for k in range(1,i+1):\n",
    "            if k>1:\n",
    "                expr = expr + '+'\n",
    "            prior_param_mean = 0\n",
    "            prior_param_sigma = 5\n",
    "            prior_param = ['gaussian', [prior_param_mean, prior_param_sigma]]\n",
    "            priors.append(prior_param)\n",
    "            data_poly['x'+str(k)] = x**k\n",
    "            expr = expr + 'x' + str(k)\n",
    "\n",
    "    sigma_inf = 0.1\n",
    "    sigma_sup = 5\n",
    "    prior_sigma_unif = [sigma_inf, sigma_sup]\n",
    "    prior_sigma = ['uniform', prior_sigma_unif]\n",
    "\n",
    "    priors.append(prior_sigma)\n",
    "    \n",
    "    if i > 0:\n",
    "        models.append(laplace_solution_regression(expr, data_poly, likelihood, priors))\n",
    "    else:\n",
    "        models.append(laplace_solution([1,1],[],data_poly['y'], likelihood, priors))   "
   ]
  },
  {
   "cell_type": "code",
   "execution_count": 3,
   "metadata": {},
   "outputs": [
    {
     "data": {
      "image/png": "[encoded data removed]",
      "text/plain": [
       "<Figure size 432x288 with 9 Axes>"
      ]
     },
     "metadata": {
      "needs_background": "light"
     },
     "output_type": "display_data"
    }
   ],
   "source": [
    "N_samp = 50\n",
    "\n",
    "for i in range(degree):\n",
    "    plt.subplot(int(float(degree)/3)+1,3,i+1)\n",
    "\n",
    "    samples = post_sample_Laplace(models[i], N_samp)\n",
    "    for l in range(N_samp):\n",
    "        if i>0:\n",
    "            pred = np.sum([x**k * samples[l,k] for k in range(i+1)],0)\n",
    "        else:\n",
    "            pred = x**0 * samples[l,0]\n",
    "        plt.plot(x,pred, color = 'black', alpha = 0.02)\n",
    "    \n",
    "    plt.scatter(x,y)\n",
    "    plt.title('degree ' + str(i))    \n",
    "    plt.subplots_adjust(top=3, bottom=0.001, left=0.10, right=1.95, hspace=0.25,wspace=0.35)"
   ]
  },
  {
   "cell_type": "code",
   "execution_count": 4,
   "metadata": {},
   "outputs": [
    {
     "data": {
      "image/png": "[encoded data removed]",
      "text/plain": [
       "<Figure size 432x288 with 1 Axes>"
      ]
     },
     "metadata": {
      "needs_background": "light"
     },
     "output_type": "display_data"
    }
   ],
   "source": [
    "import scipy\n",
    "\n",
    "WAIC = []\n",
    "\n",
    "N_samp = 1000\n",
    "\n",
    "for i in range(degree):\n",
    "    lppd = 0\n",
    "    p_waic = 0\n",
    "    samples = post_sample_Laplace(models[i], N_samp)\n",
    "    for k,target in enumerate(y):\n",
    "        log_p = []\n",
    "        for l in range(len(samples)):\n",
    "            if i>0:\n",
    "                pred = np.sum([x[k]**j * samples[l,j] for j in range(i+1)],0)\n",
    "                log_p.append(norm.logpdf(target,pred,samples[l][-1]))\n",
    "            else:\n",
    "                pred = x[k]**0 * samples[l,0]\n",
    "                log_p.append(norm.logpdf(target,pred,samples[l][-1]))\n",
    "    \n",
    "        lppd += scipy.special.logsumexp(log_p) - np.log(len(log_p))\n",
    "        p_waic += np.var(log_p)\n",
    "    \n",
    "#    print(lppd, p_waic)\n",
    "    \n",
    "    WAIC.append(-2*( lppd - p_waic))   \n",
    "\n",
    "plt.plot(range(degree),WAIC)\n",
    "plt.xticks(range(degree))\n",
    "plt.xlabel('polynomial degree')\n",
    "plt.ylabel('WAIC')\n",
    "plt.show()"
   ]
  },
  {
   "cell_type": "markdown",
   "metadata": {},
   "source": [
    "**Exercise.** Compare a polynomial model of order 1 to the polynomial model of order 4 with Stan"
   ]
  },
  {
   "cell_type": "code",
   "execution_count": 5,
   "metadata": {},
   "outputs": [],
   "source": [
    "import pystan\n",
    "from pystan.constants import MAX_UINT\n",
    "\n",
    "import os\n",
    "\n",
    "os.environ[\"CC\"] = \"g++-10\"\n",
    "os.environ[\"CXX\"] = \"g++-10\""
   ]
  },
  {
   "cell_type": "code",
   "execution_count": 6,
   "metadata": {},
   "outputs": [
    {
     "name": "stderr",
     "output_type": "stream",
     "text": [
      "INFO:pystan:COMPILING THE C++ CODE FOR MODEL anon_model_f099d5d39952dc79827a33676111323f NOW.\n"
     ]
    }
   ],
   "source": [
    "poly_model_1_code = \"\"\"\n",
    "data {\n",
    "    int<lower=1> N;\n",
    "    vector[N] y;\n",
    "    vector[N] x1;\n",
    "    real mu_a;\n",
    "    real<lower=0> std_a;\n",
    "    real mu_b1;\n",
    "    real<lower=0> std_b1;\n",
    "}\n",
    "parameters {\n",
    "    real a;\n",
    "    real b1;\n",
    "    real<lower=1e-4> sigma;\n",
    "}\n",
    "transformed parameters {\n",
    "    vector[N] mu;\n",
    "    mu = a + b1 * x1 ; \n",
    "}\n",
    "model {\n",
    "    b1 ~ normal(mu_b1, std_b1);\n",
    "    a ~ normal(mu_a, std_a);\n",
    "    y ~ normal(mu, sigma);\n",
    "}\n",
    "\"\"\"\n",
    "model2 = pystan.StanModel(model_code = poly_model_1_code)"
   ]
  },
  {
   "cell_type": "code",
   "execution_count": 7,
   "metadata": {},
   "outputs": [],
   "source": [
    "data_poly1 = pd.DataFrame({'x1' : x, 'y' : y})"
   ]
  },
  {
   "cell_type": "code",
   "execution_count": 8,
   "metadata": {},
   "outputs": [],
   "source": [
    "seed = np.random.randint(0, MAX_UINT, size=1)[0]\n",
    "\n",
    "mu_a = 0\n",
    "std_a = 3\n",
    "\n",
    "mu_b1 = 0\n",
    "std_b1 = 2"
   ]
  },
  {
   "cell_type": "code",
   "execution_count": 9,
   "metadata": {},
   "outputs": [],
   "source": [
    "fit2 = model2.sampling(data=\n",
    "                        dict(x1 = data_poly1.x1, \n",
    "                             y = data_poly1.y, \n",
    "                             mu_a = mu_a, \n",
    "                             std_a = std_a, \n",
    "                             mu_b1 = mu_b1, \n",
    "                             std_b1 = std_b1, \n",
    "                             N = N), \n",
    "                       seed=seed, iter=2000, chains=4)"
   ]
  },
  {
   "cell_type": "code",
   "execution_count": 10,
   "metadata": {},
   "outputs": [
    {
     "data": {
      "text/plain": [
       "Inference for Stan model: anon_model_f099d5d39952dc79827a33676111323f.\n",
       "4 chains, each with iter=2000; warmup=1000; thin=1; \n",
       "post-warmup draws per chain=1000, total post-warmup draws=4000.\n",
       "\n",
       "         mean se_mean     sd   2.5%    25%    50%    75%  97.5%  n_eff   Rhat\n",
       "a        0.59  5.8e-3   0.24   0.11   0.43   0.59   0.75   1.06   1693    1.0\n",
       "b1      -0.03    0.01   0.41  -0.85   -0.3  -0.03   0.24   0.81   1629    1.0\n",
       "sigma    0.56  2.6e-3    0.1    0.4   0.49   0.54   0.62   0.79   1542    1.0\n",
       "mu[1]    0.59  5.8e-3   0.24   0.11   0.43   0.59   0.75   1.06   1693    1.0\n",
       "mu[2]    0.59  5.3e-3   0.22   0.15   0.45   0.59   0.73   1.02   1730    1.0\n",
       "mu[3]    0.59  4.9e-3    0.2   0.18   0.45   0.59   0.72    1.0   1778    1.0\n",
       "mu[4]    0.59  4.4e-3   0.19   0.21   0.46   0.59   0.71   0.96   1847    1.0\n",
       "mu[5]    0.58  3.9e-3   0.17   0.24   0.47   0.58    0.7   0.93   1945    1.0\n",
       "mu[6]    0.58  3.5e-3   0.16   0.26   0.48   0.58   0.69    0.9   2080    1.0\n",
       "mu[7]    0.58  3.1e-3   0.15   0.29   0.48   0.58   0.68   0.88   2271    1.0\n",
       "mu[8]    0.58  2.7e-3   0.14   0.31   0.49   0.58   0.67   0.86   2547    1.0\n",
       "mu[9]    0.58  2.4e-3   0.13   0.32   0.49   0.58   0.66   0.84   2925    1.0\n",
       "mu[10]   0.58  2.2e-3   0.13   0.33   0.49   0.57   0.66   0.84   3381    1.0\n",
       "mu[11]   0.58  2.1e-3   0.13   0.33   0.49   0.57   0.66   0.84   3800    1.0\n",
       "mu[12]   0.57  2.1e-3   0.13   0.32   0.49   0.57   0.66   0.85   3986    1.0\n",
       "mu[13]   0.57  2.3e-3   0.14    0.3   0.48   0.57   0.66   0.85   3775    1.0\n",
       "mu[14]   0.57  2.5e-3   0.15   0.28   0.47   0.57   0.67   0.87   3433    1.0\n",
       "mu[15]   0.57  2.9e-3   0.16   0.25   0.47   0.57   0.67   0.89   3122    1.0\n",
       "mu[16]   0.57  3.3e-3   0.17   0.22   0.46   0.57   0.68   0.92   2860    1.0\n",
       "mu[17]   0.57  3.7e-3   0.19   0.19   0.44   0.57   0.69   0.95   2647    1.0\n",
       "mu[18]   0.57  4.1e-3   0.21   0.15   0.43   0.57    0.7   0.98   2483    1.0\n",
       "mu[19]   0.56  4.6e-3   0.22   0.12   0.42   0.56   0.71   1.02   2354    1.0\n",
       "mu[20]   0.56  5.1e-3   0.24   0.09   0.41   0.56   0.72   1.06   2253    1.0\n",
       "lp__     1.81    0.04    1.3  -1.52   1.18   2.14   2.79   3.32   1256    1.0\n",
       "\n",
       "Samples were drawn using NUTS at Thu Dec  2 14:40:16 2021.\n",
       "For each parameter, n_eff is a crude measure of effective sample size,\n",
       "and Rhat is the potential scale reduction factor on split chains (at \n",
       "convergence, Rhat=1)."
      ]
     },
     "execution_count": 10,
     "metadata": {},
     "output_type": "execute_result"
    }
   ],
   "source": [
    "fit2"
   ]
  },
  {
   "cell_type": "code",
   "execution_count": 11,
   "metadata": {},
   "outputs": [],
   "source": [
    "lppd = 0\n",
    "p_waic = 0\n",
    "samples = fit2.extract()\n",
    "for k,target in enumerate(y):\n",
    "    log_p = []\n",
    "    for l in range(len(samples['a'])):\n",
    "            pred = samples['a'][l] + samples['b1'][l] * x[k] \n",
    "            log_p.append(norm.logpdf(target,pred,samples['sigma'][l]))    \n",
    "    lppd += scipy.special.logsumexp(log_p) - np.log(len(log_p))\n",
    "    p_waic += np.var(log_p)"
   ]
  },
  {
   "cell_type": "code",
   "execution_count": 12,
   "metadata": {},
   "outputs": [
    {
     "data": {
      "text/plain": [
       "35.27054309385065"
      ]
     },
     "execution_count": 12,
     "metadata": {},
     "output_type": "execute_result"
    }
   ],
   "source": [
    "WAIC2 = (-2 * (lppd - p_waic))\n",
    "WAIC2"
   ]
  },
  {
   "cell_type": "markdown",
   "metadata": {},
   "source": [
    "Complete for polynomial of degree 4 and compare the fit:"
   ]
  },
  {
   "cell_type": "code",
   "execution_count": null,
   "metadata": {},
   "outputs": [],
   "source": []
  },
  {
   "cell_type": "markdown",
   "metadata": {},
   "source": [
    "# Bayesian classification\n",
    "\n",
    "\n",
    "In simple terms, classification implies estimating the probability of an observation to belong to a certain class, such as positive or negative, or 0 or 1. The classical model for estimating such as probability is the Binomial model:\n",
    "\n",
    "$$ p(y) \\sim Binomial(n,p), $$\n",
    "\n",
    "where $y$ is the number of positive cases, $n$ is the total number of trials, and $p$ is the probability of a case being positive.  \n",
    "\n",
    "As for linear regression our likelihood model was Gaussian, here our likelihood model will be Binomial. In linear regression, we were parameterizing the mean of the Gaussian model as a linear combination of the predictors:\n",
    "\n",
    "$$ y_i \\sim \\mathcal{N}(\\mu_i, \\sigma),$$\n",
    "$$ \\mu_i = a + b x_i.$$\n",
    "\n",
    "In the Binomial model, we parameterize the probability $p$ as a linear combination of the predictors:\n",
    "\n",
    "$$y_i \\sim Binomial(n, p_i)$$\n",
    "$$f(p_i) = a + b x_i.$$\n",
    "\n",
    "There are some issues to take into account. Since the probability $p_i$ must be greater than 0 and lower than 1, by parameterizing it directly with a linear model we will incour into problems, as this would not guarantee that the linear combination is bounded in the interval $[0,1]$. Therefore we need to *link* the probability $p_i$ to the linear model through some clever parameterization, called *link function*. A classical link function is called *logit* function, and is defined with respect to the log-odds:\n",
    "\n",
    "$$f(p_i) = logit(p_i) = \\log(odds(p_i)) = \\log(\\frac{p_i}{1-p_i}).$$\n",
    "\n",
    "The odds is the ratio between probability of the outcome being positive and probability of being negative. Therefore is goes from 0 ($p_i=0$) to infinity ($p_i=1$). By taking the log, we transform the odds into a quantity that can range from $-\\infty$ to $\\infty$, a perfect variable to be described by a linear model.\n",
    "We rewrite our Binomial link function:\n",
    "\n",
    "$$ \\log(\\frac{p_i}{1-p_i}) = a + b x_i,$$\n",
    "\n",
    "and we derive:\n",
    "\n",
    "$$\\frac{p_i}{1-p_i} = \\exp(a + b x_i),$$\n",
    "$$p_i = \\frac{\\exp(a + b x_i)}{1 + \\exp(a + b x_i)}. $$\n",
    "\n",
    "<hr>\n",
    "\n",
    "\\begin{align}\n",
    "Y_i&\\sim\\mathcal{B}(p_i)\\text{, the likelihood}\\\\\n",
    "p_i &= \\frac{\\exp(a + b x_i)}{1 + \\exp(a + b x_i)}\\\\\n",
    "P(Y_i|p_i) &= P(Y_i|a, b)\\\\\n",
    "P(a, b|Y_i)&=p(Y_i|a, b)*P(a)*P(b)\n",
    "\\end{align}\n",
    "\n",
    "We need to set the prior distributions, e.g.:\n",
    "\n",
    "\\begin{align}\n",
    "P(a)&\\sim\\mathcal{N}(\\mu_a, \\sigma_a)\\\\\n",
    "P(b)&\\sim\\mathcal{N}(\\mu_b, \\sigma_b)\n",
    "\\end{align}"
   ]
  },
  {
   "cell_type": "code",
   "execution_count": 13,
   "metadata": {},
   "outputs": [
    {
     "data": {
      "image/png": "[encoded data removed]",
      "text/plain": [
       "<Figure size 432x288 with 1 Axes>"
      ]
     },
     "metadata": {
      "needs_background": "light"
     },
     "output_type": "display_data"
    }
   ],
   "source": [
    "a = 0.1\n",
    "b = 0.5\n",
    "\n",
    "x_i = np.linspace(-10,10)\n",
    "\n",
    "p_i = np.exp(a+b*x_i)/(1+np.exp(a+b*x_i))\n",
    "\n",
    "plt.plot(x_i,p_i)\n",
    "plt.xlabel('x_i')\n",
    "plt.ylabel('p_i')\n",
    "plt.show()\n",
    "\n"
   ]
  },
  {
   "cell_type": "markdown",
   "metadata": {},
   "source": [
    "We recognize that the link function creates a non-linear association between $x_i$ and $p_i$, where $p_i$ is indeed bounded by 0 and 1. Importantly, although the association is linear, a unit increase in $x$ does not correspond anymore to a unit increase in the output. The magnitude of the association depends on the value of $x$ itself, and is greater in correspondence of the maximum slope of the curve. \n",
    "\n",
    "This kind of model is called *logistic regression*. "
   ]
  },
  {
   "cell_type": "markdown",
   "metadata": {},
   "source": [
    "## Example: Logistic regression for predicting Alzheimer's disease"
   ]
  },
  {
   "cell_type": "code",
   "execution_count": 14,
   "metadata": {},
   "outputs": [
    {
     "name": "stderr",
     "output_type": "stream",
     "text": [
      "INFO:numexpr.utils:NumExpr defaulting to 4 threads.\n"
     ]
    },
    {
     "name": "stdout",
     "output_type": "stream",
     "text": [
      "   RID  APOE4  DX   AGE  WholeBrain.bl           ICV  norm_brain\n",
      "0    2    0.0   0  74.3      1229738.0  1.984657e+06   -0.907716\n",
      "1    3    1.0   1  81.3      1129834.0  1.920691e+06   -1.508346\n",
      "3    5    0.0   0  73.7      1116633.0  1.640766e+06    0.258629\n",
      "5    7    1.0   1  75.4       875798.0  1.353519e+06   -0.382669\n",
      "6    8    0.0   0  84.5       948684.0  1.396068e+06    0.239182\n"
     ]
    }
   ],
   "source": [
    "data = pd.read_csv('adni_data')\n",
    "pd.set_option('mode.chained_assignment', None) \n",
    "\n",
    "data_ct_ad = data.query('DX == 1 | DX == 3') \n",
    "data_ct_ad['DX'] = data_ct_ad['DX'].map({1: 0, 3: 1})\n",
    "\n",
    "data_ct_ad['norm_brain'] = data_ct_ad['WholeBrain.bl']/data_ct_ad['ICV']\n",
    "data_ct_ad['norm_brain'] = (data_ct_ad['norm_brain'] - np.mean(data_ct_ad['norm_brain']))/np.std(data_ct_ad['norm_brain'])\n",
    "data_ct_ad.dropna(inplace = True)\n",
    "\n",
    "\n",
    "print(data_ct_ad[:5])"
   ]
  },
  {
   "cell_type": "code",
   "execution_count": 15,
   "metadata": {},
   "outputs": [
    {
     "name": "stderr",
     "output_type": "stream",
     "text": [
      "INFO:pystan:COMPILING THE C++ CODE FOR MODEL anon_model_412ab0b943fbbb6e1bdcf98b815ee879 NOW.\n"
     ]
    }
   ],
   "source": [
    "binomial_model_code = \"\"\"\n",
    "data {\n",
    "  int<lower=1> N;\n",
    "  int y[N];\n",
    "  real x[N];\n",
    "  real mu_a;\n",
    "  real<lower=0> std_a;\n",
    "  real mu_b;\n",
    "  real<lower=0> std_b;\n",
    "}\n",
    "parameters {\n",
    "  real a;\n",
    "  real b;\n",
    "}\n",
    "transformed parameters {\n",
    "  vector[N] p_i;\n",
    "  for (i in 1:N) {\n",
    "    p_i[i] = exp(a + b * x[i])/(1 + exp(a + b * x[i])); \n",
    "    }\n",
    "}\n",
    "model {\n",
    "  b ~ normal(mu_b, std_b);\n",
    "  a ~ normal(mu_a, std_a);\n",
    "  y ~ binomial(1, p_i);\n",
    "}\n",
    "\"\"\"\n",
    "model = pystan.StanModel(model_code = binomial_model_code)"
   ]
  },
  {
   "cell_type": "code",
   "execution_count": 16,
   "metadata": {},
   "outputs": [],
   "source": [
    "data_to_stan = dict(x = data_ct_ad['norm_brain'], y = data_ct_ad['DX'], \n",
    "                    mu_a = 0, std_a = 10, mu_b = 0, std_b = 10, N = len(data_ct_ad['DX']))\n",
    "\n",
    "fit = model.sampling(data = data_to_stan, seed = int(1), iter=4000, chains=4)"
   ]
  },
  {
   "cell_type": "code",
   "execution_count": 17,
   "metadata": {},
   "outputs": [
    {
     "data": {
      "text/plain": [
       "{'n_eff': True,\n",
       " 'Rhat': True,\n",
       " 'divergence': True,\n",
       " 'treedepth': True,\n",
       " 'energy': True}"
      ]
     },
     "execution_count": 17,
     "metadata": {},
     "output_type": "execute_result"
    }
   ],
   "source": [
    "pystan.check_hmc_diagnostics(fit)"
   ]
  },
  {
   "cell_type": "code",
   "execution_count": 18,
   "metadata": {},
   "outputs": [
    {
     "name": "stderr",
     "output_type": "stream",
     "text": [
      "WARNING:pystan:Truncated summary with the 'fit.__repr__' method. For the full summary use 'print(fit)'\n"
     ]
    },
    {
     "data": {
      "text/plain": [
       "\n",
       "Warning: Shown data is truncated to 100 parameters\n",
       "For the full summary use 'print(fit)'\n",
       "\n",
       "Inference for Stan model: anon_model_412ab0b943fbbb6e1bdcf98b815ee879.\n",
       "4 chains, each with iter=4000; warmup=2000; thin=1; \n",
       "post-warmup draws per chain=2000, total post-warmup draws=8000.\n",
       "\n",
       "          mean se_mean     sd   2.5%    25%    50%    75%  97.5%  n_eff   Rhat\n",
       "a        -0.58  1.1e-3   0.08  -0.75  -0.64  -0.58  -0.53  -0.42   5865    1.0\n",
       "b        -1.15  1.3e-3    0.1  -1.35  -1.22  -1.15  -1.09  -0.97   6009    1.0\n",
       "p_i[1]    0.61  2.8e-4   0.03   0.57    0.6   0.61   0.63   0.66   8226    1.0\n",
       "p_i[2]    0.76  3.1e-4   0.03    0.7   0.74   0.76   0.78   0.81   7778    1.0\n",
       "p_i[3]    0.29  2.6e-4   0.02   0.26   0.28   0.29   0.31   0.33   5338    1.0\n",
       "p_i[4]    0.47  2.4e-4   0.02   0.42   0.45   0.47   0.48   0.51   7284    1.0\n",
       "p_i[5]     0.3  2.6e-4   0.02   0.26   0.29    0.3   0.31   0.34   5365    1.0\n",
       "p_i[6]     0.2  2.7e-4   0.02   0.17   0.19    0.2   0.22   0.24   5088    1.0\n",
       "p_i[7]     0.3  2.6e-4   0.02   0.26   0.29    0.3   0.31   0.34   5386    1.0\n",
       "p_i[8]    0.57  2.6e-4   0.02   0.52   0.55   0.57   0.59   0.62   8241    1.0\n",
       "p_i[9]    0.24  2.7e-4   0.02    0.2   0.23   0.24   0.25   0.28   5139    1.0\n",
       "p_i[10]   0.46  2.4e-4   0.02   0.42   0.45   0.46   0.48   0.51   7278    1.0\n",
       "p_i[11]   0.31  2.6e-4   0.02   0.27    0.3   0.31   0.32   0.35   5426    1.0\n",
       "p_i[12]   0.22  2.7e-4   0.02   0.18    0.2   0.22   0.23   0.25   5099    1.0\n",
       "p_i[13]   0.38  2.4e-4   0.02   0.34   0.36   0.38   0.39   0.42   6087    1.0\n",
       "p_i[14]   0.49  2.4e-4   0.02   0.45   0.47   0.49    0.5   0.53   7620    1.0\n",
       "p_i[15]   0.26  2.6e-4   0.02   0.23   0.25   0.26   0.28    0.3   5207    1.0\n",
       "p_i[16]    0.2  2.7e-4   0.02   0.16   0.18    0.2   0.21   0.23   5085    1.0\n",
       "p_i[17]   0.68  3.0e-4   0.03   0.63   0.66   0.68    0.7   0.73   8059    1.0\n",
       "p_i[18]   0.49  2.4e-4   0.02   0.45   0.47   0.49    0.5   0.53   7626    1.0\n",
       "p_i[19]   0.63  2.8e-4   0.03   0.58   0.62   0.63   0.65   0.69   8188    1.0\n",
       "p_i[20]   0.35  2.5e-4   0.02   0.31   0.34   0.35   0.36   0.39   5779    1.0\n",
       "p_i[21]   0.75  3.1e-4   0.03    0.7   0.73   0.75   0.77    0.8   7805    1.0\n",
       "p_i[22]   0.65  2.9e-4   0.03    0.6   0.63   0.65   0.67    0.7   8149    1.0\n",
       "p_i[23]    0.2  2.7e-4   0.02   0.16   0.19    0.2   0.21   0.24   5086    1.0\n",
       "p_i[24]   0.19  2.6e-4   0.02   0.15   0.17   0.19    0.2   0.22   5084    1.0\n",
       "p_i[25]   0.24  2.7e-4   0.02    0.2   0.23   0.24   0.25   0.28   5135    1.0\n",
       "p_i[26]   0.58  2.6e-4   0.02   0.53   0.56   0.58    0.6   0.63   8248    1.0\n",
       "p_i[27]   0.39  2.4e-4   0.02   0.35   0.38   0.39    0.4   0.43   6257    1.0\n",
       "p_i[28]   0.24  2.7e-4   0.02    0.2   0.22   0.24   0.25   0.27   5127    1.0\n",
       "p_i[29]    0.3  2.6e-4   0.02   0.26   0.29    0.3   0.31   0.34   5366    1.0\n",
       "p_i[30]   0.26  2.6e-4   0.02   0.22   0.25   0.26   0.27    0.3   5184    1.0\n",
       "p_i[31]    0.3  2.6e-4   0.02   0.26   0.29    0.3   0.31   0.34   5367    1.0\n",
       "p_i[32]    0.2  2.7e-4   0.02   0.16   0.18    0.2   0.21   0.23   5085    1.0\n",
       "p_i[33]   0.69  3.0e-4   0.03   0.63   0.67   0.69   0.71   0.74   8037    1.0\n",
       "p_i[34]   0.61  2.7e-4   0.02   0.56   0.59   0.61   0.62   0.66   8236    1.0\n",
       "p_i[35]   0.58  2.7e-4   0.02   0.54   0.57   0.58    0.6   0.63   8248    1.0\n",
       "p_i[36]    0.7  3.0e-4   0.03   0.64   0.68    0.7   0.72   0.75   7998    1.0\n",
       "p_i[37]   0.47  2.4e-4   0.02   0.43   0.46   0.47   0.49   0.51   7397    1.0\n",
       "p_i[38]   0.52  2.5e-4   0.02   0.48   0.51   0.52   0.54   0.57   8116    1.0\n",
       "p_i[39]   0.51  2.4e-4   0.02   0.47   0.49   0.51   0.52   0.55   7958    1.0\n",
       "p_i[40]   0.24  2.7e-4   0.02   0.21   0.23   0.24   0.26   0.28   5144    1.0\n",
       "p_i[41]   0.55  2.5e-4   0.02   0.51   0.54   0.55   0.57    0.6   8209    1.0\n",
       "p_i[42]   0.12  2.3e-4   0.02   0.09    0.1   0.12   0.13   0.15   5153    1.0\n",
       "p_i[43]   0.82  3.0e-4   0.03   0.77    0.8   0.82   0.84   0.87   7550    1.0\n",
       "p_i[44]   0.58  2.6e-4   0.02   0.53   0.56   0.58    0.6   0.63   8248    1.0\n",
       "p_i[45]   0.24  2.7e-4   0.02    0.2   0.23   0.24   0.25   0.28   5134    1.0\n",
       "p_i[46]   0.79  3.1e-4   0.03   0.74   0.77   0.79   0.81   0.84   7661    1.0\n",
       "p_i[47]    0.4  2.4e-4   0.02   0.36   0.39    0.4   0.41   0.44   6374    1.0\n",
       "p_i[48]   0.43  2.4e-4   0.02    0.4   0.42   0.43   0.45   0.47   6855    1.0\n",
       "p_i[49]   0.64  2.9e-4   0.03   0.59   0.62   0.64   0.66   0.69   8175    1.0\n",
       "p_i[50]   0.67  3.0e-4   0.03   0.62   0.65   0.67   0.69   0.72   8099    1.0\n",
       "p_i[51]   0.59  2.7e-4   0.02   0.54   0.57   0.59   0.61   0.64   8248    1.0\n",
       "p_i[52]    0.7  3.0e-4   0.03   0.65   0.68    0.7   0.72   0.75   7998    1.0\n",
       "p_i[53]   0.16  2.6e-4   0.02   0.12   0.15   0.16   0.17    0.2   5097    1.0\n",
       "p_i[54]   0.56  2.6e-4   0.02   0.52   0.55   0.56   0.58   0.61   8233    1.0\n",
       "p_i[55]   0.42  2.4e-4   0.02   0.38   0.41   0.42   0.43   0.46   6658    1.0\n",
       "p_i[56]   0.48  2.4e-4   0.02   0.44   0.47   0.48    0.5   0.52   7538    1.0\n",
       "p_i[57]   0.56  2.6e-4   0.02   0.52   0.55   0.56   0.58   0.61   8233    1.0\n",
       "p_i[58]   0.31  2.6e-4   0.02   0.27    0.3   0.31   0.32   0.35   5434    1.0\n",
       "p_i[59]    0.4  2.4e-4   0.02   0.36   0.39    0.4   0.42   0.44   6406    1.0\n",
       "p_i[60]   0.46  2.4e-4   0.02   0.42   0.44   0.46   0.47    0.5   7175    1.0\n",
       "p_i[61]   0.51  2.4e-4   0.02   0.46   0.49   0.51   0.52   0.55   7906    1.0\n",
       "p_i[62]   0.43  2.4e-4   0.02   0.39   0.41   0.43   0.44   0.47   6755    1.0\n",
       "p_i[63]   0.21  2.7e-4   0.02   0.17    0.2   0.21   0.22   0.25   5091    1.0\n",
       "p_i[64]   0.41  2.4e-4   0.02   0.38    0.4   0.41   0.43   0.45   6579    1.0\n",
       "p_i[65]   0.46  2.4e-4   0.02   0.42   0.45   0.46   0.48   0.51   7277    1.0\n",
       "p_i[66]   0.85  2.9e-4   0.03   0.79   0.83   0.85   0.86   0.89   7459    1.0\n",
       "p_i[67]   0.52  2.5e-4   0.02   0.48   0.51   0.52   0.54   0.57   8106    1.0\n",
       "p_i[68]   0.24  2.7e-4   0.02   0.21   0.23   0.24   0.26   0.28   5142    1.0\n",
       "p_i[69]    0.5  2.4e-4   0.02   0.46   0.49    0.5   0.52   0.54   7847    1.0\n",
       "p_i[70]   0.81  3.0e-4   0.03   0.76    0.8   0.82   0.83   0.86   7576    1.0\n",
       "p_i[71]   0.66  2.9e-4   0.03   0.61   0.64   0.66   0.68   0.71   8116    1.0\n",
       "p_i[72]   0.15  2.5e-4   0.02   0.12   0.14   0.15   0.16   0.19   5105    1.0\n",
       "p_i[73]    0.5  2.4e-4   0.02   0.46   0.49    0.5   0.52   0.54   7839    1.0\n",
       "p_i[74]   0.54  2.5e-4   0.02    0.5   0.52   0.54   0.56   0.59   8180    1.0\n",
       "p_i[75]   0.45  2.4e-4   0.02   0.41   0.44   0.45   0.47   0.49   7132    1.0\n",
       "p_i[76]   0.27  2.6e-4   0.02   0.23   0.25   0.27   0.28    0.3   5214    1.0\n",
       "p_i[77]   0.55  2.5e-4   0.02   0.51   0.53   0.55   0.57    0.6   8209    1.0\n",
       "p_i[78]   0.66  2.9e-4   0.03   0.61   0.64   0.66   0.68   0.71   8125    1.0\n",
       "p_i[79]   0.71  3.1e-4   0.03   0.66    0.7   0.72   0.73   0.77   7943    1.0\n",
       "p_i[80]   0.75  3.1e-4   0.03   0.69   0.73   0.75   0.77    0.8   7828    1.0\n",
       "p_i[81]   0.46  2.4e-4   0.02   0.42   0.44   0.46   0.47    0.5   7152    1.0\n",
       "p_i[82]    0.8  3.1e-4   0.03   0.74   0.78    0.8   0.82   0.85   7643    1.0\n",
       "p_i[83]   0.25  2.7e-4   0.02   0.21   0.23   0.25   0.26   0.28   5148    1.0\n",
       "p_i[84]   0.65  2.9e-4   0.03    0.6   0.63   0.65   0.66    0.7   8158    1.0\n",
       "p_i[85]   0.61  2.8e-4   0.03   0.57    0.6   0.61   0.63   0.66   8225    1.0\n",
       "p_i[86]   0.28  2.6e-4   0.02   0.24   0.26   0.28   0.29   0.31   5248    1.0\n",
       "p_i[87]   0.61  2.8e-4   0.03   0.56   0.59   0.61   0.63   0.66   8230    1.0\n",
       "p_i[88]   0.51  2.4e-4   0.02   0.46   0.49   0.51   0.52   0.55   7913    1.0\n",
       "p_i[89]   0.26  2.6e-4   0.02   0.22   0.25   0.26   0.27    0.3   5195    1.0\n",
       "p_i[90]   0.41  2.4e-4   0.02   0.37   0.39   0.41   0.42   0.45   6478    1.0\n",
       "p_i[91]    0.7  3.0e-4   0.03   0.64   0.68    0.7   0.72   0.75   8001    1.0\n",
       "p_i[92]   0.24  2.7e-4   0.02    0.2   0.22   0.24   0.25   0.27   5126    1.0\n",
       "p_i[93]    0.3  2.6e-4   0.02   0.26   0.29    0.3   0.31   0.34   5373    1.0\n",
       "p_i[94]   0.66  2.9e-4   0.03   0.61   0.64   0.66   0.68   0.71   8126    1.0\n",
       "p_i[95]    0.4  2.4e-4   0.02   0.36   0.39    0.4   0.41   0.44   6400    1.0\n",
       "p_i[96]    0.2  2.7e-4   0.02   0.16   0.19    0.2   0.21   0.24   5086    1.0\n",
       "p_i[97]   0.64  2.9e-4   0.03   0.59   0.62   0.64   0.66   0.69   8176    1.0\n",
       "lp__    -460.1    0.02   0.99 -462.7 -460.5 -459.8 -459.4 -459.1   3472    1.0\n",
       "\n",
       "Samples were drawn using NUTS at Thu Dec  2 14:41:47 2021.\n",
       "For each parameter, n_eff is a crude measure of effective sample size,\n",
       "and Rhat is the potential scale reduction factor on split chains (at \n",
       "convergence, Rhat=1)."
      ]
     },
     "execution_count": 18,
     "metadata": {},
     "output_type": "execute_result"
    }
   ],
   "source": [
    "fit"
   ]
  },
  {
   "cell_type": "code",
   "execution_count": 19,
   "metadata": {},
   "outputs": [
    {
     "name": "stdout",
     "output_type": "stream",
     "text": [
      "Baseline probability of disease: \n",
      "\n",
      "5%  : 0.32764001421344385\n",
      "50% : 0.35890869299045824\n",
      "95% : 0.38960171666074866\n",
      "Probability increase for unit decrease in standardized brain volume (parameter \"a\" at lowest quantile): \n",
      "\n",
      "5%  : 0.5686363994816943\n",
      "50% : 0.6068168807773046\n",
      "95% : 0.6454404083613141\n"
     ]
    }
   ],
   "source": [
    "est_a = fit.extract()['a']\n",
    "quantiles_a = np.quantile(est_a, [0.05, 0.5, 0.95])\n",
    "\n",
    "est_b = fit.extract()['b']\n",
    "quantiles_b = np.quantile(est_b, [0.05, 0.5, 0.95])\n",
    "\n",
    "logistic_a_50 = np.exp(quantiles_a[1])/(1 + np.exp(quantiles_a[1]))\n",
    "logistic_a_5 = np.exp(quantiles_a[0])/(1 + np.exp(quantiles_a[0]))\n",
    "logistic_a_95 = np.exp(quantiles_a[2])/(1 + np.exp(quantiles_a[2]))\n",
    "\n",
    "print('Baseline probability of disease: \\n')\n",
    "print('5%  :', logistic_a_5)\n",
    "print('50% :', logistic_a_50)\n",
    "print('95% :', logistic_a_95)\n",
    "\n",
    "\n",
    "logistic_b_95 = np.exp(quantiles_a[0] - quantiles_b[0])/(1 + np.exp(quantiles_a[0] - quantiles_b[0]))\n",
    "logistic_b_50 = np.exp(quantiles_a[0] - quantiles_b[1])/(1 + np.exp(quantiles_a[0] - quantiles_b[1]))\n",
    "logistic_b_5 = np.exp(quantiles_a[0] - quantiles_b[2])/(1 + np.exp(quantiles_a[0] - quantiles_b[2]))\n",
    "\n",
    "\n",
    "print('Probability increase for unit decrease in standardized brain volume (parameter \"a\" at lowest quantile): \\n')\n",
    "print('5%  :', logistic_b_5)\n",
    "print('50% :', logistic_b_50)\n",
    "print('95% :', logistic_b_95)"
   ]
  },
  {
   "cell_type": "code",
   "execution_count": 20,
   "metadata": {},
   "outputs": [],
   "source": [
    "p_i = fit.extract()['p_i']\n",
    "\n",
    "lppd = []\n",
    "pwaic = []\n",
    "for k in range(len(data_ct_ad)):\n",
    "    id_log_lik = []\n",
    "    for i in range(1000):\n",
    "        p = p_i[i,k]\n",
    "        id_log_lik.append(scipy.stats.binom.logpmf(data_ct_ad['DX'].values[k], 1, p))\n",
    "    lppd.append(scipy.special.logsumexp(id_log_lik) - np.log(len(id_log_lik)))\n",
    "    pwaic.append(np.var(id_log_lik))\n",
    "\n",
    "waic = -2 * (np.sum(lppd) -np.sum(pwaic))"
   ]
  },
  {
   "cell_type": "markdown",
   "metadata": {},
   "source": [
    "What happens when we include another predictor, for example the presence of the genetic mutation APOE4?"
   ]
  },
  {
   "cell_type": "code",
   "execution_count": 21,
   "metadata": {},
   "outputs": [
    {
     "name": "stderr",
     "output_type": "stream",
     "text": [
      "INFO:pystan:COMPILING THE C++ CODE FOR MODEL anon_model_c0ba10ec4a771726050e0f42751936e2 NOW.\n"
     ]
    }
   ],
   "source": [
    "binomial_model_two_pred_code = \"\"\"\n",
    "data {\n",
    "  int<lower=1> N;\n",
    "  int y[N];\n",
    "  real x_b[N];\n",
    "  real x_g[N];\n",
    "  real mu_a;\n",
    "  real<lower=0> std_a;\n",
    "  real mu_b;\n",
    "  real<lower=0> std_b;\n",
    "  real mu_c;\n",
    "  real<lower=0> std_c;\n",
    "}\n",
    "parameters {\n",
    "  real a;\n",
    "  real b;\n",
    "  real c;\n",
    "}\n",
    "transformed parameters {\n",
    "  vector[N] p_i;\n",
    "  for (i in 1:N) {\n",
    "    p_i[i] = exp(a + b * x_b[i] + c * x_g[i])/(1 + exp(a + b * x_b[i] + c * x_g[i])); \n",
    "    }\n",
    "}\n",
    "model {\n",
    "  a ~ normal(mu_a, std_a);\n",
    "  b ~ normal(mu_b, std_b);\n",
    "  c ~ normal(mu_c, std_c);\n",
    "  y ~ binomial(1, p_i);\n",
    "}\n",
    "\"\"\"\n",
    "model = pystan.StanModel(model_code = binomial_model_two_pred_code)"
   ]
  },
  {
   "cell_type": "code",
   "execution_count": 22,
   "metadata": {},
   "outputs": [],
   "source": [
    "data_to_stan = dict(x_b = data_ct_ad['norm_brain'], x_g = data_ct_ad['APOE4'], \n",
    "                    y = data_ct_ad['DX'], \n",
    "                    mu_a = 0, std_a = 10, mu_b = 0, std_b = 10,  mu_c = 0, std_c = 10, \n",
    "                    N = len(data_ct_ad['DX']))\n",
    "\n",
    "fit_apoe = model.sampling(data = data_to_stan, seed = int(1), iter=4000, chains=4)"
   ]
  },
  {
   "cell_type": "code",
   "execution_count": 23,
   "metadata": {},
   "outputs": [
    {
     "name": "stderr",
     "output_type": "stream",
     "text": [
      "WARNING:pystan:Truncated summary with the 'fit.__repr__' method. For the full summary use 'print(fit)'\n"
     ]
    },
    {
     "data": {
      "text/plain": [
       "\n",
       "Warning: Shown data is truncated to 100 parameters\n",
       "For the full summary use 'print(fit)'\n",
       "\n",
       "Inference for Stan model: anon_model_c0ba10ec4a771726050e0f42751936e2.\n",
       "4 chains, each with iter=4000; warmup=2000; thin=1; \n",
       "post-warmup draws per chain=2000, total post-warmup draws=8000.\n",
       "\n",
       "          mean se_mean     sd   2.5%    25%    50%    75%  97.5%  n_eff   Rhat\n",
       "a        -1.48  1.9e-3   0.13  -1.73  -1.56  -1.47  -1.39  -1.24   4390    1.0\n",
       "b        -1.25  1.6e-3   0.11  -1.46  -1.32  -1.24  -1.17  -1.04   4557    1.0\n",
       "c         1.58  2.2e-3   0.15   1.29   1.48   1.58   1.68   1.87   4396    1.0\n",
       "p_i[1]    0.41  4.2e-4   0.03   0.35   0.39   0.41   0.44   0.48   5763    1.0\n",
       "p_i[2]    0.88  2.7e-4   0.02   0.83   0.86   0.88   0.89   0.92   5665    1.0\n",
       "p_i[3]    0.14  2.6e-4   0.02   0.11   0.13   0.14   0.15   0.18   4189    1.0\n",
       "p_i[4]    0.64  2.9e-4   0.03   0.59   0.62   0.64   0.66   0.69   8896    1.0\n",
       "p_i[5]    0.15  2.6e-4   0.02   0.11   0.13   0.15   0.16   0.18   4200    1.0\n",
       "p_i[6]    0.32  3.5e-4   0.03   0.27    0.3   0.32   0.34   0.38   7181    1.0\n",
       "p_i[7]    0.15  2.6e-4   0.02   0.12   0.14   0.15   0.16   0.18   4209    1.0\n",
       "p_i[8]    0.74  3.1e-4   0.03   0.68   0.72   0.74   0.75   0.79   7250    1.0\n",
       "p_i[9]    0.38  3.3e-4   0.03   0.32   0.35   0.37    0.4   0.44   7927    1.0\n",
       "p_i[10]   0.27  3.3e-4   0.02   0.23   0.25   0.27   0.28   0.32   4941    1.0\n",
       "p_i[11]   0.15  2.7e-4   0.02   0.12   0.14   0.15   0.16   0.19   4225    1.0\n",
       "p_i[12]   0.34  3.5e-4   0.03   0.29   0.32   0.34   0.36    0.4   7435    1.0\n",
       "p_i[13]    0.2  3.0e-4   0.02   0.16   0.19    0.2   0.21   0.24   4478    1.0\n",
       "p_i[14]   0.66  2.9e-4   0.03   0.61   0.64   0.66   0.68   0.71   8543    1.0\n",
       "p_i[15]   0.12  2.5e-4   0.02    0.1   0.11   0.12   0.14   0.16   4133    1.0\n",
       "p_i[16]   0.09  2.1e-4   0.01   0.06   0.08   0.09   0.09   0.11   4074    1.0\n",
       "p_i[17]   0.49  4.7e-4   0.04   0.42   0.47   0.49   0.52   0.56   5928    1.0\n",
       "p_i[18]   0.29  3.4e-4   0.02   0.24   0.27   0.29    0.3   0.34   5076    1.0\n",
       "p_i[19]   0.44  4.3e-4   0.03   0.37   0.42   0.44   0.46    0.5   5833    1.0\n",
       "p_i[20]   0.83  4.0e-4   0.03   0.77   0.82   0.84   0.86   0.89   6067    1.0\n",
       "p_i[21]   0.59  5.2e-4   0.04   0.51   0.56   0.59   0.62   0.67   5912    1.0\n",
       "p_i[22]   0.46  4.5e-4   0.03   0.39   0.43   0.46   0.48   0.52   5877    1.0\n",
       "p_i[23]   0.09  2.1e-4   0.01   0.06   0.08   0.09    0.1   0.12   4074    1.0\n",
       "p_i[24]    0.3  3.6e-4   0.03   0.24   0.27   0.29   0.31   0.36   6845    1.0\n",
       "p_i[25]   0.11  2.3e-4   0.01   0.08    0.1   0.11   0.12   0.14   4099    1.0\n",
       "p_i[26]   0.38  4.0e-4   0.03   0.32   0.36   0.38    0.4   0.44   5620    1.0\n",
       "p_i[27]   0.21  3.0e-4   0.02   0.17    0.2   0.21   0.22   0.25   4541    1.0\n",
       "p_i[28]   0.11  2.3e-4   0.01   0.08    0.1   0.11   0.12   0.14   4095    1.0\n",
       "p_i[29]   0.15  2.6e-4   0.02   0.11   0.13   0.15   0.16   0.18   4201    1.0\n",
       "p_i[30]   0.12  2.4e-4   0.02   0.09   0.11   0.12   0.13   0.15   4122    1.0\n",
       "p_i[31]   0.15  2.6e-4   0.02   0.11   0.13   0.15   0.16   0.18   4201    1.0\n",
       "p_i[32]   0.09  2.1e-4   0.01   0.06   0.08   0.09    0.1   0.11   4074    1.0\n",
       "p_i[33]    0.5  4.7e-4   0.04   0.43   0.48    0.5   0.53   0.57   5933    1.0\n",
       "p_i[34]   0.77  3.1e-4   0.03   0.72   0.75   0.77   0.78   0.82   6796    1.0\n",
       "p_i[35]   0.75  3.1e-4   0.03    0.7   0.73   0.75   0.77    0.8   7073    1.0\n",
       "p_i[36]   0.96  1.5e-4   0.01   0.94   0.95   0.96   0.97   0.98   5089    1.0\n",
       "p_i[37]   0.65  2.9e-4   0.03    0.6   0.63   0.65   0.67    0.7   8769    1.0\n",
       "p_i[38]   0.32  3.6e-4   0.03   0.27   0.31   0.32   0.34   0.38   5307    1.0\n",
       "p_i[39]   0.91  2.7e-4   0.02   0.87    0.9   0.91   0.93   0.94   5494    1.0\n",
       "p_i[40]   0.11  2.3e-4   0.02   0.08    0.1   0.11   0.12   0.14   4103    1.0\n",
       "p_i[41]   0.92  2.4e-4   0.02   0.89   0.91   0.93   0.94   0.95   5385    1.0\n",
       "p_i[42]   0.05  1.5e-4 9.4e-3   0.03   0.04   0.05   0.05   0.07   4119    1.0\n",
       "p_i[43]   0.91  2.4e-4   0.02   0.88    0.9   0.92   0.93   0.95   5420    1.0\n",
       "p_i[44]   0.75  3.1e-4   0.03   0.69   0.73   0.75   0.76   0.79   7103    1.0\n",
       "p_i[45]   0.11  2.3e-4   0.01   0.08    0.1   0.11   0.12   0.14   4099    1.0\n",
       "p_i[46]   0.65  5.4e-4   0.04   0.56   0.62   0.65   0.67   0.72   5850    1.0\n",
       "p_i[47]   0.22  3.0e-4   0.02   0.18    0.2   0.22   0.23   0.26   4586    1.0\n",
       "p_i[48]   0.24  3.2e-4   0.02    0.2   0.23   0.24   0.26   0.29   4764    1.0\n",
       "p_i[49]   0.79  3.1e-4   0.02   0.74   0.78   0.79   0.81   0.84   6461    1.0\n",
       "p_i[50]   0.48  4.6e-4   0.04   0.41   0.45   0.48    0.5   0.55   5914    1.0\n",
       "p_i[51]   0.39  4.0e-4   0.03   0.33   0.37   0.39   0.41   0.45   5666    1.0\n",
       "p_i[52]   0.52  4.8e-4   0.04   0.44   0.49   0.52   0.54   0.59   5939    1.0\n",
       "p_i[53]   0.26  3.7e-4   0.03    0.2   0.23   0.25   0.27   0.32   6426    1.0\n",
       "p_i[54]   0.36  3.8e-4   0.03   0.31   0.34   0.36   0.38   0.42   5529    1.0\n",
       "p_i[55]   0.23  3.1e-4   0.02   0.19   0.22   0.23   0.25   0.28   4689    1.0\n",
       "p_i[56]   0.28  3.4e-4   0.02   0.24   0.27   0.28    0.3   0.33   5042    1.0\n",
       "p_i[57]   0.36  3.8e-4   0.03   0.31   0.34   0.36   0.38   0.42   5528    1.0\n",
       "p_i[58]   0.15  2.7e-4   0.02   0.12   0.14   0.15   0.16   0.19   4228    1.0\n",
       "p_i[59]   0.87  3.5e-4   0.03   0.81   0.85   0.87   0.88   0.91   5860    1.0\n",
       "p_i[60]   0.26  3.3e-4   0.02   0.22   0.25   0.26   0.28   0.31   4895    1.0\n",
       "p_i[61]   0.31  3.5e-4   0.03   0.26   0.29   0.31   0.32   0.36   5193    1.0\n",
       "p_i[62]   0.24  3.2e-4   0.02    0.2   0.22   0.24   0.25   0.28   4726    1.0\n",
       "p_i[63]   0.09  2.1e-4   0.01   0.07   0.08   0.09    0.1   0.12   4077    1.0\n",
       "p_i[64]   0.59  2.8e-4   0.03   0.53   0.57   0.59   0.61   0.64   9601    1.0\n",
       "p_i[65]   0.64  2.9e-4   0.03   0.59   0.62   0.64   0.66   0.69   8905    1.0\n",
       "p_i[66]   0.93  2.2e-4   0.02   0.89   0.92   0.93   0.94   0.96   5342    1.0\n",
       "p_i[67]   0.32  3.6e-4   0.03   0.27    0.3   0.32   0.34   0.37   5294    1.0\n",
       "p_i[68]   0.11  2.3e-4   0.02   0.08    0.1   0.11   0.12   0.14   4103    1.0\n",
       "p_i[69]    0.3  3.5e-4   0.03   0.25   0.28    0.3   0.32   0.35   5167    1.0\n",
       "p_i[70]   0.68  5.5e-4   0.04    0.6   0.65   0.68   0.71   0.76   5803    1.0\n",
       "p_i[71]   0.81  3.1e-4   0.02   0.76   0.79   0.81   0.83   0.86   6273    1.0\n",
       "p_i[72]   0.24  3.7e-4   0.03   0.19   0.22   0.24   0.26    0.3   6294    1.0\n",
       "p_i[73]    0.3  3.5e-4   0.03   0.25   0.28    0.3   0.32   0.35   5163    1.0\n",
       "p_i[74]   0.34  3.7e-4   0.03   0.29   0.32   0.34   0.36   0.39   5401    1.0\n",
       "p_i[75]   0.26  3.3e-4   0.02   0.22   0.24   0.26   0.28   0.31   4876    1.0\n",
       "p_i[76]   0.13  2.5e-4   0.02    0.1   0.12   0.13   0.14   0.16   4136    1.0\n",
       "p_i[77]   0.35  3.8e-4   0.03    0.3   0.33   0.35   0.37   0.41   5459    1.0\n",
       "p_i[78]   0.47  4.5e-4   0.03    0.4   0.44   0.47   0.49   0.54   5898    1.0\n",
       "p_i[79]   0.85  2.9e-4   0.02    0.8   0.83   0.85   0.86   0.89   5907    1.0\n",
       "p_i[80]   0.97  1.3e-4 8.9e-3   0.95   0.96   0.97   0.98   0.98   5016    1.0\n",
       "p_i[81]   0.63  2.8e-4   0.03   0.58   0.61   0.63   0.65   0.68   9052    1.0\n",
       "p_i[82]   0.65  5.4e-4   0.04   0.57   0.62   0.65   0.68   0.73   5841    1.0\n",
       "p_i[83]   0.38  3.3e-4   0.03   0.32   0.36   0.38    0.4   0.44   8011    1.0\n",
       "p_i[84]   0.45  4.4e-4   0.03   0.39   0.43   0.45   0.48   0.52   5869    1.0\n",
       "p_i[85]   0.42  4.2e-4   0.03   0.35   0.39   0.42   0.44   0.48   5765    1.0\n",
       "p_i[86]   0.13  2.5e-4   0.02    0.1   0.12   0.13   0.14   0.16   4151    1.0\n",
       "p_i[87]   0.77  3.1e-4   0.03   0.72   0.75   0.77   0.79   0.82   6747    1.0\n",
       "p_i[88]   0.31  3.5e-4   0.03   0.26   0.29   0.31   0.32   0.36   5196    1.0\n",
       "p_i[89]   0.12  2.4e-4   0.02   0.09   0.11   0.12   0.13   0.16   4127    1.0\n",
       "p_i[90]   0.22  3.1e-4   0.02   0.18   0.21   0.22   0.24   0.26   4624    1.0\n",
       "p_i[91]   0.84  3.0e-4   0.02   0.79   0.82   0.84   0.85   0.88   6010    1.0\n",
       "p_i[92]   0.11  2.3e-4   0.01   0.08    0.1   0.11   0.12   0.14   4095    1.0\n",
       "p_i[93]   0.15  2.6e-4   0.02   0.11   0.13   0.15   0.16   0.18   4204    1.0\n",
       "p_i[94]   0.47  4.5e-4   0.03    0.4   0.44   0.47   0.49   0.54   5897    1.0\n",
       "p_i[95]   0.57  2.8e-4   0.03   0.52   0.56   0.57   0.59   0.63   9721    1.0\n",
       "p_i[96]   0.09  2.1e-4   0.01   0.06   0.08   0.09    0.1   0.12   4074    1.0\n",
       "lp__    -389.7    0.02   1.23 -392.9 -390.3 -389.4 -388.8 -388.3   3501    1.0\n",
       "\n",
       "Samples were drawn using NUTS at Thu Dec  2 14:45:17 2021.\n",
       "For each parameter, n_eff is a crude measure of effective sample size,\n",
       "and Rhat is the potential scale reduction factor on split chains (at \n",
       "convergence, Rhat=1)."
      ]
     },
     "execution_count": 23,
     "metadata": {},
     "output_type": "execute_result"
    }
   ],
   "source": [
    "fit_apoe"
   ]
  },
  {
   "cell_type": "markdown",
   "metadata": {},
   "source": [
    "Is this model better fitting the diagnosis than the previous one?"
   ]
  },
  {
   "cell_type": "code",
   "execution_count": 24,
   "metadata": {},
   "outputs": [],
   "source": [
    "p_i = fit_apoe.extract()['p_i']\n",
    "\n",
    "lppd = []\n",
    "pwaic = []\n",
    "for k in range(len(data_ct_ad)):\n",
    "    id_log_lik = []\n",
    "    for i in range(1000):\n",
    "        p = p_i[i,k]\n",
    "        id_log_lik.append(scipy.stats.binom.logpmf(data_ct_ad['DX'].values[k], 1, p))\n",
    "    lppd.append(scipy.special.logsumexp(id_log_lik) - np.log(len(id_log_lik)))\n",
    "    pwaic.append(np.var(id_log_lik))\n",
    "\n",
    "waic_apoe = -2 * (np.sum(lppd) - np.sum(pwaic))"
   ]
  },
  {
   "cell_type": "code",
   "execution_count": 25,
   "metadata": {},
   "outputs": [
    {
     "data": {
      "text/plain": [
       "922.3275650382813"
      ]
     },
     "execution_count": 25,
     "metadata": {},
     "output_type": "execute_result"
    }
   ],
   "source": [
    "waic"
   ]
  },
  {
   "cell_type": "code",
   "execution_count": 26,
   "metadata": {},
   "outputs": [
    {
     "data": {
      "text/plain": [
       "782.5530591141612"
      ]
     },
     "execution_count": 26,
     "metadata": {},
     "output_type": "execute_result"
    }
   ],
   "source": [
    "waic_apoe"
   ]
  },
  {
   "cell_type": "code",
   "execution_count": null,
   "metadata": {},
   "outputs": [],
   "source": []
  },
  {
   "cell_type": "code",
   "execution_count": null,
   "metadata": {},
   "outputs": [],
   "source": []
  },
  {
   "cell_type": "code",
   "execution_count": null,
   "metadata": {},
   "outputs": [],
   "source": []
  },
  {
   "cell_type": "code",
   "execution_count": null,
   "metadata": {},
   "outputs": [],
   "source": []
  },
  {
   "cell_type": "code",
   "execution_count": null,
   "metadata": {},
   "outputs": [],
   "source": []
  },
  {
   "cell_type": "code",
   "execution_count": null,
   "metadata": {},
   "outputs": [],
   "source": []
  },
  {
   "cell_type": "code",
   "execution_count": null,
   "metadata": {},
   "outputs": [],
   "source": []
  }
 ],
 "metadata": {
  "kernelspec": {
   "display_name": "Python 3",
   "language": "python",
   "name": "python3"
  },
  "language_info": {
   "codemirror_mode": {
    "name": "ipython",
    "version": 3
   },
   "file_extension": ".py",
   "mimetype": "text/x-python",
   "name": "python",
   "nbconvert_exporter": "python",
   "pygments_lexer": "ipython3",
   "version": "3.8.8"
  }
 },
 "nbformat": 4,
 "nbformat_minor": 4
}
