{
 "cells": [
  {
   "cell_type": "markdown",
   "metadata": {},
   "source": [
    "# Bayesian Learning Exam\n",
    "\n",
    "Quentin Le Roux\n",
    "\n",
    "<hr><hr><hr>\n",
    "\n",
    "## Library Imports\n",
    "\n",
    "<u>Note on PyStan:</u> For the purpose of this exercise, HMC will be implemented with the 2.xx version of the Python interface of the Stan library (https://mc-stan.org, https://pystan.readthedocs.io/en/latest/). To set it up:\n",
    "\n",
    "```sh\n",
    "$ conda create -n pystan_env python=3.6 ipykernel matplotlib seaborn scipy numpy pandas pystan=2.19.0.0\n",
    "$ conda activate pystan_env\n",
    "```"
   ]
  },
  {
   "cell_type": "code",
   "execution_count": 1,
   "metadata": {},
   "outputs": [],
   "source": [
    "import matplotlib.pyplot as plt\n",
    "import numpy as np\n",
    "import pandas as pd\n",
    "import pystan # RELIES ON PYSTAN 2\n",
    "import seaborn as sns \n",
    "\n",
    "from pystan.constants import MAX_UINT\n",
    "from scipy.special import logsumexp\n",
    "from scipy.stats import gaussian_kde\n",
    "from scipy.stats import norm, uniform, binom\n",
    "from scipy.stats import multivariate_normal\n",
    "\n",
    "pd.set_option('mode.chained_assignment', None)\n",
    "\n",
    "%run ./tools.py"
   ]
  },
  {
   "cell_type": "markdown",
   "metadata": {},
   "source": [
    "## Exercise 1\n",
    "\n",
    "Consider the following bivariate distribution:"
   ]
  },
  {
   "cell_type": "code",
   "execution_count": 240,
   "metadata": {},
   "outputs": [
    {
     "data": {
      "image/png": "[encoded data removed]",
      "text/plain": [
       "<Figure size 432x288 with 1 Axes>"
      ]
     },
     "metadata": {
      "needs_background": "light"
     },
     "output_type": "display_data"
    }
   ],
   "source": [
    "import matplotlib.pyplot as plt\n",
    "import numpy as np\n",
    "\n",
    "freq = [[0.1,0.1,0.],[0.2,0.,0.2],[0.3,0.1,0.]]\n",
    "\n",
    "plt.clf()\n",
    "plt.imshow(freq, interpolation='nearest', cmap=plt.cm.Wistia)\n",
    "X_values = ['1','2','3']\n",
    "Y_values = ['5','10','15']\n",
    "plt.ylabel('Y')\n",
    "plt.xlabel('X') \n",
    "plt.title('P(X,Y)') \n",
    "plt.xticks(np.arange(len(X_values)), X_values, rotation=45)\n",
    "plt.yticks(np.arange(len(Y_values)), Y_values)\n",
    "for i in range(len(X_values)):\n",
    "    for j in range(len(Y_values)):\n",
    "        plt.text(j,i, str(freq[i][j]))\n",
    "plt.show()"
   ]
  },
  {
   "cell_type": "markdown",
   "metadata": {},
   "source": [
    "### 1) Show that P(X,Y) is a valid distribution function.\n",
    "We are dealing with two random variables, $X$ and $Y$, and are looking to quantify the probability associated to their joint realization (i.e. quantifying their joint probability function). In this exercise, we are interested in the variable $X$ jointly with the variable $Y$. The variable $X$ takes values in $\\Omega^X = \\{1, 2, 3\\}$, while the variable $Y$ in $\\Omega^Y = \\{5, 10, 15\\}$. The joint probability for these discrete quantities is assigned in terms of the frequency table displayed above.\n",
    "\n",
    "The table represents the joint probability mass function $\\mathbb{P}(X,Y)$, for each value of the random variables. We note that both random variables are discrete and as such the joint distribution will take a finite number of values as well.\n",
    "\n",
    "We know that the joint probability mass function follows the standard requirements for a probability function:\n",
    "\n",
    "1. Each element/joint probability is comprised between 0 and 1\n",
    "2. The sum of the elements/joint probabilities is equal to 1\n",
    "\n",
    "As such we declare a function that helps us check those requirements (with two sanity checks):"
   ]
  },
  {
   "cell_type": "code",
   "execution_count": 241,
   "metadata": {},
   "outputs": [
    {
     "name": "stdout",
     "output_type": "stream",
     "text": [
      "Fail check on [[1, 0.5],[-1, 0.5]]:\t\t False\n",
      "Success check on [[0.05, 0.5],[0.15, 0.3]]:\t True\n"
     ]
    }
   ],
   "source": [
    "def check_distribution_validity(freq):\n",
    "    \"\"\"\n",
    "    Checks the two conditions that indicates that a list of frequencies\n",
    "    conforms to the rules of a Joint Probability Mass function.\n",
    "    \"\"\"\n",
    "    # Checks freqs in between 0 and 1\n",
    "    flat_freqs = [item for sublist in freq for item in sublist]\n",
    "    check_f = lambda x: 0<=x<=1\n",
    "    count_true = sum(map(check_f, flat_freqs))\n",
    "    interval_check = (count_true == len(flat_freqs))\n",
    "    # Checks that freqs sum to 1\n",
    "    sum_freqs = round(sum(flat_freqs), 15) # rounds to 15 dec. to avoid floating point errors\n",
    "    sum_check = (sum_freqs == 1)\n",
    "    return interval_check and sum_check\n",
    "\n",
    "# Check for function fonctionality\n",
    "print(\"Fail check on [[1, 0.5],[-1, 0.5]]:\\t\\t\", \n",
    "      check_distribution_validity([[0, 1, -1, 2]]))\n",
    "print(\"Success check on [[0.05, 0.5],[0.15, 0.3]]:\\t\", \n",
    "      check_distribution_validity([[0.05, 0.5],[0.15, 0.3]]))"
   ]
  },
  {
   "cell_type": "code",
   "execution_count": 242,
   "metadata": {},
   "outputs": [
    {
     "name": "stdout",
     "output_type": "stream",
     "text": [
      "Check on freqs [[0.1, 0.1, 0.0], [0.2, 0.0, 0.2], [0.3, 0.1, 0.0]] : True\n"
     ]
    }
   ],
   "source": [
    "print(\"Check on freqs\", freq, \":\", \n",
    "      check_distribution_validity(freq))"
   ]
  },
  {
   "cell_type": "markdown",
   "metadata": {},
   "source": [
    "We confirm that the given frequencies form a valid distribution function."
   ]
  },
  {
   "cell_type": "markdown",
   "metadata": {},
   "source": [
    "### 2) Show that X and Y are not independent.\n",
    "\n",
    "If the variables are independent, then the given joint probability distribution factorises across variables such that: $$p(X,Y)=p(X)p(Y)$$\n",
    "\n",
    "To check whether $X$ and $Y$ are independent, we declare a function that performs the checks above for all possible combinations, in order to check for failure of the given independence condition."
   ]
  },
  {
   "cell_type": "code",
   "execution_count": 243,
   "metadata": {},
   "outputs": [],
   "source": [
    "def check_independence(freq):\n",
    "    \"\"\"\n",
    "    Checks whether the random variables forming a joint probability\n",
    "    distribution are independent of not\n",
    "    \"\"\"\n",
    "    # Computes the marginal probability distributions of X and Y\n",
    "    p_X = np.sum(freq, axis = 0)\n",
    "    p_Y = np.sum(freq, axis = 1)\n",
    "    print(f\"Given the joint distribution of X and Y, we find:\", \n",
    "          f\"P_X: {p_X} (summing to {np.sum(p_X)})\",\n",
    "          f\"P_Y: {p_Y} (summing to {np.sum(p_Y)})\", \n",
    "          sep=\"\\n\")\n",
    "    # checks whether P(X, Y) == P(X).P(Y)\n",
    "    acc = 0\n",
    "    for id_x, prob_x in enumerate(p_X):\n",
    "        for id_y, prob_y in enumerate(p_Y):\n",
    "            acc += p_X[id_x] * p_Y[id_y]\n",
    "            p_XtimesY = round(p_X[id_x] * p_Y[id_y], 2)\n",
    "            p_XY = freq[id_x][id_y]\n",
    "            print(f\"X = {X_values[id_x]}, Y = {Y_values[id_y]}: \\t\",\n",
    "                  f\"P_X.P_Y={p_XtimesY}, P_XY={p_XY} -- are equal?\",\n",
    "                  p_XtimesY == p_XY)\n",
    "    # Returns the marginal probability distributions\n",
    "    return p_X, p_Y"
   ]
  },
  {
   "cell_type": "code",
   "execution_count": 244,
   "metadata": {
    "scrolled": true
   },
   "outputs": [
    {
     "name": "stdout",
     "output_type": "stream",
     "text": [
      "Given the joint distribution of X and Y, we find:\n",
      "P_X: [0.6 0.2 0.2] (summing to 1.0)\n",
      "P_Y: [0.2 0.4 0.4] (summing to 1.0)\n",
      "X = 1, Y = 5: \t P_X.P_Y=0.12, P_XY=0.1 -- are equal? False\n",
      "X = 1, Y = 10: \t P_X.P_Y=0.24, P_XY=0.1 -- are equal? False\n",
      "X = 1, Y = 15: \t P_X.P_Y=0.24, P_XY=0.0 -- are equal? False\n",
      "X = 2, Y = 5: \t P_X.P_Y=0.04, P_XY=0.2 -- are equal? False\n",
      "X = 2, Y = 10: \t P_X.P_Y=0.08, P_XY=0.0 -- are equal? False\n",
      "X = 2, Y = 15: \t P_X.P_Y=0.08, P_XY=0.2 -- are equal? False\n",
      "X = 3, Y = 5: \t P_X.P_Y=0.04, P_XY=0.3 -- are equal? False\n",
      "X = 3, Y = 10: \t P_X.P_Y=0.08, P_XY=0.1 -- are equal? False\n",
      "X = 3, Y = 15: \t P_X.P_Y=0.08, P_XY=0.0 -- are equal? False\n"
     ]
    }
   ],
   "source": [
    "marginal_distributions = check_independence(freq)"
   ]
  },
  {
   "cell_type": "markdown",
   "metadata": {},
   "source": [
    "We prove that the condition $p(X,Y)=p(X)p(Y)$ does not hold for the variables $X$ and $Y$. As such we can confirm that $X$ and $Y$ are not independent."
   ]
  },
  {
   "cell_type": "markdown",
   "metadata": {},
   "source": [
    "### 3) Find the marginal distribution of X.\n",
    "\n",
    "We already have computed the marginal distribution of the variable $X$ above. As such we can easily retrieve $P_X$ such that (we also check the distribution condition that it sums to 1):"
   ]
  },
  {
   "cell_type": "code",
   "execution_count": 245,
   "metadata": {},
   "outputs": [
    {
     "name": "stdout",
     "output_type": "stream",
     "text": [
      "Marginal distribution of X:\n",
      "\t{'1': 0.6, '2': 0.2, '3': 0.2} \n",
      "\tSums to: 1.0\n"
     ]
    }
   ],
   "source": [
    "marginal_distribution_X = {X_values[idx]:round(marginal_distributions[0][idx], 2)\n",
    "                           for idx in range(len(X_values))}\n",
    "\n",
    "print(\"Marginal distribution of X:\"\n",
    "      f\"\\n\\t{marginal_distribution_X}\",\n",
    "      f\"\\n\\tSums to: {sum(marginal_distribution_X.values())}\")"
   ]
  },
  {
   "cell_type": "markdown",
   "metadata": {},
   "source": [
    "### 4) Find P(X=2 | Y < 15).\n",
    "\n",
    "We are looking for the conditional probability $P(X=2 | Y < 15)$ such that:\n",
    "\n",
    "\\begin{align}\n",
    "X&\\in\\{1, 2, 3\\}\\\\\n",
    "y&\\in\\{5, 10, 15\\}\\\\\n",
    "P(X=2 | Y < 15) &= \\frac{P(X=2, Y < 15)}{P(Y < 15)}\\\\\n",
    "&= \\frac{P(X=2, Y = 5 \\cup Y = 10)}{P(Y = 5 \\cup Y = 10)}\\\\\n",
    "&= \\frac{P(X=2, Y = 5) + P(X=2, Y = 10)}{\\underset{X}{\\sum}P(X, Y = 5 \\cup Y = 10)}\\\\\n",
    "&= \\frac{P(X=2, Y = 5) + P(X=2, Y = 10)}{\\underset{x=1}{\\overset{3}{\\sum}}P(X=x, Y = 5) + P(X=x, Y = 10)}\\\\\n",
    "&= \\frac{0.1+0}{0.1+0.1+0.2+0+0.2+0}\\\\\n",
    "&=\\frac{0.1}{0.6}\\\\\n",
    "&=0.1666....\n",
    "\\end{align}"
   ]
  },
  {
   "cell_type": "code",
   "execution_count": 246,
   "metadata": {},
   "outputs": [
    {
     "name": "stdout",
     "output_type": "stream",
     "text": [
      "P(X=2, Y=5)=0.1\n",
      "P(X=2, Y=10)=0.0\n",
      "\n",
      "P(X, Y<15)=0.6\n",
      "\n",
      "P(X=2, Y<15)=0.17 (rounded to 2-decimals due to floating point computation)\n"
     ]
    }
   ],
   "source": [
    "P_X2_Y5  = freq[0][1]\n",
    "P_X2_Y10 = freq[1][1]\n",
    "print(f\"P(X=2, Y=5)={P_X2_Y5}\\nP(X=2, Y=10)={P_X2_Y10}\")\n",
    "\n",
    "P_X_Ylt15 = sum([freq[y][x] for x in range(3) for y in range(2)])\n",
    "P_X_Ylt15 = round(P_X_Ylt15,2)\n",
    "print(f\"\\nP(X, Y<15)={P_X_Ylt15}\")\n",
    "\n",
    "P_X2_given_Ylt15 = (P_X2_Y5 + P_X2_Y10)/(P_X_Ylt15)\n",
    "P_X2_given_Ylt15 = round(P_X2_given_Ylt15, 2)\n",
    "print(f\"\\nP(X=2, Y<15)={P_X2_given_Ylt15}\",\n",
    "      \"(rounded to 2-decimals due to floating point computation)\")"
   ]
  },
  {
   "cell_type": "markdown",
   "metadata": {},
   "source": [
    "We find that: $$P(X=2 | Y < 15) = 0.17$$"
   ]
  },
  {
   "cell_type": "markdown",
   "metadata": {},
   "source": [
    "## Exercise 2\n",
    "\n",
    "Let's suppose the following joint probability distribution is known for a medicine:"
   ]
  },
  {
   "cell_type": "code",
   "execution_count": 247,
   "metadata": {},
   "outputs": [
    {
     "data": {
      "image/png": "[encoded data removed]",
      "text/plain": [
       "<Figure size 432x288 with 1 Axes>"
      ]
     },
     "metadata": {
      "needs_background": "light"
     },
     "output_type": "display_data"
    }
   ],
   "source": [
    "freq = [[0.15,0.05,0., 0.1],[0.35,0.05,0.15,0.15]]\n",
    "\n",
    "plt.clf()\n",
    "plt.imshow(freq, interpolation='nearest', cmap=plt.cm.Wistia)\n",
    "X_values = ['1','2','3','4']\n",
    "Y_values = ['0','1']\n",
    "plt.ylabel('Treatment effect (Y)')\n",
    "plt.xlabel('Days sick before treatment (X)') \n",
    "plt.title('P(X,Y)') \n",
    "plt.xticks(np.arange(len(X_values)), X_values, rotation=45)\n",
    "plt.yticks(np.arange(len(Y_values)), Y_values)\n",
    "for i in range(len(X_values)):\n",
    "    for j in range(len(Y_values)):\n",
    "        plt.text(i,j, str(freq[j][i]))\n",
    "plt.show()"
   ]
  },
  {
   "cell_type": "markdown",
   "metadata": {},
   "source": [
    "<u>Note:</u> Let Y represent the treatment outcome (0 = not recovered, 1 = recovered) and X represent the number of days sick before treatment. Find:\n",
    "\n",
    "### 1) P(Y=1)\n",
    "\n",
    "We have: \n",
    "\\begin{align}\n",
    "P(Y=1) &= P(X=1\\cup X=2\\cup X=3\\cup X=4, Y=1)\\\\\n",
    "&= \\underset{x=1}{\\overset{4}{\\sum}}P(X=x, Y=1)\\\\\n",
    "&= P(X=1, Y=1) + P(X=2, Y=1) + P(X=3, Y=1) + P(X=4, Y=1)\\\\\n",
    "&= 0.35 + 0.05 + 0.15 + 0.15\\\\\n",
    "&= 0.7\n",
    "\\end{align}"
   ]
  },
  {
   "cell_type": "code",
   "execution_count": 248,
   "metadata": {},
   "outputs": [
    {
     "name": "stdout",
     "output_type": "stream",
     "text": [
      "P(X=x|Y=1)=[0.35, 0.05, 0.15, 0.15]\n",
      "P(Y=1)=sum(P(X=x|Y=1))=0.7\n"
     ]
    }
   ],
   "source": [
    "print(f\"P(X=x|Y=1)={freq[1]}\",\n",
    "      f\"P(Y=1)=sum(P(X=x|Y=1))={np.sum(freq[1])}\",\n",
    "      sep=\"\\n\")"
   ]
  },
  {
   "cell_type": "markdown",
   "metadata": {},
   "source": [
    "We find that: $$P(Y=1) = 0.7$$"
   ]
  },
  {
   "cell_type": "markdown",
   "metadata": {},
   "source": [
    "### 2) P(Y=1 | X=3)\n",
    "\n",
    "\\begin{align}\n",
    "P(Y=1 | X=3) &= \\frac{P(Y=1, X=3)}{P(X=3)}\\\\\n",
    "&= \\frac{0.15}{\\underset{Y}{\\sum}P(X=3, Y)}\\\\\n",
    "&= \\frac{0.15}{P(X=3, Y=0)+P(X=3, Y=1)}\\\\\n",
    "&= \\frac{0.15}{0.0 + 0.15}\\\\\n",
    "&=1\n",
    "\\end{align}"
   ]
  },
  {
   "cell_type": "code",
   "execution_count": 249,
   "metadata": {},
   "outputs": [
    {
     "name": "stdout",
     "output_type": "stream",
     "text": [
      "P(Y=1, X=3)=0.15\n",
      "P(X=3)=0.15\n",
      "P(Y=1|X=3)=1.0\n"
     ]
    }
   ],
   "source": [
    "P_Y1_X3 = freq[1][2]\n",
    "print(f\"P(Y=1, X=3)={P_Y1_X3}\")\n",
    "\n",
    "P_X3 = np.sum(freq, axis=0)[2]\n",
    "print(f\"P(X=3)={P_X3}\")\n",
    "\n",
    "print(f\"P(Y=1|X=3)={P_Y1_X3/P_X3}\")"
   ]
  },
  {
   "cell_type": "markdown",
   "metadata": {},
   "source": [
    "We find that: $$P(Y=1 | X=3)=1$$"
   ]
  },
  {
   "cell_type": "markdown",
   "metadata": {},
   "source": [
    "### 3) P(Y=1 | X>=3)\n",
    "\n",
    "\\begin{align}\n",
    "P(Y=1 | X>=3) &= \\frac{P(Y=1, X>=3)}{P(X>=3)}\\\\\n",
    "P(Y=1 | X>=3) &= \\frac{P(Y=1, X=3\\cup X=4)}{P(X>=3)}\\\\\n",
    "&= \\frac{0.15 + 0.15}{\\underset{Y}{\\sum}P(X>=3, Y)}\\\\\n",
    "&= \\frac{0.3}{P(X=3, Y=0)+P(X=3, Y=1)+P(X=4, Y=0)+P(X=4, Y=1)}\\\\\n",
    "&= \\frac{0.3}{0.0 + 0.15 + 0.1 + 0.15}\\\\\n",
    "&= \\frac{0.3}{0.4}\\\\\n",
    "&= 0.75\n",
    "\\end{align}"
   ]
  },
  {
   "cell_type": "code",
   "execution_count": 250,
   "metadata": {},
   "outputs": [
    {
     "name": "stdout",
     "output_type": "stream",
     "text": [
      "P(Y=1, X>=3)=0.3\n",
      "P(X=3)=0.4\n",
      "P(Y=1|X=3)=0.75 (rounded to 2-decimals due to floating point computation)\n"
     ]
    }
   ],
   "source": [
    "P_Y1_Xsupp3 = np.sum(freq[1][2:])\n",
    "print(f\"P(Y=1, X>=3)={P_Y1_Xsupp3}\")\n",
    "\n",
    "P_Xsupp3 = sum(np.sum(freq, axis=0)[2:])\n",
    "print(f\"P(X=3)={P_Xsupp3}\")\n",
    "\n",
    "print(f\"P(Y=1|X=3)={round(P_Y1_Xsupp3/P_Xsupp3, 2)}\",\n",
    "      \"(rounded to 2-decimals due to floating point computation)\")"
   ]
  },
  {
   "cell_type": "markdown",
   "metadata": {},
   "source": [
    "We find that: $$P(Y=1 | X>=3) = 0.75$$"
   ]
  },
  {
   "cell_type": "markdown",
   "metadata": {},
   "source": [
    "### 4) P(X=2 | Y=0)\n",
    "\n",
    "\\begin{align}\n",
    "P(X=2 | Y=0) &= \\frac{P(X=2, Y=0)}{P(Y=0)}\\\\\n",
    "&= \\frac{P(X=2, Y=0)}{\\overset{4}{\\underset{x=1}{\\sum}}P(X=x,Y=0)}\\\\\n",
    "&= \\frac{0.05}{0.15+0.05+0.0+0.1}\\\\\n",
    "&= \\frac{0.05}{0.3}\\\\\n",
    "&= 0.166...\n",
    "\\end{align}"
   ]
  },
  {
   "cell_type": "code",
   "execution_count": 251,
   "metadata": {},
   "outputs": [
    {
     "name": "stdout",
     "output_type": "stream",
     "text": [
      "P(X=2, Y=0)=0.05\n",
      "P(Y=0)=0.3\n",
      "P(X=2|Y=0)=0.17 (rounded to 2-decimals due to floating point computation)\n"
     ]
    }
   ],
   "source": [
    "P_X2_Y0 = freq[0][1]\n",
    "print(f\"P(X=2, Y=0)={P_X2_Y0}\")\n",
    "\n",
    "P_Y0 = round(np.sum(freq[0]),2)\n",
    "print(f\"P(Y=0)={P_Y0}\")\n",
    "\n",
    "print(f\"P(X=2|Y=0)={round(P_X2_Y0/P_Y0,2)}\",\n",
    "      \"(rounded to 2-decimals due to floating point computation)\")"
   ]
  },
  {
   "cell_type": "markdown",
   "metadata": {},
   "source": [
    "We find that: $$P(X=2|Y=0)=0.17$$"
   ]
  },
  {
   "cell_type": "markdown",
   "metadata": {},
   "source": [
    "### 5) P(X<=2 | Y=0)\n",
    "\n",
    "\\begin{align}\n",
    "P(X\\le2 | Y=0) &= \\frac{P(X\\le2, Y=0)}{P(Y=0)}\\\\\n",
    "&= \\frac{\\overset{2}{\\underset{x=1}{\\sum}}P(X=x,Y=0)}{\\overset{4}{\\underset{x=1}{\\sum}}P(X=x,Y=0)}\\\\\n",
    "&= \\frac{0.15 + 0.05}{0.15+0.05+0.0+0.1}\\\\\n",
    "&= \\frac{0.2}{0.3}\\\\\n",
    "&= 0.666...\n",
    "\\end{align}"
   ]
  },
  {
   "cell_type": "code",
   "execution_count": 252,
   "metadata": {},
   "outputs": [
    {
     "name": "stdout",
     "output_type": "stream",
     "text": [
      "P(X<=2, Y=0)=0.2\n",
      "P(Y=0)=0.3\n",
      "P(X<=2|Y=0)=0.67 (rounded to 2-decimals due to floating point computation)\n"
     ]
    }
   ],
   "source": [
    "P_Xle2_Y0 = sum(freq[0][:2])\n",
    "print(f\"P(X<=2, Y=0)={P_Xle2_Y0}\")\n",
    "\n",
    "P_Y0 = round(np.sum(freq[0]),2)\n",
    "print(f\"P(Y=0)={P_Y0}\")\n",
    "\n",
    "print(f\"P(X<=2|Y=0)={round(P_Xle2_Y0/P_Y0,2)}\",\n",
    "      \"(rounded to 2-decimals due to floating point computation)\")"
   ]
  },
  {
   "cell_type": "markdown",
   "metadata": {},
   "source": [
    "We find that: $$P(X<=2|Y=0)=0.67$$"
   ]
  },
  {
   "cell_type": "markdown",
   "metadata": {},
   "source": [
    "## Exercise 3\n",
    "\n",
    "A hospital has 5 ambulances, two of them have one bed inside while the rest have two beds inside. Let X = number of two beds ambulances used on any given day and Y = number of one bed ambulances used on any given day.\n",
    "\n",
    "Suppose the joint probability of X and Y is as follows:"
   ]
  },
  {
   "cell_type": "code",
   "execution_count": 253,
   "metadata": {},
   "outputs": [
    {
     "data": {
      "image/png": "[encoded data removed]",
      "text/plain": [
       "<Figure size 432x288 with 1 Axes>"
      ]
     },
     "metadata": {
      "needs_background": "light"
     },
     "output_type": "display_data"
    }
   ],
   "source": [
    "freq = [[0.1,0.0,0.35, 0.05],[0.05,0.15,0.,0.05],[0.10, 0.0, 0.15,0.0]]\n",
    "\n",
    "plt.clf()\n",
    "plt.imshow(freq, interpolation='nearest', cmap=plt.cm.Wistia)\n",
    "X_values = ['0','1','2','3']\n",
    "Y_values = ['0','1', '2']\n",
    "plt.ylabel('Y')\n",
    "plt.xlabel('X') \n",
    "plt.title('P(X,Y)') \n",
    "plt.xticks(np.arange(len(X_values)), X_values, rotation=45)\n",
    "plt.yticks(np.arange(len(Y_values)), Y_values)\n",
    "for i in range(len(X_values)):\n",
    "    for j in range(len(Y_values)):\n",
    "        plt.text(i,j, str(freq[j][i]))\n",
    "plt.show()"
   ]
  },
  {
   "cell_type": "markdown",
   "metadata": {},
   "source": [
    "Find the probability that, on any given day:\n",
    "\n",
    "### 1) None of the ambulances are hired.\n",
    "\n",
    "That none of the ambulances are hired corresponds to the joint probability that $X=0$ and $Y=0$. As such, we want to compute: $$P(X=0, Y=0)$$\n",
    "As such:\n",
    "\\begin{align}\n",
    "P(X=0, Y=0) &= 0.1\n",
    "\\end{align}"
   ]
  },
  {
   "cell_type": "code",
   "execution_count": 254,
   "metadata": {},
   "outputs": [
    {
     "name": "stdout",
     "output_type": "stream",
     "text": [
      "P(X=0, Y=0)=0.1\n"
     ]
    }
   ],
   "source": [
    "P_X0_Y0 = freq[0][0]\n",
    "print(f\"P(X=0, Y=0)={P_X0_Y0}\")"
   ]
  },
  {
   "cell_type": "markdown",
   "metadata": {},
   "source": [
    "### 2) All of the one bed ambulances are hired.\n",
    "\n",
    "That all the one-bed ambulances are hired corresponds to the probability that $Y=2$ (i.e. the maximum number of available one-bed ambulances). As such, we want to compute: \n",
    "\n",
    "\\begin{align}\n",
    "P(Y=2)&=\\underset{Y}{\\sum}P(Y=2, X)\\\\\n",
    "&= P(Y=2, X=0) + P(Y=2, X=1) + P(Y=2, X=2) + P(Y=2, X=3)\\\\\n",
    "&= 0.1 + 0.0 + 0.15 + 0.0\\\\\n",
    "&=0.25\n",
    "\\end{align}"
   ]
  },
  {
   "cell_type": "code",
   "execution_count": 255,
   "metadata": {},
   "outputs": [
    {
     "name": "stdout",
     "output_type": "stream",
     "text": [
      "P(Y=2)=0.25\n"
     ]
    }
   ],
   "source": [
    "# computes the marginal distribution of Y\n",
    "marginal_distribution_Y = np.sum(freq, axis=1)\n",
    "\n",
    "P_Y2 = marginal_distribution_Y[-1]\n",
    "print(f\"P(Y=2)={P_Y2}\")"
   ]
  },
  {
   "cell_type": "markdown",
   "metadata": {},
   "source": [
    "###  3) At least 2 of the ambulances are hired.\n",
    "\n",
    "That at least 2 of the ambulances (regardless of their bed number) are hired corresponds to the probability that $X+Y\\ge2$. As such, we want to compute:\n",
    "\n",
    "\\begin{align}\n",
    "P(X+Y\\ge2)&=P(Y=0,X\\ge2) + P(Y=1,X\\ge1) + P(Y=2, X\\ge0)\\\\\n",
    "&=\\underset{x=2}{\\overset{3}{\\sum}}P(Y=0,X=x) + \\underset{x=1}{\\overset{3}{\\sum}}P(Y=1,X=x) + \\underset{x=0}{\\overset{3}{\\sum}}P(Y=2,X=x)\\\\\n",
    "&=(0.35 + 0.05)+(0.15+0+0.05)+(0.1+0+0.15+0)\\\\\n",
    "&= 0.85\n",
    "\\end{align}"
   ]
  },
  {
   "cell_type": "code",
   "execution_count": 256,
   "metadata": {},
   "outputs": [
    {
     "name": "stdout",
     "output_type": "stream",
     "text": [
      "P(Y=0, X>=2)=0.4\n",
      "P(Y=1, X>=1)=0.2\n",
      "P(Y=2, X>=0)=0.25\n",
      "P(X+Y>=2)=0.85\n"
     ]
    }
   ],
   "source": [
    "P_Y0_Xge2 = round(sum(freq[0][2:]),2)\n",
    "print(f\"P(Y=0, X>=2)={P_Y0_Xge2}\")\n",
    "\n",
    "P_Y1_Xge1 = sum(freq[1][1:])\n",
    "print(f\"P(Y=1, X>=1)={P_Y1_Xge1}\")\n",
    "\n",
    "P_Y2_Xge0 = sum(freq[2])\n",
    "print(f\"P(Y=2, X>=0)={P_Y2_Xge0}\")\n",
    "\n",
    "print(f\"P(X+Y>=2)={round(P_Y0_Xge2 + P_Y1_Xge1 + P_Y2_Xge0, 2)}\")"
   ]
  },
  {
   "cell_type": "markdown",
   "metadata": {},
   "source": [
    "###  4) All of the one bed ambulances are hired, if all the 2 beds ambulances have been hired. Compare your answer to (2) and reason whether X and Y are independent.\n",
    "\n",
    "That given all the two-bed ambulances have been hired (i.e. $X=3$), that all the one-bed ambulances are also hired (i.e. $Y=2$) corresponds to the conditional probability: $$P(Y=2|X=3)=\\frac{P(X=3, Y=2)}{P(X=3)}$$\n",
    "As such:\n",
    "\\begin{align}\n",
    "P(Y=2|X=3)&=\\frac{P(X=3, Y=2)}{P(X=3)}\\\\\n",
    "&=\\frac{0.0}{P(X=3)}\\\\\n",
    "&=0\n",
    "\\end{align}"
   ]
  },
  {
   "cell_type": "code",
   "execution_count": 257,
   "metadata": {},
   "outputs": [
    {
     "name": "stdout",
     "output_type": "stream",
     "text": [
      "P(X=3, Y=2)=0.0\n",
      "P(X=3)=0.1\n",
      "P(Y=2|X=3)=0.0\n"
     ]
    }
   ],
   "source": [
    "P_X3_Y2 = freq[2][3]\n",
    "print(f\"P(X=3, Y=2)={P_X3_Y2}\")\n",
    "\n",
    "marginal_distribution_X = np.sum(freq, axis=0)\n",
    "P_X3 = marginal_distribution_X[-1]\n",
    "print(f\"P(X=3)={P_X3}\")\n",
    "\n",
    "P_Y2_given_X3 = P_X3_Y2/P_X3\n",
    "print(f\"P(Y=2|X=3)={P_Y2_given_X3}\")"
   ]
  },
  {
   "cell_type": "markdown",
   "metadata": {},
   "source": [
    "## Exercise 4\n",
    "\n",
    "Let's consider the following data:"
   ]
  },
  {
   "cell_type": "code",
   "execution_count": 258,
   "metadata": {},
   "outputs": [
    {
     "name": "stdout",
     "output_type": "stream",
     "text": [
      "(2, 352)\n"
     ]
    },
    {
     "data": {
      "image/png": "[encoded data removed]",
      "text/plain": [
       "<Figure size 432x288 with 1 Axes>"
      ]
     },
     "metadata": {
      "needs_background": "light"
     },
     "output_type": "display_data"
    }
   ],
   "source": [
    "import pandas as pd\n",
    "%run ./tools.py\n",
    "\n",
    "data = np.load('./data_exercise4.npy')\n",
    "print(data.shape)\n",
    "x = data[0,:] - np.mean(data[0,:])\n",
    "y = data[1,:]\n",
    "\n",
    "plt.scatter(x,y)\n",
    "plt.title('Data')\n",
    "plt.xlabel('x')\n",
    "plt.ylabel('y')\n",
    "plt.show()\n",
    "\n",
    "df = pd.DataFrame({'x':x, 'y':y})"
   ]
  },
  {
   "cell_type": "markdown",
   "metadata": {},
   "source": [
    "According to the plot above, a linear relationship seems to exist between x and y. Therefore, we model the data according to $y_i = \\mathcal{N}(\\mu_i, \\sigma^{2})$ with $\\mu_i = a + b*x_i$. We find a posterior distribution for the parameters a, b and $\\sigma^{2}$ using a Laplace approximation."
   ]
  },
  {
   "cell_type": "code",
   "execution_count": 259,
   "metadata": {},
   "outputs": [
    {
     "name": "stderr",
     "output_type": "stream",
     "text": [
      "/home/quentin/anaconda3/envs/pystan_env/lib/python3.6/site-packages/scipy/optimize/_numdiff.py:497: RuntimeWarning: invalid value encountered in subtract\n",
      "  df = fun(x) - f0\n",
      "/home/quentin/anaconda3/envs/pystan_env/lib/python3.6/site-packages/scipy/optimize/_numdiff.py:497: RuntimeWarning: invalid value encountered in subtract\n",
      "  df = fun(x) - f0\n"
     ]
    },
    {
     "name": "stdout",
     "output_type": "stream",
     "text": [
      "      fun: 2543.5778329132754\n",
      " hess_inv: array([[ 0.92705229,  0.02558759, -0.39382393],\n",
      "       [ 0.02558759,  0.12677868,  0.07180338],\n",
      "       [-0.39382393,  0.07180338,  1.20687006]])\n",
      "      jac: array([ -2.38366699,  -0.55059814, -15.01779175])\n",
      "  message: 'Desired error not necessarily achieved due to precision loss.'\n",
      "     nfev: 77\n",
      "      nit: 6\n",
      "     njev: 17\n",
      "   status: 2\n",
      "  success: False\n",
      "        x: array([17.74091013,  0.54785936, 68.97867495])\n"
     ]
    }
   ],
   "source": [
    "expr = 'y ~ x'\n",
    "\n",
    "# Initializing the likelihood\n",
    "likelihood = 'gaussian'\n",
    "\n",
    "# Defining the prior with hyperparameters \n",
    "prior_a_mean = 10\n",
    "prior_a_sigma = 1\n",
    "prior_a = ['gaussian', [prior_a_mean, prior_a_sigma]]\n",
    "\n",
    "prior_b_mean = 0\n",
    "prior_b_sigma = 1\n",
    "prior_b = ['gaussian', [prior_b_mean, prior_b_sigma]]\n",
    "\n",
    "sigma_inf = 20\n",
    "sigma_sup = 50\n",
    "prior_sigma_unif = [sigma_inf, sigma_sup]\n",
    "prior_sigma = ['uniform', prior_sigma_unif]\n",
    "\n",
    "priors = [prior_a, prior_b, prior_sigma]\n",
    "\n",
    "solution_regression = laplace_solution_regression(expr, df, likelihood, priors)"
   ]
  },
  {
   "cell_type": "markdown",
   "metadata": {},
   "source": [
    "### 1) Examine the posterior distribution for the regression parameters, and decide if the solution is correct or not.\n",
    "\n",
    "We first of all note that the optimization process provided by scipy mentions that it has failed (quote: `success: False`).\n",
    "\n",
    "1) **Exploring the priors of the model**"
   ]
  },
  {
   "cell_type": "code",
   "execution_count": 68,
   "metadata": {},
   "outputs": [],
   "source": [
    "def explore_data(data, name=\"\"):\n",
    "    \"\"\"\n",
    "    Explores the distribution and statistics of a given data\n",
    "    \"\"\"\n",
    "    print(f\"mean of {name}: \", round(np.mean(data), 10),\n",
    "          \"(rounded to 10 decimals)\")\n",
    "    print(f\"standard deviation of {name}: \", round(np.std(data), 10),\n",
    "          \"(rounded to 10 decimals)\")\n",
    "    print(f\"density plot of the data {name}\")\n",
    "    sns.kdeplot(data)"
   ]
  },
  {
   "cell_type": "code",
   "execution_count": 69,
   "metadata": {},
   "outputs": [
    {
     "name": "stdout",
     "output_type": "stream",
     "text": [
      "mean of x:  0.0 (rounded to 10 decimals)\n",
      "standard deviation of x:  6.4475301238 (rounded to 10 decimals)\n",
      "density plot of the data x\n"
     ]
    },
    {
     "data": {
      "image/png": "[encoded data removed]",
      "text/plain": [
       "<Figure size 432x288 with 1 Axes>"
      ]
     },
     "metadata": {
      "needs_background": "light"
     },
     "output_type": "display_data"
    }
   ],
   "source": [
    "explore_data(x, \"x\")"
   ]
  },
  {
   "cell_type": "code",
   "execution_count": 70,
   "metadata": {
    "scrolled": true
   },
   "outputs": [
    {
     "name": "stdout",
     "output_type": "stream",
     "text": [
      "mean of y:  154.5970926136 (rounded to 10 decimals)\n",
      "standard deviation of y:  7.7313266845 (rounded to 10 decimals)\n",
      "density plot of the data y\n"
     ]
    },
    {
     "data": {
      "image/png": "[encoded data removed]",
      "text/plain": [
       "<Figure size 432x288 with 1 Axes>"
      ]
     },
     "metadata": {
      "needs_background": "light"
     },
     "output_type": "display_data"
    }
   ],
   "source": [
    "explore_data(y, \"y\")"
   ]
  },
  {
   "cell_type": "markdown",
   "metadata": {},
   "source": [
    "Our first observation is that the priors used for the Laplace approximation model above, and reproduced below, are quite far away from the statistics of the data $x$ shown above along with a density plot.\n",
    "\n",
    "```python\n",
    "prior_a_mean = 10\n",
    "prior_a_sigma = 1\n",
    "prior_b_mean = 0\n",
    "prior_b_sigma = 1\n",
    "```\n",
    "\n",
    "Given the first plot above, we would expect a higher prior for $a$ for instance. Furthermore, since it seems , visually, that there is a positive linear relationship between $x$ and $y$, we could see changing the prior of $b$ to a slightly positive vale.\n",
    "\n",
    "2) **Assessment of the posterior distribution for the regression parameters**\n",
    "\n",
    "We reuse functions declared in the assignment 2 to perform the assessment of the posterior distribution for the regression parameters"
   ]
  },
  {
   "cell_type": "code",
   "execution_count": 71,
   "metadata": {},
   "outputs": [],
   "source": [
    "def posterior_sampling_laplace(\n",
    "    solution: list, \n",
    "    n_samples: int\n",
    ") -> list:\n",
    "    \"\"\"\n",
    "    Computes a sampling of a posterior distribution\n",
    "    yielded from a Laplace approximation.\n",
    "    \"\"\"\n",
    "    posterior_samples = multivariate_normal.rvs(\n",
    "        solution[0], solution[1], size = n_samples\n",
    "    )\n",
    "    return posterior_samples\n",
    "    \n",
    "def sampling_from_posterior(\n",
    "    data: pd.DataFrame, \n",
    "    mean_covariate: float, \n",
    "    depvar_name: str, \n",
    "    covar_name: str, \n",
    "    posterior_samples: multivariate_normal.rvs,\n",
    "    posterior_means: list,\n",
    "    plot_title: str,\n",
    "    plot_xlabel: str,\n",
    "    plot_ylabel: str\n",
    ") -> None:\n",
    "    \"\"\"\n",
    "    Samples datapoints from a posterior distribution and plots the \n",
    "    resulting distribution.\n",
    "    \"\"\"\n",
    "    # Samples from the posterior\n",
    "    x_range = np.linspace(min(data[covar_name]), max(data[covar_name]))\n",
    "    mean_prediction = posterior_means[0] + posterior_means[1] * x_range\n",
    "    for i in range(len(posterior_samples)):\n",
    "        prediction = posterior_samples[i,0] + \\\n",
    "                     posterior_samples[i,1] * x_range\n",
    "        plt.plot(x_range + mean_covariate, prediction, \n",
    "                 lw = 0.05, color = 'grey')\n",
    "    # Plots the resulting plot\n",
    "    plt.scatter(data[covar_name] + mean_covariate, data[depvar_name])\n",
    "    plt.plot(x_range + mean_covariate, mean_prediction, \n",
    "             lw = 2, color = 'black')\n",
    "    plt.title(plot_title)\n",
    "    plt.ylabel(plot_ylabel)\n",
    "    plt.xlabel(plot_xlabel)\n",
    "    plt.show()\n",
    "\n",
    "def summarize(\n",
    "    solution: list, \n",
    "    n_samples: int,\n",
    "    names: dict={0:'a',1:'b', 2:'sigma'}, \n",
    "    plot: bool=False,\n",
    ") -> tuple:\n",
    "    \"\"\"\n",
    "    Summarizes the regression statistics obtained via a\n",
    "    Laplace approximation.\n",
    "    \"\"\"\n",
    "    # Computes posterior samples\n",
    "    posterior_samples = posterior_sampling_laplace(\n",
    "        solution, n_samples\n",
    "    )\n",
    "    #### Computes summary stats\n",
    "    #    85% confidence interval\n",
    "    post_quantiles = np.quantile(posterior_samples, \n",
    "                                 q = [0.075, 0.925], \n",
    "                                 axis = 0)\n",
    "    #    standard deviation\n",
    "    post_sd = np.std(posterior_samples, axis = 0)\n",
    "    #     mean\n",
    "    post_mean = np.mean(posterior_samples, axis = 0)\n",
    "    # Prints the results\n",
    "    summary_stats = [post_mean, post_sd, post_quantiles[0,:],\n",
    "                     post_quantiles[1,:]]\n",
    "    summary_stats = pd.DataFrame(summary_stats).transpose()\n",
    "    summary_stats.columns = ['mean', 'SD', '7.5%', '92.5%']\n",
    "    summary_stats.rename(index=names, inplace=True)\n",
    "    print(summary_stats, \"\\n\")\n",
    "    # If requested, prints the plot of the posterior data\n",
    "    if plot:\n",
    "        boxes = []\n",
    "        for i in range(len(post_mean)):\n",
    "            boxes.append(posterior_samples[:,i])\n",
    "        plt.boxplot(boxes,vert=0)\n",
    "        plt.yticks(range(len(post_mean)+1)[1:], names)\n",
    "        plt.axvline(x=0, color = 'black', alpha = 0.1)\n",
    "        plt.show()\n",
    "    # Returns the posterior samples\n",
    "    return post_mean, post_sd, posterior_samples"
   ]
  },
  {
   "cell_type": "code",
   "execution_count": 72,
   "metadata": {},
   "outputs": [
    {
     "name": "stdout",
     "output_type": "stream",
     "text": [
      "            mean        SD       7.5%      92.5%\n",
      "a      16.769443  0.936158  15.479938  18.096643\n",
      "b      -0.023272  0.250179  -0.383239   0.324064\n",
      "sigma  68.528852  1.028976  67.085864  70.021038 \n",
      "\n"
     ]
    }
   ],
   "source": [
    "# Computes posterior samples\n",
    "posterior_means, _, posterior_samples = summarize(solution_regression, n_samples=1000)"
   ]
  },
  {
   "cell_type": "markdown",
   "metadata": {},
   "source": [
    "We see that the resulting regression solution provides a distribution for the parameters $a$ and $b$ that do not match our observations.\n",
    "\n",
    "- Given that for $x\\approx0$, we seem to find values for $y$ around 150 in the dataset\n",
    "- Given then that the intercept $a$'s 95% confidence interval is c. [9.3, 12.0]\n",
    "- Given that we visually seem to evidence a positive linear trend between $x$ and $y$\n",
    "- Given then that the coefficient $b$'s mean is -0.9 and 95% confidence interval in [-1.8, 0.1]\n",
    "- Given that, as noted, the optimization process provided by scipy mentions that it has failed (quote: `success: False`).\n",
    "\n",
    "We can confidently state that the resulting regression model does not match our cursory observations and as such the model surely is not correct."
   ]
  },
  {
   "cell_type": "markdown",
   "metadata": {},
   "source": [
    "### 2) In case there is any problem with the model, modify the code above in order to get a proper solution\n",
    "\n",
    "It seems that our previous model fails due to mis-declared priors. As such, we are looking for better values to declare our regression. Based on our previous observation, we decide:\n",
    "\n",
    "- To increase the prior mean and standard deviation for the intercept $a$ (from 10 and 1 to 170 and 1, which matches more closely our observation of the distribution of $y$ seen above). \n",
    "- To leave unchange the prior mean for the coefficient $b$ but to increase its prior standard deviation (from 1 to 10) to allow for more variabilty in the model's run\n",
    "- To reduce the lower bound for the model's $\\sigma$ from 20 to 0 to increase the overall range of the underlying uniform distribution function\n"
   ]
  },
  {
   "cell_type": "code",
   "execution_count": 73,
   "metadata": {},
   "outputs": [
    {
     "name": "stderr",
     "output_type": "stream",
     "text": [
      "/home/quentin/anaconda3/envs/pystan_env/lib/python3.6/site-packages/scipy/optimize/_numdiff.py:497: RuntimeWarning: invalid value encountered in subtract\n",
      "  df = fun(x) - f0\n"
     ]
    },
    {
     "name": "stdout",
     "output_type": "stream",
     "text": [
      "      fun: 1081.4766154094232\n",
      " hess_inv: array([[ 7.52534511e-02,  2.20773412e-04,  5.32096339e-04],\n",
      "       [ 2.20773412e-04,  1.78378246e-03, -1.35220801e-05],\n",
      "       [ 5.32096339e-04, -1.35220801e-05,  3.81832202e-02]])\n",
      "      jac: array([0., 0., 0.])\n",
      "  message: 'Optimization terminated successfully.'\n",
      "     nfev: 86\n",
      "      nit: 17\n",
      "     njev: 21\n",
      "   status: 0\n",
      "  success: True\n",
      "        x: array([154.59373637,   0.90501319,   5.07186734])\n"
     ]
    }
   ],
   "source": [
    "expr = 'y ~ x'\n",
    "\n",
    "# Initializing the likelihood\n",
    "likelihood = 'gaussian'\n",
    "\n",
    "# Defining the prior with hyperparameters \n",
    "prior_a_mean = 150\n",
    "prior_a_sigma = 10\n",
    "prior_a = ['gaussian', [prior_a_mean, prior_a_sigma]]\n",
    "\n",
    "prior_b_mean = 0\n",
    "prior_b_sigma = 10\n",
    "prior_b = ['gaussian', [prior_b_mean, prior_b_sigma]]\n",
    "\n",
    "sigma_inf = 0\n",
    "sigma_sup = 50\n",
    "prior_sigma_unif = [sigma_inf, sigma_sup]\n",
    "prior_sigma = ['uniform', prior_sigma_unif]\n",
    "\n",
    "priors = [prior_a, prior_b, prior_sigma]\n",
    "\n",
    "solution_regression = laplace_solution_regression(expr, df, likelihood, priors)"
   ]
  },
  {
   "cell_type": "markdown",
   "metadata": {},
   "source": [
    "We thus obtain a successful regression solution (`success: True`)."
   ]
  },
  {
   "cell_type": "markdown",
   "metadata": {},
   "source": [
    "## Exercise 5\n",
    "\n",
    "Consider the following function on the interval [0, 3]:"
   ]
  },
  {
   "cell_type": "code",
   "execution_count": 260,
   "metadata": {},
   "outputs": [
    {
     "data": {
      "image/png": "[encoded data removed]",
      "text/plain": [
       "<Figure size 432x288 with 1 Axes>"
      ]
     },
     "metadata": {
      "needs_background": "light"
     },
     "output_type": "display_data"
    }
   ],
   "source": [
    "x = np.linspace(0., 3., 100)\n",
    "f = np.exp(x*np.sin(x))\n",
    "\n",
    "plt.plot(x, f)\n",
    "plt.show()"
   ]
  },
  {
   "cell_type": "markdown",
   "metadata": {},
   "source": [
    "### 1) Approximate this function using the Laplace approximation.\n",
    "\n",
    "The Laplace method approximates the shape of a given function with a Gaussian distribution. This approximation relies on the Taylor expansion of the (log-)function of interest *f* with *f* the function to approximate. Thus, we state the function *g* such that:\n",
    "\n",
    "$$f(x) = \\exp(\\log(f(\\theta)) = \\exp(g(\\theta))$$\n",
    "\n",
    "Stopping at the second order, and assuming that *g* and *f* share a maximum in $\\theta_0$, we can approximate *g* and thus *f* for any point $\\theta$ sufficiently close to $\\theta_0$ such that:\n",
    "\n",
    "\\begin{align}\n",
    "g(\\theta) &= g(\\theta_0) + g'(\\theta_0)(\\theta-\\theta_0) + \\frac{1}{2}g''(\\theta_0)(\\theta-\\theta_0)^2 + o((\\theta - \\theta_0)^3)\\\\\n",
    "g'(\\theta_0) &= 0 \\\\\n",
    "\\end{align}\n",
    "\n",
    "We find the following approximation:\n",
    "\n",
    "\\begin{align}\n",
    "g(\\theta) &\\approx g(\\theta_0) + \\frac{1}{2}g''(\\theta_0)(\\theta-\\theta_0)^2\\\\\n",
    "f(\\theta_0) &\\approx f(\\theta_0) + \\exp(\\frac{1}{2}g''(\\theta_0)(\\theta-\\theta_0)^2) \\\\\n",
    "&\\approx \\exp\\big(\\frac{1}{2}g''(\\theta_0)(\\theta-\\theta_0)^2\\big)\\quad\\text{Given $f(\\theta_0)$ a constant}\\\\\n",
    "&\\approx \\exp\\big(-\\frac{1}{2}\\frac{(\\theta-\\theta_0)^2}{-\\frac{1}{g''(\\theta_0)}}\\big)\\quad\\text{We recognize a Gaussian PDF}\\\\\n",
    "\\end{align}\n",
    "\n",
    "As such, *f* can be approximated (up to a normalization constant) by a Gaussian distribution: \n",
    "\n",
    "$$\\mathcal{N}(\\theta_0, -\\frac{1}{g''(\\theta_0)})$$\n",
    "\n",
    "<u>Computing the maximum of the log-distribution:</u>\n",
    "\n",
    "Given above the function $f(x) = exp(x*sin(x))$, we can state:\n",
    "\n",
    "\\begin{align}\n",
    "g(\\theta) & = \\log(f(\\theta)) = \\theta * sin(\\theta)\\\\\n",
    "\\frac{\\delta g}{\\delta \\theta} &= sin(\\theta) + \\theta*cos(\\theta) \\quad\\text{Obtained via Wolfram Alpha}\n",
    "\\end{align}\n",
    "\n",
    "As such:\n",
    "\n",
    "\\begin{align}\n",
    "g'(\\theta_0) &= 0\\\\\n",
    "&\\Rightarrow x = \\{-2, 0, 2\\} \\quad\\text{Obtained via Wolfram Alpha}\n",
    "\\end{align}\n",
    "\n",
    "Since we are looking at the interval $[0,3]$, we select: $$\\theta_0 = 2$$\n",
    "\n",
    "<u>Computing the second derivative of the log-distribution with respect to $\\theta$:</u>\n",
    "\n",
    "\\begin{align}\n",
    "\\frac{\\delta^2 g}{\\delta \\theta^2} &= 2*cos(\\theta) - \\theta*sin(\\theta) \\quad\\text{Obtained via Wolfram Alpha}\n",
    "\\end{align}\n",
    "\n",
    "We find:\n",
    "\n",
    "$$g''(\\theta_0) = 2*cos(2) - 2*sin(2)$$\n",
    "\n",
    "<u>Concluding on finding the Laplace approximation :</u>\n",
    "\n",
    "The approximation will be the Gaussian:\n",
    "\n",
    "$$\\mathcal{N}\\big(2, \\frac{1}{2*cos(2) - 2*sin(2)}\\big)$$\n",
    "\n",
    "### 2) Plot the original function and your approximation on the same graph."
   ]
  },
  {
   "cell_type": "code",
   "execution_count": 261,
   "metadata": {
    "scrolled": true
   },
   "outputs": [
    {
     "data": {
      "image/png": "[encoded data removed]",
      "text/plain": [
       "<Figure size 432x288 with 1 Axes>"
      ]
     },
     "metadata": {
      "needs_background": "light"
     },
     "output_type": "display_data"
    }
   ],
   "source": [
    "def lapproximation():\n",
    "    \"\"\"\n",
    "    Returns the Laplace approximation of the distribution of \n",
    "    exp(x*sin(x)).\n",
    "    \"\"\"\n",
    "    theta_max = 2\n",
    "    hessian   = (2*np.cos(2)-2*np.sin(2))\n",
    "    variance  = -1/hessian\n",
    "    return norm(theta_max, np.sqrt(variance))\n",
    "\n",
    "plt.figure()\n",
    "plt.plot(x, f/np.sum(f), \n",
    "         label=\"f's original distribution\")\n",
    "plt.plot(x, lapproximation().pdf(x)/np.sum(lapproximation().pdf(x)), \n",
    "         label=\"Laplace approximation\")\n",
    "plt.title(\"Distributions of exp(x*sin(x))\\nand its Laplace approximation\")\n",
    "plt.legend()\n",
    "plt.show()"
   ]
  },
  {
   "cell_type": "markdown",
   "metadata": {},
   "source": [
    "## Exercise 6\n",
    "\n",
    "From the file grades.csv we are interested in predicting the final evaluation score from the midterm one. \n",
    "\n",
    "### (6.1) Find appropriate priors for a linear model. Sample from the priors to verify that the choice of all the priors parameters is compatible with the regression problem\n",
    "\n",
    "1. **Data import**"
   ]
  },
  {
   "cell_type": "code",
   "execution_count": 262,
   "metadata": {},
   "outputs": [
    {
     "data": {
      "text/html": [
       "<div>\n",
       "<style scoped>\n",
       "    .dataframe tbody tr th:only-of-type {\n",
       "        vertical-align: middle;\n",
       "    }\n",
       "\n",
       "    .dataframe tbody tr th {\n",
       "        vertical-align: top;\n",
       "    }\n",
       "\n",
       "    .dataframe thead th {\n",
       "        text-align: right;\n",
       "    }\n",
       "</style>\n",
       "<table border=\"1\" class=\"dataframe\">\n",
       "  <thead>\n",
       "    <tr style=\"text-align: right;\">\n",
       "      <th></th>\n",
       "      <th>student</th>\n",
       "      <th>midterm</th>\n",
       "      <th>final</th>\n",
       "    </tr>\n",
       "  </thead>\n",
       "  <tbody>\n",
       "    <tr>\n",
       "      <th>count</th>\n",
       "      <td>52.000000</td>\n",
       "      <td>52.000000</td>\n",
       "      <td>52.000000</td>\n",
       "    </tr>\n",
       "    <tr>\n",
       "      <th>mean</th>\n",
       "      <td>26.500000</td>\n",
       "      <td>78.596154</td>\n",
       "      <td>119.807692</td>\n",
       "    </tr>\n",
       "    <tr>\n",
       "      <th>std</th>\n",
       "      <td>15.154757</td>\n",
       "      <td>9.632990</td>\n",
       "      <td>16.102659</td>\n",
       "    </tr>\n",
       "    <tr>\n",
       "      <th>min</th>\n",
       "      <td>1.000000</td>\n",
       "      <td>53.000000</td>\n",
       "      <td>78.000000</td>\n",
       "    </tr>\n",
       "    <tr>\n",
       "      <th>25%</th>\n",
       "      <td>13.750000</td>\n",
       "      <td>71.000000</td>\n",
       "      <td>115.500000</td>\n",
       "    </tr>\n",
       "    <tr>\n",
       "      <th>50%</th>\n",
       "      <td>26.500000</td>\n",
       "      <td>79.000000</td>\n",
       "      <td>122.000000</td>\n",
       "    </tr>\n",
       "    <tr>\n",
       "      <th>75%</th>\n",
       "      <td>39.250000</td>\n",
       "      <td>88.000000</td>\n",
       "      <td>130.250000</td>\n",
       "    </tr>\n",
       "    <tr>\n",
       "      <th>max</th>\n",
       "      <td>52.000000</td>\n",
       "      <td>96.000000</td>\n",
       "      <td>145.000000</td>\n",
       "    </tr>\n",
       "  </tbody>\n",
       "</table>\n",
       "</div>"
      ],
      "text/plain": [
       "         student    midterm       final\n",
       "count  52.000000  52.000000   52.000000\n",
       "mean   26.500000  78.596154  119.807692\n",
       "std    15.154757   9.632990   16.102659\n",
       "min     1.000000  53.000000   78.000000\n",
       "25%    13.750000  71.000000  115.500000\n",
       "50%    26.500000  79.000000  122.000000\n",
       "75%    39.250000  88.000000  130.250000\n",
       "max    52.000000  96.000000  145.000000"
      ]
     },
     "execution_count": 262,
     "metadata": {},
     "output_type": "execute_result"
    }
   ],
   "source": [
    "data = pd.read_csv(\"grades.csv\", sep=\",\")\n",
    "data.describe()"
   ]
  },
  {
   "cell_type": "markdown",
   "metadata": {},
   "source": [
    "2. **Setup**\n",
    "\n",
    "We are interested in a possible relationship between the final scores and the midterm scores of the student in the dataset. We may define a preliminary model as a linear regression with `final score` as the dependent variable and `midterm score` as the covariate. \n",
    "\n",
    "We are interested in the regression function $r$ such that:\n",
    "\n",
    "$$r \\rightarrow \\mathbb{E}[final\\,score\\,\\,|\\,\\,midterm\\,score]$$\n",
    "\n",
    "Our resulting linear model would be as such:\n",
    "\n",
    "\\begin{align}\n",
    "\\text{final score} &= a+b*\\text{midterm score}\\\\\\\\\n",
    "\\text{with,}\\\\\n",
    "a&,\\text{ the intercept}\\\\\n",
    "b, &,\\text{ the coefficient of the covariate 'midterm score'}\n",
    "\\end{align}\n",
    "\n",
    "3. **Data Exploration**"
   ]
  },
  {
   "cell_type": "code",
   "execution_count": 263,
   "metadata": {},
   "outputs": [
    {
     "data": {
      "image/png": "[encoded data removed]",
      "text/plain": [
       "<Figure size 720x432 with 1 Axes>"
      ]
     },
     "metadata": {
      "needs_background": "light"
     },
     "output_type": "display_data"
    }
   ],
   "source": [
    "plt.figure(figsize=(10,6))\n",
    "sns.kdeplot(data[\"midterm\"], label=\"midterm scores\").set(title='Age distribution in the dataset')\n",
    "sns.kdeplot(data[\"final\"], label=\"final scores\",color=\"red\", alpha=0.5)\n",
    "plt.legend()\n",
    "plt.show()"
   ]
  },
  {
   "cell_type": "code",
   "execution_count": 264,
   "metadata": {},
   "outputs": [
    {
     "data": {
      "image/png": "[encoded data removed]",
      "text/plain": [
       "<Figure size 432x288 with 1 Axes>"
      ]
     },
     "metadata": {
      "needs_background": "light"
     },
     "output_type": "display_data"
    }
   ],
   "source": [
    "plt.figure()\n",
    "plt.scatter(data[\"midterm\"], data[\"final\"])\n",
    "plt.title(\"Midterm vs. Final evaluation scores\")\n",
    "plt.xlabel(\"Midterm scores\")\n",
    "plt.ylabel(\"Final  scores\")\n",
    "plt.show()"
   ]
  },
  {
   "cell_type": "markdown",
   "metadata": {},
   "source": [
    "We can reasonably assume that `Midterm Scores` is Gaussian distributed as we expect a bell curve in terms of results as grades should congregate around an average (the mean student) with poorer and better results becoming increasingly rare. \n",
    "\n",
    "3. **Fitting a model for Midterm Evaluation Scores only**\n",
    "\n",
    "We want to fit a model for `Midterm Scores` only. Therefore, for each student $i$, we assume that their `Midterm Scores` is distributed as:\n",
    "\n",
    "$$\\mbox{Midterm Scores}_i\\sim N(\\mu,\\sigma^2).$$\n",
    "\n",
    "In particular, due to exchangeability, we also have :\n",
    "\n",
    "\\begin{align}\n",
    "p(\\mbox{midterm}) &= p(\\mbox{midterm}_1, \\mbox{midterm}_2, \\ldots, \\mbox{midterm}_N)\\\\\n",
    "&= p(\\mbox{midterm}_1)p(\\mbox{midterm}_2)\\cdots p(\\mbox{midterm}_N)\n",
    "\\end{align}\n",
    "\n",
    "which should be a product of Gaussian likelihoods in our case.\n",
    "\n",
    "Once agreed on the use of a Gaussian likelihood, we need to specify a prior. We can use a Gaussian model encoding our belief on average midterm score of the students, and its variance. For example, by making this assumption:\n",
    "\n",
    "$$p(\\mu) = N(78, 10)$$ \n",
    "\n",
    "i.e. Given our dataset, we say that the average `Midterm Scores` is 78 with a variability of $\\pm 2\\sigma = [58, 98]$, which is a quite generous interval where to expect the mean to fall. For the variance, since we don't have really an opinion about it, we could simply say that it is uniformly distributed in the interval $[0, 40]$:\n",
    "\n",
    "$$\\sigma = U(0, 40)$$\n",
    "\n",
    "In absence of observations, a model of `Midterm Evaluation Scores` depends uniquely on priors. We can simulate it by sampling."
   ]
  },
  {
   "cell_type": "code",
   "execution_count": 181,
   "metadata": {},
   "outputs": [
    {
     "data": {
      "text/plain": [
       "[]"
      ]
     },
     "execution_count": 181,
     "metadata": {},
     "output_type": "execute_result"
    },
    {
     "data": {
      "image/png": "[encoded data removed]",
      "text/plain": [
       "<Figure size 432x288 with 1 Axes>"
      ]
     },
     "metadata": {
      "needs_background": "light"
     },
     "output_type": "display_data"
    }
   ],
   "source": [
    "# Declares parameters\n",
    "a = 0\n",
    "b = 40\n",
    "mu0 = 78\n",
    "tau = 10\n",
    "n_samples = 1000\n",
    "\n",
    "# Declares prior distribution for sigma\n",
    "prior_sigma = uniform(a,b)\n",
    "prior_samples_sigma = prior_sigma.rvs(n_samples)\n",
    "\n",
    "# Plots distribution\n",
    "plt.hist(prior_samples_sigma)\n",
    "plt.plot()"
   ]
  },
  {
   "cell_type": "code",
   "execution_count": 182,
   "metadata": {},
   "outputs": [
    {
     "data": {
      "text/plain": [
       "[]"
      ]
     },
     "execution_count": 182,
     "metadata": {},
     "output_type": "execute_result"
    },
    {
     "data": {
      "image/png": "[encoded data removed]",
      "text/plain": [
       "<Figure size 432x288 with 1 Axes>"
      ]
     },
     "metadata": {
      "needs_background": "light"
     },
     "output_type": "display_data"
    }
   ],
   "source": [
    "# Declares prior distribution for mu\n",
    "prior_mu = norm(mu0,tau)\n",
    "prior_samples_mu = prior_mu.rvs(1000)\n",
    "\n",
    "# Plots distribution\n",
    "plt.hist(prior_samples_mu)\n",
    "plt.plot()"
   ]
  },
  {
   "cell_type": "code",
   "execution_count": 183,
   "metadata": {},
   "outputs": [
    {
     "data": {
      "image/png": "[encoded data removed]",
      "text/plain": [
       "<Figure size 432x288 with 1 Axes>"
      ]
     },
     "metadata": {
      "needs_background": "light"
     },
     "output_type": "display_data"
    }
   ],
   "source": [
    "# Declares the prior distribution of sigma and mu in the case of a simulator \n",
    "# of a (mu, sigma) distribution \n",
    "sigma = uniform.rvs(a, b, n_samples)\n",
    "mu = norm.rvs(mu0, np.sqrt(tau**2), n_samples)\n",
    "\n",
    "# Defins the simulator by sampling from both distributions\n",
    "MESs = []\n",
    "for i in range(n_samples):\n",
    "    MESs.append(norm.rvs(mu[i],sigma[i],1))\n",
    "\n",
    "plt.hist(np.array(MESs))\n",
    "plt.show()"
   ]
  },
  {
   "cell_type": "markdown",
   "metadata": {},
   "source": [
    "This looks close to the original MES data, we now want to integrate our data in a model, therefore we need to specify our likelihood:\n",
    "\n",
    "$$p(y|\\mu,\\sigma^2) = N(y|\\mu,\\sigma^2)$$\n",
    "\n",
    "We will use the *Laplace approximation*, as implemented in the toolbox *tools.py* (this function takes the as input the priors and the likelihood of our model, and gives us back an approximation of the posterior under the form of a Gaussian distribution fitting our posterior parameter space). So, the posterior Gaussian will have dimension equal to the number of parameters. We have:\n",
    "\n",
    "\\begin{align}\n",
    "P(\\mu, \\sigma|MES_i, a, b, \\mu_0, \\sigma_0) &\\approx P(MES_i|\\mu,\\sigma).p(\\mu, \\sigma|a,b,\\mu_0, \\sigma_0)\\\\\n",
    "&\\approx \\mathcal{N}([\\mu^*, \\sigma^*], \\Sigma)\\\\\n",
    "\\end{align}"
   ]
  },
  {
   "cell_type": "code",
   "execution_count": 184,
   "metadata": {},
   "outputs": [
    {
     "name": "stdout",
     "output_type": "stream",
     "text": [
      "      fun: 197.98215316733882\n",
      " hess_inv: array([[1.68484275, 0.01100917],\n",
      "       [0.01100917, 0.86952408]])\n",
      "      jac: array([ 5.72204590e-06, -1.90734863e-06])\n",
      "  message: 'Optimization terminated successfully.'\n",
      "     nfev: 60\n",
      "      nit: 17\n",
      "     njev: 20\n",
      "   status: 0\n",
      "  success: True\n",
      "        x: array([78.58590676,  9.53992092])\n"
     ]
    }
   ],
   "source": [
    "# We specify a likelihood N(\\mu, \\sigma^2)\n",
    "\n",
    "# data likelihood parameter initial values for the parameters mu and sigma2\n",
    "mu = 40\n",
    "sigma = 20 \n",
    "\n",
    "# Initializing the likelihood\n",
    "likelihood = 'gaussian'\n",
    "parameters = [mu, sigma]\n",
    "\n",
    "# Defining the prior with hyperparameters \n",
    "prior_mu_mean = mu0\n",
    "prior_mu_sigma = tau\n",
    "prior_mu = ['gaussian', [prior_mu_mean, prior_mu_sigma]]\n",
    "\n",
    "sigma_inf = a\n",
    "sigma_sup = b\n",
    "prior_sigma_unif = [sigma_inf, sigma_sup]\n",
    "prior_sigma = ['uniform', prior_sigma_unif]\n",
    "\n",
    "solution = laplace_solution([mu,sigma], [], data[\"midterm\"], likelihood, [prior_mu, prior_sigma])"
   ]
  },
  {
   "cell_type": "markdown",
   "metadata": {},
   "source": [
    "It seems that the machine worked correctly. As such, let's now explore in detail what we obtained. The solution is composed by the mean and the covariance of the posterior, in our case for the parameters $\\mu$ and $\\sigma$. We can therefore sample from the posterior to explore our new model of `Midterm Scores`:"
   ]
  },
  {
   "cell_type": "code",
   "execution_count": 185,
   "metadata": {},
   "outputs": [
    {
     "data": {
      "text/plain": [
       "[]"
      ]
     },
     "execution_count": 185,
     "metadata": {},
     "output_type": "execute_result"
    },
    {
     "data": {
      "image/png": "[encoded data removed]",
      "text/plain": [
       "<Figure size 432x288 with 1 Axes>"
      ]
     },
     "metadata": {
      "needs_background": "light"
     },
     "output_type": "display_data"
    }
   ],
   "source": [
    "# Samples the posterior distribution of MES\n",
    "posterior_mean = solution[0]\n",
    "posterior_covariance = solution[1]\n",
    "posterior_samples = multivariate_normal.rvs(posterior_mean, \n",
    "                                            posterior_covariance, \n",
    "                                            size = n_samples)\n",
    "\n",
    "# Plots the posterior distribution for mu\n",
    "plt.hist(np.array([posterior_samples[i][0] for i in range(n_samples)]))\n",
    "plt.plot()"
   ]
  },
  {
   "cell_type": "code",
   "execution_count": 186,
   "metadata": {},
   "outputs": [
    {
     "data": {
      "text/plain": [
       "[]"
      ]
     },
     "execution_count": 186,
     "metadata": {},
     "output_type": "execute_result"
    },
    {
     "data": {
      "image/png": "[encoded data removed]",
      "text/plain": [
       "<Figure size 432x288 with 1 Axes>"
      ]
     },
     "metadata": {
      "needs_background": "light"
     },
     "output_type": "display_data"
    }
   ],
   "source": [
    "# Plots the posterior distribution for mu\n",
    "plt.hist(np.array([posterior_samples[i][1] for i in range(n_samples)]))\n",
    "plt.plot()"
   ]
  },
  {
   "cell_type": "markdown",
   "metadata": {},
   "source": [
    "Given this data exploration, we settle on the following priors\n",
    "\n",
    "| prior parameter | Mean | Sigma | distribution |\n",
    "| --- | --- | --- | --- |\n",
    "| a | 40 | 20 | Gaussian |\n",
    "| b | 0 | 10 | Gaussian |\n",
    "| Sigma | 0 | 40 | Uniform | "
   ]
  },
  {
   "cell_type": "markdown",
   "metadata": {},
   "source": [
    "### (6.2) Fit a regression model using these priors (you can use either our Laplace implementation or Stan)"
   ]
  },
  {
   "cell_type": "code",
   "execution_count": 188,
   "metadata": {},
   "outputs": [
    {
     "name": "stdout",
     "output_type": "stream",
     "text": [
      "      fun: 223.987848768439\n",
      " hess_inv: array([[ 1.02015560e+01, -1.29569865e-01, -1.90463115e+00],\n",
      "       [-1.29569865e-01,  2.14094242e-03,  2.55568680e-02],\n",
      "       [-1.90463115e+00,  2.55568680e-02,  2.31339384e+00]])\n",
      "      jac: array([ 0.0000000e+00, -5.7220459e-06,  0.0000000e+00])\n",
      "  message: 'Optimization terminated successfully.'\n",
      "     nfev: 152\n",
      "      nit: 34\n",
      "     njev: 38\n",
      "   status: 0\n",
      "  success: True\n",
      "        x: array([54.45072857,  0.82969159, 14.51611753])\n"
     ]
    }
   ],
   "source": [
    "expr = 'final ~ midterm'\n",
    "\n",
    "# Intializes the likelihood\n",
    "likelihood = 'gaussian'\n",
    "\n",
    "# Defins the prior with hyperparameters \n",
    "prior_a_mean = 40\n",
    "prior_a_sigma = 20\n",
    "prior_a = ['gaussian', [prior_a_mean, prior_a_sigma]]\n",
    "\n",
    "prior_b_mean = 0\n",
    "prior_b_sigma = 10\n",
    "prior_b = ['gaussian', [prior_b_mean, prior_b_sigma]]\n",
    "\n",
    "sigma_inf = 0\n",
    "sigma_sup = 40\n",
    "prior_sigma_unif = [sigma_inf, sigma_sup]\n",
    "prior_sigma = ['uniform', prior_sigma_unif]\n",
    "\n",
    "priors = [prior_a, prior_b, prior_sigma]\n",
    "\n",
    "solution_regression = laplace_solution_regression(expr, data, likelihood, priors)"
   ]
  },
  {
   "cell_type": "markdown",
   "metadata": {},
   "source": [
    "### (6.3) Sample from the posterior and plot the related regression function. Is this simulation compatible with the observations?\n",
    "\n",
    "We first sample from the posterior and compute the related statistics."
   ]
  },
  {
   "cell_type": "code",
   "execution_count": 189,
   "metadata": {},
   "outputs": [
    {
     "name": "stdout",
     "output_type": "stream",
     "text": [
      "            mean        SD       7.5%      92.5%\n",
      "a      54.483641  3.166758  49.728933  58.940662\n",
      "b       0.829147  0.046432   0.765164   0.897967\n",
      "sigma  14.563872  1.443330  12.527530  16.578456\n"
     ]
    }
   ],
   "source": [
    "# Computes the posterior samples\n",
    "posterior_samples = multivariate_normal.rvs(solution_regression[0], \n",
    "                                            solution_regression[1], \n",
    "                                            size = n_samples)\n",
    "\n",
    "# Computes and prints the summary stats\n",
    "# 85% confidence interval\n",
    "post_quantiles = np.quantile(posterior_samples, q = [0.075, 0.925], axis = 0)\n",
    "# sd\n",
    "post_sd = np.std(posterior_samples, axis = 0)\n",
    "# mean\n",
    "post_mean = np.mean(posterior_samples, axis = 0)\n",
    "summary_stats = [post_mean, post_sd, post_quantiles[0,:],post_quantiles[1,:]]\n",
    "summary = pd.DataFrame(summary_stats).transpose()\n",
    "summary.columns = ['mean', 'SD', '7.5%', '92.5%']\n",
    "summary.rename(index={0:'a',1:'b', 2:'sigma'}, inplace=True)\n",
    "print(summary)"
   ]
  },
  {
   "cell_type": "markdown",
   "metadata": {},
   "source": [
    "We can now sample from the posterior and plot the resulting regression function with the variability of the prediction."
   ]
  },
  {
   "cell_type": "code",
   "execution_count": 190,
   "metadata": {},
   "outputs": [
    {
     "data": {
      "image/png": "[encoded data removed]",
      "text/plain": [
       "<Figure size 432x288 with 1 Axes>"
      ]
     },
     "metadata": {
      "needs_background": "light"
     },
     "output_type": "display_data"
    }
   ],
   "source": [
    "x_range = np.linspace(min(data[\"midterm\"]), max(data[\"midterm\"]))\n",
    "mean_prediction = post_mean[0] + post_mean[1] * x_range\n",
    "\n",
    "for i in range(n_samples):\n",
    "    prediction = posterior_samples[i,0] + posterior_samples[i,1] * x_range\n",
    "    plt.plot(x_range, prediction, lw = 0.05, color = 'grey')\n",
    "\n",
    "plt.scatter(data[\"midterm\"],data[\"final\"])\n",
    "plt.plot(x_range, mean_prediction, lw = 2, color = 'black')\n",
    "plt.title('Final scores vs Midterm scores')\n",
    "plt.ylabel('Final scores')\n",
    "plt.xlabel('Midterm scores')\n",
    "\n",
    "plt.show()"
   ]
  },
  {
   "cell_type": "code",
   "execution_count": 191,
   "metadata": {},
   "outputs": [
    {
     "data": {
      "image/png": "[encoded data removed]",
      "text/plain": [
       "<Figure size 432x288 with 1 Axes>"
      ]
     },
     "metadata": {
      "needs_background": "light"
     },
     "output_type": "display_data"
    }
   ],
   "source": [
    "def plot_boxplot_regression(solution,depvar_name,plot_title):\n",
    "    \"\"\"\n",
    "    Plots the confidence interval of the b (slope) parameter\n",
    "    within an univariate regression between two variables. It\n",
    "    allows to see if the confidence interval overlaps or falls\n",
    "    away from zero.\n",
    "    \"\"\"\n",
    "    # Samples the posterior distribution of the slope b as part\n",
    "    # of an univarite regression\n",
    "    boxes = posterior_sampling_laplace(solution, 5000)[:,1]\n",
    "    # Plots the boxplot\n",
    "    plt.figure()\n",
    "    plt.boxplot(boxes,vert=0)\n",
    "    plt.yticks([1], [depvar_name])\n",
    "    plt.axvline(x=0, color = \"black\", alpha = 0.1)\n",
    "    plt.title(plot_title)\n",
    "    plt.show()\n",
    "    \n",
    "plot_boxplot_regression(\n",
    "    solution_regression, \n",
    "    \"midterm score\", \n",
    "    \"Distribution of the regression coefficient of Midterm score\"\n",
    ")"
   ]
  },
  {
   "cell_type": "markdown",
   "metadata": {},
   "source": [
    "At first glance the linear regression results seem to conform with our observations. \n",
    "\n",
    "However, we must note that the dataset seems to have a high variance in terms of final score given a midterm score. We can see this by looking at the correlation coefficient between the two columns"
   ]
  },
  {
   "cell_type": "code",
   "execution_count": 192,
   "metadata": {},
   "outputs": [
    {
     "data": {
      "text/plain": [
       "array([[1.        , 0.42093045],\n",
       "       [0.42093045, 1.        ]])"
      ]
     },
     "execution_count": 192,
     "metadata": {},
     "output_type": "execute_result"
    }
   ],
   "source": [
    "np.corrcoef(data[[\"midterm\", \"final\"]].T)"
   ]
  },
  {
   "cell_type": "markdown",
   "metadata": {},
   "source": [
    "### (6.4) Compute the standard deviation for the final score of a student with midterm score of 60.\n",
    "\n",
    "We try to run the model again by centering the data."
   ]
  },
  {
   "cell_type": "code",
   "execution_count": 193,
   "metadata": {},
   "outputs": [
    {
     "data": {
      "image/png": "[encoded data removed]",
      "text/plain": [
       "<Figure size 432x288 with 1 Axes>"
      ]
     },
     "metadata": {
      "needs_background": "light"
     },
     "output_type": "display_data"
    }
   ],
   "source": [
    "# Centers the data\n",
    "MES_center = np.mean(data[\"midterm\"])\n",
    "data_center = data\n",
    "data_center[\"midterm\"] = data[\"midterm\"] - MES_center\n",
    "\n",
    "plt.scatter(data_center[\"midterm\"], data_center[\"final\"])\n",
    "plt.title('Final vs. Midterm Scores')\n",
    "plt.xlabel('Midterm Evaluation Scores')\n",
    "plt.ylabel('Final Evaluation Scores')\n",
    "plt.show()"
   ]
  },
  {
   "cell_type": "markdown",
   "metadata": {},
   "source": [
    "We can then fit the model again and compute posterior samples."
   ]
  },
  {
   "cell_type": "code",
   "execution_count": 194,
   "metadata": {},
   "outputs": [
    {
     "name": "stdout",
     "output_type": "stream",
     "text": [
      "      fun: 231.42629999721626\n",
      " hess_inv: array([[ 3.8385889 , -0.0206203 , -0.26597702],\n",
      "       [-0.0206203 ,  0.04974453, -0.01546806],\n",
      "       [-0.26597702, -0.01546806,  2.13684499]])\n",
      "      jac: array([-1.90734863e-06,  1.90734863e-06, -3.81469727e-06])\n",
      "  message: 'Optimization terminated successfully.'\n",
      "     nfev: 96\n",
      "      nit: 23\n",
      "     njev: 24\n",
      "   status: 0\n",
      "  success: True\n",
      "        x: array([119.01042298,   0.70332224,  14.48743146])\n"
     ]
    }
   ],
   "source": [
    "# Fits the model again\n",
    "solution_regression_center = laplace_solution_regression(expr, data_center, likelihood, priors)\n",
    "\n",
    "# Samples from the posterior to explore the distribution of the model parameters\n",
    "posterior_samples_center = multivariate_normal.rvs(solution_regression_center[0], \n",
    "                                                   solution_regression_center[1], \n",
    "                                                   size = n_samples)"
   ]
  },
  {
   "cell_type": "markdown",
   "metadata": {},
   "source": [
    "From the resulting regression and sampling, we can compute the `final score` distribution for a student with a `midterm score`of 60. "
   ]
  },
  {
   "cell_type": "code",
   "execution_count": 198,
   "metadata": {},
   "outputs": [
    {
     "data": {
      "image/png": "[encoded data removed]",
      "text/plain": [
       "<Figure size 432x288 with 1 Axes>"
      ]
     },
     "metadata": {
      "needs_background": "light"
     },
     "output_type": "display_data"
    },
    {
     "name": "stdout",
     "output_type": "stream",
     "text": [
      "The final score standard deviation of student with midterm score of 60: 1.952562437313759\n"
     ]
    }
   ],
   "source": [
    "# Predicts the FES on score distribution of a student with a MES of 60\n",
    "\n",
    "MES = 60\n",
    "MES_center = MES - np.mean(MES)\n",
    "predictions = []\n",
    "for i in range(n_samples):\n",
    "    predictions.append(posterior_samples_center[i,0] + posterior_samples_center[i,1] * MES_center)\n",
    "\n",
    "data_density = gaussian_kde(predictions)\n",
    "plt.plot(np.linspace(110, 130), data_density(np.linspace(110, 130)))\n",
    "plt.show()\n",
    "\n",
    "# Prints the standard deviation\n",
    "print(f\"The final score standard deviation of student with midterm score of 60: {np.std(predictions)}\")"
   ]
  },
  {
   "cell_type": "markdown",
   "metadata": {},
   "source": [
    "## Exercise 7\n",
    "\n",
    "### From the exercise above, fit a quadratic model and compare it to the linear one for this regression problem.\n",
    "\n",
    "We start with declaring our quadratic regression function while reusing the priors for $a$, $b$, and $\\sigma$ from the linear results above."
   ]
  },
  {
   "cell_type": "code",
   "execution_count": 199,
   "metadata": {},
   "outputs": [
    {
     "name": "stdout",
     "output_type": "stream",
     "text": [
      "Mean and standard deviation of the variable midterm^2: 91.00998520710057 117.5098162864182\n"
     ]
    }
   ],
   "source": [
    "data['midterm2'] = data[\"midterm\"] * data[\"midterm\"]\n",
    "print(\"Mean and standard deviation of the variable midterm^2:\",\n",
    "      np.mean(data[\"midterm2\"]),\n",
    "      np.std(data[\"midterm2\"]))"
   ]
  },
  {
   "cell_type": "code",
   "execution_count": 200,
   "metadata": {},
   "outputs": [
    {
     "name": "stderr",
     "output_type": "stream",
     "text": [
      "/home/quentin/anaconda3/envs/pystan_env/lib/python3.6/site-packages/scipy/optimize/_numdiff.py:497: RuntimeWarning: invalid value encountered in subtract\n",
      "  df = fun(x) - f0\n",
      "/home/quentin/anaconda3/envs/pystan_env/lib/python3.6/site-packages/scipy/optimize/_numdiff.py:497: RuntimeWarning: invalid value encountered in subtract\n",
      "  df = fun(x) - f0\n"
     ]
    },
    {
     "name": "stdout",
     "output_type": "stream",
     "text": [
      "      fun: 237.3394851807272\n",
      " hess_inv: array([[ 6.39903786e+00, -4.83405222e-02, -2.82140667e-02,\n",
      "        -3.64837804e-01],\n",
      "       [-4.83405222e-02,  4.70238444e-02,  7.01211923e-04,\n",
      "         1.46625356e-02],\n",
      "       [-2.82140667e-02,  7.01211923e-04,  3.12668045e-04,\n",
      "         2.38968721e-03],\n",
      "       [-3.64837804e-01,  1.46625356e-02,  2.38968721e-03,\n",
      "         1.95766387e+00]])\n",
      "      jac: array([0.00000000e+00, 1.90734863e-06, 3.81469727e-06, 5.72204590e-06])\n",
      "  message: 'Optimization terminated successfully.'\n",
      "     nfev: 333\n",
      "      nit: 56\n",
      "     njev: 65\n",
      "   status: 0\n",
      "  success: True\n",
      "        x: array([ 1.19292595e+02,  6.95796168e-01, -3.10750161e-03,  1.44674618e+01])\n"
     ]
    }
   ],
   "source": [
    "expr = \"final ~ midterm + midterm2\"\n",
    "\n",
    "# Initializes the likelihood\n",
    "likelihood = 'gaussian'\n",
    "\n",
    "# Defines the prior with hyperparameters \n",
    "prior_b2_mean = 90\n",
    "prior_b2_sigma = 100\n",
    "prior_b2 = ['gaussian', [prior_b2_mean, prior_b2_sigma]]\n",
    "priors = [prior_a, prior_b, prior_b2, prior_sigma]\n",
    "\n",
    "# Runs the regression\n",
    "solution_regression_quadratic = laplace_solution_regression(expr, data, likelihood, priors)"
   ]
  },
  {
   "cell_type": "markdown",
   "metadata": {},
   "source": [
    "To compare the linear and quadratic models, we want to compute their relative WAIC metric. to do so, we reuse the function we previously used in assignment 2."
   ]
  },
  {
   "cell_type": "code",
   "execution_count": 201,
   "metadata": {},
   "outputs": [],
   "source": [
    "def compute_WAIC(depvar_name,covar_name,max_order, \n",
    "                 n_sampling,posterior_samples, data):\n",
    "    \"\"\"\n",
    "    Computes the WAIC metric for a set of regression model, given\n",
    "    a maximum function order (linear, quadratic, cubic or fourth-order),\n",
    "    posterior sampling parameters, and a dataset.\n",
    "    \"\"\"\n",
    "    # Declares the pointwise predictive distribution and widely \n",
    "    # applicable information criterion objects to record\n",
    "    lppd = []\n",
    "    p_waic = []\n",
    "    # Computes the log-probability for each datapoint of the \n",
    "    # dependent variable\n",
    "    for i, target in enumerate(data[depvar_name]):\n",
    "        # declares a lambda function computing the mean of the \n",
    "        # log pdf\n",
    "        prediction = lambda s, order: posterior_samples[s, 0] + \\\n",
    "                     np.sum([posterior_samples[s,o] * \\\n",
    "                             data[f\"{covar_name}{o}\"][i]\n",
    "                             for o in range(1, order+1)], \n",
    "                            axis = 0)\n",
    "        # Computes the log-proba of the datapoint given a sampling size\n",
    "        log_p = [norm.logpdf(target, loc=prediction(s, max_order), \n",
    "                             scale=posterior_samples[s, -1]) \n",
    "                 for s in range(n_sampling)]\n",
    "        # Appends the results\n",
    "        lppd.append(logsumexp(log_p) - np.log(len(log_p)))\n",
    "        p_waic.append(np.var(log_p))\n",
    "    return lppd, p_waic\n",
    "    \n",
    "def summarize_WAIC_statistics(depvar_name,covar_name,max_order, \n",
    "                              n_sampling,posterior_samples, data):\n",
    "    \"\"\"\n",
    "    Computes the summary of the statistic yielded with the WAIC\n",
    "    method: WAIC, pWAIC, dWAIC, weight, SE, d_SE\n",
    "    \"\"\"\n",
    "    # Declares empty variable lists for the WAIC and SE\n",
    "    waic_models = []\n",
    "    waic_vect_models = []\n",
    "    p_waic_models = []\n",
    "    se_models = []\n",
    "    # For each model (with a given order), computes the WAIC and SE\n",
    "    # and stores them\n",
    "    for i in range(1, max_order+1):\n",
    "        lppd, p_waic = compute_WAIC(depvar_name, covar_name, \n",
    "                                    i, n_sampling, \n",
    "                                    posterior_samples[i-1], data)\n",
    "        waic_vect = -2*(np.array(lppd) - np.array(p_waic))\n",
    "        waic = sum(waic_vect)\n",
    "        p_waic = sum(p_waic)\n",
    "        se = np.sqrt(len(data[depvar_name]) * np.var(waic_vect))\n",
    "        # Records the results\n",
    "        waic_models.append(waic)\n",
    "        waic_vect_models.append(waic_vect)\n",
    "        p_waic_models.append(p_waic)\n",
    "        se_models.append(se)\n",
    "    waic_models = np.array(waic_models)\n",
    "    # Declares empty variables lists for the rest of the statistics\n",
    "    d_waic = np.zeros(waic_models.shape)\n",
    "    weights = np.zeros(waic_models.shape)\n",
    "    d_se = np.zeros(waic_models.shape)\n",
    "    # Computes the statistics\n",
    "    for i in range(len(waic_models)):\n",
    "        d_waic[i] = np.abs(waic_models[i] - min(waic_models))\n",
    "    min_index = np.argmin(d_waic)\n",
    "    for i in range(len(waic_models)):\n",
    "        weights[i] = np.exp(-0.5*d_waic[i]) / \\\n",
    "                     (np.sum(np.exp(-0.5*d_waic)))\n",
    "        if i != min_index:\n",
    "            d_se[i] = np.sqrt(len(data[depvar_name])* \\\n",
    "                              np.var(waic_vect_models[i] - \\\n",
    "                                     waic_vect_models[min_index]))\n",
    "        else:\n",
    "            d_se[i] = np.nan\n",
    "    # Prints the summary\n",
    "    summary_stats = [waic_models, p_waic_models, \n",
    "                     d_waic, weights, se_models, d_se]\n",
    "    summary_stats = pd.DataFrame(summary_stats).transpose()\n",
    "    summary_stats.columns = [\"WAIC\", \"pWAIC\", \"dWAIC\", \n",
    "                             \"weight\", \"SE\", \"d_SE\"]\n",
    "    summary_stats.index = [f\"model{o}\" for o in range(1, max_order+1)]\n",
    "    print(summary_stats)\n",
    "    \n",
    "def summarize(\n",
    "    solution, \n",
    "    n_samples,\n",
    "    names={0:'a',1:'b', 2:'sigma'}, \n",
    "    plot=False,\n",
    ") -> tuple:\n",
    "    \"\"\"\n",
    "    Summarizes the regression statistics obtained via a\n",
    "    Laplace approximation.\n",
    "    \"\"\"\n",
    "    # Computes posterior samples\n",
    "    posterior_samples = posterior_sampling_laplace(\n",
    "        solution, n_samples\n",
    "    )\n",
    "    #### Computes summary stats\n",
    "    #    85% confidence interval\n",
    "    post_quantiles = np.quantile(posterior_samples, \n",
    "                                 q = [0.075, 0.925], \n",
    "                                 axis = 0)\n",
    "    #    standard deviation\n",
    "    post_sd = np.std(posterior_samples, axis = 0)\n",
    "    #     mean\n",
    "    post_mean = np.mean(posterior_samples, axis = 0)\n",
    "    # Prints the results\n",
    "    summary_stats = [post_mean, post_sd, post_quantiles[0,:],\n",
    "                     post_quantiles[1,:]]\n",
    "    summary_stats = pd.DataFrame(summary_stats).transpose()\n",
    "    summary_stats.columns = ['mean', 'SD', '7.5%', '92.5%']\n",
    "    summary_stats.rename(index=names, inplace=True)\n",
    "    print(summary_stats, \"\\n\")\n",
    "    # If requested, prints the plot of the posterior data\n",
    "    if plot:\n",
    "        boxes = []\n",
    "        for i in range(len(post_mean)):\n",
    "            boxes.append(posterior_samples[:,i])\n",
    "        plt.boxplot(boxes,vert=0)\n",
    "        plt.yticks(range(len(post_mean)+1)[1:], names)\n",
    "        plt.axvline(x=0, color = 'black', alpha = 0.1)\n",
    "        plt.show()\n",
    "    # Returns the posterior samples\n",
    "    return post_mean, post_sd, posterior_samples\n",
    "\n",
    "def summarize_WAIC_statistics_different_models(\n",
    "    depvar_name: str,\n",
    "    n_sampling: int,\n",
    "    data: pd.DataFrame,\n",
    "    expressions: dict,\n",
    "    solutions: list\n",
    "):\n",
    "    \"\"\"\n",
    "    Computes the summary of the statistic yielded with the WAIC\n",
    "    method: WAIC, pWAIC, dWAIC, weight, SE, d_SE for models using\n",
    "    different covariates.\n",
    "    \"\"\"\n",
    "    # Declares empty variable lists for the WAIC and SE\n",
    "    waic_models = []\n",
    "    waic_vect_models = []\n",
    "    p_waic_models = []\n",
    "    se_models = []\n",
    "    for i, model in enumerate(expressions):\n",
    "        lppd = []\n",
    "        p_waic = []\n",
    "        # Initializing the likelihood\n",
    "        likelihood = 'gaussian'\n",
    "        posterior_samples = posterior_sampling_laplace(\n",
    "            solutions[i], n_sampling\n",
    "        )\n",
    "        for t, target in enumerate(data[depvar_name]):\n",
    "            log_p = []\n",
    "            for l in range(n_sampling):\n",
    "                pred = posterior_samples[l,0] \n",
    "                for i, elem in enumerate(list(\n",
    "                    expressions[model][1].values()\n",
    "                )[1:-1]):\n",
    "                    pred += posterior_samples[l,i]*data[elem][t]\n",
    "                log_p.append(norm.logpdf(\n",
    "                    target, loc=pred, scale=posterior_samples[l,-1]\n",
    "                ))\n",
    "            lppd.append(logsumexp(log_p) - np.log(len(log_p)))\n",
    "            p_waic.append(np.var(log_p))\n",
    "        waic_vect = -2*(np.array(lppd) - np.array(p_waic))\n",
    "        waic = -2*(np.sum(lppd) - np.sum(p_waic))\n",
    "        p_waic = np.sum(p_waic)\n",
    "        se = np.sqrt(len(data[depvar_name])*np.var(waic_vect))\n",
    "        # Records the results\n",
    "        waic_models.append(waic)\n",
    "        waic_vect_models.append(waic_vect)\n",
    "        p_waic_models.append(p_waic)\n",
    "        se_models.append(se)\n",
    "    waic_models = np.array(waic_models)\n",
    "    # Declares empty variables lists for the rest of the statistics\n",
    "    d_waic = np.zeros(waic_models.shape)\n",
    "    weights = np.zeros(waic_models.shape)\n",
    "    d_se = np.zeros(waic_models.shape)\n",
    "    # Computes the statistics\n",
    "    for i in range(len(waic_models)):\n",
    "        d_waic[i] = np.abs(waic_models[i] - min(waic_models))\n",
    "    min_index = np.argmin(d_waic)\n",
    "    for i in range(len(waic_models)):\n",
    "        weights[i] = np.exp(-0.5*d_waic[i]) / (np.sum(np.exp(-0.5*d_waic)))\n",
    "        if i != min_index:\n",
    "            d_se[i] = np.sqrt(len(data[depvar_name])* \\\n",
    "                              np.var(waic_vect_models[i] - \\\n",
    "                                     waic_vect_models[min_index]))\n",
    "        else:\n",
    "            d_se[i] = np.nan\n",
    "    # Prints the summary\n",
    "    summary_stats = [waic_models, p_waic_models, d_waic, \n",
    "                     weights, se_models, d_se]\n",
    "    summary_stats = pd.DataFrame(summary_stats).transpose()\n",
    "    summary_stats.columns = [\"WAIC\", \"pWAIC\", \"dWAIC\", \n",
    "                             \"weight\", \"SE\", \"d_SE\"]\n",
    "    summary_stats.index = list(expressions.keys())\n",
    "    print(summary_stats)"
   ]
  },
  {
   "cell_type": "code",
   "execution_count": 202,
   "metadata": {},
   "outputs": [
    {
     "name": "stdout",
     "output_type": "stream",
     "text": [
      "Regression results for linear model:\n",
      "            mean        SD       7.5%      92.5%\n",
      "a      54.280701  3.200987  49.731948  58.961132\n",
      "b       0.830469  0.045917   0.765644   0.895275\n",
      "sigma  14.614297  1.537766  12.446096  16.921333 \n",
      "\n"
     ]
    },
    {
     "data": {
      "image/png": "[encoded data removed]",
      "text/plain": [
       "<Figure size 432x288 with 1 Axes>"
      ]
     },
     "metadata": {
      "needs_background": "light"
     },
     "output_type": "display_data"
    },
    {
     "name": "stdout",
     "output_type": "stream",
     "text": [
      "\n",
      "\n",
      "Regression results for quadratic model:\n",
      "             mean        SD        7.5%       92.5%\n",
      "a      119.237062  2.506473  115.816387  122.939908\n",
      "b        0.696282  0.216638    0.376736    1.001686\n",
      "b2      -0.003121  0.017928   -0.028135    0.023048\n",
      "sigma   14.556229  1.401540   12.569674   16.569967 \n",
      "\n"
     ]
    },
    {
     "data": {
      "image/png": "[encoded data removed]",
      "text/plain": [
       "<Figure size 432x288 with 1 Axes>"
      ]
     },
     "metadata": {
      "needs_background": "light"
     },
     "output_type": "display_data"
    },
    {
     "name": "stdout",
     "output_type": "stream",
     "text": [
      "\n",
      "\n"
     ]
    }
   ],
   "source": [
    "# Concatenates the informations from our two models\n",
    "expressions = {\n",
    "    \"linear_model\" : [\"final ~ midterm\", {0:\"a\", 1:\"midterm\", 2:\"sigma\"}],\n",
    "    \"quadratic_model\" : [\"final ~ midterm + midterm2\", {0:\"a\", 1:\"midterm\", 2: \"midterm2\", 3: \"sigma\"}]}\n",
    "solutions = [solution_regression, solution_regression_quadratic]\n",
    "posterior_samples = [posterior_sampling_laplace(solutions[i], n_samples)\n",
    "                     for i in range(2)]\n",
    "\n",
    "# Prints the summary of each model\n",
    "print(f\"Regression results for linear model:\")\n",
    "_, _, _ = summarize(solutions[0], n_samples, plot=True); print(\"\\n\")\n",
    "print(f\"Regression results for quadratic model:\")\n",
    "_, _, _ = summarize(solutions[1], n_samples, plot=True,\n",
    "                    names={0:'a',1:'b', 2:'b2', 3:'sigma'}); print(\"\\n\")"
   ]
  },
  {
   "cell_type": "code",
   "execution_count": 203,
   "metadata": {
    "scrolled": true
   },
   "outputs": [
    {
     "name": "stdout",
     "output_type": "stream",
     "text": [
      "                         WAIC         pWAIC         dWAIC  weight  \\\n",
      "linear_model     1.230447e+07  6.136841e+06  0.000000e+00     1.0   \n",
      "quadratic_model  1.281773e+08  6.400263e+07  1.158728e+08     0.0   \n",
      "\n",
      "                           SE          d_SE  \n",
      "linear_model     5.072858e+06           NaN  \n",
      "quadratic_model  4.026535e+07  3.551408e+07  \n"
     ]
    }
   ],
   "source": [
    "# Computes the WAIC for the two models\n",
    "\n",
    "summarize_WAIC_statistics_different_models(\n",
    "    \"final\", n_samples, data, expressions, solutions\n",
    ")"
   ]
  },
  {
   "cell_type": "markdown",
   "metadata": {},
   "source": [
    "Even though the 95% confidence interval for the coefficient of the variable `midterm^2` tends to straddle both positive and negative values, we obtain a better WAIC with the quadratic model. As such, we might want to go with the quadratic model.\n",
    "\n",
    "As we previously noted, the dataset seems to have a very high variance (for a given midterm score, the range of resulting final score seems large). this might put into question using a regression or quadratic model as it risks to hardly fit the data given the involved noise."
   ]
  },
  {
   "cell_type": "markdown",
   "metadata": {},
   "source": [
    "## Exercise 8\n",
    "\n",
    "The file *data_exam.csv* contains the data from a clinical study on neurodegenerative diseases.\n",
    "The variables that we investigate are the following:\n",
    "\n",
    "- DX: diagnosis (normal - NL - or Dementia)\n",
    "\n",
    "- PTGENDER: sex (male or female)\n",
    "\n",
    "- AGE\n",
    "\n",
    "- APOE4: genetic risk factor (non carrier - 0 - or carrier - 1 -)\n",
    "\n",
    "- ADAS13: clinical score (the higher the more pathological/dementia)\n",
    "\n",
    "Questions:\n",
    "\n",
    "- (8.1) What is a reasonable likelihood function to mode the probability of Dementia diagnosis as a function of ADAS13? \n",
    "- (8.2) According to your reply to question 8.1, fit a model for the probability of Dementia as a function of ADAS13;\n",
    "- (8.3) Compute the training accuracy of the the predictions against the data, and verify that the model gives plausible results;\n",
    "- (8.4) Find a 95% confidence interval for the Dementia probability of a patient with ADAS13 equal to 15;\n",
    "- (8.5) Find a 95% confidence interval for the Dementia probability of a patient with ADAS13 equal to 20;\n",
    "- (8.6) Find a 95% confidence interval for the difference between probabilities. Is the difference between the dementia risk of these two patients significant? \n"
   ]
  },
  {
   "cell_type": "code",
   "execution_count": 206,
   "metadata": {},
   "outputs": [],
   "source": [
    "data = pd.read_csv('data_exam.csv').dropna().drop('Unnamed: 0', axis =1)\n",
    "data = data.replace({'DX': {'NL': 0, 'Dementia': 1}, 'PTGENDER': {'Male': 0, 'Female': 1}})"
   ]
  },
  {
   "cell_type": "code",
   "execution_count": 207,
   "metadata": {},
   "outputs": [
    {
     "data": {
      "text/html": [
       "<div>\n",
       "<style scoped>\n",
       "    .dataframe tbody tr th:only-of-type {\n",
       "        vertical-align: middle;\n",
       "    }\n",
       "\n",
       "    .dataframe tbody tr th {\n",
       "        vertical-align: top;\n",
       "    }\n",
       "\n",
       "    .dataframe thead th {\n",
       "        text-align: right;\n",
       "    }\n",
       "</style>\n",
       "<table border=\"1\" class=\"dataframe\">\n",
       "  <thead>\n",
       "    <tr style=\"text-align: right;\">\n",
       "      <th></th>\n",
       "      <th>PTGENDER</th>\n",
       "      <th>ADAS13</th>\n",
       "      <th>APOE4</th>\n",
       "      <th>AGE</th>\n",
       "      <th>DX</th>\n",
       "    </tr>\n",
       "  </thead>\n",
       "  <tbody>\n",
       "    <tr>\n",
       "      <th>0</th>\n",
       "      <td>0</td>\n",
       "      <td>18.67</td>\n",
       "      <td>0.0</td>\n",
       "      <td>74.3</td>\n",
       "      <td>0</td>\n",
       "    </tr>\n",
       "    <tr>\n",
       "      <th>1</th>\n",
       "      <td>0</td>\n",
       "      <td>31.00</td>\n",
       "      <td>1.0</td>\n",
       "      <td>81.3</td>\n",
       "      <td>1</td>\n",
       "    </tr>\n",
       "    <tr>\n",
       "      <th>2</th>\n",
       "      <td>0</td>\n",
       "      <td>14.67</td>\n",
       "      <td>0.0</td>\n",
       "      <td>73.7</td>\n",
       "      <td>0</td>\n",
       "    </tr>\n",
       "    <tr>\n",
       "      <th>3</th>\n",
       "      <td>0</td>\n",
       "      <td>40.33</td>\n",
       "      <td>1.0</td>\n",
       "      <td>75.4</td>\n",
       "      <td>1</td>\n",
       "    </tr>\n",
       "    <tr>\n",
       "      <th>4</th>\n",
       "      <td>1</td>\n",
       "      <td>7.00</td>\n",
       "      <td>0.0</td>\n",
       "      <td>84.5</td>\n",
       "      <td>0</td>\n",
       "    </tr>\n",
       "    <tr>\n",
       "      <th>...</th>\n",
       "      <td>...</td>\n",
       "      <td>...</td>\n",
       "      <td>...</td>\n",
       "      <td>...</td>\n",
       "      <td>...</td>\n",
       "    </tr>\n",
       "    <tr>\n",
       "      <th>852</th>\n",
       "      <td>1</td>\n",
       "      <td>6.00</td>\n",
       "      <td>1.0</td>\n",
       "      <td>67.0</td>\n",
       "      <td>0</td>\n",
       "    </tr>\n",
       "    <tr>\n",
       "      <th>853</th>\n",
       "      <td>1</td>\n",
       "      <td>5.00</td>\n",
       "      <td>0.0</td>\n",
       "      <td>74.3</td>\n",
       "      <td>0</td>\n",
       "    </tr>\n",
       "    <tr>\n",
       "      <th>854</th>\n",
       "      <td>0</td>\n",
       "      <td>11.00</td>\n",
       "      <td>1.0</td>\n",
       "      <td>68.5</td>\n",
       "      <td>0</td>\n",
       "    </tr>\n",
       "    <tr>\n",
       "      <th>855</th>\n",
       "      <td>1</td>\n",
       "      <td>18.00</td>\n",
       "      <td>1.0</td>\n",
       "      <td>75.5</td>\n",
       "      <td>0</td>\n",
       "    </tr>\n",
       "    <tr>\n",
       "      <th>856</th>\n",
       "      <td>0</td>\n",
       "      <td>14.00</td>\n",
       "      <td>0.0</td>\n",
       "      <td>69.3</td>\n",
       "      <td>0</td>\n",
       "    </tr>\n",
       "  </tbody>\n",
       "</table>\n",
       "<p>846 rows × 5 columns</p>\n",
       "</div>"
      ],
      "text/plain": [
       "     PTGENDER  ADAS13  APOE4   AGE  DX\n",
       "0           0   18.67    0.0  74.3   0\n",
       "1           0   31.00    1.0  81.3   1\n",
       "2           0   14.67    0.0  73.7   0\n",
       "3           0   40.33    1.0  75.4   1\n",
       "4           1    7.00    0.0  84.5   0\n",
       "..        ...     ...    ...   ...  ..\n",
       "852         1    6.00    1.0  67.0   0\n",
       "853         1    5.00    0.0  74.3   0\n",
       "854         0   11.00    1.0  68.5   0\n",
       "855         1   18.00    1.0  75.5   0\n",
       "856         0   14.00    0.0  69.3   0\n",
       "\n",
       "[846 rows x 5 columns]"
      ]
     },
     "execution_count": 207,
     "metadata": {},
     "output_type": "execute_result"
    }
   ],
   "source": [
    "data"
   ]
  },
  {
   "cell_type": "code",
   "execution_count": 209,
   "metadata": {},
   "outputs": [
    {
     "data": {
      "text/html": [
       "<div>\n",
       "<style scoped>\n",
       "    .dataframe tbody tr th:only-of-type {\n",
       "        vertical-align: middle;\n",
       "    }\n",
       "\n",
       "    .dataframe tbody tr th {\n",
       "        vertical-align: top;\n",
       "    }\n",
       "\n",
       "    .dataframe thead th {\n",
       "        text-align: right;\n",
       "    }\n",
       "</style>\n",
       "<table border=\"1\" class=\"dataframe\">\n",
       "  <thead>\n",
       "    <tr style=\"text-align: right;\">\n",
       "      <th></th>\n",
       "      <th>PTGENDER</th>\n",
       "      <th>ADAS13</th>\n",
       "      <th>APOE4</th>\n",
       "      <th>AGE</th>\n",
       "      <th>DX</th>\n",
       "    </tr>\n",
       "  </thead>\n",
       "  <tbody>\n",
       "    <tr>\n",
       "      <th>count</th>\n",
       "      <td>846.000000</td>\n",
       "      <td>846.000000</td>\n",
       "      <td>846.000000</td>\n",
       "      <td>846.000000</td>\n",
       "      <td>846.000000</td>\n",
       "    </tr>\n",
       "    <tr>\n",
       "      <th>mean</th>\n",
       "      <td>0.489362</td>\n",
       "      <td>17.222612</td>\n",
       "      <td>0.520095</td>\n",
       "      <td>74.508629</td>\n",
       "      <td>0.385343</td>\n",
       "    </tr>\n",
       "    <tr>\n",
       "      <th>std</th>\n",
       "      <td>0.500183</td>\n",
       "      <td>11.755629</td>\n",
       "      <td>0.655571</td>\n",
       "      <td>6.622993</td>\n",
       "      <td>0.486964</td>\n",
       "    </tr>\n",
       "    <tr>\n",
       "      <th>min</th>\n",
       "      <td>0.000000</td>\n",
       "      <td>0.000000</td>\n",
       "      <td>0.000000</td>\n",
       "      <td>55.100000</td>\n",
       "      <td>0.000000</td>\n",
       "    </tr>\n",
       "    <tr>\n",
       "      <th>25%</th>\n",
       "      <td>0.000000</td>\n",
       "      <td>8.000000</td>\n",
       "      <td>0.000000</td>\n",
       "      <td>70.525000</td>\n",
       "      <td>0.000000</td>\n",
       "    </tr>\n",
       "    <tr>\n",
       "      <th>50%</th>\n",
       "      <td>0.000000</td>\n",
       "      <td>13.000000</td>\n",
       "      <td>0.000000</td>\n",
       "      <td>74.300000</td>\n",
       "      <td>0.000000</td>\n",
       "    </tr>\n",
       "    <tr>\n",
       "      <th>75%</th>\n",
       "      <td>1.000000</td>\n",
       "      <td>26.330000</td>\n",
       "      <td>1.000000</td>\n",
       "      <td>78.900000</td>\n",
       "      <td>1.000000</td>\n",
       "    </tr>\n",
       "    <tr>\n",
       "      <th>max</th>\n",
       "      <td>1.000000</td>\n",
       "      <td>54.670000</td>\n",
       "      <td>2.000000</td>\n",
       "      <td>90.900000</td>\n",
       "      <td>1.000000</td>\n",
       "    </tr>\n",
       "  </tbody>\n",
       "</table>\n",
       "</div>"
      ],
      "text/plain": [
       "         PTGENDER      ADAS13       APOE4         AGE          DX\n",
       "count  846.000000  846.000000  846.000000  846.000000  846.000000\n",
       "mean     0.489362   17.222612    0.520095   74.508629    0.385343\n",
       "std      0.500183   11.755629    0.655571    6.622993    0.486964\n",
       "min      0.000000    0.000000    0.000000   55.100000    0.000000\n",
       "25%      0.000000    8.000000    0.000000   70.525000    0.000000\n",
       "50%      0.000000   13.000000    0.000000   74.300000    0.000000\n",
       "75%      1.000000   26.330000    1.000000   78.900000    1.000000\n",
       "max      1.000000   54.670000    2.000000   90.900000    1.000000"
      ]
     },
     "execution_count": 209,
     "metadata": {},
     "output_type": "execute_result"
    }
   ],
   "source": [
    "data.describe()"
   ]
  },
  {
   "cell_type": "markdown",
   "metadata": {},
   "source": [
    "### (8.1) What is a reasonable likelihood function to model the probability of Dementia diagnosis as a function of ADAS13? \n",
    "\n",
    "\n",
    "We are in a classification modeling setup where we want to estimate the probability of a patient having dementia. Having the disease or not corresponds to classes (e.g. 0 or 1). In such a setup, where we want to estimate $y$ the probabilty of being affected, the Binomial model is the most fitting one here s.t.:\n",
    "\n",
    "\\begin{align}\n",
    "\\mathbb{P}(y)&\\sim\\mathcal{B}(n,p),\\,\\text{a binomial likelihood model}\\\\\n",
    "\\text{with}&,\\\\\n",
    "p&,\\,\\text{the probability of a patient being diagnosed with dementia}\\\\\n",
    "y&,\\,\\text{the number of positive cases}\\\\\n",
    "n&,\\,\\text{the number of trials/individuals}\n",
    "\\end{align}\n",
    "\n",
    "In the following case, we will use the Binomial distribution for our likelihood model. A 1-predictor Binomial model is parametrized by the probability $p$ itself parametrized as a linear combination of the predictor $x$ s.t.:\n",
    "\n",
    "\\begin{align}\n",
    "y_i &\\sim \\mathcal{B}(n, p_i)\\\\\n",
    "f(p_i) &= a + b x_i\n",
    "\\end{align}\n",
    "\n",
    "As noted in class, there are some issues to account for: \n",
    "\n",
    "- Since the probability $p_i$ must be bounded in the interval $[0,1]$, parameterizing it directly with a linear model will likely result in breaking the basic rules of probabilities.\n",
    "- We have no guarantee at the moment that the linear $f(p_i)$ combination is bounded in the interval $[0,1]$.\n",
    "- As such, the probability $p_i$ must be adapted to be contained in the interval $[0,1]$ via a link function: \n",
    "    - The logit which, when included as below, can be rewritten into a new, convenient estimation of $p_i$:\n",
    "\n",
    "\\begin{align}\n",
    "logit(p_i) &= \\log(\\frac{p_i}{1-p_i})\\\\\n",
    "\\log(\\frac{p_i}{1-p_i}) &= a + b x_i\\\\\n",
    "p_i &= \\frac{\\exp(a + b x_i)}{1 + \\exp(a + b x_i)}\n",
    "\\end{align}\n",
    "\n",
    "In our case, We want to fit the dependent variable `DX` with the covariate `ADAS13`. As such, we are interested in a logistic regression model for predicting dementia given one predictors $x$ such as above:\n",
    "\n",
    "\\begin{align}\n",
    "y_i &\\sim \\mathcal{B}(n, p_i)\\\\\n",
    "p_i &= \\frac{\\exp(a + b x_i)}{1 + \\exp(a + b x_i)}\n",
    "\\end{align}\n",
    "\n",
    "For exploration and comparison purposes, we will fit `DX` with `ADAS13` with the prior parameters $a$ and $b$ of the regression modelled with Gaussian prior and $y$ (the `DX` variable) by a binomial.\n",
    "\n",
    "We will rely on PyStan."
   ]
  },
  {
   "cell_type": "markdown",
   "metadata": {},
   "source": [
    "### (8.2) According to your reply to question 8.1, fit a model for the probability of Dementia as a function of ADAS13\n",
    "\n",
    "Reusing the PyStan implementation from assignment 3. We have:"
   ]
  },
  {
   "cell_type": "code",
   "execution_count": 212,
   "metadata": {},
   "outputs": [],
   "source": [
    "def run_pystan_modeling(\n",
    "    data: pd.DataFrame, \n",
    "    model: str, \n",
    "    model_data: dict, \n",
    "    params_to_plot: list,\n",
    "    sampling_size = 1000\n",
    ") -> tuple:\n",
    "    \"\"\"\n",
    "    Compiles a pystan model and runs it on a given dataset and parameters.\n",
    "    Outputs the boxplot distribution of the generated parameters, and returns\n",
    "    the generated posterior and WAIC of the model (for comparison).\n",
    "    \"\"\"\n",
    "    # Compiles and fit the model\n",
    "    stan_model = pystan.StanModel(model_code = model)\n",
    "    posterior = stan_model.sampling(data=model_data, seed=int(1), \n",
    "                                    iter=4000, chains=4)\n",
    "    # Prints the diagnosis of the fit\n",
    "    print(f\"Post-fitting diagnosis:\\n{pystan.check_hmc_diagnostics(posterior)}\")\n",
    "    # Computes the WAIC of the model\n",
    "    p_i = posterior.extract()['p_i']\n",
    "    lppd = []; pwaic = []\n",
    "    for k in range(len(data)):\n",
    "        id_log_lik = [binom.logpmf(data['DX'].values[k], 1, p_i[i,k]) \n",
    "                      for i in range(sampling_size)]\n",
    "        lppd.append(logsumexp(id_log_lik) - np.log(len(id_log_lik)))\n",
    "        pwaic.append(np.var(id_log_lik))\n",
    "    waic = -2 * (np.sum(lppd) - np.sum(pwaic))\n",
    "    # Plots the distribution of the parameters\n",
    "    estimators = [posterior.extract()[param] for param in params_to_plot]\n",
    "    yticks_values = [i+1 for i in range(len(params_to_plot))]\n",
    "    plt.boxplot(estimators, vert=0)\n",
    "    plt.yticks(yticks_values, params_to_plot)\n",
    "    plt.axvline(x=0, color=\"black\", alpha=0.1)\n",
    "    plt.title(f\"Posterior distribution of parameters: {params_to_plot}\")\n",
    "    plt.show()\n",
    "    # Returns the posterior model and the WAIC\n",
    "    return posterior, waic"
   ]
  },
  {
   "cell_type": "code",
   "execution_count": 213,
   "metadata": {},
   "outputs": [],
   "source": [
    "# Declares the pystan model for both:\n",
    "#    - DX ~ ADAS13\n",
    "model = \"\"\"\n",
    "data {\n",
    "  int<lower=1> N;\n",
    "  int y[N];\n",
    "  real x[N];\n",
    "  real param1_a;\n",
    "  real<lower=0> param2_a;\n",
    "  real param1_b;\n",
    "  real<lower=0> param2_b;\n",
    "}\n",
    "parameters {\n",
    "  real a;\n",
    "  real b;\n",
    "}\n",
    "transformed parameters {\n",
    "  vector[N] p_i;\n",
    "  for (i in 1:N) {\n",
    "    p_i[i] = exp(a + b * x[i])/(1 + exp(a + b * x[i])); \n",
    "    }\n",
    "}\n",
    "model {\n",
    "  a ~ normal(param1_a, param2_a);\n",
    "  b ~ normal(param1_b, param2_b);\n",
    "  y ~ binomial(1, p_i);\n",
    "}\n",
    "\"\"\"\n",
    "\n",
    "\n",
    "# Declares the data to send to the pystan model for\n",
    "# both covariates DX and ADAS13\n",
    "stan_data = {\"x\":        data[\"ADAS13\"],\n",
    "             \"y\":        data['DX'],\n",
    "             \"param1_a\": 0,  \"param2_a\": 10,\n",
    "             \"param1_b\": 15, \"param2_b\": 10,\n",
    "             \"N\":        data.shape[0]\n",
    "            }"
   ]
  },
  {
   "cell_type": "code",
   "execution_count": 214,
   "metadata": {},
   "outputs": [
    {
     "name": "stderr",
     "output_type": "stream",
     "text": [
      "INFO:pystan:COMPILING THE C++ CODE FOR MODEL anon_model_4d8d383a2106438802a1aa6af68d1a0d NOW.\n",
      "WARNING:pystan:6 of 8000 iterations ended with a divergence (0.075 %).\n",
      "WARNING:pystan:Try running with adapt_delta larger than 0.8 to remove the divergences.\n",
      "WARNING:pystan:6 of 8000 iterations ended with a divergence (0.075 %).\n",
      "WARNING:pystan:Try running with adapt_delta larger than 0.8 to remove the divergences.\n"
     ]
    },
    {
     "name": "stdout",
     "output_type": "stream",
     "text": [
      "Post-fitting diagnosis:\n",
      "{'n_eff': True, 'Rhat': True, 'divergence': False, 'treedepth': True, 'energy': True}\n"
     ]
    },
    {
     "data": {
      "image/png": "[encoded data removed]",
      "text/plain": [
       "<Figure size 432x288 with 1 Axes>"
      ]
     },
     "metadata": {
      "needs_background": "light"
     },
     "output_type": "display_data"
    }
   ],
   "source": [
    "posterior, waic = run_pystan_modeling(\n",
    "    data, model, stan_data, [\"a\", \"b\"]\n",
    ")"
   ]
  },
  {
   "cell_type": "code",
   "execution_count": 215,
   "metadata": {},
   "outputs": [
    {
     "name": "stderr",
     "output_type": "stream",
     "text": [
      "WARNING:pystan:Truncated summary with the 'fit.__repr__' method. For the full summary use 'print(fit)'\n"
     ]
    },
    {
     "data": {
      "text/plain": [
       "\n",
       "Warning: Shown data is truncated to 100 parameters\n",
       "For the full summary use 'print(fit)'\n",
       "\n",
       "Inference for Stan model: anon_model_4d8d383a2106438802a1aa6af68d1a0d.\n",
       "4 chains, each with iter=4000; warmup=2000; thin=1; \n",
       "post-warmup draws per chain=2000, total post-warmup draws=8000.\n",
       "\n",
       "          mean se_mean     sd   2.5%    25%    50%    75%  97.5%  n_eff   Rhat\n",
       "a        -12.6    0.03   1.29 -15.36 -13.43 -12.52 -11.71 -10.29   1420    1.0\n",
       "b         0.69  1.9e-3   0.07   0.56   0.64   0.68   0.73   0.84   1413    1.0\n",
       "p_i[1]    0.55  6.5e-4   0.05   0.45   0.51   0.55   0.59   0.66   6916    1.0\n",
       "p_i[2]     1.0  6.8e-6 2.7e-4    1.0    1.0    1.0    1.0    1.0   1555    1.0\n",
       "p_i[3]    0.08  4.5e-4   0.02   0.04   0.06   0.07   0.09   0.12   2199    1.0\n",
       "p_i[4]     1.0  5.1e-8 1.9e-6    1.0    1.0    1.0    1.0    1.0   1370    1.0\n",
       "p_i[5]  5.5e-4  1.1e-5 4.5e-4 7.4e-5 2.5e-4 4.3e-4 7.1e-4 1.7e-3   1506    1.0\n",
       "p_i[6]    0.98  2.1e-4 9.1e-3   0.96   0.98   0.98   0.99   0.99   1853    1.0\n",
       "p_i[7]  1.3e-3  2.3e-5 9.1e-4 2.3e-4 6.5e-4 1.1e-3 1.7e-3 3.6e-3   1541    1.0\n",
       "p_i[8]  2.0e-3  3.3e-5 1.3e-3 4.0e-4 1.1e-3 1.7e-3 2.5e-3 5.3e-3   1561    1.0\n",
       "p_i[9]    0.06  4.1e-4   0.02   0.03   0.05   0.06   0.07    0.1   2081    1.0\n",
       "p_i[10] 8.2e-5  2.3e-6 8.8e-5 6.1e-6 2.7e-5 5.6e-5 1.1e-4 3.2e-4   1440    1.0\n",
       "p_i[11] 3.0e-3  4.7e-5 1.9e-3 6.9e-4 1.7e-3 2.7e-3 3.9e-3 7.7e-3   1583    1.0\n",
       "p_i[12]   0.04  3.2e-4   0.01   0.02   0.03   0.04   0.05   0.07   1912    1.0\n",
       "p_i[13] 1.0e-3  2.0e-5 7.6e-4 1.7e-4 5.1e-4 8.5e-4 1.3e-3 3.0e-3   1532    1.0\n",
       "p_i[14]    1.0  1.2e-6 4.5e-5    1.0    1.0    1.0    1.0    1.0   1473    1.0\n",
       "p_i[15] 1.9e-5  6.7e-7 2.5e-5 8.6e-7 5.0e-6 1.1e-5 2.4e-5 8.7e-5   1394    1.0\n",
       "p_i[16] 2.0e-3  3.3e-5 1.3e-3 4.0e-4 1.1e-3 1.7e-3 2.5e-3 5.3e-3   1561    1.0\n",
       "p_i[17]   0.02  1.8e-4 7.3e-3 6.1e-3   0.01   0.02   0.02   0.03   1736    1.0\n",
       "p_i[18] 3.8e-3  5.5e-5 2.2e-3 9.1e-4 2.2e-3 3.3e-3 4.8e-3 9.3e-3   1596    1.0\n",
       "p_i[19] 7.2e-3  9.2e-5 3.7e-3 2.1e-3 4.5e-3 6.6e-3 9.1e-3   0.02   1642    1.0\n",
       "p_i[20] 1.9e-4  4.7e-6 1.8e-4 1.8e-5 7.3e-5 1.4e-4 2.5e-4 6.7e-4   1468    1.0\n",
       "p_i[21]    1.0  2.8e-5 1.1e-3    1.0    1.0    1.0    1.0    1.0   1637    1.0\n",
       "p_i[22] 1.3e-3  2.3e-5 9.1e-4 2.3e-4 6.5e-4 1.1e-3 1.7e-3 3.6e-3   1541    1.0\n",
       "p_i[23] 4.4e-5  1.4e-6 5.1e-5 2.6e-6 1.3e-5 2.8e-5 5.6e-5 1.8e-4   1420    1.0\n",
       "p_i[24] 3.0e-3  4.7e-5 1.9e-3 6.9e-4 1.7e-3 2.7e-3 3.9e-3 7.7e-3   1583    1.0\n",
       "p_i[25] 3.8e-3  5.5e-5 2.2e-3 9.1e-4 2.2e-3 3.3e-3 4.8e-3 9.3e-3   1596    1.0\n",
       "p_i[26] 1.5e-4  4.0e-6 1.5e-4 1.4e-5 5.7e-5 1.1e-4 2.0e-4 5.6e-4   1461    1.0\n",
       "p_i[27] 1.9e-4  4.7e-6 1.8e-4 1.8e-5 7.3e-5 1.4e-4 2.5e-4 6.7e-4   1468    1.0\n",
       "p_i[28] 3.0e-3  4.7e-5 1.9e-3 6.9e-4 1.7e-3 2.7e-3 3.9e-3 7.7e-3   1583    1.0\n",
       "p_i[29] 8.2e-5  2.3e-6 8.8e-5 6.1e-6 2.7e-5 5.6e-5 1.1e-4 3.2e-4   1440    1.0\n",
       "p_i[30]   0.11  5.4e-4   0.03   0.06   0.09   0.11   0.13   0.17   2537    1.0\n",
       "p_i[31]   0.08  4.5e-4   0.02   0.04   0.06   0.07   0.09   0.12   2199    1.0\n",
       "p_i[32] 2.4e-3  3.9e-5 1.6e-3 5.2e-4 1.3e-3 2.1e-3 3.1e-3 6.4e-3   1572    1.0\n",
       "p_i[33] 7.2e-3  9.2e-5 3.7e-3 2.1e-3 4.5e-3 6.6e-3 9.1e-3   0.02   1642    1.0\n",
       "p_i[34]   0.99  1.8e-4 7.6e-3   0.97   0.98   0.99   0.99    1.0   1824    1.0\n",
       "p_i[35] 1.5e-4  4.0e-6 1.5e-4 1.4e-5 5.7e-5 1.1e-4 2.0e-4 5.6e-4   1461    1.0\n",
       "p_i[36]    1.0  3.3e-5 1.3e-3   0.99    1.0    1.0    1.0    1.0   1649    1.0\n",
       "p_i[37]   0.96  3.8e-4   0.02   0.92   0.95   0.96   0.97   0.98   2015    1.0\n",
       "p_i[38] 1.9e-5  6.7e-7 2.5e-5 8.6e-7 5.0e-6 1.1e-5 2.4e-5 8.7e-5   1394    1.0\n",
       "p_i[39]    1.0  3.4e-7 1.3e-5    1.0    1.0    1.0    1.0    1.0   1426    1.0\n",
       "p_i[40] 6.7e-5  1.9e-6 7.4e-5 4.6e-6 2.2e-5 4.5e-5 8.5e-5 2.6e-4   1433    1.0\n",
       "p_i[41] 1.9e-4  4.7e-6 1.8e-4 1.8e-5 7.3e-5 1.4e-4 2.5e-4 6.7e-4   1468    1.0\n",
       "p_i[42]   0.79  7.9e-4   0.04    0.7   0.76   0.79   0.82   0.87   3200    1.0\n",
       "p_i[43]    1.0  3.4e-7 1.3e-5    1.0    1.0    1.0    1.0    1.0   1426    1.0\n",
       "p_i[44]    1.0  1.2e-7 4.5e-6    1.0    1.0    1.0    1.0    1.0   1393    1.0\n",
       "p_i[45] 1.0e-3  2.0e-5 7.6e-4 1.7e-4 5.1e-4 8.5e-4 1.3e-3 3.0e-3   1532    1.0\n",
       "p_i[46] 8.2e-5  2.3e-6 8.8e-5 6.1e-6 2.7e-5 5.6e-5 1.1e-4 3.2e-4   1440    1.0\n",
       "p_i[47] 3.6e-5  1.1e-6 4.3e-5 2.0e-6 1.0e-5 2.3e-5 4.5e-5 1.5e-4   1413    1.0\n",
       "p_i[48]   0.01  1.5e-4 6.2e-3 4.7e-3 9.3e-3   0.01   0.02   0.03   1708    1.0\n",
       "p_i[49]    0.9  6.1e-4   0.03   0.84   0.88    0.9   0.92   0.95   2343    1.0\n",
       "p_i[50]    1.0  3.3e-5 1.3e-3   0.99    1.0    1.0    1.0    1.0   1649    1.0\n",
       "p_i[51] 2.9e-4  6.7e-6 2.6e-4 3.2e-5 1.2e-4 2.2e-4 3.8e-4 9.8e-4   1483    1.0\n",
       "p_i[52]   0.02  1.8e-4 7.3e-3 6.1e-3   0.01   0.02   0.02   0.03   1736    1.0\n",
       "p_i[53]   0.03  2.8e-4   0.01   0.01   0.02   0.03   0.04   0.06   1853    1.0\n",
       "p_i[54] 1.5e-4  4.0e-6 1.5e-4 1.4e-5 5.7e-5 1.1e-4 2.0e-4 5.6e-4   1461    1.0\n",
       "p_i[55] 2.0e-3  3.3e-5 1.3e-3 4.0e-4 1.1e-3 1.7e-3 2.5e-3 5.3e-3   1561    1.0\n",
       "p_i[56] 5.8e-3  7.8e-5 3.1e-3 1.6e-3 3.6e-3 5.2e-3 7.4e-3   0.01   1625    1.0\n",
       "p_i[57]    1.0  4.8e-6 1.9e-4    1.0    1.0    1.0    1.0    1.0   1537    1.0\n",
       "p_i[58] 5.5e-4  1.1e-5 4.5e-4 7.4e-5 2.5e-4 4.3e-4 7.1e-4 1.7e-3   1506    1.0\n",
       "p_i[59]   0.93  4.9e-4   0.02   0.88   0.92   0.94   0.95   0.97   2148    1.0\n",
       "p_i[60]    1.0 4.9e-10 1.8e-8    1.0    1.0    1.0    1.0    1.0   1316    1.0\n",
       "p_i[61]    1.0  1.6e-5 6.6e-4    1.0    1.0    1.0    1.0    1.0   1604    1.0\n",
       "p_i[62] 1.6e-3  2.8e-5 1.1e-3 3.0e-4 8.3e-4 1.3e-3 2.1e-3 4.4e-3   1551    1.0\n",
       "p_i[63] 1.9e-4  4.7e-6 1.8e-4 1.8e-5 7.3e-5 1.4e-4 2.5e-4 6.7e-4   1468    1.0\n",
       "p_i[64]   0.85  7.2e-4   0.04   0.77   0.83   0.86   0.88   0.92   2658    1.0\n",
       "p_i[65]   0.49  6.2e-4   0.05   0.39   0.46   0.49   0.53    0.6   7427    1.0\n",
       "p_i[66]   0.71  7.8e-4   0.05   0.61   0.67   0.71   0.74    0.8   4203    1.0\n",
       "p_i[67]   0.02  1.8e-4 7.3e-3 6.1e-3   0.01   0.02   0.02   0.03   1736    1.0\n",
       "p_i[68]   0.02  2.1e-4 8.6e-3 8.0e-3   0.02   0.02   0.03   0.04   1771    1.0\n",
       "p_i[69]   0.08  4.5e-4   0.02   0.04   0.06   0.07   0.09   0.12   2199    1.0\n",
       "p_i[70] 4.4e-4  9.6e-6 3.7e-4 5.7e-5 1.9e-4 3.4e-4 5.8e-4 1.4e-3   1498    1.0\n",
       "p_i[71]   0.95  4.3e-4   0.02    0.9   0.94   0.95   0.96   0.98   2074    1.0\n",
       "p_i[72] 4.4e-4  9.6e-6 3.7e-4 5.7e-5 1.9e-4 3.4e-4 5.8e-4 1.4e-3   1498    1.0\n",
       "p_i[73] 3.0e-3  4.7e-5 1.9e-3 6.9e-4 1.7e-3 2.7e-3 3.9e-3 7.7e-3   1583    1.0\n",
       "p_i[74]    1.0  2.4e-6 9.2e-5    1.0    1.0    1.0    1.0    1.0   1504    1.0\n",
       "p_i[75] 8.4e-4  1.6e-5 6.4e-4 1.3e-4 4.0e-4 6.8e-4 1.1e-3 2.5e-3   1523    1.0\n",
       "p_i[76] 5.8e-3  7.8e-5 3.1e-3 1.6e-3 3.6e-3 5.2e-3 7.4e-3   0.01   1625    1.0\n",
       "p_i[77]   0.88  6.7e-4   0.03   0.81   0.86   0.88    0.9   0.94   2483    1.0\n",
       "p_i[78]   0.88  6.7e-4   0.03   0.81   0.86   0.88    0.9   0.94   2483    1.0\n",
       "p_i[79]   0.38  5.9e-4   0.05   0.29   0.35   0.38   0.42   0.48   7099    1.0\n",
       "p_i[80]    1.0  8.2e-7 3.1e-5    1.0    1.0    1.0    1.0    1.0   1459    1.0\n",
       "p_i[81] 4.7e-3  6.6e-5 2.6e-3 1.2e-3 2.8e-3 4.1e-3 6.0e-3   0.01   1610    1.0\n",
       "p_i[82]    1.0  4.9e-7 1.8e-5    1.0    1.0    1.0    1.0    1.0   1439    1.0\n",
       "p_i[83] 1.3e-5  4.7e-7 1.7e-5 4.9e-7 3.1e-6 7.2e-6 1.6e-5 5.9e-5   1382    1.0\n",
       "p_i[84] 7.2e-3  9.2e-5 3.7e-3 2.1e-3 4.5e-3 6.6e-3 9.1e-3   0.02   1642    1.0\n",
       "p_i[85]   0.01  1.3e-4 5.3e-3 3.6e-3 7.3e-3   0.01   0.01   0.02   1683    1.0\n",
       "p_i[86]   0.05  3.6e-4   0.02   0.02   0.04   0.05   0.06   0.09   1987    1.0\n",
       "p_i[87] 4.4e-4  9.6e-6 3.7e-4 5.7e-5 1.9e-4 3.4e-4 5.8e-4 1.4e-3   1498    1.0\n",
       "p_i[88] 4.7e-3  6.6e-5 2.6e-3 1.2e-3 2.8e-3 4.1e-3 6.0e-3   0.01   1610    1.0\n",
       "p_i[89] 1.0e-4  2.8e-6 1.1e-4 8.0e-6 3.5e-5 7.0e-5 1.3e-4 3.8e-4   1447    1.0\n",
       "p_i[90] 8.9e-3  1.1e-4 4.4e-3 2.7e-3 5.7e-3 8.2e-3   0.01   0.02   1661    1.0\n",
       "p_i[91]   0.95  4.3e-4   0.02    0.9   0.94   0.95   0.96   0.98   2074    1.0\n",
       "p_i[92] 1.3e-4  3.3e-6 1.3e-4 1.1e-5 4.5e-5 8.8e-5 1.6e-4 4.6e-4   1454    1.0\n",
       "p_i[93] 1.0e-3  2.0e-5 7.6e-4 1.7e-4 5.1e-4 8.5e-4 1.3e-3 3.0e-3   1532    1.0\n",
       "p_i[94]    1.0  1.4e-6 5.4e-5    1.0    1.0    1.0    1.0    1.0   1480    1.0\n",
       "p_i[95] 8.2e-5  2.3e-6 8.8e-5 6.1e-6 2.7e-5 5.6e-5 1.1e-4 3.2e-4   1440    1.0\n",
       "p_i[96] 1.0e-4  2.8e-6 1.1e-4 8.0e-6 3.5e-5 7.0e-5 1.3e-4 3.8e-4   1447    1.0\n",
       "p_i[97]   0.49  6.2e-4   0.05   0.39   0.46   0.49   0.53    0.6   7427    1.0\n",
       "lp__    -80.79    0.03   1.06 -83.66 -81.21 -80.45 -80.04 -79.77   1753   1.01\n",
       "\n",
       "Samples were drawn using NUTS at Fri Jan  7 16:04:23 2022.\n",
       "For each parameter, n_eff is a crude measure of effective sample size,\n",
       "and Rhat is the potential scale reduction factor on split chains (at \n",
       "convergence, Rhat=1)."
      ]
     },
     "execution_count": 215,
     "metadata": {},
     "output_type": "execute_result"
    }
   ],
   "source": [
    "posterior"
   ]
  },
  {
   "cell_type": "markdown",
   "metadata": {},
   "source": [
    "### (8.3) Compute the training accuracy of the the predictions against the data, and verify that the model gives plausible results"
   ]
  },
  {
   "cell_type": "code",
   "execution_count": null,
   "metadata": {},
   "outputs": [],
   "source": []
  },
  {
   "cell_type": "markdown",
   "metadata": {},
   "source": [
    "### (8.4) Find a 95% confidence interval for the Dementia probability of a patient with ADAS13 equal to 15"
   ]
  },
  {
   "cell_type": "code",
   "execution_count": null,
   "metadata": {},
   "outputs": [],
   "source": []
  },
  {
   "cell_type": "markdown",
   "metadata": {},
   "source": [
    "### (8.5) Find a 95% confidence interval for the Dementia probability of a patient with ADAS13 equal to 20"
   ]
  },
  {
   "cell_type": "code",
   "execution_count": null,
   "metadata": {},
   "outputs": [],
   "source": []
  },
  {
   "cell_type": "markdown",
   "metadata": {},
   "source": [
    "\n",
    "### (8.6) Find a 95% confidence interval for the difference between probabilities. Is the difference between the dementia risk of these two patients significant?"
   ]
  },
  {
   "cell_type": "code",
   "execution_count": null,
   "metadata": {},
   "outputs": [],
   "source": []
  }
 ],
 "metadata": {
  "kernelspec": {
   "display_name": "Python [conda env:pystan_env]",
   "language": "python",
   "name": "conda-env-pystan_env-py"
  },
  "language_info": {
   "codemirror_mode": {
    "name": "ipython",
    "version": 3
   },
   "file_extension": ".py",
   "mimetype": "text/x-python",
   "name": "python",
   "nbconvert_exporter": "python",
   "pygments_lexer": "ipython3",
   "version": "3.6.13"
  }
 },
 "nbformat": 4,
 "nbformat_minor": 2
}
