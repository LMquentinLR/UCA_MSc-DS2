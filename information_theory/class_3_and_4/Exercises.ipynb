{
 "cells": [
  {
   "cell_type": "markdown",
   "id": "a78d7d9b",
   "metadata": {},
   "source": [
    "# Exercises\n",
    "\n",
    "<hr>\n",
    "<hr>\n",
    "<hr>\n",
    "\n",
    "## Exercise 1\n",
    "\n",
    "![exo1](images/exo1.png)\n"
   ]
  },
  {
   "cell_type": "markdown",
   "id": "d1a31082",
   "metadata": {},
   "source": [
    "#### Q1\n",
    "\n",
    "X has n states. The maximum entropy is:\n",
    "\n",
    "\\begin{align}\n",
    "\\Theta_X&\\in\\{1, ..., n\\}\\\\\n",
    "\\Theta_Y&\\in\\{1, ..., m\\}\\\\\n",
    "Y&\\sim U(a, b)\\\\\n",
    "H_{max}(X)&=log_2(n)\\text{ sh/state}\n",
    "\\end{align}\n",
    "\n",
    "The maximum entropy of X is reached if $X$ is uniformly distribution.\n",
    "\n",
    "#### Q2\n",
    "\n",
    "Trivially:\n",
    "\n",
    "$$H(Y) = log_2(m)\\text{ sh/state}$$\n",
    "\n",
    "#### Q3\n",
    "\n",
    "$$0 \\le H(X|Y) \\le H(X) \\le H(Y) \\le H(X, Y) \\le H(X)+H(Y)$$\n",
    "\n",
    "- an entropy is always positive\n",
    "    - all entropies are of the form $-\\sum p_i.log\\,p_i$ with $f(x)=-x.log_2x$, with $x\\in]0, 1]$\n",
    "    - one can show that $f(x)\\ge0$ for all $x\\in[0,1]$\n",
    "- Conditionning decreases entropy: \n",
    "    - $H(Z|W)\\le H(Z)$\n",
    "    - $H(Z|W, V)\\le H(Z|W) \\le H(Z)$\n",
    "- X and Y have the same number of states, and Y is uniformly distributed\n",
    "    - $\\Rightarrow H(X) \\le H(Y) = log_2n$\n",
    "- $H(X, Y) = H(Y) + H(X|Y) \\Rightarrow H(X, Y)\\ge H(Y)$\n",
    "- $H(X, Y) = H(Y) + H(X|Y)\\le H(X) + H(Y)$ and we know $H(X|Y)\\le H(X)$\n",
    "\n",
    "#### Q4\n",
    "\n",
    "> On $0 \\le H(X|Y)$\n",
    "\n",
    "Several reasons to have $H(X|Y)=0$.\n",
    "- There exists a function $f: x=f(y)$\n",
    "- $P(X=x_1)=1$ and $P(X=x_i) = 0$ for all $i\\neq1$\n",
    "\n",
    "> On $H(X|Y) \\le H(X)$\n",
    "\n",
    "Equality if X and Y are independent (as Y does not bring any information over X and $H(X|Y) = H(X)$, otherwise $H(X, Y) = H(X|Y) + H(Y)$)\n",
    "\n",
    "> On $H(X) \\le H(Y)$\n",
    "\n",
    "Equality if X is uniformely distributed (as is Y)\n",
    "\n",
    "> On $H(Y) \\le H(X, Y)$\n",
    "\n",
    "We have:\n",
    "- $H(X, Y) = H(Y) + H(X|Y)$\n",
    "- $H(X, Y) = H(Y)$ if $H(X|Y)=0$\n",
    "\n",
    "> On $H(X, Y) \\le H(X)+H(Y)$\n",
    "\n",
    "We have:\n",
    "\n",
    "- $H(X, Y) = H(Y) + H(X|Y) = H(X) + H(Y)$ if $H(X|Y) = H(X)$\n",
    "\n",
    "#### Q5"
   ]
  },
  {
   "cell_type": "code",
   "execution_count": 86,
   "id": "855a5063",
   "metadata": {},
   "outputs": [
    {
     "name": "stdout",
     "output_type": "stream",
     "text": [
      "[0.24999999999999997, 0.24999999999999997, 0.24999999999999997, 0.24999999999999997]\n",
      "[0.3333333333333333, 0.5, 0.16666666666666666]\n"
     ]
    }
   ],
   "source": [
    "p_xy = [[1/24, 1/6, 1/24], [1/12, 1/8, 1/24], [1/6, 1/24, 1/24], [1/24, 1/6, 1/24]]\n",
    "\n",
    "p_y1 = 1/24 + 1/6 + 1/24\n",
    "p_y2 = 1/12 + 1/8 + 1/24\n",
    "p_y3 = 1/6 + 1/24 + 1/24\n",
    "p_y4 = 1/24 + 1/6 + 1/24\n",
    "p_x1 = 1/24 + 1/12 + 1/6 + 1/24\n",
    "p_x2 = 1/6 + 1/6 + 1/8 + 1/24\n",
    "p_x3 = 1/24 + 1/24 + 1/24 + 1/24\n",
    "\n",
    "p_y = [p_y1,p_y2,p_y3,p_y4]\n",
    "p_x = [p_x1,p_x2,p_x3]\n",
    "\n",
    "print(p_y, p_x, sep=\"\\n\")"
   ]
  },
  {
   "cell_type": "markdown",
   "id": "c6c4f4c3",
   "metadata": {},
   "source": [
    "Y is uniformly distributed.\n",
    "\n",
    "$$i(X, Y) \\overset{\\Delta}{=} h(Y) - h(Y|X)$$\n",
    "\n",
    "\\begin{align}\n",
    "h(Y|X) &= \\underset{i=1}{\\overset{3}{\\sum}}H(Y|X=x_i)P(X=x_i)\\\\\n",
    "H(Y|X=x_i) &\\text{ (we need P(Y=y_j|X=x_i))}\\\\\n",
    "P(Y=y_j|X=x_i)&=\\frac{P(X=x_1, Y=y_j)}{P(X=x_1)}\n",
    "\\end{align}"
   ]
  },
  {
   "cell_type": "code",
   "execution_count": 87,
   "id": "b73cf902",
   "metadata": {},
   "outputs": [],
   "source": [
    "from math import log\n",
    "\n",
    "h_y = -sum(list(map(lambda x: x*log(x, 2), p_y)))"
   ]
  },
  {
   "cell_type": "code",
   "execution_count": 88,
   "id": "18aa7c2f",
   "metadata": {},
   "outputs": [],
   "source": [
    "p_y_given_x = []\n",
    "for i in range(3):\n",
    "    for j in range(4):\n",
    "        p_y_given_x.append(p_xy[j][i]/p_x[i])"
   ]
  },
  {
   "cell_type": "code",
   "execution_count": 89,
   "id": "11bc39b6",
   "metadata": {},
   "outputs": [
    {
     "name": "stdout",
     "output_type": "stream",
     "text": [
      "1.75 1.855388542207534 2.0\n",
      "1.8443609377704335\n"
     ]
    }
   ],
   "source": [
    "h_y_giv_x1 = -sum(list(map(lambda x: x*log(x, 2), p_y_given_x[:4])))\n",
    "h_y_giv_x2 = -sum(list(map(lambda x: x*log(x, 2), p_y_given_x[4:8])))\n",
    "h_y_giv_x3 = -sum(list(map(lambda x: x*log(x, 2), p_y_given_x[8:12])))\n",
    "\n",
    "print(h_y_giv_x1, h_y_giv_x2, h_y_giv_x3)\n",
    "\n",
    "h_y_giv_x = h_y_giv_x1*p_x[0] + h_y_giv_x2*p_x[1] + h_y_giv_x3*p_x[2]\n",
    "\n",
    "print(h_y_giv_x)"
   ]
  },
  {
   "cell_type": "code",
   "execution_count": 91,
   "id": "b6c066ca",
   "metadata": {},
   "outputs": [
    {
     "data": {
      "text/plain": [
       "0.15563906222956647"
      ]
     },
     "execution_count": 91,
     "metadata": {},
     "output_type": "execute_result"
    }
   ],
   "source": [
    "I_xy = h_y-h_y_giv_x\n",
    "I_xy # shannon per state"
   ]
  },
  {
   "cell_type": "markdown",
   "id": "f84d126c",
   "metadata": {},
   "source": [
    "<hr>\n",
    "<hr>\n",
    "<hr>\n",
    "\n",
    "## Exercise 2\n",
    "\n",
    "![exo2](images/exo2.png)\n",
    "\n",
    "0 --1-p--> 0\n",
    "1 --1-p--> 1\n",
    "\n",
    "\\begin{align}\n",
    "1-p_0 &= P(Y=0|X=0)\\\\\n",
    "p_0 &= P(Y=0|X=1)\n",
    "\\end{align}\n"
   ]
  },
  {
   "cell_type": "markdown",
   "id": "1512cc87",
   "metadata": {},
   "source": [
    "\\begin{align}\n",
    "P(Y=0) &= P(Y=0, X=0) + P(Y=0, X=1)\\\\\n",
    "&= P(Y=0|X=0)P(X=0) + P(Y=0|X=1)P(X=1)\\\\\n",
    "&= (1-p_0)*1/4+p_0*3/4\\\\\n",
    "&=1/4+p_0/2\\\\\n",
    "P(Y=1) &= 1-P(Y=0) = 3/4 - p_0/2\n",
    "\\end{align}\n",
    "\n",
    "As such:\n",
    "\n",
    "\\begin{align}\n",
    "H(X) &= H(1/4, 3/4)\\\\\n",
    "H(Y) &= H(\\frac{1+2p_0}{4}, \\frac{3-2p_0}{4})\\\\\n",
    "H(X, Y) &= H(\\frac{3}{4}p_0, \\frac{3}{4}(1-p_0), \\frac{1}{4}(1-p_0), \\frac{1}{4}p_0)\\\\\n",
    "\\end{align}\n",
    "\n",
    "![table](images/table.png)\n",
    "\n",
    "![table2](images/table2.png)\n",
    "\n",
    "![table3](images/table3.png)\n",
    "\n",
    "![table4](images/table4.png)\n",
    "\n",
    "![table5](images/table5.png)\n",
    "\n",
    "![table6](images/table6.png)"
   ]
  },
  {
   "cell_type": "markdown",
   "id": "6eb9a305",
   "metadata": {},
   "source": [
    "\\begin{align}\n",
    "H(X) &= H(\\frac{1}{4}, \\frac{3}{4}) = 0.81\\text{ sh/state}\\\\\n",
    "H(Y) &= H(\\frac{1+p_0}{4}, \\frac{3-2p_0}{4}) = H(0.3, 0.7) = 0.88\\\\\n",
    "H(X, Y) &= H(3/4p, 3/4(1-p), 1/4(1-p), 1/4p) = H(0.075, 0.675, 0.225, 0.025)\\\\\n",
    "&= 1.28 \\text{ sh/state}\\\\\n",
    "H(Y|X) &= H(p_0, 1-p_0) = 0.47\\\\\n",
    "I(X, Y) &= H(Y) - H(Y|X) = 0.88 - 0.47 = 0.41 \\text{ sh/state}\n",
    "\\end{align}"
   ]
  },
  {
   "cell_type": "code",
   "execution_count": null,
   "id": "a00c18fc",
   "metadata": {},
   "outputs": [],
   "source": []
  }
 ],
 "metadata": {
  "kernelspec": {
   "display_name": "Python 3 (ipykernel)",
   "language": "python",
   "name": "python3"
  },
  "language_info": {
   "codemirror_mode": {
    "name": "ipython",
    "version": 3
   },
   "file_extension": ".py",
   "mimetype": "text/x-python",
   "name": "python",
   "nbconvert_exporter": "python",
   "pygments_lexer": "ipython3",
   "version": "3.9.7"
  }
 },
 "nbformat": 4,
 "nbformat_minor": 5
}
