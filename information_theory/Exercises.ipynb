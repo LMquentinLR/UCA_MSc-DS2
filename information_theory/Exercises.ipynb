{
 "cells": [
  {
   "cell_type": "markdown",
   "id": "a78d7d9b",
   "metadata": {},
   "source": [
    "# Exercises\n",
    "\n",
    "<hr>\n",
    "<hr>\n",
    "<hr>\n",
    "\n",
    "## Class 2"
   ]
  },
  {
   "cell_type": "markdown",
   "id": "aef6e307",
   "metadata": {},
   "source": [
    "### Analyze and interpret the following cases:\n",
    "\n",
    "1. $A\\inc B$\n",
    "\n",
    "\\begin{align}\n",
    "i(A, B) &= h(A) - h(A|B)\\\\\n",
    "&= h(A) - h(A) \\text{ because A, B are independent}\\\\\n",
    "&=0\\text{ shannon}\n",
    "\\end{align}\n",
    "\n",
    "\\begin{align}\n",
    "A&\\Rightarrow B:\\,\\,P(B|A)=1\\\\\n",
    "h(A, B) &= h(A)\\\\\n",
    "h(B|A) &= 0\\\\\n",
    "i(A, B) &= h(B) - h(B|A)\\\\\n",
    "&= h(B)\n",
    "\\end{align}\n",
    "\n",
    "2. $A=B$\n",
    "\n",
    "3. $A\\cap B= 0$"
   ]
  },
  {
   "cell_type": "markdown",
   "id": "fef95aa8",
   "metadata": {},
   "source": [
    "### Exercise 2\n",
    "**Consider a set of 52 playing cards in which we randomly choose cards with replacement. Calculate the probability to get a queen, a heart, the queen of hearts or the ace of spades, a queen or a spade, neither a queen nor a spade.**"
   ]
  },
  {
   "cell_type": "code",
   "execution_count": 30,
   "id": "a3fc05b1",
   "metadata": {},
   "outputs": [
    {
     "name": "stdout",
     "output_type": "stream",
     "text": [
      "P(queen)=0.0769\n",
      "P(heart)=0.25\n",
      "P(queen of heart || ace of spades)=0.0384\n",
      "P(queen && spade)=0.3077\n",
      "P(!queen && !spade)=0.6923\n"
     ]
    }
   ],
   "source": [
    "nb_cards = 52\n",
    "nb_cards_per_typecolor = 52/4\n",
    "nb_card_types = 4\n",
    "nb_card_colors = 4\n",
    "round_factor = 4\n",
    "\n",
    "queen = round(nb_card_types/nb_cards, round_factor)\n",
    "print(f\"P(queen)={queen}\")\n",
    "\n",
    "heart = round(nb_cards_per_typecolor/nb_cards, round_factor)\n",
    "print(f\"P(heart)={heart}\")\n",
    "\n",
    "queen_of_heart = round(1/nb_cards, round_factor)\n",
    "print(f\"P(queen of heart || ace of spades)={queen_of_heart*2}\")\n",
    "\n",
    "queen_or_spade = (nb_card_types + \\\n",
    "                      nb_cards_per_typecolor - 1)/nb_cards\n",
    "queen_or_spade = round(queen_or_spade, round_factor)\n",
    "print(f\"P(queen && spade)={queen_or_spade}\")\n",
    "\n",
    "not_queen_or_spade = ((nb_cards - nb_card_types) - \\\n",
    "                      (nb_cards_per_typecolor) + 1)/nb_cards\n",
    "not_queen_or_spade = round(not_queen_or_spade, round_factor)\n",
    "print(f\"P(!queen && !spade)={not_queen_or_spade}\")"
   ]
  },
  {
   "cell_type": "markdown",
   "id": "1325c12f",
   "metadata": {},
   "source": [
    "### Exercise 3\n",
    "\n",
    "**We consider an urn containing 5 white balls, 4 red balls and 2 black balls. We randomly select one ball from this urn. Calculate the probability that it is white, that it is not white, that it is white or red. Now we select 3 balls with replacement. Calculate the probability to get a white ball first, next a red ball, and finally a black ball. Solve the same problem in the case where the balls are randomly selected without replacement.**"
   ]
  },
  {
   "cell_type": "code",
   "execution_count": 12,
   "id": "094cb9cb",
   "metadata": {},
   "outputs": [
    {
     "name": "stdout",
     "output_type": "stream",
     "text": [
      "P(white draw)=0.4545\n",
      "P(not white draw)=0.5455\n",
      "P(white or red draw)=0.8182\n"
     ]
    }
   ],
   "source": [
    "n_wballs = 5\n",
    "n_rballs = 4\n",
    "n_bballs = 2\n",
    "n_balls = n_wballs + n_rballs + n_bballs\n",
    "\n",
    "white_draw = round(n_wballs/n_balls, round_factor)\n",
    "print(f\"P(white draw)={white_draw}\")\n",
    "print(f\"P(not white draw)={1-white_draw}\")\n",
    "\n",
    "white_red_draw = round((n_wballs+n_rballs)/n_balls, round_factor)\n",
    "print(f\"P(white or red draw)={white_red_draw}\")"
   ]
  },
  {
   "cell_type": "code",
   "execution_count": 16,
   "id": "2ad425a3",
   "metadata": {},
   "outputs": [
    {
     "name": "stdout",
     "output_type": "stream",
     "text": [
      "P(white, then red, then black)= 0.0301\n"
     ]
    }
   ],
   "source": [
    "w_r_b = round((n_wballs * n_rballs * n_bballs)/(n_balls**3), \n",
    "              round_factor)\n",
    "\n",
    "print(f\"P(white, then red, then black)=\",\n",
    "      w_r_b)"
   ]
  },
  {
   "cell_type": "code",
   "execution_count": 35,
   "id": "aa0ed452",
   "metadata": {},
   "outputs": [
    {
     "name": "stdout",
     "output_type": "stream",
     "text": [
      "P(white, then red, then black without replacement)= 0.0404\n"
     ]
    }
   ],
   "source": [
    "w_r_b_wo_replacement = round(\n",
    "    (n_wballs * n_rballs * n_bballs)/ \\\n",
    "    (n_balls * (n_balls-1) * (n_balls-2)), \n",
    "    round_factor\n",
    ")\n",
    "\n",
    "print(f\"P(white, then red, then black without replacement)=\",\n",
    "      w_r_b_wo_replacement)"
   ]
  },
  {
   "cell_type": "markdown",
   "id": "7c7a9164",
   "metadata": {},
   "source": [
    "### Exercise 4\n",
    "\n",
    "**An urn I contains 2 black balls and 3 white balls, while an urn II contains 4 black balls and 6 white balls. A ball is randomly selected in each urn. Calculate the probability of drawing 2 balls with the same color. Now, we assume that the ball randomly selected in urn I is placed in urn II before proceeding to the second draw. Calculate the  obability of getting 2 balls of the same color.**"
   ]
  },
  {
   "cell_type": "code",
   "execution_count": 40,
   "id": "3eb5d6af",
   "metadata": {},
   "outputs": [
    {
     "name": "stdout",
     "output_type": "stream",
     "text": [
      "P(drawing same color)=0.52\n",
      "P(drawing same color)=0.5636\n"
     ]
    }
   ],
   "source": [
    "n_u1_bballs = 2\n",
    "n_u1_wballs = 3\n",
    "n_u2_bballs = 4\n",
    "n_u2_wballs = 6\n",
    "n_u1 = 5\n",
    "n_u2 = 10\n",
    "\n",
    "u12b_u12w = round(n_u1_bballs/n_u1 * n_u2_bballs/n_u2 + \\\n",
    "                  n_u1_wballs/n_u1 * n_u2_wballs/n_u2,\n",
    "                  round_factor)\n",
    "print(f\"P(drawing same color)={u12b_u12w}\")\n",
    "\n",
    "# P(b1)P(b2|b1) + P(w1)P(w2|w1)\n",
    "u12b_u12w = round(n_u1_bballs/n_u1 * (n_u2_bballs+1)/(n_u2+1) + \\\n",
    "                  n_u1_wballs/n_u1 * (n_u2_wballs+1)/(n_u2+1),\n",
    "                  round_factor)\n",
    "print(f\"P(drawing same color)={u12b_u12w}\")"
   ]
  },
  {
   "cell_type": "markdown",
   "id": "e5a6232b",
   "metadata": {},
   "source": [
    "### Exercise 5\n",
    "\n",
    "**A person is randomly selected from a population where the proportion of cheaters is equal to p. It is asked someone to draw a card from a set of 52 playing cards. One admits that cheaters always get an ace.  Calculate the probability that the selected person gets an ace. Calculate the probability that this person is a cheater if he gets an ace.**\n",
    "\n",
    "\\begin{align}\n",
    "E&=\\text{ace}\\\\\n",
    "&=(\\text{ace and cheater}) \\text{ or }(\\text{ace and not cheater})\\\\\n",
    "P(E) &= P(, A) + P(E, \\bar{A})\\\\\n",
    "&= P(\\text{ace|cheater})P(\\text{cheater}) + P(\\text{ace|not cheater})P(\\text{not cheater})\\\\\n",
    "&= 1. p + \\frac{4}{52}.(1-p)\\\\\n",
    "&=\\frac{52p + 4 - 4p}{52} = \\frac{48p + 4}{52}\\\\\n",
    "\\end{align}\n",
    "\n",
    "\\begin{align}\n",
    "P(\\text{cheater|ace})&=\\frac{P(\\text{ace|cheater})P(\\text{cheater})}{P(\\text{ace})}\\\\\n",
    "&= \\frac{P(\\text{ace|cheater})P(\\text{cheater})}{P(\\text{ace|not cheater})P(\\text{ not cheater}) + P(\\text{ace|cheater})P(\\text{cheater})}\\\\\n",
    "=\\frac{1.p}{\\frac{48p + 4}{52}}\\\\\n",
    "=\\frac{13p}{21p+1}\n",
    "\\end{align}"
   ]
  }
 ],
 "metadata": {
  "kernelspec": {
   "display_name": "Python 3",
   "language": "python",
   "name": "python3"
  },
  "language_info": {
   "codemirror_mode": {
    "name": "ipython",
    "version": 3
   },
   "file_extension": ".py",
   "mimetype": "text/x-python",
   "name": "python",
   "nbconvert_exporter": "python",
   "pygments_lexer": "ipython3",
   "version": "3.8.8"
  }
 },
 "nbformat": 4,
 "nbformat_minor": 5
}
