{
 "cells": [
  {
   "cell_type": "markdown",
   "id": "66886dfd",
   "metadata": {},
   "source": [
    "# Information Theory\n",
    "\n",
    "<hr>\n",
    "<hr>\n",
    "<hr>\n",
    "\n",
    "## Class 3 - Discrete Source Coding\n",
    "\n",
    "### Encoding from S to C\n",
    "\n",
    "**Encoding**: The goal is to translate all possible states of a source $S$ into a binary signal $C$ using an encoder $S\\rightarrow C$. Of note a source $S$ generates a *sequences of signals e.g. $s_2, s_{18}, s_5, ...$* with each having a probability $p_i = P(S=s_i)$ and entropy $H(S) = -\\sum p_i log_2p_i$ shannon/state. \n",
    "\n",
    "One can design a **look-up table** to build a correspondance between a signal $S_i$ and its binary encoding $C_i$ ($C_i$ might be of variable lengths). \n",
    "\n",
    "#### Note:\n",
    "\n",
    "A sequence of signals $s_i$ might have each symbol $s_i$ be dependent on the previous (e.g. some sequences of letters might not appear in a language). In this case, the source $S$ is not memoriless (the case shown above is).\n",
    "\n",
    "A memoriless source is characterized by an IID distribution of $S_i$ -- it is a **Stationary Process**:\n",
    "\n",
    "\\begin{align}\n",
    "P(S_i=s_i, ..., S_n=s_{in}) &= P(S_k=s_i, ..., S_{k+n}=s_{in})\\\\\n",
    "&\\overset{I}{=} P(S_i=s_i)...P(S_n=s_{in}) = P(S_k=s_i)...P(S_{k+n}=s_{in})\\\\\n",
    "&\\overset{ID}{=} P(S=s_i)...P(S=s_{in})\\text{ (stationary source)}\\\\\n",
    "\\end{align}\n",
    "\n",
    "#### Markovian source\n",
    "\n",
    "A source $S$ is said to be Markovian if $P(S_{n+1}=s_{i_{n+1}}|S_n=s_{i_{n}},...,S_1=s_{i_{1}}) = P(S_{n+1}=s_{i_{n+1}}|S_n=s_{i_{n}}) \\forall s_{i_1},...,s_{i_{n_1}}\\in \\mathcal{A}$ i.e.\n",
    "\n",
    "$$P(S_1, ..., S_n) = P(S_1)P(S_2|S_1)...P(S_n|S_{n-1})$$"
   ]
  },
  {
   "cell_type": "markdown",
   "id": "96263428",
   "metadata": {},
   "source": []
  }
 ],
 "metadata": {
  "kernelspec": {
   "display_name": "Python 3 (ipykernel)",
   "language": "python",
   "name": "python3"
  },
  "language_info": {
   "codemirror_mode": {
    "name": "ipython",
    "version": 3
   },
   "file_extension": ".py",
   "mimetype": "text/x-python",
   "name": "python",
   "nbconvert_exporter": "python",
   "pygments_lexer": "ipython3",
   "version": "3.9.7"
  }
 },
 "nbformat": 4,
 "nbformat_minor": 5
}
