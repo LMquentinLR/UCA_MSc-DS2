{
 "cells": [
  {
   "cell_type": "markdown",
   "id": "ed59faf0",
   "metadata": {},
   "source": [
    "# Information Theory Exam\n",
    "\n",
    "*February, 7th, 2022* -- Quentin Le Roux\n",
    "\n",
    "<hr>\n",
    "\n",
    "Please find my examination work in this document (.pdf rendering of a Jupyter Notebook). \n",
    "\n",
    "The document is set up in two parts: \n",
    "\n",
    "1. the declarations of the functions used to compute important values such as entropy, etc.\n",
    "\n",
    "2. the detailed answers to each exercises.\n",
    "\n",
    "<hr>\n",
    "\n",
    "## 1 - Function declarations"
   ]
  },
  {
   "cell_type": "markdown",
   "id": "2cad3c68",
   "metadata": {},
   "source": [
    "### 1.1 Library imports"
   ]
  },
  {
   "cell_type": "code",
   "execution_count": 1,
   "id": "c8f7851c",
   "metadata": {},
   "outputs": [],
   "source": [
    "import math"
   ]
  },
  {
   "cell_type": "markdown",
   "id": "e3b26f25",
   "metadata": {},
   "source": [
    "### 1.2 Functions"
   ]
  },
  {
   "cell_type": "code",
   "execution_count": 2,
   "id": "ec0dfead",
   "metadata": {},
   "outputs": [],
   "source": [
    "def entropy(probabilities: dict) -> float:\n",
    "    \"\"\"\n",
    "    Computes the entropy given an input list of\n",
    "    probabilities.\n",
    "    \"\"\"\n",
    "    h = 0\n",
    "    for p in probabilities.values():\n",
    "        h += p * math.log(p, 2)\n",
    "    return -h"
   ]
  },
  {
   "cell_type": "code",
   "execution_count": 3,
   "id": "b7519c47",
   "metadata": {},
   "outputs": [],
   "source": [
    "def lower_bound_expected_length(probabilities: dict) -> float:\n",
    "    \"\"\"\n",
    "    Computes the minimum expected length n_bar of\n",
    "    a given binary coding.\n",
    "    \"\"\"\n",
    "    n_bar = entropy(probabilities)\n",
    "    print(\"Min. expected length per codeword:\",\n",
    "          f\"{n_bar} bits/state.\")\n",
    "    return n_bar"
   ]
  },
  {
   "cell_type": "code",
   "execution_count": 4,
   "id": "c64945aa",
   "metadata": {},
   "outputs": [],
   "source": [
    "def lengths_given_shannon_coding(probabilities: dict) -> dict:\n",
    "    \"\"\"\n",
    "    Computes the length of codewords given a Shannon\n",
    "    encoding.\n",
    "    \"\"\"\n",
    "    n = lambda x: math.log(1/x, 2)\n",
    "    n_ceiling = lambda x: math.ceil(n(x))\n",
    "    n_i = {k:round(n(v),2) for k,v in probabilities.items()}\n",
    "    lengths = {k:n_ceiling(v) for k,v in probabilities.items()}\n",
    "    print(f\"n_i: {n_i}\")\n",
    "    print(\"Codeword lengths given Shannon coding:\",\n",
    "          f\"{lengths}\")\n",
    "    return lengths"
   ]
  },
  {
   "cell_type": "code",
   "execution_count": 5,
   "id": "c45ca3f3",
   "metadata": {},
   "outputs": [],
   "source": [
    "def lengths_given_shannonFano_coding(probabilities: dict) -> dict:\n",
    "    \"\"\"\n",
    "    Computes the length of codewords given a Shannon-Fano\n",
    "    encoding.\n",
    "    \"\"\"\n",
    "    # See manual computation\n",
    "    return None\n",
    "\n",
    "def lengths_given_huffman_coding(probabilities: dict) -> dict:\n",
    "    \"\"\"\n",
    "    Computes the length of codewords given a Shannon-Fano\n",
    "    encoding.\n",
    "    \"\"\"\n",
    "    # See manual computation\n",
    "    return None"
   ]
  },
  {
   "cell_type": "code",
   "execution_count": 6,
   "id": "a1a5d54a",
   "metadata": {},
   "outputs": [],
   "source": [
    "def average_length(lengths, probabilities, coding):\n",
    "    \"\"\"\n",
    "    Computes the bits per state given a set of expected\n",
    "    lengths per codeword and their respective probabilities.\n",
    "    \"\"\"\n",
    "    n_bar = [lengths[k]*probabilities[k]\n",
    "             for k in probabilities.keys()]\n",
    "    n_bar = sum(n_bar)\n",
    "    print(f\"Avg. length per codeword given {coding} coding:\",\n",
    "          f\"{n_bar} bits/state.\")\n",
    "    return n_bar"
   ]
  },
  {
   "cell_type": "markdown",
   "id": "aee3763f",
   "metadata": {},
   "source": [
    "## Exercises"
   ]
  },
  {
   "cell_type": "markdown",
   "id": "24de4b52",
   "metadata": {},
   "source": [
    "### Exercise 1\n",
    "\n",
    "**1**. True. The entropy increases as the number of possible outcomes increases.\n",
    "\n",
    "**2**. B. $log_2(2)=1$ Sh/state\n",
    "\n",
    "**3**. A. The binary code is non-singular as all codewords are distinct but it is not uniquely decodable as 0 is the prefix of 01, the codewords don't have a fixed length, and there is no separator.\n",
    "\n",
    "**4**. A. The binary code is non-singular as all codewords are distinct but it is not uniquely decodable as 11 is the prefix of 11, the codewords don't have a fixed length, and there is no separator.\n",
    "\n",
    "**5**. A, B, and C. The binary code is non-singular as all codewords are distinct and it is uniquely decodable and instantaneous as there are no prefix and no codeword is the beginning of another."
   ]
  },
  {
   "cell_type": "markdown",
   "id": "12f9671e",
   "metadata": {},
   "source": [
    "### Exercise 2\n",
    "\n",
    "#### Question 1\n",
    "\n",
    "The entropy $H(S)$ is equal to c. $2.1598$."
   ]
  },
  {
   "cell_type": "code",
   "execution_count": 7,
   "id": "ba56a24e",
   "metadata": {},
   "outputs": [
    {
     "name": "stdout",
     "output_type": "stream",
     "text": [
      "Min. expected length per codeword: 2.1597927486050486 bits/state.\n",
      "2.1597927486050486\n"
     ]
    }
   ],
   "source": [
    "probs = {\"p0\":14/35,\"p1\":6/35, \"p2\":6/35, \"p3\":5/35, \"p4\":4/35}\n",
    "HS = entropy(probs)\n",
    "lower_bound = lower_bound_expected_length(probs)\n",
    "print(HS)"
   ]
  },
  {
   "cell_type": "markdown",
   "id": "ac4c321e",
   "metadata": {},
   "source": [
    "The entropy flow rate D(S) (or emission rate of the source $T$) expressed in shannon per seconds is the product of $H(S)$ times the rate $D_S$ in symbol per seconds: $$H(S)*D_S$$\n",
    "\n",
    "We find: $$H(S)*D_S \\approx 3239.689$$"
   ]
  },
  {
   "cell_type": "code",
   "execution_count": 8,
   "id": "65b589fb",
   "metadata": {},
   "outputs": [
    {
     "data": {
      "text/plain": [
       "3239.6891229075727"
      ]
     },
     "execution_count": 8,
     "metadata": {},
     "output_type": "execute_result"
    }
   ],
   "source": [
    "DS = 1500\n",
    "HS * DS"
   ]
  },
  {
   "cell_type": "markdown",
   "id": "af2ac5f5",
   "metadata": {},
   "source": [
    "#### Question 2\n",
    "\n",
    "The channel capacity $C$ in shannon per seconds corresponds to the noiseless channel rate $D_C$ times $\\log_2q$ given the channel's q-ary alphabet (here binary, i.e. $q=2$).\n",
    "\n",
    "As such: \n",
    "\\begin{align}\n",
    "C&=D_C*log_22\\\\\n",
    "&=3500*1\\\\\n",
    "&=3500\n",
    "\\end{align}\n",
    "\n",
    "We find that $T\\le C$ given $3239.689 \\le 3500$. The channel $C$ is adapted to the source."
   ]
  },
  {
   "cell_type": "markdown",
   "id": "b574764a",
   "metadata": {},
   "source": [
    "#### Question 3\n",
    "\n",
    "We propose the following fixed-length code for the source symbols.\n",
    "\n",
    "| Case | code |\n",
    "| --- | --- |\n",
    "| s_0 | 000 |\n",
    "| s_1 | 001 |\n",
    "| s_2 | 010 |\n",
    "| s_3 | 011 |\n",
    "| s_4 | 111 |\n",
    "\n",
    "It is non-singular and of fixed-length, therefore the code is decodable.\n",
    "\n",
    "The average length of the codewords is as such:\n",
    "\\begin{align}\n",
    "\\bar{n}&=\\underset{i=1}{\\overset{N}{\\sum}}p_i.n_i\\\\\n",
    "&=(p_0+p_1+p_2+p_3+p_4)*3\\\\\n",
    "&=3\n",
    "\\end{align}\n",
    "\n",
    "Since the rate D_S is 1500 symbols and the average length for the fixed-length coding is 3, we have an emission rate with this encoding of 4500 bits per seconds (1500x3), which is higher than the channel capacity of 3500 bits per seconds.\n",
    "\n",
    "The fixed-length coding does not allow the transmission of source symbols."
   ]
  },
  {
   "cell_type": "markdown",
   "id": "6f13afa7",
   "metadata": {},
   "source": [
    "#### Question 4\n",
    "\n",
    "We propose the following separator-based code for the source symbols in order of decreasing probabilities.\n",
    "\n",
    "| Case | code |\n",
    "| --- | --- |\n",
    "| s_0 | 0 |\n",
    "| s_1 | 01 |\n",
    "| s_2 | 011 |\n",
    "| s_3 | 0111 |\n",
    "| s_4 | 01111 |\n",
    "\n",
    "It is non-singular and with separators therefore the code is decodable.\n",
    "\n",
    "The average length of the codewords is as such:\n",
    "\\begin{align}\n",
    "\\bar{n}&=\\underset{i=1}{\\overset{N}{\\sum}}p_i.n_i\\\\\n",
    "&=\\frac{14}{35}*1+\\frac{6}{35}*2+\\frac{6}{35}*3+\\frac{5}{35}*4+\\frac{4}{35}*5\\\\\n",
    "&=2.314\n",
    "\\end{align}\n",
    "\n",
    "Since the rate D_S is 1500 symbols and the average length for the separator coding is 2.314, we have an emission rate with this encoding of 3471 bits per seconds (1500x2.314), which is lower than the channel capacity of 3500 bits per seconds.\n",
    "\n",
    "The separator coding allows the transmission of source symbols."
   ]
  },
  {
   "cell_type": "code",
   "execution_count": 9,
   "id": "9d9c23e8",
   "metadata": {},
   "outputs": [
    {
     "data": {
      "text/plain": [
       "2.314285714285714"
      ]
     },
     "execution_count": 9,
     "metadata": {},
     "output_type": "execute_result"
    }
   ],
   "source": [
    "14/35*1+6/35*2+5/35*(3+4)+4/35*5"
   ]
  },
  {
   "cell_type": "markdown",
   "id": "593c22ea",
   "metadata": {},
   "source": [
    "#### Question 5\n",
    "\n",
    "<u>Shannon encoding</u>\n",
    "\n",
    "Shannon's coding technique consists in associating $n_i$ $q$-ary symbols to each source state $s_i$ such that: $$n_i=\\big\\lceil\\frac{\\log1/p_i}{\\log_2 q}\\big\\rceil$$\n",
    "And:\n",
    "\\begin{align}\n",
    "\\bar{n}&=\\underset{i=1}{\\overset{N}{\\sum}}p_i.n_i\\\\\n",
    "\\bar{n}&\\ge\\bar{n}_{min}\\text{ with }\\bar{n}_{min}=\\frac{H(S)}{\\log_2q}\n",
    "\\end{align}\n",
    "\n",
    "We consider a $5$-symbol source $\\{s_0,\\ldots,s_{4}\\}$ defined such that we propose the shannon-based code for the source symbols in order of decreasing probabilities.\n",
    "\n",
    "| Case | $p_i$ | $-log_2p_i$| $n_i$ |\n",
    "| --- | ---: | ---: | ---: |\n",
    "| s_0 | 14/35 | 1.32 | 2 |\n",
    "| s_1 | 6/35 | 2.54 | 3 |\n",
    "| s_2 | 6/35 | 2.54 | 3 |\n",
    "| s_3 | 5/35 | 2.81 | 3 |\n",
    "| s_4 | 4/35 | 3.13 | 4 |\n",
    "\n",
    "It is non-singular and with shannon coding therefore the code is decodable.\n",
    "\n",
    "The average length of the codewords is as such:\n",
    "\\begin{align}\n",
    "\\bar{n}&=\\underset{i=1}{\\overset{N}{\\sum}}p_i.n_i\\\\\n",
    "&=\\frac{14}{35}*2+\\frac{6}{35}*3+\\frac{6}{35}*3+\\frac{5}{35}*3+\\frac{4}{35}*4\\\\\n",
    "&=2.714\n",
    "\\end{align}\n",
    "\n",
    "Since the rate D_S is 1500 symbols and the average length for the shannon coding is c. 2.714, we have an emission rate with this encoding of c. 4071 bits per seconds (c. 1500x2.714), which is higher than the channel capacity of 3500 bits per seconds.\n",
    "\n",
    "The shannon coding does not allow the transmission of source symbols."
   ]
  },
  {
   "cell_type": "code",
   "execution_count": 10,
   "id": "9d412738",
   "metadata": {},
   "outputs": [
    {
     "name": "stdout",
     "output_type": "stream",
     "text": [
      "n_i: {'p0': 1.32, 'p1': 2.54, 'p2': 2.54, 'p3': 2.81, 'p4': 3.13}\n",
      "Codeword lengths given Shannon coding: {'p0': 2, 'p1': 3, 'p2': 3, 'p3': 3, 'p4': 4}\n"
     ]
    }
   ],
   "source": [
    "lengths_shannon = lengths_given_shannon_coding(probs)"
   ]
  },
  {
   "cell_type": "code",
   "execution_count": 11,
   "id": "bc2924b4",
   "metadata": {},
   "outputs": [
    {
     "data": {
      "text/plain": [
       "2.7142857142857144"
      ]
     },
     "execution_count": 11,
     "metadata": {},
     "output_type": "execute_result"
    }
   ],
   "source": [
    "14/35*2+6/35*6+5/35*3+4/35*4"
   ]
  },
  {
   "cell_type": "code",
   "execution_count": 12,
   "id": "1f7d3153",
   "metadata": {},
   "outputs": [
    {
     "name": "stdout",
     "output_type": "stream",
     "text": [
      "Avg. length per codeword given Shannon coding: 2.7142857142857144 bits/state.\n"
     ]
    }
   ],
   "source": [
    "avg_l = average_length(lengths_shannon, probs, \"Shannon\")"
   ]
  },
  {
   "cell_type": "markdown",
   "id": "45767b20",
   "metadata": {},
   "source": [
    "#### Question 6\n",
    "\n",
    "<u>Shannon-Fano encoding</u>\n",
    "\n",
    "Shannon-Fano’s encoding proceeds as such:\n",
    "1. Arrange the states of the system by decreasing probabilities\n",
    "2. Split the system states into 2 groups $G_0$ et $G_1$ with probabilities as close as possible without modifying their arrangement in 1.\n",
    "3. Each group $G_i$ is split into 2 sub-groups $G_{i0}$ et $G_{i1}$ with probabilities as close as possible to each other, again without modifying the state arrangement.\n",
    "4. The procedure stops when each subgroup consists of a single element. The index of the group gives the codeword.\n",
    "\n",
    "We consider a $5$-symbol source $\\{s_0,\\ldots,s_{4}\\}$ defined such that we propose the shannon-fano-based code for the source symbols in order of decreasing probabilities.\n",
    "\n",
    "<img src=\"images/q2_shannonfano.png\" width=\"700\">\n",
    "\n",
    "It is non-singular and with shannon-fano coding therefore the code is decodable.\n",
    "\n",
    "The average length of the codewords is as such:\n",
    "\\begin{align}\n",
    "\\bar{n}&=\\underset{i=1}{\\overset{N}{\\sum}}p_i.n_i\\\\\n",
    "&=\\frac{14}{35}*2+\\frac{6}{35}*2+\\frac{6}{35}*2+\\frac{5}{35}*3+\\frac{4}{35}*3\\\\\n",
    "&=2.257\n",
    "\\end{align}\n",
    "\n",
    "Since the rate D_S is 1500 symbols and the average length for the shannon-fano coding is c. 2.257, we have an emission rate with this encoding of c. 3386 bits per seconds (c. 1500x2.257), which is lower than the channel capacity of 3500 bits per seconds.\n",
    "\n",
    "The shannon-fano coding allows the transmission of source symbols."
   ]
  },
  {
   "cell_type": "code",
   "execution_count": 13,
   "id": "fb57c542",
   "metadata": {},
   "outputs": [
    {
     "name": "stdout",
     "output_type": "stream",
     "text": [
      "Avg. length per codeword given Shannon-Fano coding: 2.257142857142857 bits/state.\n"
     ]
    }
   ],
   "source": [
    "#manually computed\n",
    "lengths_shannonFano =  {\"p0\":2,\"p1\":2, \"p2\":2, \"p3\":3, \"p4\":3}\n",
    "avg_l = average_length(lengths_shannonFano, probs, \"Shannon-Fano\")"
   ]
  },
  {
   "cell_type": "code",
   "execution_count": 14,
   "id": "16b30895",
   "metadata": {},
   "outputs": [
    {
     "data": {
      "text/plain": [
       "2.257142857142857"
      ]
     },
     "execution_count": 14,
     "metadata": {},
     "output_type": "execute_result"
    }
   ],
   "source": [
    "14/35*2+6/35*(2+2)+5/35*3+4/35*3"
   ]
  },
  {
   "cell_type": "markdown",
   "id": "25f9b0ca",
   "metadata": {},
   "source": [
    "#### Question 7\n",
    "\n",
    "<u>Huffman encoding</u>\n",
    "\n",
    "Huffman’s method provides a compact instantaneous code of minimum average length. A tree is built from the leaf nodes, which represent the states of the source.\n",
    "1. At each step, the two least likely leaves are merged into one.\n",
    "2. The procedure stops when the result is a single leaf consisting of all the symbols.\n",
    "3. The reverse path of the tree provides the code words.\n",
    "\n",
    "We consider a $5$-symbol source $\\{s_0,\\ldots,s_{4}\\}$ defined such that we propose the huffman-based code for the source symbols in order of decreasing probabilities.\n",
    "\n",
    "<img src=\"images/q2_huffman.png\" width=\"700\">\n",
    "\n",
    "It is non-singular and with huffman coding therefore the code is decodable.\n",
    "\n",
    "The average length of the codewords is as such:\n",
    "\\begin{align}\n",
    "\\bar{n}&=\\underset{i=1}{\\overset{N}{\\sum}}p_i.n_i\\\\\n",
    "&=\\frac{14}{35}*1+\\frac{6}{35}*3+\\frac{6}{35}*3+\\frac{5}{35}*3+\\frac{4}{35}*3\\\\\n",
    "&=2.1999...\n",
    "\\end{align}\n",
    "\n",
    "Since the rate D_S is 1500 symbols and the average length for the huffman coding is c. 2.2, we have an emission rate with this encoding of c. 3300 bits per seconds (c. 1500x2.2), which is lower than the channel capacity of 3500 bits per seconds.\n",
    "\n",
    "The huffman coding does not allow the transmission of source symbols."
   ]
  },
  {
   "cell_type": "code",
   "execution_count": 15,
   "id": "07c04601",
   "metadata": {},
   "outputs": [
    {
     "name": "stdout",
     "output_type": "stream",
     "text": [
      "Avg. length per codeword given Huffman coding: 2.1999999999999997 bits/state.\n"
     ]
    }
   ],
   "source": [
    "#manually computed\n",
    "lengths_huffman =  {\"p0\":1,\"p1\":3, \"p2\":3, \"p3\":3, \"p4\":3}\n",
    "avg_l = average_length(lengths_huffman, probs, \"Huffman\")"
   ]
  },
  {
   "cell_type": "code",
   "execution_count": 16,
   "id": "d92792e9",
   "metadata": {},
   "outputs": [
    {
     "data": {
      "text/plain": [
       "2.1999999999999997"
      ]
     },
     "execution_count": 16,
     "metadata": {},
     "output_type": "execute_result"
    }
   ],
   "source": [
    "14/35*1+6/35*(3+3)+5/35*3+4/35*3"
   ]
  },
  {
   "cell_type": "markdown",
   "id": "acf78eb8",
   "metadata": {},
   "source": [
    "#### Question 8\n",
    "\n",
    "We obtain the following average codeword lengths $\\bar{n}$\n",
    "\n",
    "- Minimum possible (H(S)): c. 2.15 \n",
    "- fixed-length: 3 (does not allow transmission)\n",
    "- separator: c. 2.31 (allows transmission)\n",
    "- Shannon: c. 2.71 (does not allow transmission)\n",
    "- Shannon-Fano: c. 2.57 (allows transmission)\n",
    "- Huffman: c.2.2 (allows transmission)\n",
    "\n",
    "We find that the lowest average length of the codewords obtained throughout the exercise is obtained with the Huffman's method, which is near the minimum possible. The closest second is the separator method, which wins over the Shannon and Shannon-Fano method seemingly because of the large probability granted to the state $s_0$ which both latter methods give a code length of 2."
   ]
  },
  {
   "cell_type": "markdown",
   "id": "070e82c1",
   "metadata": {},
   "source": [
    "### Exercise 3\n",
    "\n",
    "#### Question 1\n",
    "\n",
    "\\begin{align}\n",
    "H(X)&=H_2(\\beta) = H(\\beta, 1-\\beta)\\\\\n",
    "&=-\\beta\\log_2\\beta-(1-\\beta)\\log_2(1-\\beta)\\\\\n",
    "&=h(\\beta)\n",
    "\\end{align}\n",
    "\n",
    "Given $h(x) = -x\\log_2(x)-(1-x)\\log_2(1-x)$."
   ]
  },
  {
   "cell_type": "markdown",
   "id": "fd39173b",
   "metadata": {},
   "source": [
    "#### Question 2\n",
    "\n",
    "We know that $P(Y|X) = \\frac{P(X, Y)}{P(X)}$. As such, knowing:\n",
    "\n",
    "\\begin{align}\n",
    "P(Y=1|X=1)&=1\\\\\n",
    "P(Y=0|X=1)&=0\\\\\n",
    "P(Y=1|X=0)&=1-q\\\\\n",
    "P(Y=0|X=0)&=q\\\\\n",
    "\\end{align}\n",
    "\n",
    "We find:\n",
    "\n",
    "\\begin{align}\n",
    "P(Y=1,X=1)&=P(Y=1|X=1)*P(X=1)\\\\\n",
    "&= 1-\\beta\\\\\n",
    "P(Y=0,X=1)&=P(Y=0|X=1)*P(X=0)\\\\\n",
    "&= 0\\\\\n",
    "P(Y=1,X=0)&=P(Y=1|X=0)*P(X=1)\\\\\n",
    "&= (1-q)*(1-\\beta)\\\\\n",
    "P(Y=0,X=0)&=P(Y=0|X=0)*P(X=0)\\\\\n",
    "&=q*\\beta\n",
    "\\end{align}\n",
    "\n",
    "| P(X=i, Y=j) | j=0 | j=1 |\n",
    "| --- | --- | --- | \n",
    "| i = 0 | q*beta | (1-q)*(1-beta) |\n",
    "| i = 1 | 0 | 1-beta |"
   ]
  },
  {
   "cell_type": "markdown",
   "id": "877393a2",
   "metadata": {},
   "source": [
    "#### Question 3\n",
    "\n",
    "We find:\n",
    "\n",
    "\\begin{align}\n",
    "P(Y=0) &= P(X=0, Y=0) + P(X=1, Y=0)\\\\\n",
    "&= q*\\beta\\\\\n",
    "P(Y=1) &= 1-q*\\beta\\\\\n",
    "\\end{align}\n",
    "\n",
    "As such:\n",
    "\n",
    "\\begin{align}\n",
    "H(Y)&=E[Y]=-\\underset{i=1}{\\overset{n}{\\sum}}p_i\\log p_i\\\\\n",
    "&=-(q\\beta*\\log_2(q\\beta)+(1-q\\beta)*\\log(1-q\\beta))\\\\\n",
    "&= (q\\beta*\\log_2(q\\beta)-(1-q\\beta)*\\log(1-q\\beta)\\\\\n",
    "&=h(q\\beta)\n",
    "\\end{align}"
   ]
  },
  {
   "cell_type": "markdown",
   "id": "95f59943",
   "metadata": {},
   "source": [
    "#### Question 4\n",
    "\n",
    "We find:\n",
    "\n",
    "\\begin{align}\n",
    "H(Y|X=0)&=-\\underset{i=0}{\\overset{1}{\\sum}}P(Y=x_i|X=0)\\log_2 P(Y=y_i|X=0)\\\\\n",
    "&=-P(Y=0|X=0)\\log_2 P(Y=0|X=0)-P(Y=1|X=0)\\log P(Y=1|X=0)\\\\\n",
    "&=-q\\log_2q-(1-q)\\log_2(1-q)\\\\\n",
    "&=h(q)\n",
    "\\end{align}\n",
    "\n",
    "And given $P(Y=1|X=1)=1$:\n",
    "\n",
    "\\begin{align}\n",
    "H(Y|X=1)&=0\\\\\n",
    "&=h(0.5)\n",
    "\\end{align}\n",
    "\n",
    "As such:\n",
    "\n",
    "\\begin{align}\n",
    "H(Y|X) &= \\underset{i=0}{\\overset{1}{\\sum}}P(X=x_i)H(Y|X=x_i)\\\\\n",
    "&= \\beta*h(q) + (1-\\beta)*h(0.5)\\\\\n",
    "&=\\beta*h(q)\n",
    "\\end{align}"
   ]
  },
  {
   "cell_type": "markdown",
   "id": "98f607f6",
   "metadata": {},
   "source": [
    "#### Question 5\n",
    "\n",
    "We recall: $I(X, Y)=H(X) - H(X|Y)$. As such:\n",
    "\n",
    "\\begin{align}\n",
    "I(X, Y)&=H(Y) - H(Y|X)\\\\\n",
    "&= h(q\\beta) - \\beta*h(q)\n",
    "\\end{align}\n",
    "\n"
   ]
  },
  {
   "cell_type": "markdown",
   "id": "4a51f57d",
   "metadata": {},
   "source": [
    "#### Question 6\n",
    "\n",
    "\\begin{align}\n",
    "g(x)&=xh(q)\\Rightarrow \\frac{\\delta}{\\delta x}g(x)=h(q)\\\\\n",
    "g(u)&=h(u)\\Rightarrow \\frac{\\delta}{\\delta x}g(u)=u'h'(u)\\\\\n",
    "\\text{Given $u=qx$ }&\\rightarrow \\frac{\\delta}{\\delta x}h(qx)=qh'(qx)\n",
    "\\end{align}\n",
    "\n",
    "As such we find:\n",
    "\n",
    "\\begin{align}\n",
    "f(x)&=h(qx)-xh(q)\\\\\n",
    "\\frac{\\delta}{\\delta x}f(x)&=qh'(qx)-h(q)\n",
    "\\end{align}"
   ]
  },
  {
   "cell_type": "markdown",
   "id": "c75bb64a",
   "metadata": {},
   "source": [
    "#### Question 7\n",
    "\n",
    "\\begin{align}\n",
    "\\frac{\\delta}{\\delta x}h(x) &= -x\\frac{1}{x}-\\log_2(x)-(-1)*\\log_2(1-x)\\\\\n",
    "&= -\\log_2(x)+\\log_2(1-x)\n",
    "\\end{align}"
   ]
  },
  {
   "cell_type": "markdown",
   "id": "fd7ac7b2",
   "metadata": {},
   "source": [
    "#### Question 8"
   ]
  },
  {
   "cell_type": "markdown",
   "id": "54b396de",
   "metadata": {},
   "source": [
    "#### Question 9\n",
    "\n"
   ]
  },
  {
   "cell_type": "markdown",
   "id": "236c67f8",
   "metadata": {},
   "source": [
    "#### Question 10\n",
    "\n"
   ]
  },
  {
   "cell_type": "markdown",
   "id": "dd11ad26",
   "metadata": {},
   "source": [
    "#### Question 11\n",
    "\n"
   ]
  },
  {
   "cell_type": "markdown",
   "id": "110df7f3",
   "metadata": {},
   "source": [
    "#### Question 12\n",
    "\n"
   ]
  },
  {
   "cell_type": "code",
   "execution_count": null,
   "id": "3ff53965",
   "metadata": {},
   "outputs": [],
   "source": []
  }
 ],
 "metadata": {
  "kernelspec": {
   "display_name": "Python 3",
   "language": "python",
   "name": "python3"
  },
  "language_info": {
   "codemirror_mode": {
    "name": "ipython",
    "version": 3
   },
   "file_extension": ".py",
   "mimetype": "text/x-python",
   "name": "python",
   "nbconvert_exporter": "python",
   "pygments_lexer": "ipython3",
   "version": "3.8.8"
  }
 },
 "nbformat": 4,
 "nbformat_minor": 5
}
