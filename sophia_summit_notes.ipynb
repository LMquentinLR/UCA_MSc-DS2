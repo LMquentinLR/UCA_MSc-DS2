{
 "cells": [
  {
   "cell_type": "markdown",
   "id": "858a13a4",
   "metadata": {},
   "source": [
    "# Sophia Summit Notes\n",
    "\n",
    "*November 17th to 19th*\n",
    "\n",
    "<hr>\n",
    "<hr>\n",
    "<hr>\n",
    "\n",
    "<u>Generic Notes</u>\n",
    "\n",
    "- AI Act to be drafted in April 2022 by the EU/French State -- regulatory aspects? Investment aspects?\n",
    "\n",
    "<u>Terms used</u>\n",
    "\n",
    "- **Frugal AI**: AI compatible with ecological needs (energy consumption)\n",
    "\n",
    "<hr>"
   ]
  },
  {
   "cell_type": "markdown",
   "id": "f8ae76a4",
   "metadata": {},
   "source": [
    "## The European AI Association (EurAi) and the Future of AI \"Made in Europe\"\n",
    "\n",
    "<u>People:</u> Holger Hoos\n",
    "\n",
    "<u>Main message:</u> EurAi attemps to increase the visibility of AI in Europe\n",
    "\n",
    "<u>Notes:</u>\n",
    "\n",
    "- EurAi attemps to increase the visibility of the AI journal `AI communcations`\n",
    "- EU rules and regulation compliance is a first hurdle to having Europe as a combative and innovative AI driver in the world\n",
    "- Driving economic benefits from AI needs the EU to have a broad knowledge, know-how and skill base rather than \"islands of expertise\".\n",
    "\n",
    "<hr>"
   ]
  },
  {
   "cell_type": "markdown",
   "id": "5206629a",
   "metadata": {},
   "source": [
    "## AI tools for patient-tailored catheter ablation of persistent atrial fibrillation\n",
    "\n",
    "<u>People:</u> Vicente Zarzoso\n",
    "\n",
    "<u>Main message:</u> CNN are used for \"ablation site identification\", tensor decompositions for \"non-invasive modeling\". Tensor modeling allows atrial activity estimation, AF complexity quantification linked to CA evolution.\n",
    "\n",
    "<u>Notes:</u>\n",
    "\n",
    "- Analysis relies on signal analysis (ECG): *16 persistent patients, 23082 mapped points (EGM), STD vs non-STD class ratio: 5% (strong imbalance)* \n",
    "- classification of raw multipole EGM (10x2500 matrix)\n",
    "- Dealing with imbalances: undersampling, oversampling, lead shift (shifting the rows of the samples to emulates the rotation of the catheter probe in the patient's heart), time reversing, time shift\n",
    "- ***CNN***: LeNet-5 Transfer Learning\n",
    "- ***Tensor decompositions***:\n",
    "    - Each row of the dataset is mapped onto a ***Hankel matrix*** (replication of a vector along horizontal and vertical axis of a matrix)\n",
    "    - ***block-term tensor decomposition*** (BTD) $\\tau = \\sum E_r \\circ c_r$ with $E$ a Hankel matrix and $x$ a component\n",
    "    - Alternating group lasso (AGL) algorithm\n",
    "    - Quantifying AF cokmplexity: Rank $L_f$ of each tensor block = number of poles of signal model -> Conveys information about signal complexity\n",
    "\n",
    "<hr>"
   ]
  },
  {
   "cell_type": "markdown",
   "id": "35500259",
   "metadata": {},
   "source": [
    "## Mixing IA and deterministic methods for the design of a transfer system for frail people\n",
    "\n",
    "<u>People:</u> Jean-Pierre Merlet\n",
    "\n",
    "<u>Main message:</u> Assistance at home is a major area of research in the healthcare industry with the ageing of the population in developed countries\n",
    "\n",
    "<u>Notes:</u>\n",
    "\n",
    "- Development of a smart transfer system by the use of a cable-driven parallel robot (CDPR)\n",
    "- Relies on the Newton method\n",
    "\n",
    "<hr>"
   ]
  },
  {
   "cell_type": "markdown",
   "id": "b7e924b2",
   "metadata": {},
   "source": [
    "## Multiples inputs neural nets for Medicare fraud detection\n",
    "\n",
    "<u>People:</u> Zoubeirou A Mayaki Mansour\n",
    "\n",
    "<u>Main message:</u> \n",
    "\n",
    "<u>Notes:</u>\n",
    "\n",
    "- about €250m fraud amount per year in France (interests for insurance companies)\n",
    "- Machine Learning fraud detection: \n",
    "    - identification of suspicious patterns and behaviors\n",
    "    - analyse clients current pattern and transaction methods\n",
    "- Centers for Medicare & Medicaid Services (CMS dataset): rich source of data, publicly available\n",
    "\n",
    "<hr>"
   ]
  },
  {
   "cell_type": "markdown",
   "id": "dfeafc7c",
   "metadata": {},
   "source": [
    "## Swarm learning for extremely distributed and privacy-preserving ML-based analytics in healthcare and life science\n",
    "\n",
    "<u>People:</u> De Salvo Edmondo, HP\n",
    "\n",
    "<u>Main message:</u> \n",
    "\n",
    "<u>Notes:</u>\n",
    "\n",
    "- Local -> Centralized -> Federated -> Swarm\n",
    "- Federated learning still has a centralizing element of the parameters being trained locally\n",
    "- Swarm learning has data and parameters being managed locally then shared\n",
    "- Might be implemented via blockchain technology for signage of the parameter updates (sharing or merging)\n",
    "- Swarm learning enables privacy minded learning\n",
    "- Data is not moved or duplicated (goal is to keep privacy and sovereignity\n",
    "\n",
    "<hr>"
   ]
  },
  {
   "cell_type": "markdown",
   "id": "2712e89c",
   "metadata": {},
   "source": [
    "## KEYNOTE: Thinking Fast and Slow in AI\n",
    "\n",
    "<u>People:</u> Francesca Rossi\n",
    "\n",
    "<u>Main message:</u> \n",
    "\n",
    "<u>Notes:</u>\n",
    "\n",
    "- Inspired from Kahneman's theory on Thinking Fast and Slow (System 1 and System 2)\n",
    "- AI can be constructed as an agglomeration of different agents with different roles and reaction times\n",
    "    - system 1 solvers: Relying on past experience and model of the world, O(1), reacting to arrival of new problem, if relevant, generating solution and cofidence\n",
    "    - system 2 solvers: reasoning on a given problem, computational complexity dependent on the input size, meta cognition, solution generation\n",
    "    - model/solver updater: background process as model of the world, self, and others\n",
    "- A model of metacognition would rely on an AI system that can deliberately activate or leave dormant S2 levels processes while having S1 on constantly.\n",
    "- **Multi-Alternative Decision Field Theory**\n",
    "    - MDFT vs RL: MDFT is a very promising model compared to RL with a convergence faster than RL\n",
    "    - NeurIPS Workship on metacognition on December 13th\n",
    "<hr>"
   ]
  },
  {
   "cell_type": "markdown",
   "id": "09cbb083",
   "metadata": {},
   "source": [
    "## Image segmentation with high-level priors \n",
    "\n",
    "<u>People:</u> Anna Kreshuk\n",
    "\n",
    "<u>Main message:</u> One can perform tissue segmentation to detect tissue boundaries.\n",
    "\n",
    "<u>Notes:</u>\n",
    "\n",
    "- implementation of biological priors into a segmentation algorithm (non-differentiable priors and measures)\n",
    "- Stateless actor-critic for instance segmentation wtih high-level priors:\n",
    "    - Uses reinforcement learning\n",
    "    - Put everything non-differentiable into the environment\n",
    "\n",
    "<hr>"
   ]
  },
  {
   "cell_type": "markdown",
   "id": "4a2751a5",
   "metadata": {},
   "source": [
    "## KEYNOTE: UoT Evolutionary Biology - Large-scale bioloical discovery with big data and machine learning\n",
    "\n",
    "<u>People:</u> Alan Moses\n",
    "\n",
    "<u>Main message:</u> Self-supervised learning for biological discovery is a strong area of research with possibly important advantages\n",
    "\n",
    "<u>Notes:</u>\n",
    "- Microscopy image collections: humane protein classification via the Proteome atlas dataset\n",
    "- CytoImageNet (ImageNet-like dataset of microscopy images with labels obtained from metadata)\n",
    "- Unsupervised analysis in the feature space\n",
    "    - Features: paired-cell inpainting, CytoImageNet pretraining\n",
    "    - Covariate shifts: unsupervised change detection in the feature space\n",
    "- Contrastive learning for discovery in biological sequences\n",
    "\n",
    "<hr>"
   ]
  },
  {
   "cell_type": "markdown",
   "id": "01ad9626",
   "metadata": {},
   "source": [
    "## Olfactory receptor ligand prediction via graph neural networks and representation learning\n",
    "\n",
    "<u>People:</u>\n",
    "\n",
    "<u>Main message:</u> Creation of a new model architecture combining the entire protein molecule sequence plus its topology.\n",
    "\n",
    "<u>Notes:</u>\n",
    "- Scalable approach to search for ligands without the need for known receptor's struture\n",
    "\n",
    "<hr>"
   ]
  },
  {
   "cell_type": "markdown",
   "id": "65e98084",
   "metadata": {},
   "source": [
    "## AI adoption in real organizations\n",
    "\n",
    "<u>People:</u> Gans, Joshua\n",
    "\n",
    "<u>Main message:</u> AI enables new decision-making and process-making\n",
    "\n",
    "<u>Notes:</u>\n",
    "- recent AI is about prediction\n",
    "- Restructuring helped by AI: AI allows new decisions by stating new rules\n",
    "- Forecasting allows changing in behaviors\n",
    "- AI has a strong impact on Standard Operation Procedures (SOPs)\n",
    "\n",
    "<hr>"
   ]
  },
  {
   "cell_type": "markdown",
   "id": "d02d12d2",
   "metadata": {},
   "source": [
    "## Evolving Sparse Neural Architectures for Stock Market Forecasting\n",
    "\n",
    "<u>People:</u> Latorre David, K Broekaert\n",
    "\n",
    "<u>Main message:</u>\n",
    "\n",
    "<u>Notes:</u>\n",
    "- Prediction of Stock Index movement\n",
    "    - Model-based on technical indicators: day-ahead prediction of index movement using historical data (learning the relation between a buy signal and a movement)\n",
    "    - Focus on NASDQA over the past 4 years\n",
    "    - issue of choosing time windows for training -> validation -> deployment\n",
    "    - distinct pre-and within-covid trading strategies and movement\n",
    "- Neural architecture Search:\n",
    "    - Looking for sparse/parsimonious architecture\n",
    "    - Candidate architecture: $\\mathcal{X}(\\mathcal{A}, X)$\n",
    "- Results\n",
    "    - two-dimensional swarms: designed to actively look for parsers and less complex problem explainer\n",
    "\n",
    "<hr>"
   ]
  },
  {
   "cell_type": "markdown",
   "id": "81179663",
   "metadata": {},
   "source": [
    "## Multicriteria interpretability driven Deep Learning\n",
    "\n",
    "<u>People:</u> Marco Repetto\n",
    "\n",
    "<u>Main message:</u> Knowledge injection helps drive better results with DL\n",
    "\n",
    "<u>Notes:</u>\n",
    "- An important goal in training DL is to minimize biases of any kind, especially in high stakes judgements.\n",
    "- Black-boxing of DL implementations.\n",
    "- One need to ensure the interpretability of DL models from the beginning through knowledge injection, investigating the potential to the credit risk context\n",
    "    - allow a decision maker to inject previous knowledge and controlling the features' effect\n",
    "    - model non-linear effects and local lacks of knowledge, etc\n",
    "- Injecting knowledge: training data, hypothesis set, learning algorithm, final hypothesis\n",
    "    - physics-guided NN\n",
    "    - conditional-based NN\n",
    "- MIDL: set of methods and processes through which the concern for several conflicting criterian can be explicitely incorporated\n",
    "- approach to credit risk: MLP, ResNet\n",
    "- \n",
    "<hr>"
   ]
  },
  {
   "cell_type": "markdown",
   "id": "4236a8d9",
   "metadata": {},
   "source": [
    "## Innovation and the Asymptotic Rationality of Artificial Intelligence\n",
    "\n",
    "<u>People:</u> David Huber\n",
    "\n",
    "<u>Main message:</u>\n",
    "\n",
    "<u>Notes:</u>\n",
    "- Search requires starting point and goal: two-goal optimization\n",
    "- AI-driven optimization\n",
    "- **Meta-cognition**: known problem -> new solution outside of the previously known space\n",
    "    - Generative mental models (heuristic/means of abstraction).\n",
    "- **enforcing preferences**: known solution -> new problem\n",
    "- **Rapid micro-experimentation**: iterative problem/solution inference\n",
    "=> Pushing the asymptote of what AIs are capable\n",
    "=> Problem solving -> problem definition\n",
    "\n",
    "<hr>"
   ]
  },
  {
   "cell_type": "markdown",
   "id": "82f7294f",
   "metadata": {},
   "source": [
    "## The augmented entrepreneur? The influence of artificial intelligence on human entrepreneurial creativity\n",
    "\n",
    "<u>People:</u> Nathan Sorin\n",
    "\n",
    "<u>Main message:</u>\n",
    "\n",
    "<u>Notes:</u>\n",
    "- one-way between subject experimental design (A/B testing, control groups)\n",
    "- GPT3 model to generate ideas on the goal to create startup ideas to get funded by an incubator\n",
    "- encoding of ideas between outcome, mediator and ovariate variable: movelty, creativity, number of novel, useful and creative ideas, cognitive flexibility, intrinsic motivation, creative personality, entrepreurial knowledge\n",
    "\n",
    "<hr>"
   ]
  },
  {
   "cell_type": "markdown",
   "id": "6d5073d0",
   "metadata": {},
   "source": [
    "## European Strategy in AI\n",
    "\n",
    "<u>People:</u> Lucilla Sioli, Director for AI and Digital Industry, European Commission\n",
    "\n",
    "<u>Main message:</u>\n",
    "\n",
    "<u>Notes:</u>\n",
    "- Statuses of AI:\n",
    "    - **Prohibition** of social scoring\n",
    "    - **High risk AI**: recruitment, medical devices: permitted subject to compliance with AI requirements and ex-ante conformity assessment\n",
    "        - safety components of regulated products (medical devices, machinery)\n",
    "        - biometric identification and categorization of natural persons\n",
    "        - management and operation of critical infrastructure\n",
    "        - education and vocational training\n",
    "        - empoyment and worker management, access to self-emploment\n",
    "        - access to and enjotment of essential, private services and public services and benefits\n",
    "        - law enforcement\n",
    "        - migration, asylum and border management\n",
    "    - **AI with specific transparency obligations**: impersonation (bots) -> permitted but subject to information/transparency obligation\n",
    "    - minimal risk\n",
    "- Checking of high-risk AI: determine whether an AI is high risk -> ensure design and development and quality management systems are in compliance -> conformity assessment procedure -> affix the CE marking -> marketization\n",
    "- requirements: high quality data (train/val/test), documentation, transparency and information, human oversight, robustness, accuracy and cybersecurity\n",
    "- Example: \n",
    "    - BANNED Remote biometric identification (RBI - Title II, art.5, title 3): Use of real-time RBI system for law enforcement(art. 5) is prohibited in publicly accessible spaces with exception (search for victims of crime, threat to life or physical integrity or of terrorism, serious crime), ex-ante authorization by judicial authority or independent administrative body\n",
    "    - Putting on the amrket of RBI systems: ex-ante third party conformity assessment\n",
    "\n",
    "<hr>"
   ]
  },
  {
   "cell_type": "markdown",
   "id": "c13008cc",
   "metadata": {},
   "source": [
    "## Lagrangian control at large and local scales for mixed autonomy traffic flow\n",
    "\n",
    "<u>People:</u> Alexandre Bayen\n",
    "\n",
    "<u>Main message:</u> There is a need to develop ML-based micro-simulation\n",
    "\n",
    "<u>Notes:</u>\n",
    "- Automation has an uncertain impact on the footprint of mobility / 28% of energy consumption in the US corresponds to transporation (autonomous cars might represent -60% to +200% energy consumption)\n",
    "- Traffic control and traffic management relies on forward simulation models (at different scales: energy-based vehicular, microscopic, mesoscopic, macroscopic, etc.).\n",
    "- state of the art microsim: SUMO, Aimsum, etc. to model **congestion** (first model in 1935)\n",
    "- Deep-RL might \n",
    "- FLOW: DL flow framework\n",
    "<hr>"
   ]
  },
  {
   "cell_type": "markdown",
   "id": "c36d0489",
   "metadata": {},
   "source": []
  },
  {
   "cell_type": "markdown",
   "id": "c6a6217e",
   "metadata": {},
   "source": []
  },
  {
   "cell_type": "markdown",
   "id": "2dbacca0",
   "metadata": {},
   "source": [
    "## presentation\n",
    "\n",
    "<u>People:</u>\n",
    "\n",
    "<u>Main message:</u>\n",
    "\n",
    "<u>Notes:</u>\n",
    "- \n",
    "\n",
    "<hr>"
   ]
  },
  {
   "cell_type": "code",
   "execution_count": null,
   "id": "7e361aee",
   "metadata": {},
   "outputs": [],
   "source": []
  }
 ],
 "metadata": {
  "kernelspec": {
   "display_name": "Python 3 (ipykernel)",
   "language": "python",
   "name": "python3"
  },
  "language_info": {
   "codemirror_mode": {
    "name": "ipython",
    "version": 3
   },
   "file_extension": ".py",
   "mimetype": "text/x-python",
   "name": "python",
   "nbconvert_exporter": "python",
   "pygments_lexer": "ipython3",
   "version": "3.9.7"
  }
 },
 "nbformat": 4,
 "nbformat_minor": 5
}
