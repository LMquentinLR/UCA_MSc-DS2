{
 "cells": [
  {
   "cell_type": "markdown",
   "id": "858a13a4",
   "metadata": {},
   "source": [
    "# Sophia Summit Notes\n",
    "\n",
    "*November 17th to 19th*\n",
    "\n",
    "<hr>\n",
    "<hr>\n",
    "<hr>\n",
    "\n",
    "<u>Generic Notes</u>\n",
    "\n",
    "- AI Act to be drafted in April 2022 by the EU/French State -- regulatory aspects? Investment aspects?\n",
    "\n",
    "<u>Terms used</u>\n",
    "\n",
    "- **Frugal AI**: AI compatible with ecological needs (energy consumption)\n",
    "\n",
    "<hr>"
   ]
  },
  {
   "cell_type": "markdown",
   "id": "f8ae76a4",
   "metadata": {},
   "source": [
    "## The European AI Association (EurAi) and the Future of AI \"Made in Europe\"\n",
    "\n",
    "<u>People:</u> Holger Hoos\n",
    "\n",
    "<u>Main message:</u> EurAi attemps to increase the visibility of AI in Europe\n",
    "\n",
    "<u>Notes:</u>\n",
    "\n",
    "- EurAi attemps to increase the visibility of the AI journal `AI communcations`\n",
    "- EU rules and regulation compliance is a first hurdle to having Europe as a combative and innovative AI driver in the world\n",
    "- Driving economic benefits from AI needs the EU to have a broad knowledge, know-how and skill base rather than \"islands of expertise\".\n",
    "\n",
    "<hr>"
   ]
  },
  {
   "cell_type": "markdown",
   "id": "5206629a",
   "metadata": {},
   "source": [
    "## AI tools for patient-tailored catheter ablation of persistent atrial fibrillation\n",
    "\n",
    "<u>People:</u> Vicente Zarzoso\n",
    "\n",
    "<u>Main message:</u> CNN are used for \"ablation site identification\", tensor decompositions for \"non-invasive modeling\". Tensor modeling allows atrial activity estimation, AF complexity quantification linked to CA evolution.\n",
    "\n",
    "<u>Notes:</u>\n",
    "\n",
    "- Analysis relies on signal analysis (ECG): *16 persistent patients, 23082 mapped points (EGM), STD vs non-STD class ratio: 5% (strong imbalance)* \n",
    "- classification of raw multipole EGM (10x2500 matrix)\n",
    "- Dealing with imbalances: undersampling, oversampling, lead shift (shifting the rows of the samples to emulates the rotation of the catheter probe in the patient's heart), time reversing, time shift\n",
    "- ***CNN***: LeNet-5 Transfer Learning\n",
    "- ***Tensor decompositions***:\n",
    "    - Each row of the dataset is mapped onto a ***Hankel matrix*** (replication of a vector along horizontal and vertical axis of a matrix)\n",
    "    - ***block-term tensor decomposition*** (BTD) $\\tau = \\sum E_r \\circ c_r$ with $E$ a Hankel matrix and $x$ a component\n",
    "    - Alternating group lasso (AGL) algorithm\n",
    "    - Quantifying AF cokmplexity: Rank $L_f$ of each tensor block = number of poles of signal model -> Conveys information about signal complexity\n",
    "\n",
    "<hr>"
   ]
  },
  {
   "cell_type": "markdown",
   "id": "35500259",
   "metadata": {},
   "source": [
    "## Mixing IA and deterministic methods for the design of a transfer system for frail people\n",
    "\n",
    "<u>People:</u> Jean-Pierre Merlet\n",
    "\n",
    "<u>Main message:</u> Assistance at home is a major area of research in the healthcare industry with the ageing of the population in developed countries\n",
    "\n",
    "<u>Notes:</u>\n",
    "\n",
    "- Development of a smart transfer system by the use of a cable-driven parallel robot (CDPR)\n",
    "- Relies on the Newton method\n",
    "\n",
    "<hr>"
   ]
  },
  {
   "cell_type": "markdown",
   "id": "b7e924b2",
   "metadata": {},
   "source": [
    "## Multiples inputs neural nets for Medicare fraud detection\n",
    "\n",
    "<u>People:</u> Zoubeirou A Mayaki Mansour\n",
    "\n",
    "<u>Main message:</u> \n",
    "\n",
    "<u>Notes:</u>\n",
    "\n",
    "- about €250m fraud amount per year in France (interests for insurance companies)\n",
    "- Machine Learning fraud detection: \n",
    "    - identification of suspicious patterns and behaviors\n",
    "    - analyse clients current pattern and transaction methods\n",
    "- Centers for Medicare & Medicaid Services (CMS dataset): rich source of data, publicly available\n",
    "\n",
    "<hr>"
   ]
  },
  {
   "cell_type": "markdown",
   "id": "dfeafc7c",
   "metadata": {},
   "source": [
    "## Swarm learning for extremely distributed and privacy-preserving ML-based analytics in healthcare and life science\n",
    "\n",
    "<u>People:</u> De Salvo Edmondo, HP\n",
    "\n",
    "<u>Main message:</u> \n",
    "\n",
    "<u>Notes:</u>\n",
    "\n",
    "- Local -> Centralized -> Federated -> Swarm\n",
    "- Federated learning still has a centralizing element of the parameters being trained locally\n",
    "- Swarm learning has data and parameters being managed locally then shared\n",
    "- Might be implemented via blockchain technology for signage of the parameter updates (sharing or merging)\n",
    "- Swarm learning enables privacy minded learning\n",
    "- Data is not moved or duplicated (goal is to keep privacy and sovereignity\n",
    "\n",
    "<hr>"
   ]
  },
  {
   "cell_type": "markdown",
   "id": "2712e89c",
   "metadata": {},
   "source": [
    "## KEYNOTE: Thinking Fast and Slow in AI\n",
    "\n",
    "<u>People:</u> Francesca Rossi\n",
    "\n",
    "<u>Main message:</u> \n",
    "\n",
    "<u>Notes:</u>\n",
    "\n",
    "- Inspired from Kahneman's theory on Thinking Fast and Slow (System 1 and System 2)\n",
    "- AI can be constructed as an agglomeration of different agents with different roles and reaction times\n",
    "    - system 1 solvers: Relying on past experience and model of the world, O(1), reacting to arrival of new problem, if relevant, generating solution and cofidence\n",
    "    - system 2 solvers: reasoning on a given problem, computational complexity dependent on the input size, meta cognition, solution generation\n",
    "    - model/solver updater: background process as model of the world, self, and others\n",
    "- A model of metacognition would rely on an AI system that can deliberately activate or leave dormant S2 levels processes while having S1 on constantly.\n",
    "- **Multi-Alternative Decision Field Theory**\n",
    "    - MDFT vs RL: MDFT is a very promising model compared to RL with a convergence faster than RL\n",
    "    - NeurIPS Workship on metacognition on December 13th\n",
    "<hr>"
   ]
  },
  {
   "cell_type": "markdown",
   "id": "c36d0489",
   "metadata": {},
   "source": []
  },
  {
   "cell_type": "markdown",
   "id": "c6a6217e",
   "metadata": {},
   "source": []
  },
  {
   "cell_type": "markdown",
   "id": "f088444e",
   "metadata": {},
   "source": [
    "## presentation\n",
    "\n",
    "<u>People:</u>\n",
    "\n",
    "<u>Main message:</u>\n",
    "\n",
    "<u>Notes:</u>\n",
    "\n",
    "- \n",
    "\n",
    "<hr>"
   ]
  },
  {
   "cell_type": "code",
   "execution_count": null,
   "id": "7e361aee",
   "metadata": {},
   "outputs": [],
   "source": []
  }
 ],
 "metadata": {
  "kernelspec": {
   "display_name": "Python 3",
   "language": "python",
   "name": "python3"
  },
  "language_info": {
   "codemirror_mode": {
    "name": "ipython",
    "version": 3
   },
   "file_extension": ".py",
   "mimetype": "text/x-python",
   "name": "python",
   "nbconvert_exporter": "python",
   "pygments_lexer": "ipython3",
   "version": "3.8.8"
  }
 },
 "nbformat": 4,
 "nbformat_minor": 5
}
