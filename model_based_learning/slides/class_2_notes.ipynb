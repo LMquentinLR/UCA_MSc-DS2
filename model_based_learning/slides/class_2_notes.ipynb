{
 "cells": [
  {
   "cell_type": "markdown",
   "id": "25d2e544",
   "metadata": {},
   "source": [
    "# Model-Based Statistical Learning\n",
    "\n",
    "***class 2, on Linear Discriminant Analysis***"
   ]
  },
  {
   "cell_type": "markdown",
   "id": "439ee495",
   "metadata": {},
   "source": [
    "We distinguish two types of models:\n",
    "- Generative (e.g. Linear Discriminant Analysis), builds models for a joint distribution $p(x, t)$ (*everytime $X$ is modeled, it is generative*)\n",
    "- Discriminative (e.g. logistic regression), builds models for a conditional distribution $p(x|t)$ (*modeling $p(x)$ is not important*)\n",
    "\n",
    "**example**: LDA, QDA are generative models as they model $p(x)$, as they assume gaussian-ness.\n",
    "\n",
    "Both make the assumption that the data are IID realisations of a random variable $(x, t)$ such that:"
   ]
  },
  {
   "cell_type": "markdown",
   "id": "39842e58",
   "metadata": {},
   "source": [
    "\\begin{align}\n",
    "x\\in\\mathbb{R}^d&, \\text{input vector containing features}\\\\\n",
    "\\mathcal{X}&, \\text{input space}\\\\\n",
    "t_n&, \\text{the class of } x_n\\\\\n",
    "\\{x_n,t_n\\}_{n \\le N}&, \\text{realizations}\n",
    "\\end{align}"
   ]
  }
 ],
 "metadata": {
  "kernelspec": {
   "display_name": "Python 3 (ipykernel)",
   "language": "python",
   "name": "python3"
  },
  "language_info": {
   "codemirror_mode": {
    "name": "ipython",
    "version": 3
   },
   "file_extension": ".py",
   "mimetype": "text/x-python",
   "name": "python",
   "nbconvert_exporter": "python",
   "pygments_lexer": "ipython3",
   "version": "3.9.7"
  }
 },
 "nbformat": 4,
 "nbformat_minor": 5
}
