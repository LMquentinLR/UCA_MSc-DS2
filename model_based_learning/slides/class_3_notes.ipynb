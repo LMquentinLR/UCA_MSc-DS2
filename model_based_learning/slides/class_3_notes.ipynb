{
 "cells": [
  {
   "cell_type": "markdown",
   "id": "25d2e544",
   "metadata": {},
   "source": [
    "# Model-Based Statistical Learning\n",
    "\n",
    "***class 3***"
   ]
  },
  {
   "cell_type": "markdown",
   "id": "5bbcaf19",
   "metadata": {},
   "source": [
    "Model-based statistical learning techniques are a subset of methods that **assumes a statistical model that is supposed to have generated the data**.\n",
    "\n",
    "Among those model-based statistical learning, we can cite:\n",
    "\n",
    "- linear model for regression\n",
    "- logistic regression\n",
    "- LDA/QDA\n",
    "- Probabilistic PCA\n",
    "- T-SNE\n",
    "\n",
    "## The place of M.B. statistical learning among the stat./ML field.\n",
    "\n",
    "Model-based statistical learning methods are generally older than ML. \n",
    "\n",
    "M.B. represent a large part of modern machine learning, in particular because the most popular methods are now quite old.\n",
    "\n",
    "| Statistical Learning  | Machine Learning |\n",
    "|--- |--- |\n",
    "| 1936, LDA (Ronald Fisher) | 1980 (1956), Neural Networks |\n",
    "| 1960s, Logistic Regression| 1990, SVM |\n",
    "| 1965, K-Means | 1998, ConvNets |\n",
    "| 1979, Expectation-Maximization algorithm for clustering |  | \n",
    "| ... | ... |"
   ]
  },
  {
   "cell_type": "markdown",
   "id": "5ef89c8a",
   "metadata": {},
   "source": [
    "## Generative vs. Discriminative Techniques\n",
    "\n",
    "Terms encountered in the statistical learning literature.\n",
    "\n",
    "### Generative\n",
    "\n",
    "> There is a model that is supposed to have generated the data (<span style=\"color:red\">model-based</span>)\n",
    "\n",
    "### Discriminative\n",
    "\n",
    "> The model is not important, the methods aim at directly modelling the classification boundaries\n",
    "\n",
    "### Why is model-based learning interesting?\n",
    "\n",
    "1. **Interpretability of studied phenomena**: Models are usually understandable, providing a comfortable \"summary\" of the dataset as a generative process -- appealing to researchers/analysts.\n",
    "\n",
    "2. **Probability output**: Models provide probabilistic outputs, which provide more knowledge on the prediction risk.\n",
    "\n",
    "3. **Pick and choose approach**: The use of model-based methods offers the possibility to rely on model selection to select the most appropriate model for the data\n",
    "\n",
    "4. **Extensibility**: Most MB techniques can be expanded to adapt to the complexity of the problem at hand"
   ]
  },
  {
   "cell_type": "markdown",
   "id": "00261cb0",
   "metadata": {},
   "source": [
    "## Clustering\n",
    "\n",
    "$$\\text{Classification: }(X, y) \\overset{\\text{learning}}{\\rightarrow} f_{\\hat{\\theta}}: x^* \\overset{\\text{predict}}{\\rightarrow} f_{\\hat{\\theta}}(x^*)=\\hat{z}^*$$\n",
    "\n",
    "$$\\text{Clustering: }(X) \\overset{\\text{learning}}{\\rightarrow} f_{\\hat{\\theta}}\\rightarrow \\hat{z} = f_{\\hat{\\theta}}(x)$$\n",
    "\n",
    "The task of clustering consistes in forming groups only from the data $X$\n",
    "\n",
    "<u>**Definition:**</u> The goal of clustering to form $K$ homogneous groups of data such that:\n",
    "- the data of a group should be similar\n",
    "- the data of different groups should be different\n",
    "\n",
    "Even though the clustering task is simple, the general problem is hard (NP-hard) as it is a **combinatorial problem**. \n",
    "\n",
    "It is usually not possible to test in any reasonable time all possible configuration for $n >> 10$ and $k>>2$.\n",
    "\n",
    "### The need for a clustering algorithm\n",
    "\n",
    "The need for an algorithm is needed to approximate the best configuration.\n",
    "\n",
    "<u>Examples:</u> \n",
    "- **not model-based**: k-means, adaboost, hierarchical, spectral clustering\n",
    "- **model-based**: <span style=\"color:red\">EM algorithm for mixture models</span>"
   ]
  },
  {
   "cell_type": "markdown",
   "id": "b7a510b2",
   "metadata": {},
   "source": [
    "<hr>\n",
    "\n",
    "# Mixture Models\n",
    "\n",
    "<u>**Definition**:</u> Class of statistical models that assumes the following distributions:\n",
    "$$\\mathbb{P}(x) = \\overset{K}{\\underset{k=1}{\\sum}}\\Pi_k\\mathbb{P}_k(x)$$\n",
    "Where:\n",
    "> $\\mathbb{P}_k$ is a certain probability densition function, and $\\Pi_k\\in[0,1]$ such that $\\overset{K}{\\underset{k=1}{\\sum}}\\Pi_k=1$.\n",
    "\n",
    "Then:\n",
    "> $\\mathbb{P}(x)$ is also a probability density function also called a **mixture distribution**.\n",
    "\n",
    "<u>Example:</u> The following distributions belong to the mixture family:\n",
    "$$\\mathbb{P}(x) = 0.4\\mathcal{N}(x; 1, 1) + 0.6\\mathcal{N}(x; 2, 1)$$\n",
    "\n",
    "$$\\mathbb{P}(x) = 0.1\\mathcal{N}(x; 1, 1) + 0.7\\mathcal{U}_{[0, 1]}(x) + 0.2\\,{Gamma}(x; 1)$$\n",
    "\n",
    "> <span style=\"color:red\">**The LDA is a Gaussian Mixture Model**</span>."
   ]
  }
 ],
 "metadata": {
  "kernelspec": {
   "display_name": "Python 3",
   "language": "python",
   "name": "python3"
  },
  "language_info": {
   "codemirror_mode": {
    "name": "ipython",
    "version": 3
   },
   "file_extension": ".py",
   "mimetype": "text/x-python",
   "name": "python",
   "nbconvert_exporter": "python",
   "pygments_lexer": "ipython3",
   "version": "3.8.8"
  }
 },
 "nbformat": 4,
 "nbformat_minor": 5
}
