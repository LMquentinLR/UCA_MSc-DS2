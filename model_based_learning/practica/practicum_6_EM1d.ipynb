{
 "cells": [
  {
   "cell_type": "markdown",
   "id": "8237c171",
   "metadata": {},
   "source": [
    "# EM Algorithm in 1D\n",
    "\n",
    "Let'start with a bunch of fake data points."
   ]
  },
  {
   "cell_type": "code",
   "execution_count": 15,
   "id": "24ebb732",
   "metadata": {},
   "outputs": [],
   "source": [
    "x = matrix(nrow = 200)\n",
    "x[1:50] = rnorm(n=50, mean=3)\n",
    "x[51:200] = rnorm(n=50, mean=-3)"
   ]
  },
  {
   "cell_type": "code",
   "execution_count": 16,
   "id": "6d50ab9f",
   "metadata": {},
   "outputs": [
    {
     "data": {
      "image/png": "[encoded data removed]",
      "text/plain": [
       "Plot with title “Histogram of x”"
      ]
     },
     "metadata": {
      "image/png": {
       "height": 420,
       "width": 420
      }
     },
     "output_type": "display_data"
    }
   ],
   "source": [
    "hist(x)"
   ]
  },
  {
   "cell_type": "markdown",
   "id": "a44c1d50",
   "metadata": {},
   "source": [
    "## Implementation of the EM Algorithm in 1D\n",
    "\n",
    "### Initialization of the parameters"
   ]
  },
  {
   "cell_type": "code",
   "execution_count": 17,
   "id": "7c85c10f",
   "metadata": {},
   "outputs": [],
   "source": [
    "n = length(x)\n",
    "\n",
    "K = 2 \n",
    "\n",
    "# Initalizes the parameters \\theta^0\n",
    "mu = rnorm(K, mean(x), sd=1)\n",
    "prop = rep(1/K, K)\n",
    "sigma = rep(1, K)\n",
    "gamma = matrix(NA, n, K)"
   ]
  },
  {
   "cell_type": "code",
   "execution_count": 18,
   "id": "ee746346",
   "metadata": {},
   "outputs": [
    {
     "name": "stdout",
     "output_type": "stream",
     "text": [
      "[1] -1.88541662 -0.01870914\n"
     ]
    }
   ],
   "source": [
    "print(mu)"
   ]
  },
  {
   "cell_type": "markdown",
   "id": "95adc8ec",
   "metadata": {},
   "source": [
    "### Computation of the initial log-likelihood\n",
    "\n",
    "$$\\mathcal{l} = \\sum_{i=1}^N \\log\\left(\\sum_{k=1}^K \\pi_k\\mathcal{N}(x_i|\\mu_k, \\Sigma_k)\\right)$$"
   ]
  },
  {
   "cell_type": "code",
   "execution_count": 19,
   "id": "3919d15c",
   "metadata": {},
   "outputs": [],
   "source": [
    "normalise <- function (x) {\n",
    "  logratio = log(x) - logsumexp(log(x))\n",
    "  exp(logratio)\n",
    "}\n",
    "\n",
    "logsumexp <- function (x) {\n",
    "  y = max(x)\n",
    "  y + log(sum(exp(x - y)))\n",
    "}\n",
    "\n",
    "loglikelihood <- function(x, K, prop, mu, sigma) {\n",
    "    llh = 0\n",
    "    for (k in 1:K){\n",
    "        llh = llh + prop[k] * dnorm(x, mu[k], sigma[k])\n",
    "    }\n",
    "    sum(log(llh))\n",
    "}"
   ]
  },
  {
   "cell_type": "code",
   "execution_count": 20,
   "id": "40450847",
   "metadata": {},
   "outputs": [
    {
     "data": {
      "text/html": [
       "-750.951624079216"
      ],
      "text/latex": [
       "-750.951624079216"
      ],
      "text/markdown": [
       "-750.951624079216"
      ],
      "text/plain": [
       "[1] -750.9516"
      ]
     },
     "metadata": {},
     "output_type": "display_data"
    }
   ],
   "source": [
    "loglikelihood(x, K, prop, mu, sigma)"
   ]
  },
  {
   "cell_type": "markdown",
   "id": "4df1d6bd",
   "metadata": {},
   "source": [
    "However, for optimization purposes it is either to compute gamma first (specifically its log)."
   ]
  },
  {
   "cell_type": "code",
   "execution_count": 21,
   "id": "0af20b58",
   "metadata": {},
   "outputs": [],
   "source": [
    "log_gamma_numerator <- function(n, K, x, prop, mu, sigma) {\n",
    "    lgn = matrix(nrow=n, ncol=K)\n",
    "    for (k in 1:K){\n",
    "        lgn[,k] = log(prop[k]) + dnorm(x,mu[k],sigma[k],log=TRUE)\n",
    "    }    \n",
    "    return(lgn)\n",
    "}"
   ]
  },
  {
   "cell_type": "code",
   "execution_count": 22,
   "id": "13bd0a66",
   "metadata": {},
   "outputs": [],
   "source": [
    "lgn = log_gamma_numerator(n, K, x, prop, mu, sigma)\n",
    "lgn = lgn - apply(lgn, 1, logsumexp)"
   ]
  },
  {
   "cell_type": "code",
   "execution_count": 23,
   "id": "b5538011",
   "metadata": {},
   "outputs": [
    {
     "data": {
      "text/html": [
       "-750.951624079216"
      ],
      "text/latex": [
       "-750.951624079216"
      ],
      "text/markdown": [
       "-750.951624079216"
      ],
      "text/plain": [
       "[1] -750.9516"
      ]
     },
     "metadata": {},
     "output_type": "display_data"
    }
   ],
   "source": [
    "sum(apply(log_gamma_numerator(n, K, x, prop, mu, sigma), 1, logsumexp))"
   ]
  },
  {
   "cell_type": "markdown",
   "id": "6889cb65",
   "metadata": {},
   "source": [
    "### Charles Bouveyron's code"
   ]
  },
  {
   "cell_type": "code",
   "execution_count": 28,
   "id": "eb5f3527",
   "metadata": {},
   "outputs": [],
   "source": [
    "em1d <- function(n,K,x,prop,mu,sigma,max_it=50){\n",
    "  for (i in 1:max_it){\n",
    "    # E step\n",
    "    lgn = log_gamma_numerator(n, K, x, prop, mu, sigma)\n",
    "    ## normalize each line of gamma\n",
    "    log_gamma = lgn - apply(lgn, 1, logsumexp)\n",
    "    gamma = exp(log_gamma)\n",
    "    # M step\n",
    "    for (k in 1:K){\n",
    "      nk = sum(gamma[,k])\n",
    "      prop[k] = nk / n\n",
    "      mu[k] = sum(gamma[,k]*x) / nk\n",
    "      sigma[k] = sqrt(sum(gamma[,k]*(x-mu[k])^2) / nk)\n",
    "    }\n",
    "    \n",
    "    # plot of the data and the means\n",
    "    \n",
    "    print(mu)\n",
    "      \n",
    "    # Evaluate the log-likelihood\n",
    "    \n",
    "    log_likelihood = sum(apply(lgn, 1, logsumexp))\n",
    "    print(log_likelihood)\n",
    "      \n",
    "  }\n",
    "  \n",
    "  # Compute BIC\n",
    "  \n",
    "  # Return the results\n",
    "  #list(gamma,prop,mu,sigma)\n",
    "}"
   ]
  },
  {
   "cell_type": "code",
   "execution_count": 29,
   "id": "8cdbaed1",
   "metadata": {},
   "outputs": [
    {
     "name": "stdout",
     "output_type": "stream",
     "text": [
      "[1] -3.106690  2.460627\n",
      "[1] -750.9516\n",
      "[1] -3.074037  2.938939\n",
      "[1] -398.1064\n",
      "[1] -3.059365  3.141933\n",
      "[1] -384.2021\n",
      "[1] -3.058789  3.147948\n",
      "[1] -377.4504\n",
      "[1] -3.058788  3.147951\n",
      "[1] -377.4357\n",
      "[1] -3.058788  3.147951\n",
      "[1] -377.4357\n",
      "[1] -3.058788  3.147951\n",
      "[1] -377.4357\n",
      "[1] -3.058788  3.147951\n",
      "[1] -377.4357\n",
      "[1] -3.058788  3.147951\n",
      "[1] -377.4357\n",
      "[1] -3.058788  3.147951\n",
      "[1] -377.4357\n",
      "[1] -3.058788  3.147951\n",
      "[1] -377.4357\n",
      "[1] -3.058788  3.147951\n",
      "[1] -377.4357\n",
      "[1] -3.058788  3.147951\n",
      "[1] -377.4357\n",
      "[1] -3.058788  3.147951\n",
      "[1] -377.4357\n",
      "[1] -3.058788  3.147951\n",
      "[1] -377.4357\n",
      "[1] -3.058788  3.147951\n",
      "[1] -377.4357\n",
      "[1] -3.058788  3.147951\n",
      "[1] -377.4357\n",
      "[1] -3.058788  3.147951\n",
      "[1] -377.4357\n",
      "[1] -3.058788  3.147951\n",
      "[1] -377.4357\n",
      "[1] -3.058788  3.147951\n",
      "[1] -377.4357\n",
      "[1] -3.058788  3.147951\n",
      "[1] -377.4357\n",
      "[1] -3.058788  3.147951\n",
      "[1] -377.4357\n",
      "[1] -3.058788  3.147951\n",
      "[1] -377.4357\n",
      "[1] -3.058788  3.147951\n",
      "[1] -377.4357\n",
      "[1] -3.058788  3.147951\n",
      "[1] -377.4357\n",
      "[1] -3.058788  3.147951\n",
      "[1] -377.4357\n",
      "[1] -3.058788  3.147951\n",
      "[1] -377.4357\n",
      "[1] -3.058788  3.147951\n",
      "[1] -377.4357\n",
      "[1] -3.058788  3.147951\n",
      "[1] -377.4357\n",
      "[1] -3.058788  3.147951\n",
      "[1] -377.4357\n",
      "[1] -3.058788  3.147951\n",
      "[1] -377.4357\n",
      "[1] -3.058788  3.147951\n",
      "[1] -377.4357\n",
      "[1] -3.058788  3.147951\n",
      "[1] -377.4357\n",
      "[1] -3.058788  3.147951\n",
      "[1] -377.4357\n",
      "[1] -3.058788  3.147951\n",
      "[1] -377.4357\n",
      "[1] -3.058788  3.147951\n",
      "[1] -377.4357\n",
      "[1] -3.058788  3.147951\n",
      "[1] -377.4357\n",
      "[1] -3.058788  3.147951\n",
      "[1] -377.4357\n",
      "[1] -3.058788  3.147951\n",
      "[1] -377.4357\n",
      "[1] -3.058788  3.147951\n",
      "[1] -377.4357\n",
      "[1] -3.058788  3.147951\n",
      "[1] -377.4357\n",
      "[1] -3.058788  3.147951\n",
      "[1] -377.4357\n",
      "[1] -3.058788  3.147951\n",
      "[1] -377.4357\n",
      "[1] -3.058788  3.147951\n",
      "[1] -377.4357\n",
      "[1] -3.058788  3.147951\n",
      "[1] -377.4357\n",
      "[1] -3.058788  3.147951\n",
      "[1] -377.4357\n",
      "[1] -3.058788  3.147951\n",
      "[1] -377.4357\n",
      "[1] -3.058788  3.147951\n",
      "[1] -377.4357\n",
      "[1] -3.058788  3.147951\n",
      "[1] -377.4357\n",
      "[1] -3.058788  3.147951\n",
      "[1] -377.4357\n"
     ]
    }
   ],
   "source": [
    "em1d(n,K,x,prop,mu,sigma,max_it=50)"
   ]
  },
  {
   "cell_type": "code",
   "execution_count": null,
   "id": "9a343664",
   "metadata": {},
   "outputs": [],
   "source": []
  }
 ],
 "metadata": {
  "kernelspec": {
   "display_name": "R",
   "language": "R",
   "name": "ir"
  },
  "language_info": {
   "codemirror_mode": "r",
   "file_extension": ".r",
   "mimetype": "text/x-r-source",
   "name": "R",
   "pygments_lexer": "r",
   "version": "4.1.1"
  }
 },
 "nbformat": 4,
 "nbformat_minor": 5
}
