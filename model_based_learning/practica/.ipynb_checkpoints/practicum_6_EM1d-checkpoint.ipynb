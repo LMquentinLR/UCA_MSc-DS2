{
 "cells": [
  {
   "cell_type": "markdown",
   "id": "8237c171",
   "metadata": {},
   "source": [
    "# EM Algorithm in 1D\n",
    "\n",
    "Let'start with a bunch of fake data points."
   ]
  },
  {
   "cell_type": "code",
   "execution_count": 1,
   "id": "24ebb732",
   "metadata": {},
   "outputs": [],
   "source": [
    "x = matrix(nrow = 200)\n",
    "x[1:50] = rnorm(n=50, mean=3)\n",
    "x[51:200] = rnorm(n=50, mean=-3)"
   ]
  },
  {
   "cell_type": "code",
   "execution_count": 2,
   "id": "6d50ab9f",
   "metadata": {},
   "outputs": [
    {
     "data": {
      "image/png": "[encoded data removed]",
      "text/plain": [
       "Plot with title “Histogram of x”"
      ]
     },
     "metadata": {
      "image/png": {
       "height": 420,
       "width": 420
      }
     },
     "output_type": "display_data"
    }
   ],
   "source": [
    "hist(x)"
   ]
  },
  {
   "cell_type": "markdown",
   "id": "a44c1d50",
   "metadata": {},
   "source": [
    "## Implementation of the EM Algorithm in 1D\n",
    "\n",
    "### Initialization of the parameters"
   ]
  },
  {
   "cell_type": "code",
   "execution_count": 3,
   "id": "7c85c10f",
   "metadata": {},
   "outputs": [],
   "source": [
    "n = length(x)\n",
    "\n",
    "K = 2 \n",
    "\n",
    "# Initalizes the parameters \\theta^0\n",
    "mu = rnorm(K, mean(x), sd=1)\n",
    "prop = rep(1/K, K)\n",
    "sigma = rep(1, K)\n",
    "gamma = matrix(NA, n, K)"
   ]
  },
  {
   "cell_type": "code",
   "execution_count": 4,
   "id": "ee746346",
   "metadata": {},
   "outputs": [
    {
     "name": "stdout",
     "output_type": "stream",
     "text": [
      "[1] -1.497112 -2.016889\n"
     ]
    }
   ],
   "source": [
    "print(mu)"
   ]
  },
  {
   "cell_type": "markdown",
   "id": "95adc8ec",
   "metadata": {},
   "source": [
    "### Computation of the initial log-likelihood\n",
    "\n",
    "$$\\mathcal{l} = \\sum_{i=1}^N \\log\\left(\\sum_{k=1}^K \\pi_k\\mathcal{N}(x_i|\\mu_k, \\Sigma_k)\\right)$$"
   ]
  },
  {
   "cell_type": "code",
   "execution_count": 5,
   "id": "3919d15c",
   "metadata": {},
   "outputs": [],
   "source": [
    "normalise <- function (x) {\n",
    "  logratio = log(x) - logsumexp(log(x))\n",
    "  exp(logratio)\n",
    "}\n",
    "\n",
    "logsumexp <- function (x) {\n",
    "  y = max(x)\n",
    "  y + log(sum(exp(x - y)))\n",
    "}\n",
    "\n",
    "loglikelihood <- function(x, K, prop, mu, sigma) {\n",
    "    llh = 0\n",
    "    for (k in 1:K){\n",
    "        llh = llh + prop[k] * dnorm(x, mu[k], sigma[k])\n",
    "    }\n",
    "    sum(log(llh))\n",
    "}"
   ]
  },
  {
   "cell_type": "code",
   "execution_count": 6,
   "id": "40450847",
   "metadata": {},
   "outputs": [
    {
     "data": {
      "text/html": [
       "-891.499679622247"
      ],
      "text/latex": [
       "-891.499679622247"
      ],
      "text/markdown": [
       "-891.499679622247"
      ],
      "text/plain": [
       "[1] -891.4997"
      ]
     },
     "metadata": {},
     "output_type": "display_data"
    }
   ],
   "source": [
    "loglikelihood(x, K, prop, mu, sigma)"
   ]
  },
  {
   "cell_type": "markdown",
   "id": "4df1d6bd",
   "metadata": {},
   "source": [
    "However, for optimization purposes it is either to compute gamma first (specifically its log)."
   ]
  },
  {
   "cell_type": "code",
   "execution_count": 7,
   "id": "0af20b58",
   "metadata": {},
   "outputs": [],
   "source": [
    "log_gamma_numerator <- function(n, K, x, prop, mu, sigma) {\n",
    "    lgn = matrix(nrow=n, ncol=K)\n",
    "    for (k in 1:K){\n",
    "        lgn[,k] = log(prop[k]) + dnorm(x,mu[k],sigma[k],log=TRUE)\n",
    "    }    \n",
    "    return(lgn)\n",
    "}"
   ]
  },
  {
   "cell_type": "code",
   "execution_count": 8,
   "id": "13bd0a66",
   "metadata": {},
   "outputs": [],
   "source": [
    "lgn = log_gamma_numerator(n, K, x, prop, mu, sigma)\n",
    "lgn = lgn - apply(lgn, 1, logsumexp)"
   ]
  },
  {
   "cell_type": "code",
   "execution_count": 9,
   "id": "b5538011",
   "metadata": {},
   "outputs": [
    {
     "data": {
      "text/html": [
       "-891.499679622247"
      ],
      "text/latex": [
       "-891.499679622247"
      ],
      "text/markdown": [
       "-891.499679622247"
      ],
      "text/plain": [
       "[1] -891.4997"
      ]
     },
     "metadata": {},
     "output_type": "display_data"
    }
   ],
   "source": [
    "sum(apply(log_gamma_numerator(n, K, x, prop, mu, sigma), 1, logsumexp))"
   ]
  },
  {
   "cell_type": "markdown",
   "id": "6889cb65",
   "metadata": {},
   "source": [
    "### Charles Bouveyron's code"
   ]
  },
  {
   "cell_type": "code",
   "execution_count": 10,
   "id": "eb5f3527",
   "metadata": {},
   "outputs": [],
   "source": [
    "em1d <- function(n,K,x,prop,mu,sigma,max_it=50){\n",
    "  for (i in 1:max_it){\n",
    "    # E step\n",
    "    lgn = log_gamma_numerator(n, K, x, prop, mu, sigma)\n",
    "    ## normalize each line of gamma\n",
    "    log_gamma = lgn - apply(lgn, 1, logsumexp)\n",
    "    gamma = exp(log_gamma)\n",
    "    # M step\n",
    "    for (k in 1:K){\n",
    "      nk = sum(gamma[,k])\n",
    "      prop[k] = nk / n\n",
    "      mu[k] = sum(gamma[,k]*x) / nk\n",
    "      sigma[k] = sqrt(sum(gamma[,k]*(x-mu[k])^2) / nk)\n",
    "    }\n",
    "    \n",
    "    # plot of the data and the means\n",
    "    \n",
    "    print(mu)\n",
    "      \n",
    "    # Evaluate the log-likelihood\n",
    "    \n",
    "    log_likelihood = sum(apply(lgn, 1, logsumexp))\n",
    "    print(log_likelihood)\n",
    "      \n",
    "  }\n",
    "  \n",
    "  # Compute BIC\n",
    "  \n",
    "  # Return the results\n",
    "  #list(gamma,prop,mu,sigma)\n",
    "}"
   ]
  },
  {
   "cell_type": "code",
   "execution_count": 11,
   "id": "8cdbaed1",
   "metadata": {},
   "outputs": [
    {
     "name": "stdout",
     "output_type": "stream",
     "text": [
      "[1] -0.1625941 -2.9629591\n",
      "[1] -891.4997\n",
      "[1]  0.3410069 -3.1067742\n",
      "[1] -442.9584\n",
      "[1]  0.8493036 -3.1045465\n",
      "[1] -412.5364\n",
      "[1]  1.227383 -3.099795\n",
      "[1] -407.1526\n",
      "[1]  1.572998 -3.105815\n",
      "[1] -404.9231\n",
      "[1]  1.946402 -3.114277\n",
      "[1] -402.3974\n",
      "[1]  2.349222 -3.113674\n",
      "[1] -398.2947\n",
      "[1]  2.690017 -3.099457\n",
      "[1] -391.093\n",
      "[1]  2.812577 -3.090020\n",
      "[1] -382.1869\n",
      "[1]  2.818338 -3.089322\n",
      "[1] -380.1298\n",
      "[1]  2.818419 -3.089302\n",
      "[1] -380.1234\n",
      "[1]  2.818420 -3.089301\n",
      "[1] -380.1234\n",
      "[1]  2.818420 -3.089301\n",
      "[1] -380.1234\n",
      "[1]  2.818420 -3.089301\n",
      "[1] -380.1234\n",
      "[1]  2.818420 -3.089301\n",
      "[1] -380.1234\n",
      "[1]  2.818420 -3.089301\n",
      "[1] -380.1234\n",
      "[1]  2.818420 -3.089301\n",
      "[1] -380.1234\n",
      "[1]  2.818420 -3.089301\n",
      "[1] -380.1234\n",
      "[1]  2.818420 -3.089301\n",
      "[1] -380.1234\n",
      "[1]  2.818420 -3.089301\n",
      "[1] -380.1234\n",
      "[1]  2.818420 -3.089301\n",
      "[1] -380.1234\n",
      "[1]  2.818420 -3.089301\n",
      "[1] -380.1234\n",
      "[1]  2.818420 -3.089301\n",
      "[1] -380.1234\n",
      "[1]  2.818420 -3.089301\n",
      "[1] -380.1234\n",
      "[1]  2.818420 -3.089301\n",
      "[1] -380.1234\n",
      "[1]  2.818420 -3.089301\n",
      "[1] -380.1234\n",
      "[1]  2.818420 -3.089301\n",
      "[1] -380.1234\n",
      "[1]  2.818420 -3.089301\n",
      "[1] -380.1234\n",
      "[1]  2.818420 -3.089301\n",
      "[1] -380.1234\n",
      "[1]  2.818420 -3.089301\n",
      "[1] -380.1234\n",
      "[1]  2.818420 -3.089301\n",
      "[1] -380.1234\n",
      "[1]  2.818420 -3.089301\n",
      "[1] -380.1234\n",
      "[1]  2.818420 -3.089301\n",
      "[1] -380.1234\n",
      "[1]  2.818420 -3.089301\n",
      "[1] -380.1234\n",
      "[1]  2.818420 -3.089301\n",
      "[1] -380.1234\n",
      "[1]  2.818420 -3.089301\n",
      "[1] -380.1234\n",
      "[1]  2.818420 -3.089301\n",
      "[1] -380.1234\n",
      "[1]  2.818420 -3.089301\n",
      "[1] -380.1234\n",
      "[1]  2.818420 -3.089301\n",
      "[1] -380.1234\n",
      "[1]  2.818420 -3.089301\n",
      "[1] -380.1234\n",
      "[1]  2.818420 -3.089301\n",
      "[1] -380.1234\n",
      "[1]  2.818420 -3.089301\n",
      "[1] -380.1234\n",
      "[1]  2.818420 -3.089301\n",
      "[1] -380.1234\n",
      "[1]  2.818420 -3.089301\n",
      "[1] -380.1234\n",
      "[1]  2.818420 -3.089301\n",
      "[1] -380.1234\n",
      "[1]  2.818420 -3.089301\n",
      "[1] -380.1234\n",
      "[1]  2.818420 -3.089301\n",
      "[1] -380.1234\n",
      "[1]  2.818420 -3.089301\n",
      "[1] -380.1234\n",
      "[1]  2.818420 -3.089301\n",
      "[1] -380.1234\n",
      "[1]  2.818420 -3.089301\n",
      "[1] -380.1234\n"
     ]
    }
   ],
   "source": [
    "em1d(n,K,x,prop,mu,sigma,max_it=50)"
   ]
  },
  {
   "cell_type": "code",
   "execution_count": null,
   "id": "9a343664",
   "metadata": {},
   "outputs": [],
   "source": []
  }
 ],
 "metadata": {
  "kernelspec": {
   "display_name": "R",
   "language": "R",
   "name": "ir"
  },
  "language_info": {
   "codemirror_mode": "r",
   "file_extension": ".r",
   "mimetype": "text/x-r-source",
   "name": "R",
   "pygments_lexer": "r",
   "version": "4.1.1"
  }
 },
 "nbformat": 4,
 "nbformat_minor": 5
}
