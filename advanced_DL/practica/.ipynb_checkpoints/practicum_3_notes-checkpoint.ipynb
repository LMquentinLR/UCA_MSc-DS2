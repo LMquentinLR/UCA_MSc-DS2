{
 "cells": [
  {
   "cell_type": "markdown",
   "id": "eed97ee2",
   "metadata": {},
   "source": [
    "# Practicum 3 - Notes, etc."
   ]
  },
  {
   "cell_type": "markdown",
   "id": "2411c693",
   "metadata": {},
   "source": [
    "## Compositionality\n",
    "\n",
    "**Compositionality** is a key part of deep learning as a complex function can be decomposed in a suite/series/architecture of simpler functions.\n",
    "\n",
    "$$... f\\circ \\sigma \\circ g ... $$"
   ]
  }
 ],
 "metadata": {
  "kernelspec": {
   "display_name": "Python 3 (ipykernel)",
   "language": "python",
   "name": "python3"
  },
  "language_info": {
   "codemirror_mode": {
    "name": "ipython",
    "version": 3
   },
   "file_extension": ".py",
   "mimetype": "text/x-python",
   "name": "python",
   "nbconvert_exporter": "python",
   "pygments_lexer": "ipython3",
   "version": "3.9.7"
  }
 },
 "nbformat": 4,
 "nbformat_minor": 5
}
