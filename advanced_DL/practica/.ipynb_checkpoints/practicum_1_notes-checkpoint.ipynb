{
 "cells": [
  {
   "cell_type": "markdown",
   "id": "f1cea60c",
   "metadata": {},
   "source": [
    "# Practicum 1 - Notes, etc."
   ]
  },
  {
   "cell_type": "markdown",
   "id": "d575e35f",
   "metadata": {},
   "source": [
    "<u>Types of AI identified by Alan Turing in 1948 (\"*What is AI?*\" article on alanturing.net):</u>\n",
    "\n",
    "- **knowledge-driven** (top-down), hypothetical-deductive machines (inputs help make assumption and develop a program\n",
    "    - e.g. evolutionary algorithms (genetic algorithms, ant colony algorithms), knowledge representation, reasoning, logic, automata, intelligent agent systems, etc...\n",
    "    - independence of low-level details of implementation mechanisms\n",
    "    - modeling is based on observations of supposed-intelligent patterns/processes\n",
    "    - ***hypothetically deductive***\n",
    "    \n",
    "- **data-driven** (bottom-up), building of incremental and mathematical mechanisms in order to take decisions\n",
    "    - MLP, decision trees, backprop., random forests, SVM, Boosting, DL, etc.\n",
    "    - ***inductive***\n",
    "\n"
   ]
  },
  {
   "cell_type": "markdown",
   "id": "8a08b451",
   "metadata": {},
   "source": [
    "### Machine Learning\n",
    "\n",
    "<u>Rough definition:</u>\n",
    "\n",
    "> Finding a function given a set of parameters $\\alpha$ that links data $X$ to output $y$.\n",
    "\n",
    "$$\\{X\\}, f(X, \\alpha) \\Rightarrow y$$\n",
    "\n",
    "*Doubtful* that ML is AI as there is no mimicking of intelligent patterns, processes.\n",
    "\n",
    "<u>Link to statistics:</u> \n",
    "\n",
    "- $S$: Training set\n",
    "- $P(X,y) = P(X)P(y|X)$: Joint distribution\n",
    "\n",
    "Statistics tries to approximate laws of the data.\n",
    "\n",
    "ML tries to learn a function/approximation of what is best (terms of minimizing a specific error measure/cost/loss related to the problem: $L((x, y), \\alpha)\\in [a, b]$. Given the data, we are looking to estimate the **empirical error/risk**.\n",
    "\n",
    "**Key assumption of ML:** Elements of training set $S=\\{x_i, y_i\\}_{i=1,...,m}$ are considered IID according to joint probability $P(X,y)$.\n"
   ]
  },
  {
   "cell_type": "markdown",
   "id": "05e07959",
   "metadata": {},
   "source": [
    "> *The Vapnik Theory validates the bottom-up approach.*"
   ]
  },
  {
   "cell_type": "markdown",
   "id": "5c6e7a2b",
   "metadata": {},
   "source": [
    "***/!\\ Cover's theorem***\n",
    "\n",
    "REVIEW"
   ]
  },
  {
   "cell_type": "markdown",
   "id": "1bc6a65e",
   "metadata": {},
   "source": [
    "***ML/DL is the problem of learning representation.***"
   ]
  },
  {
   "cell_type": "markdown",
   "id": "926f4050",
   "metadata": {},
   "source": []
  },
  {
   "cell_type": "markdown",
   "id": "5a6eb5c3",
   "metadata": {},
   "source": []
  },
  {
   "cell_type": "markdown",
   "id": "7d43f5a3",
   "metadata": {},
   "source": []
  },
  {
   "cell_type": "markdown",
   "id": "ff9d1e1d",
   "metadata": {},
   "source": []
  }
 ],
 "metadata": {
  "kernelspec": {
   "display_name": "Python 3 (ipykernel)",
   "language": "python",
   "name": "python3"
  },
  "language_info": {
   "codemirror_mode": {
    "name": "ipython",
    "version": 3
   },
   "file_extension": ".py",
   "mimetype": "text/x-python",
   "name": "python",
   "nbconvert_exporter": "python",
   "pygments_lexer": "ipython3",
   "version": "3.9.6"
  }
 },
 "nbformat": 4,
 "nbformat_minor": 5
}
