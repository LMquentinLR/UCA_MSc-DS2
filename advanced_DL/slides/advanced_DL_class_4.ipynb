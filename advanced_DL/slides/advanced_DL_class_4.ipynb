{
 "cells": [
  {
   "cell_type": "markdown",
   "id": "d7de2b8c",
   "metadata": {},
   "source": [
    "# Advanced Deep Learning - Class 4\n",
    "\n",
    "## Deep learning as a building block in probabilistic models (part 2)\n",
    "\n",
    "<hr>"
   ]
  },
  {
   "cell_type": "markdown",
   "id": "c3d37ce4",
   "metadata": {},
   "source": [
    "$$P(X, y) = p(X)p(y|X) = p(y)p(X|y)$$\n",
    "\n",
    "Looking at $P(X|y)p(y)$ indicates that we are looking at a generative model. We are interested in the distribution of the data. Meanwhile, looking at $P(y|X)$ (and ignoring $p(X)$) indicates a discriminative model. We are not interested in the distribution of the data."
   ]
  },
  {
   "cell_type": "code",
   "execution_count": null,
   "id": "93d1b9b5",
   "metadata": {},
   "outputs": [],
   "source": []
  }
 ],
 "metadata": {
  "kernelspec": {
   "display_name": "Python 3 (ipykernel)",
   "language": "python",
   "name": "python3"
  },
  "language_info": {
   "codemirror_mode": {
    "name": "ipython",
    "version": 3
   },
   "file_extension": ".py",
   "mimetype": "text/x-python",
   "name": "python",
   "nbconvert_exporter": "python",
   "pygments_lexer": "ipython3",
   "version": "3.9.7"
  }
 },
 "nbformat": 4,
 "nbformat_minor": 5
}
