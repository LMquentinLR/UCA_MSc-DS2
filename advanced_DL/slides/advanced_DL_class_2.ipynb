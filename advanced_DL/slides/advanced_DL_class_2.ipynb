{
 "cells": [
  {
   "cell_type": "markdown",
   "id": "d7de2b8c",
   "metadata": {},
   "source": [
    "# Advanced Deep Learning - Class 2\n",
    "## Convolutional Neural Networks and Optimization Tricks\n",
    "\n",
    "<hr>"
   ]
  },
  {
   "cell_type": "markdown",
   "id": "eac35eb3",
   "metadata": {},
   "source": [
    "**Driving question**: can a network structure reduce the exploration space while also providing useful properties: invariance, robustness, etc.\n",
    "\n",
    "<hr>"
   ]
  },
  {
   "cell_type": "markdown",
   "id": "c79be2dc",
   "metadata": {},
   "source": [
    "## Invariance to spatial changes\n",
    "> convolutional neural network aka CNN, ConvNet\n",
    "\n",
    "In a convolutional neural networks, filters (which emulate simple or complex biological cortex functions) are learnable neurals.\n",
    "\n",
    "### Convolution in nature\n",
    "\n",
    "Based on **Hubel and Wiesel**'s work in 1962, the cortex process follows:\n",
    "\n",
    "- Convolution\n",
    "- Activation\n",
    "- Pooling\n",
    "\n",
    "### Deep representation by CNN\n",
    "\n",
    "**Yann LeCun** (1998) showed that:\n",
    "\n",
    "- subpart of the field of vision are translation invariant\n",
    "- S-cells: convolution with filters\n",
    "- C-cells: max-pooling\n",
    "\n",
    "A **feature map** is the result of a convolution. Convolution is a **process with a filter that extracts characteristics** (e.g. edges)."
   ]
  },
  {
   "cell_type": "markdown",
   "id": "9d2830bd",
   "metadata": {},
   "source": [
    "## Optimization, tips and tricks"
   ]
  },
  {
   "cell_type": "markdown",
   "id": "62a41664",
   "metadata": {},
   "source": []
  },
  {
   "cell_type": "markdown",
   "id": "4b985473",
   "metadata": {},
   "source": []
  },
  {
   "cell_type": "markdown",
   "id": "f4945751",
   "metadata": {},
   "source": []
  },
  {
   "cell_type": "markdown",
   "id": "3283067e",
   "metadata": {},
   "source": []
  },
  {
   "cell_type": "markdown",
   "id": "deeb3213",
   "metadata": {},
   "source": []
  }
 ],
 "metadata": {
  "kernelspec": {
   "display_name": "Python 3 (ipykernel)",
   "language": "python",
   "name": "python3"
  },
  "language_info": {
   "codemirror_mode": {
    "name": "ipython",
    "version": 3
   },
   "file_extension": ".py",
   "mimetype": "text/x-python",
   "name": "python",
   "nbconvert_exporter": "python",
   "pygments_lexer": "ipython3",
   "version": "3.9.7"
  }
 },
 "nbformat": 4,
 "nbformat_minor": 5
}
