{
 "cells": [
  {
   "cell_type": "markdown",
   "id": "29551f7b",
   "metadata": {},
   "source": [
    "# Advanced Deep Learning - Class 1\n",
    "## From Artificial Intelligence to a first neuron model\n",
    "\n",
    "<hr>"
   ]
  },
  {
   "cell_type": "markdown",
   "id": "00a97af2",
   "metadata": {},
   "source": [
    "## Context & Vocabulary\n",
    "\n",
    "<u></u>\n",
    "\n",
    "### What is Artificial Intelligence\n",
    "\n",
    "<u>AI as a research field:</u>\n",
    "\n",
    "- The term **Artificial Intelligence** was coined at a Dartmouth College conference in the **summer of 1956**\n",
    "- The concept has existed since Antiquity (e.g. Hephaestus' metal automatons, Jewish folklore's Golem, etc.)\n",
    "- \n",
    "\n",
    "### Machine Learning without Math\n",
    "\n",
    "### Machine Learning & Statistics"
   ]
  },
  {
   "cell_type": "markdown",
   "id": "29af894a",
   "metadata": {},
   "source": [
    "## Math Basics\n",
    "\n",
    "<u></u>"
   ]
  },
  {
   "cell_type": "markdown",
   "id": "38e46f80",
   "metadata": {},
   "source": [
    "## Simple Models\n",
    "\n",
    "<u></u>"
   ]
  },
  {
   "cell_type": "markdown",
   "id": "d7622af8",
   "metadata": {},
   "source": []
  },
  {
   "cell_type": "markdown",
   "id": "162aa615",
   "metadata": {},
   "source": []
  },
  {
   "cell_type": "markdown",
   "id": "89191748",
   "metadata": {},
   "source": []
  },
  {
   "cell_type": "markdown",
   "id": "3a7e5e79",
   "metadata": {},
   "source": []
  },
  {
   "cell_type": "markdown",
   "id": "490ccc73",
   "metadata": {},
   "source": []
  }
 ],
 "metadata": {
  "kernelspec": {
   "display_name": "Python 3 (ipykernel)",
   "language": "python",
   "name": "python3"
  },
  "language_info": {
   "codemirror_mode": {
    "name": "ipython",
    "version": 3
   },
   "file_extension": ".py",
   "mimetype": "text/x-python",
   "name": "python",
   "nbconvert_exporter": "python",
   "pygments_lexer": "ipython3",
   "version": "3.9.7"
  }
 },
 "nbformat": 4,
 "nbformat_minor": 5
}
