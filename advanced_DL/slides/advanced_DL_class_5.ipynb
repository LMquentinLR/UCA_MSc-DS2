{
 "cells": [
  {
   "cell_type": "markdown",
   "id": "d7de2b8c",
   "metadata": {},
   "source": [
    "# Advanced Deep Learning - Class 5\n",
    "\n",
    "## Adversarial Examples, Generative Adversarial Networks (for data augmentation)\n",
    "\n",
    "<hr>"
   ]
  },
  {
   "cell_type": "markdown",
   "id": "c3d37ce4",
   "metadata": {},
   "source": [
    "GAN can be useful to generate new data, but it might not be relevant (or even detrimental) to use in critical areas.\n",
    "\n",
    "<hr>\n",
    "\n",
    "<u>Project:</u> Compare data augmentation for small medical dataset.\n",
    "\n",
    "- Flipping, cropping, etc.\n",
    "- GANs\n",
    "- VAE\n",
    "\n",
    "<hr>\n",
    "\n",
    "<u>Exams</u>\n",
    "\n",
    "- generative vs. discriminative model\n",
    "- supervised vs. unsupervised learning\n",
    "\n",
    "<hr>"
   ]
  },
  {
   "cell_type": "markdown",
   "id": "2187d7c1",
   "metadata": {},
   "source": [
    "## Adversarial attacks\n",
    "\n",
    "Adversarial attacks rely on using the backpropagation against itself $\\theta^{t+1} \\leftarrow \\theta^t*\\eta\\nabla_x\\mathbb{J}(\\theta^t, x, u)$ by adding to images some encoding values (carefully selected noise) in order to trick the network into outputting a specific label (for instance):\n",
    "\n",
    "$$\\theta^{t+1} \\leftarrow \\theta^t*\\eta\\nabla_x\\mathbb{J}(\\theta^t, x, u) + 0.0001*sign(\\nabla\\mathbb{J}...)$$ \n",
    "\n",
    "$\\nabla_x$ means we are using the gradients retrieved after back-propagation at the input layer.\n",
    "\n",
    "## Margin-based Active Learning\n",
    "\n",
    "This strategy is interesting is detecting and selecting the datapoints which are close to a model's boundary (shortest distance for instance). These points should be annotated to help update a model.\n",
    "\n",
    "### Adversarial attacks for margin-based active learning\n",
    "\n",
    "Instead of looking for the images the closest to the boundary, one can attack their own data in order to identify the weakest points.\n",
    "\n",
    "Question: Is it better to attack differently the same item in a dataset (combination of attacks to explore the space differently)?\n",
    "\n",
    "\n",
    "## Active Supervised Classification\n",
    "\n",
    "This strategy relies on a circuit of human-machine heurestics where human experts filter raw data to preselect important items/data for a network to train/update.\n",
    "\n",
    "<hr>\n",
    "\n",
    "- **Semi-supervised**: We divide the labelled data into unlabelled clusters and perform concurrent training on labelled and unlabelled to combine the knowledge of the \n",
    "\n",
    "- **active-based**: labelled data to integrate in the supervised process\n",
    "\n",
    "Deepfull Active Learning (DFAL)\n",
    "\n",
    "<hr>\n",
    "\n",
    "## Transferability\n",
    "\n",
    "There is a transferability of non-targeted aversarial attacks between different network arcitectures."
   ]
  },
  {
   "cell_type": "markdown",
   "id": "6d3dec20",
   "metadata": {},
   "source": [
    "## GANs\n",
    "\n",
    "Generative Adversarial Networks were built to protect against adversarial attacks thanks to the training of a discriminator that could pinpoint fake pictures from real ones.\n",
    "\n",
    "**GANs are min-max setup minimize the discriminator and maximize the generator** (an optimization nightmare that are unstable). \n",
    "\n",
    "\n",
    "However GANs have a bias related to the data that was provided to them, they shouldn't be used as data augmentation or security in critical domains.\n"
   ]
  },
  {
   "cell_type": "code",
   "execution_count": null,
   "id": "f68a60f3",
   "metadata": {},
   "outputs": [],
   "source": []
  }
 ],
 "metadata": {
  "kernelspec": {
   "display_name": "Python 3 (ipykernel)",
   "language": "python",
   "name": "python3"
  },
  "language_info": {
   "codemirror_mode": {
    "name": "ipython",
    "version": 3
   },
   "file_extension": ".py",
   "mimetype": "text/x-python",
   "name": "python",
   "nbconvert_exporter": "python",
   "pygments_lexer": "ipython3",
   "version": "3.9.7"
  }
 },
 "nbformat": 4,
 "nbformat_minor": 5
}
