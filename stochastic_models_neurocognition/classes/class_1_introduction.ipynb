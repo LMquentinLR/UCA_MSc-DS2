{
 "cells": [
  {
   "cell_type": "markdown",
   "id": "40a9fdb3",
   "metadata": {},
   "source": [
    "# Stochastic Models in Neurocognition\n",
    "\n",
    "## Class 1\n",
    "\n",
    "<hr>\n",
    "\n",
    "**Preliminary Notes**:\n",
    "\n",
    "<u>Class framework:</u>\n",
    "- First 3 classes on independent models\n",
    "- 2 classes on markov chains and poisson processes\n",
    "- 2 courses on point processses and their statistics\n",
    "- 3 classes on PDMP, Brownian Motions, mean-field.\n",
    "\n",
    "<u>On tutorials:</u>\n",
    "- Answer in .pdf and in .R to do analysis to be posted online (on Moodle)\n",
    "- The grading will be about progression and how good we are about correction of other students\n",
    "\n",
    "<u>Final exam:</u>\n",
    "- Done in February on-site (programmation + write-down)\n",
    "\n",
    "<hr>"
   ]
  },
  {
   "cell_type": "markdown",
   "id": "336e71d9",
   "metadata": {},
   "source": [
    "## 1 - Models with independence\n",
    "\n",
    "### Examples of models for neurocognition with independence\n",
    "\n",
    "<u>A. **Justifying independence matters**</u>\n",
    "\n",
    "**Independence matters** as it helps do a lot of different statistical analysis:\n",
    "- Independence enables easier computation\n",
    "- Indentifying where independence lies is important in terms of modeling\n",
    "\n",
    "<u>Case 1:</u> **Individuals**, e.g. as part of a cognitive experiment with different participants. <span style=\"color:red\">**/!\\** Participants interacting removes independence</span>.\n",
    "\n",
    "<u>Case 2:</u> **Trials**, e.g. when the participants are asked to repeat an experiment. <span style=\"color:red\">**/!\\** The state of the participants matter: tiredness, location, etc.</span>.\n",
    "\n",
    "<u>B. **Parametric vs Non-parametric modelss**</u>\n",
    "\n",
    "| **Parametric** | **Non-Parametric** | \n",
    "| ---: | ---: |\n",
    "| The distribution of the data is parametrized by a finite set of parameters. e.g. $\\mathcal{N}(\\mu,\\sigma^2)$ with $\\theta = (\\mu, \\sigma^2)\\in\\mathbb{R}^2$ | The distribution depends on more than a finite number of parameters. e.g. a cumulative distribution function $f$ characterizing ***iid*** $X_1, X_2, ..., X_3$ |\n",
    "\n",
    "<hr>"
   ]
  },
  {
   "cell_type": "markdown",
   "id": "47b68a21",
   "metadata": {},
   "source": [
    "## 2 - Interspikes intervals\n",
    "\n",
    "The main model to be looked into during the class is called an **Interspikes intervals**.\n",
    "\n",
    "### Model of a neuron\n",
    "\n",
    "A neuron is composed of an **axon**, a **soma**, and **dendrites** connected to another axon via a **synapse**. The **voltage** of a neuron is a continuous time series characterized by fluctuations and an activation/spike called an <span style=\"color:red\">**action potential**</span>.\n",
    "\n",
    "> **For a given neuron, the pattern/shape of the spike/action potential is always consistent/the same**.\n",
    "\n",
    "The spike is powerful enough to travel to the synapse (from the **pre-synaptic neuron**), which will consequently affect the voltage of the neuron down the line (pre-synaptic neuron -> axon -> synapse -> dendrite -> neuron). \n",
    "\n",
    "A pre-synaptic neuron is either:\n",
    "- **excitatory**: its spike induces a higher voltage in the neuron N down-the-line, and the higher the voltage, the more likely is N to spike\n",
    "- **inhibitory**: its spike induces a lower voltage in the neuron N down-the-line, the less likely is N to spike\n",
    "\n",
    "### Problem of such a model\n",
    "\n",
    "<u>A. **Stating the problem**</u>\n",
    "\n",
    "> One can rarely access such a data at a large scale (a human brain has c. $10^{12}$ neurons and setting electrodes in a brain is tricky). \n",
    "\n",
    "Instead, **tetrodes** are used. Tetrodes are deep electrodes that can record activity at different areas of the brain. Signals captured by tetrodes differ from electrodes as a tetrodes collects **unsorted spikes** which give no information on the **location of the neurons**.\n",
    "\n",
    "![tetrodes](images/tetrodes.png)\n",
    "\n",
    "**Tetrodes** still allow to find **spike trains** where we know when a neuron has emitted spikes as a neuron always emits the same spikes.\n",
    "\n",
    "<hr>\n",
    "\n",
    "> **An interspike interval is the distance between the spikes of a neuron on a spike train**\n",
    ">\n",
    "> Short-handed as ***ISI***\n",
    ">\n",
    "> <span style=\"color:red\">We can model the ISIs of a given neuron as an IID variable. </span>\n",
    "\n",
    "<u>(Leaky) Integrate-and-Fire:</u> Model that characterize a particular distribution for the ISI without challenging the fact that it is IID\n",
    "\n",
    "<hr>\n",
    "\n",
    "<u>B. **Why are ISI IID?**</u>\n",
    "\n",
    "**Independence:**\n",
    "\n",
    ">  ISI are considered IID as spikes are intersperced by reset points. This is not a mathematical justification but a modeling one: that neurons 'reset' after a spike.\n",
    ">\n",
    "> \"At least the voltagte is reset to the same value/voltage at each spike\" which would **legitimate** independence\n",
    "\n",
    "Note: This is not the case of burst phenomena\n",
    "\n",
    "**Identical distribution:**\n",
    "\n",
    "> As long as the behavior of the animal does not change too much and is recorded during small periods of time\n",
    ">\n",
    "> **Changes in behavior**, **memory effects** (capacitance, STDP) and **iteractions between neurons are not modeled**\n",
    "\n",
    "### Parametric Assumption\n",
    "\n",
    "<hr>"
   ]
  },
  {
   "cell_type": "markdown",
   "id": "ae37f21c",
   "metadata": {},
   "source": [
    "## 3 - \n",
    "\n",
    "<hr>"
   ]
  },
  {
   "cell_type": "markdown",
   "id": "2bb3a511",
   "metadata": {},
   "source": [
    "## 4 - \n",
    "\n",
    "<hr>"
   ]
  },
  {
   "cell_type": "markdown",
   "id": "ebd3bc3e",
   "metadata": {},
   "source": [
    "## 5 - \n",
    "\n",
    "<hr>"
   ]
  },
  {
   "cell_type": "markdown",
   "id": "f5286e46",
   "metadata": {},
   "source": [
    "## 6 - \n",
    "\n",
    "<hr>"
   ]
  }
 ],
 "metadata": {
  "kernelspec": {
   "display_name": "R",
   "language": "R",
   "name": "ir"
  },
  "language_info": {
   "codemirror_mode": "r",
   "file_extension": ".r",
   "mimetype": "text/x-r-source",
   "name": "R",
   "pygments_lexer": "r",
   "version": "4.1.1"
  }
 },
 "nbformat": 4,
 "nbformat_minor": 5
}
