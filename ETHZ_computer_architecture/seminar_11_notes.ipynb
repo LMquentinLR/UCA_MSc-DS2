{
 "cells": [
  {
   "cell_type": "markdown",
   "id": "ca345040",
   "metadata": {},
   "source": [
    "*Seminar in Computer Architecture*\n",
    "\n",
    "# Seminar 1.1 - Introduction and Basics\n",
    "\n",
    "<hr>"
   ]
  },
  {
   "cell_type": "markdown",
   "id": "28266ff6",
   "metadata": {},
   "source": [
    "The ongoing goal is to build fundamentally better architectures from processors to accelerators and memories. \n",
    "\n",
    "There are **four key current directions**:\n",
    "\n",
    "- security, reliability, safety\n",
    "- energy efficiency (memory-centric/data-centric arch.)\n",
    "- low-latency, predictability\n",
    "- AI/ML, genomics, medecine, health specific archs.\n",
    "\n",
    "The transformation hierarchy is an extended view of the general understanding of computer architecture (restricted to the SW/HW interface and micro-architecture). The expanded view covers (within the **transformation hierarchy**):\n",
    "\n",
    "- *Problem*\n",
    "    - **Algorithm**\n",
    "    - **Program/Language**\n",
    "    - **System Software**\n",
    "    - **SH/HW interface**\n",
    "    - **Micro-Architecture**\n",
    "    - **Logic**\n",
    "    - **Devices**\n",
    "- *Electrons*\n",
    "\n",
    "The expanded view helps understand the seemless working of machines."
   ]
  },
  {
   "cell_type": "markdown",
   "id": "e235d9af",
   "metadata": {},
   "source": [
    "### Axiom\n",
    "\n",
    "1. To achieve the highest energy efficient and performance: **We must take the expanded view of Computer Architecture**.\n",
    "\n",
    "2. There is plenty of room both at the top and bottom of the stack, enhanced when there is cross-comunication (optimization goal).\n",
    "\n",
    "It implies the **co-design across the hierarchy** (algorithms to devices), which helps **specialize as much as possible within the design goals**.\n",
    "\n",
    "<u>Examples:</u>\n",
    "- data-centric arch for low energy & high perf (proc. in mem/dram, nvm, unifoed mem/storage)\n",
    "- toleration of bit flips, secure memory\n",
    "- ML/AI arch. (algorithm/arch. co-design) \n",
    "- data-aware arch.\n",
    "\n",
    "<hr>"
   ]
  },
  {
   "cell_type": "markdown",
   "id": "7ac7b39a",
   "metadata": {},
   "source": [
    "## 1 - Why Study Computer Architecture?\n",
    "\n",
    "### The Why\n",
    "\n",
    "Comptuer architecture is the science and art of **designing computing platforms** (hardware, interface, system SW, and programming model) to **achieve a set of design goals** (highest performance on some workloads, longest battery life at a given form factor, best average perf across known workloads at the best perf/cost ratio).\n",
    "\n",
    "Different platforms, and different goals usually rely on the same fundamentals (in terms of architecture).\n",
    "\n",
    "More recently, new type of platforms have been created to help handle more efficient workloads in some areas such as data processing in ML (e.g. [WIKI](https://en.wikipedia.org/wiki/Systolic_array), In parallel computer architectures, a **systolic array** is a homogeneous network of tightly coupled data processing units (DPUs) called cells or nodes. Each node or DPU independently computes a partial result as a function of the data received from its upstream neighbors, stores the result within itself and passes it downstream.)\n",
    "\n",
    "> The science and art of designing, selecting, and interconnecting hardware components and designing the HW/SW interface to create a computing system that meets functional, performance, energy consumption, costs, and other specific goals.\n",
    ">\n",
    "> **goal**: to enable better system (faster, cheaper, smaller), new applications, better solution to problems\n",
    "\n",
    "### Current paradigm shift\n",
    "\n",
    "There are many difficult problems that motivate and cause the shift (e.g. data-intensive applications, power/energy/thermal constraints, complexity, technology scaling, memory bottleneck, security/privacy).\n",
    "\n",
    "Changing problem, aglorithms, and programs/languages driven by users **should inform low-level design** (runtime system (VM, OS, MM), ISA, etc.). "
   ]
  },
  {
   "cell_type": "markdown",
   "id": "c7f8ad9a",
   "metadata": {},
   "source": [
    "## 2 - Some Cross-Layer Designs\n",
    "\n",
    "**Goal**: To allow the system to expose certain characteristics of the hardware to the upper layer of the transformation stack.\n",
    "\n",
    "### eXpressive Memory (X-Mem) interfaces\n",
    "\n",
    "![xmem](images/Xmem.png)\n",
    "\n",
    "#### Heterogeneous-Reliability Memory\n",
    "\n",
    "#### EDEN: Data-Aware Efficient DNN Inference\n",
    "\n",
    "#### SMASH: SW/HW Indexing Acceleration\n",
    "\n",
    "#### Virtual Block Interface\n",
    "\n",
    "#### Intel Optane Persistent Memory\n",
    "\n",
    "A type of non-volatile RAM memory (more can be integrated on the same stick)\n",
    "\n",
    "#### Phase Change Memory\n",
    "\n",
    "#### Cerebras' Wafer Scale Engine\n",
    "\n",
    "Largest ML accelerator chip (400k cores, 1.2 trillion transistors, 46mm^2) -- highly parallelized, high data consumption.\n",
    "\n",
    "#### UPMEM Processing-in-DRAM Engine\n",
    "\n",
    "Processing in DRAM engine includes standard DIMM modules with a large number of DPU processors combined with DRAM chips. It replaces standard DIMMs allowing a large amount of compute and memory bandwith. \n",
    "\n",
    "#### Samsung Function-in-Memory DRAM"
   ]
  },
  {
   "cell_type": "markdown",
   "id": "e6e38a73",
   "metadata": {},
   "source": [
    "## 3 - Processing in Memory: Two Approaches\n",
    "\n",
    "### 3.1 Processing near Memory\n",
    "\n",
    "> **Definition**: A compute unit is positioned closer to memories arrays.\n",
    "\n",
    "Specialized Processing in Memory was introduced in 2015 (Scalable Processing-In-Memory Accelerator for Parallel Graph Processing, ISCA, 2015; Simple Processing in Memory (PIM-Enabled Instructions: A Low-Overhead, Locality-Aware Processing-in-Memory Architecture, ISCA, 2015; Google Workloads for Consumer Devices: Mitigating DAta Movement Bottlenecks, ASPLOS, 2018)\n",
    "\n",
    "<u>Other examples:</u> accelerating GPU operation, accelerating linked data structures, accelerating runahead execution, FPGDA-based processing near memory.\n",
    "\n",
    "To work on enabling more efficient processing, we need to understand data movement bottlenecks: thus DAMOV Analysis Methodology & Workloads (paper: \"DAMOV: A new Methodology and Benchmark Suite for Evaluating Data Movements Bottlenecks\"). \n",
    "\n",
    "### 3.2 Processing using Memory\n",
    "\n",
    "> **Definition**: The memory itself is used to perform a computation.\n",
    "\n",
    "<u>Other examples:</u> In-DRAM Processing (bits in the same lines can perform computation; SIMDRAM: A Framework for Bit-Serial; LISA: Increasing Connectivity in DRAM). \n",
    "\n",
    "Prominent in AI with Tensor Processing Units (TPU)."
   ]
  },
  {
   "cell_type": "markdown",
   "id": "8c259f5f",
   "metadata": {},
   "source": [
    "## 4 - Reliability and Security\n",
    "\n",
    "### RowHammer\n",
    "\n",
    "<u>DRAM RowHammer Vulnerability</u> has to be addressed (predictable bit-flip induction in commodity DRAM chips). It was the **first example of how a simple hardware failure mechanism can create a widespread system security vulnerability**.\n",
    "\n",
    "> **RowHammer**: induction of bit-flips in the neighboring rows of a memory array when 'hammering a given row'. It is a type of **disturbance error**\n",
    ">\n",
    "> **Consequence**: one can take over an otherwise-secure system (increasing privileges)\n",
    "\n",
    "Newer DRAM chips are more vulnerable to RowHammer. There are chips today whose weakest cells fail after only 4,800 hammers. Chips of newer DRAM technology nodes can exhibit RowHammer bit flips in 1) **more rows** and 2) **farther away from the victim row**.\n",
    "\n",
    "Existing mitigation mechanisms are *not* effective. Though BlockHammer exists (i.e. blocking rapidly accessed rows). \n",
    "\n",
    "### Meltdown and Spectre\n",
    "\n",
    "Someone can steal secret data from the system even though:\n",
    "- the program and data are perfectly correct\n",
    "- the harware behaves according to the spefication\n",
    "- there are no software vulnerabilities/bugs\n",
    "\n",
    "Speculative execution leaves traces of secret data in the processor's cache (internal storage). A malicious program can **inspect the contents of the cache to infer secret data** that is not supposed to be accessed. It can also force another program to speculatively execute code that leaves traces of secret data."
   ]
  },
  {
   "cell_type": "markdown",
   "id": "5b5cfbcd",
   "metadata": {},
   "source": [
    "## 5 - More demanding Workloads\n",
    "\n",
    "Applications are straining architectures. \n",
    "\n",
    "<u>Example:</u> Genome analysis\n",
    "- No machine can give a full sequence of a genome (current sequencing machine provides small randomized fragments of the original DNA sequence -- the issue is to perform a read mapping of the sequences to rebuild the full sequence). **Analysis is bottlenecked in Read Mapping**\n",
    "- Example of solution: Nanopore Sequencing Technology"
   ]
  },
  {
   "cell_type": "markdown",
   "id": "38d4ff5d",
   "metadata": {},
   "source": [
    "## Evolutions\n",
    "\n",
    "New Computig Paradigms (PRocessing in/Near Memory, Neuromorphic COmputing), new accelerators (AIML, Graph Analytics, Genome Analysis), new memories and storage systems (Non-Volatile Main Memory)."
   ]
  },
  {
   "cell_type": "code",
   "execution_count": null,
   "id": "7a076af7",
   "metadata": {},
   "outputs": [],
   "source": []
  }
 ],
 "metadata": {
  "kernelspec": {
   "display_name": "Python 3 (ipykernel)",
   "language": "python",
   "name": "python3"
  },
  "language_info": {
   "codemirror_mode": {
    "name": "ipython",
    "version": 3
   },
   "file_extension": ".py",
   "mimetype": "text/x-python",
   "name": "python",
   "nbconvert_exporter": "python",
   "pygments_lexer": "ipython3",
   "version": "3.9.7"
  }
 },
 "nbformat": 4,
 "nbformat_minor": 5
}
