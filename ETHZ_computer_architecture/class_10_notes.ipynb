{
 "cells": [
  {
   "cell_type": "markdown",
   "id": "32b3d235",
   "metadata": {},
   "source": [
    "# Lecture 10: Intelligent Genome Analysis\n",
    "\n",
    "*Notes*\n",
    "\n",
    "<hr>"
   ]
  },
  {
   "cell_type": "markdown",
   "id": "40fbb548",
   "metadata": {},
   "source": [
    "## 1 - Main Idea\n",
    "\n",
    "Intellgient genome analysis corresponds to:\n",
    "\n",
    "1. Fast genome analysis (**bandwidth**)\n",
    "2. Population-scale genome analysis (**scalability**)\n",
    "3. Using intelligent architectures -- small specialized hardware with less data movement (**energy efficiency and portability**)\n",
    "4. Considering DNA as a valuable asset -- control-access analysis (**privacy**)\n",
    "5. Avoiding erroneous analysis (**Accuracy**)\n",
    "\n",
    "### Why it matters?\n",
    "\n",
    "It saves lives if we could reduce rWGS from 2-day or 5-day (very costly to costly) to lower: \n",
    "\n",
    "1. avoids morbidity\n",
    "2. reduces hospital stay length\n",
    "3. reduces inpatient cost"
   ]
  },
  {
   "cell_type": "markdown",
   "id": "4e06a687",
   "metadata": {},
   "source": [
    "<hr>\n",
    "\n",
    "## 2.1 - How is Genome Analyzed?\n",
    "\n",
    "Genome analysis corresponds to untangling DMA yarn balls and sequencing them in the right order. With current technology, this is impossible in one go.\n",
    "\n",
    "As such:\n",
    "\n",
    "> Current sequencing machine provides small randomized fragments of the original DNA. Genomes are sampled into small chunks called **reads** that need to be reassembled.\n",
    "\n",
    "Reading relies on graphene nanopore (< 20nm) to let DNA strands go through to be read as a timeseries where timesteps are A, T, G, or C. Nanopore sequencers use an ionic current to measure changes as the DNA strand passes through the nanopore. \n",
    "\n",
    "**Note**: The larger the read pieces, the easier the problem (however long reads tend to have a higher error rate).\n",
    "\n",
    "> Changes in seuqnecing technologies can render some read mapping algorithms irrelevant\n",
    "\n",
    "## 2.2 - Read Mapping\n",
    "\n",
    "Map reads to a known reference geneome with some minor differences allowed. \n",
    "\n",
    "> DNA sample (chemical format) -> Reads (text format) -> Reference genome\n",
    "\n",
    "### Brute force \n",
    "\n",
    "Brute force is a really expensive endeavour with complexity $O(m^2kn)$, with $m$ the read length, $k$, the number of reads, and $n$ the reference genome length.\n",
    "\n",
    "### Smith Waterman \n",
    "\n",
    "SW remains the most popular algorithm since 1988. Hamming distance is the second most popular technique since 2008. \n",
    "\n",
    "![proc](images/process.png)\n",
    "\n",
    "## 2.3 - Why is Read Mapping slow?\n",
    "\n",
    "- need to find many mappings of each read\n",
    "\n",
    "- need to tolerate variances/sequencing errors in each read\n",
    "\n",
    "- need to map each read very fast (i.e. performance is important, life critical in some cases)\n",
    "\n",
    "- need to map reads to both forward andreverse strands\n",
    "\n",
    "![compsi](images/compsy.png)\n",
    "\n",
    "> We need intelligent algorithms and intelligent architectures that handle data well"
   ]
  },
  {
   "cell_type": "markdown",
   "id": "a653f44c",
   "metadata": {},
   "source": [
    "<hr>\n",
    "\n",
    "## 3 - Algorithmic and Hardware Acceleration \n",
    "\n",
    "### Seed Filtering Technique\n",
    "\n",
    "**Goal**: REducing the number of seed (k-mear) locations\n",
    "- heuristic (limits the number of mapping locations for each seed)\n",
    "- supports exact matches only\n",
    "\n",
    "### Pre-Alignment Filtering TEchnique\n",
    "\n",
    "**Goal**: Reducing the number of invalid mappings\n",
    "- Supports both exact and inexact amtches\n",
    "- Provides some falsely-accepted mappings\n",
    "\n",
    "### Read Alignment Acceleration\n",
    "\n",
    "**Goal**: Performing read alignment at scale\n",
    "- Limits the numeric range of each cell in the DP table and hence supports limited scoring functions\n",
    "- May not support backtracking step due to random memory accesses"
   ]
  },
  {
   "cell_type": "markdown",
   "id": "8b85b3d7",
   "metadata": {},
   "source": [
    "<hr>\n",
    "\n",
    "## 4 - What's next for Read Mapping?\n",
    "\n",
    "- Read alignment can be substantially accelerated using computationally inexpensive and accurate pre-alignment filtering algorithms designed for specialzied hardware\n",
    "\n",
    "- All the three directions cited above are used by mappers today, but filtering has replaced alignment as the bottleneck\n",
    "\n",
    "- Pre-alignment filtering does not sacrifice any of the aligner capabilities, as it does not modify or replace the alignment step.\n",
    "\n",
    "### Adoption of hardware accelerators in genome analysis\n",
    "\n",
    "Computing is still bottlednecked by data movement. The future needs to reduce the high amount of data movement and develop flexible hardware architecture that do not conservatively limit the range of supported parameter values at design time.\n",
    "\n",
    "Data formats should also evolve to be more efficient (e.g. pdf -> djvu)"
   ]
  },
  {
   "cell_type": "code",
   "execution_count": null,
   "id": "b6e54ec6",
   "metadata": {},
   "outputs": [],
   "source": []
  }
 ],
 "metadata": {
  "kernelspec": {
   "display_name": "Python 3",
   "language": "python",
   "name": "python3"
  },
  "language_info": {
   "codemirror_mode": {
    "name": "ipython",
    "version": 3
   },
   "file_extension": ".py",
   "mimetype": "text/x-python",
   "name": "python",
   "nbconvert_exporter": "python",
   "pygments_lexer": "ipython3",
   "version": "3.8.8"
  }
 },
 "nbformat": 4,
 "nbformat_minor": 5
}
