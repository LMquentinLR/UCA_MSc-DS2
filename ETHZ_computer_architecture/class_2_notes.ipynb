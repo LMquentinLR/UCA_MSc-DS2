{
 "cells": [
  {
   "cell_type": "markdown",
   "id": "32b3d235",
   "metadata": {},
   "source": [
    "# Lecture 2: Trends, Tradeoffs, and Design Fundamentals\n",
    "*Notes*\n",
    "\n",
    "<hr>\n",
    "\n",
    "**Reliability**, **security** and **safety** are critical issues in computer architecture design as technology scales and we rely more and more on computer devices in our daily lives.\n",
    "\n",
    "<hr>"
   ]
  },
  {
   "cell_type": "markdown",
   "id": "40fbb548",
   "metadata": {},
   "source": [
    "## 1 - RowHammer, a threat to HW security\n",
    "\n",
    "### Overview\n",
    "\n",
    "*RowHammer is a **fault attack** that is the result of the miniaturization process in computer architecture. It arises from physical phenomena. All modules from 2012-2013 are vulnerable due to this.*\n",
    "\n",
    "An **issue**... One can predictably induce bit flips in commodity DRAM chips (80% of tested DRAM chips are vulnerable). \n",
    "\n",
    "**Leading to**... A simple hardware failure mechanism that can create a widespread system security vulnerability.\n",
    "\n",
    "![rw](images/rowhammer.png)\n",
    "\n",
    "**relies on**: a hammered row and victim rows.\n",
    "\n",
    "> **Conclusion**:\n",
    ">\n",
    "> Repeatedly reading a row enough times (before memory gets refreshed) induces distubance errors in adjacent rows in most real DRAM chips. <span style=\"color:red\">RowHammer undermines memory isolation, which is a key property of a reliable and secure computing system</span> (an access to one memory address should not have unintended side effects on data stored in other addresses).\n",
    "\n",
    "### RowHammer in 2020\n",
    "\n",
    "The effects of RowHammer have increased. Mitigation does not work as expected, i.e., newer DRAM chips are more vulnerable to RowHammer.\n",
    "\n",
    "### Proposed Solution: BlockHammer\n",
    "\n",
    "Relies on blacklisting rapidly-accessed DRAM rows.\n",
    "\n",
    "### Takeaway\n",
    "\n",
    "RowHammer is still a problem and security by obscurity is likely not a good solution."
   ]
  },
  {
   "cell_type": "markdown",
   "id": "4e06a687",
   "metadata": {},
   "source": [
    "<hr>\n",
    "\n",
    "## 2 - More demanding workloads\n",
    "\n",
    "*As applications push boundaries, computing platforms will become increasingly strained.*\n",
    "\n",
    "<u>Example:</u> new genome sequencing technologies can be used to perform better and faster computational analysis of genomes.\n",
    "\n",
    "### Processing of the data is a major bottleneck\n",
    "\n",
    "Data reduces performance as it has to move around the architecture (At Google, 63% of the time is spent moving data around). \n",
    "\n",
    "<u>Example:</u> \n",
    "- Accelerating read mapping with new hashing techniques/software acceleration, \n",
    "- SneakySnake (a pre-alignment algorithm, 2020).\n",
    "\n",
    "### Data movement vs. computation energy\n",
    "\n",
    "> A memory access consumes c. 100-1000x the energy of a complex addition\n",
    ">\n",
    "> A floating point 64-bit operation takes 20picojoules while a DRAM rd/wr operation takes 16 nanojoules.\n",
    "\n",
    "i.e. **Communication dominates arithmetic**.\n",
    "\n",
    "This domination was inverted in the past. In the early stages of computing arithmetic was expensive, however miniaturization inverted this relationship since then. Transistor technology scaling exploded compared to memory technology."
   ]
  },
  {
   "cell_type": "markdown",
   "id": "a653f44c",
   "metadata": {},
   "source": [
    "<hr>\n",
    "\n",
    "## 3 - Many novel concepts are investigated/appearing today\n",
    "\n",
    "### New Computing PAradigms (rethinking the full stack)\n",
    "\n",
    "- processing in- and near- memory\n",
    "- neuromorphic computing (based on spiking neural networks)\n",
    "- fundamentally secure and dependable computers\n",
    "\n",
    "### New Accelerators (algorithm-hardware co-designs)\n",
    "\n",
    "- artificial intelligence & machine learning\n",
    "- graph analytics\n",
    "- genome analytics\n",
    "\n",
    "### New memories and storage systems\n",
    "\n",
    "- NVMM\n",
    "- intelligent memory\n",
    "\n",
    "### Current systems\n",
    "\n",
    "Past systems have a pipeline between **CPU**, **main memory**, and **persistent memory/storage**. Now **heterogeneous processors and accelerators** as well as **General Purpose GPUs** are part of the Von Neumann-style architecture.\n",
    "\n",
    "Current systems have a certain amount of **heterogeneity** at different level (e.g. hybrid main memory).\n",
    "\n",
    "This leads to increasingly complex systems that require **high bandwidth**.\n",
    "\n",
    "### However,\n",
    "\n",
    "> New processes, applications and technology require novel architecture.\n",
    "\n",
    "As such, every component is being re-examined."
   ]
  },
  {
   "cell_type": "markdown",
   "id": "8b85b3d7",
   "metadata": {},
   "source": [
    "<hr>\n",
    "\n",
    "## 4 - Takeaways\n",
    "\n",
    "### It is an exciting time to be understanding and designing computing architectures\n",
    "\n",
    "### Many challenging and eciting problems exist in platform design\n",
    "\n",
    "### Driven by huge hunger for data (big data), new applications (ML/AI, graph analytics, genomics), ever-greater realism\n",
    "\n",
    "### driven by significant difficulties in keeping up with that unger at the technology layer\n",
    "\n",
    "<u>Five walls:</u>\n",
    "\n",
    "> Energy\n",
    ">\n",
    "> Reliability\n",
    ">\n",
    "> Complexity\n",
    ">\n",
    "> Security\n",
    ">\n",
    "> Scalability\n",
    "\n",
    "<hr>"
   ]
  },
  {
   "cell_type": "markdown",
   "id": "4c589226",
   "metadata": {},
   "source": [
    "# Fundamentals\n",
    "\n",
    "### Evaluation criteria for the design of computer architecture\n",
    "\n",
    "1. functionality\n",
    "2. reliability\n",
    "3. space requirement\n",
    "4. cost\n",
    "5. expandability\n",
    "6. comfort level of users\n",
    "7. happiness of users\n",
    "8. aesthetics\n",
    "9. etc.\n",
    "\n",
    "### Major goals of the course\n",
    "\n",
    "1. Understand the principles\n",
    "2. Understand the precedents\n",
    "3. Based on such understanding\n",
    "    1. enable to evaluate tradeoffs of different designs and ideas\n",
    "    2. enable to develop principled designs\n",
    "    3. enable to develop novel, out-of-the-box designs\n",
    "\n",
    "The focus is on: principles, precedents, and how to use them for new design\n"
   ]
  },
  {
   "cell_type": "markdown",
   "id": "84fecf13",
   "metadata": {},
   "source": []
  },
  {
   "cell_type": "markdown",
   "id": "88a8e65e",
   "metadata": {},
   "source": []
  },
  {
   "cell_type": "markdown",
   "id": "b2d9fb61",
   "metadata": {},
   "source": []
  },
  {
   "cell_type": "markdown",
   "id": "e091e043",
   "metadata": {},
   "source": []
  },
  {
   "cell_type": "markdown",
   "id": "77e5779f",
   "metadata": {},
   "source": []
  },
  {
   "cell_type": "markdown",
   "id": "3a6ed42c",
   "metadata": {},
   "source": []
  },
  {
   "cell_type": "markdown",
   "id": "3ff00e40",
   "metadata": {},
   "source": []
  },
  {
   "cell_type": "markdown",
   "id": "4d8c1a5c",
   "metadata": {},
   "source": []
  },
  {
   "cell_type": "markdown",
   "id": "9e7e43d7",
   "metadata": {},
   "source": []
  }
 ],
 "metadata": {
  "kernelspec": {
   "display_name": "Python 3 (ipykernel)",
   "language": "python",
   "name": "python3"
  },
  "language_info": {
   "codemirror_mode": {
    "name": "ipython",
    "version": 3
   },
   "file_extension": ".py",
   "mimetype": "text/x-python",
   "name": "python",
   "nbconvert_exporter": "python",
   "pygments_lexer": "ipython3",
   "version": "3.9.7"
  }
 },
 "nbformat": 4,
 "nbformat_minor": 5
}
