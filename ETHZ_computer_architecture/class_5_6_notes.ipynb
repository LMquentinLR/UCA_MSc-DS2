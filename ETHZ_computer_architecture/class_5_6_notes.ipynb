{
 "cells": [
  {
   "cell_type": "markdown",
   "id": "32b3d235",
   "metadata": {},
   "source": [
    "# Lecture 5&6: RowHammer and Secure and Reliable Memory\n",
    "*Notes*\n",
    "\n",
    "<hr>\n",
    "\n",
    "**One can predictably induce bit flips in commodity DRAM chips.** This can create widespread system security vulnerabilities."
   ]
  },
  {
   "cell_type": "markdown",
   "id": "b5de99f0",
   "metadata": {},
   "source": [
    "# 1 - Architecting Future Memory for Security\n",
    "\n",
    "### Understand: methods for vulnerability modeling & discovery\n",
    "\n",
    "- Modeling and prediction based on real (device) data and analysis\n",
    "- Understanding vulnerabilities\n",
    "- Developing reliable metrics\n",
    "\n",
    "### Architect: Principled architectures with security as key concern\n",
    "\n",
    "- Good partitioning of duties across the stack\n",
    "- Cannot give up performance and efficiency\n",
    "- Patch-ability in the field\n",
    "\n",
    "### Design & Test: Principled design, automation, (online) testing\n",
    "\n",
    "<hr>\n",
    "\n",
    "**Case of byzantine failures**: undetected erroneous computation (opposite of fail fast). Erroneous can be malicious."
   ]
  },
  {
   "cell_type": "markdown",
   "id": "243363a4",
   "metadata": {},
   "source": [
    "# 2 - Processing Using Memory\n",
    "\n",
    "**Observation**: High latency and high energy caused by data movement\n",
    "\n",
    "**Opportunity**: Minimize data movement by performing computation directly (near) where the data resides.\n",
    "\n",
    "### Processing using memory\n",
    "\n",
    "It takes advantage of operational principles of memory to perform bulk data movement and computation in memory:\n",
    "\n",
    "- It can exploit internal connectivity to move data\n",
    "- It can exploit analog computation capability\n",
    "\n",
    "<u>Example:</u> Can we do better than *bulk data copy*? **In-memory** copy can be done to avoid having to go through the CPU. RowClone is an in-DRAM row copy (it uses the row buffer as a buffer to perform the copy with off-the-shelf DRAM). 11.6x latency reduction, 74x energy reduction."
   ]
  },
  {
   "cell_type": "markdown",
   "id": "79aac3f3",
   "metadata": {},
   "source": [
    "# 3 - "
   ]
  },
  {
   "cell_type": "markdown",
   "id": "f8c9ee70",
   "metadata": {},
   "source": [
    "# 4 - "
   ]
  },
  {
   "cell_type": "code",
   "execution_count": null,
   "id": "fd358583",
   "metadata": {},
   "outputs": [],
   "source": []
  }
 ],
 "metadata": {
  "kernelspec": {
   "display_name": "Python 3 (ipykernel)",
   "language": "python",
   "name": "python3"
  },
  "language_info": {
   "codemirror_mode": {
    "name": "ipython",
    "version": 3
   },
   "file_extension": ".py",
   "mimetype": "text/x-python",
   "name": "python",
   "nbconvert_exporter": "python",
   "pygments_lexer": "ipython3",
   "version": "3.9.7"
  }
 },
 "nbformat": 4,
 "nbformat_minor": 5
}
