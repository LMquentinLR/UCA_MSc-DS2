{
 "cells": [
  {
   "cell_type": "markdown",
   "id": "32b3d235",
   "metadata": {},
   "source": [
    "# Lecture 11: Low-Latency Memory\n",
    "\n",
    "*Notes*\n",
    "\n",
    "<hr>"
   ]
  },
  {
   "cell_type": "markdown",
   "id": "40fbb548",
   "metadata": {},
   "source": [
    "## 1 - Main Idea\n",
    "\n",
    "One of the four key directions of the industry is **low-latency** and **predictable** memory.\n",
    "\n",
    "One of the hardest problem of modern memory management is **latency**.\n",
    "\n",
    "### Data-Centric Architectures: Properties\n",
    "\n",
    "- Process data where it resides (processing in and near memory structures)\n",
    "- Low-latency and low-energy data access\n",
    "- Low-cost data storage & processing (high capacity memroy at low cost)\n",
    "- Intelligent data management\n"
   ]
  },
  {
   "cell_type": "markdown",
   "id": "4e06a687",
   "metadata": {},
   "source": [
    "<hr>\n",
    "\n",
    "## 2 - Low-Latency and Low-Energy data access\n",
    "\n",
    "In general, reducing interconnects and data calls/retrieval also implies reduced energy consumption.\n",
    "\n",
    "### Fundamental trade-offs\n",
    "\n",
    "1. **Memory latency generally lags behind capacity and bandwidth** in terms of development/progress/scaling since 1999. Memory latency has almost remained constant for two decades.\n",
    "\n",
    "<hr>\n",
    "\n",
    "**Note on DRAM**: \n",
    "\n",
    "    - DRAM latency is critical for performance (in-memory databases, graph/Tree Processing, in-memory data analytics, and datacenter workloads).\n",
    "    - New DRAM types have increased latency (manufacturers are developing many new types of DRAM but DRAM limits performance and energy improvement).\n",
    "    - DRAM latency remains a critical bottle neck for many applications.\n",
    "    - Bank parallelism is not fully utlized by a wide variety of applications.\n",
    "    - Spatial locality continues to provide significant performance benefits if it is iexploited by the memory subsystem.\n",
    "    - For some classes of applications, low-power memory can provide energy savings without sacrificing significant performance.\n",
    "    \n",
    "Modern DRAM is not designed for low latency and such latency is determined by worst case conditions and worst case devices.\n",
    "    \n",
    "<hr>\n",
    "\n",
    "    \n",
    "2. There is an increasing higher memory contention in multi-core and heterogeneous architectures (Exacerbate the bandwidth need and the QoS problem)\n",
    "\n",
    "3. Increases in processor design complexity due to the mechanisms incorporate to tolerate memory latency"
   ]
  },
  {
   "cell_type": "markdown",
   "id": "a653f44c",
   "metadata": {},
   "source": [
    "<hr>\n",
    "\n",
    "## 3 - Runahead Execution\n",
    "\n",
    "Cache Miss: *A cache miss occurs when the application attempts to retrieve information from cache memory, but the given item is not actually present in the cache. This is the opposite of a cache hit, in which the system does discover the requested item in the cache.*\n",
    "\n",
    "![runahead](images/runahead.png)\n",
    "\n",
    "**Runahead is a pre-fetching technique to compress stall times.** Runahead execution improves processor performance by accurately prefetching long-latency memory accesses. When a long-latency load causes the instruction window to fill up and halt the pipeline, the processor enters runahead mode and keeps speculatively executing code to trigger accurate prefetches.\n",
    "\n",
    "This leads to significant performance increases (+40% in 2008 sun ROCK)."
   ]
  },
  {
   "cell_type": "markdown",
   "id": "8b85b3d7",
   "metadata": {},
   "source": [
    "<hr>\n",
    "\n",
    "## 4 - Long Memory Latency: an issue of design\n",
    "\n",
    "### Tiered Latency DRAM\n",
    "\n",
    "DRAM chips are composed of stacked subarrays where the latency depends on the distance from a channel (subarrays are acceessed through an I/O, which also incurs some latency). The subarray latency is dominant over the I/O latency.\n",
    "\n",
    "![subarray](images/subarray.png)\n",
    "\n",
    "There is a clear trade-off between **area (die size)** and **latency**. A shorter bitline can help mitigate this issue. \n",
    "\n",
    "**TL-DRAM is a substrate that can be leveraged by the hardware and/or software.**\n",
    "\n",
    "<u>Many potential uses:</u>\n",
    "\n",
    "1. Using neear segment as hardware-managed inclusive cache to far segment.\n",
    "2. Using near segment as hardware-managed exclusive cache to far segment\n",
    "3. profile-based page mapping by operating system\n",
    "4. Simply replace DRAM with TL-DRAM\n",
    "\n",
    "### LISA: Low-Cost Inter-Linked Subarrays\n",
    "\n",
    "LISA allow fast bulk data movement between subarrays as it relies on a **versatile substrate**.\n",
    "\n",
    "You can perform **row buffer movement** (RBM) where a row of data is moved into an activated row buffer to a precharged one.\n",
    "\n",
    "### CROW: The Copy Row Substrate\n",
    "\n",
    "### SALP: Reducing DRAM Bank Conflict Impact\n",
    "\n",
    "**Problem**: Bank conflicts are costly for performance and energy.\n",
    "\n",
    "**Goal**: Reduce bank conflicts without adding more banks (*low cost*)\n",
    "\n",
    "**Observation 1**: A DRAM bank is divided into subarrays and each subarray has its own local row buffer.\n",
    "\n",
    "**Observation 2**: Subarrays are mostly independent except when sharing global structures to reduce costs\n",
    "\n",
    "**Key Idea**: Minimally reduce sharing of global structures (reduce sharing of global decoded [enables almost parallel access to subarrays], global row buffer [utilizes multiple local row buffers])."
   ]
  },
  {
   "cell_type": "markdown",
   "id": "afb0b253",
   "metadata": {},
   "source": [
    "<hr>\n",
    "\n",
    "## 5 - "
   ]
  },
  {
   "cell_type": "markdown",
   "id": "cbdb9410",
   "metadata": {},
   "source": [
    "<hr>\n",
    "\n",
    "## 5 - "
   ]
  },
  {
   "cell_type": "markdown",
   "id": "ecc21f8b",
   "metadata": {},
   "source": [
    "<hr>\n",
    "\n",
    "## 5 - "
   ]
  },
  {
   "cell_type": "markdown",
   "id": "4261d9c0",
   "metadata": {},
   "source": [
    "<hr>\n",
    "\n",
    "## 5 - "
   ]
  }
 ],
 "metadata": {
  "kernelspec": {
   "display_name": "Python 3",
   "language": "python",
   "name": "python3"
  },
  "language_info": {
   "codemirror_mode": {
    "name": "ipython",
    "version": 3
   },
   "file_extension": ".py",
   "mimetype": "text/x-python",
   "name": "python",
   "nbconvert_exporter": "python",
   "pygments_lexer": "ipython3",
   "version": "3.8.8"
  }
 },
 "nbformat": 4,
 "nbformat_minor": 5
}
