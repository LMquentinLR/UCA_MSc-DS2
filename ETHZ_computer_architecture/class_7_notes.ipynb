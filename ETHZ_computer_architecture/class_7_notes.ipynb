{
 "cells": [
  {
   "cell_type": "markdown",
   "id": "32b3d235",
   "metadata": {},
   "source": [
    "# Lecture 7: Processing Using Memory\n",
    "\n",
    "*Notes*\n",
    "\n",
    "<hr>"
   ]
  },
  {
   "cell_type": "markdown",
   "id": "40fbb548",
   "metadata": {},
   "source": [
    "## 1 - Summary\n",
    "\n",
    "Today's computing systems are overwhelmingly processor centric as **all data procesed in the processor**. THis comes at a great cost.\n",
    "\n",
    "**We need to enable computation with minimal data movement (i.e. compute where it makes sense)..**\n",
    "\n"
   ]
  },
  {
   "cell_type": "markdown",
   "id": "4e06a687",
   "metadata": {},
   "source": [
    "<hr>\n",
    "\n",
    "## 2 - New technology: RowClone as an accelerator\n",
    "\n",
    "### Low-Cost Interlined Subarrays (LISA)\n",
    "\n",
    "LISA allows **fast bulk data** movement between subarrays (wide datapath via isolation transitor). This versatile substrate that allows fast bulkk data copy, in-DRAM caching and fast pre-charge.\n",
    "\n",
    "### In-DRAM Bulk Bitwise AND/OR"
   ]
  },
  {
   "cell_type": "markdown",
   "id": "a653f44c",
   "metadata": {},
   "source": [
    "<hr>\n",
    "\n",
    "## 3 - New Technology: In-Memory Bulk Bitwise Operations\n",
    "\n",
    "DRAM could **support in-DRAM COPY, ZERO, AND, OR NOT, and MAJ**. The idea is to activate multiple row for computation, offering 30-60x performance and energy improvement.\n",
    "\n",
    "![triple](images/triple.png)"
   ]
  },
  {
   "cell_type": "markdown",
   "id": "8b85b3d7",
   "metadata": {},
   "source": [
    "<hr>\n",
    "\n",
    "## 4 - SINDRAM\n",
    "\n",
    "An end-to-end processing-using-DRAM framework that provides the programming interface, the ISA, and the hardware support for:\n",
    "\n",
    "- efficiently compute complex operations in DRAM\n",
    "- providing the ability to implement arbitrary operations as required\n",
    "- using an in-DRAM massively-parallel sIMD substrate that requires minimal changes to DRAM architecture\n",
    "\n",
    "### PuM Substrate\n",
    "\n",
    "SIMDRAM framework is built around a DRAM substrate that enables two techniques:\n",
    "\n",
    "- **Vertical data layout** ordered from most significant bit to least significant bit (Pros compared to the conventional horizontal layout\n",
    "- Majority based computation\n",
    "\n",
    "![simdram](images/simdram.png)\n",
    "\n",
    "![simdram2](images/simdram2.png)\n",
    "\n",
    "### Framework\n",
    "\n",
    "- **Step 1**: Naive MAJ/NOT Implementation -> Efficient MAJ/NOT Implementation (generates an optimized MAJ/NOT implementation of the desired operations). \n",
    "- **Step 2**: Generates the sequence of DRAM command (Task 1: allocate DRAM rows to the operands, task 2: Generate micro-program)\n",
    "![computerows](images/computerows.png)\n",
    "\n",
    "- **Step **: \n",
    "- **Step **: \n",
    "- **Step **: \n",
    "- **Step **: \n",
    "- **Step **: \n",
    "- **Step **: "
   ]
  },
  {
   "cell_type": "code",
   "execution_count": null,
   "id": "c806d5db",
   "metadata": {},
   "outputs": [],
   "source": []
  }
 ],
 "metadata": {
  "kernelspec": {
   "display_name": "Python 3",
   "language": "python",
   "name": "python3"
  },
  "language_info": {
   "codemirror_mode": {
    "name": "ipython",
    "version": 3
   },
   "file_extension": ".py",
   "mimetype": "text/x-python",
   "name": "python",
   "nbconvert_exporter": "python",
   "pygments_lexer": "ipython3",
   "version": "3.8.8"
  }
 },
 "nbformat": 4,
 "nbformat_minor": 5
}
