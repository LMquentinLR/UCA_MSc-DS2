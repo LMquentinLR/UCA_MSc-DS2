{
 "cells": [
  {
   "cell_type": "markdown",
   "id": "ca345040",
   "metadata": {},
   "source": [
    "*Seminar in Computer Architecture*\n",
    "\n",
    "# Introduction and Basics 2\n",
    "\n",
    "<hr>"
   ]
  },
  {
   "cell_type": "markdown",
   "id": "ef3cb746",
   "metadata": {},
   "source": [
    "Design constraints may drive the possibilities of development. No one is immune to such constrains."
   ]
  },
  {
   "cell_type": "markdown",
   "id": "3cd3755b",
   "metadata": {},
   "source": [
    "### Tradeoffs in design\n",
    "\n",
    "- functionality\n",
    "- reliability\n",
    "- space requirement\n",
    "- cost\n",
    "- expandability\n",
    "- comfort level of users\n",
    "- happiness level of users\n",
    "- aesthetics\n",
    "\n",
    "The goodness of design is always a critical question.\n",
    "\n",
    "\"Architecture should be based upon principle, and not upon precedent,\" (Frank Lloyd). "
   ]
  },
  {
   "cell_type": "markdown",
   "id": "a6662f92",
   "metadata": {},
   "source": [
    "## The power of abstraction\n",
    "\n",
    "**Levels of transformation create abstractions**\n",
    "\n",
    "- abstraction: a higher level only needs to know about the interface to the lower level, not how the lower level is implemented\n",
    "\n",
    "**Abstraction imporves productivity**"
   ]
  },
  {
   "cell_type": "markdown",
   "id": "2737d0b4",
   "metadata": {},
   "source": [
    "## Goal\n",
    "\n",
    "1. To understand how a processor works underneath the software layer and how decisions made in harware affect the software/programmer\n",
    "\n",
    "2. To enable you to be conformtable in making design and optimization decisions that cross the boundaries of different layers and system components"
   ]
  }
 ],
 "metadata": {
  "kernelspec": {
   "display_name": "Python 3 (ipykernel)",
   "language": "python",
   "name": "python3"
  },
  "language_info": {
   "codemirror_mode": {
    "name": "ipython",
    "version": 3
   },
   "file_extension": ".py",
   "mimetype": "text/x-python",
   "name": "python",
   "nbconvert_exporter": "python",
   "pygments_lexer": "ipython3",
   "version": "3.9.7"
  }
 },
 "nbformat": 4,
 "nbformat_minor": 5
}
