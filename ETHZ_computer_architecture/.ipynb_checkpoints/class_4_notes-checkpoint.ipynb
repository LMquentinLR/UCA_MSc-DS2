{
 "cells": [
  {
   "cell_type": "markdown",
   "id": "32b3d235",
   "metadata": {},
   "source": [
    "# Lecture 4: Memory Performance Attacks\n",
    "*Notes*\n",
    "\n",
    "<hr>\n",
    "\n",
    "*There is unfairness in the DRAM memory controller between the multi-core chip and the shared DRAM memory. Delays in slowdowns.*"
   ]
  },
  {
   "cell_type": "markdown",
   "id": "40fbb548",
   "metadata": {},
   "source": [
    "## 1 - Digging deeper in the DRAM Bank Operations\n",
    "\n",
    "**Definition**: When abstracted, DRAM bank is a 2D array of cells where data can be stored. A bank consists of many sub-arrays of cells (Transistors and capacitors) and other structures that enable access to sub-arrays and cells.\n",
    "\n",
    "\n",
    "**Access operation**:\n",
    "When a memory controller wants to access an address (a cross between a row and column), it sends the **row address** to the **row decoder**. The row is sent to the **Row Buffer**. Any column to be accessed is accessed from this buffer via the **column mux**. \n",
    "\n",
    "![bankop](images/bankop.png)\n",
    "\n",
    "When a new row needs to be accessed, the row decoder needs to be used again to erase the row buffer. This row-conflict memory access(when the column mux cannot be solved with the current row buffer) and the subsequent operation takes a significant longer time than a row-hit access.\n",
    "\n",
    "Current controlers take advantage of this fact (commonly used scheduling policy (FR-FCFS, 2000):\n",
    "- Row-hit first\n",
    "- Oldest first\n",
    "\n",
    "This scheduling policy aims at maximizing DRAM efficiency.\n",
    "\n",
    "### POINT IS: DRAM scheduling policies are unfaire to some application\n",
    "\n",
    "- Row-hit first: unfairly prioritizes apps with high row buffer locality (e.g. threads that keep on accessing the same row)\n",
    "- Oldest first: unfairly prioritizes memory-intensive applications\n",
    "\n",
    "> **DRAM controller are vulnerable to denial of service attacks**\n",
    ">\n",
    "> unable to enforce priorities or SLA\n",
    ">\n",
    "> low system performance\n",
    "\n",
    "![bankop](images/memperf.png)\n",
    "\n",
    "### Distributed Denial of Service in Networked Multi-Core System\n",
    "\n",
    "![mc](images/multicore.png)\n",
    "\n",
    "### Conclusion\n",
    "\n",
    "- introduced the notion of memory performance attacks in shared DRAM memory system\n",
    "- unfaire DRAM scheduling is the cause of the vulnerability\n",
    "- more severe problem in future many-core system\n",
    "\n",
    "- we provide a novel definition of DRAM fairness (threads should experience equal slowdowns)\n",
    "- new DRAM scheduling algorithm enforces this definition (effectively preventing memory performance attacks)\n",
    "\n",
    "Breaking the abstraction layers and knowing what is underneath enables you to understand and solve problems."
   ]
  },
  {
   "cell_type": "markdown",
   "id": "4e06a687",
   "metadata": {},
   "source": [
    "<hr>\n",
    "\n",
    "## 2 - Data Retention and Memory Refresh\n",
    "\n",
    "### DRAM Refresh\n",
    "\n",
    "DRAM capacitor charge leaks over time.\n",
    "\n",
    "The memory controller needs to refresh each row periodically to restore charge: \n",
    "- activate each row every N ms\n",
    "- typicall N = 64ms\n",
    "\n",
    "**Downsides of refresh**\n",
    "- Energy consumption\n",
    "- performance degradation (DRAM ramk/bank unavailable while refreshed)\n",
    "- QoS/predictability impact (long pause times during refresh)\n",
    "- Refresh rate limits DRAM capacity scaling (the smaller, the leakier)\n",
    "\n",
    "### RAIDR mechanism\n",
    "\n",
    "The RAIDR mechanism is a 3-step refresh mechanism to perform retention-aware intelligent DRAM refresh:\n",
    "\n",
    "1. **Profiling**: Identify the retention time of all DRAM rows (can be done at design time or during operation)\n",
    "\n",
    "2. **Binning**: Store rows into bins by retention time (use bloom filters for efficient and scalable storage, 1.25kb storage in controller for 32Gb DRAM memory)\n",
    "\n",
    "3. **Refreshing**: Memory controller refreshes rows in different bins at different rates\n",
    "\n",
    "However we see a **Variable Retention Time**. Many failing cells jump from very high retention time to low. The implications are that :\n",
    "- There does not seem to be a way of determining if a cell exhibits VRT without actually observing a cell exhibiting VRT. \n",
    "- VRT complicate retention time profiling by DRAM manufacturers.\n",
    "\n",
    "**Bloom filters**: probabilistic data structure that compactly represents set membership."
   ]
  },
  {
   "cell_type": "markdown",
   "id": "a653f44c",
   "metadata": {},
   "source": [
    "<hr>\n",
    "\n",
    "## 3 - "
   ]
  },
  {
   "cell_type": "markdown",
   "id": "8b85b3d7",
   "metadata": {},
   "source": [
    "<hr>\n",
    "\n",
    "## 4 - "
   ]
  }
 ],
 "metadata": {
  "kernelspec": {
   "display_name": "Python 3 (ipykernel)",
   "language": "python",
   "name": "python3"
  },
  "language_info": {
   "codemirror_mode": {
    "name": "ipython",
    "version": 3
   },
   "file_extension": ".py",
   "mimetype": "text/x-python",
   "name": "python",
   "nbconvert_exporter": "python",
   "pygments_lexer": "ipython3",
   "version": "3.9.7"
  }
 },
 "nbformat": 4,
 "nbformat_minor": 5
}
