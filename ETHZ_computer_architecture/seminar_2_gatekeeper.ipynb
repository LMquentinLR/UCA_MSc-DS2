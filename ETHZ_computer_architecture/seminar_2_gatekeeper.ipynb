{
 "cells": [
  {
   "cell_type": "markdown",
   "id": "d2e46f32",
   "metadata": {},
   "source": [
    "# Seminar 2 - GateKeeper and Fast Genome Analysis\n",
    "\n",
    "\"A new hardware architecture for accelerating pre-alignment in DNA short read mapping\"\n",
    "\n",
    "<hr>"
   ]
  },
  {
   "cell_type": "markdown",
   "id": "19c65ee7",
   "metadata": {},
   "source": [
    "## 1 - Executive Summary\n",
    "\n",
    "#### Problem\n",
    "Genomic similarity measurement is a computational bottleneck. Examining the similarity of highly dissimilar genomic sequences consumes an overwhelming majority of a modern read mapper's execution time.\n",
    "\n",
    "#### Goal\n",
    "Develop a fast and effective filter that can detect highly-dissimilar genomic sequences and eliminate them before invoking computationally costly alignment algorithms\n",
    "\n",
    "#### Key observation\n",
    "if two string differ by $\\epsilon$ edits, then every pairwise match can be aligned in at most $2\\epsilon$ shifts."
   ]
  },
  {
   "cell_type": "markdown",
   "id": "1ebddf21",
   "metadata": {},
   "source": [
    "### Result\n",
    "\n",
    "> Huge speedup of up to 130x ompared to the previous state of the art software solution"
   ]
  },
  {
   "cell_type": "markdown",
   "id": "68cea814",
   "metadata": {},
   "source": [
    "## 2 - Background, Problem, & Goal\n",
    "\n",
    "### Definition\n",
    "\n",
    "Genomic analysis is the identification, measurement of comparison of genomic features such as DNA sequence, structural variation, gene expression, or regulator and functional element annotation at a genomic scale.\n",
    "\n",
    "### Applications\n",
    "\n",
    "- understanding genetic variations\n",
    "- prediction of the presence and abundance of microbes in a sample\n",
    "- rapid surveillance of disease outbreaks\n",
    "- developing personalized medicine \n",
    "\n",
    "Genome sequencers are chopping genomes and lack information about the order and location of each piece. Solving the puzzle of a genome is a computationally expensive operation.\n",
    "\n",
    "### Read mapping\n",
    "\n",
    "Map **reads** to a known reference genome with some minor differences allowed.\n",
    "\n",
    "> A DNA sample in chemical format is read into a text format and suject to a reference genome in text format\n",
    "\n",
    "### Sequence alignment (Verification)\n",
    "\n",
    "**edit distance** is defined as the minimum number of edits (i.e. insertions, deletions, or substitutions) need to make the read exactly match the reference segments\n",
    "\n",
    "![align](images/alignment.png)\n",
    "\n",
    "### What makes sequence alignment a bottleneck\n",
    "\n",
    "A tsunami of sequencing data is generated. A specialized machine is used for sequencing but a general purpose computer is used for analysis (in a G-P computer, data movement dominates performance). \n",
    "\n",
    "> data movement dominates performance and is a major system energy bottleneck (accounting for 40 to 62% of expenses)\n",
    "\n",
    "However, **60% of the read mapper's execution time is spent on sequence alignment**.\n",
    "\n",
    "The alignment is computationally costly as it is a **quadratic time dynamic-programming algorithm**. Furthermore, **data dependencies** limit the computation parallelism (processing row or column after one another). The **entire matrix is computed** even though strings can be dissimilar (number of differences is computed only at the backtracking step). \n",
    "\n",
    "Finally, the search space is large and very dissimilar (**98% of candidate locations have high dissimilarity with a given read**, i.e. a lot of time is wasted)\n",
    "\n",
    "As such:\n",
    "\n",
    "> -> We need intelligent algorithms coupled with intelligent architectures to handle data well\n",
    ">\n",
    "> the goal is to use architecture to acceperate read mapping and **reduce the dependency to dynamic programming algorithms**"
   ]
  },
  {
   "cell_type": "markdown",
   "id": "e27f7bf9",
   "metadata": {},
   "source": [
    "## 3 -  Novelty of GateKeeper\n",
    "\n",
    "### Key Idea\n",
    "\n",
    "There are two types of genomic strings:\n",
    "- similar strings (with matches above a threshold)\n",
    "- dissimilar strings (with matches under a threshold)\n",
    "\n",
    "Dissimilar strings are ignored if the number of differences exceed a threshold. The expensiveness is based on the computation on dissimilar strings.\n",
    "\n",
    "the idea is to have a **filtering algorithm** that can filter out most of the incorrect mappings while preserving all the correct mappings\n",
    "\n",
    "> GateKeeper is an FPGA implementation implementing such an algorithm\n",
    "\n",
    "#### Observation\n",
    "\n",
    "1. *Quickly* find similar sequences using **hamming distance**\n",
    "\n",
    "2. Computed **Shifted Hamming Distance** for the rest of sequence pairs:\n",
    "     1. ANDing $2\\epsilon+1$ Hamming vectors of two strings, to identify dissimilar sequences\n",
    "\n",
    "3. Use only bit-parallel operations that nicely map to:\n",
    "    1. SIMD instructions, FPGA, logic layer of the 3d-stacked memory, and in-memory accelerators\n",
    "    \n",
    "### Hamming Distance ($\\sum\\oplus$)\n",
    "\n",
    "Hamming distance is used to perform the comparison between a string and a shifted string which has had one or more deletion. \n",
    "\n",
    "<u>Comparison of \"Istanbul\" and \"Istnbul\"</u>\n",
    "\n",
    "![shd](images/shifted_HD.png)\n",
    "\n",
    "![wlk](images/walkthrough.png)\n",
    "\n",
    "### Alignment Matrix vs. Neighborhood Map\n",
    "\n",
    "![alg](images/alignmentmat.png)"
   ]
  },
  {
   "cell_type": "markdown",
   "id": "b3e6c74d",
   "metadata": {},
   "source": [
    "## 4 - Hardware Architecture\n",
    "\n",
    "GateKeeper offers a significant solution based on FPGA pre-alignment filtering that greatly speeds up read mapping. However there are some issues with regards to memory management.\n",
    "\n",
    "FPGA-based pre-alignment can be integrated with the sequencer, however, which can yield even better results.\n",
    "\n",
    "### Strengths\n",
    "\n",
    "- New and simple solution to a critical problem\n",
    "- Gatekeeper does not sacrifice any of the aligner's capabilities, as it does not modify or replace the alignment step\n",
    "- the design is scalable, could add more processing cores in the future\n",
    "- Some sequencers use FPGA as well, so gateKEeper could be integrated into them\n",
    "- Greatly improves filtering speed and accuracy\n",
    "\n",
    "### Issues\n",
    "- The benefits of such a mechanism require an FPGA and advanced knowledge with computers. This may be problematic for some biologists, genomicists, geneticists.\n",
    "- The amendment of the random zeros is a simple \"hack\" to reduce the number of false positive, but there is no explanation why GateKeeper only flips the patterns 101, and 1001.\n",
    "- GateKeeper's accuracy degrades exponentially for $E\\gt2\\%$ and becomes ineffective for $E\\gt8\\%$."
   ]
  },
  {
   "cell_type": "code",
   "execution_count": null,
   "id": "70066641",
   "metadata": {},
   "outputs": [],
   "source": []
  }
 ],
 "metadata": {
  "kernelspec": {
   "display_name": "Python 3 (ipykernel)",
   "language": "python",
   "name": "python3"
  },
  "language_info": {
   "codemirror_mode": {
    "name": "ipython",
    "version": 3
   },
   "file_extension": ".py",
   "mimetype": "text/x-python",
   "name": "python",
   "nbconvert_exporter": "python",
   "pygments_lexer": "ipython3",
   "version": "3.9.7"
  }
 },
 "nbformat": 4,
 "nbformat_minor": 5
}
